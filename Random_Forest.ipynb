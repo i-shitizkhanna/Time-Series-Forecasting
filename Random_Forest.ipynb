{
 "cells": [
  {
   "cell_type": "code",
   "execution_count": 16,
   "metadata": {
    "id": "Gn3xhktiiW7H"
   },
   "outputs": [],
   "source": [
    "import numpy as np\n",
    "# import tensorflow as tf\n",
    "import pandas as pd\n",
    "import matplotlib.pyplot as plt"
   ]
  },
  {
   "cell_type": "code",
   "execution_count": 17,
   "metadata": {
    "id": "A_tBnhqiiW7M"
   },
   "outputs": [],
   "source": [
    "from numpy.random import seed\n",
    "seed(1)"
   ]
  },
  {
   "cell_type": "code",
   "execution_count": 18,
   "metadata": {
    "colab": {
     "base_uri": "https://localhost:8080/",
     "height": 590
    },
    "id": "V9InERQNiW7P",
    "outputId": "9dfb9b76-e6a5-4a1b-98de-8f0456e29032"
   },
   "outputs": [
    {
     "data": {
      "text/html": [
       "<div>\n",
       "<style scoped>\n",
       "    .dataframe tbody tr th:only-of-type {\n",
       "        vertical-align: middle;\n",
       "    }\n",
       "\n",
       "    .dataframe tbody tr th {\n",
       "        vertical-align: top;\n",
       "    }\n",
       "\n",
       "    .dataframe thead th {\n",
       "        text-align: right;\n",
       "    }\n",
       "</style>\n",
       "<table border=\"1\" class=\"dataframe\">\n",
       "  <thead>\n",
       "    <tr style=\"text-align: right;\">\n",
       "      <th></th>\n",
       "      <th>datetime_utc</th>\n",
       "      <th>_conds</th>\n",
       "      <th>_dewptm</th>\n",
       "      <th>_fog</th>\n",
       "      <th>_hail</th>\n",
       "      <th>_heatindexm</th>\n",
       "      <th>_hum</th>\n",
       "      <th>_precipm</th>\n",
       "      <th>_pressurem</th>\n",
       "      <th>_rain</th>\n",
       "      <th>_snow</th>\n",
       "      <th>_tempm</th>\n",
       "      <th>_thunder</th>\n",
       "      <th>_tornado</th>\n",
       "      <th>_vism</th>\n",
       "      <th>_wdird</th>\n",
       "      <th>_wdire</th>\n",
       "      <th>_wgustm</th>\n",
       "      <th>_windchillm</th>\n",
       "      <th>_wspdm</th>\n",
       "    </tr>\n",
       "  </thead>\n",
       "  <tbody>\n",
       "    <tr>\n",
       "      <th>0</th>\n",
       "      <td>19961101-11:00</td>\n",
       "      <td>Smoke</td>\n",
       "      <td>9.0</td>\n",
       "      <td>0</td>\n",
       "      <td>0</td>\n",
       "      <td>NaN</td>\n",
       "      <td>27.0</td>\n",
       "      <td>NaN</td>\n",
       "      <td>1010.0</td>\n",
       "      <td>0</td>\n",
       "      <td>0</td>\n",
       "      <td>30.0</td>\n",
       "      <td>0</td>\n",
       "      <td>0</td>\n",
       "      <td>5.00</td>\n",
       "      <td>280.0</td>\n",
       "      <td>West</td>\n",
       "      <td>NaN</td>\n",
       "      <td>NaN</td>\n",
       "      <td>7.4</td>\n",
       "    </tr>\n",
       "    <tr>\n",
       "      <th>1</th>\n",
       "      <td>19961101-12:00</td>\n",
       "      <td>Smoke</td>\n",
       "      <td>10.0</td>\n",
       "      <td>0</td>\n",
       "      <td>0</td>\n",
       "      <td>NaN</td>\n",
       "      <td>32.0</td>\n",
       "      <td>NaN</td>\n",
       "      <td>-9999.0</td>\n",
       "      <td>0</td>\n",
       "      <td>0</td>\n",
       "      <td>28.0</td>\n",
       "      <td>0</td>\n",
       "      <td>0</td>\n",
       "      <td>NaN</td>\n",
       "      <td>0.0</td>\n",
       "      <td>North</td>\n",
       "      <td>NaN</td>\n",
       "      <td>NaN</td>\n",
       "      <td>NaN</td>\n",
       "    </tr>\n",
       "    <tr>\n",
       "      <th>2</th>\n",
       "      <td>19961101-13:00</td>\n",
       "      <td>Smoke</td>\n",
       "      <td>11.0</td>\n",
       "      <td>0</td>\n",
       "      <td>0</td>\n",
       "      <td>NaN</td>\n",
       "      <td>44.0</td>\n",
       "      <td>NaN</td>\n",
       "      <td>-9999.0</td>\n",
       "      <td>0</td>\n",
       "      <td>0</td>\n",
       "      <td>24.0</td>\n",
       "      <td>0</td>\n",
       "      <td>0</td>\n",
       "      <td>NaN</td>\n",
       "      <td>0.0</td>\n",
       "      <td>North</td>\n",
       "      <td>NaN</td>\n",
       "      <td>NaN</td>\n",
       "      <td>NaN</td>\n",
       "    </tr>\n",
       "    <tr>\n",
       "      <th>3</th>\n",
       "      <td>19961101-14:00</td>\n",
       "      <td>Smoke</td>\n",
       "      <td>10.0</td>\n",
       "      <td>0</td>\n",
       "      <td>0</td>\n",
       "      <td>NaN</td>\n",
       "      <td>41.0</td>\n",
       "      <td>NaN</td>\n",
       "      <td>1010.0</td>\n",
       "      <td>0</td>\n",
       "      <td>0</td>\n",
       "      <td>24.0</td>\n",
       "      <td>0</td>\n",
       "      <td>0</td>\n",
       "      <td>2.00</td>\n",
       "      <td>0.0</td>\n",
       "      <td>North</td>\n",
       "      <td>NaN</td>\n",
       "      <td>NaN</td>\n",
       "      <td>NaN</td>\n",
       "    </tr>\n",
       "    <tr>\n",
       "      <th>4</th>\n",
       "      <td>19961101-16:00</td>\n",
       "      <td>Smoke</td>\n",
       "      <td>11.0</td>\n",
       "      <td>0</td>\n",
       "      <td>0</td>\n",
       "      <td>NaN</td>\n",
       "      <td>47.0</td>\n",
       "      <td>NaN</td>\n",
       "      <td>1011.0</td>\n",
       "      <td>0</td>\n",
       "      <td>0</td>\n",
       "      <td>23.0</td>\n",
       "      <td>0</td>\n",
       "      <td>0</td>\n",
       "      <td>1.20</td>\n",
       "      <td>0.0</td>\n",
       "      <td>North</td>\n",
       "      <td>NaN</td>\n",
       "      <td>NaN</td>\n",
       "      <td>0.0</td>\n",
       "    </tr>\n",
       "    <tr>\n",
       "      <th>...</th>\n",
       "      <td>...</td>\n",
       "      <td>...</td>\n",
       "      <td>...</td>\n",
       "      <td>...</td>\n",
       "      <td>...</td>\n",
       "      <td>...</td>\n",
       "      <td>...</td>\n",
       "      <td>...</td>\n",
       "      <td>...</td>\n",
       "      <td>...</td>\n",
       "      <td>...</td>\n",
       "      <td>...</td>\n",
       "      <td>...</td>\n",
       "      <td>...</td>\n",
       "      <td>...</td>\n",
       "      <td>...</td>\n",
       "      <td>...</td>\n",
       "      <td>...</td>\n",
       "      <td>...</td>\n",
       "      <td>...</td>\n",
       "    </tr>\n",
       "    <tr>\n",
       "      <th>99565</th>\n",
       "      <td>20161231-12:00</td>\n",
       "      <td>Partly Cloudy</td>\n",
       "      <td>15.0</td>\n",
       "      <td>0</td>\n",
       "      <td>0</td>\n",
       "      <td>NaN</td>\n",
       "      <td>77.0</td>\n",
       "      <td>NaN</td>\n",
       "      <td>1015.0</td>\n",
       "      <td>0</td>\n",
       "      <td>0</td>\n",
       "      <td>18.0</td>\n",
       "      <td>0</td>\n",
       "      <td>0</td>\n",
       "      <td>0.50</td>\n",
       "      <td>110.0</td>\n",
       "      <td>ESE</td>\n",
       "      <td>NaN</td>\n",
       "      <td>NaN</td>\n",
       "      <td>7.4</td>\n",
       "    </tr>\n",
       "    <tr>\n",
       "      <th>99566</th>\n",
       "      <td>20161231-13:00</td>\n",
       "      <td>Partly Cloudy</td>\n",
       "      <td>16.0</td>\n",
       "      <td>0</td>\n",
       "      <td>0</td>\n",
       "      <td>NaN</td>\n",
       "      <td>100.0</td>\n",
       "      <td>NaN</td>\n",
       "      <td>1014.0</td>\n",
       "      <td>0</td>\n",
       "      <td>0</td>\n",
       "      <td>16.0</td>\n",
       "      <td>0</td>\n",
       "      <td>0</td>\n",
       "      <td>0.80</td>\n",
       "      <td>90.0</td>\n",
       "      <td>East</td>\n",
       "      <td>NaN</td>\n",
       "      <td>NaN</td>\n",
       "      <td>3.7</td>\n",
       "    </tr>\n",
       "    <tr>\n",
       "      <th>99567</th>\n",
       "      <td>20161231-15:00</td>\n",
       "      <td>NaN</td>\n",
       "      <td>13.0</td>\n",
       "      <td>0</td>\n",
       "      <td>0</td>\n",
       "      <td>NaN</td>\n",
       "      <td>NaN</td>\n",
       "      <td>NaN</td>\n",
       "      <td>1016.0</td>\n",
       "      <td>0</td>\n",
       "      <td>0</td>\n",
       "      <td>NaN</td>\n",
       "      <td>0</td>\n",
       "      <td>0</td>\n",
       "      <td>0.05</td>\n",
       "      <td>10.0</td>\n",
       "      <td>North</td>\n",
       "      <td>NaN</td>\n",
       "      <td>NaN</td>\n",
       "      <td>59.3</td>\n",
       "    </tr>\n",
       "    <tr>\n",
       "      <th>99568</th>\n",
       "      <td>20161231-18:00</td>\n",
       "      <td>Patches of Fog</td>\n",
       "      <td>12.0</td>\n",
       "      <td>1</td>\n",
       "      <td>0</td>\n",
       "      <td>NaN</td>\n",
       "      <td>100.0</td>\n",
       "      <td>NaN</td>\n",
       "      <td>1016.0</td>\n",
       "      <td>0</td>\n",
       "      <td>0</td>\n",
       "      <td>12.0</td>\n",
       "      <td>0</td>\n",
       "      <td>0</td>\n",
       "      <td>0.50</td>\n",
       "      <td>NaN</td>\n",
       "      <td>NaN</td>\n",
       "      <td>NaN</td>\n",
       "      <td>NaN</td>\n",
       "      <td>0.0</td>\n",
       "    </tr>\n",
       "    <tr>\n",
       "      <th>99569</th>\n",
       "      <td>20161231-21:00</td>\n",
       "      <td>Patches of Fog</td>\n",
       "      <td>12.0</td>\n",
       "      <td>1</td>\n",
       "      <td>0</td>\n",
       "      <td>NaN</td>\n",
       "      <td>99.0</td>\n",
       "      <td>NaN</td>\n",
       "      <td>1016.0</td>\n",
       "      <td>0</td>\n",
       "      <td>0</td>\n",
       "      <td>12.0</td>\n",
       "      <td>0</td>\n",
       "      <td>0</td>\n",
       "      <td>0.50</td>\n",
       "      <td>NaN</td>\n",
       "      <td>NaN</td>\n",
       "      <td>NaN</td>\n",
       "      <td>NaN</td>\n",
       "      <td>0.0</td>\n",
       "    </tr>\n",
       "  </tbody>\n",
       "</table>\n",
       "<p>99570 rows × 20 columns</p>\n",
       "</div>"
      ],
      "text/plain": [
       "         datetime_utc          _conds  _dewptm  ...  _wgustm  _windchillm  _wspdm\n",
       "0      19961101-11:00           Smoke      9.0  ...      NaN          NaN     7.4\n",
       "1      19961101-12:00           Smoke     10.0  ...      NaN          NaN     NaN\n",
       "2      19961101-13:00           Smoke     11.0  ...      NaN          NaN     NaN\n",
       "3      19961101-14:00           Smoke     10.0  ...      NaN          NaN     NaN\n",
       "4      19961101-16:00           Smoke     11.0  ...      NaN          NaN     0.0\n",
       "...               ...             ...      ...  ...      ...          ...     ...\n",
       "99565  20161231-12:00   Partly Cloudy     15.0  ...      NaN          NaN     7.4\n",
       "99566  20161231-13:00   Partly Cloudy     16.0  ...      NaN          NaN     3.7\n",
       "99567  20161231-15:00             NaN     13.0  ...      NaN          NaN    59.3\n",
       "99568  20161231-18:00  Patches of Fog     12.0  ...      NaN          NaN     0.0\n",
       "99569  20161231-21:00  Patches of Fog     12.0  ...      NaN          NaN     0.0\n",
       "\n",
       "[99570 rows x 20 columns]"
      ]
     },
     "execution_count": 18,
     "metadata": {
      "tags": []
     },
     "output_type": "execute_result"
    }
   ],
   "source": [
    "dataset=pd.read_csv(\"Data/testset.csv\")\n",
    "dataset"
   ]
  },
  {
   "cell_type": "code",
   "execution_count": 19,
   "metadata": {
    "colab": {
     "base_uri": "https://localhost:8080/"
    },
    "id": "VfQ6g4GyiW7T",
    "outputId": "300ed626-06a9-42c4-c909-886504b5481b"
   },
   "outputs": [
    {
     "data": {
      "text/plain": [
       "Index(['datetimeutc', 'conds', 'dewptm', 'fog', 'hail', 'heatindexm', 'hum',\n",
       "       'precipm', 'pressurem', 'rain', 'snow', 'tempm', 'thunder', 'tornado',\n",
       "       'vism', 'wdird', 'wdire', 'wgustm', 'windchillm', 'wspdm'],\n",
       "      dtype='object')"
      ]
     },
     "execution_count": 19,
     "metadata": {
      "tags": []
     },
     "output_type": "execute_result"
    }
   ],
   "source": [
    "dataset.columns=dataset.columns.str.replace(\"_\",\"\")\n",
    "dataset.columns=dataset.columns.str.replace(\" \",\"\")\n",
    "dataset.columns"
   ]
  },
  {
   "cell_type": "code",
   "execution_count": 20,
   "metadata": {
    "colab": {
     "base_uri": "https://localhost:8080/",
     "height": 402
    },
    "id": "HFfybCqIiW7W",
    "outputId": "013acddc-a54b-4a44-e53d-57e15cb68f0d"
   },
   "outputs": [
    {
     "data": {
      "text/html": [
       "<div>\n",
       "<style scoped>\n",
       "    .dataframe tbody tr th:only-of-type {\n",
       "        vertical-align: middle;\n",
       "    }\n",
       "\n",
       "    .dataframe tbody tr th {\n",
       "        vertical-align: top;\n",
       "    }\n",
       "\n",
       "    .dataframe thead th {\n",
       "        text-align: right;\n",
       "    }\n",
       "</style>\n",
       "<table border=\"1\" class=\"dataframe\">\n",
       "  <thead>\n",
       "    <tr style=\"text-align: right;\">\n",
       "      <th></th>\n",
       "      <th>datetimeutc</th>\n",
       "      <th>hum</th>\n",
       "      <th>pressurem</th>\n",
       "      <th>tempm</th>\n",
       "      <th>wspdm</th>\n",
       "    </tr>\n",
       "  </thead>\n",
       "  <tbody>\n",
       "    <tr>\n",
       "      <th>0</th>\n",
       "      <td>19961101-11:00</td>\n",
       "      <td>27.0</td>\n",
       "      <td>1010.0</td>\n",
       "      <td>30.0</td>\n",
       "      <td>7.4</td>\n",
       "    </tr>\n",
       "    <tr>\n",
       "      <th>1</th>\n",
       "      <td>19961101-12:00</td>\n",
       "      <td>32.0</td>\n",
       "      <td>-9999.0</td>\n",
       "      <td>28.0</td>\n",
       "      <td>NaN</td>\n",
       "    </tr>\n",
       "    <tr>\n",
       "      <th>2</th>\n",
       "      <td>19961101-13:00</td>\n",
       "      <td>44.0</td>\n",
       "      <td>-9999.0</td>\n",
       "      <td>24.0</td>\n",
       "      <td>NaN</td>\n",
       "    </tr>\n",
       "    <tr>\n",
       "      <th>3</th>\n",
       "      <td>19961101-14:00</td>\n",
       "      <td>41.0</td>\n",
       "      <td>1010.0</td>\n",
       "      <td>24.0</td>\n",
       "      <td>NaN</td>\n",
       "    </tr>\n",
       "    <tr>\n",
       "      <th>4</th>\n",
       "      <td>19961101-16:00</td>\n",
       "      <td>47.0</td>\n",
       "      <td>1011.0</td>\n",
       "      <td>23.0</td>\n",
       "      <td>0.0</td>\n",
       "    </tr>\n",
       "    <tr>\n",
       "      <th>...</th>\n",
       "      <td>...</td>\n",
       "      <td>...</td>\n",
       "      <td>...</td>\n",
       "      <td>...</td>\n",
       "      <td>...</td>\n",
       "    </tr>\n",
       "    <tr>\n",
       "      <th>99565</th>\n",
       "      <td>20161231-12:00</td>\n",
       "      <td>77.0</td>\n",
       "      <td>1015.0</td>\n",
       "      <td>18.0</td>\n",
       "      <td>7.4</td>\n",
       "    </tr>\n",
       "    <tr>\n",
       "      <th>99566</th>\n",
       "      <td>20161231-13:00</td>\n",
       "      <td>100.0</td>\n",
       "      <td>1014.0</td>\n",
       "      <td>16.0</td>\n",
       "      <td>3.7</td>\n",
       "    </tr>\n",
       "    <tr>\n",
       "      <th>99567</th>\n",
       "      <td>20161231-15:00</td>\n",
       "      <td>NaN</td>\n",
       "      <td>1016.0</td>\n",
       "      <td>NaN</td>\n",
       "      <td>59.3</td>\n",
       "    </tr>\n",
       "    <tr>\n",
       "      <th>99568</th>\n",
       "      <td>20161231-18:00</td>\n",
       "      <td>100.0</td>\n",
       "      <td>1016.0</td>\n",
       "      <td>12.0</td>\n",
       "      <td>0.0</td>\n",
       "    </tr>\n",
       "    <tr>\n",
       "      <th>99569</th>\n",
       "      <td>20161231-21:00</td>\n",
       "      <td>99.0</td>\n",
       "      <td>1016.0</td>\n",
       "      <td>12.0</td>\n",
       "      <td>0.0</td>\n",
       "    </tr>\n",
       "  </tbody>\n",
       "</table>\n",
       "<p>99570 rows × 5 columns</p>\n",
       "</div>"
      ],
      "text/plain": [
       "          datetimeutc    hum  pressurem  tempm  wspdm\n",
       "0      19961101-11:00   27.0     1010.0   30.0    7.4\n",
       "1      19961101-12:00   32.0    -9999.0   28.0    NaN\n",
       "2      19961101-13:00   44.0    -9999.0   24.0    NaN\n",
       "3      19961101-14:00   41.0     1010.0   24.0    NaN\n",
       "4      19961101-16:00   47.0     1011.0   23.0    0.0\n",
       "...               ...    ...        ...    ...    ...\n",
       "99565  20161231-12:00   77.0     1015.0   18.0    7.4\n",
       "99566  20161231-13:00  100.0     1014.0   16.0    3.7\n",
       "99567  20161231-15:00    NaN     1016.0    NaN   59.3\n",
       "99568  20161231-18:00  100.0     1016.0   12.0    0.0\n",
       "99569  20161231-21:00   99.0     1016.0   12.0    0.0\n",
       "\n",
       "[99570 rows x 5 columns]"
      ]
     },
     "execution_count": 20,
     "metadata": {
      "tags": []
     },
     "output_type": "execute_result"
    }
   ],
   "source": [
    "dataset.drop(columns=[\"conds\",\"dewptm\",\"fog\",\"hail\",\"heatindexm\",\"precipm\",\"rain\",\"snow\",\"thunder\",\"tornado\",\"vism\",\"wdird\",\"wdire\",\"wgustm\",\"windchillm\"],inplace=True,axis=1)\n",
    "dataset"
   ]
  },
  {
   "cell_type": "code",
   "execution_count": 21,
   "metadata": {
    "colab": {
     "base_uri": "https://localhost:8080/"
    },
    "id": "uuwKVMYgiW7a",
    "outputId": "edca510e-3431-4da6-e0b7-65a02aee3420"
   },
   "outputs": [
    {
     "data": {
      "text/plain": [
       "datetimeutc       0\n",
       "hum             756\n",
       "pressurem       232\n",
       "tempm           672\n",
       "wspdm          2358\n",
       "dtype: int64"
      ]
     },
     "execution_count": 21,
     "metadata": {
      "tags": []
     },
     "output_type": "execute_result"
    }
   ],
   "source": [
    "dataset['pressurem'].replace('-9999.0',np.nan)\n",
    "dataset.replace(0,np.nan)\n",
    "dataset.isnull().sum()"
   ]
  },
  {
   "cell_type": "code",
   "execution_count": 22,
   "metadata": {
    "colab": {
     "base_uri": "https://localhost:8080/",
     "height": 402
    },
    "id": "gE4hP_fiiW7d",
    "outputId": "5b417b70-baae-4d26-fe20-6b931f20f31d"
   },
   "outputs": [
    {
     "data": {
      "text/html": [
       "<div>\n",
       "<style scoped>\n",
       "    .dataframe tbody tr th:only-of-type {\n",
       "        vertical-align: middle;\n",
       "    }\n",
       "\n",
       "    .dataframe tbody tr th {\n",
       "        vertical-align: top;\n",
       "    }\n",
       "\n",
       "    .dataframe thead th {\n",
       "        text-align: right;\n",
       "    }\n",
       "</style>\n",
       "<table border=\"1\" class=\"dataframe\">\n",
       "  <thead>\n",
       "    <tr style=\"text-align: right;\">\n",
       "      <th></th>\n",
       "      <th>datetimeutc</th>\n",
       "      <th>hum</th>\n",
       "      <th>pressurem</th>\n",
       "      <th>tempm</th>\n",
       "      <th>wspdm</th>\n",
       "    </tr>\n",
       "  </thead>\n",
       "  <tbody>\n",
       "    <tr>\n",
       "      <th>0</th>\n",
       "      <td>19961101-11:00</td>\n",
       "      <td>27.0</td>\n",
       "      <td>1010.0</td>\n",
       "      <td>30.0</td>\n",
       "      <td>7.4</td>\n",
       "    </tr>\n",
       "    <tr>\n",
       "      <th>1</th>\n",
       "      <td>19961101-12:00</td>\n",
       "      <td>32.0</td>\n",
       "      <td>-9999.0</td>\n",
       "      <td>28.0</td>\n",
       "      <td>NaN</td>\n",
       "    </tr>\n",
       "    <tr>\n",
       "      <th>2</th>\n",
       "      <td>19961101-13:00</td>\n",
       "      <td>44.0</td>\n",
       "      <td>-9999.0</td>\n",
       "      <td>24.0</td>\n",
       "      <td>NaN</td>\n",
       "    </tr>\n",
       "    <tr>\n",
       "      <th>3</th>\n",
       "      <td>19961101-14:00</td>\n",
       "      <td>41.0</td>\n",
       "      <td>1010.0</td>\n",
       "      <td>24.0</td>\n",
       "      <td>NaN</td>\n",
       "    </tr>\n",
       "    <tr>\n",
       "      <th>4</th>\n",
       "      <td>19961101-16:00</td>\n",
       "      <td>47.0</td>\n",
       "      <td>1011.0</td>\n",
       "      <td>23.0</td>\n",
       "      <td>0.0</td>\n",
       "    </tr>\n",
       "    <tr>\n",
       "      <th>...</th>\n",
       "      <td>...</td>\n",
       "      <td>...</td>\n",
       "      <td>...</td>\n",
       "      <td>...</td>\n",
       "      <td>...</td>\n",
       "    </tr>\n",
       "    <tr>\n",
       "      <th>99565</th>\n",
       "      <td>20161231-12:00</td>\n",
       "      <td>77.0</td>\n",
       "      <td>1015.0</td>\n",
       "      <td>18.0</td>\n",
       "      <td>7.4</td>\n",
       "    </tr>\n",
       "    <tr>\n",
       "      <th>99566</th>\n",
       "      <td>20161231-13:00</td>\n",
       "      <td>100.0</td>\n",
       "      <td>1014.0</td>\n",
       "      <td>16.0</td>\n",
       "      <td>3.7</td>\n",
       "    </tr>\n",
       "    <tr>\n",
       "      <th>99567</th>\n",
       "      <td>20161231-15:00</td>\n",
       "      <td>NaN</td>\n",
       "      <td>1016.0</td>\n",
       "      <td>NaN</td>\n",
       "      <td>59.3</td>\n",
       "    </tr>\n",
       "    <tr>\n",
       "      <th>99568</th>\n",
       "      <td>20161231-18:00</td>\n",
       "      <td>100.0</td>\n",
       "      <td>1016.0</td>\n",
       "      <td>12.0</td>\n",
       "      <td>0.0</td>\n",
       "    </tr>\n",
       "    <tr>\n",
       "      <th>99569</th>\n",
       "      <td>20161231-21:00</td>\n",
       "      <td>99.0</td>\n",
       "      <td>1016.0</td>\n",
       "      <td>12.0</td>\n",
       "      <td>0.0</td>\n",
       "    </tr>\n",
       "  </tbody>\n",
       "</table>\n",
       "<p>99570 rows × 5 columns</p>\n",
       "</div>"
      ],
      "text/plain": [
       "          datetimeutc    hum  pressurem  tempm  wspdm\n",
       "0      19961101-11:00   27.0     1010.0   30.0    7.4\n",
       "1      19961101-12:00   32.0    -9999.0   28.0    NaN\n",
       "2      19961101-13:00   44.0    -9999.0   24.0    NaN\n",
       "3      19961101-14:00   41.0     1010.0   24.0    NaN\n",
       "4      19961101-16:00   47.0     1011.0   23.0    0.0\n",
       "...               ...    ...        ...    ...    ...\n",
       "99565  20161231-12:00   77.0     1015.0   18.0    7.4\n",
       "99566  20161231-13:00  100.0     1014.0   16.0    3.7\n",
       "99567  20161231-15:00    NaN     1016.0    NaN   59.3\n",
       "99568  20161231-18:00  100.0     1016.0   12.0    0.0\n",
       "99569  20161231-21:00   99.0     1016.0   12.0    0.0\n",
       "\n",
       "[99570 rows x 5 columns]"
      ]
     },
     "execution_count": 22,
     "metadata": {
      "tags": []
     },
     "output_type": "execute_result"
    }
   ],
   "source": [
    "dataset"
   ]
  },
  {
   "cell_type": "code",
   "execution_count": 23,
   "metadata": {
    "id": "GJatJxT_iW7g"
   },
   "outputs": [],
   "source": [
    "hum_median=dataset[\"hum\"].median()\n",
    "dataset[\"hum\"].fillna(hum_median,inplace=True)\n",
    "pressurem_median=dataset[\"pressurem\"].median()\n",
    "dataset[\"pressurem\"].fillna(pressurem_median,inplace=True)\n",
    "wspdm_median=dataset[\"wspdm\"].median()\n",
    "dataset[\"wspdm\"].fillna(wspdm_median,inplace=True)\n",
    "tempm_median=dataset[\"tempm\"].median()\n",
    "dataset[\"tempm\"].fillna(tempm_median,inplace=True)"
   ]
  },
  {
   "cell_type": "code",
   "execution_count": 24,
   "metadata": {
    "colab": {
     "base_uri": "https://localhost:8080/"
    },
    "id": "l5_fkcj6iW7j",
    "outputId": "0d5578c7-0085-47cc-a1ef-53c08fa8b20c"
   },
   "outputs": [
    {
     "data": {
      "text/plain": [
       "datetimeutc    0\n",
       "hum            0\n",
       "pressurem      0\n",
       "tempm          0\n",
       "wspdm          0\n",
       "dtype: int64"
      ]
     },
     "execution_count": 24,
     "metadata": {
      "tags": []
     },
     "output_type": "execute_result"
    }
   ],
   "source": [
    "\n",
    "dataset.isnull().sum()"
   ]
  },
  {
   "cell_type": "code",
   "execution_count": 25,
   "metadata": {
    "colab": {
     "base_uri": "https://localhost:8080/",
     "height": 402
    },
    "id": "csKR4ycYiW7l",
    "outputId": "5fa9a0ca-af5e-438f-a43a-a86c866b43a6"
   },
   "outputs": [
    {
     "data": {
      "text/html": [
       "<div>\n",
       "<style scoped>\n",
       "    .dataframe tbody tr th:only-of-type {\n",
       "        vertical-align: middle;\n",
       "    }\n",
       "\n",
       "    .dataframe tbody tr th {\n",
       "        vertical-align: top;\n",
       "    }\n",
       "\n",
       "    .dataframe thead th {\n",
       "        text-align: right;\n",
       "    }\n",
       "</style>\n",
       "<table border=\"1\" class=\"dataframe\">\n",
       "  <thead>\n",
       "    <tr style=\"text-align: right;\">\n",
       "      <th></th>\n",
       "      <th>datetimeutc</th>\n",
       "      <th>hum</th>\n",
       "      <th>pressurem</th>\n",
       "      <th>tempm</th>\n",
       "      <th>wspdm</th>\n",
       "    </tr>\n",
       "  </thead>\n",
       "  <tbody>\n",
       "    <tr>\n",
       "      <th>0</th>\n",
       "      <td>19961101-11:00</td>\n",
       "      <td>27.0</td>\n",
       "      <td>1010.0</td>\n",
       "      <td>30.0</td>\n",
       "      <td>7.4</td>\n",
       "    </tr>\n",
       "    <tr>\n",
       "      <th>1</th>\n",
       "      <td>19961101-12:00</td>\n",
       "      <td>32.0</td>\n",
       "      <td>-9999.0</td>\n",
       "      <td>28.0</td>\n",
       "      <td>7.4</td>\n",
       "    </tr>\n",
       "    <tr>\n",
       "      <th>2</th>\n",
       "      <td>19961101-13:00</td>\n",
       "      <td>44.0</td>\n",
       "      <td>-9999.0</td>\n",
       "      <td>24.0</td>\n",
       "      <td>7.4</td>\n",
       "    </tr>\n",
       "    <tr>\n",
       "      <th>3</th>\n",
       "      <td>19961101-14:00</td>\n",
       "      <td>41.0</td>\n",
       "      <td>1010.0</td>\n",
       "      <td>24.0</td>\n",
       "      <td>7.4</td>\n",
       "    </tr>\n",
       "    <tr>\n",
       "      <th>4</th>\n",
       "      <td>19961101-16:00</td>\n",
       "      <td>47.0</td>\n",
       "      <td>1011.0</td>\n",
       "      <td>23.0</td>\n",
       "      <td>0.0</td>\n",
       "    </tr>\n",
       "    <tr>\n",
       "      <th>...</th>\n",
       "      <td>...</td>\n",
       "      <td>...</td>\n",
       "      <td>...</td>\n",
       "      <td>...</td>\n",
       "      <td>...</td>\n",
       "    </tr>\n",
       "    <tr>\n",
       "      <th>99565</th>\n",
       "      <td>20161231-12:00</td>\n",
       "      <td>77.0</td>\n",
       "      <td>1015.0</td>\n",
       "      <td>18.0</td>\n",
       "      <td>7.4</td>\n",
       "    </tr>\n",
       "    <tr>\n",
       "      <th>99566</th>\n",
       "      <td>20161231-13:00</td>\n",
       "      <td>100.0</td>\n",
       "      <td>1014.0</td>\n",
       "      <td>16.0</td>\n",
       "      <td>3.7</td>\n",
       "    </tr>\n",
       "    <tr>\n",
       "      <th>99567</th>\n",
       "      <td>20161231-15:00</td>\n",
       "      <td>58.0</td>\n",
       "      <td>1016.0</td>\n",
       "      <td>27.0</td>\n",
       "      <td>59.3</td>\n",
       "    </tr>\n",
       "    <tr>\n",
       "      <th>99568</th>\n",
       "      <td>20161231-18:00</td>\n",
       "      <td>100.0</td>\n",
       "      <td>1016.0</td>\n",
       "      <td>12.0</td>\n",
       "      <td>0.0</td>\n",
       "    </tr>\n",
       "    <tr>\n",
       "      <th>99569</th>\n",
       "      <td>20161231-21:00</td>\n",
       "      <td>99.0</td>\n",
       "      <td>1016.0</td>\n",
       "      <td>12.0</td>\n",
       "      <td>0.0</td>\n",
       "    </tr>\n",
       "  </tbody>\n",
       "</table>\n",
       "<p>99570 rows × 5 columns</p>\n",
       "</div>"
      ],
      "text/plain": [
       "          datetimeutc    hum  pressurem  tempm  wspdm\n",
       "0      19961101-11:00   27.0     1010.0   30.0    7.4\n",
       "1      19961101-12:00   32.0    -9999.0   28.0    7.4\n",
       "2      19961101-13:00   44.0    -9999.0   24.0    7.4\n",
       "3      19961101-14:00   41.0     1010.0   24.0    7.4\n",
       "4      19961101-16:00   47.0     1011.0   23.0    0.0\n",
       "...               ...    ...        ...    ...    ...\n",
       "99565  20161231-12:00   77.0     1015.0   18.0    7.4\n",
       "99566  20161231-13:00  100.0     1014.0   16.0    3.7\n",
       "99567  20161231-15:00   58.0     1016.0   27.0   59.3\n",
       "99568  20161231-18:00  100.0     1016.0   12.0    0.0\n",
       "99569  20161231-21:00   99.0     1016.0   12.0    0.0\n",
       "\n",
       "[99570 rows x 5 columns]"
      ]
     },
     "execution_count": 25,
     "metadata": {
      "tags": []
     },
     "output_type": "execute_result"
    }
   ],
   "source": [
    "dataset"
   ]
  },
  {
   "cell_type": "code",
   "execution_count": 26,
   "metadata": {
    "id": "2pVH86mHiW7o"
   },
   "outputs": [],
   "source": [
    "dataset[\"datetimeutc\"]=pd.to_datetime(dataset[\"datetimeutc\"])"
   ]
  },
  {
   "cell_type": "code",
   "execution_count": 27,
   "metadata": {
    "id": "3k3skHhTiW7q"
   },
   "outputs": [],
   "source": [
    "dataset.set_index(\"datetimeutc\",inplace=True)"
   ]
  },
  {
   "cell_type": "code",
   "execution_count": 28,
   "metadata": {
    "colab": {
     "base_uri": "https://localhost:8080/",
     "height": 431
    },
    "id": "uEHyYQmriW7t",
    "outputId": "d84bd524-c05f-4c2d-963d-f12eedbf7161"
   },
   "outputs": [
    {
     "data": {
      "text/html": [
       "<div>\n",
       "<style scoped>\n",
       "    .dataframe tbody tr th:only-of-type {\n",
       "        vertical-align: middle;\n",
       "    }\n",
       "\n",
       "    .dataframe tbody tr th {\n",
       "        vertical-align: top;\n",
       "    }\n",
       "\n",
       "    .dataframe thead th {\n",
       "        text-align: right;\n",
       "    }\n",
       "</style>\n",
       "<table border=\"1\" class=\"dataframe\">\n",
       "  <thead>\n",
       "    <tr style=\"text-align: right;\">\n",
       "      <th></th>\n",
       "      <th>hum</th>\n",
       "      <th>pressurem</th>\n",
       "      <th>tempm</th>\n",
       "      <th>wspdm</th>\n",
       "    </tr>\n",
       "    <tr>\n",
       "      <th>datetimeutc</th>\n",
       "      <th></th>\n",
       "      <th></th>\n",
       "      <th></th>\n",
       "      <th></th>\n",
       "    </tr>\n",
       "  </thead>\n",
       "  <tbody>\n",
       "    <tr>\n",
       "      <th>1996-11-01 11:00:00</th>\n",
       "      <td>27.0</td>\n",
       "      <td>1010.0</td>\n",
       "      <td>30.0</td>\n",
       "      <td>7.4</td>\n",
       "    </tr>\n",
       "    <tr>\n",
       "      <th>1996-11-01 12:00:00</th>\n",
       "      <td>32.0</td>\n",
       "      <td>-9999.0</td>\n",
       "      <td>28.0</td>\n",
       "      <td>7.4</td>\n",
       "    </tr>\n",
       "    <tr>\n",
       "      <th>1996-11-01 13:00:00</th>\n",
       "      <td>44.0</td>\n",
       "      <td>-9999.0</td>\n",
       "      <td>24.0</td>\n",
       "      <td>7.4</td>\n",
       "    </tr>\n",
       "    <tr>\n",
       "      <th>1996-11-01 14:00:00</th>\n",
       "      <td>41.0</td>\n",
       "      <td>1010.0</td>\n",
       "      <td>24.0</td>\n",
       "      <td>7.4</td>\n",
       "    </tr>\n",
       "    <tr>\n",
       "      <th>1996-11-01 16:00:00</th>\n",
       "      <td>47.0</td>\n",
       "      <td>1011.0</td>\n",
       "      <td>23.0</td>\n",
       "      <td>0.0</td>\n",
       "    </tr>\n",
       "    <tr>\n",
       "      <th>...</th>\n",
       "      <td>...</td>\n",
       "      <td>...</td>\n",
       "      <td>...</td>\n",
       "      <td>...</td>\n",
       "    </tr>\n",
       "    <tr>\n",
       "      <th>2016-12-31 12:00:00</th>\n",
       "      <td>77.0</td>\n",
       "      <td>1015.0</td>\n",
       "      <td>18.0</td>\n",
       "      <td>7.4</td>\n",
       "    </tr>\n",
       "    <tr>\n",
       "      <th>2016-12-31 13:00:00</th>\n",
       "      <td>100.0</td>\n",
       "      <td>1014.0</td>\n",
       "      <td>16.0</td>\n",
       "      <td>3.7</td>\n",
       "    </tr>\n",
       "    <tr>\n",
       "      <th>2016-12-31 15:00:00</th>\n",
       "      <td>58.0</td>\n",
       "      <td>1016.0</td>\n",
       "      <td>27.0</td>\n",
       "      <td>59.3</td>\n",
       "    </tr>\n",
       "    <tr>\n",
       "      <th>2016-12-31 18:00:00</th>\n",
       "      <td>100.0</td>\n",
       "      <td>1016.0</td>\n",
       "      <td>12.0</td>\n",
       "      <td>0.0</td>\n",
       "    </tr>\n",
       "    <tr>\n",
       "      <th>2016-12-31 21:00:00</th>\n",
       "      <td>99.0</td>\n",
       "      <td>1016.0</td>\n",
       "      <td>12.0</td>\n",
       "      <td>0.0</td>\n",
       "    </tr>\n",
       "  </tbody>\n",
       "</table>\n",
       "<p>99570 rows × 4 columns</p>\n",
       "</div>"
      ],
      "text/plain": [
       "                       hum  pressurem  tempm  wspdm\n",
       "datetimeutc                                        \n",
       "1996-11-01 11:00:00   27.0     1010.0   30.0    7.4\n",
       "1996-11-01 12:00:00   32.0    -9999.0   28.0    7.4\n",
       "1996-11-01 13:00:00   44.0    -9999.0   24.0    7.4\n",
       "1996-11-01 14:00:00   41.0     1010.0   24.0    7.4\n",
       "1996-11-01 16:00:00   47.0     1011.0   23.0    0.0\n",
       "...                    ...        ...    ...    ...\n",
       "2016-12-31 12:00:00   77.0     1015.0   18.0    7.4\n",
       "2016-12-31 13:00:00  100.0     1014.0   16.0    3.7\n",
       "2016-12-31 15:00:00   58.0     1016.0   27.0   59.3\n",
       "2016-12-31 18:00:00  100.0     1016.0   12.0    0.0\n",
       "2016-12-31 21:00:00   99.0     1016.0   12.0    0.0\n",
       "\n",
       "[99570 rows x 4 columns]"
      ]
     },
     "execution_count": 28,
     "metadata": {
      "tags": []
     },
     "output_type": "execute_result"
    }
   ],
   "source": [
    "dataset"
   ]
  },
  {
   "cell_type": "code",
   "execution_count": 29,
   "metadata": {
    "colab": {
     "base_uri": "https://localhost:8080/",
     "height": 431
    },
    "id": "sb12Xv4aiW7v",
    "outputId": "06bb81be-a46d-4934-c7d4-761f2d0e2960"
   },
   "outputs": [
    {
     "data": {
      "text/html": [
       "<div>\n",
       "<style scoped>\n",
       "    .dataframe tbody tr th:only-of-type {\n",
       "        vertical-align: middle;\n",
       "    }\n",
       "\n",
       "    .dataframe tbody tr th {\n",
       "        vertical-align: top;\n",
       "    }\n",
       "\n",
       "    .dataframe thead th {\n",
       "        text-align: right;\n",
       "    }\n",
       "</style>\n",
       "<table border=\"1\" class=\"dataframe\">\n",
       "  <thead>\n",
       "    <tr style=\"text-align: right;\">\n",
       "      <th></th>\n",
       "      <th>hum</th>\n",
       "      <th>pressurem</th>\n",
       "      <th>tempm</th>\n",
       "      <th>wspdm</th>\n",
       "    </tr>\n",
       "    <tr>\n",
       "      <th>datetimeutc</th>\n",
       "      <th></th>\n",
       "      <th></th>\n",
       "      <th></th>\n",
       "      <th></th>\n",
       "    </tr>\n",
       "  </thead>\n",
       "  <tbody>\n",
       "    <tr>\n",
       "      <th>1996-11-01</th>\n",
       "      <td>52.916667</td>\n",
       "      <td>-2659.666667</td>\n",
       "      <td>22.333333</td>\n",
       "      <td>6.166667</td>\n",
       "    </tr>\n",
       "    <tr>\n",
       "      <th>1996-11-02</th>\n",
       "      <td>48.625000</td>\n",
       "      <td>1009.833333</td>\n",
       "      <td>22.916667</td>\n",
       "      <td>7.950000</td>\n",
       "    </tr>\n",
       "    <tr>\n",
       "      <th>1996-11-03</th>\n",
       "      <td>55.958333</td>\n",
       "      <td>1010.500000</td>\n",
       "      <td>21.791667</td>\n",
       "      <td>5.020833</td>\n",
       "    </tr>\n",
       "    <tr>\n",
       "      <th>1996-11-04</th>\n",
       "      <td>48.055556</td>\n",
       "      <td>1011.333333</td>\n",
       "      <td>22.722222</td>\n",
       "      <td>2.266667</td>\n",
       "    </tr>\n",
       "    <tr>\n",
       "      <th>1996-11-05</th>\n",
       "      <td>29.400000</td>\n",
       "      <td>1011.800000</td>\n",
       "      <td>27.800000</td>\n",
       "      <td>10.020000</td>\n",
       "    </tr>\n",
       "    <tr>\n",
       "      <th>...</th>\n",
       "      <td>...</td>\n",
       "      <td>...</td>\n",
       "      <td>...</td>\n",
       "      <td>...</td>\n",
       "    </tr>\n",
       "    <tr>\n",
       "      <th>2016-12-27</th>\n",
       "      <td>67.550000</td>\n",
       "      <td>1017.200000</td>\n",
       "      <td>16.850000</td>\n",
       "      <td>8.335000</td>\n",
       "    </tr>\n",
       "    <tr>\n",
       "      <th>2016-12-28</th>\n",
       "      <td>68.043478</td>\n",
       "      <td>1015.565217</td>\n",
       "      <td>17.217391</td>\n",
       "      <td>3.547826</td>\n",
       "    </tr>\n",
       "    <tr>\n",
       "      <th>2016-12-29</th>\n",
       "      <td>87.857143</td>\n",
       "      <td>1016.904762</td>\n",
       "      <td>15.238095</td>\n",
       "      <td>6.000000</td>\n",
       "    </tr>\n",
       "    <tr>\n",
       "      <th>2016-12-30</th>\n",
       "      <td>89.666667</td>\n",
       "      <td>1017.904762</td>\n",
       "      <td>14.095238</td>\n",
       "      <td>6.266667</td>\n",
       "    </tr>\n",
       "    <tr>\n",
       "      <th>2016-12-31</th>\n",
       "      <td>85.550000</td>\n",
       "      <td>1016.100000</td>\n",
       "      <td>15.650000</td>\n",
       "      <td>7.325000</td>\n",
       "    </tr>\n",
       "  </tbody>\n",
       "</table>\n",
       "<p>7366 rows × 4 columns</p>\n",
       "</div>"
      ],
      "text/plain": [
       "                   hum    pressurem      tempm      wspdm\n",
       "datetimeutc                                              \n",
       "1996-11-01   52.916667 -2659.666667  22.333333   6.166667\n",
       "1996-11-02   48.625000  1009.833333  22.916667   7.950000\n",
       "1996-11-03   55.958333  1010.500000  21.791667   5.020833\n",
       "1996-11-04   48.055556  1011.333333  22.722222   2.266667\n",
       "1996-11-05   29.400000  1011.800000  27.800000  10.020000\n",
       "...                ...          ...        ...        ...\n",
       "2016-12-27   67.550000  1017.200000  16.850000   8.335000\n",
       "2016-12-28   68.043478  1015.565217  17.217391   3.547826\n",
       "2016-12-29   87.857143  1016.904762  15.238095   6.000000\n",
       "2016-12-30   89.666667  1017.904762  14.095238   6.266667\n",
       "2016-12-31   85.550000  1016.100000  15.650000   7.325000\n",
       "\n",
       "[7366 rows x 4 columns]"
      ]
     },
     "execution_count": 29,
     "metadata": {
      "tags": []
     },
     "output_type": "execute_result"
    }
   ],
   "source": [
    "dataset=dataset.resample(\"D\").mean()\n",
    "dataset"
   ]
  },
  {
   "cell_type": "code",
   "execution_count": 30,
   "metadata": {
    "id": "HfRh_-jhiW7y"
   },
   "outputs": [],
   "source": [
    "def extract_year(value):\n",
    "  value=value.strftime('%Y-%m-%d')\n",
    "  return (value[0:4])\n",
    "\n",
    "\n",
    "def extract_month(value):\n",
    "    value=value.strftime('%Y-%m-%d')\n",
    "    return (value[4:6])\n",
    "\n",
    "def extract_date(value):\n",
    "    value=value.strftime('%Y-%m-%d')\n",
    "    return (value[6:8])"
   ]
  },
  {
   "cell_type": "code",
   "execution_count": 31,
   "metadata": {
    "colab": {
     "base_uri": "https://localhost:8080/",
     "height": 402
    },
    "id": "N9FlmUHviW71",
    "outputId": "46635a74-b010-4fcd-818a-e7a27ef14c82"
   },
   "outputs": [
    {
     "data": {
      "text/html": [
       "<div>\n",
       "<style scoped>\n",
       "    .dataframe tbody tr th:only-of-type {\n",
       "        vertical-align: middle;\n",
       "    }\n",
       "\n",
       "    .dataframe tbody tr th {\n",
       "        vertical-align: top;\n",
       "    }\n",
       "\n",
       "    .dataframe thead th {\n",
       "        text-align: right;\n",
       "    }\n",
       "</style>\n",
       "<table border=\"1\" class=\"dataframe\">\n",
       "  <thead>\n",
       "    <tr style=\"text-align: right;\">\n",
       "      <th></th>\n",
       "      <th>datetimeutc</th>\n",
       "      <th>hum</th>\n",
       "      <th>pressurem</th>\n",
       "      <th>tempm</th>\n",
       "      <th>wspdm</th>\n",
       "    </tr>\n",
       "  </thead>\n",
       "  <tbody>\n",
       "    <tr>\n",
       "      <th>0</th>\n",
       "      <td>1996-11-01</td>\n",
       "      <td>52.916667</td>\n",
       "      <td>-2659.666667</td>\n",
       "      <td>22.333333</td>\n",
       "      <td>6.166667</td>\n",
       "    </tr>\n",
       "    <tr>\n",
       "      <th>1</th>\n",
       "      <td>1996-11-02</td>\n",
       "      <td>48.625000</td>\n",
       "      <td>1009.833333</td>\n",
       "      <td>22.916667</td>\n",
       "      <td>7.950000</td>\n",
       "    </tr>\n",
       "    <tr>\n",
       "      <th>2</th>\n",
       "      <td>1996-11-03</td>\n",
       "      <td>55.958333</td>\n",
       "      <td>1010.500000</td>\n",
       "      <td>21.791667</td>\n",
       "      <td>5.020833</td>\n",
       "    </tr>\n",
       "    <tr>\n",
       "      <th>3</th>\n",
       "      <td>1996-11-04</td>\n",
       "      <td>48.055556</td>\n",
       "      <td>1011.333333</td>\n",
       "      <td>22.722222</td>\n",
       "      <td>2.266667</td>\n",
       "    </tr>\n",
       "    <tr>\n",
       "      <th>4</th>\n",
       "      <td>1996-11-05</td>\n",
       "      <td>29.400000</td>\n",
       "      <td>1011.800000</td>\n",
       "      <td>27.800000</td>\n",
       "      <td>10.020000</td>\n",
       "    </tr>\n",
       "    <tr>\n",
       "      <th>...</th>\n",
       "      <td>...</td>\n",
       "      <td>...</td>\n",
       "      <td>...</td>\n",
       "      <td>...</td>\n",
       "      <td>...</td>\n",
       "    </tr>\n",
       "    <tr>\n",
       "      <th>7361</th>\n",
       "      <td>2016-12-27</td>\n",
       "      <td>67.550000</td>\n",
       "      <td>1017.200000</td>\n",
       "      <td>16.850000</td>\n",
       "      <td>8.335000</td>\n",
       "    </tr>\n",
       "    <tr>\n",
       "      <th>7362</th>\n",
       "      <td>2016-12-28</td>\n",
       "      <td>68.043478</td>\n",
       "      <td>1015.565217</td>\n",
       "      <td>17.217391</td>\n",
       "      <td>3.547826</td>\n",
       "    </tr>\n",
       "    <tr>\n",
       "      <th>7363</th>\n",
       "      <td>2016-12-29</td>\n",
       "      <td>87.857143</td>\n",
       "      <td>1016.904762</td>\n",
       "      <td>15.238095</td>\n",
       "      <td>6.000000</td>\n",
       "    </tr>\n",
       "    <tr>\n",
       "      <th>7364</th>\n",
       "      <td>2016-12-30</td>\n",
       "      <td>89.666667</td>\n",
       "      <td>1017.904762</td>\n",
       "      <td>14.095238</td>\n",
       "      <td>6.266667</td>\n",
       "    </tr>\n",
       "    <tr>\n",
       "      <th>7365</th>\n",
       "      <td>2016-12-31</td>\n",
       "      <td>85.550000</td>\n",
       "      <td>1016.100000</td>\n",
       "      <td>15.650000</td>\n",
       "      <td>7.325000</td>\n",
       "    </tr>\n",
       "  </tbody>\n",
       "</table>\n",
       "<p>7366 rows × 5 columns</p>\n",
       "</div>"
      ],
      "text/plain": [
       "     datetimeutc        hum    pressurem      tempm      wspdm\n",
       "0     1996-11-01  52.916667 -2659.666667  22.333333   6.166667\n",
       "1     1996-11-02  48.625000  1009.833333  22.916667   7.950000\n",
       "2     1996-11-03  55.958333  1010.500000  21.791667   5.020833\n",
       "3     1996-11-04  48.055556  1011.333333  22.722222   2.266667\n",
       "4     1996-11-05  29.400000  1011.800000  27.800000  10.020000\n",
       "...          ...        ...          ...        ...        ...\n",
       "7361  2016-12-27  67.550000  1017.200000  16.850000   8.335000\n",
       "7362  2016-12-28  68.043478  1015.565217  17.217391   3.547826\n",
       "7363  2016-12-29  87.857143  1016.904762  15.238095   6.000000\n",
       "7364  2016-12-30  89.666667  1017.904762  14.095238   6.266667\n",
       "7365  2016-12-31  85.550000  1016.100000  15.650000   7.325000\n",
       "\n",
       "[7366 rows x 5 columns]"
      ]
     },
     "execution_count": 31,
     "metadata": {
      "tags": []
     },
     "output_type": "execute_result"
    }
   ],
   "source": [
    "dataset.reset_index(inplace=True)\n",
    "dataset\n"
   ]
  },
  {
   "cell_type": "code",
   "execution_count": 32,
   "metadata": {
    "id": "JcvGwlNXiW73"
   },
   "outputs": [],
   "source": [
    "dataset['day'] = dataset['datetimeutc'].dt.day\n",
    "dataset['month'] = dataset['datetimeutc'].dt.month\n",
    "dataset['year'] = dataset['datetimeutc'].dt.year"
   ]
  },
  {
   "cell_type": "code",
   "execution_count": 33,
   "metadata": {
    "colab": {
     "base_uri": "https://localhost:8080/"
    },
    "id": "F-9jFDL4iW75",
    "outputId": "2c870af2-9239-43b3-d01b-795adc6c5c92"
   },
   "outputs": [
    {
     "data": {
      "text/plain": [
       "datetimeutc      0\n",
       "hum            141\n",
       "pressurem      141\n",
       "tempm          141\n",
       "wspdm          141\n",
       "day              0\n",
       "month            0\n",
       "year             0\n",
       "dtype: int64"
      ]
     },
     "execution_count": 33,
     "metadata": {
      "tags": []
     },
     "output_type": "execute_result"
    }
   ],
   "source": [
    "dataset.isnull().sum()"
   ]
  },
  {
   "cell_type": "code",
   "execution_count": 34,
   "metadata": {
    "colab": {
     "base_uri": "https://localhost:8080/"
    },
    "id": "-eJwjjDdiW79",
    "outputId": "b1cee054-3b71-4bfc-a110-5ace2c81cd8e"
   },
   "outputs": [
    {
     "name": "stderr",
     "output_type": "stream",
     "text": [
      "/usr/local/lib/python3.6/dist-packages/ipykernel_launcher.py:1: FutureWarning: DataFrame.mean and DataFrame.median with numeric_only=None will include datetime64 and datetime64tz columns in a future version.\n",
      "  \"\"\"Entry point for launching an IPython kernel.\n"
     ]
    }
   ],
   "source": [
    "dataset.fillna(dataset.mean(),inplace=True)"
   ]
  },
  {
   "cell_type": "code",
   "execution_count": 35,
   "metadata": {
    "colab": {
     "base_uri": "https://localhost:8080/"
    },
    "id": "GL1cX8vViW8A",
    "outputId": "c6b8a65f-f912-405f-f134-107d5e5604c9"
   },
   "outputs": [
    {
     "data": {
      "text/plain": [
       "datetimeutc    0\n",
       "hum            0\n",
       "pressurem      0\n",
       "tempm          0\n",
       "wspdm          0\n",
       "day            0\n",
       "month          0\n",
       "year           0\n",
       "dtype: int64"
      ]
     },
     "execution_count": 35,
     "metadata": {
      "tags": []
     },
     "output_type": "execute_result"
    }
   ],
   "source": [
    "dataset.isnull().sum()"
   ]
  },
  {
   "cell_type": "code",
   "execution_count": 36,
   "metadata": {
    "colab": {
     "base_uri": "https://localhost:8080/",
     "height": 402
    },
    "id": "Rh8AdetxiW8C",
    "outputId": "aed54eb4-a3f7-46d7-824b-d7ef48c2b655"
   },
   "outputs": [
    {
     "data": {
      "text/html": [
       "<div>\n",
       "<style scoped>\n",
       "    .dataframe tbody tr th:only-of-type {\n",
       "        vertical-align: middle;\n",
       "    }\n",
       "\n",
       "    .dataframe tbody tr th {\n",
       "        vertical-align: top;\n",
       "    }\n",
       "\n",
       "    .dataframe thead th {\n",
       "        text-align: right;\n",
       "    }\n",
       "</style>\n",
       "<table border=\"1\" class=\"dataframe\">\n",
       "  <thead>\n",
       "    <tr style=\"text-align: right;\">\n",
       "      <th></th>\n",
       "      <th>hum</th>\n",
       "      <th>pressurem</th>\n",
       "      <th>tempm</th>\n",
       "      <th>wspdm</th>\n",
       "      <th>day</th>\n",
       "      <th>month</th>\n",
       "      <th>year</th>\n",
       "    </tr>\n",
       "  </thead>\n",
       "  <tbody>\n",
       "    <tr>\n",
       "      <th>0</th>\n",
       "      <td>52.916667</td>\n",
       "      <td>-2659.666667</td>\n",
       "      <td>22.333333</td>\n",
       "      <td>6.166667</td>\n",
       "      <td>1</td>\n",
       "      <td>11</td>\n",
       "      <td>1996</td>\n",
       "    </tr>\n",
       "    <tr>\n",
       "      <th>1</th>\n",
       "      <td>48.625000</td>\n",
       "      <td>1009.833333</td>\n",
       "      <td>22.916667</td>\n",
       "      <td>7.950000</td>\n",
       "      <td>2</td>\n",
       "      <td>11</td>\n",
       "      <td>1996</td>\n",
       "    </tr>\n",
       "    <tr>\n",
       "      <th>2</th>\n",
       "      <td>55.958333</td>\n",
       "      <td>1010.500000</td>\n",
       "      <td>21.791667</td>\n",
       "      <td>5.020833</td>\n",
       "      <td>3</td>\n",
       "      <td>11</td>\n",
       "      <td>1996</td>\n",
       "    </tr>\n",
       "    <tr>\n",
       "      <th>3</th>\n",
       "      <td>48.055556</td>\n",
       "      <td>1011.333333</td>\n",
       "      <td>22.722222</td>\n",
       "      <td>2.266667</td>\n",
       "      <td>4</td>\n",
       "      <td>11</td>\n",
       "      <td>1996</td>\n",
       "    </tr>\n",
       "    <tr>\n",
       "      <th>4</th>\n",
       "      <td>29.400000</td>\n",
       "      <td>1011.800000</td>\n",
       "      <td>27.800000</td>\n",
       "      <td>10.020000</td>\n",
       "      <td>5</td>\n",
       "      <td>11</td>\n",
       "      <td>1996</td>\n",
       "    </tr>\n",
       "    <tr>\n",
       "      <th>...</th>\n",
       "      <td>...</td>\n",
       "      <td>...</td>\n",
       "      <td>...</td>\n",
       "      <td>...</td>\n",
       "      <td>...</td>\n",
       "      <td>...</td>\n",
       "      <td>...</td>\n",
       "    </tr>\n",
       "    <tr>\n",
       "      <th>7361</th>\n",
       "      <td>67.550000</td>\n",
       "      <td>1017.200000</td>\n",
       "      <td>16.850000</td>\n",
       "      <td>8.335000</td>\n",
       "      <td>27</td>\n",
       "      <td>12</td>\n",
       "      <td>2016</td>\n",
       "    </tr>\n",
       "    <tr>\n",
       "      <th>7362</th>\n",
       "      <td>68.043478</td>\n",
       "      <td>1015.565217</td>\n",
       "      <td>17.217391</td>\n",
       "      <td>3.547826</td>\n",
       "      <td>28</td>\n",
       "      <td>12</td>\n",
       "      <td>2016</td>\n",
       "    </tr>\n",
       "    <tr>\n",
       "      <th>7363</th>\n",
       "      <td>87.857143</td>\n",
       "      <td>1016.904762</td>\n",
       "      <td>15.238095</td>\n",
       "      <td>6.000000</td>\n",
       "      <td>29</td>\n",
       "      <td>12</td>\n",
       "      <td>2016</td>\n",
       "    </tr>\n",
       "    <tr>\n",
       "      <th>7364</th>\n",
       "      <td>89.666667</td>\n",
       "      <td>1017.904762</td>\n",
       "      <td>14.095238</td>\n",
       "      <td>6.266667</td>\n",
       "      <td>30</td>\n",
       "      <td>12</td>\n",
       "      <td>2016</td>\n",
       "    </tr>\n",
       "    <tr>\n",
       "      <th>7365</th>\n",
       "      <td>85.550000</td>\n",
       "      <td>1016.100000</td>\n",
       "      <td>15.650000</td>\n",
       "      <td>7.325000</td>\n",
       "      <td>31</td>\n",
       "      <td>12</td>\n",
       "      <td>2016</td>\n",
       "    </tr>\n",
       "  </tbody>\n",
       "</table>\n",
       "<p>7366 rows × 7 columns</p>\n",
       "</div>"
      ],
      "text/plain": [
       "            hum    pressurem      tempm      wspdm  day  month  year\n",
       "0     52.916667 -2659.666667  22.333333   6.166667    1     11  1996\n",
       "1     48.625000  1009.833333  22.916667   7.950000    2     11  1996\n",
       "2     55.958333  1010.500000  21.791667   5.020833    3     11  1996\n",
       "3     48.055556  1011.333333  22.722222   2.266667    4     11  1996\n",
       "4     29.400000  1011.800000  27.800000  10.020000    5     11  1996\n",
       "...         ...          ...        ...        ...  ...    ...   ...\n",
       "7361  67.550000  1017.200000  16.850000   8.335000   27     12  2016\n",
       "7362  68.043478  1015.565217  17.217391   3.547826   28     12  2016\n",
       "7363  87.857143  1016.904762  15.238095   6.000000   29     12  2016\n",
       "7364  89.666667  1017.904762  14.095238   6.266667   30     12  2016\n",
       "7365  85.550000  1016.100000  15.650000   7.325000   31     12  2016\n",
       "\n",
       "[7366 rows x 7 columns]"
      ]
     },
     "execution_count": 36,
     "metadata": {
      "tags": []
     },
     "output_type": "execute_result"
    }
   ],
   "source": [
    "dataset_rf=dataset.drop([\"datetimeutc\"],axis=1)\n",
    "dataset_rf"
   ]
  },
  {
   "cell_type": "code",
   "execution_count": 37,
   "metadata": {
    "colab": {
     "base_uri": "https://localhost:8080/"
    },
    "id": "IvXdVW4PiW8E",
    "outputId": "cf8404cc-c915-4e05-d2fb-f5218537a404"
   },
   "outputs": [
    {
     "data": {
      "text/plain": [
       "0       22.333333\n",
       "1       22.916667\n",
       "2       21.791667\n",
       "3       22.722222\n",
       "4       27.800000\n",
       "          ...    \n",
       "7361    16.850000\n",
       "7362    17.217391\n",
       "7363    15.238095\n",
       "7364    14.095238\n",
       "7365    15.650000\n",
       "Name: tempm, Length: 7366, dtype: float64"
      ]
     },
     "execution_count": 37,
     "metadata": {
      "tags": []
     },
     "output_type": "execute_result"
    }
   ],
   "source": [
    "y=dataset_rf[\"tempm\"]\n",
    "y"
   ]
  },
  {
   "cell_type": "code",
   "execution_count": 38,
   "metadata": {
    "id": "PnFjicT8iW8G"
   },
   "outputs": [],
   "source": [
    "dataset_rf.drop(\"tempm\",inplace=True,axis=1)"
   ]
  },
  {
   "cell_type": "code",
   "execution_count": 39,
   "metadata": {
    "colab": {
     "base_uri": "https://localhost:8080/"
    },
    "id": "Cqm3hl98iW8J",
    "outputId": "f8ffaed9-9647-482d-f1d7-4f94aeef95d8"
   },
   "outputs": [
    {
     "data": {
      "text/plain": [
       "Index(['hum', 'pressurem', 'wspdm', 'day', 'month', 'year'], dtype='object')"
      ]
     },
     "execution_count": 39,
     "metadata": {
      "tags": []
     },
     "output_type": "execute_result"
    }
   ],
   "source": [
    "dataset_rf.columns"
   ]
  },
  {
   "cell_type": "code",
   "execution_count": 40,
   "metadata": {
    "colab": {
     "base_uri": "https://localhost:8080/"
    },
    "id": "2juGEKExiW8M",
    "outputId": "7344f46f-870f-4d09-f679-eaf23e6f2eed"
   },
   "outputs": [
    {
     "data": {
      "text/plain": [
       "(7366, 6)"
      ]
     },
     "execution_count": 40,
     "metadata": {
      "tags": []
     },
     "output_type": "execute_result"
    }
   ],
   "source": [
    "X=dataset_rf.iloc[:,:].values\n",
    "X.shape"
   ]
  },
  {
   "cell_type": "code",
   "execution_count": 41,
   "metadata": {
    "colab": {
     "base_uri": "https://localhost:8080/"
    },
    "id": "nKYwc5LPiW8O",
    "outputId": "62b00bca-ad79-470f-a5a5-ba59fbad09f1"
   },
   "outputs": [
    {
     "data": {
      "text/plain": [
       "(7366,)"
      ]
     },
     "execution_count": 41,
     "metadata": {
      "tags": []
     },
     "output_type": "execute_result"
    }
   ],
   "source": [
    "y=y.values\n",
    "y.shape"
   ]
  },
  {
   "cell_type": "code",
   "execution_count": 42,
   "metadata": {
    "id": "g_gPScHIiW8Q"
   },
   "outputs": [],
   "source": [
    "from sklearn.model_selection import train_test_split"
   ]
  },
  {
   "cell_type": "code",
   "execution_count": 43,
   "metadata": {
    "id": "A2yHZbOniW8T"
   },
   "outputs": [],
   "source": [
    "X_train,X_test,y_train,y_test=train_test_split(X,y,test_size=0.33,random_state=0)"
   ]
  },
  {
   "cell_type": "code",
   "execution_count": 44,
   "metadata": {
    "colab": {
     "base_uri": "https://localhost:8080/"
    },
    "id": "TTto8QgEiW8W",
    "outputId": "512e418a-01c9-4669-e342-1d587b5bdb9b"
   },
   "outputs": [
    {
     "name": "stdout",
     "output_type": "stream",
     "text": [
      "Shape of X_train (4935, 6)\n",
      "Shape of X_test (2431, 6)\n",
      "Shape of y_train (4935,)\n",
      "Shape of y_test (2431,)\n"
     ]
    }
   ],
   "source": [
    "print(\"Shape of X_train\", X_train.shape)\n",
    "print(\"Shape of X_test\", X_test.shape)\n",
    "print(\"Shape of y_train\", y_train.shape)\n",
    "print(\"Shape of y_test\", y_test.shape)"
   ]
  },
  {
   "cell_type": "code",
   "execution_count": 45,
   "metadata": {
    "id": "ot6nWqLliW8Y"
   },
   "outputs": [],
   "source": [
    "from sklearn.preprocessing import StandardScaler\n",
    "sc_X=StandardScaler()\n",
    "sc_Y=StandardScaler()\n",
    "X_train=sc_X.fit_transform(X_train)\n",
    "y_train=np.array(y_train).reshape(-1,1)\n",
    "y_train=sc_Y.fit_transform(y_train)\n",
    "# y_train=np.array(y_train).reshape(-1,1)"
   ]
  },
  {
   "cell_type": "code",
   "execution_count": 46,
   "metadata": {
    "id": "dr7Sn9uXiW8a"
   },
   "outputs": [],
   "source": [
    "from sklearn.ensemble import RandomForestRegressor\n",
    "regressor = RandomForestRegressor(n_estimators = 100)"
   ]
  },
  {
   "cell_type": "code",
   "execution_count": 47,
   "metadata": {
    "colab": {
     "base_uri": "https://localhost:8080/"
    },
    "id": "PWLmO5oSiW8g",
    "outputId": "ac627d93-ce43-4427-db11-6e0bad30d7c2"
   },
   "outputs": [
    {
     "data": {
      "text/plain": [
       "RandomForestRegressor(bootstrap=True, ccp_alpha=0.0, criterion='mse',\n",
       "                      max_depth=None, max_features='auto', max_leaf_nodes=None,\n",
       "                      max_samples=None, min_impurity_decrease=0.0,\n",
       "                      min_impurity_split=None, min_samples_leaf=1,\n",
       "                      min_samples_split=2, min_weight_fraction_leaf=0.0,\n",
       "                      n_estimators=100, n_jobs=None, oob_score=False,\n",
       "                      random_state=None, verbose=0, warm_start=False)"
      ]
     },
     "execution_count": 47,
     "metadata": {
      "tags": []
     },
     "output_type": "execute_result"
    }
   ],
   "source": [
    "regressor.fit(X_train,y_train.ravel())"
   ]
  },
  {
   "cell_type": "code",
   "execution_count": 51,
   "metadata": {
    "id": "QWsRcU9r_S8I"
   },
   "outputs": [],
   "source": [
    "X_test=sc_X.fit_transform(X_test)\n",
    "y_pred=regressor.predict(X_test)"
   ]
  },
  {
   "cell_type": "code",
   "execution_count": 52,
   "metadata": {
    "colab": {
     "base_uri": "https://localhost:8080/"
    },
    "id": "Hu851cZqiW8h",
    "outputId": "2148d22a-1c45-4c3e-f7d6-91d8c894dda0"
   },
   "outputs": [
    {
     "data": {
      "text/plain": [
       "array([28.67005336, 32.23663941, 22.79511765, ..., 15.37880226,\n",
       "       34.9222786 , 19.32985298])"
      ]
     },
     "execution_count": 52,
     "metadata": {
      "tags": []
     },
     "output_type": "execute_result"
    }
   ],
   "source": [
    "y_pred=sc_Y.inverse_transform(y_pred)\n",
    "y_pred"
   ]
  },
  {
   "cell_type": "code",
   "execution_count": 53,
   "metadata": {
    "colab": {
     "base_uri": "https://localhost:8080/"
    },
    "id": "IHB6B6USiW8k",
    "outputId": "f3f42276-d3a7-4256-a9b8-00d1ba8a8e0b"
   },
   "outputs": [
    {
     "data": {
      "text/plain": [
       "array([28.875     , 32.5       , 24.75      , ..., 19.52173913,\n",
       "       32.875     , 14.71428571])"
      ]
     },
     "execution_count": 53,
     "metadata": {
      "tags": []
     },
     "output_type": "execute_result"
    }
   ],
   "source": [
    "y_test"
   ]
  },
  {
   "cell_type": "code",
   "execution_count": 54,
   "metadata": {
    "colab": {
     "base_uri": "https://localhost:8080/"
    },
    "id": "QZalh8ekiW8l",
    "outputId": "d3fe0391-3829-4a50-f9ff-b2693881db71"
   },
   "outputs": [
    {
     "name": "stdout",
     "output_type": "stream",
     "text": [
      "2.4394678273808723 1.8097410765612467 0.8889264123065137\n"
     ]
    }
   ],
   "source": [
    "# Accuracy\n",
    "from sklearn.metrics import mean_squared_error, mean_absolute_error,r2_score\n",
    "mse=mean_squared_error(y_test,y_pred,squared=False)\n",
    "mae=mean_absolute_error(y_test,y_pred)\n",
    "r2=r2_score(y_test,y_pred)\n",
    "print(f'{mse} {mae} {r2}')"
   ]
  },
  {
   "cell_type": "code",
   "execution_count": 57,
   "metadata": {
    "id": "JuSgm63jiW9P"
   },
   "outputs": [],
   "source": [
    "test=pd.read_csv(\"DailyDelhiClimateTest.csv\")"
   ]
  },
  {
   "cell_type": "code",
   "execution_count": 58,
   "metadata": {
    "colab": {
     "base_uri": "https://localhost:8080/",
     "height": 402
    },
    "id": "fVm_ix7SiW9S",
    "outputId": "7bc960d9-363c-46ae-b312-a4439c02363c"
   },
   "outputs": [
    {
     "data": {
      "text/html": [
       "<div>\n",
       "<style scoped>\n",
       "    .dataframe tbody tr th:only-of-type {\n",
       "        vertical-align: middle;\n",
       "    }\n",
       "\n",
       "    .dataframe tbody tr th {\n",
       "        vertical-align: top;\n",
       "    }\n",
       "\n",
       "    .dataframe thead th {\n",
       "        text-align: right;\n",
       "    }\n",
       "</style>\n",
       "<table border=\"1\" class=\"dataframe\">\n",
       "  <thead>\n",
       "    <tr style=\"text-align: right;\">\n",
       "      <th></th>\n",
       "      <th>date</th>\n",
       "      <th>meantemp</th>\n",
       "      <th>humidity</th>\n",
       "      <th>wind_speed</th>\n",
       "      <th>meanpressure</th>\n",
       "    </tr>\n",
       "  </thead>\n",
       "  <tbody>\n",
       "    <tr>\n",
       "      <th>0</th>\n",
       "      <td>2017-01-01</td>\n",
       "      <td>15.913043</td>\n",
       "      <td>85.869565</td>\n",
       "      <td>2.743478</td>\n",
       "      <td>59.000000</td>\n",
       "    </tr>\n",
       "    <tr>\n",
       "      <th>1</th>\n",
       "      <td>2017-01-02</td>\n",
       "      <td>18.500000</td>\n",
       "      <td>77.222222</td>\n",
       "      <td>2.894444</td>\n",
       "      <td>1018.277778</td>\n",
       "    </tr>\n",
       "    <tr>\n",
       "      <th>2</th>\n",
       "      <td>2017-01-03</td>\n",
       "      <td>17.111111</td>\n",
       "      <td>81.888889</td>\n",
       "      <td>4.016667</td>\n",
       "      <td>1018.333333</td>\n",
       "    </tr>\n",
       "    <tr>\n",
       "      <th>3</th>\n",
       "      <td>2017-01-04</td>\n",
       "      <td>18.700000</td>\n",
       "      <td>70.050000</td>\n",
       "      <td>4.545000</td>\n",
       "      <td>1015.700000</td>\n",
       "    </tr>\n",
       "    <tr>\n",
       "      <th>4</th>\n",
       "      <td>2017-01-05</td>\n",
       "      <td>18.388889</td>\n",
       "      <td>74.944444</td>\n",
       "      <td>3.300000</td>\n",
       "      <td>1014.333333</td>\n",
       "    </tr>\n",
       "    <tr>\n",
       "      <th>...</th>\n",
       "      <td>...</td>\n",
       "      <td>...</td>\n",
       "      <td>...</td>\n",
       "      <td>...</td>\n",
       "      <td>...</td>\n",
       "    </tr>\n",
       "    <tr>\n",
       "      <th>109</th>\n",
       "      <td>2017-04-20</td>\n",
       "      <td>34.500000</td>\n",
       "      <td>27.500000</td>\n",
       "      <td>5.562500</td>\n",
       "      <td>998.625000</td>\n",
       "    </tr>\n",
       "    <tr>\n",
       "      <th>110</th>\n",
       "      <td>2017-04-21</td>\n",
       "      <td>34.250000</td>\n",
       "      <td>39.375000</td>\n",
       "      <td>6.962500</td>\n",
       "      <td>999.875000</td>\n",
       "    </tr>\n",
       "    <tr>\n",
       "      <th>111</th>\n",
       "      <td>2017-04-22</td>\n",
       "      <td>32.900000</td>\n",
       "      <td>40.900000</td>\n",
       "      <td>8.890000</td>\n",
       "      <td>1001.600000</td>\n",
       "    </tr>\n",
       "    <tr>\n",
       "      <th>112</th>\n",
       "      <td>2017-04-23</td>\n",
       "      <td>32.875000</td>\n",
       "      <td>27.500000</td>\n",
       "      <td>9.962500</td>\n",
       "      <td>1002.125000</td>\n",
       "    </tr>\n",
       "    <tr>\n",
       "      <th>113</th>\n",
       "      <td>2017-04-24</td>\n",
       "      <td>32.000000</td>\n",
       "      <td>27.142857</td>\n",
       "      <td>12.157143</td>\n",
       "      <td>1004.142857</td>\n",
       "    </tr>\n",
       "  </tbody>\n",
       "</table>\n",
       "<p>114 rows × 5 columns</p>\n",
       "</div>"
      ],
      "text/plain": [
       "           date   meantemp   humidity  wind_speed  meanpressure\n",
       "0    2017-01-01  15.913043  85.869565    2.743478     59.000000\n",
       "1    2017-01-02  18.500000  77.222222    2.894444   1018.277778\n",
       "2    2017-01-03  17.111111  81.888889    4.016667   1018.333333\n",
       "3    2017-01-04  18.700000  70.050000    4.545000   1015.700000\n",
       "4    2017-01-05  18.388889  74.944444    3.300000   1014.333333\n",
       "..          ...        ...        ...         ...           ...\n",
       "109  2017-04-20  34.500000  27.500000    5.562500    998.625000\n",
       "110  2017-04-21  34.250000  39.375000    6.962500    999.875000\n",
       "111  2017-04-22  32.900000  40.900000    8.890000   1001.600000\n",
       "112  2017-04-23  32.875000  27.500000    9.962500   1002.125000\n",
       "113  2017-04-24  32.000000  27.142857   12.157143   1004.142857\n",
       "\n",
       "[114 rows x 5 columns]"
      ]
     },
     "execution_count": 58,
     "metadata": {
      "tags": []
     },
     "output_type": "execute_result"
    }
   ],
   "source": [
    "test"
   ]
  },
  {
   "cell_type": "code",
   "execution_count": 59,
   "metadata": {
    "id": "vwm9-gyHk3L5"
   },
   "outputs": [],
   "source": [
    "def extract_year(value):\n",
    "    return (value[0:4])"
   ]
  },
  {
   "cell_type": "code",
   "execution_count": 60,
   "metadata": {
    "id": "5Ypk3k4sk27F"
   },
   "outputs": [],
   "source": [
    "def extract_month(value):\n",
    "    return (value[5:7])"
   ]
  },
  {
   "cell_type": "code",
   "execution_count": 61,
   "metadata": {
    "id": "nh1raTrHk2Th"
   },
   "outputs": [],
   "source": [
    "def extract_date(value):\n",
    "    return (value[8:10])"
   ]
  },
  {
   "cell_type": "code",
   "execution_count": 62,
   "metadata": {
    "id": "P0UVUXfiiW9X"
   },
   "outputs": [],
   "source": [
    "test[\"year\"]=test[\"date\"].apply(lambda x : extract_year(x))"
   ]
  },
  {
   "cell_type": "code",
   "execution_count": 63,
   "metadata": {
    "id": "QlN6EjjmiW9a"
   },
   "outputs": [],
   "source": [
    "test[\"month\"]=test[\"date\"].apply(lambda x : extract_month(x))"
   ]
  },
  {
   "cell_type": "code",
   "execution_count": 64,
   "metadata": {
    "id": "04dkAE_qiW9e"
   },
   "outputs": [],
   "source": [
    "test[\"dat\"]=test[\"date\"].apply(lambda x : extract_date(x))"
   ]
  },
  {
   "cell_type": "code",
   "execution_count": 65,
   "metadata": {
    "colab": {
     "base_uri": "https://localhost:8080/",
     "height": 402
    },
    "id": "WtvcfWGtiW9j",
    "outputId": "85c8e058-d58b-4416-a256-61a61a3c2731"
   },
   "outputs": [
    {
     "data": {
      "text/html": [
       "<div>\n",
       "<style scoped>\n",
       "    .dataframe tbody tr th:only-of-type {\n",
       "        vertical-align: middle;\n",
       "    }\n",
       "\n",
       "    .dataframe tbody tr th {\n",
       "        vertical-align: top;\n",
       "    }\n",
       "\n",
       "    .dataframe thead th {\n",
       "        text-align: right;\n",
       "    }\n",
       "</style>\n",
       "<table border=\"1\" class=\"dataframe\">\n",
       "  <thead>\n",
       "    <tr style=\"text-align: right;\">\n",
       "      <th></th>\n",
       "      <th>date</th>\n",
       "      <th>meantemp</th>\n",
       "      <th>humidity</th>\n",
       "      <th>wind_speed</th>\n",
       "      <th>meanpressure</th>\n",
       "      <th>year</th>\n",
       "      <th>month</th>\n",
       "      <th>dat</th>\n",
       "    </tr>\n",
       "  </thead>\n",
       "  <tbody>\n",
       "    <tr>\n",
       "      <th>0</th>\n",
       "      <td>2017-01-01</td>\n",
       "      <td>15.913043</td>\n",
       "      <td>85.869565</td>\n",
       "      <td>2.743478</td>\n",
       "      <td>59.000000</td>\n",
       "      <td>2017</td>\n",
       "      <td>01</td>\n",
       "      <td>01</td>\n",
       "    </tr>\n",
       "    <tr>\n",
       "      <th>1</th>\n",
       "      <td>2017-01-02</td>\n",
       "      <td>18.500000</td>\n",
       "      <td>77.222222</td>\n",
       "      <td>2.894444</td>\n",
       "      <td>1018.277778</td>\n",
       "      <td>2017</td>\n",
       "      <td>01</td>\n",
       "      <td>02</td>\n",
       "    </tr>\n",
       "    <tr>\n",
       "      <th>2</th>\n",
       "      <td>2017-01-03</td>\n",
       "      <td>17.111111</td>\n",
       "      <td>81.888889</td>\n",
       "      <td>4.016667</td>\n",
       "      <td>1018.333333</td>\n",
       "      <td>2017</td>\n",
       "      <td>01</td>\n",
       "      <td>03</td>\n",
       "    </tr>\n",
       "    <tr>\n",
       "      <th>3</th>\n",
       "      <td>2017-01-04</td>\n",
       "      <td>18.700000</td>\n",
       "      <td>70.050000</td>\n",
       "      <td>4.545000</td>\n",
       "      <td>1015.700000</td>\n",
       "      <td>2017</td>\n",
       "      <td>01</td>\n",
       "      <td>04</td>\n",
       "    </tr>\n",
       "    <tr>\n",
       "      <th>4</th>\n",
       "      <td>2017-01-05</td>\n",
       "      <td>18.388889</td>\n",
       "      <td>74.944444</td>\n",
       "      <td>3.300000</td>\n",
       "      <td>1014.333333</td>\n",
       "      <td>2017</td>\n",
       "      <td>01</td>\n",
       "      <td>05</td>\n",
       "    </tr>\n",
       "    <tr>\n",
       "      <th>...</th>\n",
       "      <td>...</td>\n",
       "      <td>...</td>\n",
       "      <td>...</td>\n",
       "      <td>...</td>\n",
       "      <td>...</td>\n",
       "      <td>...</td>\n",
       "      <td>...</td>\n",
       "      <td>...</td>\n",
       "    </tr>\n",
       "    <tr>\n",
       "      <th>109</th>\n",
       "      <td>2017-04-20</td>\n",
       "      <td>34.500000</td>\n",
       "      <td>27.500000</td>\n",
       "      <td>5.562500</td>\n",
       "      <td>998.625000</td>\n",
       "      <td>2017</td>\n",
       "      <td>04</td>\n",
       "      <td>20</td>\n",
       "    </tr>\n",
       "    <tr>\n",
       "      <th>110</th>\n",
       "      <td>2017-04-21</td>\n",
       "      <td>34.250000</td>\n",
       "      <td>39.375000</td>\n",
       "      <td>6.962500</td>\n",
       "      <td>999.875000</td>\n",
       "      <td>2017</td>\n",
       "      <td>04</td>\n",
       "      <td>21</td>\n",
       "    </tr>\n",
       "    <tr>\n",
       "      <th>111</th>\n",
       "      <td>2017-04-22</td>\n",
       "      <td>32.900000</td>\n",
       "      <td>40.900000</td>\n",
       "      <td>8.890000</td>\n",
       "      <td>1001.600000</td>\n",
       "      <td>2017</td>\n",
       "      <td>04</td>\n",
       "      <td>22</td>\n",
       "    </tr>\n",
       "    <tr>\n",
       "      <th>112</th>\n",
       "      <td>2017-04-23</td>\n",
       "      <td>32.875000</td>\n",
       "      <td>27.500000</td>\n",
       "      <td>9.962500</td>\n",
       "      <td>1002.125000</td>\n",
       "      <td>2017</td>\n",
       "      <td>04</td>\n",
       "      <td>23</td>\n",
       "    </tr>\n",
       "    <tr>\n",
       "      <th>113</th>\n",
       "      <td>2017-04-24</td>\n",
       "      <td>32.000000</td>\n",
       "      <td>27.142857</td>\n",
       "      <td>12.157143</td>\n",
       "      <td>1004.142857</td>\n",
       "      <td>2017</td>\n",
       "      <td>04</td>\n",
       "      <td>24</td>\n",
       "    </tr>\n",
       "  </tbody>\n",
       "</table>\n",
       "<p>114 rows × 8 columns</p>\n",
       "</div>"
      ],
      "text/plain": [
       "           date   meantemp   humidity  wind_speed  meanpressure  year month dat\n",
       "0    2017-01-01  15.913043  85.869565    2.743478     59.000000  2017    01  01\n",
       "1    2017-01-02  18.500000  77.222222    2.894444   1018.277778  2017    01  02\n",
       "2    2017-01-03  17.111111  81.888889    4.016667   1018.333333  2017    01  03\n",
       "3    2017-01-04  18.700000  70.050000    4.545000   1015.700000  2017    01  04\n",
       "4    2017-01-05  18.388889  74.944444    3.300000   1014.333333  2017    01  05\n",
       "..          ...        ...        ...         ...           ...   ...   ...  ..\n",
       "109  2017-04-20  34.500000  27.500000    5.562500    998.625000  2017    04  20\n",
       "110  2017-04-21  34.250000  39.375000    6.962500    999.875000  2017    04  21\n",
       "111  2017-04-22  32.900000  40.900000    8.890000   1001.600000  2017    04  22\n",
       "112  2017-04-23  32.875000  27.500000    9.962500   1002.125000  2017    04  23\n",
       "113  2017-04-24  32.000000  27.142857   12.157143   1004.142857  2017    04  24\n",
       "\n",
       "[114 rows x 8 columns]"
      ]
     },
     "execution_count": 65,
     "metadata": {
      "tags": []
     },
     "output_type": "execute_result"
    }
   ],
   "source": [
    "test"
   ]
  },
  {
   "cell_type": "code",
   "execution_count": 66,
   "metadata": {
    "colab": {
     "base_uri": "https://localhost:8080/"
    },
    "id": "wjKtKCdLkqgt",
    "outputId": "ddc0d311-263b-431a-ca8c-cd70b43bef2b"
   },
   "outputs": [
    {
     "data": {
      "text/plain": [
       "date             object\n",
       "meantemp        float64\n",
       "humidity        float64\n",
       "wind_speed      float64\n",
       "meanpressure    float64\n",
       "year             object\n",
       "month            object\n",
       "dat              object\n",
       "dtype: object"
      ]
     },
     "execution_count": 66,
     "metadata": {
      "tags": []
     },
     "output_type": "execute_result"
    }
   ],
   "source": [
    "test.dtypes"
   ]
  },
  {
   "cell_type": "code",
   "execution_count": 67,
   "metadata": {
    "colab": {
     "base_uri": "https://localhost:8080/"
    },
    "id": "wGbgvgKmlsVy",
    "outputId": "a216cc4a-ac64-4b11-a2eb-b3cbfb814d1f"
   },
   "outputs": [
    {
     "data": {
      "text/plain": [
       "0      15.913043\n",
       "1      18.500000\n",
       "2      17.111111\n",
       "3      18.700000\n",
       "4      18.388889\n",
       "         ...    \n",
       "109    34.500000\n",
       "110    34.250000\n",
       "111    32.900000\n",
       "112    32.875000\n",
       "113    32.000000\n",
       "Name: meantemp, Length: 114, dtype: float64"
      ]
     },
     "execution_count": 67,
     "metadata": {
      "tags": []
     },
     "output_type": "execute_result"
    }
   ],
   "source": [
    "pred=test['meantemp']\n",
    "pred"
   ]
  },
  {
   "cell_type": "code",
   "execution_count": 68,
   "metadata": {
    "colab": {
     "base_uri": "https://localhost:8080/",
     "height": 402
    },
    "id": "rkJx3OQ_l3Nz",
    "outputId": "738e86ad-46d9-43b7-897a-0ffa22fd8711"
   },
   "outputs": [
    {
     "data": {
      "text/html": [
       "<div>\n",
       "<style scoped>\n",
       "    .dataframe tbody tr th:only-of-type {\n",
       "        vertical-align: middle;\n",
       "    }\n",
       "\n",
       "    .dataframe tbody tr th {\n",
       "        vertical-align: top;\n",
       "    }\n",
       "\n",
       "    .dataframe thead th {\n",
       "        text-align: right;\n",
       "    }\n",
       "</style>\n",
       "<table border=\"1\" class=\"dataframe\">\n",
       "  <thead>\n",
       "    <tr style=\"text-align: right;\">\n",
       "      <th></th>\n",
       "      <th>humidity</th>\n",
       "      <th>wind_speed</th>\n",
       "      <th>meanpressure</th>\n",
       "      <th>year</th>\n",
       "      <th>month</th>\n",
       "      <th>dat</th>\n",
       "    </tr>\n",
       "  </thead>\n",
       "  <tbody>\n",
       "    <tr>\n",
       "      <th>0</th>\n",
       "      <td>85.869565</td>\n",
       "      <td>2.743478</td>\n",
       "      <td>59.000000</td>\n",
       "      <td>2017</td>\n",
       "      <td>01</td>\n",
       "      <td>01</td>\n",
       "    </tr>\n",
       "    <tr>\n",
       "      <th>1</th>\n",
       "      <td>77.222222</td>\n",
       "      <td>2.894444</td>\n",
       "      <td>1018.277778</td>\n",
       "      <td>2017</td>\n",
       "      <td>01</td>\n",
       "      <td>02</td>\n",
       "    </tr>\n",
       "    <tr>\n",
       "      <th>2</th>\n",
       "      <td>81.888889</td>\n",
       "      <td>4.016667</td>\n",
       "      <td>1018.333333</td>\n",
       "      <td>2017</td>\n",
       "      <td>01</td>\n",
       "      <td>03</td>\n",
       "    </tr>\n",
       "    <tr>\n",
       "      <th>3</th>\n",
       "      <td>70.050000</td>\n",
       "      <td>4.545000</td>\n",
       "      <td>1015.700000</td>\n",
       "      <td>2017</td>\n",
       "      <td>01</td>\n",
       "      <td>04</td>\n",
       "    </tr>\n",
       "    <tr>\n",
       "      <th>4</th>\n",
       "      <td>74.944444</td>\n",
       "      <td>3.300000</td>\n",
       "      <td>1014.333333</td>\n",
       "      <td>2017</td>\n",
       "      <td>01</td>\n",
       "      <td>05</td>\n",
       "    </tr>\n",
       "    <tr>\n",
       "      <th>...</th>\n",
       "      <td>...</td>\n",
       "      <td>...</td>\n",
       "      <td>...</td>\n",
       "      <td>...</td>\n",
       "      <td>...</td>\n",
       "      <td>...</td>\n",
       "    </tr>\n",
       "    <tr>\n",
       "      <th>109</th>\n",
       "      <td>27.500000</td>\n",
       "      <td>5.562500</td>\n",
       "      <td>998.625000</td>\n",
       "      <td>2017</td>\n",
       "      <td>04</td>\n",
       "      <td>20</td>\n",
       "    </tr>\n",
       "    <tr>\n",
       "      <th>110</th>\n",
       "      <td>39.375000</td>\n",
       "      <td>6.962500</td>\n",
       "      <td>999.875000</td>\n",
       "      <td>2017</td>\n",
       "      <td>04</td>\n",
       "      <td>21</td>\n",
       "    </tr>\n",
       "    <tr>\n",
       "      <th>111</th>\n",
       "      <td>40.900000</td>\n",
       "      <td>8.890000</td>\n",
       "      <td>1001.600000</td>\n",
       "      <td>2017</td>\n",
       "      <td>04</td>\n",
       "      <td>22</td>\n",
       "    </tr>\n",
       "    <tr>\n",
       "      <th>112</th>\n",
       "      <td>27.500000</td>\n",
       "      <td>9.962500</td>\n",
       "      <td>1002.125000</td>\n",
       "      <td>2017</td>\n",
       "      <td>04</td>\n",
       "      <td>23</td>\n",
       "    </tr>\n",
       "    <tr>\n",
       "      <th>113</th>\n",
       "      <td>27.142857</td>\n",
       "      <td>12.157143</td>\n",
       "      <td>1004.142857</td>\n",
       "      <td>2017</td>\n",
       "      <td>04</td>\n",
       "      <td>24</td>\n",
       "    </tr>\n",
       "  </tbody>\n",
       "</table>\n",
       "<p>114 rows × 6 columns</p>\n",
       "</div>"
      ],
      "text/plain": [
       "      humidity  wind_speed  meanpressure  year month dat\n",
       "0    85.869565    2.743478     59.000000  2017    01  01\n",
       "1    77.222222    2.894444   1018.277778  2017    01  02\n",
       "2    81.888889    4.016667   1018.333333  2017    01  03\n",
       "3    70.050000    4.545000   1015.700000  2017    01  04\n",
       "4    74.944444    3.300000   1014.333333  2017    01  05\n",
       "..         ...         ...           ...   ...   ...  ..\n",
       "109  27.500000    5.562500    998.625000  2017    04  20\n",
       "110  39.375000    6.962500    999.875000  2017    04  21\n",
       "111  40.900000    8.890000   1001.600000  2017    04  22\n",
       "112  27.500000    9.962500   1002.125000  2017    04  23\n",
       "113  27.142857   12.157143   1004.142857  2017    04  24\n",
       "\n",
       "[114 rows x 6 columns]"
      ]
     },
     "execution_count": 68,
     "metadata": {
      "tags": []
     },
     "output_type": "execute_result"
    }
   ],
   "source": [
    "test.drop('meantemp',inplace=True,axis=1)\n",
    "test.drop('date',inplace=True,axis=1)\n",
    "# test.drop('meanpressure',inplace=True,axis=1)\n",
    "test"
   ]
  },
  {
   "cell_type": "code",
   "execution_count": 69,
   "metadata": {
    "colab": {
     "base_uri": "https://localhost:8080/"
    },
    "id": "YPj1retBmAM1",
    "outputId": "86e786c6-5568-41d2-b93e-ea60bc37382f"
   },
   "outputs": [
    {
     "data": {
      "text/plain": [
       "(114, 6)"
      ]
     },
     "execution_count": 69,
     "metadata": {
      "tags": []
     },
     "output_type": "execute_result"
    }
   ],
   "source": [
    "X=test.iloc[:,:].values\n",
    "X.shape"
   ]
  },
  {
   "cell_type": "code",
   "execution_count": 70,
   "metadata": {
    "colab": {
     "base_uri": "https://localhost:8080/"
    },
    "id": "K2lC4S1Xmk2L",
    "outputId": "2a81aab0-acc5-42ed-f1ab-9a5b4f48f905"
   },
   "outputs": [
    {
     "data": {
      "text/plain": [
       "(114,)"
      ]
     },
     "execution_count": 70,
     "metadata": {
      "tags": []
     },
     "output_type": "execute_result"
    }
   ],
   "source": [
    "pred=pred.values\n",
    "pred.shape"
   ]
  },
  {
   "cell_type": "code",
   "execution_count": 71,
   "metadata": {
    "id": "EX3LlODmIObT"
   },
   "outputs": [],
   "source": [
    "X=sc_X.fit_transform(X)"
   ]
  },
  {
   "cell_type": "code",
   "execution_count": 72,
   "metadata": {
    "id": "Ckpj-gAlm0V9"
   },
   "outputs": [],
   "source": [
    "y_pred=regressor.predict(X)"
   ]
  },
  {
   "cell_type": "code",
   "execution_count": 73,
   "metadata": {
    "id": "ybSgQr2MIahN"
   },
   "outputs": [],
   "source": [
    "y_pred=sc_Y.inverse_transform(y_pred)"
   ]
  },
  {
   "cell_type": "code",
   "execution_count": 74,
   "metadata": {
    "colab": {
     "base_uri": "https://localhost:8080/"
    },
    "id": "Fjpa707jm9gH",
    "outputId": "024f63aa-d1e9-4fdc-e111-cdd55d146361"
   },
   "outputs": [
    {
     "data": {
      "text/plain": [
       "array([14.31914286, 14.95925916, 14.79214988, 15.4837189 , 15.08069215,\n",
       "       15.54856768, 15.35342376, 15.05884034, 15.57402502, 16.74293683,\n",
       "       16.66866947, 16.2975281 , 16.18465577, 16.80697181, 16.73946391,\n",
       "       15.71984998, 16.6239215 , 16.73439302, 15.77217534, 15.96500385,\n",
       "       16.23799771, 16.642818  , 16.7096341 , 16.3841773 , 15.89044071,\n",
       "       14.47122401, 16.08821604, 14.35734177, 15.75341897, 16.52648298,\n",
       "       16.71103534, 26.58878833, 28.74863431, 26.27952877, 25.16196831,\n",
       "       26.21445326, 25.44613485, 28.80407062, 28.37146221, 28.78511088,\n",
       "       26.08281925, 28.46488053, 27.60255356, 28.45865987, 28.50038527,\n",
       "       28.43644158, 27.01149481, 26.57785349, 27.41391415, 28.06091716,\n",
       "       29.05153873, 26.67939801, 31.34330646, 27.88929261, 27.64425274,\n",
       "       27.82142706, 27.58492763, 29.53906061, 32.23160286, 32.97881643,\n",
       "       32.71450176, 32.85465662, 32.34107316, 26.89708907, 26.82052657,\n",
       "       33.24625285, 27.90962831, 30.80652983, 26.33502677, 32.0364339 ,\n",
       "       32.14714836, 27.18989283, 31.65059427, 32.45265902, 32.32604816,\n",
       "       27.41615323, 33.2834612 , 26.95362204, 26.78869793, 27.41708947,\n",
       "       27.71812798, 32.50178733, 27.37732796, 27.69919573, 27.26339338,\n",
       "       28.03849927, 27.7535007 , 28.2051271 , 28.02633428, 35.29795095,\n",
       "       15.37736017, 16.09828511, 16.27535149, 16.14308489, 15.75734378,\n",
       "       16.18897557, 16.03717503, 16.1820024 , 16.27908105, 16.11538116,\n",
       "       16.05731708, 16.00590799, 16.08368102, 16.09394322, 16.28121417,\n",
       "       16.0197654 , 16.14848102, 16.51140945, 15.60393064, 16.57215053,\n",
       "       17.6729672 , 15.24677908, 15.88071584, 15.75859679])"
      ]
     },
     "execution_count": 74,
     "metadata": {
      "tags": []
     },
     "output_type": "execute_result"
    }
   ],
   "source": [
    "y_pred"
   ]
  },
  {
   "cell_type": "code",
   "execution_count": 75,
   "metadata": {
    "colab": {
     "base_uri": "https://localhost:8080/"
    },
    "id": "gSeuJsuTIixl",
    "outputId": "d87a3fa6-bb3c-468f-9694-7ffd193dd4b9"
   },
   "outputs": [
    {
     "data": {
      "text/plain": [
       "array([15.91304348, 18.5       , 17.11111111, 18.7       , 18.38888889,\n",
       "       19.31818182, 14.70833333, 15.68421053, 14.57142857, 12.11111111,\n",
       "       11.        , 11.78947368, 13.23529412, 13.2       , 16.43478261,\n",
       "       14.65      , 11.72222222, 13.04166667, 14.61904762, 15.26315789,\n",
       "       15.39130435, 18.44      , 18.11764706, 18.34782609, 21.        ,\n",
       "       16.17857143, 16.5       , 14.86363636, 15.66666667, 16.44444444,\n",
       "       16.125     , 15.25      , 17.09090909, 15.63636364, 18.7       ,\n",
       "       18.63157895, 16.88888889, 15.125     , 15.7       , 15.375     ,\n",
       "       14.66666667, 15.625     , 16.25      , 16.33333333, 16.875     ,\n",
       "       17.57142857, 20.25      , 21.3       , 21.125     , 22.36363636,\n",
       "       23.375     , 21.83333333, 19.125     , 18.625     , 19.125     ,\n",
       "       19.        , 18.75      , 19.875     , 23.33333333, 24.46153846,\n",
       "       23.75      , 20.5       , 19.125     , 19.75      , 20.        ,\n",
       "       22.625     , 21.54545455, 20.78571429, 19.9375    , 18.53333333,\n",
       "       17.375     , 17.44444444, 18.        , 19.875     , 24.        ,\n",
       "       20.9       , 24.69230769, 24.66666667, 23.33333333, 25.        ,\n",
       "       27.25      , 28.        , 28.91666667, 26.5       , 29.1       ,\n",
       "       29.5       , 29.88888889, 31.        , 29.28571429, 30.625     ,\n",
       "       31.375     , 29.75      , 30.5       , 30.93333333, 29.23076923,\n",
       "       31.22222222, 27.        , 25.625     , 27.125     , 27.85714286,\n",
       "       29.25      , 29.25      , 29.66666667, 30.5       , 31.22222222,\n",
       "       31.        , 32.55555556, 34.        , 33.5       , 34.5       ,\n",
       "       34.25      , 32.9       , 32.875     , 32.        ])"
      ]
     },
     "execution_count": 75,
     "metadata": {
      "tags": []
     },
     "output_type": "execute_result"
    }
   ],
   "source": [
    "pred"
   ]
  },
  {
   "cell_type": "code",
   "execution_count": 76,
   "metadata": {
    "id": "XrfRuI9bm_Fi"
   },
   "outputs": [],
   "source": [
    "from sklearn.metrics import mean_squared_error, mean_absolute_error"
   ]
  },
  {
   "cell_type": "code",
   "execution_count": 82,
   "metadata": {
    "colab": {
     "base_uri": "https://localhost:8080/"
    },
    "id": "_OsXQjlJnOQK",
    "outputId": "cd96295b-c33e-4a40-a09b-7436d38b7f0b"
   },
   "outputs": [
    {
     "data": {
      "text/plain": [
       "9.477830322867609"
      ]
     },
     "execution_count": 82,
     "metadata": {
      "tags": []
     },
     "output_type": "execute_result"
    }
   ],
   "source": [
    "mean_squared_error(pred,y_pred,squared=False)"
   ]
  },
  {
   "cell_type": "code",
   "execution_count": 81,
   "metadata": {
    "colab": {
     "base_uri": "https://localhost:8080/"
    },
    "id": "70TPOXmInTwh",
    "outputId": "9e6c24bc-e91b-4a32-92f8-c9a41f7a4ce2"
   },
   "outputs": [
    {
     "data": {
      "text/plain": [
       "7.846860437372752"
      ]
     },
     "execution_count": 81,
     "metadata": {
      "tags": []
     },
     "output_type": "execute_result"
    }
   ],
   "source": [
    "mean_absolute_error(pred,y_pred)"
   ]
  },
  {
   "cell_type": "code",
   "execution_count": 80,
   "metadata": {
    "colab": {
     "base_uri": "https://localhost:8080/"
    },
    "id": "K1JslbXWKn8g",
    "outputId": "63292e92-a612-40e3-c7db-c03ee32537ad"
   },
   "outputs": [
    {
     "data": {
      "text/plain": [
       "-1.2403724480741802"
      ]
     },
     "execution_count": 80,
     "metadata": {
      "tags": []
     },
     "output_type": "execute_result"
    }
   ],
   "source": [
    "r2_score(pred,y_pred)"
   ]
  },
  {
   "cell_type": "code",
   "execution_count": null,
   "metadata": {
    "id": "7B281379_5bI"
   },
   "outputs": [],
   "source": []
  }
 ],
 "metadata": {
  "colab": {
   "name": "Logistic Classfier.ipynb",
   "provenance": []
  },
  "kernelspec": {
   "display_name": "Python 3",
   "language": "python",
   "name": "python3"
  },
  "language_info": {
   "codemirror_mode": {
    "name": "ipython",
    "version": 3
   },
   "file_extension": ".py",
   "mimetype": "text/x-python",
   "name": "python",
   "nbconvert_exporter": "python",
   "pygments_lexer": "ipython3",
   "version": "3.7.4"
  }
 },
 "nbformat": 4,
 "nbformat_minor": 1
}
