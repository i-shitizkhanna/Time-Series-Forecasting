{
 "cells": [
  {
   "cell_type": "code",
   "execution_count": 47,
   "metadata": {
    "id": "iAs1jNptZWJ2"
   },
   "outputs": [],
   "source": [
    "import numpy as np\n",
    "import tensorflow as tf\n",
    "import pandas as pd\n",
    "import matplotlib.pyplot as plt"
   ]
  },
  {
   "cell_type": "code",
   "execution_count": 3,
   "metadata": {
    "id": "cwze2zJ1ZfhK"
   },
   "outputs": [],
   "source": [
    "from numpy.random import seed\n",
    "seed(1)\n",
    "tf.random.set_seed(1)"
   ]
  },
  {
   "cell_type": "code",
   "execution_count": 29,
   "metadata": {
    "colab": {
     "base_uri": "https://localhost:8080/",
     "height": 590
    },
    "id": "Q7P_jdr3ZqIf",
    "outputId": "958dca88-e0e4-4cc7-9f8b-6dc09977649a"
   },
   "outputs": [
    {
     "data": {
      "text/html": [
       "<div>\n",
       "<style scoped>\n",
       "    .dataframe tbody tr th:only-of-type {\n",
       "        vertical-align: middle;\n",
       "    }\n",
       "\n",
       "    .dataframe tbody tr th {\n",
       "        vertical-align: top;\n",
       "    }\n",
       "\n",
       "    .dataframe thead th {\n",
       "        text-align: right;\n",
       "    }\n",
       "</style>\n",
       "<table border=\"1\" class=\"dataframe\">\n",
       "  <thead>\n",
       "    <tr style=\"text-align: right;\">\n",
       "      <th></th>\n",
       "      <th>datetime_utc</th>\n",
       "      <th>_conds</th>\n",
       "      <th>_dewptm</th>\n",
       "      <th>_fog</th>\n",
       "      <th>_hail</th>\n",
       "      <th>_heatindexm</th>\n",
       "      <th>_hum</th>\n",
       "      <th>_precipm</th>\n",
       "      <th>_pressurem</th>\n",
       "      <th>_rain</th>\n",
       "      <th>_snow</th>\n",
       "      <th>_tempm</th>\n",
       "      <th>_thunder</th>\n",
       "      <th>_tornado</th>\n",
       "      <th>_vism</th>\n",
       "      <th>_wdird</th>\n",
       "      <th>_wdire</th>\n",
       "      <th>_wgustm</th>\n",
       "      <th>_windchillm</th>\n",
       "      <th>_wspdm</th>\n",
       "    </tr>\n",
       "  </thead>\n",
       "  <tbody>\n",
       "    <tr>\n",
       "      <th>0</th>\n",
       "      <td>19961101-11:00</td>\n",
       "      <td>Smoke</td>\n",
       "      <td>9.0</td>\n",
       "      <td>0</td>\n",
       "      <td>0</td>\n",
       "      <td>NaN</td>\n",
       "      <td>27.0</td>\n",
       "      <td>NaN</td>\n",
       "      <td>1010.0</td>\n",
       "      <td>0</td>\n",
       "      <td>0</td>\n",
       "      <td>30.0</td>\n",
       "      <td>0</td>\n",
       "      <td>0</td>\n",
       "      <td>5.0</td>\n",
       "      <td>280.0</td>\n",
       "      <td>West</td>\n",
       "      <td>NaN</td>\n",
       "      <td>NaN</td>\n",
       "      <td>7.4</td>\n",
       "    </tr>\n",
       "    <tr>\n",
       "      <th>1</th>\n",
       "      <td>19961101-12:00</td>\n",
       "      <td>Smoke</td>\n",
       "      <td>10.0</td>\n",
       "      <td>0</td>\n",
       "      <td>0</td>\n",
       "      <td>NaN</td>\n",
       "      <td>32.0</td>\n",
       "      <td>NaN</td>\n",
       "      <td>-9999.0</td>\n",
       "      <td>0</td>\n",
       "      <td>0</td>\n",
       "      <td>28.0</td>\n",
       "      <td>0</td>\n",
       "      <td>0</td>\n",
       "      <td>NaN</td>\n",
       "      <td>0.0</td>\n",
       "      <td>North</td>\n",
       "      <td>NaN</td>\n",
       "      <td>NaN</td>\n",
       "      <td>NaN</td>\n",
       "    </tr>\n",
       "    <tr>\n",
       "      <th>2</th>\n",
       "      <td>19961101-13:00</td>\n",
       "      <td>Smoke</td>\n",
       "      <td>11.0</td>\n",
       "      <td>0</td>\n",
       "      <td>0</td>\n",
       "      <td>NaN</td>\n",
       "      <td>44.0</td>\n",
       "      <td>NaN</td>\n",
       "      <td>-9999.0</td>\n",
       "      <td>0</td>\n",
       "      <td>0</td>\n",
       "      <td>24.0</td>\n",
       "      <td>0</td>\n",
       "      <td>0</td>\n",
       "      <td>NaN</td>\n",
       "      <td>0.0</td>\n",
       "      <td>North</td>\n",
       "      <td>NaN</td>\n",
       "      <td>NaN</td>\n",
       "      <td>NaN</td>\n",
       "    </tr>\n",
       "    <tr>\n",
       "      <th>3</th>\n",
       "      <td>19961101-14:00</td>\n",
       "      <td>Smoke</td>\n",
       "      <td>10.0</td>\n",
       "      <td>0</td>\n",
       "      <td>0</td>\n",
       "      <td>NaN</td>\n",
       "      <td>41.0</td>\n",
       "      <td>NaN</td>\n",
       "      <td>1010.0</td>\n",
       "      <td>0</td>\n",
       "      <td>0</td>\n",
       "      <td>24.0</td>\n",
       "      <td>0</td>\n",
       "      <td>0</td>\n",
       "      <td>2.0</td>\n",
       "      <td>0.0</td>\n",
       "      <td>North</td>\n",
       "      <td>NaN</td>\n",
       "      <td>NaN</td>\n",
       "      <td>NaN</td>\n",
       "    </tr>\n",
       "    <tr>\n",
       "      <th>4</th>\n",
       "      <td>19961101-16:00</td>\n",
       "      <td>Smoke</td>\n",
       "      <td>11.0</td>\n",
       "      <td>0</td>\n",
       "      <td>0</td>\n",
       "      <td>NaN</td>\n",
       "      <td>47.0</td>\n",
       "      <td>NaN</td>\n",
       "      <td>1011.0</td>\n",
       "      <td>0</td>\n",
       "      <td>0</td>\n",
       "      <td>23.0</td>\n",
       "      <td>0</td>\n",
       "      <td>0</td>\n",
       "      <td>1.2</td>\n",
       "      <td>0.0</td>\n",
       "      <td>North</td>\n",
       "      <td>NaN</td>\n",
       "      <td>NaN</td>\n",
       "      <td>0.0</td>\n",
       "    </tr>\n",
       "    <tr>\n",
       "      <th>...</th>\n",
       "      <td>...</td>\n",
       "      <td>...</td>\n",
       "      <td>...</td>\n",
       "      <td>...</td>\n",
       "      <td>...</td>\n",
       "      <td>...</td>\n",
       "      <td>...</td>\n",
       "      <td>...</td>\n",
       "      <td>...</td>\n",
       "      <td>...</td>\n",
       "      <td>...</td>\n",
       "      <td>...</td>\n",
       "      <td>...</td>\n",
       "      <td>...</td>\n",
       "      <td>...</td>\n",
       "      <td>...</td>\n",
       "      <td>...</td>\n",
       "      <td>...</td>\n",
       "      <td>...</td>\n",
       "      <td>...</td>\n",
       "    </tr>\n",
       "    <tr>\n",
       "      <th>100985</th>\n",
       "      <td>20170424-06:00</td>\n",
       "      <td>Haze</td>\n",
       "      <td>17.0</td>\n",
       "      <td>0</td>\n",
       "      <td>0</td>\n",
       "      <td>NaN</td>\n",
       "      <td>25.0</td>\n",
       "      <td>NaN</td>\n",
       "      <td>1005.0</td>\n",
       "      <td>0</td>\n",
       "      <td>0</td>\n",
       "      <td>34.0</td>\n",
       "      <td>0</td>\n",
       "      <td>0</td>\n",
       "      <td>4.0</td>\n",
       "      <td>320.0</td>\n",
       "      <td>NW</td>\n",
       "      <td>NaN</td>\n",
       "      <td>NaN</td>\n",
       "      <td>11.1</td>\n",
       "    </tr>\n",
       "    <tr>\n",
       "      <th>100986</th>\n",
       "      <td>20170424-09:00</td>\n",
       "      <td>Haze</td>\n",
       "      <td>14.0</td>\n",
       "      <td>0</td>\n",
       "      <td>0</td>\n",
       "      <td>NaN</td>\n",
       "      <td>16.0</td>\n",
       "      <td>NaN</td>\n",
       "      <td>1003.0</td>\n",
       "      <td>0</td>\n",
       "      <td>0</td>\n",
       "      <td>38.0</td>\n",
       "      <td>0</td>\n",
       "      <td>0</td>\n",
       "      <td>4.0</td>\n",
       "      <td>320.0</td>\n",
       "      <td>NW</td>\n",
       "      <td>NaN</td>\n",
       "      <td>NaN</td>\n",
       "      <td>22.2</td>\n",
       "    </tr>\n",
       "    <tr>\n",
       "      <th>100987</th>\n",
       "      <td>20170424-12:00</td>\n",
       "      <td>Haze</td>\n",
       "      <td>12.0</td>\n",
       "      <td>0</td>\n",
       "      <td>0</td>\n",
       "      <td>NaN</td>\n",
       "      <td>14.0</td>\n",
       "      <td>NaN</td>\n",
       "      <td>1002.0</td>\n",
       "      <td>0</td>\n",
       "      <td>0</td>\n",
       "      <td>36.0</td>\n",
       "      <td>0</td>\n",
       "      <td>0</td>\n",
       "      <td>4.0</td>\n",
       "      <td>270.0</td>\n",
       "      <td>West</td>\n",
       "      <td>NaN</td>\n",
       "      <td>NaN</td>\n",
       "      <td>18.5</td>\n",
       "    </tr>\n",
       "    <tr>\n",
       "      <th>100988</th>\n",
       "      <td>20170424-15:00</td>\n",
       "      <td>Haze</td>\n",
       "      <td>15.0</td>\n",
       "      <td>0</td>\n",
       "      <td>0</td>\n",
       "      <td>NaN</td>\n",
       "      <td>27.0</td>\n",
       "      <td>NaN</td>\n",
       "      <td>1004.0</td>\n",
       "      <td>0</td>\n",
       "      <td>0</td>\n",
       "      <td>32.0</td>\n",
       "      <td>0</td>\n",
       "      <td>0</td>\n",
       "      <td>2.0</td>\n",
       "      <td>320.0</td>\n",
       "      <td>NW</td>\n",
       "      <td>NaN</td>\n",
       "      <td>NaN</td>\n",
       "      <td>3.7</td>\n",
       "    </tr>\n",
       "    <tr>\n",
       "      <th>100989</th>\n",
       "      <td>20170424-18:00</td>\n",
       "      <td>Haze</td>\n",
       "      <td>15.0</td>\n",
       "      <td>0</td>\n",
       "      <td>0</td>\n",
       "      <td>NaN</td>\n",
       "      <td>30.0</td>\n",
       "      <td>NaN</td>\n",
       "      <td>1005.0</td>\n",
       "      <td>0</td>\n",
       "      <td>0</td>\n",
       "      <td>30.0</td>\n",
       "      <td>0</td>\n",
       "      <td>0</td>\n",
       "      <td>2.0</td>\n",
       "      <td>320.0</td>\n",
       "      <td>NW</td>\n",
       "      <td>NaN</td>\n",
       "      <td>NaN</td>\n",
       "      <td>3.7</td>\n",
       "    </tr>\n",
       "  </tbody>\n",
       "</table>\n",
       "<p>100990 rows × 20 columns</p>\n",
       "</div>"
      ],
      "text/plain": [
       "          datetime_utc  _conds   _dewptm  ...   _wgustm   _windchillm   _wspdm\n",
       "0       19961101-11:00   Smoke       9.0  ...       NaN           NaN      7.4\n",
       "1       19961101-12:00   Smoke      10.0  ...       NaN           NaN      NaN\n",
       "2       19961101-13:00   Smoke      11.0  ...       NaN           NaN      NaN\n",
       "3       19961101-14:00   Smoke      10.0  ...       NaN           NaN      NaN\n",
       "4       19961101-16:00   Smoke      11.0  ...       NaN           NaN      0.0\n",
       "...                ...     ...       ...  ...       ...           ...      ...\n",
       "100985  20170424-06:00    Haze      17.0  ...       NaN           NaN     11.1\n",
       "100986  20170424-09:00    Haze      14.0  ...       NaN           NaN     22.2\n",
       "100987  20170424-12:00    Haze      12.0  ...       NaN           NaN     18.5\n",
       "100988  20170424-15:00    Haze      15.0  ...       NaN           NaN      3.7\n",
       "100989  20170424-18:00    Haze      15.0  ...       NaN           NaN      3.7\n",
       "\n",
       "[100990 rows x 20 columns]"
      ]
     },
     "execution_count": 29,
     "metadata": {
      "tags": []
     },
     "output_type": "execute_result"
    }
   ],
   "source": [
    "dataset=pd.read_csv(\"testset.csv\")\n",
    "dataset"
   ]
  },
  {
   "cell_type": "code",
   "execution_count": 30,
   "metadata": {
    "colab": {
     "base_uri": "https://localhost:8080/",
     "height": 470
    },
    "id": "6jgxx_wVZ3MY",
    "outputId": "0fd5182a-ca69-4299-9c0f-2d7a01f0b246"
   },
   "outputs": [
    {
     "name": "stdout",
     "output_type": "stream",
     "text": [
      "<class 'pandas.core.frame.DataFrame'>\n",
      "RangeIndex: 100990 entries, 0 to 100989\n",
      "Data columns (total 20 columns):\n",
      " #   Column        Non-Null Count   Dtype  \n",
      "---  ------        --------------   -----  \n",
      " 0   datetime_utc  100990 non-null  object \n",
      " 1    _conds       100918 non-null  object \n",
      " 2    _dewptm      100369 non-null  float64\n",
      " 3    _fog         100990 non-null  int64  \n",
      " 4    _hail        100990 non-null  int64  \n",
      " 5    _heatindexm  29155 non-null   float64\n",
      " 6    _hum         100233 non-null  float64\n",
      " 7    _precipm     0 non-null       float64\n",
      " 8    _pressurem   100758 non-null  float64\n",
      " 9    _rain        100990 non-null  int64  \n",
      " 10   _snow        100990 non-null  int64  \n",
      " 11   _tempm       100317 non-null  float64\n",
      " 12   _thunder     100990 non-null  int64  \n",
      " 13   _tornado     100990 non-null  int64  \n",
      " 14   _vism        96562 non-null   float64\n",
      " 15   _wdird       86235 non-null   float64\n",
      " 16   _wdire       86235 non-null   object \n",
      " 17   _wgustm      1072 non-null    float64\n",
      " 18   _windchillm  579 non-null     float64\n",
      " 19   _wspdm       98632 non-null   float64\n",
      "dtypes: float64(11), int64(6), object(3)\n",
      "memory usage: 15.4+ MB\n"
     ]
    }
   ],
   "source": [
    "dataset.info()"
   ]
  },
  {
   "cell_type": "code",
   "execution_count": 31,
   "metadata": {
    "colab": {
     "base_uri": "https://localhost:8080/",
     "height": 304
    },
    "id": "4MqRJ7KsZ8rt",
    "outputId": "a0177eea-ae7e-4f1e-b27d-943ced91fc94"
   },
   "outputs": [
    {
     "data": {
      "text/html": [
       "<div>\n",
       "<style scoped>\n",
       "    .dataframe tbody tr th:only-of-type {\n",
       "        vertical-align: middle;\n",
       "    }\n",
       "\n",
       "    .dataframe tbody tr th {\n",
       "        vertical-align: top;\n",
       "    }\n",
       "\n",
       "    .dataframe thead th {\n",
       "        text-align: right;\n",
       "    }\n",
       "</style>\n",
       "<table border=\"1\" class=\"dataframe\">\n",
       "  <thead>\n",
       "    <tr style=\"text-align: right;\">\n",
       "      <th></th>\n",
       "      <th>_dewptm</th>\n",
       "      <th>_fog</th>\n",
       "      <th>_hail</th>\n",
       "      <th>_heatindexm</th>\n",
       "      <th>_hum</th>\n",
       "      <th>_precipm</th>\n",
       "      <th>_pressurem</th>\n",
       "      <th>_rain</th>\n",
       "      <th>_snow</th>\n",
       "      <th>_tempm</th>\n",
       "      <th>_thunder</th>\n",
       "      <th>_tornado</th>\n",
       "      <th>_vism</th>\n",
       "      <th>_wdird</th>\n",
       "      <th>_wgustm</th>\n",
       "      <th>_windchillm</th>\n",
       "      <th>_wspdm</th>\n",
       "    </tr>\n",
       "  </thead>\n",
       "  <tbody>\n",
       "    <tr>\n",
       "      <th>count</th>\n",
       "      <td>100369.000000</td>\n",
       "      <td>100990.000000</td>\n",
       "      <td>100990.000000</td>\n",
       "      <td>29155.000000</td>\n",
       "      <td>100233.000000</td>\n",
       "      <td>0.0</td>\n",
       "      <td>1.007580e+05</td>\n",
       "      <td>100990.000000</td>\n",
       "      <td>100990.000000</td>\n",
       "      <td>100317.000000</td>\n",
       "      <td>100990.000000</td>\n",
       "      <td>100990.00000</td>\n",
       "      <td>96562.000000</td>\n",
       "      <td>86235.000000</td>\n",
       "      <td>1072.000000</td>\n",
       "      <td>579.000000</td>\n",
       "      <td>98632.000000</td>\n",
       "    </tr>\n",
       "    <tr>\n",
       "      <th>mean</th>\n",
       "      <td>15.741205</td>\n",
       "      <td>0.069690</td>\n",
       "      <td>0.000129</td>\n",
       "      <td>35.651710</td>\n",
       "      <td>57.909481</td>\n",
       "      <td>NaN</td>\n",
       "      <td>1.932331e+03</td>\n",
       "      <td>0.026260</td>\n",
       "      <td>0.000010</td>\n",
       "      <td>25.451269</td>\n",
       "      <td>0.009427</td>\n",
       "      <td>0.00002</td>\n",
       "      <td>2.402774</td>\n",
       "      <td>163.549974</td>\n",
       "      <td>37.671175</td>\n",
       "      <td>5.713817</td>\n",
       "      <td>7.678463</td>\n",
       "    </tr>\n",
       "    <tr>\n",
       "      <th>std</th>\n",
       "      <td>7.058587</td>\n",
       "      <td>0.254625</td>\n",
       "      <td>0.011345</td>\n",
       "      <td>5.015384</td>\n",
       "      <td>23.807771</td>\n",
       "      <td>NaN</td>\n",
       "      <td>3.183786e+05</td>\n",
       "      <td>0.159908</td>\n",
       "      <td>0.003147</td>\n",
       "      <td>8.482859</td>\n",
       "      <td>0.096633</td>\n",
       "      <td>0.00445</td>\n",
       "      <td>20.746028</td>\n",
       "      <td>120.002076</td>\n",
       "      <td>6.848666</td>\n",
       "      <td>1.203290</td>\n",
       "      <td>11.932157</td>\n",
       "    </tr>\n",
       "    <tr>\n",
       "      <th>min</th>\n",
       "      <td>-24.000000</td>\n",
       "      <td>0.000000</td>\n",
       "      <td>0.000000</td>\n",
       "      <td>26.800000</td>\n",
       "      <td>4.000000</td>\n",
       "      <td>NaN</td>\n",
       "      <td>-9.999000e+03</td>\n",
       "      <td>0.000000</td>\n",
       "      <td>0.000000</td>\n",
       "      <td>1.000000</td>\n",
       "      <td>0.000000</td>\n",
       "      <td>0.00000</td>\n",
       "      <td>0.000000</td>\n",
       "      <td>0.000000</td>\n",
       "      <td>25.900000</td>\n",
       "      <td>2.100000</td>\n",
       "      <td>0.000000</td>\n",
       "    </tr>\n",
       "    <tr>\n",
       "      <th>25%</th>\n",
       "      <td>10.000000</td>\n",
       "      <td>0.000000</td>\n",
       "      <td>0.000000</td>\n",
       "      <td>31.700000</td>\n",
       "      <td>39.000000</td>\n",
       "      <td>NaN</td>\n",
       "      <td>1.002000e+03</td>\n",
       "      <td>0.000000</td>\n",
       "      <td>0.000000</td>\n",
       "      <td>19.000000</td>\n",
       "      <td>0.000000</td>\n",
       "      <td>0.00000</td>\n",
       "      <td>1.500000</td>\n",
       "      <td>50.000000</td>\n",
       "      <td>33.300000</td>\n",
       "      <td>4.900000</td>\n",
       "      <td>0.000000</td>\n",
       "    </tr>\n",
       "    <tr>\n",
       "      <th>50%</th>\n",
       "      <td>15.000000</td>\n",
       "      <td>0.000000</td>\n",
       "      <td>0.000000</td>\n",
       "      <td>35.100000</td>\n",
       "      <td>59.000000</td>\n",
       "      <td>NaN</td>\n",
       "      <td>1.008000e+03</td>\n",
       "      <td>0.000000</td>\n",
       "      <td>0.000000</td>\n",
       "      <td>27.000000</td>\n",
       "      <td>0.000000</td>\n",
       "      <td>0.00000</td>\n",
       "      <td>2.000000</td>\n",
       "      <td>160.000000</td>\n",
       "      <td>37.000000</td>\n",
       "      <td>6.100000</td>\n",
       "      <td>7.400000</td>\n",
       "    </tr>\n",
       "    <tr>\n",
       "      <th>75%</th>\n",
       "      <td>22.000000</td>\n",
       "      <td>0.000000</td>\n",
       "      <td>0.000000</td>\n",
       "      <td>39.200000</td>\n",
       "      <td>78.000000</td>\n",
       "      <td>NaN</td>\n",
       "      <td>1.014000e+03</td>\n",
       "      <td>0.000000</td>\n",
       "      <td>0.000000</td>\n",
       "      <td>32.000000</td>\n",
       "      <td>0.000000</td>\n",
       "      <td>0.00000</td>\n",
       "      <td>3.000000</td>\n",
       "      <td>270.000000</td>\n",
       "      <td>40.700000</td>\n",
       "      <td>6.800000</td>\n",
       "      <td>11.100000</td>\n",
       "    </tr>\n",
       "    <tr>\n",
       "      <th>max</th>\n",
       "      <td>75.000000</td>\n",
       "      <td>1.000000</td>\n",
       "      <td>1.000000</td>\n",
       "      <td>73.600000</td>\n",
       "      <td>243.000000</td>\n",
       "      <td>NaN</td>\n",
       "      <td>1.010614e+08</td>\n",
       "      <td>1.000000</td>\n",
       "      <td>1.000000</td>\n",
       "      <td>90.000000</td>\n",
       "      <td>1.000000</td>\n",
       "      <td>1.00000</td>\n",
       "      <td>6436.000000</td>\n",
       "      <td>960.000000</td>\n",
       "      <td>92.600000</td>\n",
       "      <td>7.300000</td>\n",
       "      <td>1514.900000</td>\n",
       "    </tr>\n",
       "  </tbody>\n",
       "</table>\n",
       "</div>"
      ],
      "text/plain": [
       "             _dewptm           _fog  ...   _windchillm        _wspdm\n",
       "count  100369.000000  100990.000000  ...    579.000000  98632.000000\n",
       "mean       15.741205       0.069690  ...      5.713817      7.678463\n",
       "std         7.058587       0.254625  ...      1.203290     11.932157\n",
       "min       -24.000000       0.000000  ...      2.100000      0.000000\n",
       "25%        10.000000       0.000000  ...      4.900000      0.000000\n",
       "50%        15.000000       0.000000  ...      6.100000      7.400000\n",
       "75%        22.000000       0.000000  ...      6.800000     11.100000\n",
       "max        75.000000       1.000000  ...      7.300000   1514.900000\n",
       "\n",
       "[8 rows x 17 columns]"
      ]
     },
     "execution_count": 31,
     "metadata": {
      "tags": []
     },
     "output_type": "execute_result"
    }
   ],
   "source": [
    "dataset.describe()"
   ]
  },
  {
   "cell_type": "code",
   "execution_count": 32,
   "metadata": {
    "colab": {
     "base_uri": "https://localhost:8080/",
     "height": 84
    },
    "id": "fJuDIkezaAII",
    "outputId": "808cd007-18d6-492c-f327-5abadeaecaf4"
   },
   "outputs": [
    {
     "data": {
      "text/plain": [
       "Index(['datetimeutc', 'conds', 'dewptm', 'fog', 'hail', 'heatindexm', 'hum',\n",
       "       'precipm', 'pressurem', 'rain', 'snow', 'tempm', 'thunder', 'tornado',\n",
       "       'vism', 'wdird', 'wdire', 'wgustm', 'windchillm', 'wspdm'],\n",
       "      dtype='object')"
      ]
     },
     "execution_count": 32,
     "metadata": {
      "tags": []
     },
     "output_type": "execute_result"
    }
   ],
   "source": [
    "dataset.columns=dataset.columns.str.replace(\"_\",\"\")\n",
    "dataset.columns=dataset.columns.str.replace(\" \",\"\")\n",
    "dataset.columns"
   ]
  },
  {
   "cell_type": "code",
   "execution_count": 33,
   "metadata": {
    "colab": {
     "base_uri": "https://localhost:8080/",
     "height": 402
    },
    "id": "C1KB3fYHaPQ1",
    "outputId": "8be21536-824e-4a5d-a303-a1de51f7244f"
   },
   "outputs": [
    {
     "data": {
      "text/html": [
       "<div>\n",
       "<style scoped>\n",
       "    .dataframe tbody tr th:only-of-type {\n",
       "        vertical-align: middle;\n",
       "    }\n",
       "\n",
       "    .dataframe tbody tr th {\n",
       "        vertical-align: top;\n",
       "    }\n",
       "\n",
       "    .dataframe thead th {\n",
       "        text-align: right;\n",
       "    }\n",
       "</style>\n",
       "<table border=\"1\" class=\"dataframe\">\n",
       "  <thead>\n",
       "    <tr style=\"text-align: right;\">\n",
       "      <th></th>\n",
       "      <th>datetimeutc</th>\n",
       "      <th>hum</th>\n",
       "      <th>pressurem</th>\n",
       "      <th>tempm</th>\n",
       "      <th>wspdm</th>\n",
       "    </tr>\n",
       "  </thead>\n",
       "  <tbody>\n",
       "    <tr>\n",
       "      <th>0</th>\n",
       "      <td>19961101-11:00</td>\n",
       "      <td>27.0</td>\n",
       "      <td>1010.0</td>\n",
       "      <td>30.0</td>\n",
       "      <td>7.4</td>\n",
       "    </tr>\n",
       "    <tr>\n",
       "      <th>1</th>\n",
       "      <td>19961101-12:00</td>\n",
       "      <td>32.0</td>\n",
       "      <td>-9999.0</td>\n",
       "      <td>28.0</td>\n",
       "      <td>NaN</td>\n",
       "    </tr>\n",
       "    <tr>\n",
       "      <th>2</th>\n",
       "      <td>19961101-13:00</td>\n",
       "      <td>44.0</td>\n",
       "      <td>-9999.0</td>\n",
       "      <td>24.0</td>\n",
       "      <td>NaN</td>\n",
       "    </tr>\n",
       "    <tr>\n",
       "      <th>3</th>\n",
       "      <td>19961101-14:00</td>\n",
       "      <td>41.0</td>\n",
       "      <td>1010.0</td>\n",
       "      <td>24.0</td>\n",
       "      <td>NaN</td>\n",
       "    </tr>\n",
       "    <tr>\n",
       "      <th>4</th>\n",
       "      <td>19961101-16:00</td>\n",
       "      <td>47.0</td>\n",
       "      <td>1011.0</td>\n",
       "      <td>23.0</td>\n",
       "      <td>0.0</td>\n",
       "    </tr>\n",
       "    <tr>\n",
       "      <th>...</th>\n",
       "      <td>...</td>\n",
       "      <td>...</td>\n",
       "      <td>...</td>\n",
       "      <td>...</td>\n",
       "      <td>...</td>\n",
       "    </tr>\n",
       "    <tr>\n",
       "      <th>100985</th>\n",
       "      <td>20170424-06:00</td>\n",
       "      <td>25.0</td>\n",
       "      <td>1005.0</td>\n",
       "      <td>34.0</td>\n",
       "      <td>11.1</td>\n",
       "    </tr>\n",
       "    <tr>\n",
       "      <th>100986</th>\n",
       "      <td>20170424-09:00</td>\n",
       "      <td>16.0</td>\n",
       "      <td>1003.0</td>\n",
       "      <td>38.0</td>\n",
       "      <td>22.2</td>\n",
       "    </tr>\n",
       "    <tr>\n",
       "      <th>100987</th>\n",
       "      <td>20170424-12:00</td>\n",
       "      <td>14.0</td>\n",
       "      <td>1002.0</td>\n",
       "      <td>36.0</td>\n",
       "      <td>18.5</td>\n",
       "    </tr>\n",
       "    <tr>\n",
       "      <th>100988</th>\n",
       "      <td>20170424-15:00</td>\n",
       "      <td>27.0</td>\n",
       "      <td>1004.0</td>\n",
       "      <td>32.0</td>\n",
       "      <td>3.7</td>\n",
       "    </tr>\n",
       "    <tr>\n",
       "      <th>100989</th>\n",
       "      <td>20170424-18:00</td>\n",
       "      <td>30.0</td>\n",
       "      <td>1005.0</td>\n",
       "      <td>30.0</td>\n",
       "      <td>3.7</td>\n",
       "    </tr>\n",
       "  </tbody>\n",
       "</table>\n",
       "<p>100990 rows × 5 columns</p>\n",
       "</div>"
      ],
      "text/plain": [
       "           datetimeutc   hum  pressurem  tempm  wspdm\n",
       "0       19961101-11:00  27.0     1010.0   30.0    7.4\n",
       "1       19961101-12:00  32.0    -9999.0   28.0    NaN\n",
       "2       19961101-13:00  44.0    -9999.0   24.0    NaN\n",
       "3       19961101-14:00  41.0     1010.0   24.0    NaN\n",
       "4       19961101-16:00  47.0     1011.0   23.0    0.0\n",
       "...                ...   ...        ...    ...    ...\n",
       "100985  20170424-06:00  25.0     1005.0   34.0   11.1\n",
       "100986  20170424-09:00  16.0     1003.0   38.0   22.2\n",
       "100987  20170424-12:00  14.0     1002.0   36.0   18.5\n",
       "100988  20170424-15:00  27.0     1004.0   32.0    3.7\n",
       "100989  20170424-18:00  30.0     1005.0   30.0    3.7\n",
       "\n",
       "[100990 rows x 5 columns]"
      ]
     },
     "execution_count": 33,
     "metadata": {
      "tags": []
     },
     "output_type": "execute_result"
    }
   ],
   "source": [
    "# dataset.drop(\"conds\",inplace=True,axis=1)\n",
    "# dataset.drop(,inplace=True,axis=1)\n",
    "# dataset.drop(,inplace=True,axis=1)\n",
    "# dataset.drop(inplace=True,axis=1)\n",
    "# dataset.drop(,inplace=True,axis=1)\n",
    "# dataset.drop(inplace=True,axis=1)\n",
    "# dataset.drop(inplace=True,axis=1)\n",
    "# dataset.drop(,inplace=True,axis=1)\n",
    "dataset.drop(columns=[\"conds\",\"dewptm\",\"fog\",\"hail\",\"heatindexm\",\"precipm\",\"rain\",\"snow\",\"thunder\",\"tornado\",\"vism\",\"wdird\",\"wdire\",\"wgustm\",\"windchillm\"],inplace=True,axis=1)\n",
    "dataset"
   ]
  },
  {
   "cell_type": "code",
   "execution_count": 34,
   "metadata": {
    "colab": {
     "base_uri": "https://localhost:8080/",
     "height": 118
    },
    "id": "IqgMWpXUcIkf",
    "outputId": "82f48c06-fc32-4974-bd65-1332bcd6d38f"
   },
   "outputs": [
    {
     "data": {
      "text/plain": [
       "datetimeutc       0\n",
       "hum             757\n",
       "pressurem       232\n",
       "tempm           673\n",
       "wspdm          2358\n",
       "dtype: int64"
      ]
     },
     "execution_count": 34,
     "metadata": {
      "tags": []
     },
     "output_type": "execute_result"
    }
   ],
   "source": [
    "dataset.replace(0,np.nan)\n",
    "dataset.isnull().sum()"
   ]
  },
  {
   "cell_type": "code",
   "execution_count": 35,
   "metadata": {
    "id": "DHzrYjS4ce5s"
   },
   "outputs": [],
   "source": [
    "hum_median=dataset[\"hum\"].median()\n",
    "dataset[\"hum\"].fillna(hum_median,inplace=True)\n",
    "pressurem_median=dataset[\"pressurem\"].median()\n",
    "dataset[\"pressurem\"].fillna(pressurem_median,inplace=True)\n",
    "wspdm_median=dataset[\"wspdm\"].median()\n",
    "dataset[\"wspdm\"].fillna(wspdm_median,inplace=True)\n",
    "tempm_median=dataset[\"tempm\"].median()\n",
    "dataset[\"tempm\"].fillna(tempm_median,inplace=True)"
   ]
  },
  {
   "cell_type": "code",
   "execution_count": 1,
   "metadata": {
    "colab": {
     "base_uri": "https://localhost:8080/",
     "height": 118
    },
    "id": "7e4L_DKodRaW",
    "outputId": "9e63db71-e36b-46b9-aa30-c8179cded098"
   },
   "outputs": [
    {
     "ename": "NameError",
     "evalue": "name 'dataset' is not defined",
     "output_type": "error",
     "traceback": [
      "\u001b[1;31m---------------------------------------------------------------------------\u001b[0m",
      "\u001b[1;31mNameError\u001b[0m                                 Traceback (most recent call last)",
      "\u001b[1;32m<ipython-input-1-0eb19dd5d3fd>\u001b[0m in \u001b[0;36m<module>\u001b[1;34m\u001b[0m\n\u001b[1;32m----> 1\u001b[1;33m \u001b[0mdataset\u001b[0m\u001b[1;33m.\u001b[0m\u001b[0misnull\u001b[0m\u001b[1;33m(\u001b[0m\u001b[1;33m)\u001b[0m\u001b[1;33m.\u001b[0m\u001b[0msum\u001b[0m\u001b[1;33m(\u001b[0m\u001b[1;33m)\u001b[0m\u001b[1;33m\u001b[0m\u001b[1;33m\u001b[0m\u001b[0m\n\u001b[0m",
      "\u001b[1;31mNameError\u001b[0m: name 'dataset' is not defined"
     ]
    }
   ],
   "source": [
    "dataset.isnull().sum()"
   ]
  },
  {
   "cell_type": "code",
   "execution_count": 37,
   "metadata": {
    "id": "VdxnBas3dU_v"
   },
   "outputs": [],
   "source": [
    "timeseries_data=dataset.copy()"
   ]
  },
  {
   "cell_type": "code",
   "execution_count": 38,
   "metadata": {
    "colab": {
     "base_uri": "https://localhost:8080/",
     "height": 34
    },
    "id": "LVJgxwtDd00H",
    "outputId": "b763b350-3f10-451f-e23f-a8d4f41e3708"
   },
   "outputs": [
    {
     "data": {
      "text/plain": [
       "dtype('O')"
      ]
     },
     "execution_count": 38,
     "metadata": {
      "tags": []
     },
     "output_type": "execute_result"
    }
   ],
   "source": [
    "timeseries_data[\"datetimeutc\"].dtype"
   ]
  },
  {
   "cell_type": "code",
   "execution_count": 39,
   "metadata": {
    "id": "5arRsIZcd5uU"
   },
   "outputs": [],
   "source": [
    "timeseries_data[\"datetimeutc\"]=pd.to_datetime(timeseries_data[\"datetimeutc\"])"
   ]
  },
  {
   "cell_type": "code",
   "execution_count": 40,
   "metadata": {
    "id": "9AepaRMReKH4"
   },
   "outputs": [],
   "source": [
    "timeseries_data.set_index(\"datetimeutc\",inplace=True)"
   ]
  },
  {
   "cell_type": "code",
   "execution_count": 41,
   "metadata": {
    "colab": {
     "base_uri": "https://localhost:8080/",
     "height": 431
    },
    "id": "0DwOrRfQeQkD",
    "outputId": "ebab5ede-4ef7-4bee-9982-6dc940026207"
   },
   "outputs": [
    {
     "data": {
      "text/html": [
       "<div>\n",
       "<style scoped>\n",
       "    .dataframe tbody tr th:only-of-type {\n",
       "        vertical-align: middle;\n",
       "    }\n",
       "\n",
       "    .dataframe tbody tr th {\n",
       "        vertical-align: top;\n",
       "    }\n",
       "\n",
       "    .dataframe thead th {\n",
       "        text-align: right;\n",
       "    }\n",
       "</style>\n",
       "<table border=\"1\" class=\"dataframe\">\n",
       "  <thead>\n",
       "    <tr style=\"text-align: right;\">\n",
       "      <th></th>\n",
       "      <th>hum</th>\n",
       "      <th>pressurem</th>\n",
       "      <th>tempm</th>\n",
       "      <th>wspdm</th>\n",
       "    </tr>\n",
       "    <tr>\n",
       "      <th>datetimeutc</th>\n",
       "      <th></th>\n",
       "      <th></th>\n",
       "      <th></th>\n",
       "      <th></th>\n",
       "    </tr>\n",
       "  </thead>\n",
       "  <tbody>\n",
       "    <tr>\n",
       "      <th>1996-11-01 11:00:00</th>\n",
       "      <td>27.0</td>\n",
       "      <td>1010.0</td>\n",
       "      <td>30.0</td>\n",
       "      <td>7.4</td>\n",
       "    </tr>\n",
       "    <tr>\n",
       "      <th>1996-11-01 12:00:00</th>\n",
       "      <td>32.0</td>\n",
       "      <td>-9999.0</td>\n",
       "      <td>28.0</td>\n",
       "      <td>7.4</td>\n",
       "    </tr>\n",
       "    <tr>\n",
       "      <th>1996-11-01 13:00:00</th>\n",
       "      <td>44.0</td>\n",
       "      <td>-9999.0</td>\n",
       "      <td>24.0</td>\n",
       "      <td>7.4</td>\n",
       "    </tr>\n",
       "    <tr>\n",
       "      <th>1996-11-01 14:00:00</th>\n",
       "      <td>41.0</td>\n",
       "      <td>1010.0</td>\n",
       "      <td>24.0</td>\n",
       "      <td>7.4</td>\n",
       "    </tr>\n",
       "    <tr>\n",
       "      <th>1996-11-01 16:00:00</th>\n",
       "      <td>47.0</td>\n",
       "      <td>1011.0</td>\n",
       "      <td>23.0</td>\n",
       "      <td>0.0</td>\n",
       "    </tr>\n",
       "    <tr>\n",
       "      <th>...</th>\n",
       "      <td>...</td>\n",
       "      <td>...</td>\n",
       "      <td>...</td>\n",
       "      <td>...</td>\n",
       "    </tr>\n",
       "    <tr>\n",
       "      <th>2017-04-24 06:00:00</th>\n",
       "      <td>25.0</td>\n",
       "      <td>1005.0</td>\n",
       "      <td>34.0</td>\n",
       "      <td>11.1</td>\n",
       "    </tr>\n",
       "    <tr>\n",
       "      <th>2017-04-24 09:00:00</th>\n",
       "      <td>16.0</td>\n",
       "      <td>1003.0</td>\n",
       "      <td>38.0</td>\n",
       "      <td>22.2</td>\n",
       "    </tr>\n",
       "    <tr>\n",
       "      <th>2017-04-24 12:00:00</th>\n",
       "      <td>14.0</td>\n",
       "      <td>1002.0</td>\n",
       "      <td>36.0</td>\n",
       "      <td>18.5</td>\n",
       "    </tr>\n",
       "    <tr>\n",
       "      <th>2017-04-24 15:00:00</th>\n",
       "      <td>27.0</td>\n",
       "      <td>1004.0</td>\n",
       "      <td>32.0</td>\n",
       "      <td>3.7</td>\n",
       "    </tr>\n",
       "    <tr>\n",
       "      <th>2017-04-24 18:00:00</th>\n",
       "      <td>30.0</td>\n",
       "      <td>1005.0</td>\n",
       "      <td>30.0</td>\n",
       "      <td>3.7</td>\n",
       "    </tr>\n",
       "  </tbody>\n",
       "</table>\n",
       "<p>100990 rows × 4 columns</p>\n",
       "</div>"
      ],
      "text/plain": [
       "                      hum  pressurem  tempm  wspdm\n",
       "datetimeutc                                       \n",
       "1996-11-01 11:00:00  27.0     1010.0   30.0    7.4\n",
       "1996-11-01 12:00:00  32.0    -9999.0   28.0    7.4\n",
       "1996-11-01 13:00:00  44.0    -9999.0   24.0    7.4\n",
       "1996-11-01 14:00:00  41.0     1010.0   24.0    7.4\n",
       "1996-11-01 16:00:00  47.0     1011.0   23.0    0.0\n",
       "...                   ...        ...    ...    ...\n",
       "2017-04-24 06:00:00  25.0     1005.0   34.0   11.1\n",
       "2017-04-24 09:00:00  16.0     1003.0   38.0   22.2\n",
       "2017-04-24 12:00:00  14.0     1002.0   36.0   18.5\n",
       "2017-04-24 15:00:00  27.0     1004.0   32.0    3.7\n",
       "2017-04-24 18:00:00  30.0     1005.0   30.0    3.7\n",
       "\n",
       "[100990 rows x 4 columns]"
      ]
     },
     "execution_count": 41,
     "metadata": {
      "tags": []
     },
     "output_type": "execute_result"
    }
   ],
   "source": [
    "timeseries_data"
   ]
  },
  {
   "cell_type": "code",
   "execution_count": 42,
   "metadata": {
    "colab": {
     "base_uri": "https://localhost:8080/",
     "height": 431
    },
    "id": "kvybm4W_eSh0",
    "outputId": "f5a634bc-92ed-420e-cb61-4dbd4ca21cc7"
   },
   "outputs": [
    {
     "data": {
      "text/html": [
       "<div>\n",
       "<style scoped>\n",
       "    .dataframe tbody tr th:only-of-type {\n",
       "        vertical-align: middle;\n",
       "    }\n",
       "\n",
       "    .dataframe tbody tr th {\n",
       "        vertical-align: top;\n",
       "    }\n",
       "\n",
       "    .dataframe thead th {\n",
       "        text-align: right;\n",
       "    }\n",
       "</style>\n",
       "<table border=\"1\" class=\"dataframe\">\n",
       "  <thead>\n",
       "    <tr style=\"text-align: right;\">\n",
       "      <th></th>\n",
       "      <th>hum</th>\n",
       "      <th>pressurem</th>\n",
       "      <th>tempm</th>\n",
       "      <th>wspdm</th>\n",
       "    </tr>\n",
       "    <tr>\n",
       "      <th>datetimeutc</th>\n",
       "      <th></th>\n",
       "      <th></th>\n",
       "      <th></th>\n",
       "      <th></th>\n",
       "    </tr>\n",
       "  </thead>\n",
       "  <tbody>\n",
       "    <tr>\n",
       "      <th>1996-11-01</th>\n",
       "      <td>52.916667</td>\n",
       "      <td>-2659.666667</td>\n",
       "      <td>22.333333</td>\n",
       "      <td>6.166667</td>\n",
       "    </tr>\n",
       "    <tr>\n",
       "      <th>1996-11-02</th>\n",
       "      <td>48.625000</td>\n",
       "      <td>1009.833333</td>\n",
       "      <td>22.916667</td>\n",
       "      <td>7.950000</td>\n",
       "    </tr>\n",
       "    <tr>\n",
       "      <th>1996-11-03</th>\n",
       "      <td>55.958333</td>\n",
       "      <td>1010.500000</td>\n",
       "      <td>21.791667</td>\n",
       "      <td>5.020833</td>\n",
       "    </tr>\n",
       "    <tr>\n",
       "      <th>1996-11-04</th>\n",
       "      <td>48.055556</td>\n",
       "      <td>1011.333333</td>\n",
       "      <td>22.722222</td>\n",
       "      <td>2.266667</td>\n",
       "    </tr>\n",
       "    <tr>\n",
       "      <th>1996-11-05</th>\n",
       "      <td>29.400000</td>\n",
       "      <td>1011.800000</td>\n",
       "      <td>27.800000</td>\n",
       "      <td>10.020000</td>\n",
       "    </tr>\n",
       "    <tr>\n",
       "      <th>...</th>\n",
       "      <td>...</td>\n",
       "      <td>...</td>\n",
       "      <td>...</td>\n",
       "      <td>...</td>\n",
       "    </tr>\n",
       "    <tr>\n",
       "      <th>2017-04-20</th>\n",
       "      <td>27.500000</td>\n",
       "      <td>998.625000</td>\n",
       "      <td>34.500000</td>\n",
       "      <td>5.562500</td>\n",
       "    </tr>\n",
       "    <tr>\n",
       "      <th>2017-04-21</th>\n",
       "      <td>39.375000</td>\n",
       "      <td>999.875000</td>\n",
       "      <td>34.250000</td>\n",
       "      <td>6.962500</td>\n",
       "    </tr>\n",
       "    <tr>\n",
       "      <th>2017-04-22</th>\n",
       "      <td>40.900000</td>\n",
       "      <td>1001.600000</td>\n",
       "      <td>32.900000</td>\n",
       "      <td>8.890000</td>\n",
       "    </tr>\n",
       "    <tr>\n",
       "      <th>2017-04-23</th>\n",
       "      <td>27.500000</td>\n",
       "      <td>1002.125000</td>\n",
       "      <td>32.875000</td>\n",
       "      <td>9.962500</td>\n",
       "    </tr>\n",
       "    <tr>\n",
       "      <th>2017-04-24</th>\n",
       "      <td>27.142857</td>\n",
       "      <td>1004.142857</td>\n",
       "      <td>32.000000</td>\n",
       "      <td>12.157143</td>\n",
       "    </tr>\n",
       "  </tbody>\n",
       "</table>\n",
       "<p>7480 rows × 4 columns</p>\n",
       "</div>"
      ],
      "text/plain": [
       "                   hum    pressurem      tempm      wspdm\n",
       "datetimeutc                                              \n",
       "1996-11-01   52.916667 -2659.666667  22.333333   6.166667\n",
       "1996-11-02   48.625000  1009.833333  22.916667   7.950000\n",
       "1996-11-03   55.958333  1010.500000  21.791667   5.020833\n",
       "1996-11-04   48.055556  1011.333333  22.722222   2.266667\n",
       "1996-11-05   29.400000  1011.800000  27.800000  10.020000\n",
       "...                ...          ...        ...        ...\n",
       "2017-04-20   27.500000   998.625000  34.500000   5.562500\n",
       "2017-04-21   39.375000   999.875000  34.250000   6.962500\n",
       "2017-04-22   40.900000  1001.600000  32.900000   8.890000\n",
       "2017-04-23   27.500000  1002.125000  32.875000   9.962500\n",
       "2017-04-24   27.142857  1004.142857  32.000000  12.157143\n",
       "\n",
       "[7480 rows x 4 columns]"
      ]
     },
     "execution_count": 42,
     "metadata": {
      "tags": []
     },
     "output_type": "execute_result"
    }
   ],
   "source": [
    "data_daily=timeseries_data.resample(\"D\").mean()\n",
    "data_daily"
   ]
  },
  {
   "cell_type": "code",
   "execution_count": 43,
   "metadata": {
    "colab": {
     "base_uri": "https://localhost:8080/",
     "height": 101
    },
    "id": "ALZIl3Qnef4a",
    "outputId": "c2513bef-be0d-4e03-a68c-b1e709afef52"
   },
   "outputs": [
    {
     "data": {
      "text/plain": [
       "hum          141\n",
       "pressurem    141\n",
       "tempm        141\n",
       "wspdm        141\n",
       "dtype: int64"
      ]
     },
     "execution_count": 43,
     "metadata": {
      "tags": []
     },
     "output_type": "execute_result"
    }
   ],
   "source": [
    "data_daily.isnull().sum()"
   ]
  },
  {
   "cell_type": "code",
   "execution_count": 44,
   "metadata": {
    "colab": {
     "base_uri": "https://localhost:8080/",
     "height": 101
    },
    "id": "pyWtTzcFemEP",
    "outputId": "8c9a04f5-6d9a-454a-816e-da760a5b2693"
   },
   "outputs": [
    {
     "data": {
      "text/plain": [
       "hum          0\n",
       "pressurem    0\n",
       "tempm        0\n",
       "wspdm        0\n",
       "dtype: int64"
      ]
     },
     "execution_count": 44,
     "metadata": {
      "tags": []
     },
     "output_type": "execute_result"
    }
   ],
   "source": [
    "data_daily.fillna(data_daily.mean(),inplace=True)\n",
    "data_daily.isnull().sum()"
   ]
  },
  {
   "cell_type": "code",
   "execution_count": 45,
   "metadata": {
    "id": "qN5Aa1x2exG5"
   },
   "outputs": [],
   "source": [
    "data_daily_temp=pd.DataFrame(list(data_daily[\"tempm\"]),columns=[\"temp\"])"
   ]
  },
  {
   "cell_type": "code",
   "execution_count": 46,
   "metadata": {
    "colab": {
     "base_uri": "https://localhost:8080/",
     "height": 402
    },
    "id": "ZUuFY7TBfBQH",
    "outputId": "df627db3-42ef-4bdb-e1f8-63edcc0da1f2"
   },
   "outputs": [
    {
     "data": {
      "text/html": [
       "<div>\n",
       "<style scoped>\n",
       "    .dataframe tbody tr th:only-of-type {\n",
       "        vertical-align: middle;\n",
       "    }\n",
       "\n",
       "    .dataframe tbody tr th {\n",
       "        vertical-align: top;\n",
       "    }\n",
       "\n",
       "    .dataframe thead th {\n",
       "        text-align: right;\n",
       "    }\n",
       "</style>\n",
       "<table border=\"1\" class=\"dataframe\">\n",
       "  <thead>\n",
       "    <tr style=\"text-align: right;\">\n",
       "      <th></th>\n",
       "      <th>temp</th>\n",
       "    </tr>\n",
       "  </thead>\n",
       "  <tbody>\n",
       "    <tr>\n",
       "      <th>0</th>\n",
       "      <td>22.333333</td>\n",
       "    </tr>\n",
       "    <tr>\n",
       "      <th>1</th>\n",
       "      <td>22.916667</td>\n",
       "    </tr>\n",
       "    <tr>\n",
       "      <th>2</th>\n",
       "      <td>21.791667</td>\n",
       "    </tr>\n",
       "    <tr>\n",
       "      <th>3</th>\n",
       "      <td>22.722222</td>\n",
       "    </tr>\n",
       "    <tr>\n",
       "      <th>4</th>\n",
       "      <td>27.800000</td>\n",
       "    </tr>\n",
       "    <tr>\n",
       "      <th>...</th>\n",
       "      <td>...</td>\n",
       "    </tr>\n",
       "    <tr>\n",
       "      <th>7475</th>\n",
       "      <td>34.500000</td>\n",
       "    </tr>\n",
       "    <tr>\n",
       "      <th>7476</th>\n",
       "      <td>34.250000</td>\n",
       "    </tr>\n",
       "    <tr>\n",
       "      <th>7477</th>\n",
       "      <td>32.900000</td>\n",
       "    </tr>\n",
       "    <tr>\n",
       "      <th>7478</th>\n",
       "      <td>32.875000</td>\n",
       "    </tr>\n",
       "    <tr>\n",
       "      <th>7479</th>\n",
       "      <td>32.000000</td>\n",
       "    </tr>\n",
       "  </tbody>\n",
       "</table>\n",
       "<p>7480 rows × 1 columns</p>\n",
       "</div>"
      ],
      "text/plain": [
       "           temp\n",
       "0     22.333333\n",
       "1     22.916667\n",
       "2     21.791667\n",
       "3     22.722222\n",
       "4     27.800000\n",
       "...         ...\n",
       "7475  34.500000\n",
       "7476  34.250000\n",
       "7477  32.900000\n",
       "7478  32.875000\n",
       "7479  32.000000\n",
       "\n",
       "[7480 rows x 1 columns]"
      ]
     },
     "execution_count": 46,
     "metadata": {
      "tags": []
     },
     "output_type": "execute_result"
    }
   ],
   "source": [
    "data_daily_temp"
   ]
  },
  {
   "cell_type": "code",
   "execution_count": 50,
   "metadata": {
    "colab": {
     "base_uri": "https://localhost:8080/",
     "height": 288
    },
    "id": "xnjdn70jfdGk",
    "outputId": "d57e02a6-6865-4e26-8325-fe41980e6edc"
   },
   "outputs": [
    {
     "data": {
      "image/png": "[encoded data removed]",
      "text/plain": [
       "<Figure size 1440x576 with 1 Axes>"
      ]
     },
     "metadata": {
      "needs_background": "light",
      "tags": []
     },
     "output_type": "display_data"
    }
   ],
   "source": [
    "plt.figure(figsize=(20,8))\n",
    "plt.plot(data_daily_temp)\n",
    "plt.title(\"Delhi Temp Variation\")\n",
    "plt.show()"
   ]
  },
  {
   "cell_type": "code",
   "execution_count": 53,
   "metadata": {
    "id": "Ws9SxWGtfoRZ"
   },
   "outputs": [],
   "source": [
    "from sklearn.preprocessing import LabelEncoder, MinMaxScaler\n",
    "scaler=MinMaxScaler(feature_range=(-1,1))\n",
    "data_daily_temp=scaler.fit_transform(data_daily_temp)"
   ]
  },
  {
   "cell_type": "code",
   "execution_count": 54,
   "metadata": {
    "colab": {
     "base_uri": "https://localhost:8080/",
     "height": 151
    },
    "id": "HH_H0rIogK_7",
    "outputId": "1311929c-f617-4d01-c2bb-ec6d0b9da9c7"
   },
   "outputs": [
    {
     "name": "stdout",
     "output_type": "stream",
     "text": [
      "[[-0.07224714]\n",
      " [-0.0391131 ]\n",
      " [-0.10301445]\n",
      " ...\n",
      " [ 0.52795217]\n",
      " [ 0.52653214]\n",
      " [ 0.47683109]]\n",
      "(7480, 1)\n"
     ]
    }
   ],
   "source": [
    "print(data_daily_temp)\n",
    "print(data_daily_temp.shape)"
   ]
  },
  {
   "cell_type": "code",
   "execution_count": 55,
   "metadata": {
    "colab": {
     "base_uri": "https://localhost:8080/",
     "height": 50
    },
    "id": "oy6pofvEgjn6",
    "outputId": "ab98067c-20ed-43b2-b6bf-06f630911c5a"
   },
   "outputs": [
    {
     "name": "stdout",
     "output_type": "stream",
     "text": [
      "(7450, 30, 1)\n",
      "(7450, 1)\n"
     ]
    }
   ],
   "source": [
    "steps=30\n",
    "X_part=[]\n",
    "Y_part=[]\n",
    "for i in range(len(data_daily_temp)-steps):\n",
    "  X_part.append(data_daily_temp[i:i+steps])\n",
    "  Y_part.append(data_daily_temp[i+steps])\n",
    "\n",
    "X_part=np.array(X_part)\n",
    "Y_part=np.array(Y_part)\n",
    "\n",
    "print(X_part.shape)\n",
    "print(Y_part.shape)"
   ]
  },
  {
   "cell_type": "code",
   "execution_count": 56,
   "metadata": {
    "id": "bpkWrRbmhdNq"
   },
   "outputs": [],
   "source": [
    "train_X=X_part[:7300,::]\n",
    "test_X=X_part[7300:,::]\n",
    "\n",
    "train_Y=Y_part[:7300]\n",
    "test_Y=Y_part[7300:]"
   ]
  },
  {
   "cell_type": "code",
   "execution_count": 58,
   "metadata": {
    "id": "2H5i8DK2iAIS"
   },
   "outputs": [],
   "source": [
    "from tensorflow.keras import models, layers, utils, optimizers, callbacks\n",
    "from sklearn.metrics import mean_squared_error, mean_absolute_error"
   ]
  },
  {
   "cell_type": "code",
   "execution_count": 59,
   "metadata": {
    "id": "oD-oi1Plhxxs"
   },
   "outputs": [],
   "source": [
    "model1=models.Sequential()\n",
    "model1.add(layers.Conv1D(filters=128, kernel_size=2, activation=\"relu\", input_shape=(30,1)))\n",
    "model1.add(layers.Conv1D(filters=128, kernel_size=2, activation=\"relu\"))\n",
    "model1.add(layers.MaxPooling1D(pool_size=2))\n",
    "model1.add(layers.Conv1D(filters=256, kernel_size=2, activation=\"relu\"))\n",
    "model1.add(layers.Flatten())\n",
    "model1.add(layers.RepeatVector(30)) #same as input (30,1)\n",
    "model1.add(layers.LSTM(units=100, return_sequences=True, activation=\"relu\"))\n",
    "model1.add(layers.Dropout(0.2))\n",
    "model1.add(layers.LSTM(units=100, return_sequences=True, activation=\"relu\"))\n",
    "model1.add(layers.Dropout(0.2))\n",
    "model1.add(layers.Bidirectional(layers.LSTM(units=128, activation=\"relu\")))\n",
    "model1.add(layers.Dense(100, activation=\"relu\"))\n",
    "model1.add(layers.Dense(1))"
   ]
  },
  {
   "cell_type": "code",
   "execution_count": 60,
   "metadata": {
    "colab": {
     "base_uri": "https://localhost:8080/",
     "height": 588
    },
    "id": "ueFalzsnh6iR",
    "outputId": "994b952b-daf6-424a-81d1-b5b1719f2e7a"
   },
   "outputs": [
    {
     "name": "stdout",
     "output_type": "stream",
     "text": [
      "Model: \"sequential\"\n",
      "_________________________________________________________________\n",
      "Layer (type)                 Output Shape              Param #   \n",
      "=================================================================\n",
      "conv1d (Conv1D)              (None, 29, 128)           384       \n",
      "_________________________________________________________________\n",
      "conv1d_1 (Conv1D)            (None, 28, 128)           32896     \n",
      "_________________________________________________________________\n",
      "max_pooling1d (MaxPooling1D) (None, 14, 128)           0         \n",
      "_________________________________________________________________\n",
      "conv1d_2 (Conv1D)            (None, 13, 256)           65792     \n",
      "_________________________________________________________________\n",
      "flatten (Flatten)            (None, 3328)              0         \n",
      "_________________________________________________________________\n",
      "repeat_vector (RepeatVector) (None, 30, 3328)          0         \n",
      "_________________________________________________________________\n",
      "lstm (LSTM)                  (None, 30, 100)           1371600   \n",
      "_________________________________________________________________\n",
      "dropout (Dropout)            (None, 30, 100)           0         \n",
      "_________________________________________________________________\n",
      "lstm_1 (LSTM)                (None, 30, 100)           80400     \n",
      "_________________________________________________________________\n",
      "dropout_1 (Dropout)          (None, 30, 100)           0         \n",
      "_________________________________________________________________\n",
      "bidirectional (Bidirectional (None, 256)               234496    \n",
      "_________________________________________________________________\n",
      "dense (Dense)                (None, 100)               25700     \n",
      "_________________________________________________________________\n",
      "dense_1 (Dense)              (None, 1)                 101       \n",
      "=================================================================\n",
      "Total params: 1,811,369\n",
      "Trainable params: 1,811,369\n",
      "Non-trainable params: 0\n",
      "_________________________________________________________________\n"
     ]
    }
   ],
   "source": [
    "model1.compile(loss=\"mae\",optimizer=optimizers.Adam(lr=0.0001))\n",
    "model1.summary()"
   ]
  },
  {
   "cell_type": "code",
   "execution_count": 61,
   "metadata": {
    "id": "Ef9lrJkkiNiR"
   },
   "outputs": [],
   "source": [
    "Earlystp=callbacks.EarlyStopping(monitor=\"loss\", mode=\"min\", patience=5, restore_best_weights=True)\n",
    "Savemod=callbacks.ModelCheckpoint(filepath=\"model1_ts.h5\", monitor=\"loss\", save_best_only=True)"
   ]
  },
  {
   "cell_type": "code",
   "execution_count": null,
   "metadata": {
    "id": "jGTiKnNHiTOB"
   },
   "outputs": [],
   "source": [
    "history=model1.fit(train_X, train_Y, epochs=200, verbose=0, callbacks=[Earlystp, Savemod])"
   ]
  },
  {
   "cell_type": "code",
   "execution_count": null,
   "metadata": {
    "id": "MB1DniNyiVbq"
   },
   "outputs": [],
   "source": []
  }
 ],
 "metadata": {
  "colab": {
   "name": "TimeSeries.ipynb",
   "provenance": []
  },
  "kernelspec": {
   "display_name": "Python 3",
   "language": "python",
   "name": "python3"
  },
  "language_info": {
   "codemirror_mode": {
    "name": "ipython",
    "version": 3
   },
   "file_extension": ".py",
   "mimetype": "text/x-python",
   "name": "python",
   "nbconvert_exporter": "python",
   "pygments_lexer": "ipython3",
   "version": "3.7.6"
  }
 },
 "nbformat": 4,
 "nbformat_minor": 1
}
