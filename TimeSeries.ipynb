{
  "nbformat": 4,
  "nbformat_minor": 0,
  "metadata": {
    "colab": {
      "name": "TimeSeries.ipynb",
      "provenance": []
    },
    "kernelspec": {
      "display_name": "Python 3",
      "language": "python",
      "name": "python3"
    },
    "language_info": {
      "codemirror_mode": {
        "name": "ipython",
        "version": 3
      },
      "file_extension": ".py",
      "mimetype": "text/x-python",
      "name": "python",
      "nbconvert_exporter": "python",
      "pygments_lexer": "ipython3",
      "version": "3.7.6"
    }
  },
  "cells": [
    {
      "cell_type": "code",
      "metadata": {
        "id": "iAs1jNptZWJ2"
      },
      "source": [
        "import numpy as np\n",
        "import tensorflow as tf\n",
        "import pandas as pd\n",
        "import matplotlib.pyplot as plt"
      ],
      "execution_count": 1,
      "outputs": []
    },
    {
      "cell_type": "code",
      "metadata": {
        "id": "cwze2zJ1ZfhK"
      },
      "source": [
        "from numpy.random import seed\n",
        "seed(1)\n",
        "tf.random.set_seed(1)"
      ],
      "execution_count": 2,
      "outputs": []
    },
    {
      "cell_type": "code",
      "metadata": {
        "id": "Q7P_jdr3ZqIf",
        "colab": {
          "base_uri": "https://localhost:8080/",
          "height": 590
        },
        "outputId": "d1f0185b-3f98-4cc0-c3ec-6a7110ac183b"
      },
      "source": [
        "dataset=pd.read_csv(\"testset.csv\")\n",
        "dataset"
      ],
      "execution_count": 3,
      "outputs": [
        {
          "output_type": "execute_result",
          "data": {
            "text/html": [
              "<div>\n",
              "<style scoped>\n",
              "    .dataframe tbody tr th:only-of-type {\n",
              "        vertical-align: middle;\n",
              "    }\n",
              "\n",
              "    .dataframe tbody tr th {\n",
              "        vertical-align: top;\n",
              "    }\n",
              "\n",
              "    .dataframe thead th {\n",
              "        text-align: right;\n",
              "    }\n",
              "</style>\n",
              "<table border=\"1\" class=\"dataframe\">\n",
              "  <thead>\n",
              "    <tr style=\"text-align: right;\">\n",
              "      <th></th>\n",
              "      <th>datetime_utc</th>\n",
              "      <th>_conds</th>\n",
              "      <th>_dewptm</th>\n",
              "      <th>_fog</th>\n",
              "      <th>_hail</th>\n",
              "      <th>_heatindexm</th>\n",
              "      <th>_hum</th>\n",
              "      <th>_precipm</th>\n",
              "      <th>_pressurem</th>\n",
              "      <th>_rain</th>\n",
              "      <th>_snow</th>\n",
              "      <th>_tempm</th>\n",
              "      <th>_thunder</th>\n",
              "      <th>_tornado</th>\n",
              "      <th>_vism</th>\n",
              "      <th>_wdird</th>\n",
              "      <th>_wdire</th>\n",
              "      <th>_wgustm</th>\n",
              "      <th>_windchillm</th>\n",
              "      <th>_wspdm</th>\n",
              "    </tr>\n",
              "  </thead>\n",
              "  <tbody>\n",
              "    <tr>\n",
              "      <th>0</th>\n",
              "      <td>19961101-11:00</td>\n",
              "      <td>Smoke</td>\n",
              "      <td>9.0</td>\n",
              "      <td>0</td>\n",
              "      <td>0</td>\n",
              "      <td>NaN</td>\n",
              "      <td>27.0</td>\n",
              "      <td>NaN</td>\n",
              "      <td>1010.0</td>\n",
              "      <td>0</td>\n",
              "      <td>0</td>\n",
              "      <td>30.0</td>\n",
              "      <td>0</td>\n",
              "      <td>0</td>\n",
              "      <td>5.00</td>\n",
              "      <td>280.0</td>\n",
              "      <td>West</td>\n",
              "      <td>NaN</td>\n",
              "      <td>NaN</td>\n",
              "      <td>7.4</td>\n",
              "    </tr>\n",
              "    <tr>\n",
              "      <th>1</th>\n",
              "      <td>19961101-12:00</td>\n",
              "      <td>Smoke</td>\n",
              "      <td>10.0</td>\n",
              "      <td>0</td>\n",
              "      <td>0</td>\n",
              "      <td>NaN</td>\n",
              "      <td>32.0</td>\n",
              "      <td>NaN</td>\n",
              "      <td>-9999.0</td>\n",
              "      <td>0</td>\n",
              "      <td>0</td>\n",
              "      <td>28.0</td>\n",
              "      <td>0</td>\n",
              "      <td>0</td>\n",
              "      <td>NaN</td>\n",
              "      <td>0.0</td>\n",
              "      <td>North</td>\n",
              "      <td>NaN</td>\n",
              "      <td>NaN</td>\n",
              "      <td>NaN</td>\n",
              "    </tr>\n",
              "    <tr>\n",
              "      <th>2</th>\n",
              "      <td>19961101-13:00</td>\n",
              "      <td>Smoke</td>\n",
              "      <td>11.0</td>\n",
              "      <td>0</td>\n",
              "      <td>0</td>\n",
              "      <td>NaN</td>\n",
              "      <td>44.0</td>\n",
              "      <td>NaN</td>\n",
              "      <td>-9999.0</td>\n",
              "      <td>0</td>\n",
              "      <td>0</td>\n",
              "      <td>24.0</td>\n",
              "      <td>0</td>\n",
              "      <td>0</td>\n",
              "      <td>NaN</td>\n",
              "      <td>0.0</td>\n",
              "      <td>North</td>\n",
              "      <td>NaN</td>\n",
              "      <td>NaN</td>\n",
              "      <td>NaN</td>\n",
              "    </tr>\n",
              "    <tr>\n",
              "      <th>3</th>\n",
              "      <td>19961101-14:00</td>\n",
              "      <td>Smoke</td>\n",
              "      <td>10.0</td>\n",
              "      <td>0</td>\n",
              "      <td>0</td>\n",
              "      <td>NaN</td>\n",
              "      <td>41.0</td>\n",
              "      <td>NaN</td>\n",
              "      <td>1010.0</td>\n",
              "      <td>0</td>\n",
              "      <td>0</td>\n",
              "      <td>24.0</td>\n",
              "      <td>0</td>\n",
              "      <td>0</td>\n",
              "      <td>2.00</td>\n",
              "      <td>0.0</td>\n",
              "      <td>North</td>\n",
              "      <td>NaN</td>\n",
              "      <td>NaN</td>\n",
              "      <td>NaN</td>\n",
              "    </tr>\n",
              "    <tr>\n",
              "      <th>4</th>\n",
              "      <td>19961101-16:00</td>\n",
              "      <td>Smoke</td>\n",
              "      <td>11.0</td>\n",
              "      <td>0</td>\n",
              "      <td>0</td>\n",
              "      <td>NaN</td>\n",
              "      <td>47.0</td>\n",
              "      <td>NaN</td>\n",
              "      <td>1011.0</td>\n",
              "      <td>0</td>\n",
              "      <td>0</td>\n",
              "      <td>23.0</td>\n",
              "      <td>0</td>\n",
              "      <td>0</td>\n",
              "      <td>1.20</td>\n",
              "      <td>0.0</td>\n",
              "      <td>North</td>\n",
              "      <td>NaN</td>\n",
              "      <td>NaN</td>\n",
              "      <td>0.0</td>\n",
              "    </tr>\n",
              "    <tr>\n",
              "      <th>...</th>\n",
              "      <td>...</td>\n",
              "      <td>...</td>\n",
              "      <td>...</td>\n",
              "      <td>...</td>\n",
              "      <td>...</td>\n",
              "      <td>...</td>\n",
              "      <td>...</td>\n",
              "      <td>...</td>\n",
              "      <td>...</td>\n",
              "      <td>...</td>\n",
              "      <td>...</td>\n",
              "      <td>...</td>\n",
              "      <td>...</td>\n",
              "      <td>...</td>\n",
              "      <td>...</td>\n",
              "      <td>...</td>\n",
              "      <td>...</td>\n",
              "      <td>...</td>\n",
              "      <td>...</td>\n",
              "      <td>...</td>\n",
              "    </tr>\n",
              "    <tr>\n",
              "      <th>99565</th>\n",
              "      <td>20161231-12:00</td>\n",
              "      <td>Partly Cloudy</td>\n",
              "      <td>15.0</td>\n",
              "      <td>0</td>\n",
              "      <td>0</td>\n",
              "      <td>NaN</td>\n",
              "      <td>77.0</td>\n",
              "      <td>NaN</td>\n",
              "      <td>1015.0</td>\n",
              "      <td>0</td>\n",
              "      <td>0</td>\n",
              "      <td>18.0</td>\n",
              "      <td>0</td>\n",
              "      <td>0</td>\n",
              "      <td>0.50</td>\n",
              "      <td>110.0</td>\n",
              "      <td>ESE</td>\n",
              "      <td>NaN</td>\n",
              "      <td>NaN</td>\n",
              "      <td>7.4</td>\n",
              "    </tr>\n",
              "    <tr>\n",
              "      <th>99566</th>\n",
              "      <td>20161231-13:00</td>\n",
              "      <td>Partly Cloudy</td>\n",
              "      <td>16.0</td>\n",
              "      <td>0</td>\n",
              "      <td>0</td>\n",
              "      <td>NaN</td>\n",
              "      <td>100.0</td>\n",
              "      <td>NaN</td>\n",
              "      <td>1014.0</td>\n",
              "      <td>0</td>\n",
              "      <td>0</td>\n",
              "      <td>16.0</td>\n",
              "      <td>0</td>\n",
              "      <td>0</td>\n",
              "      <td>0.80</td>\n",
              "      <td>90.0</td>\n",
              "      <td>East</td>\n",
              "      <td>NaN</td>\n",
              "      <td>NaN</td>\n",
              "      <td>3.7</td>\n",
              "    </tr>\n",
              "    <tr>\n",
              "      <th>99567</th>\n",
              "      <td>20161231-15:00</td>\n",
              "      <td>NaN</td>\n",
              "      <td>13.0</td>\n",
              "      <td>0</td>\n",
              "      <td>0</td>\n",
              "      <td>NaN</td>\n",
              "      <td>NaN</td>\n",
              "      <td>NaN</td>\n",
              "      <td>1016.0</td>\n",
              "      <td>0</td>\n",
              "      <td>0</td>\n",
              "      <td>NaN</td>\n",
              "      <td>0</td>\n",
              "      <td>0</td>\n",
              "      <td>0.05</td>\n",
              "      <td>10.0</td>\n",
              "      <td>North</td>\n",
              "      <td>NaN</td>\n",
              "      <td>NaN</td>\n",
              "      <td>59.3</td>\n",
              "    </tr>\n",
              "    <tr>\n",
              "      <th>99568</th>\n",
              "      <td>20161231-18:00</td>\n",
              "      <td>Patches of Fog</td>\n",
              "      <td>12.0</td>\n",
              "      <td>1</td>\n",
              "      <td>0</td>\n",
              "      <td>NaN</td>\n",
              "      <td>100.0</td>\n",
              "      <td>NaN</td>\n",
              "      <td>1016.0</td>\n",
              "      <td>0</td>\n",
              "      <td>0</td>\n",
              "      <td>12.0</td>\n",
              "      <td>0</td>\n",
              "      <td>0</td>\n",
              "      <td>0.50</td>\n",
              "      <td>NaN</td>\n",
              "      <td>NaN</td>\n",
              "      <td>NaN</td>\n",
              "      <td>NaN</td>\n",
              "      <td>0.0</td>\n",
              "    </tr>\n",
              "    <tr>\n",
              "      <th>99569</th>\n",
              "      <td>20161231-21:00</td>\n",
              "      <td>Patches of Fog</td>\n",
              "      <td>12.0</td>\n",
              "      <td>1</td>\n",
              "      <td>0</td>\n",
              "      <td>NaN</td>\n",
              "      <td>99.0</td>\n",
              "      <td>NaN</td>\n",
              "      <td>1016.0</td>\n",
              "      <td>0</td>\n",
              "      <td>0</td>\n",
              "      <td>12.0</td>\n",
              "      <td>0</td>\n",
              "      <td>0</td>\n",
              "      <td>0.50</td>\n",
              "      <td>NaN</td>\n",
              "      <td>NaN</td>\n",
              "      <td>NaN</td>\n",
              "      <td>NaN</td>\n",
              "      <td>0.0</td>\n",
              "    </tr>\n",
              "  </tbody>\n",
              "</table>\n",
              "<p>99570 rows × 20 columns</p>\n",
              "</div>"
            ],
            "text/plain": [
              "         datetime_utc          _conds  _dewptm  ...  _wgustm  _windchillm  _wspdm\n",
              "0      19961101-11:00           Smoke      9.0  ...      NaN          NaN     7.4\n",
              "1      19961101-12:00           Smoke     10.0  ...      NaN          NaN     NaN\n",
              "2      19961101-13:00           Smoke     11.0  ...      NaN          NaN     NaN\n",
              "3      19961101-14:00           Smoke     10.0  ...      NaN          NaN     NaN\n",
              "4      19961101-16:00           Smoke     11.0  ...      NaN          NaN     0.0\n",
              "...               ...             ...      ...  ...      ...          ...     ...\n",
              "99565  20161231-12:00   Partly Cloudy     15.0  ...      NaN          NaN     7.4\n",
              "99566  20161231-13:00   Partly Cloudy     16.0  ...      NaN          NaN     3.7\n",
              "99567  20161231-15:00             NaN     13.0  ...      NaN          NaN    59.3\n",
              "99568  20161231-18:00  Patches of Fog     12.0  ...      NaN          NaN     0.0\n",
              "99569  20161231-21:00  Patches of Fog     12.0  ...      NaN          NaN     0.0\n",
              "\n",
              "[99570 rows x 20 columns]"
            ]
          },
          "metadata": {
            "tags": []
          },
          "execution_count": 3
        }
      ]
    },
    {
      "cell_type": "code",
      "metadata": {
        "id": "6jgxx_wVZ3MY",
        "colab": {
          "base_uri": "https://localhost:8080/"
        },
        "outputId": "4d259dbe-099f-488b-cb43-4d2dbf90bad6"
      },
      "source": [
        "dataset.info()"
      ],
      "execution_count": 4,
      "outputs": [
        {
          "output_type": "stream",
          "text": [
            "<class 'pandas.core.frame.DataFrame'>\n",
            "RangeIndex: 99570 entries, 0 to 99569\n",
            "Data columns (total 20 columns):\n",
            " #   Column        Non-Null Count  Dtype  \n",
            "---  ------        --------------  -----  \n",
            " 0   datetime_utc  99570 non-null  object \n",
            " 1   _conds        99500 non-null  object \n",
            " 2   _dewptm       98950 non-null  float64\n",
            " 3   _fog          99570 non-null  int64  \n",
            " 4   _hail         99570 non-null  int64  \n",
            " 5   _heatindexm   29113 non-null  float64\n",
            " 6   _hum          98814 non-null  float64\n",
            " 7   _precipm      0 non-null      float64\n",
            " 8   _pressurem    99338 non-null  float64\n",
            " 9   _rain         99570 non-null  int64  \n",
            " 10  _snow         99570 non-null  int64  \n",
            " 11  _tempm        98898 non-null  float64\n",
            " 12  _thunder      99570 non-null  int64  \n",
            " 13  _tornado      99570 non-null  int64  \n",
            " 14  _vism         95142 non-null  float64\n",
            " 15  _wdird        85078 non-null  float64\n",
            " 16  _wdire        85078 non-null  object \n",
            " 17  _wgustm       1063 non-null   float64\n",
            " 18  _windchillm   573 non-null    float64\n",
            " 19  _wspdm        97212 non-null  float64\n",
            "dtypes: float64(11), int64(6), object(3)\n",
            "memory usage: 15.2+ MB\n"
          ],
          "name": "stdout"
        }
      ]
    },
    {
      "cell_type": "code",
      "metadata": {
        "id": "4MqRJ7KsZ8rt",
        "colab": {
          "base_uri": "https://localhost:8080/",
          "height": 304
        },
        "outputId": "833f0ea2-5715-455a-db9a-a8a7b5255b2e"
      },
      "source": [
        "dataset.describe()"
      ],
      "execution_count": 5,
      "outputs": [
        {
          "output_type": "execute_result",
          "data": {
            "text/html": [
              "<div>\n",
              "<style scoped>\n",
              "    .dataframe tbody tr th:only-of-type {\n",
              "        vertical-align: middle;\n",
              "    }\n",
              "\n",
              "    .dataframe tbody tr th {\n",
              "        vertical-align: top;\n",
              "    }\n",
              "\n",
              "    .dataframe thead th {\n",
              "        text-align: right;\n",
              "    }\n",
              "</style>\n",
              "<table border=\"1\" class=\"dataframe\">\n",
              "  <thead>\n",
              "    <tr style=\"text-align: right;\">\n",
              "      <th></th>\n",
              "      <th>_dewptm</th>\n",
              "      <th>_fog</th>\n",
              "      <th>_hail</th>\n",
              "      <th>_heatindexm</th>\n",
              "      <th>_hum</th>\n",
              "      <th>_precipm</th>\n",
              "      <th>_pressurem</th>\n",
              "      <th>_rain</th>\n",
              "      <th>_snow</th>\n",
              "      <th>_tempm</th>\n",
              "      <th>_thunder</th>\n",
              "      <th>_tornado</th>\n",
              "      <th>_vism</th>\n",
              "      <th>_wdird</th>\n",
              "      <th>_wgustm</th>\n",
              "      <th>_windchillm</th>\n",
              "      <th>_wspdm</th>\n",
              "    </tr>\n",
              "  </thead>\n",
              "  <tbody>\n",
              "    <tr>\n",
              "      <th>count</th>\n",
              "      <td>98950.000000</td>\n",
              "      <td>99570.000000</td>\n",
              "      <td>99570.000000</td>\n",
              "      <td>29113.000000</td>\n",
              "      <td>98814.000000</td>\n",
              "      <td>0.0</td>\n",
              "      <td>9.933800e+04</td>\n",
              "      <td>99570.000000</td>\n",
              "      <td>99570.000000</td>\n",
              "      <td>98898.000000</td>\n",
              "      <td>99570.000000</td>\n",
              "      <td>99570.000000</td>\n",
              "      <td>95142.000000</td>\n",
              "      <td>85078.000000</td>\n",
              "      <td>1063.000000</td>\n",
              "      <td>573.000000</td>\n",
              "      <td>97212.000000</td>\n",
              "    </tr>\n",
              "    <tr>\n",
              "      <th>mean</th>\n",
              "      <td>15.788388</td>\n",
              "      <td>0.068746</td>\n",
              "      <td>0.000131</td>\n",
              "      <td>35.659046</td>\n",
              "      <td>57.848260</td>\n",
              "      <td>NaN</td>\n",
              "      <td>1.945683e+03</td>\n",
              "      <td>0.026323</td>\n",
              "      <td>0.000010</td>\n",
              "      <td>25.526553</td>\n",
              "      <td>0.009300</td>\n",
              "      <td>0.000020</td>\n",
              "      <td>2.411756</td>\n",
              "      <td>162.660053</td>\n",
              "      <td>37.704516</td>\n",
              "      <td>5.708202</td>\n",
              "      <td>7.674429</td>\n",
              "    </tr>\n",
              "    <tr>\n",
              "      <th>std</th>\n",
              "      <td>7.085844</td>\n",
              "      <td>0.253022</td>\n",
              "      <td>0.011426</td>\n",
              "      <td>5.013863</td>\n",
              "      <td>23.765629</td>\n",
              "      <td>NaN</td>\n",
              "      <td>3.206461e+05</td>\n",
              "      <td>0.160095</td>\n",
              "      <td>0.003169</td>\n",
              "      <td>8.471719</td>\n",
              "      <td>0.095987</td>\n",
              "      <td>0.004482</td>\n",
              "      <td>20.899818</td>\n",
              "      <td>119.994031</td>\n",
              "      <td>6.841070</td>\n",
              "      <td>1.205967</td>\n",
              "      <td>11.982335</td>\n",
              "    </tr>\n",
              "    <tr>\n",
              "      <th>min</th>\n",
              "      <td>-24.000000</td>\n",
              "      <td>0.000000</td>\n",
              "      <td>0.000000</td>\n",
              "      <td>26.800000</td>\n",
              "      <td>4.000000</td>\n",
              "      <td>NaN</td>\n",
              "      <td>-9.999000e+03</td>\n",
              "      <td>0.000000</td>\n",
              "      <td>0.000000</td>\n",
              "      <td>1.000000</td>\n",
              "      <td>0.000000</td>\n",
              "      <td>0.000000</td>\n",
              "      <td>0.000000</td>\n",
              "      <td>0.000000</td>\n",
              "      <td>25.900000</td>\n",
              "      <td>2.100000</td>\n",
              "      <td>0.000000</td>\n",
              "    </tr>\n",
              "    <tr>\n",
              "      <th>25%</th>\n",
              "      <td>10.000000</td>\n",
              "      <td>0.000000</td>\n",
              "      <td>0.000000</td>\n",
              "      <td>31.700000</td>\n",
              "      <td>39.000000</td>\n",
              "      <td>NaN</td>\n",
              "      <td>1.002000e+03</td>\n",
              "      <td>0.000000</td>\n",
              "      <td>0.000000</td>\n",
              "      <td>19.000000</td>\n",
              "      <td>0.000000</td>\n",
              "      <td>0.000000</td>\n",
              "      <td>1.500000</td>\n",
              "      <td>50.000000</td>\n",
              "      <td>33.300000</td>\n",
              "      <td>4.900000</td>\n",
              "      <td>0.000000</td>\n",
              "    </tr>\n",
              "    <tr>\n",
              "      <th>50%</th>\n",
              "      <td>15.000000</td>\n",
              "      <td>0.000000</td>\n",
              "      <td>0.000000</td>\n",
              "      <td>35.100000</td>\n",
              "      <td>58.000000</td>\n",
              "      <td>NaN</td>\n",
              "      <td>1.008000e+03</td>\n",
              "      <td>0.000000</td>\n",
              "      <td>0.000000</td>\n",
              "      <td>27.000000</td>\n",
              "      <td>0.000000</td>\n",
              "      <td>0.000000</td>\n",
              "      <td>2.000000</td>\n",
              "      <td>150.000000</td>\n",
              "      <td>37.000000</td>\n",
              "      <td>6.100000</td>\n",
              "      <td>7.400000</td>\n",
              "    </tr>\n",
              "    <tr>\n",
              "      <th>75%</th>\n",
              "      <td>22.000000</td>\n",
              "      <td>0.000000</td>\n",
              "      <td>0.000000</td>\n",
              "      <td>39.200000</td>\n",
              "      <td>78.000000</td>\n",
              "      <td>NaN</td>\n",
              "      <td>1.014000e+03</td>\n",
              "      <td>0.000000</td>\n",
              "      <td>0.000000</td>\n",
              "      <td>32.000000</td>\n",
              "      <td>0.000000</td>\n",
              "      <td>0.000000</td>\n",
              "      <td>3.000000</td>\n",
              "      <td>270.000000</td>\n",
              "      <td>40.700000</td>\n",
              "      <td>6.800000</td>\n",
              "      <td>11.100000</td>\n",
              "    </tr>\n",
              "    <tr>\n",
              "      <th>max</th>\n",
              "      <td>75.000000</td>\n",
              "      <td>1.000000</td>\n",
              "      <td>1.000000</td>\n",
              "      <td>73.600000</td>\n",
              "      <td>243.000000</td>\n",
              "      <td>NaN</td>\n",
              "      <td>1.010614e+08</td>\n",
              "      <td>1.000000</td>\n",
              "      <td>1.000000</td>\n",
              "      <td>90.000000</td>\n",
              "      <td>1.000000</td>\n",
              "      <td>1.000000</td>\n",
              "      <td>6436.000000</td>\n",
              "      <td>960.000000</td>\n",
              "      <td>92.600000</td>\n",
              "      <td>7.300000</td>\n",
              "      <td>1514.900000</td>\n",
              "    </tr>\n",
              "  </tbody>\n",
              "</table>\n",
              "</div>"
            ],
            "text/plain": [
              "            _dewptm          _fog  ...  _windchillm        _wspdm\n",
              "count  98950.000000  99570.000000  ...   573.000000  97212.000000\n",
              "mean      15.788388      0.068746  ...     5.708202      7.674429\n",
              "std        7.085844      0.253022  ...     1.205967     11.982335\n",
              "min      -24.000000      0.000000  ...     2.100000      0.000000\n",
              "25%       10.000000      0.000000  ...     4.900000      0.000000\n",
              "50%       15.000000      0.000000  ...     6.100000      7.400000\n",
              "75%       22.000000      0.000000  ...     6.800000     11.100000\n",
              "max       75.000000      1.000000  ...     7.300000   1514.900000\n",
              "\n",
              "[8 rows x 17 columns]"
            ]
          },
          "metadata": {
            "tags": []
          },
          "execution_count": 5
        }
      ]
    },
    {
      "cell_type": "code",
      "metadata": {
        "id": "fJuDIkezaAII",
        "colab": {
          "base_uri": "https://localhost:8080/"
        },
        "outputId": "0d47e1cc-bfda-49c0-f7e7-6d3fb34f1353"
      },
      "source": [
        "dataset.columns=dataset.columns.str.replace(\"_\",\"\")\n",
        "dataset.columns=dataset.columns.str.replace(\" \",\"\")\n",
        "dataset.columns"
      ],
      "execution_count": 6,
      "outputs": [
        {
          "output_type": "execute_result",
          "data": {
            "text/plain": [
              "Index(['datetimeutc', 'conds', 'dewptm', 'fog', 'hail', 'heatindexm', 'hum',\n",
              "       'precipm', 'pressurem', 'rain', 'snow', 'tempm', 'thunder', 'tornado',\n",
              "       'vism', 'wdird', 'wdire', 'wgustm', 'windchillm', 'wspdm'],\n",
              "      dtype='object')"
            ]
          },
          "metadata": {
            "tags": []
          },
          "execution_count": 6
        }
      ]
    },
    {
      "cell_type": "code",
      "metadata": {
        "id": "C1KB3fYHaPQ1",
        "colab": {
          "base_uri": "https://localhost:8080/",
          "height": 402
        },
        "outputId": "90083aa9-69fe-439e-d4dd-fc43c99306fc"
      },
      "source": [
        "# dataset.drop(\"conds\",inplace=True,axis=1)\n",
        "# dataset.drop(,inplace=True,axis=1)\n",
        "# dataset.drop(,inplace=True,axis=1)\n",
        "# dataset.drop(inplace=True,axis=1)\n",
        "# dataset.drop(,inplace=True,axis=1)\n",
        "# dataset.drop(inplace=True,axis=1)\n",
        "# dataset.drop(inplace=True,axis=1)\n",
        "# dataset.drop(,inplace=True,axis=1)\n",
        "dataset.drop(columns=[\"conds\",\"dewptm\",\"fog\",\"hail\",\"heatindexm\",\"precipm\",\"rain\",\"snow\",\"thunder\",\"tornado\",\"vism\",\"wdird\",\"wdire\",\"wgustm\",\"windchillm\"],inplace=True,axis=1)\n",
        "dataset"
      ],
      "execution_count": 7,
      "outputs": [
        {
          "output_type": "execute_result",
          "data": {
            "text/html": [
              "<div>\n",
              "<style scoped>\n",
              "    .dataframe tbody tr th:only-of-type {\n",
              "        vertical-align: middle;\n",
              "    }\n",
              "\n",
              "    .dataframe tbody tr th {\n",
              "        vertical-align: top;\n",
              "    }\n",
              "\n",
              "    .dataframe thead th {\n",
              "        text-align: right;\n",
              "    }\n",
              "</style>\n",
              "<table border=\"1\" class=\"dataframe\">\n",
              "  <thead>\n",
              "    <tr style=\"text-align: right;\">\n",
              "      <th></th>\n",
              "      <th>datetimeutc</th>\n",
              "      <th>hum</th>\n",
              "      <th>pressurem</th>\n",
              "      <th>tempm</th>\n",
              "      <th>wspdm</th>\n",
              "    </tr>\n",
              "  </thead>\n",
              "  <tbody>\n",
              "    <tr>\n",
              "      <th>0</th>\n",
              "      <td>19961101-11:00</td>\n",
              "      <td>27.0</td>\n",
              "      <td>1010.0</td>\n",
              "      <td>30.0</td>\n",
              "      <td>7.4</td>\n",
              "    </tr>\n",
              "    <tr>\n",
              "      <th>1</th>\n",
              "      <td>19961101-12:00</td>\n",
              "      <td>32.0</td>\n",
              "      <td>-9999.0</td>\n",
              "      <td>28.0</td>\n",
              "      <td>NaN</td>\n",
              "    </tr>\n",
              "    <tr>\n",
              "      <th>2</th>\n",
              "      <td>19961101-13:00</td>\n",
              "      <td>44.0</td>\n",
              "      <td>-9999.0</td>\n",
              "      <td>24.0</td>\n",
              "      <td>NaN</td>\n",
              "    </tr>\n",
              "    <tr>\n",
              "      <th>3</th>\n",
              "      <td>19961101-14:00</td>\n",
              "      <td>41.0</td>\n",
              "      <td>1010.0</td>\n",
              "      <td>24.0</td>\n",
              "      <td>NaN</td>\n",
              "    </tr>\n",
              "    <tr>\n",
              "      <th>4</th>\n",
              "      <td>19961101-16:00</td>\n",
              "      <td>47.0</td>\n",
              "      <td>1011.0</td>\n",
              "      <td>23.0</td>\n",
              "      <td>0.0</td>\n",
              "    </tr>\n",
              "    <tr>\n",
              "      <th>...</th>\n",
              "      <td>...</td>\n",
              "      <td>...</td>\n",
              "      <td>...</td>\n",
              "      <td>...</td>\n",
              "      <td>...</td>\n",
              "    </tr>\n",
              "    <tr>\n",
              "      <th>99565</th>\n",
              "      <td>20161231-12:00</td>\n",
              "      <td>77.0</td>\n",
              "      <td>1015.0</td>\n",
              "      <td>18.0</td>\n",
              "      <td>7.4</td>\n",
              "    </tr>\n",
              "    <tr>\n",
              "      <th>99566</th>\n",
              "      <td>20161231-13:00</td>\n",
              "      <td>100.0</td>\n",
              "      <td>1014.0</td>\n",
              "      <td>16.0</td>\n",
              "      <td>3.7</td>\n",
              "    </tr>\n",
              "    <tr>\n",
              "      <th>99567</th>\n",
              "      <td>20161231-15:00</td>\n",
              "      <td>NaN</td>\n",
              "      <td>1016.0</td>\n",
              "      <td>NaN</td>\n",
              "      <td>59.3</td>\n",
              "    </tr>\n",
              "    <tr>\n",
              "      <th>99568</th>\n",
              "      <td>20161231-18:00</td>\n",
              "      <td>100.0</td>\n",
              "      <td>1016.0</td>\n",
              "      <td>12.0</td>\n",
              "      <td>0.0</td>\n",
              "    </tr>\n",
              "    <tr>\n",
              "      <th>99569</th>\n",
              "      <td>20161231-21:00</td>\n",
              "      <td>99.0</td>\n",
              "      <td>1016.0</td>\n",
              "      <td>12.0</td>\n",
              "      <td>0.0</td>\n",
              "    </tr>\n",
              "  </tbody>\n",
              "</table>\n",
              "<p>99570 rows × 5 columns</p>\n",
              "</div>"
            ],
            "text/plain": [
              "          datetimeutc    hum  pressurem  tempm  wspdm\n",
              "0      19961101-11:00   27.0     1010.0   30.0    7.4\n",
              "1      19961101-12:00   32.0    -9999.0   28.0    NaN\n",
              "2      19961101-13:00   44.0    -9999.0   24.0    NaN\n",
              "3      19961101-14:00   41.0     1010.0   24.0    NaN\n",
              "4      19961101-16:00   47.0     1011.0   23.0    0.0\n",
              "...               ...    ...        ...    ...    ...\n",
              "99565  20161231-12:00   77.0     1015.0   18.0    7.4\n",
              "99566  20161231-13:00  100.0     1014.0   16.0    3.7\n",
              "99567  20161231-15:00    NaN     1016.0    NaN   59.3\n",
              "99568  20161231-18:00  100.0     1016.0   12.0    0.0\n",
              "99569  20161231-21:00   99.0     1016.0   12.0    0.0\n",
              "\n",
              "[99570 rows x 5 columns]"
            ]
          },
          "metadata": {
            "tags": []
          },
          "execution_count": 7
        }
      ]
    },
    {
      "cell_type": "code",
      "metadata": {
        "id": "IqgMWpXUcIkf",
        "colab": {
          "base_uri": "https://localhost:8080/"
        },
        "outputId": "f1ded056-a35e-4a3b-f14b-c3a715e794f7"
      },
      "source": [
        "dataset.replace(0,np.nan)\n",
        "dataset.isnull().sum()"
      ],
      "execution_count": 8,
      "outputs": [
        {
          "output_type": "execute_result",
          "data": {
            "text/plain": [
              "datetimeutc       0\n",
              "hum             756\n",
              "pressurem       232\n",
              "tempm           672\n",
              "wspdm          2358\n",
              "dtype: int64"
            ]
          },
          "metadata": {
            "tags": []
          },
          "execution_count": 8
        }
      ]
    },
    {
      "cell_type": "code",
      "metadata": {
        "id": "DHzrYjS4ce5s"
      },
      "source": [
        "hum_median=dataset[\"hum\"].median()\n",
        "dataset[\"hum\"].fillna(hum_median,inplace=True)\n",
        "pressurem_median=dataset[\"pressurem\"].median()\n",
        "dataset[\"pressurem\"].fillna(pressurem_median,inplace=True)\n",
        "wspdm_median=dataset[\"wspdm\"].median()\n",
        "dataset[\"wspdm\"].fillna(wspdm_median,inplace=True)\n",
        "tempm_median=dataset[\"tempm\"].median()\n",
        "dataset[\"tempm\"].fillna(tempm_median,inplace=True)"
      ],
      "execution_count": 9,
      "outputs": []
    },
    {
      "cell_type": "code",
      "metadata": {
        "id": "7e4L_DKodRaW",
        "colab": {
          "base_uri": "https://localhost:8080/"
        },
        "outputId": "39234626-c1c2-4e72-da46-1f5bde4465b8"
      },
      "source": [
        "dataset.isnull().sum()"
      ],
      "execution_count": 10,
      "outputs": [
        {
          "output_type": "execute_result",
          "data": {
            "text/plain": [
              "datetimeutc    0\n",
              "hum            0\n",
              "pressurem      0\n",
              "tempm          0\n",
              "wspdm          0\n",
              "dtype: int64"
            ]
          },
          "metadata": {
            "tags": []
          },
          "execution_count": 10
        }
      ]
    },
    {
      "cell_type": "code",
      "metadata": {
        "id": "VdxnBas3dU_v"
      },
      "source": [
        "timeseries_data=dataset.copy()"
      ],
      "execution_count": 11,
      "outputs": []
    },
    {
      "cell_type": "code",
      "metadata": {
        "id": "LVJgxwtDd00H",
        "colab": {
          "base_uri": "https://localhost:8080/"
        },
        "outputId": "059242c6-3889-44b8-fe32-4fa1213c11f9"
      },
      "source": [
        "timeseries_data[\"datetimeutc\"].dtype"
      ],
      "execution_count": 12,
      "outputs": [
        {
          "output_type": "execute_result",
          "data": {
            "text/plain": [
              "dtype('O')"
            ]
          },
          "metadata": {
            "tags": []
          },
          "execution_count": 12
        }
      ]
    },
    {
      "cell_type": "code",
      "metadata": {
        "id": "5arRsIZcd5uU"
      },
      "source": [
        "timeseries_data[\"datetimeutc\"]=pd.to_datetime(timeseries_data[\"datetimeutc\"])"
      ],
      "execution_count": 13,
      "outputs": []
    },
    {
      "cell_type": "code",
      "metadata": {
        "id": "9AepaRMReKH4"
      },
      "source": [
        "timeseries_data.set_index(\"datetimeutc\",inplace=True)"
      ],
      "execution_count": 14,
      "outputs": []
    },
    {
      "cell_type": "code",
      "metadata": {
        "id": "0DwOrRfQeQkD",
        "colab": {
          "base_uri": "https://localhost:8080/",
          "height": 431
        },
        "outputId": "dd1c3964-ff09-4c9c-ef79-00fc55e000fb"
      },
      "source": [
        "timeseries_data"
      ],
      "execution_count": 15,
      "outputs": [
        {
          "output_type": "execute_result",
          "data": {
            "text/html": [
              "<div>\n",
              "<style scoped>\n",
              "    .dataframe tbody tr th:only-of-type {\n",
              "        vertical-align: middle;\n",
              "    }\n",
              "\n",
              "    .dataframe tbody tr th {\n",
              "        vertical-align: top;\n",
              "    }\n",
              "\n",
              "    .dataframe thead th {\n",
              "        text-align: right;\n",
              "    }\n",
              "</style>\n",
              "<table border=\"1\" class=\"dataframe\">\n",
              "  <thead>\n",
              "    <tr style=\"text-align: right;\">\n",
              "      <th></th>\n",
              "      <th>hum</th>\n",
              "      <th>pressurem</th>\n",
              "      <th>tempm</th>\n",
              "      <th>wspdm</th>\n",
              "    </tr>\n",
              "    <tr>\n",
              "      <th>datetimeutc</th>\n",
              "      <th></th>\n",
              "      <th></th>\n",
              "      <th></th>\n",
              "      <th></th>\n",
              "    </tr>\n",
              "  </thead>\n",
              "  <tbody>\n",
              "    <tr>\n",
              "      <th>1996-11-01 11:00:00</th>\n",
              "      <td>27.0</td>\n",
              "      <td>1010.0</td>\n",
              "      <td>30.0</td>\n",
              "      <td>7.4</td>\n",
              "    </tr>\n",
              "    <tr>\n",
              "      <th>1996-11-01 12:00:00</th>\n",
              "      <td>32.0</td>\n",
              "      <td>-9999.0</td>\n",
              "      <td>28.0</td>\n",
              "      <td>7.4</td>\n",
              "    </tr>\n",
              "    <tr>\n",
              "      <th>1996-11-01 13:00:00</th>\n",
              "      <td>44.0</td>\n",
              "      <td>-9999.0</td>\n",
              "      <td>24.0</td>\n",
              "      <td>7.4</td>\n",
              "    </tr>\n",
              "    <tr>\n",
              "      <th>1996-11-01 14:00:00</th>\n",
              "      <td>41.0</td>\n",
              "      <td>1010.0</td>\n",
              "      <td>24.0</td>\n",
              "      <td>7.4</td>\n",
              "    </tr>\n",
              "    <tr>\n",
              "      <th>1996-11-01 16:00:00</th>\n",
              "      <td>47.0</td>\n",
              "      <td>1011.0</td>\n",
              "      <td>23.0</td>\n",
              "      <td>0.0</td>\n",
              "    </tr>\n",
              "    <tr>\n",
              "      <th>...</th>\n",
              "      <td>...</td>\n",
              "      <td>...</td>\n",
              "      <td>...</td>\n",
              "      <td>...</td>\n",
              "    </tr>\n",
              "    <tr>\n",
              "      <th>2016-12-31 12:00:00</th>\n",
              "      <td>77.0</td>\n",
              "      <td>1015.0</td>\n",
              "      <td>18.0</td>\n",
              "      <td>7.4</td>\n",
              "    </tr>\n",
              "    <tr>\n",
              "      <th>2016-12-31 13:00:00</th>\n",
              "      <td>100.0</td>\n",
              "      <td>1014.0</td>\n",
              "      <td>16.0</td>\n",
              "      <td>3.7</td>\n",
              "    </tr>\n",
              "    <tr>\n",
              "      <th>2016-12-31 15:00:00</th>\n",
              "      <td>58.0</td>\n",
              "      <td>1016.0</td>\n",
              "      <td>27.0</td>\n",
              "      <td>59.3</td>\n",
              "    </tr>\n",
              "    <tr>\n",
              "      <th>2016-12-31 18:00:00</th>\n",
              "      <td>100.0</td>\n",
              "      <td>1016.0</td>\n",
              "      <td>12.0</td>\n",
              "      <td>0.0</td>\n",
              "    </tr>\n",
              "    <tr>\n",
              "      <th>2016-12-31 21:00:00</th>\n",
              "      <td>99.0</td>\n",
              "      <td>1016.0</td>\n",
              "      <td>12.0</td>\n",
              "      <td>0.0</td>\n",
              "    </tr>\n",
              "  </tbody>\n",
              "</table>\n",
              "<p>99570 rows × 4 columns</p>\n",
              "</div>"
            ],
            "text/plain": [
              "                       hum  pressurem  tempm  wspdm\n",
              "datetimeutc                                        \n",
              "1996-11-01 11:00:00   27.0     1010.0   30.0    7.4\n",
              "1996-11-01 12:00:00   32.0    -9999.0   28.0    7.4\n",
              "1996-11-01 13:00:00   44.0    -9999.0   24.0    7.4\n",
              "1996-11-01 14:00:00   41.0     1010.0   24.0    7.4\n",
              "1996-11-01 16:00:00   47.0     1011.0   23.0    0.0\n",
              "...                    ...        ...    ...    ...\n",
              "2016-12-31 12:00:00   77.0     1015.0   18.0    7.4\n",
              "2016-12-31 13:00:00  100.0     1014.0   16.0    3.7\n",
              "2016-12-31 15:00:00   58.0     1016.0   27.0   59.3\n",
              "2016-12-31 18:00:00  100.0     1016.0   12.0    0.0\n",
              "2016-12-31 21:00:00   99.0     1016.0   12.0    0.0\n",
              "\n",
              "[99570 rows x 4 columns]"
            ]
          },
          "metadata": {
            "tags": []
          },
          "execution_count": 15
        }
      ]
    },
    {
      "cell_type": "code",
      "metadata": {
        "id": "kvybm4W_eSh0",
        "colab": {
          "base_uri": "https://localhost:8080/",
          "height": 431
        },
        "outputId": "0463c339-af2a-448d-b3f4-3706f7aeebb1"
      },
      "source": [
        "data_daily=timeseries_data.resample(\"D\").mean()\n",
        "data_daily"
      ],
      "execution_count": 16,
      "outputs": [
        {
          "output_type": "execute_result",
          "data": {
            "text/html": [
              "<div>\n",
              "<style scoped>\n",
              "    .dataframe tbody tr th:only-of-type {\n",
              "        vertical-align: middle;\n",
              "    }\n",
              "\n",
              "    .dataframe tbody tr th {\n",
              "        vertical-align: top;\n",
              "    }\n",
              "\n",
              "    .dataframe thead th {\n",
              "        text-align: right;\n",
              "    }\n",
              "</style>\n",
              "<table border=\"1\" class=\"dataframe\">\n",
              "  <thead>\n",
              "    <tr style=\"text-align: right;\">\n",
              "      <th></th>\n",
              "      <th>hum</th>\n",
              "      <th>pressurem</th>\n",
              "      <th>tempm</th>\n",
              "      <th>wspdm</th>\n",
              "    </tr>\n",
              "    <tr>\n",
              "      <th>datetimeutc</th>\n",
              "      <th></th>\n",
              "      <th></th>\n",
              "      <th></th>\n",
              "      <th></th>\n",
              "    </tr>\n",
              "  </thead>\n",
              "  <tbody>\n",
              "    <tr>\n",
              "      <th>1996-11-01</th>\n",
              "      <td>52.916667</td>\n",
              "      <td>-2659.666667</td>\n",
              "      <td>22.333333</td>\n",
              "      <td>6.166667</td>\n",
              "    </tr>\n",
              "    <tr>\n",
              "      <th>1996-11-02</th>\n",
              "      <td>48.625000</td>\n",
              "      <td>1009.833333</td>\n",
              "      <td>22.916667</td>\n",
              "      <td>7.950000</td>\n",
              "    </tr>\n",
              "    <tr>\n",
              "      <th>1996-11-03</th>\n",
              "      <td>55.958333</td>\n",
              "      <td>1010.500000</td>\n",
              "      <td>21.791667</td>\n",
              "      <td>5.020833</td>\n",
              "    </tr>\n",
              "    <tr>\n",
              "      <th>1996-11-04</th>\n",
              "      <td>48.055556</td>\n",
              "      <td>1011.333333</td>\n",
              "      <td>22.722222</td>\n",
              "      <td>2.266667</td>\n",
              "    </tr>\n",
              "    <tr>\n",
              "      <th>1996-11-05</th>\n",
              "      <td>29.400000</td>\n",
              "      <td>1011.800000</td>\n",
              "      <td>27.800000</td>\n",
              "      <td>10.020000</td>\n",
              "    </tr>\n",
              "    <tr>\n",
              "      <th>...</th>\n",
              "      <td>...</td>\n",
              "      <td>...</td>\n",
              "      <td>...</td>\n",
              "      <td>...</td>\n",
              "    </tr>\n",
              "    <tr>\n",
              "      <th>2016-12-27</th>\n",
              "      <td>67.550000</td>\n",
              "      <td>1017.200000</td>\n",
              "      <td>16.850000</td>\n",
              "      <td>8.335000</td>\n",
              "    </tr>\n",
              "    <tr>\n",
              "      <th>2016-12-28</th>\n",
              "      <td>68.043478</td>\n",
              "      <td>1015.565217</td>\n",
              "      <td>17.217391</td>\n",
              "      <td>3.547826</td>\n",
              "    </tr>\n",
              "    <tr>\n",
              "      <th>2016-12-29</th>\n",
              "      <td>87.857143</td>\n",
              "      <td>1016.904762</td>\n",
              "      <td>15.238095</td>\n",
              "      <td>6.000000</td>\n",
              "    </tr>\n",
              "    <tr>\n",
              "      <th>2016-12-30</th>\n",
              "      <td>89.666667</td>\n",
              "      <td>1017.904762</td>\n",
              "      <td>14.095238</td>\n",
              "      <td>6.266667</td>\n",
              "    </tr>\n",
              "    <tr>\n",
              "      <th>2016-12-31</th>\n",
              "      <td>85.550000</td>\n",
              "      <td>1016.100000</td>\n",
              "      <td>15.650000</td>\n",
              "      <td>7.325000</td>\n",
              "    </tr>\n",
              "  </tbody>\n",
              "</table>\n",
              "<p>7366 rows × 4 columns</p>\n",
              "</div>"
            ],
            "text/plain": [
              "                   hum    pressurem      tempm      wspdm\n",
              "datetimeutc                                              \n",
              "1996-11-01   52.916667 -2659.666667  22.333333   6.166667\n",
              "1996-11-02   48.625000  1009.833333  22.916667   7.950000\n",
              "1996-11-03   55.958333  1010.500000  21.791667   5.020833\n",
              "1996-11-04   48.055556  1011.333333  22.722222   2.266667\n",
              "1996-11-05   29.400000  1011.800000  27.800000  10.020000\n",
              "...                ...          ...        ...        ...\n",
              "2016-12-27   67.550000  1017.200000  16.850000   8.335000\n",
              "2016-12-28   68.043478  1015.565217  17.217391   3.547826\n",
              "2016-12-29   87.857143  1016.904762  15.238095   6.000000\n",
              "2016-12-30   89.666667  1017.904762  14.095238   6.266667\n",
              "2016-12-31   85.550000  1016.100000  15.650000   7.325000\n",
              "\n",
              "[7366 rows x 4 columns]"
            ]
          },
          "metadata": {
            "tags": []
          },
          "execution_count": 16
        }
      ]
    },
    {
      "cell_type": "code",
      "metadata": {
        "id": "ALZIl3Qnef4a",
        "colab": {
          "base_uri": "https://localhost:8080/"
        },
        "outputId": "4599deea-ab04-4f3a-aee0-59c2ad345c31"
      },
      "source": [
        "data_daily.isnull().sum()"
      ],
      "execution_count": 17,
      "outputs": [
        {
          "output_type": "execute_result",
          "data": {
            "text/plain": [
              "hum          141\n",
              "pressurem    141\n",
              "tempm        141\n",
              "wspdm        141\n",
              "dtype: int64"
            ]
          },
          "metadata": {
            "tags": []
          },
          "execution_count": 17
        }
      ]
    },
    {
      "cell_type": "code",
      "metadata": {
        "id": "pyWtTzcFemEP",
        "colab": {
          "base_uri": "https://localhost:8080/"
        },
        "outputId": "3ac58d50-74fd-4cd3-8db2-87aebea3b647"
      },
      "source": [
        "data_daily.fillna(data_daily.mean(),inplace=True)\n",
        "data_daily.isnull().sum()"
      ],
      "execution_count": 18,
      "outputs": [
        {
          "output_type": "execute_result",
          "data": {
            "text/plain": [
              "hum          0\n",
              "pressurem    0\n",
              "tempm        0\n",
              "wspdm        0\n",
              "dtype: int64"
            ]
          },
          "metadata": {
            "tags": []
          },
          "execution_count": 18
        }
      ]
    },
    {
      "cell_type": "code",
      "metadata": {
        "id": "qN5Aa1x2exG5"
      },
      "source": [
        "data_daily_temp=pd.DataFrame(list(data_daily[\"tempm\"]),columns=[\"temp\"])"
      ],
      "execution_count": 19,
      "outputs": []
    },
    {
      "cell_type": "code",
      "metadata": {
        "id": "ZUuFY7TBfBQH",
        "colab": {
          "base_uri": "https://localhost:8080/",
          "height": 402
        },
        "outputId": "7b9c1648-67e2-4695-88c2-b9e5423f8c2d"
      },
      "source": [
        "data_daily_temp"
      ],
      "execution_count": 20,
      "outputs": [
        {
          "output_type": "execute_result",
          "data": {
            "text/html": [
              "<div>\n",
              "<style scoped>\n",
              "    .dataframe tbody tr th:only-of-type {\n",
              "        vertical-align: middle;\n",
              "    }\n",
              "\n",
              "    .dataframe tbody tr th {\n",
              "        vertical-align: top;\n",
              "    }\n",
              "\n",
              "    .dataframe thead th {\n",
              "        text-align: right;\n",
              "    }\n",
              "</style>\n",
              "<table border=\"1\" class=\"dataframe\">\n",
              "  <thead>\n",
              "    <tr style=\"text-align: right;\">\n",
              "      <th></th>\n",
              "      <th>temp</th>\n",
              "    </tr>\n",
              "  </thead>\n",
              "  <tbody>\n",
              "    <tr>\n",
              "      <th>0</th>\n",
              "      <td>22.333333</td>\n",
              "    </tr>\n",
              "    <tr>\n",
              "      <th>1</th>\n",
              "      <td>22.916667</td>\n",
              "    </tr>\n",
              "    <tr>\n",
              "      <th>2</th>\n",
              "      <td>21.791667</td>\n",
              "    </tr>\n",
              "    <tr>\n",
              "      <th>3</th>\n",
              "      <td>22.722222</td>\n",
              "    </tr>\n",
              "    <tr>\n",
              "      <th>4</th>\n",
              "      <td>27.800000</td>\n",
              "    </tr>\n",
              "    <tr>\n",
              "      <th>...</th>\n",
              "      <td>...</td>\n",
              "    </tr>\n",
              "    <tr>\n",
              "      <th>7361</th>\n",
              "      <td>16.850000</td>\n",
              "    </tr>\n",
              "    <tr>\n",
              "      <th>7362</th>\n",
              "      <td>17.217391</td>\n",
              "    </tr>\n",
              "    <tr>\n",
              "      <th>7363</th>\n",
              "      <td>15.238095</td>\n",
              "    </tr>\n",
              "    <tr>\n",
              "      <th>7364</th>\n",
              "      <td>14.095238</td>\n",
              "    </tr>\n",
              "    <tr>\n",
              "      <th>7365</th>\n",
              "      <td>15.650000</td>\n",
              "    </tr>\n",
              "  </tbody>\n",
              "</table>\n",
              "<p>7366 rows × 1 columns</p>\n",
              "</div>"
            ],
            "text/plain": [
              "           temp\n",
              "0     22.333333\n",
              "1     22.916667\n",
              "2     21.791667\n",
              "3     22.722222\n",
              "4     27.800000\n",
              "...         ...\n",
              "7361  16.850000\n",
              "7362  17.217391\n",
              "7363  15.238095\n",
              "7364  14.095238\n",
              "7365  15.650000\n",
              "\n",
              "[7366 rows x 1 columns]"
            ]
          },
          "metadata": {
            "tags": []
          },
          "execution_count": 20
        }
      ]
    },
    {
      "cell_type": "code",
      "metadata": {
        "id": "xnjdn70jfdGk",
        "colab": {
          "base_uri": "https://localhost:8080/",
          "height": 499
        },
        "outputId": "50d64cba-61d5-40af-e5dc-0ff7d01f450c"
      },
      "source": [
        "plt.figure(figsize=(20,8))\n",
        "plt.plot(data_daily_temp)\n",
        "plt.title(\"Delhi Temp Variation\")\n",
        "plt.show()"
      ],
      "execution_count": 21,
      "outputs": [
        {
          "output_type": "display_data",
          "data": {
            "image/png": "[encoded data removed]",
            "text/plain": [
              "<Figure size 1440x576 with 1 Axes>"
            ]
          },
          "metadata": {
            "tags": [],
            "needs_background": "light"
          }
        }
      ]
    },
    {
      "cell_type": "code",
      "metadata": {
        "id": "Ws9SxWGtfoRZ"
      },
      "source": [
        "from sklearn.preprocessing import LabelEncoder, MinMaxScaler\n",
        "scaler=MinMaxScaler(feature_range=(-1,1))\n",
        "data_daily_temp=scaler.fit_transform(data_daily_temp)"
      ],
      "execution_count": 22,
      "outputs": []
    },
    {
      "cell_type": "code",
      "metadata": {
        "id": "HH_H0rIogK_7",
        "colab": {
          "base_uri": "https://localhost:8080/"
        },
        "outputId": "1728579d-f236-4fbd-da4d-a66b2003dfbd"
      },
      "source": [
        "print(data_daily_temp)\n",
        "print(data_daily_temp.shape)"
      ],
      "execution_count": 23,
      "outputs": [
        {
          "output_type": "stream",
          "text": [
            "[[-0.07224714]\n",
            " [-0.0391131 ]\n",
            " [-0.10301445]\n",
            " ...\n",
            " [-0.47526514]\n",
            " [-0.5401808 ]\n",
            " [-0.45186846]]\n",
            "(7366, 1)\n"
          ],
          "name": "stdout"
        }
      ]
    },
    {
      "cell_type": "code",
      "metadata": {
        "id": "oy6pofvEgjn6",
        "colab": {
          "base_uri": "https://localhost:8080/"
        },
        "outputId": "7c3f342b-1dd8-46a2-c931-8b66d7779c92"
      },
      "source": [
        "steps=30\n",
        "X_part=[]\n",
        "Y_part=[]\n",
        "for i in range(len(data_daily_temp)-steps):\n",
        "  X_part.append(data_daily_temp[i:i+steps])\n",
        "  Y_part.append(data_daily_temp[i+steps])\n",
        "\n",
        "X_part=np.array(X_part)\n",
        "Y_part=np.array(Y_part)\n",
        "\n",
        "print(X_part.shape)\n",
        "print(Y_part.shape)"
      ],
      "execution_count": 24,
      "outputs": [
        {
          "output_type": "stream",
          "text": [
            "(7336, 30, 1)\n",
            "(7336, 1)\n"
          ],
          "name": "stdout"
        }
      ]
    },
    {
      "cell_type": "code",
      "metadata": {
        "id": "bpkWrRbmhdNq"
      },
      "source": [
        "train_X=X_part[:7000,::]\n",
        "test_X=X_part[7000:,::]\n",
        "\n",
        "train_Y=Y_part[:7000]\n",
        "test_Y=Y_part[7000:]"
      ],
      "execution_count": 25,
      "outputs": []
    },
    {
      "cell_type": "code",
      "metadata": {
        "id": "2H5i8DK2iAIS"
      },
      "source": [
        "from tensorflow.keras import models, layers, utils, optimizers, callbacks\n",
        "from sklearn.metrics import mean_squared_error, mean_absolute_error"
      ],
      "execution_count": 26,
      "outputs": []
    },
    {
      "cell_type": "code",
      "metadata": {
        "id": "oD-oi1Plhxxs"
      },
      "source": [
        "model1=models.Sequential()\n",
        "model1.add(layers.Conv1D(filters=128, kernel_size=2, activation=\"relu\", input_shape=(30,1)))\n",
        "model1.add(layers.Conv1D(filters=128, kernel_size=2, activation=\"relu\"))\n",
        "model1.add(layers.MaxPooling1D(pool_size=2))\n",
        "model1.add(layers.Conv1D(filters=256, kernel_size=2, activation=\"relu\"))\n",
        "model1.add(layers.Flatten())\n",
        "model1.add(layers.RepeatVector(30)) #same as input (30,1)\n",
        "model1.add(layers.LSTM(units=100, return_sequences=True, activation=\"relu\"))\n",
        "model1.add(layers.Dropout(0.2))\n",
        "model1.add(layers.LSTM(units=100, return_sequences=True, activation=\"relu\"))\n",
        "model1.add(layers.Dropout(0.2))\n",
        "model1.add(layers.Bidirectional(layers.LSTM(units=128, activation=\"relu\")))\n",
        "model1.add(layers.Dense(100, activation=\"relu\"))\n",
        "model1.add(layers.Dense(1))"
      ],
      "execution_count": 27,
      "outputs": []
    },
    {
      "cell_type": "code",
      "metadata": {
        "id": "ueFalzsnh6iR",
        "colab": {
          "base_uri": "https://localhost:8080/"
        },
        "outputId": "a8392716-09bc-4d4a-9054-643852231461"
      },
      "source": [
        "model1.compile(loss=\"mae\",optimizer=optimizers.Adam(lr=0.0001))\n",
        "model1.summary()"
      ],
      "execution_count": 28,
      "outputs": [
        {
          "output_type": "stream",
          "text": [
            "Model: \"sequential\"\n",
            "_________________________________________________________________\n",
            "Layer (type)                 Output Shape              Param #   \n",
            "=================================================================\n",
            "conv1d (Conv1D)              (None, 29, 128)           384       \n",
            "_________________________________________________________________\n",
            "conv1d_1 (Conv1D)            (None, 28, 128)           32896     \n",
            "_________________________________________________________________\n",
            "max_pooling1d (MaxPooling1D) (None, 14, 128)           0         \n",
            "_________________________________________________________________\n",
            "conv1d_2 (Conv1D)            (None, 13, 256)           65792     \n",
            "_________________________________________________________________\n",
            "flatten (Flatten)            (None, 3328)              0         \n",
            "_________________________________________________________________\n",
            "repeat_vector (RepeatVector) (None, 30, 3328)          0         \n",
            "_________________________________________________________________\n",
            "lstm (LSTM)                  (None, 30, 100)           1371600   \n",
            "_________________________________________________________________\n",
            "dropout (Dropout)            (None, 30, 100)           0         \n",
            "_________________________________________________________________\n",
            "lstm_1 (LSTM)                (None, 30, 100)           80400     \n",
            "_________________________________________________________________\n",
            "dropout_1 (Dropout)          (None, 30, 100)           0         \n",
            "_________________________________________________________________\n",
            "bidirectional (Bidirectional (None, 256)               234496    \n",
            "_________________________________________________________________\n",
            "dense (Dense)                (None, 100)               25700     \n",
            "_________________________________________________________________\n",
            "dense_1 (Dense)              (None, 1)                 101       \n",
            "=================================================================\n",
            "Total params: 1,811,369\n",
            "Trainable params: 1,811,369\n",
            "Non-trainable params: 0\n",
            "_________________________________________________________________\n"
          ],
          "name": "stdout"
        }
      ]
    },
    {
      "cell_type": "code",
      "metadata": {
        "id": "Ef9lrJkkiNiR"
      },
      "source": [
        "Earlystp=callbacks.EarlyStopping(monitor=\"loss\", mode=\"min\", patience=5, restore_best_weights=True)\n",
        "Savemod=callbacks.ModelCheckpoint(filepath=\"model1_ts.h5\", monitor=\"loss\", save_best_only=True)"
      ],
      "execution_count": 29,
      "outputs": []
    },
    {
      "cell_type": "code",
      "metadata": {
        "id": "jGTiKnNHiTOB",
        "colab": {
          "base_uri": "https://localhost:8080/"
        },
        "outputId": "faccadfd-f67a-4fde-cecc-96d70ebb9190"
      },
      "source": [
        "history=model1.fit(train_X, train_Y, epochs=200, callbacks=[Earlystp, Savemod])"
      ],
      "execution_count": null,
      "outputs": [
        {
          "output_type": "stream",
          "text": [
            "Epoch 1/200\n",
            "219/219 [==============================] - 85s 389ms/step - loss: 0.1429\n",
            "Epoch 2/200\n",
            "219/219 [==============================] - 84s 385ms/step - loss: 0.0918\n",
            "Epoch 3/200\n",
            "219/219 [==============================] - 84s 385ms/step - loss: 0.0818\n",
            "Epoch 4/200\n",
            "219/219 [==============================] - 85s 388ms/step - loss: 0.0778\n",
            "Epoch 5/200\n",
            "219/219 [==============================] - 91s 417ms/step - loss: 0.0773\n",
            "Epoch 6/200\n",
            "219/219 [==============================] - 84s 385ms/step - loss: 0.0753\n",
            "Epoch 7/200\n",
            "219/219 [==============================] - 84s 382ms/step - loss: 0.0735\n",
            "Epoch 8/200\n",
            "219/219 [==============================] - 84s 382ms/step - loss: 0.0758\n",
            "Epoch 9/200\n",
            "219/219 [==============================] - 84s 385ms/step - loss: 0.0737\n",
            "Epoch 10/200\n",
            "219/219 [==============================] - 85s 387ms/step - loss: 0.0732\n",
            "Epoch 11/200\n",
            "219/219 [==============================] - 85s 389ms/step - loss: 0.0730\n",
            "Epoch 12/200\n",
            "219/219 [==============================] - 85s 387ms/step - loss: 0.0734\n",
            "Epoch 13/200\n",
            "219/219 [==============================] - 85s 387ms/step - loss: 0.0712\n",
            "Epoch 14/200\n",
            "219/219 [==============================] - 85s 386ms/step - loss: 0.0730\n",
            "Epoch 15/200\n",
            "219/219 [==============================] - 85s 388ms/step - loss: 0.0718\n",
            "Epoch 16/200\n",
            "219/219 [==============================] - 85s 390ms/step - loss: 0.0705\n",
            "Epoch 17/200\n",
            "219/219 [==============================] - 86s 392ms/step - loss: 0.0704\n",
            "Epoch 18/200\n",
            "219/219 [==============================] - 85s 388ms/step - loss: 0.0709\n",
            "Epoch 19/200\n",
            "219/219 [==============================] - 85s 388ms/step - loss: 0.0704\n",
            "Epoch 20/200\n",
            "219/219 [==============================] - 86s 391ms/step - loss: 0.0709\n",
            "Epoch 21/200\n",
            "219/219 [==============================] - 85s 390ms/step - loss: 0.0702\n",
            "Epoch 22/200\n",
            "219/219 [==============================] - 85s 389ms/step - loss: 0.0695\n",
            "Epoch 23/200\n",
            "219/219 [==============================] - 85s 387ms/step - loss: 0.0694\n",
            "Epoch 24/200\n",
            "219/219 [==============================] - 84s 385ms/step - loss: 0.0687\n",
            "Epoch 25/200\n",
            "219/219 [==============================] - 89s 407ms/step - loss: 0.0690\n",
            "Epoch 26/200\n",
            "219/219 [==============================] - 85s 390ms/step - loss: 0.0698\n",
            "Epoch 27/200\n",
            "219/219 [==============================] - 85s 388ms/step - loss: 0.0681\n",
            "Epoch 28/200\n",
            "219/219 [==============================] - 85s 388ms/step - loss: 0.0672\n",
            "Epoch 29/200\n",
            "219/219 [==============================] - 85s 388ms/step - loss: 0.0672\n",
            "Epoch 30/200\n",
            "219/219 [==============================] - 84s 386ms/step - loss: 0.0663\n",
            "Epoch 31/200\n",
            "219/219 [==============================] - 84s 385ms/step - loss: 0.0667\n",
            "Epoch 32/200\n",
            "219/219 [==============================] - 87s 396ms/step - loss: 0.0658\n",
            "Epoch 33/200\n",
            "219/219 [==============================] - 87s 396ms/step - loss: 0.0661\n",
            "Epoch 34/200\n",
            "219/219 [==============================] - 84s 382ms/step - loss: 0.0650\n",
            "Epoch 35/200\n",
            "219/219 [==============================] - 85s 386ms/step - loss: 0.0650\n",
            "Epoch 36/200\n",
            "219/219 [==============================] - 84s 383ms/step - loss: 0.0652\n",
            "Epoch 37/200\n",
            "219/219 [==============================] - 83s 381ms/step - loss: 0.0645\n",
            "Epoch 38/200\n",
            "219/219 [==============================] - 83s 381ms/step - loss: 0.0637\n",
            "Epoch 39/200\n",
            "219/219 [==============================] - 85s 388ms/step - loss: 0.0631\n",
            "Epoch 40/200\n",
            "219/219 [==============================] - 86s 390ms/step - loss: 0.0629\n",
            "Epoch 41/200\n",
            "219/219 [==============================] - 86s 390ms/step - loss: 0.0618\n",
            "Epoch 42/200\n",
            "219/219 [==============================] - 84s 384ms/step - loss: 0.0615\n",
            "Epoch 43/200\n",
            "219/219 [==============================] - 84s 382ms/step - loss: 0.0620\n",
            "Epoch 44/200\n",
            "219/219 [==============================] - 84s 382ms/step - loss: 0.0612\n",
            "Epoch 45/200\n",
            "219/219 [==============================] - 83s 380ms/step - loss: 0.0597\n",
            "Epoch 46/200\n",
            "219/219 [==============================] - 84s 383ms/step - loss: 0.0603\n",
            "Epoch 47/200\n",
            "219/219 [==============================] - 83s 381ms/step - loss: 0.0590\n",
            "Epoch 48/200\n",
            "219/219 [==============================] - 83s 380ms/step - loss: 0.0587\n",
            "Epoch 49/200\n",
            "219/219 [==============================] - 83s 378ms/step - loss: 0.0574\n",
            "Epoch 50/200\n",
            "219/219 [==============================] - 83s 381ms/step - loss: 0.0578\n",
            "Epoch 51/200\n",
            "219/219 [==============================] - 84s 384ms/step - loss: 0.0566\n",
            "Epoch 52/200\n",
            "219/219 [==============================] - 83s 380ms/step - loss: 0.0555\n",
            "Epoch 53/200\n",
            "219/219 [==============================] - 84s 383ms/step - loss: 0.0551\n",
            "Epoch 54/200\n",
            "219/219 [==============================] - 83s 380ms/step - loss: 0.0554\n",
            "Epoch 55/200\n",
            "219/219 [==============================] - 84s 383ms/step - loss: 0.0542\n",
            "Epoch 56/200\n",
            "219/219 [==============================] - 83s 380ms/step - loss: 0.0530\n",
            "Epoch 57/200\n",
            "219/219 [==============================] - 84s 384ms/step - loss: 0.0535\n",
            "Epoch 58/200\n",
            "219/219 [==============================] - 84s 383ms/step - loss: 0.0517\n",
            "Epoch 59/200\n",
            "219/219 [==============================] - 84s 382ms/step - loss: 0.0523\n",
            "Epoch 60/200\n",
            "219/219 [==============================] - 84s 382ms/step - loss: 0.0516\n",
            "Epoch 61/200\n",
            "219/219 [==============================] - 87s 397ms/step - loss: 0.0500\n",
            "Epoch 62/200\n",
            "219/219 [==============================] - 85s 386ms/step - loss: 0.0498\n",
            "Epoch 63/200\n",
            "219/219 [==============================] - 84s 383ms/step - loss: 0.0486\n",
            "Epoch 64/200\n",
            "219/219 [==============================] - 84s 385ms/step - loss: 0.0484\n",
            "Epoch 65/200\n",
            "219/219 [==============================] - 84s 384ms/step - loss: 0.0479\n",
            "Epoch 66/200\n",
            "219/219 [==============================] - 84s 383ms/step - loss: 0.0470\n",
            "Epoch 67/200\n",
            "219/219 [==============================] - 83s 381ms/step - loss: 0.0462\n",
            "Epoch 68/200\n",
            "219/219 [==============================] - 90s 409ms/step - loss: 0.0455\n",
            "Epoch 69/200\n",
            "219/219 [==============================] - 84s 386ms/step - loss: 0.0452\n",
            "Epoch 70/200\n",
            "219/219 [==============================] - 85s 389ms/step - loss: 0.0446\n",
            "Epoch 71/200\n",
            "219/219 [==============================] - 85s 389ms/step - loss: 0.0446\n",
            "Epoch 72/200\n",
            "219/219 [==============================] - 85s 390ms/step - loss: 0.0430\n",
            "Epoch 73/200\n",
            "219/219 [==============================] - 85s 389ms/step - loss: 0.0425\n",
            "Epoch 74/200\n",
            "219/219 [==============================] - 85s 389ms/step - loss: 0.0414\n",
            "Epoch 75/200\n",
            "219/219 [==============================] - 91s 414ms/step - loss: 0.0421\n",
            "Epoch 76/200\n",
            "219/219 [==============================] - 84s 386ms/step - loss: 0.0411\n",
            "Epoch 77/200\n",
            "219/219 [==============================] - 85s 388ms/step - loss: 0.0404\n",
            "Epoch 78/200\n",
            "219/219 [==============================] - 85s 390ms/step - loss: 0.0393\n",
            "Epoch 79/200\n",
            "219/219 [==============================] - 85s 390ms/step - loss: 0.0387\n",
            "Epoch 80/200\n",
            "219/219 [==============================] - 85s 389ms/step - loss: 0.0380\n",
            "Epoch 81/200\n",
            "219/219 [==============================] - 85s 388ms/step - loss: 0.0375\n",
            "Epoch 82/200\n",
            "219/219 [==============================] - 85s 387ms/step - loss: 0.0368\n",
            "Epoch 83/200\n",
            "219/219 [==============================] - 85s 389ms/step - loss: 0.0359\n",
            "Epoch 84/200\n",
            "219/219 [==============================] - 85s 389ms/step - loss: 0.0362\n",
            "Epoch 85/200\n",
            "219/219 [==============================] - 85s 390ms/step - loss: 0.0354\n",
            "Epoch 86/200\n",
            "219/219 [==============================] - 86s 394ms/step - loss: 0.0348\n",
            "Epoch 87/200\n",
            "219/219 [==============================] - 85s 388ms/step - loss: 0.0344\n",
            "Epoch 88/200\n",
            "219/219 [==============================] - 85s 390ms/step - loss: 0.0335\n",
            "Epoch 89/200\n",
            "219/219 [==============================] - 86s 391ms/step - loss: 0.0336\n",
            "Epoch 90/200\n",
            "219/219 [==============================] - 86s 391ms/step - loss: 0.0326\n",
            "Epoch 91/200\n",
            "219/219 [==============================] - 85s 388ms/step - loss: 0.0325\n",
            "Epoch 92/200\n",
            "219/219 [==============================] - 83s 381ms/step - loss: 0.0327\n",
            "Epoch 93/200\n",
            "219/219 [==============================] - 84s 385ms/step - loss: 0.0319\n",
            "Epoch 94/200\n",
            "219/219 [==============================] - 85s 387ms/step - loss: 0.0308\n",
            "Epoch 95/200\n",
            "219/219 [==============================] - 85s 387ms/step - loss: 0.0304\n",
            "Epoch 96/200\n",
            "219/219 [==============================] - 85s 388ms/step - loss: 0.0300\n",
            "Epoch 97/200\n",
            "219/219 [==============================] - 85s 387ms/step - loss: 0.0295\n",
            "Epoch 98/200\n",
            "219/219 [==============================] - 84s 386ms/step - loss: 0.0295\n",
            "Epoch 99/200\n",
            "219/219 [==============================] - 85s 386ms/step - loss: 0.0282\n",
            "Epoch 100/200\n",
            "219/219 [==============================] - 84s 385ms/step - loss: 0.0288\n",
            "Epoch 101/200\n",
            "219/219 [==============================] - 85s 386ms/step - loss: 0.0288\n",
            "Epoch 102/200\n",
            "219/219 [==============================] - 84s 386ms/step - loss: 0.0271\n",
            "Epoch 103/200\n",
            "219/219 [==============================] - 84s 382ms/step - loss: 0.0270\n",
            "Epoch 104/200\n",
            "219/219 [==============================] - 84s 384ms/step - loss: 0.0271\n",
            "Epoch 105/200\n",
            "219/219 [==============================] - 86s 391ms/step - loss: 0.0261\n",
            "Epoch 106/200\n",
            "219/219 [==============================] - 84s 385ms/step - loss: 0.0257\n",
            "Epoch 107/200\n",
            "219/219 [==============================] - 85s 386ms/step - loss: 0.0258\n",
            "Epoch 108/200\n",
            "219/219 [==============================] - 85s 389ms/step - loss: 0.0256\n",
            "Epoch 109/200\n",
            "219/219 [==============================] - 85s 387ms/step - loss: 0.0253\n",
            "Epoch 110/200\n",
            "219/219 [==============================] - 90s 412ms/step - loss: 0.0249\n",
            "Epoch 111/200\n",
            "219/219 [==============================] - 85s 389ms/step - loss: 0.0246\n",
            "Epoch 112/200\n",
            "219/219 [==============================] - 86s 391ms/step - loss: 0.0244\n",
            "Epoch 113/200\n",
            "219/219 [==============================] - 85s 388ms/step - loss: 0.0241\n",
            "Epoch 114/200\n",
            "219/219 [==============================] - 84s 385ms/step - loss: 0.0233\n",
            "Epoch 115/200\n",
            "219/219 [==============================] - 84s 385ms/step - loss: 0.0234\n",
            "Epoch 116/200\n",
            "219/219 [==============================] - 85s 388ms/step - loss: 0.0233\n",
            "Epoch 117/200\n",
            "219/219 [==============================] - 90s 413ms/step - loss: 0.0225\n",
            "Epoch 118/200\n",
            "219/219 [==============================] - 84s 384ms/step - loss: 0.0235\n",
            "Epoch 119/200\n",
            "219/219 [==============================] - 84s 384ms/step - loss: 0.0231\n",
            "Epoch 120/200\n",
            "219/219 [==============================] - 84s 386ms/step - loss: 0.0222\n",
            "Epoch 121/200\n",
            "219/219 [==============================] - 84s 384ms/step - loss: 0.0215\n",
            "Epoch 122/200\n",
            "201/219 [==========================>...] - ETA: 6s - loss: 0.0218"
          ],
          "name": "stdout"
        }
      ]
    },
    {
      "cell_type": "code",
      "metadata": {
        "id": "MB1DniNyiVbq"
      },
      "source": [
        "hist=history.history\n",
        "train_loss=hist[\"loss\"]\n",
        "epoch=range(1,len(train_loss)+1)"
      ],
      "execution_count": null,
      "outputs": []
    },
    {
      "cell_type": "code",
      "metadata": {
        "id": "lSICOSn64Gp_"
      },
      "source": [
        "plt.plot(epoch,train_loss)"
      ],
      "execution_count": null,
      "outputs": []
    },
    {
      "cell_type": "code",
      "metadata": {
        "id": "KbAsnLoG4KLK"
      },
      "source": [
        "model1=models.load_model(\"model1_ts.h5\")"
      ],
      "execution_count": null,
      "outputs": []
    },
    {
      "cell_type": "code",
      "metadata": {
        "id": "6tpD73XC4RzM"
      },
      "source": [
        "preds=model1.predict(test_X)"
      ],
      "execution_count": null,
      "outputs": []
    },
    {
      "cell_type": "code",
      "metadata": {
        "id": "Fwf7gnd26kud"
      },
      "source": [
        "preds=scaler.inverse_transform(preds)"
      ],
      "execution_count": null,
      "outputs": []
    },
    {
      "cell_type": "code",
      "metadata": {
        "id": "foyM8sRX6sHR"
      },
      "source": [
        "preds"
      ],
      "execution_count": null,
      "outputs": []
    },
    {
      "cell_type": "code",
      "metadata": {
        "id": "OfnIEaa_6tPo"
      },
      "source": [
        "test_Y_inv=scaler.inverse_transform(test_Y)"
      ],
      "execution_count": null,
      "outputs": []
    },
    {
      "cell_type": "code",
      "metadata": {
        "id": "tu61r1pj63Pr"
      },
      "source": [
        "plt.figure(figsize=(20,9))\n",
        "plt.plot(test_Y_inv,'blue',linewidth=5)\n",
        "plt.plot(preds,'r',linewidth=4)\n",
        "plt.legend(('Test','Predicted'))\n",
        "plt.show()"
      ],
      "execution_count": null,
      "outputs": []
    },
    {
      "cell_type": "code",
      "metadata": {
        "id": "toDQ8-C0-Ouo"
      },
      "source": [
        "mse=mean_squared_error(test_Y_inv,preds)\n",
        "mae=mean_absolute_error(test_Y_inv,preds)\n",
        "print(f'{mse} {mae}')"
      ],
      "execution_count": null,
      "outputs": []
    },
    {
      "cell_type": "code",
      "metadata": {
        "id": "nYZhN_zg-kXK"
      },
      "source": [
        "test=pd.read_csv(\"DailyDelhiClimateTest.csv\")\n",
        "test"
      ],
      "execution_count": null,
      "outputs": []
    },
    {
      "cell_type": "code",
      "metadata": {
        "id": "byIIGRHUrmZo"
      },
      "source": [
        "test.isnull().sum()"
      ],
      "execution_count": null,
      "outputs": []
    },
    {
      "cell_type": "code",
      "metadata": {
        "id": "OyyAqcK-r6QY"
      },
      "source": [
        "timeseries_test=test.copy()"
      ],
      "execution_count": null,
      "outputs": []
    },
    {
      "cell_type": "code",
      "metadata": {
        "id": "-yzGptEisHdu"
      },
      "source": [
        "timeseries_test[\"date\"].dtype"
      ],
      "execution_count": null,
      "outputs": []
    },
    {
      "cell_type": "code",
      "metadata": {
        "id": "TCTKhTOusMtd"
      },
      "source": [
        "timeseries_test[\"date\"]=pd.to_datetime(timeseries_test[\"date\"])"
      ],
      "execution_count": null,
      "outputs": []
    },
    {
      "cell_type": "code",
      "metadata": {
        "id": "en4y254tsZ61"
      },
      "source": [
        "timeseries_test.set_index(\"date\",inplace=True)\n",
        "timeseries_test"
      ],
      "execution_count": null,
      "outputs": []
    },
    {
      "cell_type": "code",
      "metadata": {
        "id": "Ypkd1CKkspdu"
      },
      "source": [
        "timeseries_test.isnull().sum()"
      ],
      "execution_count": null,
      "outputs": []
    },
    {
      "cell_type": "code",
      "metadata": {
        "id": "HGQF0sqbs3Qc"
      },
      "source": [
        "test_data_temp=pd.DataFrame(list(timeseries_test[\"meantemp\"]),columns=[\"temp\"])\n",
        "test_data_temp"
      ],
      "execution_count": null,
      "outputs": []
    },
    {
      "cell_type": "code",
      "metadata": {
        "id": "3p5Z2e_LuQmc"
      },
      "source": [
        "from sklearn.preprocessing import LabelEncoder, MinMaxScaler\n",
        "scaler=MinMaxScaler(feature_range=(-1,1))\n",
        "test_data_temp=scaler.fit_transform(test_data_temp)"
      ],
      "execution_count": null,
      "outputs": []
    },
    {
      "cell_type": "code",
      "metadata": {
        "id": "gSVvMGlEuWhy"
      },
      "source": [
        "print(test_data_temp)\n",
        "print(test_data_temp.shape)"
      ],
      "execution_count": null,
      "outputs": []
    },
    {
      "cell_type": "code",
      "metadata": {
        "id": "yBuk62ujtHCK"
      },
      "source": [
        "steps=30\n",
        "X_test=[]\n",
        "Y_test=[]\n",
        "for i in range(len(test_data_temp)-steps):\n",
        "  X_test.append(test_data_temp[i:i+steps])\n",
        "  Y_test.append(test_data_temp[i+steps])\n",
        "X_test=np.array(X_test)\n",
        "Y_test=np.array(Y_test)\n",
        "\n",
        "print(X_test.shape)\n",
        "print(Y_test.shape)"
      ],
      "execution_count": null,
      "outputs": []
    },
    {
      "cell_type": "code",
      "metadata": {
        "id": "PmZ971wfttR_"
      },
      "source": [
        "X_test=np.array(X_test)\n",
        "Y_test=np.array(Y_test)\n",
        "\n",
        "print(X_test.shape)\n",
        "print(Y_test.shape)"
      ],
      "execution_count": null,
      "outputs": []
    },
    {
      "cell_type": "code",
      "metadata": {
        "id": "e1E8ghDcuJNL"
      },
      "source": [
        "preds=model1.predict(X_test)"
      ],
      "execution_count": null,
      "outputs": []
    },
    {
      "cell_type": "code",
      "metadata": {
        "id": "peYBYwIRuk8m"
      },
      "source": [
        "preds=scaler.inverse_transform(preds)"
      ],
      "execution_count": null,
      "outputs": []
    },
    {
      "cell_type": "code",
      "metadata": {
        "id": "Nmnf43pQurOX"
      },
      "source": [
        "preds"
      ],
      "execution_count": null,
      "outputs": []
    },
    {
      "cell_type": "code",
      "metadata": {
        "id": "AYDJBZSyusO4"
      },
      "source": [
        "Y_test_inv=scaler.inverse_transform(Y_test)"
      ],
      "execution_count": null,
      "outputs": []
    },
    {
      "cell_type": "code",
      "metadata": {
        "id": "MUm1WxOPu5dY"
      },
      "source": [
        "plt.figure(figsize=(20,9))\n",
        "plt.plot(Y_test_inv,'blue',linewidth=5)\n",
        "plt.plot(preds,'r',linewidth=4)\n",
        "plt.legend(('Test','Predicted'))\n",
        "plt.show()"
      ],
      "execution_count": null,
      "outputs": []
    },
    {
      "cell_type": "code",
      "metadata": {
        "id": "ndVzAAl4u85T"
      },
      "source": [
        "mse=mean_squared_error(Y_test_inv,preds)\n",
        "mae=mean_absolute_error(Y_test_inv,preds)\n",
        "print(f'{mse} {mae}')"
      ],
      "execution_count": null,
      "outputs": []
    },
    {
      "cell_type": "code",
      "metadata": {
        "id": "ZZlLIxkSvCDT"
      },
      "source": [
        ""
      ],
      "execution_count": null,
      "outputs": []
    }
  ]
}