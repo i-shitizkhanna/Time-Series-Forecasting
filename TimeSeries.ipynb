{
  "nbformat": 4,
  "nbformat_minor": 0,
  "metadata": {
    "colab": {
      "name": "TimeSeries.ipynb",
      "provenance": []
    },
    "kernelspec": {
      "display_name": "Python 3",
      "language": "python",
      "name": "python3"
    },
    "language_info": {
      "codemirror_mode": {
        "name": "ipython",
        "version": 3
      },
      "file_extension": ".py",
      "mimetype": "text/x-python",
      "name": "python",
      "nbconvert_exporter": "python",
      "pygments_lexer": "ipython3",
      "version": "3.7.6"
    }
  },
  "cells": [
    {
      "cell_type": "code",
      "metadata": {
        "id": "iAs1jNptZWJ2"
      },
      "source": [
        "import numpy as np\n",
        "import tensorflow as tf\n",
        "import pandas as pd\n",
        "import matplotlib.pyplot as plt"
      ],
      "execution_count": 1,
      "outputs": []
    },
    {
      "cell_type": "code",
      "metadata": {
        "id": "cwze2zJ1ZfhK"
      },
      "source": [
        "from numpy.random import seed\n",
        "seed(1)\n",
        "tf.random.set_seed(1)"
      ],
      "execution_count": 2,
      "outputs": []
    },
    {
      "cell_type": "code",
      "metadata": {
        "id": "Q7P_jdr3ZqIf",
        "outputId": "8160b3dd-386a-45ec-cc2d-149ba6aaefc5",
        "colab": {
          "base_uri": "https://localhost:8080/",
          "height": 590
        }
      },
      "source": [
        "dataset=pd.read_csv(\"testset.csv\")\n",
        "dataset"
      ],
      "execution_count": 3,
      "outputs": [
        {
          "output_type": "execute_result",
          "data": {
            "text/html": [
              "<div>\n",
              "<style scoped>\n",
              "    .dataframe tbody tr th:only-of-type {\n",
              "        vertical-align: middle;\n",
              "    }\n",
              "\n",
              "    .dataframe tbody tr th {\n",
              "        vertical-align: top;\n",
              "    }\n",
              "\n",
              "    .dataframe thead th {\n",
              "        text-align: right;\n",
              "    }\n",
              "</style>\n",
              "<table border=\"1\" class=\"dataframe\">\n",
              "  <thead>\n",
              "    <tr style=\"text-align: right;\">\n",
              "      <th></th>\n",
              "      <th>datetime_utc</th>\n",
              "      <th>_conds</th>\n",
              "      <th>_dewptm</th>\n",
              "      <th>_fog</th>\n",
              "      <th>_hail</th>\n",
              "      <th>_heatindexm</th>\n",
              "      <th>_hum</th>\n",
              "      <th>_precipm</th>\n",
              "      <th>_pressurem</th>\n",
              "      <th>_rain</th>\n",
              "      <th>_snow</th>\n",
              "      <th>_tempm</th>\n",
              "      <th>_thunder</th>\n",
              "      <th>_tornado</th>\n",
              "      <th>_vism</th>\n",
              "      <th>_wdird</th>\n",
              "      <th>_wdire</th>\n",
              "      <th>_wgustm</th>\n",
              "      <th>_windchillm</th>\n",
              "      <th>_wspdm</th>\n",
              "    </tr>\n",
              "  </thead>\n",
              "  <tbody>\n",
              "    <tr>\n",
              "      <th>0</th>\n",
              "      <td>19961101-11:00</td>\n",
              "      <td>Smoke</td>\n",
              "      <td>9.0</td>\n",
              "      <td>0</td>\n",
              "      <td>0</td>\n",
              "      <td>NaN</td>\n",
              "      <td>27.0</td>\n",
              "      <td>NaN</td>\n",
              "      <td>1010.0</td>\n",
              "      <td>0</td>\n",
              "      <td>0</td>\n",
              "      <td>30.0</td>\n",
              "      <td>0</td>\n",
              "      <td>0</td>\n",
              "      <td>5.00</td>\n",
              "      <td>280.0</td>\n",
              "      <td>West</td>\n",
              "      <td>NaN</td>\n",
              "      <td>NaN</td>\n",
              "      <td>7.4</td>\n",
              "    </tr>\n",
              "    <tr>\n",
              "      <th>1</th>\n",
              "      <td>19961101-12:00</td>\n",
              "      <td>Smoke</td>\n",
              "      <td>10.0</td>\n",
              "      <td>0</td>\n",
              "      <td>0</td>\n",
              "      <td>NaN</td>\n",
              "      <td>32.0</td>\n",
              "      <td>NaN</td>\n",
              "      <td>-9999.0</td>\n",
              "      <td>0</td>\n",
              "      <td>0</td>\n",
              "      <td>28.0</td>\n",
              "      <td>0</td>\n",
              "      <td>0</td>\n",
              "      <td>NaN</td>\n",
              "      <td>0.0</td>\n",
              "      <td>North</td>\n",
              "      <td>NaN</td>\n",
              "      <td>NaN</td>\n",
              "      <td>NaN</td>\n",
              "    </tr>\n",
              "    <tr>\n",
              "      <th>2</th>\n",
              "      <td>19961101-13:00</td>\n",
              "      <td>Smoke</td>\n",
              "      <td>11.0</td>\n",
              "      <td>0</td>\n",
              "      <td>0</td>\n",
              "      <td>NaN</td>\n",
              "      <td>44.0</td>\n",
              "      <td>NaN</td>\n",
              "      <td>-9999.0</td>\n",
              "      <td>0</td>\n",
              "      <td>0</td>\n",
              "      <td>24.0</td>\n",
              "      <td>0</td>\n",
              "      <td>0</td>\n",
              "      <td>NaN</td>\n",
              "      <td>0.0</td>\n",
              "      <td>North</td>\n",
              "      <td>NaN</td>\n",
              "      <td>NaN</td>\n",
              "      <td>NaN</td>\n",
              "    </tr>\n",
              "    <tr>\n",
              "      <th>3</th>\n",
              "      <td>19961101-14:00</td>\n",
              "      <td>Smoke</td>\n",
              "      <td>10.0</td>\n",
              "      <td>0</td>\n",
              "      <td>0</td>\n",
              "      <td>NaN</td>\n",
              "      <td>41.0</td>\n",
              "      <td>NaN</td>\n",
              "      <td>1010.0</td>\n",
              "      <td>0</td>\n",
              "      <td>0</td>\n",
              "      <td>24.0</td>\n",
              "      <td>0</td>\n",
              "      <td>0</td>\n",
              "      <td>2.00</td>\n",
              "      <td>0.0</td>\n",
              "      <td>North</td>\n",
              "      <td>NaN</td>\n",
              "      <td>NaN</td>\n",
              "      <td>NaN</td>\n",
              "    </tr>\n",
              "    <tr>\n",
              "      <th>4</th>\n",
              "      <td>19961101-16:00</td>\n",
              "      <td>Smoke</td>\n",
              "      <td>11.0</td>\n",
              "      <td>0</td>\n",
              "      <td>0</td>\n",
              "      <td>NaN</td>\n",
              "      <td>47.0</td>\n",
              "      <td>NaN</td>\n",
              "      <td>1011.0</td>\n",
              "      <td>0</td>\n",
              "      <td>0</td>\n",
              "      <td>23.0</td>\n",
              "      <td>0</td>\n",
              "      <td>0</td>\n",
              "      <td>1.20</td>\n",
              "      <td>0.0</td>\n",
              "      <td>North</td>\n",
              "      <td>NaN</td>\n",
              "      <td>NaN</td>\n",
              "      <td>0.0</td>\n",
              "    </tr>\n",
              "    <tr>\n",
              "      <th>...</th>\n",
              "      <td>...</td>\n",
              "      <td>...</td>\n",
              "      <td>...</td>\n",
              "      <td>...</td>\n",
              "      <td>...</td>\n",
              "      <td>...</td>\n",
              "      <td>...</td>\n",
              "      <td>...</td>\n",
              "      <td>...</td>\n",
              "      <td>...</td>\n",
              "      <td>...</td>\n",
              "      <td>...</td>\n",
              "      <td>...</td>\n",
              "      <td>...</td>\n",
              "      <td>...</td>\n",
              "      <td>...</td>\n",
              "      <td>...</td>\n",
              "      <td>...</td>\n",
              "      <td>...</td>\n",
              "      <td>...</td>\n",
              "    </tr>\n",
              "    <tr>\n",
              "      <th>99565</th>\n",
              "      <td>20161231-12:00</td>\n",
              "      <td>Partly Cloudy</td>\n",
              "      <td>15.0</td>\n",
              "      <td>0</td>\n",
              "      <td>0</td>\n",
              "      <td>NaN</td>\n",
              "      <td>77.0</td>\n",
              "      <td>NaN</td>\n",
              "      <td>1015.0</td>\n",
              "      <td>0</td>\n",
              "      <td>0</td>\n",
              "      <td>18.0</td>\n",
              "      <td>0</td>\n",
              "      <td>0</td>\n",
              "      <td>0.50</td>\n",
              "      <td>110.0</td>\n",
              "      <td>ESE</td>\n",
              "      <td>NaN</td>\n",
              "      <td>NaN</td>\n",
              "      <td>7.4</td>\n",
              "    </tr>\n",
              "    <tr>\n",
              "      <th>99566</th>\n",
              "      <td>20161231-13:00</td>\n",
              "      <td>Partly Cloudy</td>\n",
              "      <td>16.0</td>\n",
              "      <td>0</td>\n",
              "      <td>0</td>\n",
              "      <td>NaN</td>\n",
              "      <td>100.0</td>\n",
              "      <td>NaN</td>\n",
              "      <td>1014.0</td>\n",
              "      <td>0</td>\n",
              "      <td>0</td>\n",
              "      <td>16.0</td>\n",
              "      <td>0</td>\n",
              "      <td>0</td>\n",
              "      <td>0.80</td>\n",
              "      <td>90.0</td>\n",
              "      <td>East</td>\n",
              "      <td>NaN</td>\n",
              "      <td>NaN</td>\n",
              "      <td>3.7</td>\n",
              "    </tr>\n",
              "    <tr>\n",
              "      <th>99567</th>\n",
              "      <td>20161231-15:00</td>\n",
              "      <td>NaN</td>\n",
              "      <td>13.0</td>\n",
              "      <td>0</td>\n",
              "      <td>0</td>\n",
              "      <td>NaN</td>\n",
              "      <td>NaN</td>\n",
              "      <td>NaN</td>\n",
              "      <td>1016.0</td>\n",
              "      <td>0</td>\n",
              "      <td>0</td>\n",
              "      <td>NaN</td>\n",
              "      <td>0</td>\n",
              "      <td>0</td>\n",
              "      <td>0.05</td>\n",
              "      <td>10.0</td>\n",
              "      <td>North</td>\n",
              "      <td>NaN</td>\n",
              "      <td>NaN</td>\n",
              "      <td>59.3</td>\n",
              "    </tr>\n",
              "    <tr>\n",
              "      <th>99568</th>\n",
              "      <td>20161231-18:00</td>\n",
              "      <td>Patches of Fog</td>\n",
              "      <td>12.0</td>\n",
              "      <td>1</td>\n",
              "      <td>0</td>\n",
              "      <td>NaN</td>\n",
              "      <td>100.0</td>\n",
              "      <td>NaN</td>\n",
              "      <td>1016.0</td>\n",
              "      <td>0</td>\n",
              "      <td>0</td>\n",
              "      <td>12.0</td>\n",
              "      <td>0</td>\n",
              "      <td>0</td>\n",
              "      <td>0.50</td>\n",
              "      <td>NaN</td>\n",
              "      <td>NaN</td>\n",
              "      <td>NaN</td>\n",
              "      <td>NaN</td>\n",
              "      <td>0.0</td>\n",
              "    </tr>\n",
              "    <tr>\n",
              "      <th>99569</th>\n",
              "      <td>20161231-21:00</td>\n",
              "      <td>Patches of Fog</td>\n",
              "      <td>12.0</td>\n",
              "      <td>1</td>\n",
              "      <td>0</td>\n",
              "      <td>NaN</td>\n",
              "      <td>99.0</td>\n",
              "      <td>NaN</td>\n",
              "      <td>1016.0</td>\n",
              "      <td>0</td>\n",
              "      <td>0</td>\n",
              "      <td>12.0</td>\n",
              "      <td>0</td>\n",
              "      <td>0</td>\n",
              "      <td>0.50</td>\n",
              "      <td>NaN</td>\n",
              "      <td>NaN</td>\n",
              "      <td>NaN</td>\n",
              "      <td>NaN</td>\n",
              "      <td>0.0</td>\n",
              "    </tr>\n",
              "  </tbody>\n",
              "</table>\n",
              "<p>99570 rows × 20 columns</p>\n",
              "</div>"
            ],
            "text/plain": [
              "         datetime_utc          _conds  _dewptm  ...  _wgustm  _windchillm  _wspdm\n",
              "0      19961101-11:00           Smoke      9.0  ...      NaN          NaN     7.4\n",
              "1      19961101-12:00           Smoke     10.0  ...      NaN          NaN     NaN\n",
              "2      19961101-13:00           Smoke     11.0  ...      NaN          NaN     NaN\n",
              "3      19961101-14:00           Smoke     10.0  ...      NaN          NaN     NaN\n",
              "4      19961101-16:00           Smoke     11.0  ...      NaN          NaN     0.0\n",
              "...               ...             ...      ...  ...      ...          ...     ...\n",
              "99565  20161231-12:00   Partly Cloudy     15.0  ...      NaN          NaN     7.4\n",
              "99566  20161231-13:00   Partly Cloudy     16.0  ...      NaN          NaN     3.7\n",
              "99567  20161231-15:00             NaN     13.0  ...      NaN          NaN    59.3\n",
              "99568  20161231-18:00  Patches of Fog     12.0  ...      NaN          NaN     0.0\n",
              "99569  20161231-21:00  Patches of Fog     12.0  ...      NaN          NaN     0.0\n",
              "\n",
              "[99570 rows x 20 columns]"
            ]
          },
          "metadata": {
            "tags": []
          },
          "execution_count": 3
        }
      ]
    },
    {
      "cell_type": "code",
      "metadata": {
        "id": "6jgxx_wVZ3MY",
        "outputId": "9e9abecd-12fb-4b0a-9289-7af6373b4169",
        "colab": {
          "base_uri": "https://localhost:8080/",
          "height": 470
        }
      },
      "source": [
        "dataset.info()"
      ],
      "execution_count": 4,
      "outputs": [
        {
          "output_type": "stream",
          "text": [
            "<class 'pandas.core.frame.DataFrame'>\n",
            "RangeIndex: 99570 entries, 0 to 99569\n",
            "Data columns (total 20 columns):\n",
            " #   Column        Non-Null Count  Dtype  \n",
            "---  ------        --------------  -----  \n",
            " 0   datetime_utc  99570 non-null  object \n",
            " 1   _conds        99500 non-null  object \n",
            " 2   _dewptm       98950 non-null  float64\n",
            " 3   _fog          99570 non-null  int64  \n",
            " 4   _hail         99570 non-null  int64  \n",
            " 5   _heatindexm   29113 non-null  float64\n",
            " 6   _hum          98814 non-null  float64\n",
            " 7   _precipm      0 non-null      float64\n",
            " 8   _pressurem    99338 non-null  float64\n",
            " 9   _rain         99570 non-null  int64  \n",
            " 10  _snow         99570 non-null  int64  \n",
            " 11  _tempm        98898 non-null  float64\n",
            " 12  _thunder      99570 non-null  int64  \n",
            " 13  _tornado      99570 non-null  int64  \n",
            " 14  _vism         95142 non-null  float64\n",
            " 15  _wdird        85078 non-null  float64\n",
            " 16  _wdire        85078 non-null  object \n",
            " 17  _wgustm       1063 non-null   float64\n",
            " 18  _windchillm   573 non-null    float64\n",
            " 19  _wspdm        97212 non-null  float64\n",
            "dtypes: float64(11), int64(6), object(3)\n",
            "memory usage: 15.2+ MB\n"
          ],
          "name": "stdout"
        }
      ]
    },
    {
      "cell_type": "code",
      "metadata": {
        "id": "4MqRJ7KsZ8rt",
        "outputId": "b9bf1a26-fcea-42c4-a8f8-f25f5e259703",
        "colab": {
          "base_uri": "https://localhost:8080/",
          "height": 304
        }
      },
      "source": [
        "dataset.describe()"
      ],
      "execution_count": 5,
      "outputs": [
        {
          "output_type": "execute_result",
          "data": {
            "text/html": [
              "<div>\n",
              "<style scoped>\n",
              "    .dataframe tbody tr th:only-of-type {\n",
              "        vertical-align: middle;\n",
              "    }\n",
              "\n",
              "    .dataframe tbody tr th {\n",
              "        vertical-align: top;\n",
              "    }\n",
              "\n",
              "    .dataframe thead th {\n",
              "        text-align: right;\n",
              "    }\n",
              "</style>\n",
              "<table border=\"1\" class=\"dataframe\">\n",
              "  <thead>\n",
              "    <tr style=\"text-align: right;\">\n",
              "      <th></th>\n",
              "      <th>_dewptm</th>\n",
              "      <th>_fog</th>\n",
              "      <th>_hail</th>\n",
              "      <th>_heatindexm</th>\n",
              "      <th>_hum</th>\n",
              "      <th>_precipm</th>\n",
              "      <th>_pressurem</th>\n",
              "      <th>_rain</th>\n",
              "      <th>_snow</th>\n",
              "      <th>_tempm</th>\n",
              "      <th>_thunder</th>\n",
              "      <th>_tornado</th>\n",
              "      <th>_vism</th>\n",
              "      <th>_wdird</th>\n",
              "      <th>_wgustm</th>\n",
              "      <th>_windchillm</th>\n",
              "      <th>_wspdm</th>\n",
              "    </tr>\n",
              "  </thead>\n",
              "  <tbody>\n",
              "    <tr>\n",
              "      <th>count</th>\n",
              "      <td>98950.000000</td>\n",
              "      <td>99570.000000</td>\n",
              "      <td>99570.000000</td>\n",
              "      <td>29113.000000</td>\n",
              "      <td>98814.000000</td>\n",
              "      <td>0.0</td>\n",
              "      <td>9.933800e+04</td>\n",
              "      <td>99570.000000</td>\n",
              "      <td>99570.000000</td>\n",
              "      <td>98898.000000</td>\n",
              "      <td>99570.000000</td>\n",
              "      <td>99570.000000</td>\n",
              "      <td>95142.000000</td>\n",
              "      <td>85078.000000</td>\n",
              "      <td>1063.000000</td>\n",
              "      <td>573.000000</td>\n",
              "      <td>97212.000000</td>\n",
              "    </tr>\n",
              "    <tr>\n",
              "      <th>mean</th>\n",
              "      <td>15.788388</td>\n",
              "      <td>0.068746</td>\n",
              "      <td>0.000131</td>\n",
              "      <td>35.659046</td>\n",
              "      <td>57.848260</td>\n",
              "      <td>NaN</td>\n",
              "      <td>1.945683e+03</td>\n",
              "      <td>0.026323</td>\n",
              "      <td>0.000010</td>\n",
              "      <td>25.526553</td>\n",
              "      <td>0.009300</td>\n",
              "      <td>0.000020</td>\n",
              "      <td>2.411756</td>\n",
              "      <td>162.660053</td>\n",
              "      <td>37.704516</td>\n",
              "      <td>5.708202</td>\n",
              "      <td>7.674429</td>\n",
              "    </tr>\n",
              "    <tr>\n",
              "      <th>std</th>\n",
              "      <td>7.085844</td>\n",
              "      <td>0.253022</td>\n",
              "      <td>0.011426</td>\n",
              "      <td>5.013863</td>\n",
              "      <td>23.765629</td>\n",
              "      <td>NaN</td>\n",
              "      <td>3.206461e+05</td>\n",
              "      <td>0.160095</td>\n",
              "      <td>0.003169</td>\n",
              "      <td>8.471719</td>\n",
              "      <td>0.095987</td>\n",
              "      <td>0.004482</td>\n",
              "      <td>20.899818</td>\n",
              "      <td>119.994031</td>\n",
              "      <td>6.841070</td>\n",
              "      <td>1.205967</td>\n",
              "      <td>11.982335</td>\n",
              "    </tr>\n",
              "    <tr>\n",
              "      <th>min</th>\n",
              "      <td>-24.000000</td>\n",
              "      <td>0.000000</td>\n",
              "      <td>0.000000</td>\n",
              "      <td>26.800000</td>\n",
              "      <td>4.000000</td>\n",
              "      <td>NaN</td>\n",
              "      <td>-9.999000e+03</td>\n",
              "      <td>0.000000</td>\n",
              "      <td>0.000000</td>\n",
              "      <td>1.000000</td>\n",
              "      <td>0.000000</td>\n",
              "      <td>0.000000</td>\n",
              "      <td>0.000000</td>\n",
              "      <td>0.000000</td>\n",
              "      <td>25.900000</td>\n",
              "      <td>2.100000</td>\n",
              "      <td>0.000000</td>\n",
              "    </tr>\n",
              "    <tr>\n",
              "      <th>25%</th>\n",
              "      <td>10.000000</td>\n",
              "      <td>0.000000</td>\n",
              "      <td>0.000000</td>\n",
              "      <td>31.700000</td>\n",
              "      <td>39.000000</td>\n",
              "      <td>NaN</td>\n",
              "      <td>1.002000e+03</td>\n",
              "      <td>0.000000</td>\n",
              "      <td>0.000000</td>\n",
              "      <td>19.000000</td>\n",
              "      <td>0.000000</td>\n",
              "      <td>0.000000</td>\n",
              "      <td>1.500000</td>\n",
              "      <td>50.000000</td>\n",
              "      <td>33.300000</td>\n",
              "      <td>4.900000</td>\n",
              "      <td>0.000000</td>\n",
              "    </tr>\n",
              "    <tr>\n",
              "      <th>50%</th>\n",
              "      <td>15.000000</td>\n",
              "      <td>0.000000</td>\n",
              "      <td>0.000000</td>\n",
              "      <td>35.100000</td>\n",
              "      <td>58.000000</td>\n",
              "      <td>NaN</td>\n",
              "      <td>1.008000e+03</td>\n",
              "      <td>0.000000</td>\n",
              "      <td>0.000000</td>\n",
              "      <td>27.000000</td>\n",
              "      <td>0.000000</td>\n",
              "      <td>0.000000</td>\n",
              "      <td>2.000000</td>\n",
              "      <td>150.000000</td>\n",
              "      <td>37.000000</td>\n",
              "      <td>6.100000</td>\n",
              "      <td>7.400000</td>\n",
              "    </tr>\n",
              "    <tr>\n",
              "      <th>75%</th>\n",
              "      <td>22.000000</td>\n",
              "      <td>0.000000</td>\n",
              "      <td>0.000000</td>\n",
              "      <td>39.200000</td>\n",
              "      <td>78.000000</td>\n",
              "      <td>NaN</td>\n",
              "      <td>1.014000e+03</td>\n",
              "      <td>0.000000</td>\n",
              "      <td>0.000000</td>\n",
              "      <td>32.000000</td>\n",
              "      <td>0.000000</td>\n",
              "      <td>0.000000</td>\n",
              "      <td>3.000000</td>\n",
              "      <td>270.000000</td>\n",
              "      <td>40.700000</td>\n",
              "      <td>6.800000</td>\n",
              "      <td>11.100000</td>\n",
              "    </tr>\n",
              "    <tr>\n",
              "      <th>max</th>\n",
              "      <td>75.000000</td>\n",
              "      <td>1.000000</td>\n",
              "      <td>1.000000</td>\n",
              "      <td>73.600000</td>\n",
              "      <td>243.000000</td>\n",
              "      <td>NaN</td>\n",
              "      <td>1.010614e+08</td>\n",
              "      <td>1.000000</td>\n",
              "      <td>1.000000</td>\n",
              "      <td>90.000000</td>\n",
              "      <td>1.000000</td>\n",
              "      <td>1.000000</td>\n",
              "      <td>6436.000000</td>\n",
              "      <td>960.000000</td>\n",
              "      <td>92.600000</td>\n",
              "      <td>7.300000</td>\n",
              "      <td>1514.900000</td>\n",
              "    </tr>\n",
              "  </tbody>\n",
              "</table>\n",
              "</div>"
            ],
            "text/plain": [
              "            _dewptm          _fog  ...  _windchillm        _wspdm\n",
              "count  98950.000000  99570.000000  ...   573.000000  97212.000000\n",
              "mean      15.788388      0.068746  ...     5.708202      7.674429\n",
              "std        7.085844      0.253022  ...     1.205967     11.982335\n",
              "min      -24.000000      0.000000  ...     2.100000      0.000000\n",
              "25%       10.000000      0.000000  ...     4.900000      0.000000\n",
              "50%       15.000000      0.000000  ...     6.100000      7.400000\n",
              "75%       22.000000      0.000000  ...     6.800000     11.100000\n",
              "max       75.000000      1.000000  ...     7.300000   1514.900000\n",
              "\n",
              "[8 rows x 17 columns]"
            ]
          },
          "metadata": {
            "tags": []
          },
          "execution_count": 5
        }
      ]
    },
    {
      "cell_type": "code",
      "metadata": {
        "id": "fJuDIkezaAII",
        "outputId": "5399a439-1e59-4908-cbd4-7776ec5ef956",
        "colab": {
          "base_uri": "https://localhost:8080/",
          "height": 84
        }
      },
      "source": [
        "dataset.columns=dataset.columns.str.replace(\"_\",\"\")\n",
        "dataset.columns=dataset.columns.str.replace(\" \",\"\")\n",
        "dataset.columns"
      ],
      "execution_count": 6,
      "outputs": [
        {
          "output_type": "execute_result",
          "data": {
            "text/plain": [
              "Index(['datetimeutc', 'conds', 'dewptm', 'fog', 'hail', 'heatindexm', 'hum',\n",
              "       'precipm', 'pressurem', 'rain', 'snow', 'tempm', 'thunder', 'tornado',\n",
              "       'vism', 'wdird', 'wdire', 'wgustm', 'windchillm', 'wspdm'],\n",
              "      dtype='object')"
            ]
          },
          "metadata": {
            "tags": []
          },
          "execution_count": 6
        }
      ]
    },
    {
      "cell_type": "code",
      "metadata": {
        "id": "C1KB3fYHaPQ1",
        "outputId": "e4a07ebe-14f6-4551-c9c3-99a80e72f167",
        "colab": {
          "base_uri": "https://localhost:8080/",
          "height": 402
        }
      },
      "source": [
        "# dataset.drop(\"conds\",inplace=True,axis=1)\n",
        "# dataset.drop(,inplace=True,axis=1)\n",
        "# dataset.drop(,inplace=True,axis=1)\n",
        "# dataset.drop(inplace=True,axis=1)\n",
        "# dataset.drop(,inplace=True,axis=1)\n",
        "# dataset.drop(inplace=True,axis=1)\n",
        "# dataset.drop(inplace=True,axis=1)\n",
        "# dataset.drop(,inplace=True,axis=1)\n",
        "dataset.drop(columns=[\"conds\",\"dewptm\",\"fog\",\"hail\",\"heatindexm\",\"precipm\",\"rain\",\"snow\",\"thunder\",\"tornado\",\"vism\",\"wdird\",\"wdire\",\"wgustm\",\"windchillm\"],inplace=True,axis=1)\n",
        "dataset"
      ],
      "execution_count": 7,
      "outputs": [
        {
          "output_type": "execute_result",
          "data": {
            "text/html": [
              "<div>\n",
              "<style scoped>\n",
              "    .dataframe tbody tr th:only-of-type {\n",
              "        vertical-align: middle;\n",
              "    }\n",
              "\n",
              "    .dataframe tbody tr th {\n",
              "        vertical-align: top;\n",
              "    }\n",
              "\n",
              "    .dataframe thead th {\n",
              "        text-align: right;\n",
              "    }\n",
              "</style>\n",
              "<table border=\"1\" class=\"dataframe\">\n",
              "  <thead>\n",
              "    <tr style=\"text-align: right;\">\n",
              "      <th></th>\n",
              "      <th>datetimeutc</th>\n",
              "      <th>hum</th>\n",
              "      <th>pressurem</th>\n",
              "      <th>tempm</th>\n",
              "      <th>wspdm</th>\n",
              "    </tr>\n",
              "  </thead>\n",
              "  <tbody>\n",
              "    <tr>\n",
              "      <th>0</th>\n",
              "      <td>19961101-11:00</td>\n",
              "      <td>27.0</td>\n",
              "      <td>1010.0</td>\n",
              "      <td>30.0</td>\n",
              "      <td>7.4</td>\n",
              "    </tr>\n",
              "    <tr>\n",
              "      <th>1</th>\n",
              "      <td>19961101-12:00</td>\n",
              "      <td>32.0</td>\n",
              "      <td>-9999.0</td>\n",
              "      <td>28.0</td>\n",
              "      <td>NaN</td>\n",
              "    </tr>\n",
              "    <tr>\n",
              "      <th>2</th>\n",
              "      <td>19961101-13:00</td>\n",
              "      <td>44.0</td>\n",
              "      <td>-9999.0</td>\n",
              "      <td>24.0</td>\n",
              "      <td>NaN</td>\n",
              "    </tr>\n",
              "    <tr>\n",
              "      <th>3</th>\n",
              "      <td>19961101-14:00</td>\n",
              "      <td>41.0</td>\n",
              "      <td>1010.0</td>\n",
              "      <td>24.0</td>\n",
              "      <td>NaN</td>\n",
              "    </tr>\n",
              "    <tr>\n",
              "      <th>4</th>\n",
              "      <td>19961101-16:00</td>\n",
              "      <td>47.0</td>\n",
              "      <td>1011.0</td>\n",
              "      <td>23.0</td>\n",
              "      <td>0.0</td>\n",
              "    </tr>\n",
              "    <tr>\n",
              "      <th>...</th>\n",
              "      <td>...</td>\n",
              "      <td>...</td>\n",
              "      <td>...</td>\n",
              "      <td>...</td>\n",
              "      <td>...</td>\n",
              "    </tr>\n",
              "    <tr>\n",
              "      <th>99565</th>\n",
              "      <td>20161231-12:00</td>\n",
              "      <td>77.0</td>\n",
              "      <td>1015.0</td>\n",
              "      <td>18.0</td>\n",
              "      <td>7.4</td>\n",
              "    </tr>\n",
              "    <tr>\n",
              "      <th>99566</th>\n",
              "      <td>20161231-13:00</td>\n",
              "      <td>100.0</td>\n",
              "      <td>1014.0</td>\n",
              "      <td>16.0</td>\n",
              "      <td>3.7</td>\n",
              "    </tr>\n",
              "    <tr>\n",
              "      <th>99567</th>\n",
              "      <td>20161231-15:00</td>\n",
              "      <td>NaN</td>\n",
              "      <td>1016.0</td>\n",
              "      <td>NaN</td>\n",
              "      <td>59.3</td>\n",
              "    </tr>\n",
              "    <tr>\n",
              "      <th>99568</th>\n",
              "      <td>20161231-18:00</td>\n",
              "      <td>100.0</td>\n",
              "      <td>1016.0</td>\n",
              "      <td>12.0</td>\n",
              "      <td>0.0</td>\n",
              "    </tr>\n",
              "    <tr>\n",
              "      <th>99569</th>\n",
              "      <td>20161231-21:00</td>\n",
              "      <td>99.0</td>\n",
              "      <td>1016.0</td>\n",
              "      <td>12.0</td>\n",
              "      <td>0.0</td>\n",
              "    </tr>\n",
              "  </tbody>\n",
              "</table>\n",
              "<p>99570 rows × 5 columns</p>\n",
              "</div>"
            ],
            "text/plain": [
              "          datetimeutc    hum  pressurem  tempm  wspdm\n",
              "0      19961101-11:00   27.0     1010.0   30.0    7.4\n",
              "1      19961101-12:00   32.0    -9999.0   28.0    NaN\n",
              "2      19961101-13:00   44.0    -9999.0   24.0    NaN\n",
              "3      19961101-14:00   41.0     1010.0   24.0    NaN\n",
              "4      19961101-16:00   47.0     1011.0   23.0    0.0\n",
              "...               ...    ...        ...    ...    ...\n",
              "99565  20161231-12:00   77.0     1015.0   18.0    7.4\n",
              "99566  20161231-13:00  100.0     1014.0   16.0    3.7\n",
              "99567  20161231-15:00    NaN     1016.0    NaN   59.3\n",
              "99568  20161231-18:00  100.0     1016.0   12.0    0.0\n",
              "99569  20161231-21:00   99.0     1016.0   12.0    0.0\n",
              "\n",
              "[99570 rows x 5 columns]"
            ]
          },
          "metadata": {
            "tags": []
          },
          "execution_count": 7
        }
      ]
    },
    {
      "cell_type": "code",
      "metadata": {
        "id": "IqgMWpXUcIkf",
        "outputId": "985dec4d-4fbe-4bb6-8f77-4745f1cca694",
        "colab": {
          "base_uri": "https://localhost:8080/",
          "height": 118
        }
      },
      "source": [
        "dataset.replace(0,np.nan)\n",
        "dataset.isnull().sum()"
      ],
      "execution_count": 8,
      "outputs": [
        {
          "output_type": "execute_result",
          "data": {
            "text/plain": [
              "datetimeutc       0\n",
              "hum             756\n",
              "pressurem       232\n",
              "tempm           672\n",
              "wspdm          2358\n",
              "dtype: int64"
            ]
          },
          "metadata": {
            "tags": []
          },
          "execution_count": 8
        }
      ]
    },
    {
      "cell_type": "code",
      "metadata": {
        "id": "DHzrYjS4ce5s"
      },
      "source": [
        "hum_median=dataset[\"hum\"].median()\n",
        "dataset[\"hum\"].fillna(hum_median,inplace=True)\n",
        "pressurem_median=dataset[\"pressurem\"].median()\n",
        "dataset[\"pressurem\"].fillna(pressurem_median,inplace=True)\n",
        "wspdm_median=dataset[\"wspdm\"].median()\n",
        "dataset[\"wspdm\"].fillna(wspdm_median,inplace=True)\n",
        "tempm_median=dataset[\"tempm\"].median()\n",
        "dataset[\"tempm\"].fillna(tempm_median,inplace=True)"
      ],
      "execution_count": 9,
      "outputs": []
    },
    {
      "cell_type": "code",
      "metadata": {
        "id": "7e4L_DKodRaW",
        "outputId": "dae770e9-38d4-4001-828f-f0fca4230b66",
        "colab": {
          "base_uri": "https://localhost:8080/",
          "height": 118
        }
      },
      "source": [
        "dataset.isnull().sum()"
      ],
      "execution_count": 10,
      "outputs": [
        {
          "output_type": "execute_result",
          "data": {
            "text/plain": [
              "datetimeutc    0\n",
              "hum            0\n",
              "pressurem      0\n",
              "tempm          0\n",
              "wspdm          0\n",
              "dtype: int64"
            ]
          },
          "metadata": {
            "tags": []
          },
          "execution_count": 10
        }
      ]
    },
    {
      "cell_type": "code",
      "metadata": {
        "id": "VdxnBas3dU_v"
      },
      "source": [
        "timeseries_data=dataset.copy()"
      ],
      "execution_count": 11,
      "outputs": []
    },
    {
      "cell_type": "code",
      "metadata": {
        "id": "LVJgxwtDd00H",
        "outputId": "d61ee9f3-a2c8-4cb2-a424-f9bdf0e3f244",
        "colab": {
          "base_uri": "https://localhost:8080/",
          "height": 34
        }
      },
      "source": [
        "timeseries_data[\"datetimeutc\"].dtype"
      ],
      "execution_count": 12,
      "outputs": [
        {
          "output_type": "execute_result",
          "data": {
            "text/plain": [
              "dtype('O')"
            ]
          },
          "metadata": {
            "tags": []
          },
          "execution_count": 12
        }
      ]
    },
    {
      "cell_type": "code",
      "metadata": {
        "id": "5arRsIZcd5uU"
      },
      "source": [
        "timeseries_data[\"datetimeutc\"]=pd.to_datetime(timeseries_data[\"datetimeutc\"])"
      ],
      "execution_count": 13,
      "outputs": []
    },
    {
      "cell_type": "code",
      "metadata": {
        "id": "9AepaRMReKH4"
      },
      "source": [
        "timeseries_data.set_index(\"datetimeutc\",inplace=True)"
      ],
      "execution_count": 14,
      "outputs": []
    },
    {
      "cell_type": "code",
      "metadata": {
        "id": "0DwOrRfQeQkD",
        "outputId": "de7dbdff-93d5-4bf7-9f7a-e99a4b564062",
        "colab": {
          "base_uri": "https://localhost:8080/",
          "height": 431
        }
      },
      "source": [
        "timeseries_data"
      ],
      "execution_count": 15,
      "outputs": [
        {
          "output_type": "execute_result",
          "data": {
            "text/html": [
              "<div>\n",
              "<style scoped>\n",
              "    .dataframe tbody tr th:only-of-type {\n",
              "        vertical-align: middle;\n",
              "    }\n",
              "\n",
              "    .dataframe tbody tr th {\n",
              "        vertical-align: top;\n",
              "    }\n",
              "\n",
              "    .dataframe thead th {\n",
              "        text-align: right;\n",
              "    }\n",
              "</style>\n",
              "<table border=\"1\" class=\"dataframe\">\n",
              "  <thead>\n",
              "    <tr style=\"text-align: right;\">\n",
              "      <th></th>\n",
              "      <th>hum</th>\n",
              "      <th>pressurem</th>\n",
              "      <th>tempm</th>\n",
              "      <th>wspdm</th>\n",
              "    </tr>\n",
              "    <tr>\n",
              "      <th>datetimeutc</th>\n",
              "      <th></th>\n",
              "      <th></th>\n",
              "      <th></th>\n",
              "      <th></th>\n",
              "    </tr>\n",
              "  </thead>\n",
              "  <tbody>\n",
              "    <tr>\n",
              "      <th>1996-11-01 11:00:00</th>\n",
              "      <td>27.0</td>\n",
              "      <td>1010.0</td>\n",
              "      <td>30.0</td>\n",
              "      <td>7.4</td>\n",
              "    </tr>\n",
              "    <tr>\n",
              "      <th>1996-11-01 12:00:00</th>\n",
              "      <td>32.0</td>\n",
              "      <td>-9999.0</td>\n",
              "      <td>28.0</td>\n",
              "      <td>7.4</td>\n",
              "    </tr>\n",
              "    <tr>\n",
              "      <th>1996-11-01 13:00:00</th>\n",
              "      <td>44.0</td>\n",
              "      <td>-9999.0</td>\n",
              "      <td>24.0</td>\n",
              "      <td>7.4</td>\n",
              "    </tr>\n",
              "    <tr>\n",
              "      <th>1996-11-01 14:00:00</th>\n",
              "      <td>41.0</td>\n",
              "      <td>1010.0</td>\n",
              "      <td>24.0</td>\n",
              "      <td>7.4</td>\n",
              "    </tr>\n",
              "    <tr>\n",
              "      <th>1996-11-01 16:00:00</th>\n",
              "      <td>47.0</td>\n",
              "      <td>1011.0</td>\n",
              "      <td>23.0</td>\n",
              "      <td>0.0</td>\n",
              "    </tr>\n",
              "    <tr>\n",
              "      <th>...</th>\n",
              "      <td>...</td>\n",
              "      <td>...</td>\n",
              "      <td>...</td>\n",
              "      <td>...</td>\n",
              "    </tr>\n",
              "    <tr>\n",
              "      <th>2016-12-31 12:00:00</th>\n",
              "      <td>77.0</td>\n",
              "      <td>1015.0</td>\n",
              "      <td>18.0</td>\n",
              "      <td>7.4</td>\n",
              "    </tr>\n",
              "    <tr>\n",
              "      <th>2016-12-31 13:00:00</th>\n",
              "      <td>100.0</td>\n",
              "      <td>1014.0</td>\n",
              "      <td>16.0</td>\n",
              "      <td>3.7</td>\n",
              "    </tr>\n",
              "    <tr>\n",
              "      <th>2016-12-31 15:00:00</th>\n",
              "      <td>58.0</td>\n",
              "      <td>1016.0</td>\n",
              "      <td>27.0</td>\n",
              "      <td>59.3</td>\n",
              "    </tr>\n",
              "    <tr>\n",
              "      <th>2016-12-31 18:00:00</th>\n",
              "      <td>100.0</td>\n",
              "      <td>1016.0</td>\n",
              "      <td>12.0</td>\n",
              "      <td>0.0</td>\n",
              "    </tr>\n",
              "    <tr>\n",
              "      <th>2016-12-31 21:00:00</th>\n",
              "      <td>99.0</td>\n",
              "      <td>1016.0</td>\n",
              "      <td>12.0</td>\n",
              "      <td>0.0</td>\n",
              "    </tr>\n",
              "  </tbody>\n",
              "</table>\n",
              "<p>99570 rows × 4 columns</p>\n",
              "</div>"
            ],
            "text/plain": [
              "                       hum  pressurem  tempm  wspdm\n",
              "datetimeutc                                        \n",
              "1996-11-01 11:00:00   27.0     1010.0   30.0    7.4\n",
              "1996-11-01 12:00:00   32.0    -9999.0   28.0    7.4\n",
              "1996-11-01 13:00:00   44.0    -9999.0   24.0    7.4\n",
              "1996-11-01 14:00:00   41.0     1010.0   24.0    7.4\n",
              "1996-11-01 16:00:00   47.0     1011.0   23.0    0.0\n",
              "...                    ...        ...    ...    ...\n",
              "2016-12-31 12:00:00   77.0     1015.0   18.0    7.4\n",
              "2016-12-31 13:00:00  100.0     1014.0   16.0    3.7\n",
              "2016-12-31 15:00:00   58.0     1016.0   27.0   59.3\n",
              "2016-12-31 18:00:00  100.0     1016.0   12.0    0.0\n",
              "2016-12-31 21:00:00   99.0     1016.0   12.0    0.0\n",
              "\n",
              "[99570 rows x 4 columns]"
            ]
          },
          "metadata": {
            "tags": []
          },
          "execution_count": 15
        }
      ]
    },
    {
      "cell_type": "code",
      "metadata": {
        "id": "kvybm4W_eSh0",
        "outputId": "34b466e6-0aac-4e0a-924b-8e9f8f7053db",
        "colab": {
          "base_uri": "https://localhost:8080/",
          "height": 431
        }
      },
      "source": [
        "data_daily=timeseries_data.resample(\"D\").mean()\n",
        "data_daily"
      ],
      "execution_count": 16,
      "outputs": [
        {
          "output_type": "execute_result",
          "data": {
            "text/html": [
              "<div>\n",
              "<style scoped>\n",
              "    .dataframe tbody tr th:only-of-type {\n",
              "        vertical-align: middle;\n",
              "    }\n",
              "\n",
              "    .dataframe tbody tr th {\n",
              "        vertical-align: top;\n",
              "    }\n",
              "\n",
              "    .dataframe thead th {\n",
              "        text-align: right;\n",
              "    }\n",
              "</style>\n",
              "<table border=\"1\" class=\"dataframe\">\n",
              "  <thead>\n",
              "    <tr style=\"text-align: right;\">\n",
              "      <th></th>\n",
              "      <th>hum</th>\n",
              "      <th>pressurem</th>\n",
              "      <th>tempm</th>\n",
              "      <th>wspdm</th>\n",
              "    </tr>\n",
              "    <tr>\n",
              "      <th>datetimeutc</th>\n",
              "      <th></th>\n",
              "      <th></th>\n",
              "      <th></th>\n",
              "      <th></th>\n",
              "    </tr>\n",
              "  </thead>\n",
              "  <tbody>\n",
              "    <tr>\n",
              "      <th>1996-11-01</th>\n",
              "      <td>52.916667</td>\n",
              "      <td>-2659.666667</td>\n",
              "      <td>22.333333</td>\n",
              "      <td>6.166667</td>\n",
              "    </tr>\n",
              "    <tr>\n",
              "      <th>1996-11-02</th>\n",
              "      <td>48.625000</td>\n",
              "      <td>1009.833333</td>\n",
              "      <td>22.916667</td>\n",
              "      <td>7.950000</td>\n",
              "    </tr>\n",
              "    <tr>\n",
              "      <th>1996-11-03</th>\n",
              "      <td>55.958333</td>\n",
              "      <td>1010.500000</td>\n",
              "      <td>21.791667</td>\n",
              "      <td>5.020833</td>\n",
              "    </tr>\n",
              "    <tr>\n",
              "      <th>1996-11-04</th>\n",
              "      <td>48.055556</td>\n",
              "      <td>1011.333333</td>\n",
              "      <td>22.722222</td>\n",
              "      <td>2.266667</td>\n",
              "    </tr>\n",
              "    <tr>\n",
              "      <th>1996-11-05</th>\n",
              "      <td>29.400000</td>\n",
              "      <td>1011.800000</td>\n",
              "      <td>27.800000</td>\n",
              "      <td>10.020000</td>\n",
              "    </tr>\n",
              "    <tr>\n",
              "      <th>...</th>\n",
              "      <td>...</td>\n",
              "      <td>...</td>\n",
              "      <td>...</td>\n",
              "      <td>...</td>\n",
              "    </tr>\n",
              "    <tr>\n",
              "      <th>2016-12-27</th>\n",
              "      <td>67.550000</td>\n",
              "      <td>1017.200000</td>\n",
              "      <td>16.850000</td>\n",
              "      <td>8.335000</td>\n",
              "    </tr>\n",
              "    <tr>\n",
              "      <th>2016-12-28</th>\n",
              "      <td>68.043478</td>\n",
              "      <td>1015.565217</td>\n",
              "      <td>17.217391</td>\n",
              "      <td>3.547826</td>\n",
              "    </tr>\n",
              "    <tr>\n",
              "      <th>2016-12-29</th>\n",
              "      <td>87.857143</td>\n",
              "      <td>1016.904762</td>\n",
              "      <td>15.238095</td>\n",
              "      <td>6.000000</td>\n",
              "    </tr>\n",
              "    <tr>\n",
              "      <th>2016-12-30</th>\n",
              "      <td>89.666667</td>\n",
              "      <td>1017.904762</td>\n",
              "      <td>14.095238</td>\n",
              "      <td>6.266667</td>\n",
              "    </tr>\n",
              "    <tr>\n",
              "      <th>2016-12-31</th>\n",
              "      <td>85.550000</td>\n",
              "      <td>1016.100000</td>\n",
              "      <td>15.650000</td>\n",
              "      <td>7.325000</td>\n",
              "    </tr>\n",
              "  </tbody>\n",
              "</table>\n",
              "<p>7366 rows × 4 columns</p>\n",
              "</div>"
            ],
            "text/plain": [
              "                   hum    pressurem      tempm      wspdm\n",
              "datetimeutc                                              \n",
              "1996-11-01   52.916667 -2659.666667  22.333333   6.166667\n",
              "1996-11-02   48.625000  1009.833333  22.916667   7.950000\n",
              "1996-11-03   55.958333  1010.500000  21.791667   5.020833\n",
              "1996-11-04   48.055556  1011.333333  22.722222   2.266667\n",
              "1996-11-05   29.400000  1011.800000  27.800000  10.020000\n",
              "...                ...          ...        ...        ...\n",
              "2016-12-27   67.550000  1017.200000  16.850000   8.335000\n",
              "2016-12-28   68.043478  1015.565217  17.217391   3.547826\n",
              "2016-12-29   87.857143  1016.904762  15.238095   6.000000\n",
              "2016-12-30   89.666667  1017.904762  14.095238   6.266667\n",
              "2016-12-31   85.550000  1016.100000  15.650000   7.325000\n",
              "\n",
              "[7366 rows x 4 columns]"
            ]
          },
          "metadata": {
            "tags": []
          },
          "execution_count": 16
        }
      ]
    },
    {
      "cell_type": "code",
      "metadata": {
        "id": "ALZIl3Qnef4a",
        "outputId": "e718e7d8-f815-4c99-c3b2-746935329e54",
        "colab": {
          "base_uri": "https://localhost:8080/",
          "height": 101
        }
      },
      "source": [
        "data_daily.isnull().sum()"
      ],
      "execution_count": 17,
      "outputs": [
        {
          "output_type": "execute_result",
          "data": {
            "text/plain": [
              "hum          141\n",
              "pressurem    141\n",
              "tempm        141\n",
              "wspdm        141\n",
              "dtype: int64"
            ]
          },
          "metadata": {
            "tags": []
          },
          "execution_count": 17
        }
      ]
    },
    {
      "cell_type": "code",
      "metadata": {
        "id": "pyWtTzcFemEP",
        "outputId": "b38e8f4a-0173-45ec-f142-6a6667b91e73",
        "colab": {
          "base_uri": "https://localhost:8080/",
          "height": 101
        }
      },
      "source": [
        "data_daily.fillna(data_daily.mean(),inplace=True)\n",
        "data_daily.isnull().sum()"
      ],
      "execution_count": 18,
      "outputs": [
        {
          "output_type": "execute_result",
          "data": {
            "text/plain": [
              "hum          0\n",
              "pressurem    0\n",
              "tempm        0\n",
              "wspdm        0\n",
              "dtype: int64"
            ]
          },
          "metadata": {
            "tags": []
          },
          "execution_count": 18
        }
      ]
    },
    {
      "cell_type": "code",
      "metadata": {
        "id": "qN5Aa1x2exG5"
      },
      "source": [
        "data_daily_temp=pd.DataFrame(list(data_daily[\"tempm\"]),columns=[\"temp\"])"
      ],
      "execution_count": 19,
      "outputs": []
    },
    {
      "cell_type": "code",
      "metadata": {
        "id": "ZUuFY7TBfBQH",
        "outputId": "a23fc44e-1c9f-40ee-adab-a64b1311ae8c",
        "colab": {
          "base_uri": "https://localhost:8080/",
          "height": 402
        }
      },
      "source": [
        "data_daily_temp"
      ],
      "execution_count": 20,
      "outputs": [
        {
          "output_type": "execute_result",
          "data": {
            "text/html": [
              "<div>\n",
              "<style scoped>\n",
              "    .dataframe tbody tr th:only-of-type {\n",
              "        vertical-align: middle;\n",
              "    }\n",
              "\n",
              "    .dataframe tbody tr th {\n",
              "        vertical-align: top;\n",
              "    }\n",
              "\n",
              "    .dataframe thead th {\n",
              "        text-align: right;\n",
              "    }\n",
              "</style>\n",
              "<table border=\"1\" class=\"dataframe\">\n",
              "  <thead>\n",
              "    <tr style=\"text-align: right;\">\n",
              "      <th></th>\n",
              "      <th>temp</th>\n",
              "    </tr>\n",
              "  </thead>\n",
              "  <tbody>\n",
              "    <tr>\n",
              "      <th>0</th>\n",
              "      <td>22.333333</td>\n",
              "    </tr>\n",
              "    <tr>\n",
              "      <th>1</th>\n",
              "      <td>22.916667</td>\n",
              "    </tr>\n",
              "    <tr>\n",
              "      <th>2</th>\n",
              "      <td>21.791667</td>\n",
              "    </tr>\n",
              "    <tr>\n",
              "      <th>3</th>\n",
              "      <td>22.722222</td>\n",
              "    </tr>\n",
              "    <tr>\n",
              "      <th>4</th>\n",
              "      <td>27.800000</td>\n",
              "    </tr>\n",
              "    <tr>\n",
              "      <th>...</th>\n",
              "      <td>...</td>\n",
              "    </tr>\n",
              "    <tr>\n",
              "      <th>7361</th>\n",
              "      <td>16.850000</td>\n",
              "    </tr>\n",
              "    <tr>\n",
              "      <th>7362</th>\n",
              "      <td>17.217391</td>\n",
              "    </tr>\n",
              "    <tr>\n",
              "      <th>7363</th>\n",
              "      <td>15.238095</td>\n",
              "    </tr>\n",
              "    <tr>\n",
              "      <th>7364</th>\n",
              "      <td>14.095238</td>\n",
              "    </tr>\n",
              "    <tr>\n",
              "      <th>7365</th>\n",
              "      <td>15.650000</td>\n",
              "    </tr>\n",
              "  </tbody>\n",
              "</table>\n",
              "<p>7366 rows × 1 columns</p>\n",
              "</div>"
            ],
            "text/plain": [
              "           temp\n",
              "0     22.333333\n",
              "1     22.916667\n",
              "2     21.791667\n",
              "3     22.722222\n",
              "4     27.800000\n",
              "...         ...\n",
              "7361  16.850000\n",
              "7362  17.217391\n",
              "7363  15.238095\n",
              "7364  14.095238\n",
              "7365  15.650000\n",
              "\n",
              "[7366 rows x 1 columns]"
            ]
          },
          "metadata": {
            "tags": []
          },
          "execution_count": 20
        }
      ]
    },
    {
      "cell_type": "code",
      "metadata": {
        "id": "xnjdn70jfdGk",
        "outputId": "2797c502-10a7-4d9b-eb1e-34ec2628c73d",
        "colab": {
          "base_uri": "https://localhost:8080/",
          "height": 484
        }
      },
      "source": [
        "plt.figure(figsize=(20,8))\n",
        "plt.plot(data_daily_temp)\n",
        "plt.title(\"Delhi Temp Variation\")\n",
        "plt.show()"
      ],
      "execution_count": 21,
      "outputs": [
        {
          "output_type": "display_data",
          "data": {
            "image/png": "[encoded data removed]",
            "text/plain": [
              "<Figure size 1440x576 with 1 Axes>"
            ]
          },
          "metadata": {
            "tags": [],
            "needs_background": "light"
          }
        }
      ]
    },
    {
      "cell_type": "code",
      "metadata": {
        "id": "Ws9SxWGtfoRZ"
      },
      "source": [
        "from sklearn.preprocessing import LabelEncoder, MinMaxScaler\n",
        "scaler=MinMaxScaler(feature_range=(-1,1))\n",
        "data_daily_temp=scaler.fit_transform(data_daily_temp)"
      ],
      "execution_count": 22,
      "outputs": []
    },
    {
      "cell_type": "code",
      "metadata": {
        "id": "HH_H0rIogK_7",
        "outputId": "3fadb8c0-89a2-43fc-875b-ed43f259ddd9",
        "colab": {
          "base_uri": "https://localhost:8080/",
          "height": 151
        }
      },
      "source": [
        "print(data_daily_temp)\n",
        "print(data_daily_temp.shape)"
      ],
      "execution_count": 23,
      "outputs": [
        {
          "output_type": "stream",
          "text": [
            "[[-0.07224714]\n",
            " [-0.0391131 ]\n",
            " [-0.10301445]\n",
            " ...\n",
            " [-0.47526514]\n",
            " [-0.5401808 ]\n",
            " [-0.45186846]]\n",
            "(7366, 1)\n"
          ],
          "name": "stdout"
        }
      ]
    },
    {
      "cell_type": "code",
      "metadata": {
        "id": "oy6pofvEgjn6",
        "outputId": "630eb263-e839-4e61-da1a-41b6606b1c72",
        "colab": {
          "base_uri": "https://localhost:8080/",
          "height": 50
        }
      },
      "source": [
        "steps=30\n",
        "X_part=[]\n",
        "Y_part=[]\n",
        "for i in range(len(data_daily_temp)-steps):\n",
        "  X_part.append(data_daily_temp[i:i+steps])\n",
        "  Y_part.append(data_daily_temp[i+steps])\n",
        "\n",
        "X_part=np.array(X_part)\n",
        "Y_part=np.array(Y_part)\n",
        "\n",
        "print(X_part.shape)\n",
        "print(Y_part.shape)"
      ],
      "execution_count": 24,
      "outputs": [
        {
          "output_type": "stream",
          "text": [
            "(7336, 30, 1)\n",
            "(7336, 1)\n"
          ],
          "name": "stdout"
        }
      ]
    },
    {
      "cell_type": "code",
      "metadata": {
        "id": "bpkWrRbmhdNq"
      },
      "source": [
        "train_X=X_part[:7000,::]\n",
        "test_X=X_part[7000:,::]\n",
        "\n",
        "train_Y=Y_part[:7000]\n",
        "test_Y=Y_part[7000:]"
      ],
      "execution_count": 25,
      "outputs": []
    },
    {
      "cell_type": "code",
      "metadata": {
        "id": "2H5i8DK2iAIS"
      },
      "source": [
        "from tensorflow.keras import models, layers, utils, optimizers, callbacks\n",
        "from sklearn.metrics import mean_squared_error, mean_absolute_error"
      ],
      "execution_count": 26,
      "outputs": []
    },
    {
      "cell_type": "code",
      "metadata": {
        "id": "oD-oi1Plhxxs"
      },
      "source": [
        "model1=models.Sequential()\n",
        "model1.add(layers.Conv1D(filters=128, kernel_size=2, activation=\"relu\", input_shape=(30,1)))\n",
        "model1.add(layers.Conv1D(filters=128, kernel_size=2, activation=\"relu\"))\n",
        "model1.add(layers.MaxPooling1D(pool_size=2))\n",
        "model1.add(layers.Conv1D(filters=256, kernel_size=2, activation=\"relu\"))\n",
        "model1.add(layers.Flatten())\n",
        "model1.add(layers.RepeatVector(30)) #same as input (30,1)\n",
        "model1.add(layers.LSTM(units=100, return_sequences=True, activation=\"relu\"))\n",
        "model1.add(layers.Dropout(0.2))\n",
        "model1.add(layers.LSTM(units=100, return_sequences=True, activation=\"relu\"))\n",
        "model1.add(layers.Dropout(0.2))\n",
        "model1.add(layers.Bidirectional(layers.LSTM(units=128, activation=\"relu\")))\n",
        "model1.add(layers.Dense(100, activation=\"relu\"))\n",
        "model1.add(layers.Dense(1))"
      ],
      "execution_count": null,
      "outputs": []
    },
    {
      "cell_type": "code",
      "metadata": {
        "id": "ueFalzsnh6iR",
        "outputId": "7b72f73a-6281-48a0-e88e-47614b8a6a28",
        "colab": {
          "base_uri": "https://localhost:8080/",
          "height": 588
        }
      },
      "source": [
        "model1.compile(loss=\"mae\",optimizer=optimizers.Adam(lr=0.0001))\n",
        "model1.summary()"
      ],
      "execution_count": null,
      "outputs": [
        {
          "output_type": "stream",
          "text": [
            "Model: \"sequential\"\n",
            "_________________________________________________________________\n",
            "Layer (type)                 Output Shape              Param #   \n",
            "=================================================================\n",
            "conv1d (Conv1D)              (None, 29, 128)           384       \n",
            "_________________________________________________________________\n",
            "conv1d_1 (Conv1D)            (None, 28, 128)           32896     \n",
            "_________________________________________________________________\n",
            "max_pooling1d (MaxPooling1D) (None, 14, 128)           0         \n",
            "_________________________________________________________________\n",
            "conv1d_2 (Conv1D)            (None, 13, 256)           65792     \n",
            "_________________________________________________________________\n",
            "flatten (Flatten)            (None, 3328)              0         \n",
            "_________________________________________________________________\n",
            "repeat_vector (RepeatVector) (None, 30, 3328)          0         \n",
            "_________________________________________________________________\n",
            "lstm (LSTM)                  (None, 30, 100)           1371600   \n",
            "_________________________________________________________________\n",
            "dropout (Dropout)            (None, 30, 100)           0         \n",
            "_________________________________________________________________\n",
            "lstm_1 (LSTM)                (None, 30, 100)           80400     \n",
            "_________________________________________________________________\n",
            "dropout_1 (Dropout)          (None, 30, 100)           0         \n",
            "_________________________________________________________________\n",
            "bidirectional (Bidirectional (None, 256)               234496    \n",
            "_________________________________________________________________\n",
            "dense (Dense)                (None, 100)               25700     \n",
            "_________________________________________________________________\n",
            "dense_1 (Dense)              (None, 1)                 101       \n",
            "=================================================================\n",
            "Total params: 1,811,369\n",
            "Trainable params: 1,811,369\n",
            "Non-trainable params: 0\n",
            "_________________________________________________________________\n"
          ],
          "name": "stdout"
        }
      ]
    },
    {
      "cell_type": "code",
      "metadata": {
        "id": "Ef9lrJkkiNiR"
      },
      "source": [
        "Earlystp=callbacks.EarlyStopping(monitor=\"loss\", mode=\"min\", patience=5, restore_best_weights=True)\n",
        "Savemod=callbacks.ModelCheckpoint(filepath=\"model1_ts.h5\", monitor=\"loss\", save_best_only=True)"
      ],
      "execution_count": null,
      "outputs": []
    },
    {
      "cell_type": "code",
      "metadata": {
        "id": "jGTiKnNHiTOB",
        "outputId": "b6d41f27-91e5-4e61-b0d2-96bf6713df5a",
        "colab": {
          "base_uri": "https://localhost:8080/",
          "height": 756
        }
      },
      "source": [
        "history=model1.fit(train_X, train_Y, epochs=200, callbacks=[Earlystp, Savemod])"
      ],
      "execution_count": null,
      "outputs": [
        {
          "output_type": "stream",
          "text": [
            "Epoch 1/200\n",
            "219/219 [==============================] - 83s 381ms/step - loss: 0.1429\n",
            "Epoch 2/200\n",
            "219/219 [==============================] - 87s 398ms/step - loss: 0.0918\n",
            "Epoch 3/200\n",
            "219/219 [==============================] - 81s 370ms/step - loss: 0.0818\n",
            "Epoch 4/200\n",
            "219/219 [==============================] - 82s 375ms/step - loss: 0.0778\n",
            "Epoch 5/200\n",
            "219/219 [==============================] - 81s 370ms/step - loss: 0.0773\n",
            "Epoch 6/200\n",
            "219/219 [==============================] - 82s 373ms/step - loss: 0.0753\n",
            "Epoch 7/200\n",
            "219/219 [==============================] - 81s 371ms/step - loss: 0.0735\n",
            "Epoch 8/200\n",
            "219/219 [==============================] - 82s 374ms/step - loss: 0.0758\n",
            "Epoch 9/200\n",
            "219/219 [==============================] - 88s 402ms/step - loss: 0.0737\n",
            "Epoch 10/200\n",
            "219/219 [==============================] - 81s 372ms/step - loss: 0.0732\n",
            "Epoch 11/200\n",
            "219/219 [==============================] - 81s 371ms/step - loss: 0.0730\n",
            "Epoch 12/200\n",
            "219/219 [==============================] - 81s 371ms/step - loss: 0.0734\n",
            "Epoch 13/200\n",
            "219/219 [==============================] - 82s 373ms/step - loss: 0.0712\n",
            "Epoch 14/200\n",
            "219/219 [==============================] - 80s 367ms/step - loss: 0.0730\n",
            "Epoch 15/200\n",
            "219/219 [==============================] - 81s 369ms/step - loss: 0.0718\n",
            "Epoch 16/200\n",
            "219/219 [==============================] - 81s 368ms/step - loss: 0.0705\n",
            "Epoch 17/200\n",
            "219/219 [==============================] - 86s 392ms/step - loss: 0.0704\n",
            "Epoch 18/200\n",
            "219/219 [==============================] - 81s 371ms/step - loss: 0.0709\n",
            "Epoch 19/200\n",
            "219/219 [==============================] - 81s 369ms/step - loss: 0.0704\n",
            "Epoch 20/200\n",
            "219/219 [==============================] - 81s 369ms/step - loss: 0.0709\n",
            "Epoch 21/200\n",
            "219/219 [==============================] - 80s 367ms/step - loss: 0.0702\n",
            "Epoch 22/200\n",
            " 84/219 [==========>...................] - ETA: 49s - loss: 0.0673"
          ],
          "name": "stdout"
        }
      ]
    },
    {
      "cell_type": "code",
      "metadata": {
        "id": "MB1DniNyiVbq"
      },
      "source": [
        "hist=history.history\n",
        "train_loss=hist[\"loss\"]\n",
        "epoch=range(1,len(train_loss)+1)"
      ],
      "execution_count": null,
      "outputs": []
    },
    {
      "cell_type": "code",
      "metadata": {
        "id": "lSICOSn64Gp_"
      },
      "source": [
        "plt.plot(epoch,train_loss)"
      ],
      "execution_count": null,
      "outputs": []
    },
    {
      "cell_type": "code",
      "metadata": {
        "id": "KbAsnLoG4KLK"
      },
      "source": [
        "model1=models.load_model(\"model1_ts.h5\")"
      ],
      "execution_count": 27,
      "outputs": []
    },
    {
      "cell_type": "code",
      "metadata": {
        "id": "6tpD73XC4RzM"
      },
      "source": [
        "preds=model1.predict(test_X)"
      ],
      "execution_count": 28,
      "outputs": []
    },
    {
      "cell_type": "code",
      "metadata": {
        "id": "Fwf7gnd26kud"
      },
      "source": [
        "preds=scaler.inverse_transform(preds)"
      ],
      "execution_count": 29,
      "outputs": []
    },
    {
      "cell_type": "code",
      "metadata": {
        "id": "foyM8sRX6sHR",
        "outputId": "4aff3af5-a630-44b8-d8f0-e0754a1103fb",
        "colab": {
          "base_uri": "https://localhost:8080/",
          "height": 1000
        }
      },
      "source": [
        "preds"
      ],
      "execution_count": 30,
      "outputs": [
        {
          "output_type": "execute_result",
          "data": {
            "text/plain": [
              "array([[17.670906 ],\n",
              "       [13.885686 ],\n",
              "       [16.065578 ],\n",
              "       [16.653814 ],\n",
              "       [15.002397 ],\n",
              "       [16.575209 ],\n",
              "       [12.430743 ],\n",
              "       [14.955014 ],\n",
              "       [15.663616 ],\n",
              "       [16.69257  ],\n",
              "       [20.995926 ],\n",
              "       [18.730366 ],\n",
              "       [20.394266 ],\n",
              "       [18.565895 ],\n",
              "       [16.640043 ],\n",
              "       [19.686676 ],\n",
              "       [17.102785 ],\n",
              "       [20.410034 ],\n",
              "       [20.191654 ],\n",
              "       [20.850504 ],\n",
              "       [22.658115 ],\n",
              "       [19.858437 ],\n",
              "       [21.05781  ],\n",
              "       [21.948921 ],\n",
              "       [20.726856 ],\n",
              "       [21.231585 ],\n",
              "       [24.21567  ],\n",
              "       [24.821144 ],\n",
              "       [25.142143 ],\n",
              "       [24.82435  ],\n",
              "       [22.390907 ],\n",
              "       [24.473125 ],\n",
              "       [22.98926  ],\n",
              "       [23.058971 ],\n",
              "       [25.363161 ],\n",
              "       [23.632427 ],\n",
              "       [23.649818 ],\n",
              "       [24.700514 ],\n",
              "       [24.234682 ],\n",
              "       [24.343815 ],\n",
              "       [25.977053 ],\n",
              "       [25.137877 ],\n",
              "       [23.76385  ],\n",
              "       [25.025272 ],\n",
              "       [24.293846 ],\n",
              "       [22.587416 ],\n",
              "       [23.86665  ],\n",
              "       [25.541878 ],\n",
              "       [26.08396  ],\n",
              "       [27.909843 ],\n",
              "       [27.717173 ],\n",
              "       [26.73083  ],\n",
              "       [25.960052 ],\n",
              "       [26.433928 ],\n",
              "       [27.32628  ],\n",
              "       [29.572996 ],\n",
              "       [25.542793 ],\n",
              "       [26.335917 ],\n",
              "       [29.484564 ],\n",
              "       [26.763954 ],\n",
              "       [30.16396  ],\n",
              "       [29.20398  ],\n",
              "       [29.609362 ],\n",
              "       [31.382004 ],\n",
              "       [31.279453 ],\n",
              "       [32.94556  ],\n",
              "       [32.170345 ],\n",
              "       [31.454926 ],\n",
              "       [30.708998 ],\n",
              "       [28.961721 ],\n",
              "       [30.86732  ],\n",
              "       [32.961166 ],\n",
              "       [30.565577 ],\n",
              "       [29.906132 ],\n",
              "       [31.867485 ],\n",
              "       [33.151756 ],\n",
              "       [34.061104 ],\n",
              "       [34.593628 ],\n",
              "       [33.25802  ],\n",
              "       [36.737347 ],\n",
              "       [34.38078  ],\n",
              "       [34.47561  ],\n",
              "       [33.575092 ],\n",
              "       [32.76892  ],\n",
              "       [31.206423 ],\n",
              "       [30.650978 ],\n",
              "       [31.278805 ],\n",
              "       [33.755875 ],\n",
              "       [31.712168 ],\n",
              "       [32.958916 ],\n",
              "       [33.484463 ],\n",
              "       [33.013123 ],\n",
              "       [34.614822 ],\n",
              "       [36.809937 ],\n",
              "       [35.00066  ],\n",
              "       [33.78608  ],\n",
              "       [31.389357 ],\n",
              "       [30.261305 ],\n",
              "       [32.394455 ],\n",
              "       [35.186367 ],\n",
              "       [31.37805  ],\n",
              "       [31.624516 ],\n",
              "       [32.070694 ],\n",
              "       [35.392303 ],\n",
              "       [36.725605 ],\n",
              "       [35.4244   ],\n",
              "       [36.003983 ],\n",
              "       [35.918488 ],\n",
              "       [37.59547  ],\n",
              "       [37.569427 ],\n",
              "       [37.71069  ],\n",
              "       [36.910168 ],\n",
              "       [34.9873   ],\n",
              "       [35.50272  ],\n",
              "       [31.906519 ],\n",
              "       [28.987139 ],\n",
              "       [31.949184 ],\n",
              "       [35.670433 ],\n",
              "       [37.192345 ],\n",
              "       [33.38762  ],\n",
              "       [29.407335 ],\n",
              "       [26.817749 ],\n",
              "       [34.113506 ],\n",
              "       [37.77841  ],\n",
              "       [37.52316  ],\n",
              "       [35.687847 ],\n",
              "       [36.71665  ],\n",
              "       [33.34098  ],\n",
              "       [32.83565  ],\n",
              "       [35.4847   ],\n",
              "       [35.12926  ],\n",
              "       [34.43899  ],\n",
              "       [36.115852 ],\n",
              "       [32.189438 ],\n",
              "       [32.863556 ],\n",
              "       [34.56545  ],\n",
              "       [32.836956 ],\n",
              "       [34.55573  ],\n",
              "       [30.603216 ],\n",
              "       [31.940727 ],\n",
              "       [37.630306 ],\n",
              "       [35.436966 ],\n",
              "       [30.754313 ],\n",
              "       [31.182817 ],\n",
              "       [31.638044 ],\n",
              "       [30.052177 ],\n",
              "       [33.074917 ],\n",
              "       [32.083637 ],\n",
              "       [31.862251 ],\n",
              "       [31.827316 ],\n",
              "       [30.5941   ],\n",
              "       [35.361843 ],\n",
              "       [36.140877 ],\n",
              "       [33.14846  ],\n",
              "       [28.851202 ],\n",
              "       [30.340418 ],\n",
              "       [32.424347 ],\n",
              "       [34.51426  ],\n",
              "       [33.64637  ],\n",
              "       [33.42091  ],\n",
              "       [30.501095 ],\n",
              "       [34.105694 ],\n",
              "       [33.164223 ],\n",
              "       [31.218071 ],\n",
              "       [30.286587 ],\n",
              "       [30.95506  ],\n",
              "       [30.547392 ],\n",
              "       [31.251318 ],\n",
              "       [29.82203  ],\n",
              "       [29.467663 ],\n",
              "       [29.004808 ],\n",
              "       [30.632135 ],\n",
              "       [34.294125 ],\n",
              "       [32.45143  ],\n",
              "       [34.13392  ],\n",
              "       [29.586943 ],\n",
              "       [30.431    ],\n",
              "       [33.314854 ],\n",
              "       [30.612228 ],\n",
              "       [29.163067 ],\n",
              "       [30.144886 ],\n",
              "       [29.040464 ],\n",
              "       [28.832193 ],\n",
              "       [29.520302 ],\n",
              "       [28.228077 ],\n",
              "       [30.742634 ],\n",
              "       [32.02461  ],\n",
              "       [33.13627  ],\n",
              "       [33.935402 ],\n",
              "       [30.062721 ],\n",
              "       [32.905926 ],\n",
              "       [32.426735 ],\n",
              "       [30.897596 ],\n",
              "       [32.463898 ],\n",
              "       [28.710224 ],\n",
              "       [29.695183 ],\n",
              "       [30.809973 ],\n",
              "       [30.184662 ],\n",
              "       [31.997677 ],\n",
              "       [30.392513 ],\n",
              "       [31.44845  ],\n",
              "       [30.27005  ],\n",
              "       [30.792004 ],\n",
              "       [33.36089  ],\n",
              "       [31.351698 ],\n",
              "       [31.74005  ],\n",
              "       [31.409037 ],\n",
              "       [29.601032 ],\n",
              "       [32.230125 ],\n",
              "       [32.46049  ],\n",
              "       [29.959818 ],\n",
              "       [33.199585 ],\n",
              "       [28.572418 ],\n",
              "       [30.262135 ],\n",
              "       [28.62919  ],\n",
              "       [29.147806 ],\n",
              "       [30.334715 ],\n",
              "       [30.22613  ],\n",
              "       [31.86791  ],\n",
              "       [29.775194 ],\n",
              "       [30.138275 ],\n",
              "       [31.586912 ],\n",
              "       [32.19243  ],\n",
              "       [30.53459  ],\n",
              "       [30.876873 ],\n",
              "       [30.043041 ],\n",
              "       [31.903603 ],\n",
              "       [31.25667  ],\n",
              "       [30.720396 ],\n",
              "       [33.108772 ],\n",
              "       [30.75259  ],\n",
              "       [32.243263 ],\n",
              "       [32.003036 ],\n",
              "       [31.434866 ],\n",
              "       [32.7082   ],\n",
              "       [32.147617 ],\n",
              "       [29.832668 ],\n",
              "       [31.42731  ],\n",
              "       [30.195389 ],\n",
              "       [30.823132 ],\n",
              "       [30.91146  ],\n",
              "       [31.392088 ],\n",
              "       [32.399693 ],\n",
              "       [31.88261  ],\n",
              "       [32.109013 ],\n",
              "       [32.889534 ],\n",
              "       [32.479916 ],\n",
              "       [33.49491  ],\n",
              "       [30.3909   ],\n",
              "       [29.027897 ],\n",
              "       [30.706982 ],\n",
              "       [29.790169 ],\n",
              "       [31.115526 ],\n",
              "       [31.085869 ],\n",
              "       [29.815828 ],\n",
              "       [30.925167 ],\n",
              "       [30.007132 ],\n",
              "       [30.166384 ],\n",
              "       [30.274391 ],\n",
              "       [28.53176  ],\n",
              "       [28.605713 ],\n",
              "       [28.4932   ],\n",
              "       [29.381153 ],\n",
              "       [28.605667 ],\n",
              "       [28.899803 ],\n",
              "       [28.011389 ],\n",
              "       [29.42925  ],\n",
              "       [28.358732 ],\n",
              "       [29.413776 ],\n",
              "       [28.087255 ],\n",
              "       [27.020926 ],\n",
              "       [26.566593 ],\n",
              "       [25.746145 ],\n",
              "       [26.185373 ],\n",
              "       [26.296305 ],\n",
              "       [25.210611 ],\n",
              "       [24.921799 ],\n",
              "       [24.633732 ],\n",
              "       [25.105091 ],\n",
              "       [24.859797 ],\n",
              "       [23.469717 ],\n",
              "       [22.935099 ],\n",
              "       [23.956057 ],\n",
              "       [23.59618  ],\n",
              "       [23.16707  ],\n",
              "       [23.108967 ],\n",
              "       [22.841469 ],\n",
              "       [23.119844 ],\n",
              "       [23.344175 ],\n",
              "       [22.71799  ],\n",
              "       [22.34813  ],\n",
              "       [21.911024 ],\n",
              "       [21.42208  ],\n",
              "       [22.427032 ],\n",
              "       [21.989166 ],\n",
              "       [22.294544 ],\n",
              "       [21.423683 ],\n",
              "       [22.053858 ],\n",
              "       [21.806377 ],\n",
              "       [20.42732  ],\n",
              "       [21.277494 ],\n",
              "       [22.107002 ],\n",
              "       [22.733414 ],\n",
              "       [21.799969 ],\n",
              "       [21.262642 ],\n",
              "       [19.327564 ],\n",
              "       [19.171438 ],\n",
              "       [19.234173 ],\n",
              "       [19.431355 ],\n",
              "       [17.859695 ],\n",
              "       [17.974403 ],\n",
              "       [18.112028 ],\n",
              "       [18.352526 ],\n",
              "       [17.382164 ],\n",
              "       [18.447159 ],\n",
              "       [16.68063  ],\n",
              "       [17.79658  ],\n",
              "       [17.310055 ],\n",
              "       [17.01414  ],\n",
              "       [18.000843 ],\n",
              "       [18.689056 ],\n",
              "       [14.847109 ],\n",
              "       [16.603157 ],\n",
              "       [17.21283  ],\n",
              "       [17.343803 ],\n",
              "       [17.62379  ],\n",
              "       [17.542118 ],\n",
              "       [17.97858  ],\n",
              "       [15.744997 ],\n",
              "       [16.143787 ],\n",
              "       [14.5021105],\n",
              "       [16.239162 ],\n",
              "       [16.58601  ],\n",
              "       [16.093927 ],\n",
              "       [14.896018 ],\n",
              "       [13.611905 ]], dtype=float32)"
            ]
          },
          "metadata": {
            "tags": []
          },
          "execution_count": 30
        }
      ]
    },
    {
      "cell_type": "code",
      "metadata": {
        "id": "OfnIEaa_6tPo"
      },
      "source": [
        "test_Y_inv=scaler.inverse_transform(test_Y)"
      ],
      "execution_count": 31,
      "outputs": []
    },
    {
      "cell_type": "code",
      "metadata": {
        "id": "tu61r1pj63Pr",
        "outputId": "6a7f3418-8e53-457c-eab5-bbe3d05d54d7",
        "colab": {
          "base_uri": "https://localhost:8080/",
          "height": 308
        }
      },
      "source": [
        "plt.figure(figsize=(20,9))\n",
        "plt.plot(test_Y_inv,'blue',linewidth=5)\n",
        "plt.plot(preds,'r',linewidth=4)\n",
        "plt.legend(('Test','Predicted'))\n",
        "plt.show()"
      ],
      "execution_count": 32,
      "outputs": [
        {
          "output_type": "display_data",
          "data": {
            "image/png": "[encoded data removed]",
            "text/plain": [
              "<Figure size 1440x648 with 1 Axes>"
            ]
          },
          "metadata": {
            "tags": [],
            "needs_background": "light"
          }
        }
      ]
    },
    {
      "cell_type": "code",
      "metadata": {
        "id": "toDQ8-C0-Ouo",
        "outputId": "6416f57a-b7db-4dc6-bff2-85ba58dbc05a",
        "colab": {
          "base_uri": "https://localhost:8080/",
          "height": 34
        }
      },
      "source": [
        "mse=mean_squared_error(test_Y_inv,preds)\n",
        "mae=mean_absolute_error(test_Y_inv,preds)\n",
        "print(f'{mse} {mae}')"
      ],
      "execution_count": 33,
      "outputs": [
        {
          "output_type": "stream",
          "text": [
            "3.3246967595430172 1.4349393367560748\n"
          ],
          "name": "stdout"
        }
      ]
    },
    {
      "cell_type": "code",
      "metadata": {
        "id": "nYZhN_zg-kXK",
        "outputId": "704a2b5b-fe74-45b8-9413-b539bf7e468d",
        "colab": {
          "base_uri": "https://localhost:8080/",
          "height": 402
        }
      },
      "source": [
        "test=pd.read_csv(\"DailyDelhiClimateTest.csv\")\n",
        "test"
      ],
      "execution_count": 38,
      "outputs": [
        {
          "output_type": "execute_result",
          "data": {
            "text/html": [
              "<div>\n",
              "<style scoped>\n",
              "    .dataframe tbody tr th:only-of-type {\n",
              "        vertical-align: middle;\n",
              "    }\n",
              "\n",
              "    .dataframe tbody tr th {\n",
              "        vertical-align: top;\n",
              "    }\n",
              "\n",
              "    .dataframe thead th {\n",
              "        text-align: right;\n",
              "    }\n",
              "</style>\n",
              "<table border=\"1\" class=\"dataframe\">\n",
              "  <thead>\n",
              "    <tr style=\"text-align: right;\">\n",
              "      <th></th>\n",
              "      <th>date</th>\n",
              "      <th>meantemp</th>\n",
              "      <th>humidity</th>\n",
              "      <th>wind_speed</th>\n",
              "      <th>meanpressure</th>\n",
              "    </tr>\n",
              "  </thead>\n",
              "  <tbody>\n",
              "    <tr>\n",
              "      <th>0</th>\n",
              "      <td>2017-01-01</td>\n",
              "      <td>15.913043</td>\n",
              "      <td>85.869565</td>\n",
              "      <td>2.743478</td>\n",
              "      <td>59.000000</td>\n",
              "    </tr>\n",
              "    <tr>\n",
              "      <th>1</th>\n",
              "      <td>2017-01-02</td>\n",
              "      <td>18.500000</td>\n",
              "      <td>77.222222</td>\n",
              "      <td>2.894444</td>\n",
              "      <td>1018.277778</td>\n",
              "    </tr>\n",
              "    <tr>\n",
              "      <th>2</th>\n",
              "      <td>2017-01-03</td>\n",
              "      <td>17.111111</td>\n",
              "      <td>81.888889</td>\n",
              "      <td>4.016667</td>\n",
              "      <td>1018.333333</td>\n",
              "    </tr>\n",
              "    <tr>\n",
              "      <th>3</th>\n",
              "      <td>2017-01-04</td>\n",
              "      <td>18.700000</td>\n",
              "      <td>70.050000</td>\n",
              "      <td>4.545000</td>\n",
              "      <td>1015.700000</td>\n",
              "    </tr>\n",
              "    <tr>\n",
              "      <th>4</th>\n",
              "      <td>2017-01-05</td>\n",
              "      <td>18.388889</td>\n",
              "      <td>74.944444</td>\n",
              "      <td>3.300000</td>\n",
              "      <td>1014.333333</td>\n",
              "    </tr>\n",
              "    <tr>\n",
              "      <th>...</th>\n",
              "      <td>...</td>\n",
              "      <td>...</td>\n",
              "      <td>...</td>\n",
              "      <td>...</td>\n",
              "      <td>...</td>\n",
              "    </tr>\n",
              "    <tr>\n",
              "      <th>109</th>\n",
              "      <td>2017-04-20</td>\n",
              "      <td>34.500000</td>\n",
              "      <td>27.500000</td>\n",
              "      <td>5.562500</td>\n",
              "      <td>998.625000</td>\n",
              "    </tr>\n",
              "    <tr>\n",
              "      <th>110</th>\n",
              "      <td>2017-04-21</td>\n",
              "      <td>34.250000</td>\n",
              "      <td>39.375000</td>\n",
              "      <td>6.962500</td>\n",
              "      <td>999.875000</td>\n",
              "    </tr>\n",
              "    <tr>\n",
              "      <th>111</th>\n",
              "      <td>2017-04-22</td>\n",
              "      <td>32.900000</td>\n",
              "      <td>40.900000</td>\n",
              "      <td>8.890000</td>\n",
              "      <td>1001.600000</td>\n",
              "    </tr>\n",
              "    <tr>\n",
              "      <th>112</th>\n",
              "      <td>2017-04-23</td>\n",
              "      <td>32.875000</td>\n",
              "      <td>27.500000</td>\n",
              "      <td>9.962500</td>\n",
              "      <td>1002.125000</td>\n",
              "    </tr>\n",
              "    <tr>\n",
              "      <th>113</th>\n",
              "      <td>2017-04-24</td>\n",
              "      <td>32.000000</td>\n",
              "      <td>27.142857</td>\n",
              "      <td>12.157143</td>\n",
              "      <td>1004.142857</td>\n",
              "    </tr>\n",
              "  </tbody>\n",
              "</table>\n",
              "<p>114 rows × 5 columns</p>\n",
              "</div>"
            ],
            "text/plain": [
              "           date   meantemp   humidity  wind_speed  meanpressure\n",
              "0    2017-01-01  15.913043  85.869565    2.743478     59.000000\n",
              "1    2017-01-02  18.500000  77.222222    2.894444   1018.277778\n",
              "2    2017-01-03  17.111111  81.888889    4.016667   1018.333333\n",
              "3    2017-01-04  18.700000  70.050000    4.545000   1015.700000\n",
              "4    2017-01-05  18.388889  74.944444    3.300000   1014.333333\n",
              "..          ...        ...        ...         ...           ...\n",
              "109  2017-04-20  34.500000  27.500000    5.562500    998.625000\n",
              "110  2017-04-21  34.250000  39.375000    6.962500    999.875000\n",
              "111  2017-04-22  32.900000  40.900000    8.890000   1001.600000\n",
              "112  2017-04-23  32.875000  27.500000    9.962500   1002.125000\n",
              "113  2017-04-24  32.000000  27.142857   12.157143   1004.142857\n",
              "\n",
              "[114 rows x 5 columns]"
            ]
          },
          "metadata": {
            "tags": []
          },
          "execution_count": 38
        }
      ]
    },
    {
      "cell_type": "code",
      "metadata": {
        "id": "byIIGRHUrmZo",
        "outputId": "7a8d2d83-a382-4bbc-9a53-d746311a32eb",
        "colab": {
          "base_uri": "https://localhost:8080/",
          "height": 118
        }
      },
      "source": [
        "test.isnull().sum()"
      ],
      "execution_count": 40,
      "outputs": [
        {
          "output_type": "execute_result",
          "data": {
            "text/plain": [
              "date            0\n",
              "meantemp        0\n",
              "humidity        0\n",
              "wind_speed      0\n",
              "meanpressure    0\n",
              "dtype: int64"
            ]
          },
          "metadata": {
            "tags": []
          },
          "execution_count": 40
        }
      ]
    },
    {
      "cell_type": "code",
      "metadata": {
        "id": "OyyAqcK-r6QY"
      },
      "source": [
        "timeseries_test=test.copy()"
      ],
      "execution_count": 41,
      "outputs": []
    },
    {
      "cell_type": "code",
      "metadata": {
        "id": "-yzGptEisHdu",
        "outputId": "d8cf476e-b211-4d8d-c5c4-8dcf1356861b",
        "colab": {
          "base_uri": "https://localhost:8080/",
          "height": 34
        }
      },
      "source": [
        "timeseries_test[\"date\"].dtype"
      ],
      "execution_count": 43,
      "outputs": [
        {
          "output_type": "execute_result",
          "data": {
            "text/plain": [
              "dtype('O')"
            ]
          },
          "metadata": {
            "tags": []
          },
          "execution_count": 43
        }
      ]
    },
    {
      "cell_type": "code",
      "metadata": {
        "id": "TCTKhTOusMtd"
      },
      "source": [
        "timeseries_test[\"date\"]=pd.to_datetime(timeseries_test[\"date\"])"
      ],
      "execution_count": 44,
      "outputs": []
    },
    {
      "cell_type": "code",
      "metadata": {
        "id": "en4y254tsZ61",
        "outputId": "8c65d191-1cfb-4d15-dcd5-43b4edb75e2d",
        "colab": {
          "base_uri": "https://localhost:8080/",
          "height": 431
        }
      },
      "source": [
        "timeseries_test.set_index(\"date\",inplace=True)\n",
        "timeseries_test"
      ],
      "execution_count": 45,
      "outputs": [
        {
          "output_type": "execute_result",
          "data": {
            "text/html": [
              "<div>\n",
              "<style scoped>\n",
              "    .dataframe tbody tr th:only-of-type {\n",
              "        vertical-align: middle;\n",
              "    }\n",
              "\n",
              "    .dataframe tbody tr th {\n",
              "        vertical-align: top;\n",
              "    }\n",
              "\n",
              "    .dataframe thead th {\n",
              "        text-align: right;\n",
              "    }\n",
              "</style>\n",
              "<table border=\"1\" class=\"dataframe\">\n",
              "  <thead>\n",
              "    <tr style=\"text-align: right;\">\n",
              "      <th></th>\n",
              "      <th>meantemp</th>\n",
              "      <th>humidity</th>\n",
              "      <th>wind_speed</th>\n",
              "      <th>meanpressure</th>\n",
              "    </tr>\n",
              "    <tr>\n",
              "      <th>date</th>\n",
              "      <th></th>\n",
              "      <th></th>\n",
              "      <th></th>\n",
              "      <th></th>\n",
              "    </tr>\n",
              "  </thead>\n",
              "  <tbody>\n",
              "    <tr>\n",
              "      <th>2017-01-01</th>\n",
              "      <td>15.913043</td>\n",
              "      <td>85.869565</td>\n",
              "      <td>2.743478</td>\n",
              "      <td>59.000000</td>\n",
              "    </tr>\n",
              "    <tr>\n",
              "      <th>2017-01-02</th>\n",
              "      <td>18.500000</td>\n",
              "      <td>77.222222</td>\n",
              "      <td>2.894444</td>\n",
              "      <td>1018.277778</td>\n",
              "    </tr>\n",
              "    <tr>\n",
              "      <th>2017-01-03</th>\n",
              "      <td>17.111111</td>\n",
              "      <td>81.888889</td>\n",
              "      <td>4.016667</td>\n",
              "      <td>1018.333333</td>\n",
              "    </tr>\n",
              "    <tr>\n",
              "      <th>2017-01-04</th>\n",
              "      <td>18.700000</td>\n",
              "      <td>70.050000</td>\n",
              "      <td>4.545000</td>\n",
              "      <td>1015.700000</td>\n",
              "    </tr>\n",
              "    <tr>\n",
              "      <th>2017-01-05</th>\n",
              "      <td>18.388889</td>\n",
              "      <td>74.944444</td>\n",
              "      <td>3.300000</td>\n",
              "      <td>1014.333333</td>\n",
              "    </tr>\n",
              "    <tr>\n",
              "      <th>...</th>\n",
              "      <td>...</td>\n",
              "      <td>...</td>\n",
              "      <td>...</td>\n",
              "      <td>...</td>\n",
              "    </tr>\n",
              "    <tr>\n",
              "      <th>2017-04-20</th>\n",
              "      <td>34.500000</td>\n",
              "      <td>27.500000</td>\n",
              "      <td>5.562500</td>\n",
              "      <td>998.625000</td>\n",
              "    </tr>\n",
              "    <tr>\n",
              "      <th>2017-04-21</th>\n",
              "      <td>34.250000</td>\n",
              "      <td>39.375000</td>\n",
              "      <td>6.962500</td>\n",
              "      <td>999.875000</td>\n",
              "    </tr>\n",
              "    <tr>\n",
              "      <th>2017-04-22</th>\n",
              "      <td>32.900000</td>\n",
              "      <td>40.900000</td>\n",
              "      <td>8.890000</td>\n",
              "      <td>1001.600000</td>\n",
              "    </tr>\n",
              "    <tr>\n",
              "      <th>2017-04-23</th>\n",
              "      <td>32.875000</td>\n",
              "      <td>27.500000</td>\n",
              "      <td>9.962500</td>\n",
              "      <td>1002.125000</td>\n",
              "    </tr>\n",
              "    <tr>\n",
              "      <th>2017-04-24</th>\n",
              "      <td>32.000000</td>\n",
              "      <td>27.142857</td>\n",
              "      <td>12.157143</td>\n",
              "      <td>1004.142857</td>\n",
              "    </tr>\n",
              "  </tbody>\n",
              "</table>\n",
              "<p>114 rows × 4 columns</p>\n",
              "</div>"
            ],
            "text/plain": [
              "             meantemp   humidity  wind_speed  meanpressure\n",
              "date                                                      \n",
              "2017-01-01  15.913043  85.869565    2.743478     59.000000\n",
              "2017-01-02  18.500000  77.222222    2.894444   1018.277778\n",
              "2017-01-03  17.111111  81.888889    4.016667   1018.333333\n",
              "2017-01-04  18.700000  70.050000    4.545000   1015.700000\n",
              "2017-01-05  18.388889  74.944444    3.300000   1014.333333\n",
              "...               ...        ...         ...           ...\n",
              "2017-04-20  34.500000  27.500000    5.562500    998.625000\n",
              "2017-04-21  34.250000  39.375000    6.962500    999.875000\n",
              "2017-04-22  32.900000  40.900000    8.890000   1001.600000\n",
              "2017-04-23  32.875000  27.500000    9.962500   1002.125000\n",
              "2017-04-24  32.000000  27.142857   12.157143   1004.142857\n",
              "\n",
              "[114 rows x 4 columns]"
            ]
          },
          "metadata": {
            "tags": []
          },
          "execution_count": 45
        }
      ]
    },
    {
      "cell_type": "code",
      "metadata": {
        "id": "Ypkd1CKkspdu",
        "outputId": "019baa6f-8cfc-434b-e24a-3cbab98a1f09",
        "colab": {
          "base_uri": "https://localhost:8080/",
          "height": 101
        }
      },
      "source": [
        "timeseries_test.isnull().sum()"
      ],
      "execution_count": 47,
      "outputs": [
        {
          "output_type": "execute_result",
          "data": {
            "text/plain": [
              "meantemp        0\n",
              "humidity        0\n",
              "wind_speed      0\n",
              "meanpressure    0\n",
              "dtype: int64"
            ]
          },
          "metadata": {
            "tags": []
          },
          "execution_count": 47
        }
      ]
    },
    {
      "cell_type": "code",
      "metadata": {
        "id": "HGQF0sqbs3Qc",
        "outputId": "279dc86c-165b-4da3-b804-365e3a5ea7c7",
        "colab": {
          "base_uri": "https://localhost:8080/",
          "height": 402
        }
      },
      "source": [
        "test_data_temp=pd.DataFrame(list(timeseries_test[\"meantemp\"]),columns=[\"temp\"])\n",
        "test_data_temp"
      ],
      "execution_count": 49,
      "outputs": [
        {
          "output_type": "execute_result",
          "data": {
            "text/html": [
              "<div>\n",
              "<style scoped>\n",
              "    .dataframe tbody tr th:only-of-type {\n",
              "        vertical-align: middle;\n",
              "    }\n",
              "\n",
              "    .dataframe tbody tr th {\n",
              "        vertical-align: top;\n",
              "    }\n",
              "\n",
              "    .dataframe thead th {\n",
              "        text-align: right;\n",
              "    }\n",
              "</style>\n",
              "<table border=\"1\" class=\"dataframe\">\n",
              "  <thead>\n",
              "    <tr style=\"text-align: right;\">\n",
              "      <th></th>\n",
              "      <th>temp</th>\n",
              "    </tr>\n",
              "  </thead>\n",
              "  <tbody>\n",
              "    <tr>\n",
              "      <th>0</th>\n",
              "      <td>15.913043</td>\n",
              "    </tr>\n",
              "    <tr>\n",
              "      <th>1</th>\n",
              "      <td>18.500000</td>\n",
              "    </tr>\n",
              "    <tr>\n",
              "      <th>2</th>\n",
              "      <td>17.111111</td>\n",
              "    </tr>\n",
              "    <tr>\n",
              "      <th>3</th>\n",
              "      <td>18.700000</td>\n",
              "    </tr>\n",
              "    <tr>\n",
              "      <th>4</th>\n",
              "      <td>18.388889</td>\n",
              "    </tr>\n",
              "    <tr>\n",
              "      <th>...</th>\n",
              "      <td>...</td>\n",
              "    </tr>\n",
              "    <tr>\n",
              "      <th>109</th>\n",
              "      <td>34.500000</td>\n",
              "    </tr>\n",
              "    <tr>\n",
              "      <th>110</th>\n",
              "      <td>34.250000</td>\n",
              "    </tr>\n",
              "    <tr>\n",
              "      <th>111</th>\n",
              "      <td>32.900000</td>\n",
              "    </tr>\n",
              "    <tr>\n",
              "      <th>112</th>\n",
              "      <td>32.875000</td>\n",
              "    </tr>\n",
              "    <tr>\n",
              "      <th>113</th>\n",
              "      <td>32.000000</td>\n",
              "    </tr>\n",
              "  </tbody>\n",
              "</table>\n",
              "<p>114 rows × 1 columns</p>\n",
              "</div>"
            ],
            "text/plain": [
              "          temp\n",
              "0    15.913043\n",
              "1    18.500000\n",
              "2    17.111111\n",
              "3    18.700000\n",
              "4    18.388889\n",
              "..         ...\n",
              "109  34.500000\n",
              "110  34.250000\n",
              "111  32.900000\n",
              "112  32.875000\n",
              "113  32.000000\n",
              "\n",
              "[114 rows x 1 columns]"
            ]
          },
          "metadata": {
            "tags": []
          },
          "execution_count": 49
        }
      ]
    },
    {
      "cell_type": "code",
      "metadata": {
        "id": "3p5Z2e_LuQmc"
      },
      "source": [
        "from sklearn.preprocessing import LabelEncoder, MinMaxScaler\n",
        "scaler=MinMaxScaler(feature_range=(-1,1))\n",
        "test_data_temp=scaler.fit_transform(test_data_temp)"
      ],
      "execution_count": 52,
      "outputs": []
    },
    {
      "cell_type": "code",
      "metadata": {
        "id": "gSVvMGlEuWhy",
        "outputId": "327fa4c7-e356-46f9-aff2-010abeca43fa",
        "colab": {
          "base_uri": "https://localhost:8080/",
          "height": 1000
        }
      },
      "source": [
        "print(test_data_temp)\n",
        "print(test_data_temp.shape)"
      ],
      "execution_count": 53,
      "outputs": [
        {
          "output_type": "stream",
          "text": [
            "[[-0.58186864]\n",
            " [-0.36170213]\n",
            " [-0.47990544]\n",
            " [-0.34468085]\n",
            " [-0.37115839]\n",
            " [-0.29206963]\n",
            " [-0.68439716]\n",
            " [-0.60134378]\n",
            " [-0.69604863]\n",
            " [-0.90543735]\n",
            " [-1.        ]\n",
            " [-0.93281075]\n",
            " [-0.8097622 ]\n",
            " [-0.81276596]\n",
            " [-0.53746531]\n",
            " [-0.6893617 ]\n",
            " [-0.93853428]\n",
            " [-0.82624113]\n",
            " [-0.69199595]\n",
            " [-0.63717805]\n",
            " [-0.62627197]\n",
            " [-0.36680851]\n",
            " [-0.3942428 ]\n",
            " [-0.3746531 ]\n",
            " [-0.14893617]\n",
            " [-0.55927052]\n",
            " [-0.53191489]\n",
            " [-0.67117988]\n",
            " [-0.60283688]\n",
            " [-0.53664303]\n",
            " [-0.56382979]\n",
            " [-0.63829787]\n",
            " [-0.48162476]\n",
            " [-0.60541586]\n",
            " [-0.34468085]\n",
            " [-0.35050392]\n",
            " [-0.49881797]\n",
            " [-0.64893617]\n",
            " [-0.6       ]\n",
            " [-0.62765957]\n",
            " [-0.68794326]\n",
            " [-0.60638298]\n",
            " [-0.55319149]\n",
            " [-0.54609929]\n",
            " [-0.5       ]\n",
            " [-0.44072948]\n",
            " [-0.21276596]\n",
            " [-0.12340426]\n",
            " [-0.13829787]\n",
            " [-0.03288201]\n",
            " [ 0.05319149]\n",
            " [-0.07801418]\n",
            " [-0.30851064]\n",
            " [-0.35106383]\n",
            " [-0.30851064]\n",
            " [-0.31914894]\n",
            " [-0.34042553]\n",
            " [-0.24468085]\n",
            " [ 0.04964539]\n",
            " [ 0.14566285]\n",
            " [ 0.08510638]\n",
            " [-0.19148936]\n",
            " [-0.30851064]\n",
            " [-0.25531915]\n",
            " [-0.23404255]\n",
            " [-0.0106383 ]\n",
            " [-0.10251451]\n",
            " [-0.16717325]\n",
            " [-0.2393617 ]\n",
            " [-0.35886525]\n",
            " [-0.45744681]\n",
            " [-0.45153664]\n",
            " [-0.40425532]\n",
            " [-0.24468085]\n",
            " [ 0.10638298]\n",
            " [-0.15744681]\n",
            " [ 0.16530278]\n",
            " [ 0.16312057]\n",
            " [ 0.04964539]\n",
            " [ 0.19148936]\n",
            " [ 0.38297872]\n",
            " [ 0.44680851]\n",
            " [ 0.5248227 ]\n",
            " [ 0.31914894]\n",
            " [ 0.54042553]\n",
            " [ 0.57446809]\n",
            " [ 0.60756501]\n",
            " [ 0.70212766]\n",
            " [ 0.556231  ]\n",
            " [ 0.67021277]\n",
            " [ 0.73404255]\n",
            " [ 0.59574468]\n",
            " [ 0.65957447]\n",
            " [ 0.6964539 ]\n",
            " [ 0.55155483]\n",
            " [ 0.72104019]\n",
            " [ 0.36170213]\n",
            " [ 0.24468085]\n",
            " [ 0.37234043]\n",
            " [ 0.43465046]\n",
            " [ 0.55319149]\n",
            " [ 0.55319149]\n",
            " [ 0.58865248]\n",
            " [ 0.65957447]\n",
            " [ 0.72104019]\n",
            " [ 0.70212766]\n",
            " [ 0.83451537]\n",
            " [ 0.95744681]\n",
            " [ 0.91489362]\n",
            " [ 1.        ]\n",
            " [ 0.9787234 ]\n",
            " [ 0.86382979]\n",
            " [ 0.86170213]\n",
            " [ 0.78723404]]\n",
            "(114, 1)\n"
          ],
          "name": "stdout"
        }
      ]
    },
    {
      "cell_type": "code",
      "metadata": {
        "id": "yBuk62ujtHCK",
        "outputId": "42383a29-f859-46f1-84eb-0be704057ffe",
        "colab": {
          "base_uri": "https://localhost:8080/",
          "height": 50
        }
      },
      "source": [
        "steps=30\n",
        "X_test=[]\n",
        "Y_test=[]\n",
        "for i in range(len(test_data_temp)-steps):\n",
        "  X_test.append(test_data_temp[i:i+steps])\n",
        "  Y_test.append(test_data_temp[i+steps])\n",
        "X_test=np.array(X_test)\n",
        "Y_test=np.array(Y_test)\n",
        "\n",
        "print(X_test.shape)\n",
        "print(Y_test.shape)"
      ],
      "execution_count": 54,
      "outputs": [
        {
          "output_type": "stream",
          "text": [
            "(84, 30, 1)\n",
            "(84, 1)\n"
          ],
          "name": "stdout"
        }
      ]
    },
    {
      "cell_type": "code",
      "metadata": {
        "id": "PmZ971wfttR_",
        "outputId": "32acaeb8-064c-40a4-c3d5-41972b9e43bc",
        "colab": {
          "base_uri": "https://localhost:8080/",
          "height": 50
        }
      },
      "source": [
        "X_test=np.array(X_test)\n",
        "Y_test=np.array(Y_test)\n",
        "\n",
        "print(X_test.shape)\n",
        "print(Y_test.shape)"
      ],
      "execution_count": 55,
      "outputs": [
        {
          "output_type": "stream",
          "text": [
            "(84, 30, 1)\n",
            "(84, 1)\n"
          ],
          "name": "stdout"
        }
      ]
    },
    {
      "cell_type": "code",
      "metadata": {
        "id": "e1E8ghDcuJNL"
      },
      "source": [
        "preds=model1.predict(X_test)"
      ],
      "execution_count": 56,
      "outputs": []
    },
    {
      "cell_type": "code",
      "metadata": {
        "id": "peYBYwIRuk8m"
      },
      "source": [
        "preds=scaler.inverse_transform(preds)"
      ],
      "execution_count": 57,
      "outputs": []
    },
    {
      "cell_type": "code",
      "metadata": {
        "id": "Nmnf43pQurOX",
        "outputId": "b70f46f5-4b79-4340-e483-7215876c6d77",
        "colab": {
          "base_uri": "https://localhost:8080/",
          "height": 1000
        }
      },
      "source": [
        "preds"
      ],
      "execution_count": 58,
      "outputs": [
        {
          "output_type": "execute_result",
          "data": {
            "text/plain": [
              "array([[16.5468  ],\n",
              "       [17.149555],\n",
              "       [16.645927],\n",
              "       [17.436497],\n",
              "       [15.739906],\n",
              "       [16.204636],\n",
              "       [18.892931],\n",
              "       [16.577702],\n",
              "       [16.964073],\n",
              "       [15.891701],\n",
              "       [16.815353],\n",
              "       [16.3698  ],\n",
              "       [17.825586],\n",
              "       [17.033907],\n",
              "       [17.204517],\n",
              "       [17.824074],\n",
              "       [18.583744],\n",
              "       [18.207615],\n",
              "       [19.04844 ],\n",
              "       [19.917786],\n",
              "       [21.509396],\n",
              "       [21.611456],\n",
              "       [19.762861],\n",
              "       [18.384346],\n",
              "       [17.629728],\n",
              "       [19.527636],\n",
              "       [20.172989],\n",
              "       [19.60433 ],\n",
              "       [20.018713],\n",
              "       [20.525263],\n",
              "       [23.165108],\n",
              "       [23.193037],\n",
              "       [21.479528],\n",
              "       [20.636497],\n",
              "       [20.57512 ],\n",
              "       [21.603283],\n",
              "       [23.749954],\n",
              "       [22.472183],\n",
              "       [22.520998],\n",
              "       [21.12835 ],\n",
              "       [21.207203],\n",
              "       [18.112328],\n",
              "       [18.325731],\n",
              "       [19.821564],\n",
              "       [19.118061],\n",
              "       [19.73368 ],\n",
              "       [18.440342],\n",
              "       [21.828085],\n",
              "       [21.758833],\n",
              "       [22.017479],\n",
              "       [22.46705 ],\n",
              "       [24.7768  ],\n",
              "       [24.45926 ],\n",
              "       [26.611395],\n",
              "       [23.953032],\n",
              "       [26.961561],\n",
              "       [29.06233 ],\n",
              "       [28.691286],\n",
              "       [30.18179 ],\n",
              "       [27.807558],\n",
              "       [29.58415 ],\n",
              "       [30.487953],\n",
              "       [28.58114 ],\n",
              "       [27.056532],\n",
              "       [29.074797],\n",
              "       [26.53866 ],\n",
              "       [26.365839],\n",
              "       [26.428272],\n",
              "       [25.212404],\n",
              "       [28.256578],\n",
              "       [29.89067 ],\n",
              "       [30.287405],\n",
              "       [29.855028],\n",
              "       [31.428846],\n",
              "       [30.875776],\n",
              "       [29.462254],\n",
              "       [30.72907 ],\n",
              "       [32.831524],\n",
              "       [31.891634],\n",
              "       [32.670853],\n",
              "       [31.800283],\n",
              "       [33.056942],\n",
              "       [32.671486],\n",
              "       [31.657839]], dtype=float32)"
            ]
          },
          "metadata": {
            "tags": []
          },
          "execution_count": 58
        }
      ]
    },
    {
      "cell_type": "code",
      "metadata": {
        "id": "AYDJBZSyusO4"
      },
      "source": [
        "Y_test_inv=scaler.inverse_transform(Y_test)"
      ],
      "execution_count": 59,
      "outputs": []
    },
    {
      "cell_type": "code",
      "metadata": {
        "id": "MUm1WxOPu5dY",
        "outputId": "dac96139-b4dd-418a-d579-f72bfef92833",
        "colab": {
          "base_uri": "https://localhost:8080/",
          "height": 537
        }
      },
      "source": [
        "plt.figure(figsize=(20,9))\n",
        "plt.plot(Y_test_inv,'blue',linewidth=5)\n",
        "plt.plot(preds,'r',linewidth=4)\n",
        "plt.legend(('Test','Predicted'))\n",
        "plt.show()"
      ],
      "execution_count": 60,
      "outputs": [
        {
          "output_type": "display_data",
          "data": {
            "image/png": "[encoded data removed]",
            "text/plain": [
              "<Figure size 1440x648 with 1 Axes>"
            ]
          },
          "metadata": {
            "tags": [],
            "needs_background": "light"
          }
        }
      ]
    },
    {
      "cell_type": "code",
      "metadata": {
        "id": "ndVzAAl4u85T",
        "outputId": "40a2a399-0768-4303-8815-d64da36b776f",
        "colab": {
          "base_uri": "https://localhost:8080/",
          "height": 34
        }
      },
      "source": [
        "mse=mean_squared_error(Y_test_inv,preds)\n",
        "mae=mean_absolute_error(Y_test_inv,preds)\n",
        "print(f'{mse} {mae}')"
      ],
      "execution_count": 61,
      "outputs": [
        {
          "output_type": "stream",
          "text": [
            "4.798618353708427 1.7167213752096082\n"
          ],
          "name": "stdout"
        }
      ]
    },
    {
      "cell_type": "code",
      "metadata": {
        "id": "ZZlLIxkSvCDT"
      },
      "source": [
        ""
      ],
      "execution_count": null,
      "outputs": []
    }
  ]
}