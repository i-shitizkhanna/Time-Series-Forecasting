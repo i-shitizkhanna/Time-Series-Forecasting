{
 "cells": [
  {
   "cell_type": "code",
   "execution_count": 16,
   "metadata": {},
   "outputs": [],
   "source": [
    "from tensorflow.keras import models\n",
    "import pandas as pd\n",
    "import numpy as np"
   ]
  },
  {
   "cell_type": "code",
   "execution_count": 17,
   "metadata": {},
   "outputs": [
    {
     "data": {
      "text/html": [
       "<div>\n",
       "<style scoped>\n",
       "    .dataframe tbody tr th:only-of-type {\n",
       "        vertical-align: middle;\n",
       "    }\n",
       "\n",
       "    .dataframe tbody tr th {\n",
       "        vertical-align: top;\n",
       "    }\n",
       "\n",
       "    .dataframe thead th {\n",
       "        text-align: right;\n",
       "    }\n",
       "</style>\n",
       "<table border=\"1\" class=\"dataframe\">\n",
       "  <thead>\n",
       "    <tr style=\"text-align: right;\">\n",
       "      <th></th>\n",
       "      <th>date</th>\n",
       "      <th>meantemp</th>\n",
       "      <th>humidity</th>\n",
       "      <th>wind_speed</th>\n",
       "      <th>meanpressure</th>\n",
       "    </tr>\n",
       "  </thead>\n",
       "  <tbody>\n",
       "    <tr>\n",
       "      <td>0</td>\n",
       "      <td>2017-01-01</td>\n",
       "      <td>15.913043</td>\n",
       "      <td>85.869565</td>\n",
       "      <td>2.743478</td>\n",
       "      <td>59.000000</td>\n",
       "    </tr>\n",
       "    <tr>\n",
       "      <td>1</td>\n",
       "      <td>2017-01-02</td>\n",
       "      <td>18.500000</td>\n",
       "      <td>77.222222</td>\n",
       "      <td>2.894444</td>\n",
       "      <td>1018.277778</td>\n",
       "    </tr>\n",
       "    <tr>\n",
       "      <td>2</td>\n",
       "      <td>2017-01-03</td>\n",
       "      <td>17.111111</td>\n",
       "      <td>81.888889</td>\n",
       "      <td>4.016667</td>\n",
       "      <td>1018.333333</td>\n",
       "    </tr>\n",
       "    <tr>\n",
       "      <td>3</td>\n",
       "      <td>2017-01-04</td>\n",
       "      <td>18.700000</td>\n",
       "      <td>70.050000</td>\n",
       "      <td>4.545000</td>\n",
       "      <td>1015.700000</td>\n",
       "    </tr>\n",
       "    <tr>\n",
       "      <td>4</td>\n",
       "      <td>2017-01-05</td>\n",
       "      <td>18.388889</td>\n",
       "      <td>74.944444</td>\n",
       "      <td>3.300000</td>\n",
       "      <td>1014.333333</td>\n",
       "    </tr>\n",
       "    <tr>\n",
       "      <td>...</td>\n",
       "      <td>...</td>\n",
       "      <td>...</td>\n",
       "      <td>...</td>\n",
       "      <td>...</td>\n",
       "      <td>...</td>\n",
       "    </tr>\n",
       "    <tr>\n",
       "      <td>109</td>\n",
       "      <td>2017-04-20</td>\n",
       "      <td>34.500000</td>\n",
       "      <td>27.500000</td>\n",
       "      <td>5.562500</td>\n",
       "      <td>998.625000</td>\n",
       "    </tr>\n",
       "    <tr>\n",
       "      <td>110</td>\n",
       "      <td>2017-04-21</td>\n",
       "      <td>34.250000</td>\n",
       "      <td>39.375000</td>\n",
       "      <td>6.962500</td>\n",
       "      <td>999.875000</td>\n",
       "    </tr>\n",
       "    <tr>\n",
       "      <td>111</td>\n",
       "      <td>2017-04-22</td>\n",
       "      <td>32.900000</td>\n",
       "      <td>40.900000</td>\n",
       "      <td>8.890000</td>\n",
       "      <td>1001.600000</td>\n",
       "    </tr>\n",
       "    <tr>\n",
       "      <td>112</td>\n",
       "      <td>2017-04-23</td>\n",
       "      <td>32.875000</td>\n",
       "      <td>27.500000</td>\n",
       "      <td>9.962500</td>\n",
       "      <td>1002.125000</td>\n",
       "    </tr>\n",
       "    <tr>\n",
       "      <td>113</td>\n",
       "      <td>2017-04-24</td>\n",
       "      <td>32.000000</td>\n",
       "      <td>27.142857</td>\n",
       "      <td>12.157143</td>\n",
       "      <td>1004.142857</td>\n",
       "    </tr>\n",
       "  </tbody>\n",
       "</table>\n",
       "<p>114 rows × 5 columns</p>\n",
       "</div>"
      ],
      "text/plain": [
       "           date   meantemp   humidity  wind_speed  meanpressure\n",
       "0    2017-01-01  15.913043  85.869565    2.743478     59.000000\n",
       "1    2017-01-02  18.500000  77.222222    2.894444   1018.277778\n",
       "2    2017-01-03  17.111111  81.888889    4.016667   1018.333333\n",
       "3    2017-01-04  18.700000  70.050000    4.545000   1015.700000\n",
       "4    2017-01-05  18.388889  74.944444    3.300000   1014.333333\n",
       "..          ...        ...        ...         ...           ...\n",
       "109  2017-04-20  34.500000  27.500000    5.562500    998.625000\n",
       "110  2017-04-21  34.250000  39.375000    6.962500    999.875000\n",
       "111  2017-04-22  32.900000  40.900000    8.890000   1001.600000\n",
       "112  2017-04-23  32.875000  27.500000    9.962500   1002.125000\n",
       "113  2017-04-24  32.000000  27.142857   12.157143   1004.142857\n",
       "\n",
       "[114 rows x 5 columns]"
      ]
     },
     "execution_count": 17,
     "metadata": {},
     "output_type": "execute_result"
    }
   ],
   "source": [
    "test=pd.read_csv(\"archive/DailyDelhiClimateTest.csv\")\n",
    "test"
   ]
  },
  {
   "cell_type": "code",
   "execution_count": 18,
   "metadata": {},
   "outputs": [
    {
     "data": {
      "text/html": [
       "<div>\n",
       "<style scoped>\n",
       "    .dataframe tbody tr th:only-of-type {\n",
       "        vertical-align: middle;\n",
       "    }\n",
       "\n",
       "    .dataframe tbody tr th {\n",
       "        vertical-align: top;\n",
       "    }\n",
       "\n",
       "    .dataframe thead th {\n",
       "        text-align: right;\n",
       "    }\n",
       "</style>\n",
       "<table border=\"1\" class=\"dataframe\">\n",
       "  <thead>\n",
       "    <tr style=\"text-align: right;\">\n",
       "      <th></th>\n",
       "      <th>temp</th>\n",
       "    </tr>\n",
       "  </thead>\n",
       "  <tbody>\n",
       "    <tr>\n",
       "      <td>0</td>\n",
       "      <td>15.913043</td>\n",
       "    </tr>\n",
       "    <tr>\n",
       "      <td>1</td>\n",
       "      <td>18.500000</td>\n",
       "    </tr>\n",
       "    <tr>\n",
       "      <td>2</td>\n",
       "      <td>17.111111</td>\n",
       "    </tr>\n",
       "    <tr>\n",
       "      <td>3</td>\n",
       "      <td>18.700000</td>\n",
       "    </tr>\n",
       "    <tr>\n",
       "      <td>4</td>\n",
       "      <td>18.388889</td>\n",
       "    </tr>\n",
       "    <tr>\n",
       "      <td>...</td>\n",
       "      <td>...</td>\n",
       "    </tr>\n",
       "    <tr>\n",
       "      <td>109</td>\n",
       "      <td>34.500000</td>\n",
       "    </tr>\n",
       "    <tr>\n",
       "      <td>110</td>\n",
       "      <td>34.250000</td>\n",
       "    </tr>\n",
       "    <tr>\n",
       "      <td>111</td>\n",
       "      <td>32.900000</td>\n",
       "    </tr>\n",
       "    <tr>\n",
       "      <td>112</td>\n",
       "      <td>32.875000</td>\n",
       "    </tr>\n",
       "    <tr>\n",
       "      <td>113</td>\n",
       "      <td>32.000000</td>\n",
       "    </tr>\n",
       "  </tbody>\n",
       "</table>\n",
       "<p>114 rows × 1 columns</p>\n",
       "</div>"
      ],
      "text/plain": [
       "          temp\n",
       "0    15.913043\n",
       "1    18.500000\n",
       "2    17.111111\n",
       "3    18.700000\n",
       "4    18.388889\n",
       "..         ...\n",
       "109  34.500000\n",
       "110  34.250000\n",
       "111  32.900000\n",
       "112  32.875000\n",
       "113  32.000000\n",
       "\n",
       "[114 rows x 1 columns]"
      ]
     },
     "execution_count": 18,
     "metadata": {},
     "output_type": "execute_result"
    }
   ],
   "source": [
    "timeseries_test=test.copy()\n",
    "timeseries_test[\"date\"].dtype\n",
    "timeseries_test[\"date\"]=pd.to_datetime(timeseries_test[\"date\"])\n",
    "timeseries_test.set_index(\"date\",inplace=True)\n",
    "timeseries_test\n",
    "\n",
    "test_data_temp=pd.DataFrame(list(timeseries_test[\"meantemp\"]),columns=[\"temp\"])\n",
    "test_data_temp"
   ]
  },
  {
   "cell_type": "code",
   "execution_count": 19,
   "metadata": {},
   "outputs": [],
   "source": [
    "from sklearn.preprocessing import LabelEncoder, MinMaxScaler\n",
    "scaler=MinMaxScaler(feature_range=(-1,1))\n",
    "test_data_temp=scaler.fit_transform(test_data_temp)"
   ]
  },
  {
   "cell_type": "code",
   "execution_count": 20,
   "metadata": {},
   "outputs": [
    {
     "name": "stdout",
     "output_type": "stream",
     "text": [
      "(84, 30, 1)\n",
      "(84, 1)\n"
     ]
    }
   ],
   "source": [
    "steps=30\n",
    "X_test=[]\n",
    "Y_test=[]\n",
    "for i in range(len(test_data_temp)-steps):\n",
    "  X_test.append(test_data_temp[i:i+steps])\n",
    "  Y_test.append(test_data_temp[i+steps])\n",
    "X_test=np.array(X_test)\n",
    "Y_test=np.array(Y_test)\n",
    "\n",
    "print(X_test.shape)\n",
    "print(Y_test.shape)"
   ]
  },
  {
   "cell_type": "code",
   "execution_count": 21,
   "metadata": {},
   "outputs": [
    {
     "name": "stdout",
     "output_type": "stream",
     "text": [
      "(84, 30, 1)\n",
      "(84, 1)\n"
     ]
    }
   ],
   "source": [
    "X_test=np.array(X_test)\n",
    "Y_test=np.array(Y_test)\n",
    "\n",
    "print(X_test.shape)\n",
    "print(Y_test.shape)"
   ]
  },
  {
   "cell_type": "code",
   "execution_count": 22,
   "metadata": {},
   "outputs": [
    {
     "data": {
      "text/plain": [
       "array([[15.844476],\n",
       "       [17.426918],\n",
       "       [15.684319],\n",
       "       [18.85582 ],\n",
       "       [16.433516],\n",
       "       [17.368801],\n",
       "       [18.129118],\n",
       "       [17.176817],\n",
       "       [17.53605 ],\n",
       "       [16.254051],\n",
       "       [17.641363],\n",
       "       [15.746851],\n",
       "       [16.72616 ],\n",
       "       [18.378496],\n",
       "       [14.739553],\n",
       "       [17.023012],\n",
       "       [18.917147],\n",
       "       [17.70099 ],\n",
       "       [18.724276],\n",
       "       [20.13464 ],\n",
       "       [21.087048],\n",
       "       [21.29683 ],\n",
       "       [19.782133],\n",
       "       [18.179628],\n",
       "       [18.030748],\n",
       "       [19.774374],\n",
       "       [19.864506],\n",
       "       [19.583826],\n",
       "       [19.329647],\n",
       "       [19.821884],\n",
       "       [22.993273],\n",
       "       [22.66152 ],\n",
       "       [21.3107  ],\n",
       "       [19.99925 ],\n",
       "       [19.621098],\n",
       "       [22.262596],\n",
       "       [23.211931],\n",
       "       [21.851515],\n",
       "       [21.388378],\n",
       "       [19.996529],\n",
       "       [20.795033],\n",
       "       [18.413002],\n",
       "       [19.339134],\n",
       "       [18.690279],\n",
       "       [19.399973],\n",
       "       [25.297325],\n",
       "       [19.92833 ],\n",
       "       [22.507717],\n",
       "       [24.438696],\n",
       "       [23.810766],\n",
       "       [24.845623],\n",
       "       [25.720165],\n",
       "       [26.298698],\n",
       "       [26.96508 ],\n",
       "       [24.369322],\n",
       "       [26.428104],\n",
       "       [28.289608],\n",
       "       [29.206585],\n",
       "       [29.012924],\n",
       "       [26.858212],\n",
       "       [28.309792],\n",
       "       [29.153584],\n",
       "       [29.155947],\n",
       "       [25.19122 ],\n",
       "       [27.872358],\n",
       "       [27.438562],\n",
       "       [27.267815],\n",
       "       [26.602222],\n",
       "       [25.681725],\n",
       "       [27.475176],\n",
       "       [28.774382],\n",
       "       [30.261675],\n",
       "       [28.094654],\n",
       "       [27.46057 ],\n",
       "       [30.395596],\n",
       "       [30.156708],\n",
       "       [29.228865],\n",
       "       [31.320976],\n",
       "       [31.972271],\n",
       "       [31.93644 ],\n",
       "       [31.613014],\n",
       "       [32.70843 ],\n",
       "       [32.624947],\n",
       "       [32.129807]], dtype=float32)"
      ]
     },
     "execution_count": 22,
     "metadata": {},
     "output_type": "execute_result"
    }
   ],
   "source": [
    "model2=models.load_model(\"Models/model1_ts.h5\")\n",
    "\n",
    "temp_ts=model2.predict(X_test)\n",
    "temp_ts=scaler.inverse_transform(temp_ts)\n",
    "temp_ts"
   ]
  },
  {
   "cell_type": "code",
   "execution_count": 23,
   "metadata": {},
   "outputs": [],
   "source": [
    "Y_test_inv=scaler.inverse_transform(Y_test)\n"
   ]
  },
  {
   "cell_type": "code",
   "execution_count": 28,
   "metadata": {},
   "outputs": [
    {
     "data": {
      "image/png": "[encoded data removed]",
      "text/plain": [
       "<Figure size 1440x648 with 1 Axes>"
      ]
     },
     "metadata": {
      "needs_background": "light"
     },
     "output_type": "display_data"
    }
   ],
   "source": [
    "import matplotlib.pyplot as plt\n",
    "scale_factor=0.5\n",
    "plt.figure(figsize=(20,9))\n",
    "plt.plot(Y_test_inv , 'red')\n",
    "plt.plot(temp_ts,'blue')\n",
    "ymin,ymax=plt.ylim()\n",
    "plt.ylim(ymin * scale_factor, ymax)\n",
    "plt.xlabel(\"Time\", fontsize=20)\n",
    "plt.ylabel(\"Temperature (C)\", fontsize=20)\n",
    "plt.legend(('Test','Predicted'))\n",
    "plt.show()\n"
   ]
  },
  {
   "cell_type": "code",
   "execution_count": 30,
   "metadata": {},
   "outputs": [],
   "source": [
    "from sklearn.metrics import mean_squared_error, mean_absolute_error,accuracy_score\n",
    "from sklearn import metrics"
   ]
  },
  {
   "cell_type": "code",
   "execution_count": 31,
   "metadata": {},
   "outputs": [
    {
     "name": "stdout",
     "output_type": "stream",
     "text": [
      "4.898487285734868 1.788480047162633 0.8589278379311879\n"
     ]
    }
   ],
   "source": [
    "mse=mean_squared_error(Y_test_inv,temp_ts)\n",
    "mae=mean_absolute_error(Y_test_inv,temp_ts)\n",
    "print(f'{mse} {mae} {metrics.r2_score(Y_test_inv,temp_ts)}')"
   ]
  },
  {
   "cell_type": "code",
   "execution_count": 13,
   "metadata": {},
   "outputs": [],
   "source": [
    "??mean_squared_error"
   ]
  },
  {
   "cell_type": "code",
   "execution_count": null,
   "metadata": {},
   "outputs": [],
   "source": []
  }
 ],
 "metadata": {
  "kernelspec": {
   "display_name": "Python 3",
   "language": "python",
   "name": "python3"
  },
  "language_info": {
   "codemirror_mode": {
    "name": "ipython",
    "version": 3
   },
   "file_extension": ".py",
   "mimetype": "text/x-python",
   "name": "python",
   "nbconvert_exporter": "python",
   "pygments_lexer": "ipython3",
   "version": "3.7.4"
  }
 },
 "nbformat": 4,
 "nbformat_minor": 2
}
