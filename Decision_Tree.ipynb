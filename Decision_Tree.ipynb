{
  "nbformat": 4,
  "nbformat_minor": 0,
  "metadata": {
    "colab": {
      "name": "Logistic Classfier.ipynb",
      "provenance": []
    },
    "kernelspec": {
      "display_name": "Python 3",
      "language": "python",
      "name": "python3"
    },
    "language_info": {
      "codemirror_mode": {
        "name": "ipython",
        "version": 3
      },
      "file_extension": ".py",
      "mimetype": "text/x-python",
      "name": "python",
      "nbconvert_exporter": "python",
      "pygments_lexer": "ipython3",
      "version": "3.7.6"
    }
  },
  "cells": [
    {
      "cell_type": "code",
      "metadata": {
        "id": "Gn3xhktiiW7H"
      },
      "source": [
        "import numpy as np\n",
        "# import tensorflow as tf\n",
        "import pandas as pd\n",
        "import matplotlib.pyplot as plt"
      ],
      "execution_count": 72,
      "outputs": []
    },
    {
      "cell_type": "code",
      "metadata": {
        "id": "A_tBnhqiiW7M"
      },
      "source": [
        "from numpy.random import seed\n",
        "seed(1)"
      ],
      "execution_count": 73,
      "outputs": []
    },
    {
      "cell_type": "code",
      "metadata": {
        "colab": {
          "base_uri": "https://localhost:8080/",
          "height": 590
        },
        "id": "V9InERQNiW7P",
        "outputId": "ba81411a-ccba-4f23-8837-45422ca49a06"
      },
      "source": [
        "dataset=pd.read_csv(\"Data/testset.csv\")\n",
        "dataset"
      ],
      "execution_count": 74,
      "outputs": [
        {
          "output_type": "execute_result",
          "data": {
            "text/html": [
              "<div>\n",
              "<style scoped>\n",
              "    .dataframe tbody tr th:only-of-type {\n",
              "        vertical-align: middle;\n",
              "    }\n",
              "\n",
              "    .dataframe tbody tr th {\n",
              "        vertical-align: top;\n",
              "    }\n",
              "\n",
              "    .dataframe thead th {\n",
              "        text-align: right;\n",
              "    }\n",
              "</style>\n",
              "<table border=\"1\" class=\"dataframe\">\n",
              "  <thead>\n",
              "    <tr style=\"text-align: right;\">\n",
              "      <th></th>\n",
              "      <th>datetime_utc</th>\n",
              "      <th>_conds</th>\n",
              "      <th>_dewptm</th>\n",
              "      <th>_fog</th>\n",
              "      <th>_hail</th>\n",
              "      <th>_heatindexm</th>\n",
              "      <th>_hum</th>\n",
              "      <th>_precipm</th>\n",
              "      <th>_pressurem</th>\n",
              "      <th>_rain</th>\n",
              "      <th>_snow</th>\n",
              "      <th>_tempm</th>\n",
              "      <th>_thunder</th>\n",
              "      <th>_tornado</th>\n",
              "      <th>_vism</th>\n",
              "      <th>_wdird</th>\n",
              "      <th>_wdire</th>\n",
              "      <th>_wgustm</th>\n",
              "      <th>_windchillm</th>\n",
              "      <th>_wspdm</th>\n",
              "    </tr>\n",
              "  </thead>\n",
              "  <tbody>\n",
              "    <tr>\n",
              "      <th>0</th>\n",
              "      <td>19961101-11:00</td>\n",
              "      <td>Smoke</td>\n",
              "      <td>9.0</td>\n",
              "      <td>0</td>\n",
              "      <td>0</td>\n",
              "      <td>NaN</td>\n",
              "      <td>27.0</td>\n",
              "      <td>NaN</td>\n",
              "      <td>1010.0</td>\n",
              "      <td>0</td>\n",
              "      <td>0</td>\n",
              "      <td>30.0</td>\n",
              "      <td>0</td>\n",
              "      <td>0</td>\n",
              "      <td>5.00</td>\n",
              "      <td>280.0</td>\n",
              "      <td>West</td>\n",
              "      <td>NaN</td>\n",
              "      <td>NaN</td>\n",
              "      <td>7.4</td>\n",
              "    </tr>\n",
              "    <tr>\n",
              "      <th>1</th>\n",
              "      <td>19961101-12:00</td>\n",
              "      <td>Smoke</td>\n",
              "      <td>10.0</td>\n",
              "      <td>0</td>\n",
              "      <td>0</td>\n",
              "      <td>NaN</td>\n",
              "      <td>32.0</td>\n",
              "      <td>NaN</td>\n",
              "      <td>-9999.0</td>\n",
              "      <td>0</td>\n",
              "      <td>0</td>\n",
              "      <td>28.0</td>\n",
              "      <td>0</td>\n",
              "      <td>0</td>\n",
              "      <td>NaN</td>\n",
              "      <td>0.0</td>\n",
              "      <td>North</td>\n",
              "      <td>NaN</td>\n",
              "      <td>NaN</td>\n",
              "      <td>NaN</td>\n",
              "    </tr>\n",
              "    <tr>\n",
              "      <th>2</th>\n",
              "      <td>19961101-13:00</td>\n",
              "      <td>Smoke</td>\n",
              "      <td>11.0</td>\n",
              "      <td>0</td>\n",
              "      <td>0</td>\n",
              "      <td>NaN</td>\n",
              "      <td>44.0</td>\n",
              "      <td>NaN</td>\n",
              "      <td>-9999.0</td>\n",
              "      <td>0</td>\n",
              "      <td>0</td>\n",
              "      <td>24.0</td>\n",
              "      <td>0</td>\n",
              "      <td>0</td>\n",
              "      <td>NaN</td>\n",
              "      <td>0.0</td>\n",
              "      <td>North</td>\n",
              "      <td>NaN</td>\n",
              "      <td>NaN</td>\n",
              "      <td>NaN</td>\n",
              "    </tr>\n",
              "    <tr>\n",
              "      <th>3</th>\n",
              "      <td>19961101-14:00</td>\n",
              "      <td>Smoke</td>\n",
              "      <td>10.0</td>\n",
              "      <td>0</td>\n",
              "      <td>0</td>\n",
              "      <td>NaN</td>\n",
              "      <td>41.0</td>\n",
              "      <td>NaN</td>\n",
              "      <td>1010.0</td>\n",
              "      <td>0</td>\n",
              "      <td>0</td>\n",
              "      <td>24.0</td>\n",
              "      <td>0</td>\n",
              "      <td>0</td>\n",
              "      <td>2.00</td>\n",
              "      <td>0.0</td>\n",
              "      <td>North</td>\n",
              "      <td>NaN</td>\n",
              "      <td>NaN</td>\n",
              "      <td>NaN</td>\n",
              "    </tr>\n",
              "    <tr>\n",
              "      <th>4</th>\n",
              "      <td>19961101-16:00</td>\n",
              "      <td>Smoke</td>\n",
              "      <td>11.0</td>\n",
              "      <td>0</td>\n",
              "      <td>0</td>\n",
              "      <td>NaN</td>\n",
              "      <td>47.0</td>\n",
              "      <td>NaN</td>\n",
              "      <td>1011.0</td>\n",
              "      <td>0</td>\n",
              "      <td>0</td>\n",
              "      <td>23.0</td>\n",
              "      <td>0</td>\n",
              "      <td>0</td>\n",
              "      <td>1.20</td>\n",
              "      <td>0.0</td>\n",
              "      <td>North</td>\n",
              "      <td>NaN</td>\n",
              "      <td>NaN</td>\n",
              "      <td>0.0</td>\n",
              "    </tr>\n",
              "    <tr>\n",
              "      <th>...</th>\n",
              "      <td>...</td>\n",
              "      <td>...</td>\n",
              "      <td>...</td>\n",
              "      <td>...</td>\n",
              "      <td>...</td>\n",
              "      <td>...</td>\n",
              "      <td>...</td>\n",
              "      <td>...</td>\n",
              "      <td>...</td>\n",
              "      <td>...</td>\n",
              "      <td>...</td>\n",
              "      <td>...</td>\n",
              "      <td>...</td>\n",
              "      <td>...</td>\n",
              "      <td>...</td>\n",
              "      <td>...</td>\n",
              "      <td>...</td>\n",
              "      <td>...</td>\n",
              "      <td>...</td>\n",
              "      <td>...</td>\n",
              "    </tr>\n",
              "    <tr>\n",
              "      <th>99565</th>\n",
              "      <td>20161231-12:00</td>\n",
              "      <td>Partly Cloudy</td>\n",
              "      <td>15.0</td>\n",
              "      <td>0</td>\n",
              "      <td>0</td>\n",
              "      <td>NaN</td>\n",
              "      <td>77.0</td>\n",
              "      <td>NaN</td>\n",
              "      <td>1015.0</td>\n",
              "      <td>0</td>\n",
              "      <td>0</td>\n",
              "      <td>18.0</td>\n",
              "      <td>0</td>\n",
              "      <td>0</td>\n",
              "      <td>0.50</td>\n",
              "      <td>110.0</td>\n",
              "      <td>ESE</td>\n",
              "      <td>NaN</td>\n",
              "      <td>NaN</td>\n",
              "      <td>7.4</td>\n",
              "    </tr>\n",
              "    <tr>\n",
              "      <th>99566</th>\n",
              "      <td>20161231-13:00</td>\n",
              "      <td>Partly Cloudy</td>\n",
              "      <td>16.0</td>\n",
              "      <td>0</td>\n",
              "      <td>0</td>\n",
              "      <td>NaN</td>\n",
              "      <td>100.0</td>\n",
              "      <td>NaN</td>\n",
              "      <td>1014.0</td>\n",
              "      <td>0</td>\n",
              "      <td>0</td>\n",
              "      <td>16.0</td>\n",
              "      <td>0</td>\n",
              "      <td>0</td>\n",
              "      <td>0.80</td>\n",
              "      <td>90.0</td>\n",
              "      <td>East</td>\n",
              "      <td>NaN</td>\n",
              "      <td>NaN</td>\n",
              "      <td>3.7</td>\n",
              "    </tr>\n",
              "    <tr>\n",
              "      <th>99567</th>\n",
              "      <td>20161231-15:00</td>\n",
              "      <td>NaN</td>\n",
              "      <td>13.0</td>\n",
              "      <td>0</td>\n",
              "      <td>0</td>\n",
              "      <td>NaN</td>\n",
              "      <td>NaN</td>\n",
              "      <td>NaN</td>\n",
              "      <td>1016.0</td>\n",
              "      <td>0</td>\n",
              "      <td>0</td>\n",
              "      <td>NaN</td>\n",
              "      <td>0</td>\n",
              "      <td>0</td>\n",
              "      <td>0.05</td>\n",
              "      <td>10.0</td>\n",
              "      <td>North</td>\n",
              "      <td>NaN</td>\n",
              "      <td>NaN</td>\n",
              "      <td>59.3</td>\n",
              "    </tr>\n",
              "    <tr>\n",
              "      <th>99568</th>\n",
              "      <td>20161231-18:00</td>\n",
              "      <td>Patches of Fog</td>\n",
              "      <td>12.0</td>\n",
              "      <td>1</td>\n",
              "      <td>0</td>\n",
              "      <td>NaN</td>\n",
              "      <td>100.0</td>\n",
              "      <td>NaN</td>\n",
              "      <td>1016.0</td>\n",
              "      <td>0</td>\n",
              "      <td>0</td>\n",
              "      <td>12.0</td>\n",
              "      <td>0</td>\n",
              "      <td>0</td>\n",
              "      <td>0.50</td>\n",
              "      <td>NaN</td>\n",
              "      <td>NaN</td>\n",
              "      <td>NaN</td>\n",
              "      <td>NaN</td>\n",
              "      <td>0.0</td>\n",
              "    </tr>\n",
              "    <tr>\n",
              "      <th>99569</th>\n",
              "      <td>20161231-21:00</td>\n",
              "      <td>Patches of Fog</td>\n",
              "      <td>12.0</td>\n",
              "      <td>1</td>\n",
              "      <td>0</td>\n",
              "      <td>NaN</td>\n",
              "      <td>99.0</td>\n",
              "      <td>NaN</td>\n",
              "      <td>1016.0</td>\n",
              "      <td>0</td>\n",
              "      <td>0</td>\n",
              "      <td>12.0</td>\n",
              "      <td>0</td>\n",
              "      <td>0</td>\n",
              "      <td>0.50</td>\n",
              "      <td>NaN</td>\n",
              "      <td>NaN</td>\n",
              "      <td>NaN</td>\n",
              "      <td>NaN</td>\n",
              "      <td>0.0</td>\n",
              "    </tr>\n",
              "  </tbody>\n",
              "</table>\n",
              "<p>99570 rows × 20 columns</p>\n",
              "</div>"
            ],
            "text/plain": [
              "         datetime_utc          _conds  _dewptm  ...  _wgustm  _windchillm  _wspdm\n",
              "0      19961101-11:00           Smoke      9.0  ...      NaN          NaN     7.4\n",
              "1      19961101-12:00           Smoke     10.0  ...      NaN          NaN     NaN\n",
              "2      19961101-13:00           Smoke     11.0  ...      NaN          NaN     NaN\n",
              "3      19961101-14:00           Smoke     10.0  ...      NaN          NaN     NaN\n",
              "4      19961101-16:00           Smoke     11.0  ...      NaN          NaN     0.0\n",
              "...               ...             ...      ...  ...      ...          ...     ...\n",
              "99565  20161231-12:00   Partly Cloudy     15.0  ...      NaN          NaN     7.4\n",
              "99566  20161231-13:00   Partly Cloudy     16.0  ...      NaN          NaN     3.7\n",
              "99567  20161231-15:00             NaN     13.0  ...      NaN          NaN    59.3\n",
              "99568  20161231-18:00  Patches of Fog     12.0  ...      NaN          NaN     0.0\n",
              "99569  20161231-21:00  Patches of Fog     12.0  ...      NaN          NaN     0.0\n",
              "\n",
              "[99570 rows x 20 columns]"
            ]
          },
          "metadata": {
            "tags": []
          },
          "execution_count": 74
        }
      ]
    },
    {
      "cell_type": "code",
      "metadata": {
        "colab": {
          "base_uri": "https://localhost:8080/"
        },
        "id": "VfQ6g4GyiW7T",
        "outputId": "86139e8a-b7bc-4c3f-c4ad-bc92af3e5d96"
      },
      "source": [
        "dataset.columns=dataset.columns.str.replace(\"_\",\"\")\n",
        "dataset.columns=dataset.columns.str.replace(\" \",\"\")\n",
        "dataset.columns"
      ],
      "execution_count": 75,
      "outputs": [
        {
          "output_type": "execute_result",
          "data": {
            "text/plain": [
              "Index(['datetimeutc', 'conds', 'dewptm', 'fog', 'hail', 'heatindexm', 'hum',\n",
              "       'precipm', 'pressurem', 'rain', 'snow', 'tempm', 'thunder', 'tornado',\n",
              "       'vism', 'wdird', 'wdire', 'wgustm', 'windchillm', 'wspdm'],\n",
              "      dtype='object')"
            ]
          },
          "metadata": {
            "tags": []
          },
          "execution_count": 75
        }
      ]
    },
    {
      "cell_type": "code",
      "metadata": {
        "colab": {
          "base_uri": "https://localhost:8080/",
          "height": 402
        },
        "id": "HFfybCqIiW7W",
        "outputId": "075b2d68-72d7-49bf-8011-317de46715c4"
      },
      "source": [
        "dataset.drop(columns=[\"conds\",\"dewptm\",\"fog\",\"hail\",\"heatindexm\",\"precipm\",\"rain\",\"snow\",\"thunder\",\"tornado\",\"vism\",\"wdird\",\"wdire\",\"wgustm\",\"windchillm\"],inplace=True,axis=1)\n",
        "dataset"
      ],
      "execution_count": 76,
      "outputs": [
        {
          "output_type": "execute_result",
          "data": {
            "text/html": [
              "<div>\n",
              "<style scoped>\n",
              "    .dataframe tbody tr th:only-of-type {\n",
              "        vertical-align: middle;\n",
              "    }\n",
              "\n",
              "    .dataframe tbody tr th {\n",
              "        vertical-align: top;\n",
              "    }\n",
              "\n",
              "    .dataframe thead th {\n",
              "        text-align: right;\n",
              "    }\n",
              "</style>\n",
              "<table border=\"1\" class=\"dataframe\">\n",
              "  <thead>\n",
              "    <tr style=\"text-align: right;\">\n",
              "      <th></th>\n",
              "      <th>datetimeutc</th>\n",
              "      <th>hum</th>\n",
              "      <th>pressurem</th>\n",
              "      <th>tempm</th>\n",
              "      <th>wspdm</th>\n",
              "    </tr>\n",
              "  </thead>\n",
              "  <tbody>\n",
              "    <tr>\n",
              "      <th>0</th>\n",
              "      <td>19961101-11:00</td>\n",
              "      <td>27.0</td>\n",
              "      <td>1010.0</td>\n",
              "      <td>30.0</td>\n",
              "      <td>7.4</td>\n",
              "    </tr>\n",
              "    <tr>\n",
              "      <th>1</th>\n",
              "      <td>19961101-12:00</td>\n",
              "      <td>32.0</td>\n",
              "      <td>-9999.0</td>\n",
              "      <td>28.0</td>\n",
              "      <td>NaN</td>\n",
              "    </tr>\n",
              "    <tr>\n",
              "      <th>2</th>\n",
              "      <td>19961101-13:00</td>\n",
              "      <td>44.0</td>\n",
              "      <td>-9999.0</td>\n",
              "      <td>24.0</td>\n",
              "      <td>NaN</td>\n",
              "    </tr>\n",
              "    <tr>\n",
              "      <th>3</th>\n",
              "      <td>19961101-14:00</td>\n",
              "      <td>41.0</td>\n",
              "      <td>1010.0</td>\n",
              "      <td>24.0</td>\n",
              "      <td>NaN</td>\n",
              "    </tr>\n",
              "    <tr>\n",
              "      <th>4</th>\n",
              "      <td>19961101-16:00</td>\n",
              "      <td>47.0</td>\n",
              "      <td>1011.0</td>\n",
              "      <td>23.0</td>\n",
              "      <td>0.0</td>\n",
              "    </tr>\n",
              "    <tr>\n",
              "      <th>...</th>\n",
              "      <td>...</td>\n",
              "      <td>...</td>\n",
              "      <td>...</td>\n",
              "      <td>...</td>\n",
              "      <td>...</td>\n",
              "    </tr>\n",
              "    <tr>\n",
              "      <th>99565</th>\n",
              "      <td>20161231-12:00</td>\n",
              "      <td>77.0</td>\n",
              "      <td>1015.0</td>\n",
              "      <td>18.0</td>\n",
              "      <td>7.4</td>\n",
              "    </tr>\n",
              "    <tr>\n",
              "      <th>99566</th>\n",
              "      <td>20161231-13:00</td>\n",
              "      <td>100.0</td>\n",
              "      <td>1014.0</td>\n",
              "      <td>16.0</td>\n",
              "      <td>3.7</td>\n",
              "    </tr>\n",
              "    <tr>\n",
              "      <th>99567</th>\n",
              "      <td>20161231-15:00</td>\n",
              "      <td>NaN</td>\n",
              "      <td>1016.0</td>\n",
              "      <td>NaN</td>\n",
              "      <td>59.3</td>\n",
              "    </tr>\n",
              "    <tr>\n",
              "      <th>99568</th>\n",
              "      <td>20161231-18:00</td>\n",
              "      <td>100.0</td>\n",
              "      <td>1016.0</td>\n",
              "      <td>12.0</td>\n",
              "      <td>0.0</td>\n",
              "    </tr>\n",
              "    <tr>\n",
              "      <th>99569</th>\n",
              "      <td>20161231-21:00</td>\n",
              "      <td>99.0</td>\n",
              "      <td>1016.0</td>\n",
              "      <td>12.0</td>\n",
              "      <td>0.0</td>\n",
              "    </tr>\n",
              "  </tbody>\n",
              "</table>\n",
              "<p>99570 rows × 5 columns</p>\n",
              "</div>"
            ],
            "text/plain": [
              "          datetimeutc    hum  pressurem  tempm  wspdm\n",
              "0      19961101-11:00   27.0     1010.0   30.0    7.4\n",
              "1      19961101-12:00   32.0    -9999.0   28.0    NaN\n",
              "2      19961101-13:00   44.0    -9999.0   24.0    NaN\n",
              "3      19961101-14:00   41.0     1010.0   24.0    NaN\n",
              "4      19961101-16:00   47.0     1011.0   23.0    0.0\n",
              "...               ...    ...        ...    ...    ...\n",
              "99565  20161231-12:00   77.0     1015.0   18.0    7.4\n",
              "99566  20161231-13:00  100.0     1014.0   16.0    3.7\n",
              "99567  20161231-15:00    NaN     1016.0    NaN   59.3\n",
              "99568  20161231-18:00  100.0     1016.0   12.0    0.0\n",
              "99569  20161231-21:00   99.0     1016.0   12.0    0.0\n",
              "\n",
              "[99570 rows x 5 columns]"
            ]
          },
          "metadata": {
            "tags": []
          },
          "execution_count": 76
        }
      ]
    },
    {
      "cell_type": "code",
      "metadata": {
        "colab": {
          "base_uri": "https://localhost:8080/"
        },
        "id": "uuwKVMYgiW7a",
        "outputId": "693590d2-5a6d-47db-b805-f762451d800f"
      },
      "source": [
        "dataset['pressurem'].replace('-9999.0',np.nan)\n",
        "dataset.replace(0,np.nan)\n",
        "dataset.isnull().sum()"
      ],
      "execution_count": 77,
      "outputs": [
        {
          "output_type": "execute_result",
          "data": {
            "text/plain": [
              "datetimeutc       0\n",
              "hum             756\n",
              "pressurem       232\n",
              "tempm           672\n",
              "wspdm          2358\n",
              "dtype: int64"
            ]
          },
          "metadata": {
            "tags": []
          },
          "execution_count": 77
        }
      ]
    },
    {
      "cell_type": "code",
      "metadata": {
        "colab": {
          "base_uri": "https://localhost:8080/",
          "height": 402
        },
        "id": "gE4hP_fiiW7d",
        "outputId": "aa177d07-1142-4365-dc13-cd2cfb13880c"
      },
      "source": [
        "dataset"
      ],
      "execution_count": 78,
      "outputs": [
        {
          "output_type": "execute_result",
          "data": {
            "text/html": [
              "<div>\n",
              "<style scoped>\n",
              "    .dataframe tbody tr th:only-of-type {\n",
              "        vertical-align: middle;\n",
              "    }\n",
              "\n",
              "    .dataframe tbody tr th {\n",
              "        vertical-align: top;\n",
              "    }\n",
              "\n",
              "    .dataframe thead th {\n",
              "        text-align: right;\n",
              "    }\n",
              "</style>\n",
              "<table border=\"1\" class=\"dataframe\">\n",
              "  <thead>\n",
              "    <tr style=\"text-align: right;\">\n",
              "      <th></th>\n",
              "      <th>datetimeutc</th>\n",
              "      <th>hum</th>\n",
              "      <th>pressurem</th>\n",
              "      <th>tempm</th>\n",
              "      <th>wspdm</th>\n",
              "    </tr>\n",
              "  </thead>\n",
              "  <tbody>\n",
              "    <tr>\n",
              "      <th>0</th>\n",
              "      <td>19961101-11:00</td>\n",
              "      <td>27.0</td>\n",
              "      <td>1010.0</td>\n",
              "      <td>30.0</td>\n",
              "      <td>7.4</td>\n",
              "    </tr>\n",
              "    <tr>\n",
              "      <th>1</th>\n",
              "      <td>19961101-12:00</td>\n",
              "      <td>32.0</td>\n",
              "      <td>-9999.0</td>\n",
              "      <td>28.0</td>\n",
              "      <td>NaN</td>\n",
              "    </tr>\n",
              "    <tr>\n",
              "      <th>2</th>\n",
              "      <td>19961101-13:00</td>\n",
              "      <td>44.0</td>\n",
              "      <td>-9999.0</td>\n",
              "      <td>24.0</td>\n",
              "      <td>NaN</td>\n",
              "    </tr>\n",
              "    <tr>\n",
              "      <th>3</th>\n",
              "      <td>19961101-14:00</td>\n",
              "      <td>41.0</td>\n",
              "      <td>1010.0</td>\n",
              "      <td>24.0</td>\n",
              "      <td>NaN</td>\n",
              "    </tr>\n",
              "    <tr>\n",
              "      <th>4</th>\n",
              "      <td>19961101-16:00</td>\n",
              "      <td>47.0</td>\n",
              "      <td>1011.0</td>\n",
              "      <td>23.0</td>\n",
              "      <td>0.0</td>\n",
              "    </tr>\n",
              "    <tr>\n",
              "      <th>...</th>\n",
              "      <td>...</td>\n",
              "      <td>...</td>\n",
              "      <td>...</td>\n",
              "      <td>...</td>\n",
              "      <td>...</td>\n",
              "    </tr>\n",
              "    <tr>\n",
              "      <th>99565</th>\n",
              "      <td>20161231-12:00</td>\n",
              "      <td>77.0</td>\n",
              "      <td>1015.0</td>\n",
              "      <td>18.0</td>\n",
              "      <td>7.4</td>\n",
              "    </tr>\n",
              "    <tr>\n",
              "      <th>99566</th>\n",
              "      <td>20161231-13:00</td>\n",
              "      <td>100.0</td>\n",
              "      <td>1014.0</td>\n",
              "      <td>16.0</td>\n",
              "      <td>3.7</td>\n",
              "    </tr>\n",
              "    <tr>\n",
              "      <th>99567</th>\n",
              "      <td>20161231-15:00</td>\n",
              "      <td>NaN</td>\n",
              "      <td>1016.0</td>\n",
              "      <td>NaN</td>\n",
              "      <td>59.3</td>\n",
              "    </tr>\n",
              "    <tr>\n",
              "      <th>99568</th>\n",
              "      <td>20161231-18:00</td>\n",
              "      <td>100.0</td>\n",
              "      <td>1016.0</td>\n",
              "      <td>12.0</td>\n",
              "      <td>0.0</td>\n",
              "    </tr>\n",
              "    <tr>\n",
              "      <th>99569</th>\n",
              "      <td>20161231-21:00</td>\n",
              "      <td>99.0</td>\n",
              "      <td>1016.0</td>\n",
              "      <td>12.0</td>\n",
              "      <td>0.0</td>\n",
              "    </tr>\n",
              "  </tbody>\n",
              "</table>\n",
              "<p>99570 rows × 5 columns</p>\n",
              "</div>"
            ],
            "text/plain": [
              "          datetimeutc    hum  pressurem  tempm  wspdm\n",
              "0      19961101-11:00   27.0     1010.0   30.0    7.4\n",
              "1      19961101-12:00   32.0    -9999.0   28.0    NaN\n",
              "2      19961101-13:00   44.0    -9999.0   24.0    NaN\n",
              "3      19961101-14:00   41.0     1010.0   24.0    NaN\n",
              "4      19961101-16:00   47.0     1011.0   23.0    0.0\n",
              "...               ...    ...        ...    ...    ...\n",
              "99565  20161231-12:00   77.0     1015.0   18.0    7.4\n",
              "99566  20161231-13:00  100.0     1014.0   16.0    3.7\n",
              "99567  20161231-15:00    NaN     1016.0    NaN   59.3\n",
              "99568  20161231-18:00  100.0     1016.0   12.0    0.0\n",
              "99569  20161231-21:00   99.0     1016.0   12.0    0.0\n",
              "\n",
              "[99570 rows x 5 columns]"
            ]
          },
          "metadata": {
            "tags": []
          },
          "execution_count": 78
        }
      ]
    },
    {
      "cell_type": "code",
      "metadata": {
        "id": "GJatJxT_iW7g"
      },
      "source": [
        "hum_median=dataset[\"hum\"].median()\n",
        "dataset[\"hum\"].fillna(hum_median,inplace=True)\n",
        "pressurem_median=dataset[\"pressurem\"].median()\n",
        "dataset[\"pressurem\"].fillna(pressurem_median,inplace=True)\n",
        "wspdm_median=dataset[\"wspdm\"].median()\n",
        "dataset[\"wspdm\"].fillna(wspdm_median,inplace=True)\n",
        "tempm_median=dataset[\"tempm\"].median()\n",
        "dataset[\"tempm\"].fillna(tempm_median,inplace=True)"
      ],
      "execution_count": 79,
      "outputs": []
    },
    {
      "cell_type": "code",
      "metadata": {
        "colab": {
          "base_uri": "https://localhost:8080/"
        },
        "id": "l5_fkcj6iW7j",
        "outputId": "3b21aa04-9b04-4cf6-cb34-76567b3106c9"
      },
      "source": [
        "dataset.isnull().sum()"
      ],
      "execution_count": 80,
      "outputs": [
        {
          "output_type": "execute_result",
          "data": {
            "text/plain": [
              "datetimeutc    0\n",
              "hum            0\n",
              "pressurem      0\n",
              "tempm          0\n",
              "wspdm          0\n",
              "dtype: int64"
            ]
          },
          "metadata": {
            "tags": []
          },
          "execution_count": 80
        }
      ]
    },
    {
      "cell_type": "code",
      "metadata": {
        "colab": {
          "base_uri": "https://localhost:8080/",
          "height": 402
        },
        "id": "csKR4ycYiW7l",
        "outputId": "9c540034-c0f2-41cc-f251-2ac3272eb978"
      },
      "source": [
        "dataset"
      ],
      "execution_count": 81,
      "outputs": [
        {
          "output_type": "execute_result",
          "data": {
            "text/html": [
              "<div>\n",
              "<style scoped>\n",
              "    .dataframe tbody tr th:only-of-type {\n",
              "        vertical-align: middle;\n",
              "    }\n",
              "\n",
              "    .dataframe tbody tr th {\n",
              "        vertical-align: top;\n",
              "    }\n",
              "\n",
              "    .dataframe thead th {\n",
              "        text-align: right;\n",
              "    }\n",
              "</style>\n",
              "<table border=\"1\" class=\"dataframe\">\n",
              "  <thead>\n",
              "    <tr style=\"text-align: right;\">\n",
              "      <th></th>\n",
              "      <th>datetimeutc</th>\n",
              "      <th>hum</th>\n",
              "      <th>pressurem</th>\n",
              "      <th>tempm</th>\n",
              "      <th>wspdm</th>\n",
              "    </tr>\n",
              "  </thead>\n",
              "  <tbody>\n",
              "    <tr>\n",
              "      <th>0</th>\n",
              "      <td>19961101-11:00</td>\n",
              "      <td>27.0</td>\n",
              "      <td>1010.0</td>\n",
              "      <td>30.0</td>\n",
              "      <td>7.4</td>\n",
              "    </tr>\n",
              "    <tr>\n",
              "      <th>1</th>\n",
              "      <td>19961101-12:00</td>\n",
              "      <td>32.0</td>\n",
              "      <td>-9999.0</td>\n",
              "      <td>28.0</td>\n",
              "      <td>7.4</td>\n",
              "    </tr>\n",
              "    <tr>\n",
              "      <th>2</th>\n",
              "      <td>19961101-13:00</td>\n",
              "      <td>44.0</td>\n",
              "      <td>-9999.0</td>\n",
              "      <td>24.0</td>\n",
              "      <td>7.4</td>\n",
              "    </tr>\n",
              "    <tr>\n",
              "      <th>3</th>\n",
              "      <td>19961101-14:00</td>\n",
              "      <td>41.0</td>\n",
              "      <td>1010.0</td>\n",
              "      <td>24.0</td>\n",
              "      <td>7.4</td>\n",
              "    </tr>\n",
              "    <tr>\n",
              "      <th>4</th>\n",
              "      <td>19961101-16:00</td>\n",
              "      <td>47.0</td>\n",
              "      <td>1011.0</td>\n",
              "      <td>23.0</td>\n",
              "      <td>0.0</td>\n",
              "    </tr>\n",
              "    <tr>\n",
              "      <th>...</th>\n",
              "      <td>...</td>\n",
              "      <td>...</td>\n",
              "      <td>...</td>\n",
              "      <td>...</td>\n",
              "      <td>...</td>\n",
              "    </tr>\n",
              "    <tr>\n",
              "      <th>99565</th>\n",
              "      <td>20161231-12:00</td>\n",
              "      <td>77.0</td>\n",
              "      <td>1015.0</td>\n",
              "      <td>18.0</td>\n",
              "      <td>7.4</td>\n",
              "    </tr>\n",
              "    <tr>\n",
              "      <th>99566</th>\n",
              "      <td>20161231-13:00</td>\n",
              "      <td>100.0</td>\n",
              "      <td>1014.0</td>\n",
              "      <td>16.0</td>\n",
              "      <td>3.7</td>\n",
              "    </tr>\n",
              "    <tr>\n",
              "      <th>99567</th>\n",
              "      <td>20161231-15:00</td>\n",
              "      <td>58.0</td>\n",
              "      <td>1016.0</td>\n",
              "      <td>27.0</td>\n",
              "      <td>59.3</td>\n",
              "    </tr>\n",
              "    <tr>\n",
              "      <th>99568</th>\n",
              "      <td>20161231-18:00</td>\n",
              "      <td>100.0</td>\n",
              "      <td>1016.0</td>\n",
              "      <td>12.0</td>\n",
              "      <td>0.0</td>\n",
              "    </tr>\n",
              "    <tr>\n",
              "      <th>99569</th>\n",
              "      <td>20161231-21:00</td>\n",
              "      <td>99.0</td>\n",
              "      <td>1016.0</td>\n",
              "      <td>12.0</td>\n",
              "      <td>0.0</td>\n",
              "    </tr>\n",
              "  </tbody>\n",
              "</table>\n",
              "<p>99570 rows × 5 columns</p>\n",
              "</div>"
            ],
            "text/plain": [
              "          datetimeutc    hum  pressurem  tempm  wspdm\n",
              "0      19961101-11:00   27.0     1010.0   30.0    7.4\n",
              "1      19961101-12:00   32.0    -9999.0   28.0    7.4\n",
              "2      19961101-13:00   44.0    -9999.0   24.0    7.4\n",
              "3      19961101-14:00   41.0     1010.0   24.0    7.4\n",
              "4      19961101-16:00   47.0     1011.0   23.0    0.0\n",
              "...               ...    ...        ...    ...    ...\n",
              "99565  20161231-12:00   77.0     1015.0   18.0    7.4\n",
              "99566  20161231-13:00  100.0     1014.0   16.0    3.7\n",
              "99567  20161231-15:00   58.0     1016.0   27.0   59.3\n",
              "99568  20161231-18:00  100.0     1016.0   12.0    0.0\n",
              "99569  20161231-21:00   99.0     1016.0   12.0    0.0\n",
              "\n",
              "[99570 rows x 5 columns]"
            ]
          },
          "metadata": {
            "tags": []
          },
          "execution_count": 81
        }
      ]
    },
    {
      "cell_type": "code",
      "metadata": {
        "id": "2pVH86mHiW7o"
      },
      "source": [
        "dataset[\"datetimeutc\"]=pd.to_datetime(dataset[\"datetimeutc\"])"
      ],
      "execution_count": 82,
      "outputs": []
    },
    {
      "cell_type": "code",
      "metadata": {
        "id": "3k3skHhTiW7q"
      },
      "source": [
        "dataset.set_index(\"datetimeutc\",inplace=True)"
      ],
      "execution_count": 83,
      "outputs": []
    },
    {
      "cell_type": "code",
      "metadata": {
        "id": "uEHyYQmriW7t",
        "outputId": "1e045dab-2e73-496d-966e-cbc4d4464593",
        "colab": {
          "base_uri": "https://localhost:8080/",
          "height": 431
        }
      },
      "source": [
        "dataset"
      ],
      "execution_count": 84,
      "outputs": [
        {
          "output_type": "execute_result",
          "data": {
            "text/html": [
              "<div>\n",
              "<style scoped>\n",
              "    .dataframe tbody tr th:only-of-type {\n",
              "        vertical-align: middle;\n",
              "    }\n",
              "\n",
              "    .dataframe tbody tr th {\n",
              "        vertical-align: top;\n",
              "    }\n",
              "\n",
              "    .dataframe thead th {\n",
              "        text-align: right;\n",
              "    }\n",
              "</style>\n",
              "<table border=\"1\" class=\"dataframe\">\n",
              "  <thead>\n",
              "    <tr style=\"text-align: right;\">\n",
              "      <th></th>\n",
              "      <th>hum</th>\n",
              "      <th>pressurem</th>\n",
              "      <th>tempm</th>\n",
              "      <th>wspdm</th>\n",
              "    </tr>\n",
              "    <tr>\n",
              "      <th>datetimeutc</th>\n",
              "      <th></th>\n",
              "      <th></th>\n",
              "      <th></th>\n",
              "      <th></th>\n",
              "    </tr>\n",
              "  </thead>\n",
              "  <tbody>\n",
              "    <tr>\n",
              "      <th>1996-11-01 11:00:00</th>\n",
              "      <td>27.0</td>\n",
              "      <td>1010.0</td>\n",
              "      <td>30.0</td>\n",
              "      <td>7.4</td>\n",
              "    </tr>\n",
              "    <tr>\n",
              "      <th>1996-11-01 12:00:00</th>\n",
              "      <td>32.0</td>\n",
              "      <td>-9999.0</td>\n",
              "      <td>28.0</td>\n",
              "      <td>7.4</td>\n",
              "    </tr>\n",
              "    <tr>\n",
              "      <th>1996-11-01 13:00:00</th>\n",
              "      <td>44.0</td>\n",
              "      <td>-9999.0</td>\n",
              "      <td>24.0</td>\n",
              "      <td>7.4</td>\n",
              "    </tr>\n",
              "    <tr>\n",
              "      <th>1996-11-01 14:00:00</th>\n",
              "      <td>41.0</td>\n",
              "      <td>1010.0</td>\n",
              "      <td>24.0</td>\n",
              "      <td>7.4</td>\n",
              "    </tr>\n",
              "    <tr>\n",
              "      <th>1996-11-01 16:00:00</th>\n",
              "      <td>47.0</td>\n",
              "      <td>1011.0</td>\n",
              "      <td>23.0</td>\n",
              "      <td>0.0</td>\n",
              "    </tr>\n",
              "    <tr>\n",
              "      <th>...</th>\n",
              "      <td>...</td>\n",
              "      <td>...</td>\n",
              "      <td>...</td>\n",
              "      <td>...</td>\n",
              "    </tr>\n",
              "    <tr>\n",
              "      <th>2016-12-31 12:00:00</th>\n",
              "      <td>77.0</td>\n",
              "      <td>1015.0</td>\n",
              "      <td>18.0</td>\n",
              "      <td>7.4</td>\n",
              "    </tr>\n",
              "    <tr>\n",
              "      <th>2016-12-31 13:00:00</th>\n",
              "      <td>100.0</td>\n",
              "      <td>1014.0</td>\n",
              "      <td>16.0</td>\n",
              "      <td>3.7</td>\n",
              "    </tr>\n",
              "    <tr>\n",
              "      <th>2016-12-31 15:00:00</th>\n",
              "      <td>58.0</td>\n",
              "      <td>1016.0</td>\n",
              "      <td>27.0</td>\n",
              "      <td>59.3</td>\n",
              "    </tr>\n",
              "    <tr>\n",
              "      <th>2016-12-31 18:00:00</th>\n",
              "      <td>100.0</td>\n",
              "      <td>1016.0</td>\n",
              "      <td>12.0</td>\n",
              "      <td>0.0</td>\n",
              "    </tr>\n",
              "    <tr>\n",
              "      <th>2016-12-31 21:00:00</th>\n",
              "      <td>99.0</td>\n",
              "      <td>1016.0</td>\n",
              "      <td>12.0</td>\n",
              "      <td>0.0</td>\n",
              "    </tr>\n",
              "  </tbody>\n",
              "</table>\n",
              "<p>99570 rows × 4 columns</p>\n",
              "</div>"
            ],
            "text/plain": [
              "                       hum  pressurem  tempm  wspdm\n",
              "datetimeutc                                        \n",
              "1996-11-01 11:00:00   27.0     1010.0   30.0    7.4\n",
              "1996-11-01 12:00:00   32.0    -9999.0   28.0    7.4\n",
              "1996-11-01 13:00:00   44.0    -9999.0   24.0    7.4\n",
              "1996-11-01 14:00:00   41.0     1010.0   24.0    7.4\n",
              "1996-11-01 16:00:00   47.0     1011.0   23.0    0.0\n",
              "...                    ...        ...    ...    ...\n",
              "2016-12-31 12:00:00   77.0     1015.0   18.0    7.4\n",
              "2016-12-31 13:00:00  100.0     1014.0   16.0    3.7\n",
              "2016-12-31 15:00:00   58.0     1016.0   27.0   59.3\n",
              "2016-12-31 18:00:00  100.0     1016.0   12.0    0.0\n",
              "2016-12-31 21:00:00   99.0     1016.0   12.0    0.0\n",
              "\n",
              "[99570 rows x 4 columns]"
            ]
          },
          "metadata": {
            "tags": []
          },
          "execution_count": 84
        }
      ]
    },
    {
      "cell_type": "code",
      "metadata": {
        "id": "sb12Xv4aiW7v",
        "outputId": "c0966762-c468-423e-c4da-ec3b33f5304c",
        "colab": {
          "base_uri": "https://localhost:8080/",
          "height": 431
        }
      },
      "source": [
        "dataset=dataset.resample(\"D\").mean()\n",
        "dataset"
      ],
      "execution_count": 85,
      "outputs": [
        {
          "output_type": "execute_result",
          "data": {
            "text/html": [
              "<div>\n",
              "<style scoped>\n",
              "    .dataframe tbody tr th:only-of-type {\n",
              "        vertical-align: middle;\n",
              "    }\n",
              "\n",
              "    .dataframe tbody tr th {\n",
              "        vertical-align: top;\n",
              "    }\n",
              "\n",
              "    .dataframe thead th {\n",
              "        text-align: right;\n",
              "    }\n",
              "</style>\n",
              "<table border=\"1\" class=\"dataframe\">\n",
              "  <thead>\n",
              "    <tr style=\"text-align: right;\">\n",
              "      <th></th>\n",
              "      <th>hum</th>\n",
              "      <th>pressurem</th>\n",
              "      <th>tempm</th>\n",
              "      <th>wspdm</th>\n",
              "    </tr>\n",
              "    <tr>\n",
              "      <th>datetimeutc</th>\n",
              "      <th></th>\n",
              "      <th></th>\n",
              "      <th></th>\n",
              "      <th></th>\n",
              "    </tr>\n",
              "  </thead>\n",
              "  <tbody>\n",
              "    <tr>\n",
              "      <th>1996-11-01</th>\n",
              "      <td>52.916667</td>\n",
              "      <td>-2659.666667</td>\n",
              "      <td>22.333333</td>\n",
              "      <td>6.166667</td>\n",
              "    </tr>\n",
              "    <tr>\n",
              "      <th>1996-11-02</th>\n",
              "      <td>48.625000</td>\n",
              "      <td>1009.833333</td>\n",
              "      <td>22.916667</td>\n",
              "      <td>7.950000</td>\n",
              "    </tr>\n",
              "    <tr>\n",
              "      <th>1996-11-03</th>\n",
              "      <td>55.958333</td>\n",
              "      <td>1010.500000</td>\n",
              "      <td>21.791667</td>\n",
              "      <td>5.020833</td>\n",
              "    </tr>\n",
              "    <tr>\n",
              "      <th>1996-11-04</th>\n",
              "      <td>48.055556</td>\n",
              "      <td>1011.333333</td>\n",
              "      <td>22.722222</td>\n",
              "      <td>2.266667</td>\n",
              "    </tr>\n",
              "    <tr>\n",
              "      <th>1996-11-05</th>\n",
              "      <td>29.400000</td>\n",
              "      <td>1011.800000</td>\n",
              "      <td>27.800000</td>\n",
              "      <td>10.020000</td>\n",
              "    </tr>\n",
              "    <tr>\n",
              "      <th>...</th>\n",
              "      <td>...</td>\n",
              "      <td>...</td>\n",
              "      <td>...</td>\n",
              "      <td>...</td>\n",
              "    </tr>\n",
              "    <tr>\n",
              "      <th>2016-12-27</th>\n",
              "      <td>67.550000</td>\n",
              "      <td>1017.200000</td>\n",
              "      <td>16.850000</td>\n",
              "      <td>8.335000</td>\n",
              "    </tr>\n",
              "    <tr>\n",
              "      <th>2016-12-28</th>\n",
              "      <td>68.043478</td>\n",
              "      <td>1015.565217</td>\n",
              "      <td>17.217391</td>\n",
              "      <td>3.547826</td>\n",
              "    </tr>\n",
              "    <tr>\n",
              "      <th>2016-12-29</th>\n",
              "      <td>87.857143</td>\n",
              "      <td>1016.904762</td>\n",
              "      <td>15.238095</td>\n",
              "      <td>6.000000</td>\n",
              "    </tr>\n",
              "    <tr>\n",
              "      <th>2016-12-30</th>\n",
              "      <td>89.666667</td>\n",
              "      <td>1017.904762</td>\n",
              "      <td>14.095238</td>\n",
              "      <td>6.266667</td>\n",
              "    </tr>\n",
              "    <tr>\n",
              "      <th>2016-12-31</th>\n",
              "      <td>85.550000</td>\n",
              "      <td>1016.100000</td>\n",
              "      <td>15.650000</td>\n",
              "      <td>7.325000</td>\n",
              "    </tr>\n",
              "  </tbody>\n",
              "</table>\n",
              "<p>7366 rows × 4 columns</p>\n",
              "</div>"
            ],
            "text/plain": [
              "                   hum    pressurem      tempm      wspdm\n",
              "datetimeutc                                              \n",
              "1996-11-01   52.916667 -2659.666667  22.333333   6.166667\n",
              "1996-11-02   48.625000  1009.833333  22.916667   7.950000\n",
              "1996-11-03   55.958333  1010.500000  21.791667   5.020833\n",
              "1996-11-04   48.055556  1011.333333  22.722222   2.266667\n",
              "1996-11-05   29.400000  1011.800000  27.800000  10.020000\n",
              "...                ...          ...        ...        ...\n",
              "2016-12-27   67.550000  1017.200000  16.850000   8.335000\n",
              "2016-12-28   68.043478  1015.565217  17.217391   3.547826\n",
              "2016-12-29   87.857143  1016.904762  15.238095   6.000000\n",
              "2016-12-30   89.666667  1017.904762  14.095238   6.266667\n",
              "2016-12-31   85.550000  1016.100000  15.650000   7.325000\n",
              "\n",
              "[7366 rows x 4 columns]"
            ]
          },
          "metadata": {
            "tags": []
          },
          "execution_count": 85
        }
      ]
    },
    {
      "cell_type": "code",
      "metadata": {
        "id": "HfRh_-jhiW7y"
      },
      "source": [
        "def extract_year(value):\n",
        "  value=value.strftime('%Y-%m-%d')\n",
        "  return (value[0:4])\n",
        "\n",
        "\n",
        "def extract_month(value):\n",
        "    value=value.strftime('%Y-%m-%d')\n",
        "    return (value[4:6])\n",
        "\n",
        "def extract_date(value):\n",
        "    value=value.strftime('%Y-%m-%d')\n",
        "    return (value[6:8])"
      ],
      "execution_count": 86,
      "outputs": []
    },
    {
      "cell_type": "code",
      "metadata": {
        "id": "N9FlmUHviW71",
        "outputId": "6954c4a8-2328-4fcb-d616-8f08863dda76",
        "colab": {
          "base_uri": "https://localhost:8080/",
          "height": 402
        }
      },
      "source": [
        "dataset.reset_index(inplace=True)\n",
        "dataset\n"
      ],
      "execution_count": 87,
      "outputs": [
        {
          "output_type": "execute_result",
          "data": {
            "text/html": [
              "<div>\n",
              "<style scoped>\n",
              "    .dataframe tbody tr th:only-of-type {\n",
              "        vertical-align: middle;\n",
              "    }\n",
              "\n",
              "    .dataframe tbody tr th {\n",
              "        vertical-align: top;\n",
              "    }\n",
              "\n",
              "    .dataframe thead th {\n",
              "        text-align: right;\n",
              "    }\n",
              "</style>\n",
              "<table border=\"1\" class=\"dataframe\">\n",
              "  <thead>\n",
              "    <tr style=\"text-align: right;\">\n",
              "      <th></th>\n",
              "      <th>datetimeutc</th>\n",
              "      <th>hum</th>\n",
              "      <th>pressurem</th>\n",
              "      <th>tempm</th>\n",
              "      <th>wspdm</th>\n",
              "    </tr>\n",
              "  </thead>\n",
              "  <tbody>\n",
              "    <tr>\n",
              "      <th>0</th>\n",
              "      <td>1996-11-01</td>\n",
              "      <td>52.916667</td>\n",
              "      <td>-2659.666667</td>\n",
              "      <td>22.333333</td>\n",
              "      <td>6.166667</td>\n",
              "    </tr>\n",
              "    <tr>\n",
              "      <th>1</th>\n",
              "      <td>1996-11-02</td>\n",
              "      <td>48.625000</td>\n",
              "      <td>1009.833333</td>\n",
              "      <td>22.916667</td>\n",
              "      <td>7.950000</td>\n",
              "    </tr>\n",
              "    <tr>\n",
              "      <th>2</th>\n",
              "      <td>1996-11-03</td>\n",
              "      <td>55.958333</td>\n",
              "      <td>1010.500000</td>\n",
              "      <td>21.791667</td>\n",
              "      <td>5.020833</td>\n",
              "    </tr>\n",
              "    <tr>\n",
              "      <th>3</th>\n",
              "      <td>1996-11-04</td>\n",
              "      <td>48.055556</td>\n",
              "      <td>1011.333333</td>\n",
              "      <td>22.722222</td>\n",
              "      <td>2.266667</td>\n",
              "    </tr>\n",
              "    <tr>\n",
              "      <th>4</th>\n",
              "      <td>1996-11-05</td>\n",
              "      <td>29.400000</td>\n",
              "      <td>1011.800000</td>\n",
              "      <td>27.800000</td>\n",
              "      <td>10.020000</td>\n",
              "    </tr>\n",
              "    <tr>\n",
              "      <th>...</th>\n",
              "      <td>...</td>\n",
              "      <td>...</td>\n",
              "      <td>...</td>\n",
              "      <td>...</td>\n",
              "      <td>...</td>\n",
              "    </tr>\n",
              "    <tr>\n",
              "      <th>7361</th>\n",
              "      <td>2016-12-27</td>\n",
              "      <td>67.550000</td>\n",
              "      <td>1017.200000</td>\n",
              "      <td>16.850000</td>\n",
              "      <td>8.335000</td>\n",
              "    </tr>\n",
              "    <tr>\n",
              "      <th>7362</th>\n",
              "      <td>2016-12-28</td>\n",
              "      <td>68.043478</td>\n",
              "      <td>1015.565217</td>\n",
              "      <td>17.217391</td>\n",
              "      <td>3.547826</td>\n",
              "    </tr>\n",
              "    <tr>\n",
              "      <th>7363</th>\n",
              "      <td>2016-12-29</td>\n",
              "      <td>87.857143</td>\n",
              "      <td>1016.904762</td>\n",
              "      <td>15.238095</td>\n",
              "      <td>6.000000</td>\n",
              "    </tr>\n",
              "    <tr>\n",
              "      <th>7364</th>\n",
              "      <td>2016-12-30</td>\n",
              "      <td>89.666667</td>\n",
              "      <td>1017.904762</td>\n",
              "      <td>14.095238</td>\n",
              "      <td>6.266667</td>\n",
              "    </tr>\n",
              "    <tr>\n",
              "      <th>7365</th>\n",
              "      <td>2016-12-31</td>\n",
              "      <td>85.550000</td>\n",
              "      <td>1016.100000</td>\n",
              "      <td>15.650000</td>\n",
              "      <td>7.325000</td>\n",
              "    </tr>\n",
              "  </tbody>\n",
              "</table>\n",
              "<p>7366 rows × 5 columns</p>\n",
              "</div>"
            ],
            "text/plain": [
              "     datetimeutc        hum    pressurem      tempm      wspdm\n",
              "0     1996-11-01  52.916667 -2659.666667  22.333333   6.166667\n",
              "1     1996-11-02  48.625000  1009.833333  22.916667   7.950000\n",
              "2     1996-11-03  55.958333  1010.500000  21.791667   5.020833\n",
              "3     1996-11-04  48.055556  1011.333333  22.722222   2.266667\n",
              "4     1996-11-05  29.400000  1011.800000  27.800000  10.020000\n",
              "...          ...        ...          ...        ...        ...\n",
              "7361  2016-12-27  67.550000  1017.200000  16.850000   8.335000\n",
              "7362  2016-12-28  68.043478  1015.565217  17.217391   3.547826\n",
              "7363  2016-12-29  87.857143  1016.904762  15.238095   6.000000\n",
              "7364  2016-12-30  89.666667  1017.904762  14.095238   6.266667\n",
              "7365  2016-12-31  85.550000  1016.100000  15.650000   7.325000\n",
              "\n",
              "[7366 rows x 5 columns]"
            ]
          },
          "metadata": {
            "tags": []
          },
          "execution_count": 87
        }
      ]
    },
    {
      "cell_type": "code",
      "metadata": {
        "colab": {
          "base_uri": "https://localhost:8080/",
          "height": 386
        },
        "id": "JcvGwlNXiW73",
        "outputId": "c62351b9-8047-419f-8d42-b8bbda6d4fa0"
      },
      "source": [
        "dataset.year.value_counts()"
      ],
      "execution_count": null,
      "outputs": [
        {
          "output_type": "execute_result",
          "data": {
            "text/plain": [
              "2003    13186\n",
              "2004     9151\n",
              "2002     8503\n",
              "2001     8403\n",
              "2016     6634\n",
              "1997     6513\n",
              "1999     6300\n",
              "2000     5391\n",
              "1998     3579\n",
              "2014     2973\n",
              "2015     2936\n",
              "2005     2920\n",
              "2007     2865\n",
              "2006     2858\n",
              "2008     2857\n",
              "2009     2851\n",
              "2010     2768\n",
              "2011     2738\n",
              "2012     2438\n",
              "2013     2428\n",
              "1996     1278\n",
              "Name: year, dtype: int64"
            ]
          },
          "metadata": {
            "tags": []
          },
          "execution_count": 18
        }
      ]
    },
    {
      "cell_type": "code",
      "metadata": {
        "colab": {
          "base_uri": "https://localhost:8080/",
          "height": 403
        },
        "id": "F-9jFDL4iW75",
        "outputId": "a9d79200-c329-4e8b-d179-540260024567"
      },
      "source": [
        "dataset.groupby(\"year\").tempm.mean()"
      ],
      "execution_count": null,
      "outputs": [
        {
          "output_type": "execute_result",
          "data": {
            "text/plain": [
              "year\n",
              "1996    16.658059\n",
              "1997    24.477199\n",
              "1998    24.872031\n",
              "1999    27.333333\n",
              "2000    23.884252\n",
              "2001    25.599667\n",
              "2002    26.487005\n",
              "2003    26.182239\n",
              "2004    26.010054\n",
              "2005    24.720548\n",
              "2006    25.455213\n",
              "2007    24.813264\n",
              "2008    24.527476\n",
              "2009    25.358821\n",
              "2010    25.559610\n",
              "2011    24.968590\n",
              "2012    25.028712\n",
              "2013    24.690692\n",
              "2014    25.184326\n",
              "2015    25.148161\n",
              "2016    27.314591\n",
              "Name: tempm, dtype: float64"
            ]
          },
          "metadata": {
            "tags": []
          },
          "execution_count": 19
        }
      ]
    },
    {
      "cell_type": "code",
      "metadata": {
        "id": "-eJwjjDdiW79"
      },
      "source": [
        "dataset['day'] = dataset['datetimeutc'].dt.day\n",
        "dataset['month'] = dataset['datetimeutc'].dt.month\n",
        "dataset['year'] = dataset['datetimeutc'].dt.year"
      ],
      "execution_count": 88,
      "outputs": []
    },
    {
      "cell_type": "code",
      "metadata": {
        "id": "GL1cX8vViW8A",
        "outputId": "0f9ea4d3-f9cd-4554-e61b-18c5b9c55dc0",
        "colab": {
          "base_uri": "https://localhost:8080/"
        }
      },
      "source": [
        "dataset.isnull().sum()"
      ],
      "execution_count": 89,
      "outputs": [
        {
          "output_type": "execute_result",
          "data": {
            "text/plain": [
              "datetimeutc      0\n",
              "hum            141\n",
              "pressurem      141\n",
              "tempm          141\n",
              "wspdm          141\n",
              "day              0\n",
              "month            0\n",
              "year             0\n",
              "dtype: int64"
            ]
          },
          "metadata": {
            "tags": []
          },
          "execution_count": 89
        }
      ]
    },
    {
      "cell_type": "code",
      "metadata": {
        "colab": {
          "base_uri": "https://localhost:8080/"
        },
        "id": "Rh8AdetxiW8C",
        "outputId": "e78cd335-a03a-4417-e334-3e9f1718da6e"
      },
      "source": [
        "dataset.fillna(dataset.mean(),inplace=True)"
      ],
      "execution_count": 90,
      "outputs": [
        {
          "output_type": "stream",
          "text": [
            "/usr/local/lib/python3.6/dist-packages/ipykernel_launcher.py:1: FutureWarning: DataFrame.mean and DataFrame.median with numeric_only=None will include datetime64 and datetime64tz columns in a future version.\n",
            "  \"\"\"Entry point for launching an IPython kernel.\n"
          ],
          "name": "stderr"
        }
      ]
    },
    {
      "cell_type": "code",
      "metadata": {
        "colab": {
          "base_uri": "https://localhost:8080/"
        },
        "id": "IvXdVW4PiW8E",
        "outputId": "308e1559-a7f7-43d0-d4e3-6af6d3640430"
      },
      "source": [
        "dataset.isnull().sum()"
      ],
      "execution_count": 91,
      "outputs": [
        {
          "output_type": "execute_result",
          "data": {
            "text/plain": [
              "datetimeutc    0\n",
              "hum            0\n",
              "pressurem      0\n",
              "tempm          0\n",
              "wspdm          0\n",
              "day            0\n",
              "month          0\n",
              "year           0\n",
              "dtype: int64"
            ]
          },
          "metadata": {
            "tags": []
          },
          "execution_count": 91
        }
      ]
    },
    {
      "cell_type": "code",
      "metadata": {
        "colab": {
          "base_uri": "https://localhost:8080/",
          "height": 402
        },
        "id": "PnFjicT8iW8G",
        "outputId": "fafd932e-db7f-4ae8-bbef-06adae466256"
      },
      "source": [
        "dataset_forest=dataset.drop([\"datetimeutc\"],axis=1)\n",
        "dataset_forest"
      ],
      "execution_count": 92,
      "outputs": [
        {
          "output_type": "execute_result",
          "data": {
            "text/html": [
              "<div>\n",
              "<style scoped>\n",
              "    .dataframe tbody tr th:only-of-type {\n",
              "        vertical-align: middle;\n",
              "    }\n",
              "\n",
              "    .dataframe tbody tr th {\n",
              "        vertical-align: top;\n",
              "    }\n",
              "\n",
              "    .dataframe thead th {\n",
              "        text-align: right;\n",
              "    }\n",
              "</style>\n",
              "<table border=\"1\" class=\"dataframe\">\n",
              "  <thead>\n",
              "    <tr style=\"text-align: right;\">\n",
              "      <th></th>\n",
              "      <th>hum</th>\n",
              "      <th>pressurem</th>\n",
              "      <th>tempm</th>\n",
              "      <th>wspdm</th>\n",
              "      <th>day</th>\n",
              "      <th>month</th>\n",
              "      <th>year</th>\n",
              "    </tr>\n",
              "  </thead>\n",
              "  <tbody>\n",
              "    <tr>\n",
              "      <th>0</th>\n",
              "      <td>52.916667</td>\n",
              "      <td>-2659.666667</td>\n",
              "      <td>22.333333</td>\n",
              "      <td>6.166667</td>\n",
              "      <td>1</td>\n",
              "      <td>11</td>\n",
              "      <td>1996</td>\n",
              "    </tr>\n",
              "    <tr>\n",
              "      <th>1</th>\n",
              "      <td>48.625000</td>\n",
              "      <td>1009.833333</td>\n",
              "      <td>22.916667</td>\n",
              "      <td>7.950000</td>\n",
              "      <td>2</td>\n",
              "      <td>11</td>\n",
              "      <td>1996</td>\n",
              "    </tr>\n",
              "    <tr>\n",
              "      <th>2</th>\n",
              "      <td>55.958333</td>\n",
              "      <td>1010.500000</td>\n",
              "      <td>21.791667</td>\n",
              "      <td>5.020833</td>\n",
              "      <td>3</td>\n",
              "      <td>11</td>\n",
              "      <td>1996</td>\n",
              "    </tr>\n",
              "    <tr>\n",
              "      <th>3</th>\n",
              "      <td>48.055556</td>\n",
              "      <td>1011.333333</td>\n",
              "      <td>22.722222</td>\n",
              "      <td>2.266667</td>\n",
              "      <td>4</td>\n",
              "      <td>11</td>\n",
              "      <td>1996</td>\n",
              "    </tr>\n",
              "    <tr>\n",
              "      <th>4</th>\n",
              "      <td>29.400000</td>\n",
              "      <td>1011.800000</td>\n",
              "      <td>27.800000</td>\n",
              "      <td>10.020000</td>\n",
              "      <td>5</td>\n",
              "      <td>11</td>\n",
              "      <td>1996</td>\n",
              "    </tr>\n",
              "    <tr>\n",
              "      <th>...</th>\n",
              "      <td>...</td>\n",
              "      <td>...</td>\n",
              "      <td>...</td>\n",
              "      <td>...</td>\n",
              "      <td>...</td>\n",
              "      <td>...</td>\n",
              "      <td>...</td>\n",
              "    </tr>\n",
              "    <tr>\n",
              "      <th>7361</th>\n",
              "      <td>67.550000</td>\n",
              "      <td>1017.200000</td>\n",
              "      <td>16.850000</td>\n",
              "      <td>8.335000</td>\n",
              "      <td>27</td>\n",
              "      <td>12</td>\n",
              "      <td>2016</td>\n",
              "    </tr>\n",
              "    <tr>\n",
              "      <th>7362</th>\n",
              "      <td>68.043478</td>\n",
              "      <td>1015.565217</td>\n",
              "      <td>17.217391</td>\n",
              "      <td>3.547826</td>\n",
              "      <td>28</td>\n",
              "      <td>12</td>\n",
              "      <td>2016</td>\n",
              "    </tr>\n",
              "    <tr>\n",
              "      <th>7363</th>\n",
              "      <td>87.857143</td>\n",
              "      <td>1016.904762</td>\n",
              "      <td>15.238095</td>\n",
              "      <td>6.000000</td>\n",
              "      <td>29</td>\n",
              "      <td>12</td>\n",
              "      <td>2016</td>\n",
              "    </tr>\n",
              "    <tr>\n",
              "      <th>7364</th>\n",
              "      <td>89.666667</td>\n",
              "      <td>1017.904762</td>\n",
              "      <td>14.095238</td>\n",
              "      <td>6.266667</td>\n",
              "      <td>30</td>\n",
              "      <td>12</td>\n",
              "      <td>2016</td>\n",
              "    </tr>\n",
              "    <tr>\n",
              "      <th>7365</th>\n",
              "      <td>85.550000</td>\n",
              "      <td>1016.100000</td>\n",
              "      <td>15.650000</td>\n",
              "      <td>7.325000</td>\n",
              "      <td>31</td>\n",
              "      <td>12</td>\n",
              "      <td>2016</td>\n",
              "    </tr>\n",
              "  </tbody>\n",
              "</table>\n",
              "<p>7366 rows × 7 columns</p>\n",
              "</div>"
            ],
            "text/plain": [
              "            hum    pressurem      tempm      wspdm  day  month  year\n",
              "0     52.916667 -2659.666667  22.333333   6.166667    1     11  1996\n",
              "1     48.625000  1009.833333  22.916667   7.950000    2     11  1996\n",
              "2     55.958333  1010.500000  21.791667   5.020833    3     11  1996\n",
              "3     48.055556  1011.333333  22.722222   2.266667    4     11  1996\n",
              "4     29.400000  1011.800000  27.800000  10.020000    5     11  1996\n",
              "...         ...          ...        ...        ...  ...    ...   ...\n",
              "7361  67.550000  1017.200000  16.850000   8.335000   27     12  2016\n",
              "7362  68.043478  1015.565217  17.217391   3.547826   28     12  2016\n",
              "7363  87.857143  1016.904762  15.238095   6.000000   29     12  2016\n",
              "7364  89.666667  1017.904762  14.095238   6.266667   30     12  2016\n",
              "7365  85.550000  1016.100000  15.650000   7.325000   31     12  2016\n",
              "\n",
              "[7366 rows x 7 columns]"
            ]
          },
          "metadata": {
            "tags": []
          },
          "execution_count": 92
        }
      ]
    },
    {
      "cell_type": "code",
      "metadata": {
        "colab": {
          "base_uri": "https://localhost:8080/"
        },
        "id": "Cqm3hl98iW8J",
        "outputId": "f0cdb506-a828-4d71-fdc6-6395b4d8f59a"
      },
      "source": [
        "y=dataset_forest[\"tempm\"]\n",
        "y"
      ],
      "execution_count": 93,
      "outputs": [
        {
          "output_type": "execute_result",
          "data": {
            "text/plain": [
              "0       22.333333\n",
              "1       22.916667\n",
              "2       21.791667\n",
              "3       22.722222\n",
              "4       27.800000\n",
              "          ...    \n",
              "7361    16.850000\n",
              "7362    17.217391\n",
              "7363    15.238095\n",
              "7364    14.095238\n",
              "7365    15.650000\n",
              "Name: tempm, Length: 7366, dtype: float64"
            ]
          },
          "metadata": {
            "tags": []
          },
          "execution_count": 93
        }
      ]
    },
    {
      "cell_type": "code",
      "metadata": {
        "id": "2juGEKExiW8M"
      },
      "source": [
        "dataset_forest.drop(\"tempm\",inplace=True,axis=1)"
      ],
      "execution_count": 94,
      "outputs": []
    },
    {
      "cell_type": "code",
      "metadata": {
        "id": "nKYwc5LPiW8O"
      },
      "source": [
        "X=dataset_forest.iloc[:,:].values"
      ],
      "execution_count": 95,
      "outputs": []
    },
    {
      "cell_type": "code",
      "metadata": {
        "colab": {
          "base_uri": "https://localhost:8080/"
        },
        "id": "g_gPScHIiW8Q",
        "outputId": "65ec1e15-2131-42ac-ee76-5b40e0f4d585"
      },
      "source": [
        "X.shape"
      ],
      "execution_count": 96,
      "outputs": [
        {
          "output_type": "execute_result",
          "data": {
            "text/plain": [
              "(7366, 6)"
            ]
          },
          "metadata": {
            "tags": []
          },
          "execution_count": 96
        }
      ]
    },
    {
      "cell_type": "code",
      "metadata": {
        "id": "A2yHZbOniW8T"
      },
      "source": [
        "y=y.values\n"
      ],
      "execution_count": 97,
      "outputs": []
    },
    {
      "cell_type": "code",
      "metadata": {
        "colab": {
          "base_uri": "https://localhost:8080/"
        },
        "id": "TTto8QgEiW8W",
        "outputId": "adc216db-2567-4579-dd91-415648b85f01"
      },
      "source": [
        "y.shape"
      ],
      "execution_count": 98,
      "outputs": [
        {
          "output_type": "execute_result",
          "data": {
            "text/plain": [
              "(7366,)"
            ]
          },
          "metadata": {
            "tags": []
          },
          "execution_count": 98
        }
      ]
    },
    {
      "cell_type": "code",
      "metadata": {
        "id": "ot6nWqLliW8Y"
      },
      "source": [
        "# Train and Test Part"
      ],
      "execution_count": 99,
      "outputs": []
    },
    {
      "cell_type": "code",
      "metadata": {
        "id": "dr7Sn9uXiW8a"
      },
      "source": [
        "from sklearn.model_selection import train_test_split"
      ],
      "execution_count": 100,
      "outputs": []
    },
    {
      "cell_type": "code",
      "metadata": {
        "id": "PWLmO5oSiW8g"
      },
      "source": [
        "X_train,X_test,y_train,y_test=train_test_split(X,y,test_size=0.33,random_state=0)"
      ],
      "execution_count": 101,
      "outputs": []
    },
    {
      "cell_type": "code",
      "metadata": {
        "colab": {
          "base_uri": "https://localhost:8080/"
        },
        "id": "Hu851cZqiW8h",
        "outputId": "349e623f-b823-478b-dc86-c011942d0799"
      },
      "source": [
        "print(\"Shape of X_train\", X_train.shape)\n",
        "print(\"Shape of X_test\", X_test.shape)\n",
        "print(\"Shape of y_train\", y_train.shape)\n",
        "print(\"Shape of y_test\", y_test.shape)"
      ],
      "execution_count": 102,
      "outputs": [
        {
          "output_type": "stream",
          "text": [
            "Shape of X_train (4935, 6)\n",
            "Shape of X_test (2431, 6)\n",
            "Shape of y_train (4935,)\n",
            "Shape of y_test (2431,)\n"
          ],
          "name": "stdout"
        }
      ]
    },
    {
      "cell_type": "code",
      "metadata": {
        "id": "ouN2WQM3L_r2"
      },
      "source": [
        "from sklearn.preprocessing import StandardScaler\n",
        "sc_X=StandardScaler()\n",
        "sc_Y=StandardScaler()\n",
        "X_train=sc_X.fit_transform(X_train)\n",
        "y_train=np.array(y_train).reshape(-1,1)\n",
        "y_train=sc_Y.fit_transform(y_train)\n",
        "# y_train=np.array(y_train).reshape(-1,1)"
      ],
      "execution_count": 103,
      "outputs": []
    },
    {
      "cell_type": "code",
      "metadata": {
        "id": "IHB6B6USiW8k"
      },
      "source": [
        "#Create Model\n",
        "from sklearn.tree import DecisionTreeRegressor\n",
        "model=DecisionTreeRegressor(random_state=0)"
      ],
      "execution_count": 104,
      "outputs": []
    },
    {
      "cell_type": "code",
      "metadata": {
        "colab": {
          "base_uri": "https://localhost:8080/"
        },
        "id": "QZalh8ekiW8l",
        "outputId": "3d0ee6c0-9a2f-45fd-cdd8-5898ddf1b4f6"
      },
      "source": [
        "model.fit(X_train,y_train.ravel())"
      ],
      "execution_count": 105,
      "outputs": [
        {
          "output_type": "execute_result",
          "data": {
            "text/plain": [
              "DecisionTreeRegressor(ccp_alpha=0.0, criterion='mse', max_depth=None,\n",
              "                      max_features=None, max_leaf_nodes=None,\n",
              "                      min_impurity_decrease=0.0, min_impurity_split=None,\n",
              "                      min_samples_leaf=1, min_samples_split=2,\n",
              "                      min_weight_fraction_leaf=0.0, presort='deprecated',\n",
              "                      random_state=0, splitter='best')"
            ]
          },
          "metadata": {
            "tags": []
          },
          "execution_count": 105
        }
      ]
    },
    {
      "cell_type": "code",
      "metadata": {
        "id": "gf1i3IhjMJjt"
      },
      "source": [
        "X_test=sc_X.fit_transform(X_test)"
      ],
      "execution_count": 106,
      "outputs": []
    },
    {
      "cell_type": "code",
      "metadata": {
        "id": "mqKE8tDviW8o"
      },
      "source": [
        "y_pred=model.predict(X_test)"
      ],
      "execution_count": 107,
      "outputs": []
    },
    {
      "cell_type": "code",
      "metadata": {
        "colab": {
          "base_uri": "https://localhost:8080/"
        },
        "id": "V_sN_J2DiW8q",
        "outputId": "e688bc55-aef8-4255-b036-733b3024885d"
      },
      "source": [
        "y_pred=sc_Y.inverse_transform(y_pred)\n",
        "y_pred"
      ],
      "execution_count": 108,
      "outputs": [
        {
          "output_type": "execute_result",
          "data": {
            "text/plain": [
              "array([29.375     , 32.83333333, 25.18181818, ..., 19.91666667,\n",
              "       33.25      , 18.        ])"
            ]
          },
          "metadata": {
            "tags": []
          },
          "execution_count": 108
        }
      ]
    },
    {
      "cell_type": "code",
      "metadata": {
        "colab": {
          "base_uri": "https://localhost:8080/"
        },
        "id": "bXb-GegniW8s",
        "outputId": "2d5f20ba-6a17-4101-9f87-bc3f0645000e"
      },
      "source": [
        "y_test"
      ],
      "execution_count": 109,
      "outputs": [
        {
          "output_type": "execute_result",
          "data": {
            "text/plain": [
              "array([28.875     , 32.5       , 24.75      , ..., 19.52173913,\n",
              "       32.875     , 14.71428571])"
            ]
          },
          "metadata": {
            "tags": []
          },
          "execution_count": 109
        }
      ]
    },
    {
      "cell_type": "code",
      "metadata": {
        "colab": {
          "base_uri": "https://localhost:8080/"
        },
        "id": "39Vq2zxSiW8v",
        "outputId": "8ff9a00b-0cd3-4093-dabc-0339a08a3ba1"
      },
      "source": [
        "# Accuracy\n",
        "from sklearn.metrics import mean_squared_error, mean_absolute_error\n",
        "mse=mean_squared_error(y_test,y_pred,squared=False)\n",
        "mae=mean_absolute_error(y_test,y_pred)\n",
        "print(f'{mse} {mae}')"
      ],
      "execution_count": 111,
      "outputs": [
        {
          "output_type": "stream",
          "text": [
            "3.414786719111552 2.472285887867981\n"
          ],
          "name": "stdout"
        }
      ]
    },
    {
      "cell_type": "code",
      "metadata": {
        "colab": {
          "base_uri": "https://localhost:8080/"
        },
        "id": "qbi4VSe2iW8x",
        "outputId": "f4a51965-2c99-446f-803f-2641fe7aaa01"
      },
      "source": [
        "y_pred.size"
      ],
      "execution_count": 112,
      "outputs": [
        {
          "output_type": "execute_result",
          "data": {
            "text/plain": [
              "2431"
            ]
          },
          "metadata": {
            "tags": []
          },
          "execution_count": 112
        }
      ]
    },
    {
      "cell_type": "code",
      "metadata": {
        "colab": {
          "base_uri": "https://localhost:8080/",
          "height": 34
        },
        "id": "WgNYZFzSiW8z",
        "outputId": "46ca502c-ec72-4211-fb9b-13c8d29a1073"
      },
      "source": [
        "avg=0\n",
        "for i in range(0,y_pred.size):\n",
        "    avg+=abs(y_pred[i]-y_test[i])\n",
        "avg"
      ],
      "execution_count": null,
      "outputs": [
        {
          "output_type": "execute_result",
          "data": {
            "text/plain": [
              "18268.928548003103"
            ]
          },
          "metadata": {
            "tags": []
          },
          "execution_count": 42
        }
      ]
    },
    {
      "cell_type": "code",
      "metadata": {
        "colab": {
          "base_uri": "https://localhost:8080/",
          "height": 34
        },
        "id": "nzUluiJEiW82",
        "outputId": "19abc9a5-5337-4b4b-8fea-b0d2017f5252"
      },
      "source": [
        "avg/(y_pred.size)"
      ],
      "execution_count": null,
      "outputs": [
        {
          "output_type": "execute_result",
          "data": {
            "text/plain": [
              "1.8347824192028828"
            ]
          },
          "metadata": {
            "tags": []
          },
          "execution_count": 43
        }
      ]
    },
    {
      "cell_type": "code",
      "metadata": {
        "colab": {
          "base_uri": "https://localhost:8080/",
          "height": 402
        },
        "id": "aL8RygByiW86",
        "outputId": "ae99492e-d632-4089-aa52-31b856ba8737"
      },
      "source": [
        "df = pd.DataFrame({'Real Values':y_test.reshape(-1), 'Predicted Values':y_pred.reshape(-1)})\n",
        "df"
      ],
      "execution_count": null,
      "outputs": [
        {
          "output_type": "execute_result",
          "data": {
            "text/html": [
              "<div>\n",
              "<style scoped>\n",
              "    .dataframe tbody tr th:only-of-type {\n",
              "        vertical-align: middle;\n",
              "    }\n",
              "\n",
              "    .dataframe tbody tr th {\n",
              "        vertical-align: top;\n",
              "    }\n",
              "\n",
              "    .dataframe thead th {\n",
              "        text-align: right;\n",
              "    }\n",
              "</style>\n",
              "<table border=\"1\" class=\"dataframe\">\n",
              "  <thead>\n",
              "    <tr style=\"text-align: right;\">\n",
              "      <th></th>\n",
              "      <th>Real Values</th>\n",
              "      <th>Predicted Values</th>\n",
              "    </tr>\n",
              "  </thead>\n",
              "  <tbody>\n",
              "    <tr>\n",
              "      <th>0</th>\n",
              "      <td>32.0</td>\n",
              "      <td>31.0</td>\n",
              "    </tr>\n",
              "    <tr>\n",
              "      <th>1</th>\n",
              "      <td>34.0</td>\n",
              "      <td>31.0</td>\n",
              "    </tr>\n",
              "    <tr>\n",
              "      <th>2</th>\n",
              "      <td>16.0</td>\n",
              "      <td>13.0</td>\n",
              "    </tr>\n",
              "    <tr>\n",
              "      <th>3</th>\n",
              "      <td>19.0</td>\n",
              "      <td>17.0</td>\n",
              "    </tr>\n",
              "    <tr>\n",
              "      <th>4</th>\n",
              "      <td>28.0</td>\n",
              "      <td>22.0</td>\n",
              "    </tr>\n",
              "    <tr>\n",
              "      <th>...</th>\n",
              "      <td>...</td>\n",
              "      <td>...</td>\n",
              "    </tr>\n",
              "    <tr>\n",
              "      <th>9952</th>\n",
              "      <td>27.0</td>\n",
              "      <td>23.0</td>\n",
              "    </tr>\n",
              "    <tr>\n",
              "      <th>9953</th>\n",
              "      <td>37.0</td>\n",
              "      <td>30.0</td>\n",
              "    </tr>\n",
              "    <tr>\n",
              "      <th>9954</th>\n",
              "      <td>32.0</td>\n",
              "      <td>27.0</td>\n",
              "    </tr>\n",
              "    <tr>\n",
              "      <th>9955</th>\n",
              "      <td>12.0</td>\n",
              "      <td>12.0</td>\n",
              "    </tr>\n",
              "    <tr>\n",
              "      <th>9956</th>\n",
              "      <td>25.0</td>\n",
              "      <td>25.0</td>\n",
              "    </tr>\n",
              "  </tbody>\n",
              "</table>\n",
              "<p>9957 rows × 2 columns</p>\n",
              "</div>"
            ],
            "text/plain": [
              "      Real Values  Predicted Values\n",
              "0            32.0              31.0\n",
              "1            34.0              31.0\n",
              "2            16.0              13.0\n",
              "3            19.0              17.0\n",
              "4            28.0              22.0\n",
              "...           ...               ...\n",
              "9952         27.0              23.0\n",
              "9953         37.0              30.0\n",
              "9954         32.0              27.0\n",
              "9955         12.0              12.0\n",
              "9956         25.0              25.0\n",
              "\n",
              "[9957 rows x 2 columns]"
            ]
          },
          "metadata": {
            "tags": []
          },
          "execution_count": 44
        }
      ]
    },
    {
      "cell_type": "code",
      "metadata": {
        "id": "kJlX2Z6hiW88"
      },
      "source": [
        "from sklearn.metrics import mean_squared_error"
      ],
      "execution_count": null,
      "outputs": []
    },
    {
      "cell_type": "code",
      "metadata": {
        "colab": {
          "base_uri": "https://localhost:8080/",
          "height": 34
        },
        "id": "0YRSevpTiW9A",
        "outputId": "58b4f4f3-4543-4972-9498-ab80f8fb36a2"
      },
      "source": [
        "mean_squared_error(y_test,y_pred)"
      ],
      "execution_count": null,
      "outputs": [
        {
          "output_type": "execute_result",
          "data": {
            "text/plain": [
              "7.913564634368969"
            ]
          },
          "metadata": {
            "tags": []
          },
          "execution_count": 46
        }
      ]
    },
    {
      "cell_type": "code",
      "metadata": {
        "colab": {
          "base_uri": "https://localhost:8080/",
          "height": 34
        },
        "id": "t4YmZit4oOnx",
        "outputId": "d32ac821-ddd1-40f6-bf57-1e47ea7011e5"
      },
      "source": [
        "mean_absolute_error(y_test,y_pred)"
      ],
      "execution_count": null,
      "outputs": [
        {
          "output_type": "execute_result",
          "data": {
            "text/plain": [
              "1.8347824192028828"
            ]
          },
          "metadata": {
            "tags": []
          },
          "execution_count": 47
        }
      ]
    },
    {
      "cell_type": "code",
      "metadata": {
        "colab": {
          "base_uri": "https://localhost:8080/",
          "height": 34
        },
        "id": "ZvkQBMJ7iW9D",
        "outputId": "d525a374-029f-4f2d-f53a-a3afc0a591f3"
      },
      "source": [
        "y"
      ],
      "execution_count": null,
      "outputs": [
        {
          "output_type": "execute_result",
          "data": {
            "text/plain": [
              "array([30., 28., 24., ..., 27., 12., 12.])"
            ]
          },
          "metadata": {
            "tags": []
          },
          "execution_count": 48
        }
      ]
    },
    {
      "cell_type": "code",
      "metadata": {
        "colab": {
          "base_uri": "https://localhost:8080/",
          "height": 34
        },
        "id": "sNC6xJuMiW9G",
        "outputId": "69179aa5-bca9-4ed0-d1dc-f3dc07f13bee"
      },
      "source": [
        "y>50"
      ],
      "execution_count": null,
      "outputs": [
        {
          "output_type": "execute_result",
          "data": {
            "text/plain": [
              "array([False, False, False, ..., False, False, False])"
            ]
          },
          "metadata": {
            "tags": []
          },
          "execution_count": 49
        }
      ]
    },
    {
      "cell_type": "code",
      "metadata": {
        "id": "nJqMIQ-5iW9I"
      },
      "source": [
        "d=y>50"
      ],
      "execution_count": null,
      "outputs": []
    },
    {
      "cell_type": "code",
      "metadata": {
        "colab": {
          "base_uri": "https://localhost:8080/",
          "height": 34
        },
        "id": "KvUvx4kZiW9L",
        "outputId": "2e8dfc77-dc7f-4f00-9f54-dbc818aea8b4"
      },
      "source": [
        "d.size"
      ],
      "execution_count": null,
      "outputs": [
        {
          "output_type": "execute_result",
          "data": {
            "text/plain": [
              "99570"
            ]
          },
          "metadata": {
            "tags": []
          },
          "execution_count": 51
        }
      ]
    },
    {
      "cell_type": "code",
      "metadata": {
        "colab": {
          "base_uri": "https://localhost:8080/",
          "height": 84
        },
        "id": "CHO98dqIiW9N",
        "outputId": "5423b882-7b78-40c3-db50-c91bfac474c4"
      },
      "source": [
        "for i in range(0,d.size):\n",
        "    if(d[i]==True):\n",
        "        print(\"here\")"
      ],
      "execution_count": null,
      "outputs": [
        {
          "output_type": "stream",
          "text": [
            "here\n",
            "here\n",
            "here\n",
            "here\n"
          ],
          "name": "stdout"
        }
      ]
    },
    {
      "cell_type": "code",
      "metadata": {
        "id": "JuSgm63jiW9P"
      },
      "source": [
        "test=pd.read_csv(\"archive/DailyDelhiClimateTest.csv\")"
      ],
      "execution_count": 113,
      "outputs": []
    },
    {
      "cell_type": "code",
      "metadata": {
        "colab": {
          "base_uri": "https://localhost:8080/",
          "height": 402
        },
        "id": "fVm_ix7SiW9S",
        "outputId": "12d32353-e7c3-4519-aadb-82d457f515c1"
      },
      "source": [
        "test"
      ],
      "execution_count": 114,
      "outputs": [
        {
          "output_type": "execute_result",
          "data": {
            "text/html": [
              "<div>\n",
              "<style scoped>\n",
              "    .dataframe tbody tr th:only-of-type {\n",
              "        vertical-align: middle;\n",
              "    }\n",
              "\n",
              "    .dataframe tbody tr th {\n",
              "        vertical-align: top;\n",
              "    }\n",
              "\n",
              "    .dataframe thead th {\n",
              "        text-align: right;\n",
              "    }\n",
              "</style>\n",
              "<table border=\"1\" class=\"dataframe\">\n",
              "  <thead>\n",
              "    <tr style=\"text-align: right;\">\n",
              "      <th></th>\n",
              "      <th>date</th>\n",
              "      <th>meantemp</th>\n",
              "      <th>humidity</th>\n",
              "      <th>wind_speed</th>\n",
              "      <th>meanpressure</th>\n",
              "    </tr>\n",
              "  </thead>\n",
              "  <tbody>\n",
              "    <tr>\n",
              "      <th>0</th>\n",
              "      <td>2017-01-01</td>\n",
              "      <td>15.913043</td>\n",
              "      <td>85.869565</td>\n",
              "      <td>2.743478</td>\n",
              "      <td>59.000000</td>\n",
              "    </tr>\n",
              "    <tr>\n",
              "      <th>1</th>\n",
              "      <td>2017-01-02</td>\n",
              "      <td>18.500000</td>\n",
              "      <td>77.222222</td>\n",
              "      <td>2.894444</td>\n",
              "      <td>1018.277778</td>\n",
              "    </tr>\n",
              "    <tr>\n",
              "      <th>2</th>\n",
              "      <td>2017-01-03</td>\n",
              "      <td>17.111111</td>\n",
              "      <td>81.888889</td>\n",
              "      <td>4.016667</td>\n",
              "      <td>1018.333333</td>\n",
              "    </tr>\n",
              "    <tr>\n",
              "      <th>3</th>\n",
              "      <td>2017-01-04</td>\n",
              "      <td>18.700000</td>\n",
              "      <td>70.050000</td>\n",
              "      <td>4.545000</td>\n",
              "      <td>1015.700000</td>\n",
              "    </tr>\n",
              "    <tr>\n",
              "      <th>4</th>\n",
              "      <td>2017-01-05</td>\n",
              "      <td>18.388889</td>\n",
              "      <td>74.944444</td>\n",
              "      <td>3.300000</td>\n",
              "      <td>1014.333333</td>\n",
              "    </tr>\n",
              "    <tr>\n",
              "      <th>...</th>\n",
              "      <td>...</td>\n",
              "      <td>...</td>\n",
              "      <td>...</td>\n",
              "      <td>...</td>\n",
              "      <td>...</td>\n",
              "    </tr>\n",
              "    <tr>\n",
              "      <th>109</th>\n",
              "      <td>2017-04-20</td>\n",
              "      <td>34.500000</td>\n",
              "      <td>27.500000</td>\n",
              "      <td>5.562500</td>\n",
              "      <td>998.625000</td>\n",
              "    </tr>\n",
              "    <tr>\n",
              "      <th>110</th>\n",
              "      <td>2017-04-21</td>\n",
              "      <td>34.250000</td>\n",
              "      <td>39.375000</td>\n",
              "      <td>6.962500</td>\n",
              "      <td>999.875000</td>\n",
              "    </tr>\n",
              "    <tr>\n",
              "      <th>111</th>\n",
              "      <td>2017-04-22</td>\n",
              "      <td>32.900000</td>\n",
              "      <td>40.900000</td>\n",
              "      <td>8.890000</td>\n",
              "      <td>1001.600000</td>\n",
              "    </tr>\n",
              "    <tr>\n",
              "      <th>112</th>\n",
              "      <td>2017-04-23</td>\n",
              "      <td>32.875000</td>\n",
              "      <td>27.500000</td>\n",
              "      <td>9.962500</td>\n",
              "      <td>1002.125000</td>\n",
              "    </tr>\n",
              "    <tr>\n",
              "      <th>113</th>\n",
              "      <td>2017-04-24</td>\n",
              "      <td>32.000000</td>\n",
              "      <td>27.142857</td>\n",
              "      <td>12.157143</td>\n",
              "      <td>1004.142857</td>\n",
              "    </tr>\n",
              "  </tbody>\n",
              "</table>\n",
              "<p>114 rows × 5 columns</p>\n",
              "</div>"
            ],
            "text/plain": [
              "           date   meantemp   humidity  wind_speed  meanpressure\n",
              "0    2017-01-01  15.913043  85.869565    2.743478     59.000000\n",
              "1    2017-01-02  18.500000  77.222222    2.894444   1018.277778\n",
              "2    2017-01-03  17.111111  81.888889    4.016667   1018.333333\n",
              "3    2017-01-04  18.700000  70.050000    4.545000   1015.700000\n",
              "4    2017-01-05  18.388889  74.944444    3.300000   1014.333333\n",
              "..          ...        ...        ...         ...           ...\n",
              "109  2017-04-20  34.500000  27.500000    5.562500    998.625000\n",
              "110  2017-04-21  34.250000  39.375000    6.962500    999.875000\n",
              "111  2017-04-22  32.900000  40.900000    8.890000   1001.600000\n",
              "112  2017-04-23  32.875000  27.500000    9.962500   1002.125000\n",
              "113  2017-04-24  32.000000  27.142857   12.157143   1004.142857\n",
              "\n",
              "[114 rows x 5 columns]"
            ]
          },
          "metadata": {
            "tags": []
          },
          "execution_count": 114
        }
      ]
    },
    {
      "cell_type": "code",
      "metadata": {
        "id": "vwm9-gyHk3L5"
      },
      "source": [
        "def extract_year(value):\n",
        "    return (value[0:4])"
      ],
      "execution_count": 115,
      "outputs": []
    },
    {
      "cell_type": "code",
      "metadata": {
        "id": "5Ypk3k4sk27F"
      },
      "source": [
        "def extract_month(value):\n",
        "    return (value[5:7])"
      ],
      "execution_count": 116,
      "outputs": []
    },
    {
      "cell_type": "code",
      "metadata": {
        "id": "nh1raTrHk2Th"
      },
      "source": [
        "def extract_date(value):\n",
        "    return (value[8:10])"
      ],
      "execution_count": 117,
      "outputs": []
    },
    {
      "cell_type": "code",
      "metadata": {
        "id": "P0UVUXfiiW9X"
      },
      "source": [
        "test[\"year\"]=test[\"date\"].apply(lambda x : extract_year(x))"
      ],
      "execution_count": 118,
      "outputs": []
    },
    {
      "cell_type": "code",
      "metadata": {
        "id": "QlN6EjjmiW9a"
      },
      "source": [
        "test[\"month\"]=test[\"date\"].apply(lambda x : extract_month(x))"
      ],
      "execution_count": 119,
      "outputs": []
    },
    {
      "cell_type": "code",
      "metadata": {
        "id": "04dkAE_qiW9e"
      },
      "source": [
        "test[\"dat\"]=test[\"date\"].apply(lambda x : extract_date(x))"
      ],
      "execution_count": 120,
      "outputs": []
    },
    {
      "cell_type": "code",
      "metadata": {
        "colab": {
          "base_uri": "https://localhost:8080/",
          "height": 402
        },
        "id": "WtvcfWGtiW9j",
        "outputId": "9fcf9618-8498-4308-eb4d-7030cd8f8857"
      },
      "source": [
        "test"
      ],
      "execution_count": 121,
      "outputs": [
        {
          "output_type": "execute_result",
          "data": {
            "text/html": [
              "<div>\n",
              "<style scoped>\n",
              "    .dataframe tbody tr th:only-of-type {\n",
              "        vertical-align: middle;\n",
              "    }\n",
              "\n",
              "    .dataframe tbody tr th {\n",
              "        vertical-align: top;\n",
              "    }\n",
              "\n",
              "    .dataframe thead th {\n",
              "        text-align: right;\n",
              "    }\n",
              "</style>\n",
              "<table border=\"1\" class=\"dataframe\">\n",
              "  <thead>\n",
              "    <tr style=\"text-align: right;\">\n",
              "      <th></th>\n",
              "      <th>date</th>\n",
              "      <th>meantemp</th>\n",
              "      <th>humidity</th>\n",
              "      <th>wind_speed</th>\n",
              "      <th>meanpressure</th>\n",
              "      <th>year</th>\n",
              "      <th>month</th>\n",
              "      <th>dat</th>\n",
              "    </tr>\n",
              "  </thead>\n",
              "  <tbody>\n",
              "    <tr>\n",
              "      <th>0</th>\n",
              "      <td>2017-01-01</td>\n",
              "      <td>15.913043</td>\n",
              "      <td>85.869565</td>\n",
              "      <td>2.743478</td>\n",
              "      <td>59.000000</td>\n",
              "      <td>2017</td>\n",
              "      <td>01</td>\n",
              "      <td>01</td>\n",
              "    </tr>\n",
              "    <tr>\n",
              "      <th>1</th>\n",
              "      <td>2017-01-02</td>\n",
              "      <td>18.500000</td>\n",
              "      <td>77.222222</td>\n",
              "      <td>2.894444</td>\n",
              "      <td>1018.277778</td>\n",
              "      <td>2017</td>\n",
              "      <td>01</td>\n",
              "      <td>02</td>\n",
              "    </tr>\n",
              "    <tr>\n",
              "      <th>2</th>\n",
              "      <td>2017-01-03</td>\n",
              "      <td>17.111111</td>\n",
              "      <td>81.888889</td>\n",
              "      <td>4.016667</td>\n",
              "      <td>1018.333333</td>\n",
              "      <td>2017</td>\n",
              "      <td>01</td>\n",
              "      <td>03</td>\n",
              "    </tr>\n",
              "    <tr>\n",
              "      <th>3</th>\n",
              "      <td>2017-01-04</td>\n",
              "      <td>18.700000</td>\n",
              "      <td>70.050000</td>\n",
              "      <td>4.545000</td>\n",
              "      <td>1015.700000</td>\n",
              "      <td>2017</td>\n",
              "      <td>01</td>\n",
              "      <td>04</td>\n",
              "    </tr>\n",
              "    <tr>\n",
              "      <th>4</th>\n",
              "      <td>2017-01-05</td>\n",
              "      <td>18.388889</td>\n",
              "      <td>74.944444</td>\n",
              "      <td>3.300000</td>\n",
              "      <td>1014.333333</td>\n",
              "      <td>2017</td>\n",
              "      <td>01</td>\n",
              "      <td>05</td>\n",
              "    </tr>\n",
              "    <tr>\n",
              "      <th>...</th>\n",
              "      <td>...</td>\n",
              "      <td>...</td>\n",
              "      <td>...</td>\n",
              "      <td>...</td>\n",
              "      <td>...</td>\n",
              "      <td>...</td>\n",
              "      <td>...</td>\n",
              "      <td>...</td>\n",
              "    </tr>\n",
              "    <tr>\n",
              "      <th>109</th>\n",
              "      <td>2017-04-20</td>\n",
              "      <td>34.500000</td>\n",
              "      <td>27.500000</td>\n",
              "      <td>5.562500</td>\n",
              "      <td>998.625000</td>\n",
              "      <td>2017</td>\n",
              "      <td>04</td>\n",
              "      <td>20</td>\n",
              "    </tr>\n",
              "    <tr>\n",
              "      <th>110</th>\n",
              "      <td>2017-04-21</td>\n",
              "      <td>34.250000</td>\n",
              "      <td>39.375000</td>\n",
              "      <td>6.962500</td>\n",
              "      <td>999.875000</td>\n",
              "      <td>2017</td>\n",
              "      <td>04</td>\n",
              "      <td>21</td>\n",
              "    </tr>\n",
              "    <tr>\n",
              "      <th>111</th>\n",
              "      <td>2017-04-22</td>\n",
              "      <td>32.900000</td>\n",
              "      <td>40.900000</td>\n",
              "      <td>8.890000</td>\n",
              "      <td>1001.600000</td>\n",
              "      <td>2017</td>\n",
              "      <td>04</td>\n",
              "      <td>22</td>\n",
              "    </tr>\n",
              "    <tr>\n",
              "      <th>112</th>\n",
              "      <td>2017-04-23</td>\n",
              "      <td>32.875000</td>\n",
              "      <td>27.500000</td>\n",
              "      <td>9.962500</td>\n",
              "      <td>1002.125000</td>\n",
              "      <td>2017</td>\n",
              "      <td>04</td>\n",
              "      <td>23</td>\n",
              "    </tr>\n",
              "    <tr>\n",
              "      <th>113</th>\n",
              "      <td>2017-04-24</td>\n",
              "      <td>32.000000</td>\n",
              "      <td>27.142857</td>\n",
              "      <td>12.157143</td>\n",
              "      <td>1004.142857</td>\n",
              "      <td>2017</td>\n",
              "      <td>04</td>\n",
              "      <td>24</td>\n",
              "    </tr>\n",
              "  </tbody>\n",
              "</table>\n",
              "<p>114 rows × 8 columns</p>\n",
              "</div>"
            ],
            "text/plain": [
              "           date   meantemp   humidity  wind_speed  meanpressure  year month dat\n",
              "0    2017-01-01  15.913043  85.869565    2.743478     59.000000  2017    01  01\n",
              "1    2017-01-02  18.500000  77.222222    2.894444   1018.277778  2017    01  02\n",
              "2    2017-01-03  17.111111  81.888889    4.016667   1018.333333  2017    01  03\n",
              "3    2017-01-04  18.700000  70.050000    4.545000   1015.700000  2017    01  04\n",
              "4    2017-01-05  18.388889  74.944444    3.300000   1014.333333  2017    01  05\n",
              "..          ...        ...        ...         ...           ...   ...   ...  ..\n",
              "109  2017-04-20  34.500000  27.500000    5.562500    998.625000  2017    04  20\n",
              "110  2017-04-21  34.250000  39.375000    6.962500    999.875000  2017    04  21\n",
              "111  2017-04-22  32.900000  40.900000    8.890000   1001.600000  2017    04  22\n",
              "112  2017-04-23  32.875000  27.500000    9.962500   1002.125000  2017    04  23\n",
              "113  2017-04-24  32.000000  27.142857   12.157143   1004.142857  2017    04  24\n",
              "\n",
              "[114 rows x 8 columns]"
            ]
          },
          "metadata": {
            "tags": []
          },
          "execution_count": 121
        }
      ]
    },
    {
      "cell_type": "code",
      "metadata": {
        "colab": {
          "base_uri": "https://localhost:8080/"
        },
        "id": "wjKtKCdLkqgt",
        "outputId": "10a9283b-43bc-4784-dcb5-d3367c77979a"
      },
      "source": [
        "test.dtypes"
      ],
      "execution_count": 122,
      "outputs": [
        {
          "output_type": "execute_result",
          "data": {
            "text/plain": [
              "date             object\n",
              "meantemp        float64\n",
              "humidity        float64\n",
              "wind_speed      float64\n",
              "meanpressure    float64\n",
              "year             object\n",
              "month            object\n",
              "dat              object\n",
              "dtype: object"
            ]
          },
          "metadata": {
            "tags": []
          },
          "execution_count": 122
        }
      ]
    },
    {
      "cell_type": "code",
      "metadata": {
        "colab": {
          "base_uri": "https://localhost:8080/"
        },
        "id": "wGbgvgKmlsVy",
        "outputId": "8a905f50-b879-4501-c830-f8771d240754"
      },
      "source": [
        "pred=test['meantemp']\n",
        "pred"
      ],
      "execution_count": 123,
      "outputs": [
        {
          "output_type": "execute_result",
          "data": {
            "text/plain": [
              "0      15.913043\n",
              "1      18.500000\n",
              "2      17.111111\n",
              "3      18.700000\n",
              "4      18.388889\n",
              "         ...    \n",
              "109    34.500000\n",
              "110    34.250000\n",
              "111    32.900000\n",
              "112    32.875000\n",
              "113    32.000000\n",
              "Name: meantemp, Length: 114, dtype: float64"
            ]
          },
          "metadata": {
            "tags": []
          },
          "execution_count": 123
        }
      ]
    },
    {
      "cell_type": "code",
      "metadata": {
        "colab": {
          "base_uri": "https://localhost:8080/",
          "height": 402
        },
        "id": "rkJx3OQ_l3Nz",
        "outputId": "15ae7bd0-0c48-4ece-ced6-1a95b99adfa8"
      },
      "source": [
        "test.drop('meantemp',inplace=True,axis=1)\n",
        "test.drop('date',inplace=True,axis=1)\n",
        "# test.drop('meanpressure',inplace=True,axis=1)\n",
        "test"
      ],
      "execution_count": 124,
      "outputs": [
        {
          "output_type": "execute_result",
          "data": {
            "text/html": [
              "<div>\n",
              "<style scoped>\n",
              "    .dataframe tbody tr th:only-of-type {\n",
              "        vertical-align: middle;\n",
              "    }\n",
              "\n",
              "    .dataframe tbody tr th {\n",
              "        vertical-align: top;\n",
              "    }\n",
              "\n",
              "    .dataframe thead th {\n",
              "        text-align: right;\n",
              "    }\n",
              "</style>\n",
              "<table border=\"1\" class=\"dataframe\">\n",
              "  <thead>\n",
              "    <tr style=\"text-align: right;\">\n",
              "      <th></th>\n",
              "      <th>humidity</th>\n",
              "      <th>wind_speed</th>\n",
              "      <th>meanpressure</th>\n",
              "      <th>year</th>\n",
              "      <th>month</th>\n",
              "      <th>dat</th>\n",
              "    </tr>\n",
              "  </thead>\n",
              "  <tbody>\n",
              "    <tr>\n",
              "      <th>0</th>\n",
              "      <td>85.869565</td>\n",
              "      <td>2.743478</td>\n",
              "      <td>59.000000</td>\n",
              "      <td>2017</td>\n",
              "      <td>01</td>\n",
              "      <td>01</td>\n",
              "    </tr>\n",
              "    <tr>\n",
              "      <th>1</th>\n",
              "      <td>77.222222</td>\n",
              "      <td>2.894444</td>\n",
              "      <td>1018.277778</td>\n",
              "      <td>2017</td>\n",
              "      <td>01</td>\n",
              "      <td>02</td>\n",
              "    </tr>\n",
              "    <tr>\n",
              "      <th>2</th>\n",
              "      <td>81.888889</td>\n",
              "      <td>4.016667</td>\n",
              "      <td>1018.333333</td>\n",
              "      <td>2017</td>\n",
              "      <td>01</td>\n",
              "      <td>03</td>\n",
              "    </tr>\n",
              "    <tr>\n",
              "      <th>3</th>\n",
              "      <td>70.050000</td>\n",
              "      <td>4.545000</td>\n",
              "      <td>1015.700000</td>\n",
              "      <td>2017</td>\n",
              "      <td>01</td>\n",
              "      <td>04</td>\n",
              "    </tr>\n",
              "    <tr>\n",
              "      <th>4</th>\n",
              "      <td>74.944444</td>\n",
              "      <td>3.300000</td>\n",
              "      <td>1014.333333</td>\n",
              "      <td>2017</td>\n",
              "      <td>01</td>\n",
              "      <td>05</td>\n",
              "    </tr>\n",
              "    <tr>\n",
              "      <th>...</th>\n",
              "      <td>...</td>\n",
              "      <td>...</td>\n",
              "      <td>...</td>\n",
              "      <td>...</td>\n",
              "      <td>...</td>\n",
              "      <td>...</td>\n",
              "    </tr>\n",
              "    <tr>\n",
              "      <th>109</th>\n",
              "      <td>27.500000</td>\n",
              "      <td>5.562500</td>\n",
              "      <td>998.625000</td>\n",
              "      <td>2017</td>\n",
              "      <td>04</td>\n",
              "      <td>20</td>\n",
              "    </tr>\n",
              "    <tr>\n",
              "      <th>110</th>\n",
              "      <td>39.375000</td>\n",
              "      <td>6.962500</td>\n",
              "      <td>999.875000</td>\n",
              "      <td>2017</td>\n",
              "      <td>04</td>\n",
              "      <td>21</td>\n",
              "    </tr>\n",
              "    <tr>\n",
              "      <th>111</th>\n",
              "      <td>40.900000</td>\n",
              "      <td>8.890000</td>\n",
              "      <td>1001.600000</td>\n",
              "      <td>2017</td>\n",
              "      <td>04</td>\n",
              "      <td>22</td>\n",
              "    </tr>\n",
              "    <tr>\n",
              "      <th>112</th>\n",
              "      <td>27.500000</td>\n",
              "      <td>9.962500</td>\n",
              "      <td>1002.125000</td>\n",
              "      <td>2017</td>\n",
              "      <td>04</td>\n",
              "      <td>23</td>\n",
              "    </tr>\n",
              "    <tr>\n",
              "      <th>113</th>\n",
              "      <td>27.142857</td>\n",
              "      <td>12.157143</td>\n",
              "      <td>1004.142857</td>\n",
              "      <td>2017</td>\n",
              "      <td>04</td>\n",
              "      <td>24</td>\n",
              "    </tr>\n",
              "  </tbody>\n",
              "</table>\n",
              "<p>114 rows × 6 columns</p>\n",
              "</div>"
            ],
            "text/plain": [
              "      humidity  wind_speed  meanpressure  year month dat\n",
              "0    85.869565    2.743478     59.000000  2017    01  01\n",
              "1    77.222222    2.894444   1018.277778  2017    01  02\n",
              "2    81.888889    4.016667   1018.333333  2017    01  03\n",
              "3    70.050000    4.545000   1015.700000  2017    01  04\n",
              "4    74.944444    3.300000   1014.333333  2017    01  05\n",
              "..         ...         ...           ...   ...   ...  ..\n",
              "109  27.500000    5.562500    998.625000  2017    04  20\n",
              "110  39.375000    6.962500    999.875000  2017    04  21\n",
              "111  40.900000    8.890000   1001.600000  2017    04  22\n",
              "112  27.500000    9.962500   1002.125000  2017    04  23\n",
              "113  27.142857   12.157143   1004.142857  2017    04  24\n",
              "\n",
              "[114 rows x 6 columns]"
            ]
          },
          "metadata": {
            "tags": []
          },
          "execution_count": 124
        }
      ]
    },
    {
      "cell_type": "code",
      "metadata": {
        "colab": {
          "base_uri": "https://localhost:8080/"
        },
        "id": "YPj1retBmAM1",
        "outputId": "fb1bc268-17ab-451e-b731-f2b621b9498b"
      },
      "source": [
        "X=test.iloc[:,:].values\n",
        "X.shape"
      ],
      "execution_count": 125,
      "outputs": [
        {
          "output_type": "execute_result",
          "data": {
            "text/plain": [
              "(114, 6)"
            ]
          },
          "metadata": {
            "tags": []
          },
          "execution_count": 125
        }
      ]
    },
    {
      "cell_type": "code",
      "metadata": {
        "id": "_8GUEp_VMfn4"
      },
      "source": [
        "X=sc_X.fit_transform(X)"
      ],
      "execution_count": 126,
      "outputs": []
    },
    {
      "cell_type": "code",
      "metadata": {
        "colab": {
          "base_uri": "https://localhost:8080/"
        },
        "id": "K2lC4S1Xmk2L",
        "outputId": "c62be2f1-0355-4460-a1b4-09e34aa24e17"
      },
      "source": [
        "pred=pred.values\n",
        "pred.shape"
      ],
      "execution_count": 127,
      "outputs": [
        {
          "output_type": "execute_result",
          "data": {
            "text/plain": [
              "(114,)"
            ]
          },
          "metadata": {
            "tags": []
          },
          "execution_count": 127
        }
      ]
    },
    {
      "cell_type": "code",
      "metadata": {
        "id": "Ckpj-gAlm0V9"
      },
      "source": [
        "y_pred=model.predict(X)"
      ],
      "execution_count": 128,
      "outputs": []
    },
    {
      "cell_type": "code",
      "metadata": {
        "colab": {
          "base_uri": "https://localhost:8080/"
        },
        "id": "Fjpa707jm9gH",
        "outputId": "a0f450a1-f9c3-4aed-fc85-ddfbf3ee750c"
      },
      "source": [
        "y_pred=sc_Y.inverse_transform(y_pred)\n",
        "y_pred"
      ],
      "execution_count": 129,
      "outputs": [
        {
          "output_type": "execute_result",
          "data": {
            "text/plain": [
              "array([16.92307692, 16.11111111, 16.11111111, 16.11111111, 16.11111111,\n",
              "       14.75      , 16.29166667, 18.16666667, 18.16666667, 18.5       ,\n",
              "       18.5       , 18.125     , 18.125     , 18.125     , 18.125     ,\n",
              "       18.5       , 18.16666667, 18.16666667, 15.        , 14.875     ,\n",
              "       14.875     , 18.125     , 18.125     , 18.125     , 15.125     ,\n",
              "       11.08333333, 13.5       , 11.5       , 13.5       , 18.16666667,\n",
              "       18.125     , 24.13043478, 26.43478261, 24.13043478, 26.22222222,\n",
              "       24.75      , 26.22222222, 26.125     , 26.125     , 26.125     ,\n",
              "       34.58333333, 26.125     , 24.13043478, 26.43478261, 26.43478261,\n",
              "       26.43478261, 34.58333333, 34.58333333, 24.13043478, 26.125     ,\n",
              "       26.125     , 34.58333333, 32.83333333, 34.58333333, 34.58333333,\n",
              "       34.58333333, 34.58333333, 31.52631579, 31.52631579, 31.5       ,\n",
              "       31.5       , 31.5       , 31.56521739, 25.15093453, 25.15093453,\n",
              "       33.08333333, 34.58333333, 31.68181818, 34.58333333, 31.75      ,\n",
              "       29.5       , 34.58333333, 28.58333333, 29.16666667, 29.16666667,\n",
              "       34.58333333, 29.16666667, 34.58333333, 34.58333333, 34.58333333,\n",
              "       34.58333333, 28.58333333, 34.58333333, 34.58333333, 34.58333333,\n",
              "       34.58333333, 34.58333333, 34.58333333, 34.58333333, 35.73333333,\n",
              "        9.88888889, 18.        , 14.04166667, 18.        , 16.25      ,\n",
              "       18.        , 14.04166667, 14.04166667, 18.        , 18.        ,\n",
              "       18.        , 18.        , 14.04166667, 12.41176471, 14.04166667,\n",
              "       12.41176471, 14.04166667, 14.04166667, 18.        , 14.04166667,\n",
              "       14.04166667, 18.        , 18.        , 18.        ])"
            ]
          },
          "metadata": {
            "tags": []
          },
          "execution_count": 129
        }
      ]
    },
    {
      "cell_type": "code",
      "metadata": {
        "id": "vKlRFTj4MpMt",
        "outputId": "10ec722c-71ae-4724-9bf0-cce3181ebcfe",
        "colab": {
          "base_uri": "https://localhost:8080/"
        }
      },
      "source": [
        "pred"
      ],
      "execution_count": 130,
      "outputs": [
        {
          "output_type": "execute_result",
          "data": {
            "text/plain": [
              "array([15.91304348, 18.5       , 17.11111111, 18.7       , 18.38888889,\n",
              "       19.31818182, 14.70833333, 15.68421053, 14.57142857, 12.11111111,\n",
              "       11.        , 11.78947368, 13.23529412, 13.2       , 16.43478261,\n",
              "       14.65      , 11.72222222, 13.04166667, 14.61904762, 15.26315789,\n",
              "       15.39130435, 18.44      , 18.11764706, 18.34782609, 21.        ,\n",
              "       16.17857143, 16.5       , 14.86363636, 15.66666667, 16.44444444,\n",
              "       16.125     , 15.25      , 17.09090909, 15.63636364, 18.7       ,\n",
              "       18.63157895, 16.88888889, 15.125     , 15.7       , 15.375     ,\n",
              "       14.66666667, 15.625     , 16.25      , 16.33333333, 16.875     ,\n",
              "       17.57142857, 20.25      , 21.3       , 21.125     , 22.36363636,\n",
              "       23.375     , 21.83333333, 19.125     , 18.625     , 19.125     ,\n",
              "       19.        , 18.75      , 19.875     , 23.33333333, 24.46153846,\n",
              "       23.75      , 20.5       , 19.125     , 19.75      , 20.        ,\n",
              "       22.625     , 21.54545455, 20.78571429, 19.9375    , 18.53333333,\n",
              "       17.375     , 17.44444444, 18.        , 19.875     , 24.        ,\n",
              "       20.9       , 24.69230769, 24.66666667, 23.33333333, 25.        ,\n",
              "       27.25      , 28.        , 28.91666667, 26.5       , 29.1       ,\n",
              "       29.5       , 29.88888889, 31.        , 29.28571429, 30.625     ,\n",
              "       31.375     , 29.75      , 30.5       , 30.93333333, 29.23076923,\n",
              "       31.22222222, 27.        , 25.625     , 27.125     , 27.85714286,\n",
              "       29.25      , 29.25      , 29.66666667, 30.5       , 31.22222222,\n",
              "       31.        , 32.55555556, 34.        , 33.5       , 34.5       ,\n",
              "       34.25      , 32.9       , 32.875     , 32.        ])"
            ]
          },
          "metadata": {
            "tags": []
          },
          "execution_count": 130
        }
      ]
    },
    {
      "cell_type": "code",
      "metadata": {
        "id": "XrfRuI9bm_Fi"
      },
      "source": [
        "from sklearn.metrics import mean_squared_error, mean_absolute_error"
      ],
      "execution_count": 131,
      "outputs": []
    },
    {
      "cell_type": "code",
      "metadata": {
        "colab": {
          "base_uri": "https://localhost:8080/"
        },
        "id": "_OsXQjlJnOQK",
        "outputId": "1f0fba42-dec0-47f0-9942-1a8f4162e425"
      },
      "source": [
        "mean_absolute_error(y_pred,pred)"
      ],
      "execution_count": 132,
      "outputs": [
        {
          "output_type": "execute_result",
          "data": {
            "text/plain": [
              "8.917294569066609"
            ]
          },
          "metadata": {
            "tags": []
          },
          "execution_count": 132
        }
      ]
    },
    {
      "cell_type": "code",
      "metadata": {
        "id": "70TPOXmInTwh",
        "outputId": "940df6ba-eaaf-4dcf-ccac-5774182a0712",
        "colab": {
          "base_uri": "https://localhost:8080/"
        }
      },
      "source": [
        "mean_squared_error(y_pred,pred,squared=False)"
      ],
      "execution_count": 135,
      "outputs": [
        {
          "output_type": "execute_result",
          "data": {
            "text/plain": [
              "10.461286597615553"
            ]
          },
          "metadata": {
            "tags": []
          },
          "execution_count": 135
        }
      ]
    },
    {
      "cell_type": "code",
      "metadata": {
        "id": "sQFN5OJ7MxeS"
      },
      "source": [
        ""
      ],
      "execution_count": null,
      "outputs": []
    }
  ]
}