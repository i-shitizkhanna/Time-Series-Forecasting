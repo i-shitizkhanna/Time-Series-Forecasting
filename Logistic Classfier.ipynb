{
  "nbformat": 4,
  "nbformat_minor": 0,
  "metadata": {
    "kernelspec": {
      "display_name": "Python 3",
      "language": "python",
      "name": "python3"
    },
    "language_info": {
      "codemirror_mode": {
        "name": "ipython",
        "version": 3
      },
      "file_extension": ".py",
      "mimetype": "text/x-python",
      "name": "python",
      "nbconvert_exporter": "python",
      "pygments_lexer": "ipython3",
      "version": "3.7.6"
    },
    "colab": {
      "name": "Logistic Classfier.ipynb",
      "provenance": []
    }
  },
  "cells": [
    {
      "cell_type": "code",
      "metadata": {
        "id": "Gn3xhktiiW7H"
      },
      "source": [
        "import numpy as np\n",
        "# import tensorflow as tf\n",
        "import pandas as pd\n",
        "import matplotlib.pyplot as plt"
      ],
      "execution_count": 1,
      "outputs": []
    },
    {
      "cell_type": "code",
      "metadata": {
        "id": "A_tBnhqiiW7M"
      },
      "source": [
        "from numpy.random import seed\n",
        "seed(1)"
      ],
      "execution_count": 2,
      "outputs": []
    },
    {
      "cell_type": "code",
      "metadata": {
        "id": "V9InERQNiW7P",
        "outputId": "9cd9f30b-f056-43de-b423-0cfdfe6735d0",
        "colab": {
          "base_uri": "https://localhost:8080/",
          "height": 590
        }
      },
      "source": [
        "dataset=pd.read_csv(\"Data/testset.csv\")\n",
        "dataset"
      ],
      "execution_count": 3,
      "outputs": [
        {
          "output_type": "execute_result",
          "data": {
            "text/html": [
              "<div>\n",
              "<style scoped>\n",
              "    .dataframe tbody tr th:only-of-type {\n",
              "        vertical-align: middle;\n",
              "    }\n",
              "\n",
              "    .dataframe tbody tr th {\n",
              "        vertical-align: top;\n",
              "    }\n",
              "\n",
              "    .dataframe thead th {\n",
              "        text-align: right;\n",
              "    }\n",
              "</style>\n",
              "<table border=\"1\" class=\"dataframe\">\n",
              "  <thead>\n",
              "    <tr style=\"text-align: right;\">\n",
              "      <th></th>\n",
              "      <th>datetime_utc</th>\n",
              "      <th>_conds</th>\n",
              "      <th>_dewptm</th>\n",
              "      <th>_fog</th>\n",
              "      <th>_hail</th>\n",
              "      <th>_heatindexm</th>\n",
              "      <th>_hum</th>\n",
              "      <th>_precipm</th>\n",
              "      <th>_pressurem</th>\n",
              "      <th>_rain</th>\n",
              "      <th>_snow</th>\n",
              "      <th>_tempm</th>\n",
              "      <th>_thunder</th>\n",
              "      <th>_tornado</th>\n",
              "      <th>_vism</th>\n",
              "      <th>_wdird</th>\n",
              "      <th>_wdire</th>\n",
              "      <th>_wgustm</th>\n",
              "      <th>_windchillm</th>\n",
              "      <th>_wspdm</th>\n",
              "    </tr>\n",
              "  </thead>\n",
              "  <tbody>\n",
              "    <tr>\n",
              "      <th>0</th>\n",
              "      <td>19961101-11:00</td>\n",
              "      <td>Smoke</td>\n",
              "      <td>9.0</td>\n",
              "      <td>0</td>\n",
              "      <td>0</td>\n",
              "      <td>NaN</td>\n",
              "      <td>27.0</td>\n",
              "      <td>NaN</td>\n",
              "      <td>1010.0</td>\n",
              "      <td>0</td>\n",
              "      <td>0</td>\n",
              "      <td>30.0</td>\n",
              "      <td>0</td>\n",
              "      <td>0</td>\n",
              "      <td>5.00</td>\n",
              "      <td>280.0</td>\n",
              "      <td>West</td>\n",
              "      <td>NaN</td>\n",
              "      <td>NaN</td>\n",
              "      <td>7.4</td>\n",
              "    </tr>\n",
              "    <tr>\n",
              "      <th>1</th>\n",
              "      <td>19961101-12:00</td>\n",
              "      <td>Smoke</td>\n",
              "      <td>10.0</td>\n",
              "      <td>0</td>\n",
              "      <td>0</td>\n",
              "      <td>NaN</td>\n",
              "      <td>32.0</td>\n",
              "      <td>NaN</td>\n",
              "      <td>-9999.0</td>\n",
              "      <td>0</td>\n",
              "      <td>0</td>\n",
              "      <td>28.0</td>\n",
              "      <td>0</td>\n",
              "      <td>0</td>\n",
              "      <td>NaN</td>\n",
              "      <td>0.0</td>\n",
              "      <td>North</td>\n",
              "      <td>NaN</td>\n",
              "      <td>NaN</td>\n",
              "      <td>NaN</td>\n",
              "    </tr>\n",
              "    <tr>\n",
              "      <th>2</th>\n",
              "      <td>19961101-13:00</td>\n",
              "      <td>Smoke</td>\n",
              "      <td>11.0</td>\n",
              "      <td>0</td>\n",
              "      <td>0</td>\n",
              "      <td>NaN</td>\n",
              "      <td>44.0</td>\n",
              "      <td>NaN</td>\n",
              "      <td>-9999.0</td>\n",
              "      <td>0</td>\n",
              "      <td>0</td>\n",
              "      <td>24.0</td>\n",
              "      <td>0</td>\n",
              "      <td>0</td>\n",
              "      <td>NaN</td>\n",
              "      <td>0.0</td>\n",
              "      <td>North</td>\n",
              "      <td>NaN</td>\n",
              "      <td>NaN</td>\n",
              "      <td>NaN</td>\n",
              "    </tr>\n",
              "    <tr>\n",
              "      <th>3</th>\n",
              "      <td>19961101-14:00</td>\n",
              "      <td>Smoke</td>\n",
              "      <td>10.0</td>\n",
              "      <td>0</td>\n",
              "      <td>0</td>\n",
              "      <td>NaN</td>\n",
              "      <td>41.0</td>\n",
              "      <td>NaN</td>\n",
              "      <td>1010.0</td>\n",
              "      <td>0</td>\n",
              "      <td>0</td>\n",
              "      <td>24.0</td>\n",
              "      <td>0</td>\n",
              "      <td>0</td>\n",
              "      <td>2.00</td>\n",
              "      <td>0.0</td>\n",
              "      <td>North</td>\n",
              "      <td>NaN</td>\n",
              "      <td>NaN</td>\n",
              "      <td>NaN</td>\n",
              "    </tr>\n",
              "    <tr>\n",
              "      <th>4</th>\n",
              "      <td>19961101-16:00</td>\n",
              "      <td>Smoke</td>\n",
              "      <td>11.0</td>\n",
              "      <td>0</td>\n",
              "      <td>0</td>\n",
              "      <td>NaN</td>\n",
              "      <td>47.0</td>\n",
              "      <td>NaN</td>\n",
              "      <td>1011.0</td>\n",
              "      <td>0</td>\n",
              "      <td>0</td>\n",
              "      <td>23.0</td>\n",
              "      <td>0</td>\n",
              "      <td>0</td>\n",
              "      <td>1.20</td>\n",
              "      <td>0.0</td>\n",
              "      <td>North</td>\n",
              "      <td>NaN</td>\n",
              "      <td>NaN</td>\n",
              "      <td>0.0</td>\n",
              "    </tr>\n",
              "    <tr>\n",
              "      <th>...</th>\n",
              "      <td>...</td>\n",
              "      <td>...</td>\n",
              "      <td>...</td>\n",
              "      <td>...</td>\n",
              "      <td>...</td>\n",
              "      <td>...</td>\n",
              "      <td>...</td>\n",
              "      <td>...</td>\n",
              "      <td>...</td>\n",
              "      <td>...</td>\n",
              "      <td>...</td>\n",
              "      <td>...</td>\n",
              "      <td>...</td>\n",
              "      <td>...</td>\n",
              "      <td>...</td>\n",
              "      <td>...</td>\n",
              "      <td>...</td>\n",
              "      <td>...</td>\n",
              "      <td>...</td>\n",
              "      <td>...</td>\n",
              "    </tr>\n",
              "    <tr>\n",
              "      <th>99565</th>\n",
              "      <td>20161231-12:00</td>\n",
              "      <td>Partly Cloudy</td>\n",
              "      <td>15.0</td>\n",
              "      <td>0</td>\n",
              "      <td>0</td>\n",
              "      <td>NaN</td>\n",
              "      <td>77.0</td>\n",
              "      <td>NaN</td>\n",
              "      <td>1015.0</td>\n",
              "      <td>0</td>\n",
              "      <td>0</td>\n",
              "      <td>18.0</td>\n",
              "      <td>0</td>\n",
              "      <td>0</td>\n",
              "      <td>0.50</td>\n",
              "      <td>110.0</td>\n",
              "      <td>ESE</td>\n",
              "      <td>NaN</td>\n",
              "      <td>NaN</td>\n",
              "      <td>7.4</td>\n",
              "    </tr>\n",
              "    <tr>\n",
              "      <th>99566</th>\n",
              "      <td>20161231-13:00</td>\n",
              "      <td>Partly Cloudy</td>\n",
              "      <td>16.0</td>\n",
              "      <td>0</td>\n",
              "      <td>0</td>\n",
              "      <td>NaN</td>\n",
              "      <td>100.0</td>\n",
              "      <td>NaN</td>\n",
              "      <td>1014.0</td>\n",
              "      <td>0</td>\n",
              "      <td>0</td>\n",
              "      <td>16.0</td>\n",
              "      <td>0</td>\n",
              "      <td>0</td>\n",
              "      <td>0.80</td>\n",
              "      <td>90.0</td>\n",
              "      <td>East</td>\n",
              "      <td>NaN</td>\n",
              "      <td>NaN</td>\n",
              "      <td>3.7</td>\n",
              "    </tr>\n",
              "    <tr>\n",
              "      <th>99567</th>\n",
              "      <td>20161231-15:00</td>\n",
              "      <td>NaN</td>\n",
              "      <td>13.0</td>\n",
              "      <td>0</td>\n",
              "      <td>0</td>\n",
              "      <td>NaN</td>\n",
              "      <td>NaN</td>\n",
              "      <td>NaN</td>\n",
              "      <td>1016.0</td>\n",
              "      <td>0</td>\n",
              "      <td>0</td>\n",
              "      <td>NaN</td>\n",
              "      <td>0</td>\n",
              "      <td>0</td>\n",
              "      <td>0.05</td>\n",
              "      <td>10.0</td>\n",
              "      <td>North</td>\n",
              "      <td>NaN</td>\n",
              "      <td>NaN</td>\n",
              "      <td>59.3</td>\n",
              "    </tr>\n",
              "    <tr>\n",
              "      <th>99568</th>\n",
              "      <td>20161231-18:00</td>\n",
              "      <td>Patches of Fog</td>\n",
              "      <td>12.0</td>\n",
              "      <td>1</td>\n",
              "      <td>0</td>\n",
              "      <td>NaN</td>\n",
              "      <td>100.0</td>\n",
              "      <td>NaN</td>\n",
              "      <td>1016.0</td>\n",
              "      <td>0</td>\n",
              "      <td>0</td>\n",
              "      <td>12.0</td>\n",
              "      <td>0</td>\n",
              "      <td>0</td>\n",
              "      <td>0.50</td>\n",
              "      <td>NaN</td>\n",
              "      <td>NaN</td>\n",
              "      <td>NaN</td>\n",
              "      <td>NaN</td>\n",
              "      <td>0.0</td>\n",
              "    </tr>\n",
              "    <tr>\n",
              "      <th>99569</th>\n",
              "      <td>20161231-21:00</td>\n",
              "      <td>Patches of Fog</td>\n",
              "      <td>12.0</td>\n",
              "      <td>1</td>\n",
              "      <td>0</td>\n",
              "      <td>NaN</td>\n",
              "      <td>99.0</td>\n",
              "      <td>NaN</td>\n",
              "      <td>1016.0</td>\n",
              "      <td>0</td>\n",
              "      <td>0</td>\n",
              "      <td>12.0</td>\n",
              "      <td>0</td>\n",
              "      <td>0</td>\n",
              "      <td>0.50</td>\n",
              "      <td>NaN</td>\n",
              "      <td>NaN</td>\n",
              "      <td>NaN</td>\n",
              "      <td>NaN</td>\n",
              "      <td>0.0</td>\n",
              "    </tr>\n",
              "  </tbody>\n",
              "</table>\n",
              "<p>99570 rows × 20 columns</p>\n",
              "</div>"
            ],
            "text/plain": [
              "         datetime_utc          _conds  _dewptm  ...  _wgustm  _windchillm  _wspdm\n",
              "0      19961101-11:00           Smoke      9.0  ...      NaN          NaN     7.4\n",
              "1      19961101-12:00           Smoke     10.0  ...      NaN          NaN     NaN\n",
              "2      19961101-13:00           Smoke     11.0  ...      NaN          NaN     NaN\n",
              "3      19961101-14:00           Smoke     10.0  ...      NaN          NaN     NaN\n",
              "4      19961101-16:00           Smoke     11.0  ...      NaN          NaN     0.0\n",
              "...               ...             ...      ...  ...      ...          ...     ...\n",
              "99565  20161231-12:00   Partly Cloudy     15.0  ...      NaN          NaN     7.4\n",
              "99566  20161231-13:00   Partly Cloudy     16.0  ...      NaN          NaN     3.7\n",
              "99567  20161231-15:00             NaN     13.0  ...      NaN          NaN    59.3\n",
              "99568  20161231-18:00  Patches of Fog     12.0  ...      NaN          NaN     0.0\n",
              "99569  20161231-21:00  Patches of Fog     12.0  ...      NaN          NaN     0.0\n",
              "\n",
              "[99570 rows x 20 columns]"
            ]
          },
          "metadata": {
            "tags": []
          },
          "execution_count": 3
        }
      ]
    },
    {
      "cell_type": "code",
      "metadata": {
        "id": "VfQ6g4GyiW7T",
        "outputId": "4050b819-daa8-4125-e299-2d82f476ac19",
        "colab": {
          "base_uri": "https://localhost:8080/",
          "height": 84
        }
      },
      "source": [
        "dataset.columns=dataset.columns.str.replace(\"_\",\"\")\n",
        "dataset.columns=dataset.columns.str.replace(\" \",\"\")\n",
        "dataset.columns"
      ],
      "execution_count": 4,
      "outputs": [
        {
          "output_type": "execute_result",
          "data": {
            "text/plain": [
              "Index(['datetimeutc', 'conds', 'dewptm', 'fog', 'hail', 'heatindexm', 'hum',\n",
              "       'precipm', 'pressurem', 'rain', 'snow', 'tempm', 'thunder', 'tornado',\n",
              "       'vism', 'wdird', 'wdire', 'wgustm', 'windchillm', 'wspdm'],\n",
              "      dtype='object')"
            ]
          },
          "metadata": {
            "tags": []
          },
          "execution_count": 4
        }
      ]
    },
    {
      "cell_type": "code",
      "metadata": {
        "id": "HFfybCqIiW7W",
        "outputId": "4db4fcac-ef5c-4c55-8199-a5c9cff02a8e",
        "colab": {
          "base_uri": "https://localhost:8080/",
          "height": 402
        }
      },
      "source": [
        "dataset.drop(columns=[\"conds\",\"dewptm\",\"fog\",\"hail\",\"heatindexm\",\"precipm\",\"rain\",\"snow\",\"thunder\",\"tornado\",\"vism\",\"wdird\",\"wdire\",\"wgustm\",\"windchillm\"],inplace=True,axis=1)\n",
        "dataset"
      ],
      "execution_count": 5,
      "outputs": [
        {
          "output_type": "execute_result",
          "data": {
            "text/html": [
              "<div>\n",
              "<style scoped>\n",
              "    .dataframe tbody tr th:only-of-type {\n",
              "        vertical-align: middle;\n",
              "    }\n",
              "\n",
              "    .dataframe tbody tr th {\n",
              "        vertical-align: top;\n",
              "    }\n",
              "\n",
              "    .dataframe thead th {\n",
              "        text-align: right;\n",
              "    }\n",
              "</style>\n",
              "<table border=\"1\" class=\"dataframe\">\n",
              "  <thead>\n",
              "    <tr style=\"text-align: right;\">\n",
              "      <th></th>\n",
              "      <th>datetimeutc</th>\n",
              "      <th>hum</th>\n",
              "      <th>pressurem</th>\n",
              "      <th>tempm</th>\n",
              "      <th>wspdm</th>\n",
              "    </tr>\n",
              "  </thead>\n",
              "  <tbody>\n",
              "    <tr>\n",
              "      <th>0</th>\n",
              "      <td>19961101-11:00</td>\n",
              "      <td>27.0</td>\n",
              "      <td>1010.0</td>\n",
              "      <td>30.0</td>\n",
              "      <td>7.4</td>\n",
              "    </tr>\n",
              "    <tr>\n",
              "      <th>1</th>\n",
              "      <td>19961101-12:00</td>\n",
              "      <td>32.0</td>\n",
              "      <td>-9999.0</td>\n",
              "      <td>28.0</td>\n",
              "      <td>NaN</td>\n",
              "    </tr>\n",
              "    <tr>\n",
              "      <th>2</th>\n",
              "      <td>19961101-13:00</td>\n",
              "      <td>44.0</td>\n",
              "      <td>-9999.0</td>\n",
              "      <td>24.0</td>\n",
              "      <td>NaN</td>\n",
              "    </tr>\n",
              "    <tr>\n",
              "      <th>3</th>\n",
              "      <td>19961101-14:00</td>\n",
              "      <td>41.0</td>\n",
              "      <td>1010.0</td>\n",
              "      <td>24.0</td>\n",
              "      <td>NaN</td>\n",
              "    </tr>\n",
              "    <tr>\n",
              "      <th>4</th>\n",
              "      <td>19961101-16:00</td>\n",
              "      <td>47.0</td>\n",
              "      <td>1011.0</td>\n",
              "      <td>23.0</td>\n",
              "      <td>0.0</td>\n",
              "    </tr>\n",
              "    <tr>\n",
              "      <th>...</th>\n",
              "      <td>...</td>\n",
              "      <td>...</td>\n",
              "      <td>...</td>\n",
              "      <td>...</td>\n",
              "      <td>...</td>\n",
              "    </tr>\n",
              "    <tr>\n",
              "      <th>99565</th>\n",
              "      <td>20161231-12:00</td>\n",
              "      <td>77.0</td>\n",
              "      <td>1015.0</td>\n",
              "      <td>18.0</td>\n",
              "      <td>7.4</td>\n",
              "    </tr>\n",
              "    <tr>\n",
              "      <th>99566</th>\n",
              "      <td>20161231-13:00</td>\n",
              "      <td>100.0</td>\n",
              "      <td>1014.0</td>\n",
              "      <td>16.0</td>\n",
              "      <td>3.7</td>\n",
              "    </tr>\n",
              "    <tr>\n",
              "      <th>99567</th>\n",
              "      <td>20161231-15:00</td>\n",
              "      <td>NaN</td>\n",
              "      <td>1016.0</td>\n",
              "      <td>NaN</td>\n",
              "      <td>59.3</td>\n",
              "    </tr>\n",
              "    <tr>\n",
              "      <th>99568</th>\n",
              "      <td>20161231-18:00</td>\n",
              "      <td>100.0</td>\n",
              "      <td>1016.0</td>\n",
              "      <td>12.0</td>\n",
              "      <td>0.0</td>\n",
              "    </tr>\n",
              "    <tr>\n",
              "      <th>99569</th>\n",
              "      <td>20161231-21:00</td>\n",
              "      <td>99.0</td>\n",
              "      <td>1016.0</td>\n",
              "      <td>12.0</td>\n",
              "      <td>0.0</td>\n",
              "    </tr>\n",
              "  </tbody>\n",
              "</table>\n",
              "<p>99570 rows × 5 columns</p>\n",
              "</div>"
            ],
            "text/plain": [
              "          datetimeutc    hum  pressurem  tempm  wspdm\n",
              "0      19961101-11:00   27.0     1010.0   30.0    7.4\n",
              "1      19961101-12:00   32.0    -9999.0   28.0    NaN\n",
              "2      19961101-13:00   44.0    -9999.0   24.0    NaN\n",
              "3      19961101-14:00   41.0     1010.0   24.0    NaN\n",
              "4      19961101-16:00   47.0     1011.0   23.0    0.0\n",
              "...               ...    ...        ...    ...    ...\n",
              "99565  20161231-12:00   77.0     1015.0   18.0    7.4\n",
              "99566  20161231-13:00  100.0     1014.0   16.0    3.7\n",
              "99567  20161231-15:00    NaN     1016.0    NaN   59.3\n",
              "99568  20161231-18:00  100.0     1016.0   12.0    0.0\n",
              "99569  20161231-21:00   99.0     1016.0   12.0    0.0\n",
              "\n",
              "[99570 rows x 5 columns]"
            ]
          },
          "metadata": {
            "tags": []
          },
          "execution_count": 5
        }
      ]
    },
    {
      "cell_type": "code",
      "metadata": {
        "id": "uuwKVMYgiW7a",
        "outputId": "988a91a8-9f04-4190-b58d-27e68dd649f7",
        "colab": {
          "base_uri": "https://localhost:8080/",
          "height": 118
        }
      },
      "source": [
        "dataset['pressurem'].replace('-9999.0',np.nan)\n",
        "dataset.replace(0,np.nan)\n",
        "dataset.isnull().sum()"
      ],
      "execution_count": 6,
      "outputs": [
        {
          "output_type": "execute_result",
          "data": {
            "text/plain": [
              "datetimeutc       0\n",
              "hum             756\n",
              "pressurem       232\n",
              "tempm           672\n",
              "wspdm          2358\n",
              "dtype: int64"
            ]
          },
          "metadata": {
            "tags": []
          },
          "execution_count": 6
        }
      ]
    },
    {
      "cell_type": "code",
      "metadata": {
        "id": "gE4hP_fiiW7d",
        "outputId": "387e23bf-d5ea-4225-cc5d-fd4047d5865d",
        "colab": {
          "base_uri": "https://localhost:8080/",
          "height": 402
        }
      },
      "source": [
        "dataset"
      ],
      "execution_count": 7,
      "outputs": [
        {
          "output_type": "execute_result",
          "data": {
            "text/html": [
              "<div>\n",
              "<style scoped>\n",
              "    .dataframe tbody tr th:only-of-type {\n",
              "        vertical-align: middle;\n",
              "    }\n",
              "\n",
              "    .dataframe tbody tr th {\n",
              "        vertical-align: top;\n",
              "    }\n",
              "\n",
              "    .dataframe thead th {\n",
              "        text-align: right;\n",
              "    }\n",
              "</style>\n",
              "<table border=\"1\" class=\"dataframe\">\n",
              "  <thead>\n",
              "    <tr style=\"text-align: right;\">\n",
              "      <th></th>\n",
              "      <th>datetimeutc</th>\n",
              "      <th>hum</th>\n",
              "      <th>pressurem</th>\n",
              "      <th>tempm</th>\n",
              "      <th>wspdm</th>\n",
              "    </tr>\n",
              "  </thead>\n",
              "  <tbody>\n",
              "    <tr>\n",
              "      <th>0</th>\n",
              "      <td>19961101-11:00</td>\n",
              "      <td>27.0</td>\n",
              "      <td>1010.0</td>\n",
              "      <td>30.0</td>\n",
              "      <td>7.4</td>\n",
              "    </tr>\n",
              "    <tr>\n",
              "      <th>1</th>\n",
              "      <td>19961101-12:00</td>\n",
              "      <td>32.0</td>\n",
              "      <td>-9999.0</td>\n",
              "      <td>28.0</td>\n",
              "      <td>NaN</td>\n",
              "    </tr>\n",
              "    <tr>\n",
              "      <th>2</th>\n",
              "      <td>19961101-13:00</td>\n",
              "      <td>44.0</td>\n",
              "      <td>-9999.0</td>\n",
              "      <td>24.0</td>\n",
              "      <td>NaN</td>\n",
              "    </tr>\n",
              "    <tr>\n",
              "      <th>3</th>\n",
              "      <td>19961101-14:00</td>\n",
              "      <td>41.0</td>\n",
              "      <td>1010.0</td>\n",
              "      <td>24.0</td>\n",
              "      <td>NaN</td>\n",
              "    </tr>\n",
              "    <tr>\n",
              "      <th>4</th>\n",
              "      <td>19961101-16:00</td>\n",
              "      <td>47.0</td>\n",
              "      <td>1011.0</td>\n",
              "      <td>23.0</td>\n",
              "      <td>0.0</td>\n",
              "    </tr>\n",
              "    <tr>\n",
              "      <th>...</th>\n",
              "      <td>...</td>\n",
              "      <td>...</td>\n",
              "      <td>...</td>\n",
              "      <td>...</td>\n",
              "      <td>...</td>\n",
              "    </tr>\n",
              "    <tr>\n",
              "      <th>99565</th>\n",
              "      <td>20161231-12:00</td>\n",
              "      <td>77.0</td>\n",
              "      <td>1015.0</td>\n",
              "      <td>18.0</td>\n",
              "      <td>7.4</td>\n",
              "    </tr>\n",
              "    <tr>\n",
              "      <th>99566</th>\n",
              "      <td>20161231-13:00</td>\n",
              "      <td>100.0</td>\n",
              "      <td>1014.0</td>\n",
              "      <td>16.0</td>\n",
              "      <td>3.7</td>\n",
              "    </tr>\n",
              "    <tr>\n",
              "      <th>99567</th>\n",
              "      <td>20161231-15:00</td>\n",
              "      <td>NaN</td>\n",
              "      <td>1016.0</td>\n",
              "      <td>NaN</td>\n",
              "      <td>59.3</td>\n",
              "    </tr>\n",
              "    <tr>\n",
              "      <th>99568</th>\n",
              "      <td>20161231-18:00</td>\n",
              "      <td>100.0</td>\n",
              "      <td>1016.0</td>\n",
              "      <td>12.0</td>\n",
              "      <td>0.0</td>\n",
              "    </tr>\n",
              "    <tr>\n",
              "      <th>99569</th>\n",
              "      <td>20161231-21:00</td>\n",
              "      <td>99.0</td>\n",
              "      <td>1016.0</td>\n",
              "      <td>12.0</td>\n",
              "      <td>0.0</td>\n",
              "    </tr>\n",
              "  </tbody>\n",
              "</table>\n",
              "<p>99570 rows × 5 columns</p>\n",
              "</div>"
            ],
            "text/plain": [
              "          datetimeutc    hum  pressurem  tempm  wspdm\n",
              "0      19961101-11:00   27.0     1010.0   30.0    7.4\n",
              "1      19961101-12:00   32.0    -9999.0   28.0    NaN\n",
              "2      19961101-13:00   44.0    -9999.0   24.0    NaN\n",
              "3      19961101-14:00   41.0     1010.0   24.0    NaN\n",
              "4      19961101-16:00   47.0     1011.0   23.0    0.0\n",
              "...               ...    ...        ...    ...    ...\n",
              "99565  20161231-12:00   77.0     1015.0   18.0    7.4\n",
              "99566  20161231-13:00  100.0     1014.0   16.0    3.7\n",
              "99567  20161231-15:00    NaN     1016.0    NaN   59.3\n",
              "99568  20161231-18:00  100.0     1016.0   12.0    0.0\n",
              "99569  20161231-21:00   99.0     1016.0   12.0    0.0\n",
              "\n",
              "[99570 rows x 5 columns]"
            ]
          },
          "metadata": {
            "tags": []
          },
          "execution_count": 7
        }
      ]
    },
    {
      "cell_type": "code",
      "metadata": {
        "id": "GJatJxT_iW7g"
      },
      "source": [
        "hum_median=dataset[\"hum\"].median()\n",
        "dataset[\"hum\"].fillna(hum_median,inplace=True)\n",
        "pressurem_median=dataset[\"pressurem\"].median()\n",
        "dataset[\"pressurem\"].fillna(pressurem_median,inplace=True)\n",
        "wspdm_median=dataset[\"wspdm\"].median()\n",
        "dataset[\"wspdm\"].fillna(wspdm_median,inplace=True)\n",
        "tempm_median=dataset[\"tempm\"].median()\n",
        "dataset[\"tempm\"].fillna(tempm_median,inplace=True)"
      ],
      "execution_count": 8,
      "outputs": []
    },
    {
      "cell_type": "code",
      "metadata": {
        "id": "l5_fkcj6iW7j",
        "outputId": "54ecc74e-5070-44c6-9d8d-3d0c79032e5f",
        "colab": {
          "base_uri": "https://localhost:8080/",
          "height": 118
        }
      },
      "source": [
        "dataset.isnull().sum()"
      ],
      "execution_count": 9,
      "outputs": [
        {
          "output_type": "execute_result",
          "data": {
            "text/plain": [
              "datetimeutc    0\n",
              "hum            0\n",
              "pressurem      0\n",
              "tempm          0\n",
              "wspdm          0\n",
              "dtype: int64"
            ]
          },
          "metadata": {
            "tags": []
          },
          "execution_count": 9
        }
      ]
    },
    {
      "cell_type": "code",
      "metadata": {
        "id": "csKR4ycYiW7l",
        "outputId": "d47ef635-ce38-47c5-fb81-8d6918b2d7a9",
        "colab": {
          "base_uri": "https://localhost:8080/",
          "height": 402
        }
      },
      "source": [
        "dataset"
      ],
      "execution_count": 10,
      "outputs": [
        {
          "output_type": "execute_result",
          "data": {
            "text/html": [
              "<div>\n",
              "<style scoped>\n",
              "    .dataframe tbody tr th:only-of-type {\n",
              "        vertical-align: middle;\n",
              "    }\n",
              "\n",
              "    .dataframe tbody tr th {\n",
              "        vertical-align: top;\n",
              "    }\n",
              "\n",
              "    .dataframe thead th {\n",
              "        text-align: right;\n",
              "    }\n",
              "</style>\n",
              "<table border=\"1\" class=\"dataframe\">\n",
              "  <thead>\n",
              "    <tr style=\"text-align: right;\">\n",
              "      <th></th>\n",
              "      <th>datetimeutc</th>\n",
              "      <th>hum</th>\n",
              "      <th>pressurem</th>\n",
              "      <th>tempm</th>\n",
              "      <th>wspdm</th>\n",
              "    </tr>\n",
              "  </thead>\n",
              "  <tbody>\n",
              "    <tr>\n",
              "      <th>0</th>\n",
              "      <td>19961101-11:00</td>\n",
              "      <td>27.0</td>\n",
              "      <td>1010.0</td>\n",
              "      <td>30.0</td>\n",
              "      <td>7.4</td>\n",
              "    </tr>\n",
              "    <tr>\n",
              "      <th>1</th>\n",
              "      <td>19961101-12:00</td>\n",
              "      <td>32.0</td>\n",
              "      <td>-9999.0</td>\n",
              "      <td>28.0</td>\n",
              "      <td>7.4</td>\n",
              "    </tr>\n",
              "    <tr>\n",
              "      <th>2</th>\n",
              "      <td>19961101-13:00</td>\n",
              "      <td>44.0</td>\n",
              "      <td>-9999.0</td>\n",
              "      <td>24.0</td>\n",
              "      <td>7.4</td>\n",
              "    </tr>\n",
              "    <tr>\n",
              "      <th>3</th>\n",
              "      <td>19961101-14:00</td>\n",
              "      <td>41.0</td>\n",
              "      <td>1010.0</td>\n",
              "      <td>24.0</td>\n",
              "      <td>7.4</td>\n",
              "    </tr>\n",
              "    <tr>\n",
              "      <th>4</th>\n",
              "      <td>19961101-16:00</td>\n",
              "      <td>47.0</td>\n",
              "      <td>1011.0</td>\n",
              "      <td>23.0</td>\n",
              "      <td>0.0</td>\n",
              "    </tr>\n",
              "    <tr>\n",
              "      <th>...</th>\n",
              "      <td>...</td>\n",
              "      <td>...</td>\n",
              "      <td>...</td>\n",
              "      <td>...</td>\n",
              "      <td>...</td>\n",
              "    </tr>\n",
              "    <tr>\n",
              "      <th>99565</th>\n",
              "      <td>20161231-12:00</td>\n",
              "      <td>77.0</td>\n",
              "      <td>1015.0</td>\n",
              "      <td>18.0</td>\n",
              "      <td>7.4</td>\n",
              "    </tr>\n",
              "    <tr>\n",
              "      <th>99566</th>\n",
              "      <td>20161231-13:00</td>\n",
              "      <td>100.0</td>\n",
              "      <td>1014.0</td>\n",
              "      <td>16.0</td>\n",
              "      <td>3.7</td>\n",
              "    </tr>\n",
              "    <tr>\n",
              "      <th>99567</th>\n",
              "      <td>20161231-15:00</td>\n",
              "      <td>58.0</td>\n",
              "      <td>1016.0</td>\n",
              "      <td>27.0</td>\n",
              "      <td>59.3</td>\n",
              "    </tr>\n",
              "    <tr>\n",
              "      <th>99568</th>\n",
              "      <td>20161231-18:00</td>\n",
              "      <td>100.0</td>\n",
              "      <td>1016.0</td>\n",
              "      <td>12.0</td>\n",
              "      <td>0.0</td>\n",
              "    </tr>\n",
              "    <tr>\n",
              "      <th>99569</th>\n",
              "      <td>20161231-21:00</td>\n",
              "      <td>99.0</td>\n",
              "      <td>1016.0</td>\n",
              "      <td>12.0</td>\n",
              "      <td>0.0</td>\n",
              "    </tr>\n",
              "  </tbody>\n",
              "</table>\n",
              "<p>99570 rows × 5 columns</p>\n",
              "</div>"
            ],
            "text/plain": [
              "          datetimeutc    hum  pressurem  tempm  wspdm\n",
              "0      19961101-11:00   27.0     1010.0   30.0    7.4\n",
              "1      19961101-12:00   32.0    -9999.0   28.0    7.4\n",
              "2      19961101-13:00   44.0    -9999.0   24.0    7.4\n",
              "3      19961101-14:00   41.0     1010.0   24.0    7.4\n",
              "4      19961101-16:00   47.0     1011.0   23.0    0.0\n",
              "...               ...    ...        ...    ...    ...\n",
              "99565  20161231-12:00   77.0     1015.0   18.0    7.4\n",
              "99566  20161231-13:00  100.0     1014.0   16.0    3.7\n",
              "99567  20161231-15:00   58.0     1016.0   27.0   59.3\n",
              "99568  20161231-18:00  100.0     1016.0   12.0    0.0\n",
              "99569  20161231-21:00   99.0     1016.0   12.0    0.0\n",
              "\n",
              "[99570 rows x 5 columns]"
            ]
          },
          "metadata": {
            "tags": []
          },
          "execution_count": 10
        }
      ]
    },
    {
      "cell_type": "code",
      "metadata": {
        "id": "2pVH86mHiW7o"
      },
      "source": [
        "def extract_year(value):\n",
        "    return (value[0:4])"
      ],
      "execution_count": 11,
      "outputs": []
    },
    {
      "cell_type": "code",
      "metadata": {
        "id": "3k3skHhTiW7q"
      },
      "source": [
        "def extract_month(value):\n",
        "    return (value[4:6])"
      ],
      "execution_count": 12,
      "outputs": []
    },
    {
      "cell_type": "code",
      "metadata": {
        "id": "uEHyYQmriW7t"
      },
      "source": [
        "def extract_date(value):\n",
        "    return (value[6:8])"
      ],
      "execution_count": 13,
      "outputs": []
    },
    {
      "cell_type": "code",
      "metadata": {
        "id": "sb12Xv4aiW7v"
      },
      "source": [
        "dataset[\"year\"]=dataset[\"datetimeutc\"].apply(lambda x : extract_year(x))"
      ],
      "execution_count": 14,
      "outputs": []
    },
    {
      "cell_type": "code",
      "metadata": {
        "id": "HfRh_-jhiW7y"
      },
      "source": [
        "dataset[\"month\"]=dataset[\"datetimeutc\"].apply(lambda x : extract_month(x))"
      ],
      "execution_count": 15,
      "outputs": []
    },
    {
      "cell_type": "code",
      "metadata": {
        "id": "N9FlmUHviW71"
      },
      "source": [
        "dataset[\"date\"]=dataset[\"datetimeutc\"].apply(lambda x : extract_month(x))"
      ],
      "execution_count": 16,
      "outputs": []
    },
    {
      "cell_type": "code",
      "metadata": {
        "id": "JcvGwlNXiW73",
        "outputId": "c62351b9-8047-419f-8d42-b8bbda6d4fa0",
        "colab": {
          "base_uri": "https://localhost:8080/",
          "height": 386
        }
      },
      "source": [
        "dataset.year.value_counts()"
      ],
      "execution_count": 17,
      "outputs": [
        {
          "output_type": "execute_result",
          "data": {
            "text/plain": [
              "2003    13186\n",
              "2004     9151\n",
              "2002     8503\n",
              "2001     8403\n",
              "2016     6634\n",
              "1997     6513\n",
              "1999     6300\n",
              "2000     5391\n",
              "1998     3579\n",
              "2014     2973\n",
              "2015     2936\n",
              "2005     2920\n",
              "2007     2865\n",
              "2006     2858\n",
              "2008     2857\n",
              "2009     2851\n",
              "2010     2768\n",
              "2011     2738\n",
              "2012     2438\n",
              "2013     2428\n",
              "1996     1278\n",
              "Name: year, dtype: int64"
            ]
          },
          "metadata": {
            "tags": []
          },
          "execution_count": 17
        }
      ]
    },
    {
      "cell_type": "code",
      "metadata": {
        "id": "F-9jFDL4iW75",
        "outputId": "a9d79200-c329-4e8b-d179-540260024567",
        "colab": {
          "base_uri": "https://localhost:8080/",
          "height": 403
        }
      },
      "source": [
        "dataset.groupby(\"year\").tempm.mean()"
      ],
      "execution_count": 18,
      "outputs": [
        {
          "output_type": "execute_result",
          "data": {
            "text/plain": [
              "year\n",
              "1996    16.658059\n",
              "1997    24.477199\n",
              "1998    24.872031\n",
              "1999    27.333333\n",
              "2000    23.884252\n",
              "2001    25.599667\n",
              "2002    26.487005\n",
              "2003    26.182239\n",
              "2004    26.010054\n",
              "2005    24.720548\n",
              "2006    25.455213\n",
              "2007    24.813264\n",
              "2008    24.527476\n",
              "2009    25.358821\n",
              "2010    25.559610\n",
              "2011    24.968590\n",
              "2012    25.028712\n",
              "2013    24.690692\n",
              "2014    25.184326\n",
              "2015    25.148161\n",
              "2016    27.314591\n",
              "Name: tempm, dtype: float64"
            ]
          },
          "metadata": {
            "tags": []
          },
          "execution_count": 18
        }
      ]
    },
    {
      "cell_type": "code",
      "metadata": {
        "id": "-eJwjjDdiW79",
        "outputId": "d34dc512-641c-4e0a-cc2c-0df09979da94",
        "colab": {
          "base_uri": "https://localhost:8080/",
          "height": 402
        }
      },
      "source": [
        "dataset"
      ],
      "execution_count": 19,
      "outputs": [
        {
          "output_type": "execute_result",
          "data": {
            "text/html": [
              "<div>\n",
              "<style scoped>\n",
              "    .dataframe tbody tr th:only-of-type {\n",
              "        vertical-align: middle;\n",
              "    }\n",
              "\n",
              "    .dataframe tbody tr th {\n",
              "        vertical-align: top;\n",
              "    }\n",
              "\n",
              "    .dataframe thead th {\n",
              "        text-align: right;\n",
              "    }\n",
              "</style>\n",
              "<table border=\"1\" class=\"dataframe\">\n",
              "  <thead>\n",
              "    <tr style=\"text-align: right;\">\n",
              "      <th></th>\n",
              "      <th>datetimeutc</th>\n",
              "      <th>hum</th>\n",
              "      <th>pressurem</th>\n",
              "      <th>tempm</th>\n",
              "      <th>wspdm</th>\n",
              "      <th>year</th>\n",
              "      <th>month</th>\n",
              "      <th>date</th>\n",
              "    </tr>\n",
              "  </thead>\n",
              "  <tbody>\n",
              "    <tr>\n",
              "      <th>0</th>\n",
              "      <td>19961101-11:00</td>\n",
              "      <td>27.0</td>\n",
              "      <td>1010.0</td>\n",
              "      <td>30.0</td>\n",
              "      <td>7.4</td>\n",
              "      <td>1996</td>\n",
              "      <td>11</td>\n",
              "      <td>11</td>\n",
              "    </tr>\n",
              "    <tr>\n",
              "      <th>1</th>\n",
              "      <td>19961101-12:00</td>\n",
              "      <td>32.0</td>\n",
              "      <td>-9999.0</td>\n",
              "      <td>28.0</td>\n",
              "      <td>7.4</td>\n",
              "      <td>1996</td>\n",
              "      <td>11</td>\n",
              "      <td>11</td>\n",
              "    </tr>\n",
              "    <tr>\n",
              "      <th>2</th>\n",
              "      <td>19961101-13:00</td>\n",
              "      <td>44.0</td>\n",
              "      <td>-9999.0</td>\n",
              "      <td>24.0</td>\n",
              "      <td>7.4</td>\n",
              "      <td>1996</td>\n",
              "      <td>11</td>\n",
              "      <td>11</td>\n",
              "    </tr>\n",
              "    <tr>\n",
              "      <th>3</th>\n",
              "      <td>19961101-14:00</td>\n",
              "      <td>41.0</td>\n",
              "      <td>1010.0</td>\n",
              "      <td>24.0</td>\n",
              "      <td>7.4</td>\n",
              "      <td>1996</td>\n",
              "      <td>11</td>\n",
              "      <td>11</td>\n",
              "    </tr>\n",
              "    <tr>\n",
              "      <th>4</th>\n",
              "      <td>19961101-16:00</td>\n",
              "      <td>47.0</td>\n",
              "      <td>1011.0</td>\n",
              "      <td>23.0</td>\n",
              "      <td>0.0</td>\n",
              "      <td>1996</td>\n",
              "      <td>11</td>\n",
              "      <td>11</td>\n",
              "    </tr>\n",
              "    <tr>\n",
              "      <th>...</th>\n",
              "      <td>...</td>\n",
              "      <td>...</td>\n",
              "      <td>...</td>\n",
              "      <td>...</td>\n",
              "      <td>...</td>\n",
              "      <td>...</td>\n",
              "      <td>...</td>\n",
              "      <td>...</td>\n",
              "    </tr>\n",
              "    <tr>\n",
              "      <th>99565</th>\n",
              "      <td>20161231-12:00</td>\n",
              "      <td>77.0</td>\n",
              "      <td>1015.0</td>\n",
              "      <td>18.0</td>\n",
              "      <td>7.4</td>\n",
              "      <td>2016</td>\n",
              "      <td>12</td>\n",
              "      <td>12</td>\n",
              "    </tr>\n",
              "    <tr>\n",
              "      <th>99566</th>\n",
              "      <td>20161231-13:00</td>\n",
              "      <td>100.0</td>\n",
              "      <td>1014.0</td>\n",
              "      <td>16.0</td>\n",
              "      <td>3.7</td>\n",
              "      <td>2016</td>\n",
              "      <td>12</td>\n",
              "      <td>12</td>\n",
              "    </tr>\n",
              "    <tr>\n",
              "      <th>99567</th>\n",
              "      <td>20161231-15:00</td>\n",
              "      <td>58.0</td>\n",
              "      <td>1016.0</td>\n",
              "      <td>27.0</td>\n",
              "      <td>59.3</td>\n",
              "      <td>2016</td>\n",
              "      <td>12</td>\n",
              "      <td>12</td>\n",
              "    </tr>\n",
              "    <tr>\n",
              "      <th>99568</th>\n",
              "      <td>20161231-18:00</td>\n",
              "      <td>100.0</td>\n",
              "      <td>1016.0</td>\n",
              "      <td>12.0</td>\n",
              "      <td>0.0</td>\n",
              "      <td>2016</td>\n",
              "      <td>12</td>\n",
              "      <td>12</td>\n",
              "    </tr>\n",
              "    <tr>\n",
              "      <th>99569</th>\n",
              "      <td>20161231-21:00</td>\n",
              "      <td>99.0</td>\n",
              "      <td>1016.0</td>\n",
              "      <td>12.0</td>\n",
              "      <td>0.0</td>\n",
              "      <td>2016</td>\n",
              "      <td>12</td>\n",
              "      <td>12</td>\n",
              "    </tr>\n",
              "  </tbody>\n",
              "</table>\n",
              "<p>99570 rows × 8 columns</p>\n",
              "</div>"
            ],
            "text/plain": [
              "          datetimeutc    hum  pressurem  tempm  wspdm  year month date\n",
              "0      19961101-11:00   27.0     1010.0   30.0    7.4  1996    11   11\n",
              "1      19961101-12:00   32.0    -9999.0   28.0    7.4  1996    11   11\n",
              "2      19961101-13:00   44.0    -9999.0   24.0    7.4  1996    11   11\n",
              "3      19961101-14:00   41.0     1010.0   24.0    7.4  1996    11   11\n",
              "4      19961101-16:00   47.0     1011.0   23.0    0.0  1996    11   11\n",
              "...               ...    ...        ...    ...    ...   ...   ...  ...\n",
              "99565  20161231-12:00   77.0     1015.0   18.0    7.4  2016    12   12\n",
              "99566  20161231-13:00  100.0     1014.0   16.0    3.7  2016    12   12\n",
              "99567  20161231-15:00   58.0     1016.0   27.0   59.3  2016    12   12\n",
              "99568  20161231-18:00  100.0     1016.0   12.0    0.0  2016    12   12\n",
              "99569  20161231-21:00   99.0     1016.0   12.0    0.0  2016    12   12\n",
              "\n",
              "[99570 rows x 8 columns]"
            ]
          },
          "metadata": {
            "tags": []
          },
          "execution_count": 19
        }
      ]
    },
    {
      "cell_type": "code",
      "metadata": {
        "id": "GL1cX8vViW8A"
      },
      "source": [
        "dataset_forest=dataset[['hum','tempm','pressurem','wspdm','year','month','date']]"
      ],
      "execution_count": 20,
      "outputs": []
    },
    {
      "cell_type": "code",
      "metadata": {
        "id": "Rh8AdetxiW8C",
        "outputId": "4f24ab38-66c1-4161-910b-f224d2fe31a4",
        "colab": {
          "base_uri": "https://localhost:8080/",
          "height": 402
        }
      },
      "source": [
        "dataset_forest"
      ],
      "execution_count": 21,
      "outputs": [
        {
          "output_type": "execute_result",
          "data": {
            "text/html": [
              "<div>\n",
              "<style scoped>\n",
              "    .dataframe tbody tr th:only-of-type {\n",
              "        vertical-align: middle;\n",
              "    }\n",
              "\n",
              "    .dataframe tbody tr th {\n",
              "        vertical-align: top;\n",
              "    }\n",
              "\n",
              "    .dataframe thead th {\n",
              "        text-align: right;\n",
              "    }\n",
              "</style>\n",
              "<table border=\"1\" class=\"dataframe\">\n",
              "  <thead>\n",
              "    <tr style=\"text-align: right;\">\n",
              "      <th></th>\n",
              "      <th>hum</th>\n",
              "      <th>tempm</th>\n",
              "      <th>pressurem</th>\n",
              "      <th>wspdm</th>\n",
              "      <th>year</th>\n",
              "      <th>month</th>\n",
              "      <th>date</th>\n",
              "    </tr>\n",
              "  </thead>\n",
              "  <tbody>\n",
              "    <tr>\n",
              "      <th>0</th>\n",
              "      <td>27.0</td>\n",
              "      <td>30.0</td>\n",
              "      <td>1010.0</td>\n",
              "      <td>7.4</td>\n",
              "      <td>1996</td>\n",
              "      <td>11</td>\n",
              "      <td>11</td>\n",
              "    </tr>\n",
              "    <tr>\n",
              "      <th>1</th>\n",
              "      <td>32.0</td>\n",
              "      <td>28.0</td>\n",
              "      <td>-9999.0</td>\n",
              "      <td>7.4</td>\n",
              "      <td>1996</td>\n",
              "      <td>11</td>\n",
              "      <td>11</td>\n",
              "    </tr>\n",
              "    <tr>\n",
              "      <th>2</th>\n",
              "      <td>44.0</td>\n",
              "      <td>24.0</td>\n",
              "      <td>-9999.0</td>\n",
              "      <td>7.4</td>\n",
              "      <td>1996</td>\n",
              "      <td>11</td>\n",
              "      <td>11</td>\n",
              "    </tr>\n",
              "    <tr>\n",
              "      <th>3</th>\n",
              "      <td>41.0</td>\n",
              "      <td>24.0</td>\n",
              "      <td>1010.0</td>\n",
              "      <td>7.4</td>\n",
              "      <td>1996</td>\n",
              "      <td>11</td>\n",
              "      <td>11</td>\n",
              "    </tr>\n",
              "    <tr>\n",
              "      <th>4</th>\n",
              "      <td>47.0</td>\n",
              "      <td>23.0</td>\n",
              "      <td>1011.0</td>\n",
              "      <td>0.0</td>\n",
              "      <td>1996</td>\n",
              "      <td>11</td>\n",
              "      <td>11</td>\n",
              "    </tr>\n",
              "    <tr>\n",
              "      <th>...</th>\n",
              "      <td>...</td>\n",
              "      <td>...</td>\n",
              "      <td>...</td>\n",
              "      <td>...</td>\n",
              "      <td>...</td>\n",
              "      <td>...</td>\n",
              "      <td>...</td>\n",
              "    </tr>\n",
              "    <tr>\n",
              "      <th>99565</th>\n",
              "      <td>77.0</td>\n",
              "      <td>18.0</td>\n",
              "      <td>1015.0</td>\n",
              "      <td>7.4</td>\n",
              "      <td>2016</td>\n",
              "      <td>12</td>\n",
              "      <td>12</td>\n",
              "    </tr>\n",
              "    <tr>\n",
              "      <th>99566</th>\n",
              "      <td>100.0</td>\n",
              "      <td>16.0</td>\n",
              "      <td>1014.0</td>\n",
              "      <td>3.7</td>\n",
              "      <td>2016</td>\n",
              "      <td>12</td>\n",
              "      <td>12</td>\n",
              "    </tr>\n",
              "    <tr>\n",
              "      <th>99567</th>\n",
              "      <td>58.0</td>\n",
              "      <td>27.0</td>\n",
              "      <td>1016.0</td>\n",
              "      <td>59.3</td>\n",
              "      <td>2016</td>\n",
              "      <td>12</td>\n",
              "      <td>12</td>\n",
              "    </tr>\n",
              "    <tr>\n",
              "      <th>99568</th>\n",
              "      <td>100.0</td>\n",
              "      <td>12.0</td>\n",
              "      <td>1016.0</td>\n",
              "      <td>0.0</td>\n",
              "      <td>2016</td>\n",
              "      <td>12</td>\n",
              "      <td>12</td>\n",
              "    </tr>\n",
              "    <tr>\n",
              "      <th>99569</th>\n",
              "      <td>99.0</td>\n",
              "      <td>12.0</td>\n",
              "      <td>1016.0</td>\n",
              "      <td>0.0</td>\n",
              "      <td>2016</td>\n",
              "      <td>12</td>\n",
              "      <td>12</td>\n",
              "    </tr>\n",
              "  </tbody>\n",
              "</table>\n",
              "<p>99570 rows × 7 columns</p>\n",
              "</div>"
            ],
            "text/plain": [
              "         hum  tempm  pressurem  wspdm  year month date\n",
              "0       27.0   30.0     1010.0    7.4  1996    11   11\n",
              "1       32.0   28.0    -9999.0    7.4  1996    11   11\n",
              "2       44.0   24.0    -9999.0    7.4  1996    11   11\n",
              "3       41.0   24.0     1010.0    7.4  1996    11   11\n",
              "4       47.0   23.0     1011.0    0.0  1996    11   11\n",
              "...      ...    ...        ...    ...   ...   ...  ...\n",
              "99565   77.0   18.0     1015.0    7.4  2016    12   12\n",
              "99566  100.0   16.0     1014.0    3.7  2016    12   12\n",
              "99567   58.0   27.0     1016.0   59.3  2016    12   12\n",
              "99568  100.0   12.0     1016.0    0.0  2016    12   12\n",
              "99569   99.0   12.0     1016.0    0.0  2016    12   12\n",
              "\n",
              "[99570 rows x 7 columns]"
            ]
          },
          "metadata": {
            "tags": []
          },
          "execution_count": 21
        }
      ]
    },
    {
      "cell_type": "code",
      "metadata": {
        "id": "IvXdVW4PiW8E",
        "outputId": "8cd91350-664b-4e80-8ef5-2c362ed0660d",
        "colab": {
          "base_uri": "https://localhost:8080/",
          "height": 151
        }
      },
      "source": [
        "dataset_forest.dtypes"
      ],
      "execution_count": 22,
      "outputs": [
        {
          "output_type": "execute_result",
          "data": {
            "text/plain": [
              "hum          float64\n",
              "tempm        float64\n",
              "pressurem    float64\n",
              "wspdm        float64\n",
              "year          object\n",
              "month         object\n",
              "date          object\n",
              "dtype: object"
            ]
          },
          "metadata": {
            "tags": []
          },
          "execution_count": 22
        }
      ]
    },
    {
      "cell_type": "code",
      "metadata": {
        "id": "PnFjicT8iW8G",
        "outputId": "fb7053e0-996b-4a9d-9c88-3c0e0520f8a8",
        "colab": {
          "base_uri": "https://localhost:8080/",
          "height": 218
        }
      },
      "source": [
        "y=dataset_forest[\"tempm\"]\n",
        "y"
      ],
      "execution_count": 23,
      "outputs": [
        {
          "output_type": "execute_result",
          "data": {
            "text/plain": [
              "0        30.0\n",
              "1        28.0\n",
              "2        24.0\n",
              "3        24.0\n",
              "4        23.0\n",
              "         ... \n",
              "99565    18.0\n",
              "99566    16.0\n",
              "99567    27.0\n",
              "99568    12.0\n",
              "99569    12.0\n",
              "Name: tempm, Length: 99570, dtype: float64"
            ]
          },
          "metadata": {
            "tags": []
          },
          "execution_count": 23
        }
      ]
    },
    {
      "cell_type": "code",
      "metadata": {
        "id": "Cqm3hl98iW8J",
        "outputId": "18058dc9-5fd9-434e-afe0-967d4cfa93d9",
        "colab": {
          "base_uri": "https://localhost:8080/",
          "height": 101
        }
      },
      "source": [
        "dataset_forest.drop(\"tempm\",inplace=True,axis=1)"
      ],
      "execution_count": 24,
      "outputs": [
        {
          "output_type": "stream",
          "text": [
            "/usr/local/lib/python3.6/dist-packages/pandas/core/frame.py:4169: SettingWithCopyWarning: \n",
            "A value is trying to be set on a copy of a slice from a DataFrame\n",
            "\n",
            "See the caveats in the documentation: https://pandas.pydata.org/pandas-docs/stable/user_guide/indexing.html#returning-a-view-versus-a-copy\n",
            "  errors=errors,\n"
          ],
          "name": "stderr"
        }
      ]
    },
    {
      "cell_type": "code",
      "metadata": {
        "id": "2juGEKExiW8M",
        "outputId": "2b1b1806-eba1-42ec-cc0f-76dc93a740b7",
        "colab": {
          "base_uri": "https://localhost:8080/",
          "height": 34
        }
      },
      "source": [
        "dataset_forest.columns"
      ],
      "execution_count": 25,
      "outputs": [
        {
          "output_type": "execute_result",
          "data": {
            "text/plain": [
              "Index(['hum', 'pressurem', 'wspdm', 'year', 'month', 'date'], dtype='object')"
            ]
          },
          "metadata": {
            "tags": []
          },
          "execution_count": 25
        }
      ]
    },
    {
      "cell_type": "code",
      "metadata": {
        "id": "nKYwc5LPiW8O"
      },
      "source": [
        "X=dataset_forest.iloc[:,:].values\n"
      ],
      "execution_count": 26,
      "outputs": []
    },
    {
      "cell_type": "code",
      "metadata": {
        "id": "g_gPScHIiW8Q",
        "outputId": "60221105-14e9-4cc9-a8cb-b77220cc3014",
        "colab": {
          "base_uri": "https://localhost:8080/",
          "height": 34
        }
      },
      "source": [
        "X.shape"
      ],
      "execution_count": 27,
      "outputs": [
        {
          "output_type": "execute_result",
          "data": {
            "text/plain": [
              "(99570, 6)"
            ]
          },
          "metadata": {
            "tags": []
          },
          "execution_count": 27
        }
      ]
    },
    {
      "cell_type": "code",
      "metadata": {
        "id": "A2yHZbOniW8T"
      },
      "source": [
        "y=y.values\n"
      ],
      "execution_count": 28,
      "outputs": []
    },
    {
      "cell_type": "code",
      "metadata": {
        "id": "TTto8QgEiW8W",
        "outputId": "3019f4c3-dec3-4fbb-e2a2-179f6504a2b9",
        "colab": {
          "base_uri": "https://localhost:8080/",
          "height": 34
        }
      },
      "source": [
        "y.shape"
      ],
      "execution_count": 29,
      "outputs": [
        {
          "output_type": "execute_result",
          "data": {
            "text/plain": [
              "(99570,)"
            ]
          },
          "metadata": {
            "tags": []
          },
          "execution_count": 29
        }
      ]
    },
    {
      "cell_type": "code",
      "metadata": {
        "id": "ot6nWqLliW8Y"
      },
      "source": [
        "# Train and Test Part"
      ],
      "execution_count": 30,
      "outputs": []
    },
    {
      "cell_type": "code",
      "metadata": {
        "id": "dr7Sn9uXiW8a"
      },
      "source": [
        "from sklearn.model_selection import train_test_split"
      ],
      "execution_count": 31,
      "outputs": []
    },
    {
      "cell_type": "code",
      "metadata": {
        "id": "PWLmO5oSiW8g"
      },
      "source": [
        "X_train,X_test,y_train,y_test=train_test_split(X,y,test_size=0.10,random_state=0)"
      ],
      "execution_count": 32,
      "outputs": []
    },
    {
      "cell_type": "code",
      "metadata": {
        "id": "Hu851cZqiW8h",
        "outputId": "f3ce225c-9b6c-4701-db19-a6570ee4913e",
        "colab": {
          "base_uri": "https://localhost:8080/",
          "height": 84
        }
      },
      "source": [
        "print(\"Shape of X_train\", X_train.shape)\n",
        "print(\"Shape of X_test\", X_test.shape)\n",
        "print(\"Shape of y_train\", y_train.shape)\n",
        "print(\"Shape of y_test\", y_test.shape)"
      ],
      "execution_count": 33,
      "outputs": [
        {
          "output_type": "stream",
          "text": [
            "Shape of X_train (89613, 6)\n",
            "Shape of X_test (9957, 6)\n",
            "Shape of y_train (89613,)\n",
            "Shape of y_test (9957,)\n"
          ],
          "name": "stdout"
        }
      ]
    },
    {
      "cell_type": "code",
      "metadata": {
        "id": "IHB6B6USiW8k"
      },
      "source": [
        "#Create Model\n",
        "from sklearn.tree import DecisionTreeRegressor\n",
        "model=DecisionTreeRegressor(random_state=0)"
      ],
      "execution_count": 34,
      "outputs": []
    },
    {
      "cell_type": "code",
      "metadata": {
        "id": "QZalh8ekiW8l",
        "outputId": "9e4b9ccc-e659-46f8-f778-5ed6b984ab9b",
        "colab": {
          "base_uri": "https://localhost:8080/",
          "height": 118
        }
      },
      "source": [
        "model.fit(X_train,y_train)"
      ],
      "execution_count": 35,
      "outputs": [
        {
          "output_type": "execute_result",
          "data": {
            "text/plain": [
              "DecisionTreeRegressor(ccp_alpha=0.0, criterion='mse', max_depth=None,\n",
              "                      max_features=None, max_leaf_nodes=None,\n",
              "                      min_impurity_decrease=0.0, min_impurity_split=None,\n",
              "                      min_samples_leaf=1, min_samples_split=2,\n",
              "                      min_weight_fraction_leaf=0.0, presort='deprecated',\n",
              "                      random_state=0, splitter='best')"
            ]
          },
          "metadata": {
            "tags": []
          },
          "execution_count": 35
        }
      ]
    },
    {
      "cell_type": "code",
      "metadata": {
        "id": "mqKE8tDviW8o"
      },
      "source": [
        "y_pred=model.predict(X_test)"
      ],
      "execution_count": 36,
      "outputs": []
    },
    {
      "cell_type": "code",
      "metadata": {
        "id": "V_sN_J2DiW8q",
        "outputId": "e5fc8754-3ba0-4e2c-edc1-05d5d786edd6",
        "colab": {
          "base_uri": "https://localhost:8080/",
          "height": 34
        }
      },
      "source": [
        "y_pred"
      ],
      "execution_count": 37,
      "outputs": [
        {
          "output_type": "execute_result",
          "data": {
            "text/plain": [
              "array([31., 31., 13., ..., 27., 12., 25.])"
            ]
          },
          "metadata": {
            "tags": []
          },
          "execution_count": 37
        }
      ]
    },
    {
      "cell_type": "code",
      "metadata": {
        "id": "bXb-GegniW8s",
        "outputId": "c072d890-4388-4f06-c9e5-8759cae6ad45",
        "colab": {
          "base_uri": "https://localhost:8080/",
          "height": 34
        }
      },
      "source": [
        "y_test"
      ],
      "execution_count": 38,
      "outputs": [
        {
          "output_type": "execute_result",
          "data": {
            "text/plain": [
              "array([32., 34., 16., ..., 32., 12., 25.])"
            ]
          },
          "metadata": {
            "tags": []
          },
          "execution_count": 38
        }
      ]
    },
    {
      "cell_type": "code",
      "metadata": {
        "id": "39Vq2zxSiW8v",
        "outputId": "da8a4d02-1e25-4704-c325-9a976593c619",
        "colab": {
          "base_uri": "https://localhost:8080/",
          "height": 34
        }
      },
      "source": [
        "# Accuracy\n",
        "from sklearn.metrics import mean_squared_error, mean_absolute_error\n",
        "mse=mean_squared_error(y_test,y_pred)\n",
        "mae=mean_absolute_error(y_test,y_pred)\n",
        "print(f'{mse} {mae}')"
      ],
      "execution_count": 39,
      "outputs": [
        {
          "output_type": "stream",
          "text": [
            "7.913564634368969 1.8347824192028828\n"
          ],
          "name": "stdout"
        }
      ]
    },
    {
      "cell_type": "code",
      "metadata": {
        "id": "qbi4VSe2iW8x",
        "outputId": "c259ff7d-366e-4d95-b385-95bad2ec9426",
        "colab": {
          "base_uri": "https://localhost:8080/",
          "height": 34
        }
      },
      "source": [
        "y_pred.size"
      ],
      "execution_count": 40,
      "outputs": [
        {
          "output_type": "execute_result",
          "data": {
            "text/plain": [
              "9957"
            ]
          },
          "metadata": {
            "tags": []
          },
          "execution_count": 40
        }
      ]
    },
    {
      "cell_type": "code",
      "metadata": {
        "id": "WgNYZFzSiW8z",
        "outputId": "46ca502c-ec72-4211-fb9b-13c8d29a1073",
        "colab": {
          "base_uri": "https://localhost:8080/",
          "height": 34
        }
      },
      "source": [
        "avg=0\n",
        "for i in range(0,y_pred.size):\n",
        "    avg+=abs(y_pred[i]-y_test[i])\n",
        "avg"
      ],
      "execution_count": 41,
      "outputs": [
        {
          "output_type": "execute_result",
          "data": {
            "text/plain": [
              "18268.928548003103"
            ]
          },
          "metadata": {
            "tags": []
          },
          "execution_count": 41
        }
      ]
    },
    {
      "cell_type": "code",
      "metadata": {
        "id": "nzUluiJEiW82",
        "outputId": "19abc9a5-5337-4b4b-8fea-b0d2017f5252",
        "colab": {
          "base_uri": "https://localhost:8080/",
          "height": 34
        }
      },
      "source": [
        "avg/(y_pred.size)"
      ],
      "execution_count": 42,
      "outputs": [
        {
          "output_type": "execute_result",
          "data": {
            "text/plain": [
              "1.8347824192028828"
            ]
          },
          "metadata": {
            "tags": []
          },
          "execution_count": 42
        }
      ]
    },
    {
      "cell_type": "code",
      "metadata": {
        "id": "aL8RygByiW86",
        "outputId": "ae99492e-d632-4089-aa52-31b856ba8737",
        "colab": {
          "base_uri": "https://localhost:8080/",
          "height": 402
        }
      },
      "source": [
        "df = pd.DataFrame({'Real Values':y_test.reshape(-1), 'Predicted Values':y_pred.reshape(-1)})\n",
        "df"
      ],
      "execution_count": 43,
      "outputs": [
        {
          "output_type": "execute_result",
          "data": {
            "text/html": [
              "<div>\n",
              "<style scoped>\n",
              "    .dataframe tbody tr th:only-of-type {\n",
              "        vertical-align: middle;\n",
              "    }\n",
              "\n",
              "    .dataframe tbody tr th {\n",
              "        vertical-align: top;\n",
              "    }\n",
              "\n",
              "    .dataframe thead th {\n",
              "        text-align: right;\n",
              "    }\n",
              "</style>\n",
              "<table border=\"1\" class=\"dataframe\">\n",
              "  <thead>\n",
              "    <tr style=\"text-align: right;\">\n",
              "      <th></th>\n",
              "      <th>Real Values</th>\n",
              "      <th>Predicted Values</th>\n",
              "    </tr>\n",
              "  </thead>\n",
              "  <tbody>\n",
              "    <tr>\n",
              "      <th>0</th>\n",
              "      <td>32.0</td>\n",
              "      <td>31.0</td>\n",
              "    </tr>\n",
              "    <tr>\n",
              "      <th>1</th>\n",
              "      <td>34.0</td>\n",
              "      <td>31.0</td>\n",
              "    </tr>\n",
              "    <tr>\n",
              "      <th>2</th>\n",
              "      <td>16.0</td>\n",
              "      <td>13.0</td>\n",
              "    </tr>\n",
              "    <tr>\n",
              "      <th>3</th>\n",
              "      <td>19.0</td>\n",
              "      <td>17.0</td>\n",
              "    </tr>\n",
              "    <tr>\n",
              "      <th>4</th>\n",
              "      <td>28.0</td>\n",
              "      <td>22.0</td>\n",
              "    </tr>\n",
              "    <tr>\n",
              "      <th>...</th>\n",
              "      <td>...</td>\n",
              "      <td>...</td>\n",
              "    </tr>\n",
              "    <tr>\n",
              "      <th>9952</th>\n",
              "      <td>27.0</td>\n",
              "      <td>23.0</td>\n",
              "    </tr>\n",
              "    <tr>\n",
              "      <th>9953</th>\n",
              "      <td>37.0</td>\n",
              "      <td>30.0</td>\n",
              "    </tr>\n",
              "    <tr>\n",
              "      <th>9954</th>\n",
              "      <td>32.0</td>\n",
              "      <td>27.0</td>\n",
              "    </tr>\n",
              "    <tr>\n",
              "      <th>9955</th>\n",
              "      <td>12.0</td>\n",
              "      <td>12.0</td>\n",
              "    </tr>\n",
              "    <tr>\n",
              "      <th>9956</th>\n",
              "      <td>25.0</td>\n",
              "      <td>25.0</td>\n",
              "    </tr>\n",
              "  </tbody>\n",
              "</table>\n",
              "<p>9957 rows × 2 columns</p>\n",
              "</div>"
            ],
            "text/plain": [
              "      Real Values  Predicted Values\n",
              "0            32.0              31.0\n",
              "1            34.0              31.0\n",
              "2            16.0              13.0\n",
              "3            19.0              17.0\n",
              "4            28.0              22.0\n",
              "...           ...               ...\n",
              "9952         27.0              23.0\n",
              "9953         37.0              30.0\n",
              "9954         32.0              27.0\n",
              "9955         12.0              12.0\n",
              "9956         25.0              25.0\n",
              "\n",
              "[9957 rows x 2 columns]"
            ]
          },
          "metadata": {
            "tags": []
          },
          "execution_count": 43
        }
      ]
    },
    {
      "cell_type": "code",
      "metadata": {
        "id": "kJlX2Z6hiW88"
      },
      "source": [
        "from sklearn.metrics import mean_squared_error"
      ],
      "execution_count": 44,
      "outputs": []
    },
    {
      "cell_type": "code",
      "metadata": {
        "id": "0YRSevpTiW9A",
        "outputId": "58b4f4f3-4543-4972-9498-ab80f8fb36a2",
        "colab": {
          "base_uri": "https://localhost:8080/",
          "height": 34
        }
      },
      "source": [
        "mean_squared_error(y_test,y_pred)"
      ],
      "execution_count": 45,
      "outputs": [
        {
          "output_type": "execute_result",
          "data": {
            "text/plain": [
              "7.913564634368969"
            ]
          },
          "metadata": {
            "tags": []
          },
          "execution_count": 45
        }
      ]
    },
    {
      "cell_type": "code",
      "metadata": {
        "id": "t4YmZit4oOnx",
        "outputId": "d32ac821-ddd1-40f6-bf57-1e47ea7011e5",
        "colab": {
          "base_uri": "https://localhost:8080/",
          "height": 34
        }
      },
      "source": [
        "mean_absolute_error(y_test,y_pred)"
      ],
      "execution_count": 46,
      "outputs": [
        {
          "output_type": "execute_result",
          "data": {
            "text/plain": [
              "1.8347824192028828"
            ]
          },
          "metadata": {
            "tags": []
          },
          "execution_count": 46
        }
      ]
    },
    {
      "cell_type": "code",
      "metadata": {
        "id": "ZvkQBMJ7iW9D",
        "outputId": "d525a374-029f-4f2d-f53a-a3afc0a591f3",
        "colab": {
          "base_uri": "https://localhost:8080/",
          "height": 34
        }
      },
      "source": [
        "y"
      ],
      "execution_count": 47,
      "outputs": [
        {
          "output_type": "execute_result",
          "data": {
            "text/plain": [
              "array([30., 28., 24., ..., 27., 12., 12.])"
            ]
          },
          "metadata": {
            "tags": []
          },
          "execution_count": 47
        }
      ]
    },
    {
      "cell_type": "code",
      "metadata": {
        "id": "sNC6xJuMiW9G",
        "outputId": "69179aa5-bca9-4ed0-d1dc-f3dc07f13bee",
        "colab": {
          "base_uri": "https://localhost:8080/",
          "height": 34
        }
      },
      "source": [
        "y>50"
      ],
      "execution_count": 48,
      "outputs": [
        {
          "output_type": "execute_result",
          "data": {
            "text/plain": [
              "array([False, False, False, ..., False, False, False])"
            ]
          },
          "metadata": {
            "tags": []
          },
          "execution_count": 48
        }
      ]
    },
    {
      "cell_type": "code",
      "metadata": {
        "id": "nJqMIQ-5iW9I"
      },
      "source": [
        "d=y>50"
      ],
      "execution_count": 49,
      "outputs": []
    },
    {
      "cell_type": "code",
      "metadata": {
        "id": "KvUvx4kZiW9L",
        "outputId": "2e8dfc77-dc7f-4f00-9f54-dbc818aea8b4",
        "colab": {
          "base_uri": "https://localhost:8080/",
          "height": 34
        }
      },
      "source": [
        "d.size"
      ],
      "execution_count": 50,
      "outputs": [
        {
          "output_type": "execute_result",
          "data": {
            "text/plain": [
              "99570"
            ]
          },
          "metadata": {
            "tags": []
          },
          "execution_count": 50
        }
      ]
    },
    {
      "cell_type": "code",
      "metadata": {
        "id": "CHO98dqIiW9N",
        "outputId": "5423b882-7b78-40c3-db50-c91bfac474c4",
        "colab": {
          "base_uri": "https://localhost:8080/",
          "height": 84
        }
      },
      "source": [
        "for i in range(0,d.size):\n",
        "    if(d[i]==True):\n",
        "        print(\"here\")"
      ],
      "execution_count": 51,
      "outputs": [
        {
          "output_type": "stream",
          "text": [
            "here\n",
            "here\n",
            "here\n",
            "here\n"
          ],
          "name": "stdout"
        }
      ]
    },
    {
      "cell_type": "code",
      "metadata": {
        "id": "JuSgm63jiW9P"
      },
      "source": [
        "test=pd.read_csv(\"archive/DailyDelhiClimateTest.csv\")"
      ],
      "execution_count": 52,
      "outputs": []
    },
    {
      "cell_type": "code",
      "metadata": {
        "id": "fVm_ix7SiW9S",
        "outputId": "8c6ada45-2316-4e38-922a-8c0823cd6744",
        "colab": {
          "base_uri": "https://localhost:8080/",
          "height": 402
        }
      },
      "source": [
        "test"
      ],
      "execution_count": 53,
      "outputs": [
        {
          "output_type": "execute_result",
          "data": {
            "text/html": [
              "<div>\n",
              "<style scoped>\n",
              "    .dataframe tbody tr th:only-of-type {\n",
              "        vertical-align: middle;\n",
              "    }\n",
              "\n",
              "    .dataframe tbody tr th {\n",
              "        vertical-align: top;\n",
              "    }\n",
              "\n",
              "    .dataframe thead th {\n",
              "        text-align: right;\n",
              "    }\n",
              "</style>\n",
              "<table border=\"1\" class=\"dataframe\">\n",
              "  <thead>\n",
              "    <tr style=\"text-align: right;\">\n",
              "      <th></th>\n",
              "      <th>date</th>\n",
              "      <th>meantemp</th>\n",
              "      <th>humidity</th>\n",
              "      <th>wind_speed</th>\n",
              "      <th>meanpressure</th>\n",
              "    </tr>\n",
              "  </thead>\n",
              "  <tbody>\n",
              "    <tr>\n",
              "      <th>0</th>\n",
              "      <td>2017-01-01</td>\n",
              "      <td>15.913043</td>\n",
              "      <td>85.869565</td>\n",
              "      <td>2.743478</td>\n",
              "      <td>59.000000</td>\n",
              "    </tr>\n",
              "    <tr>\n",
              "      <th>1</th>\n",
              "      <td>2017-01-02</td>\n",
              "      <td>18.500000</td>\n",
              "      <td>77.222222</td>\n",
              "      <td>2.894444</td>\n",
              "      <td>1018.277778</td>\n",
              "    </tr>\n",
              "    <tr>\n",
              "      <th>2</th>\n",
              "      <td>2017-01-03</td>\n",
              "      <td>17.111111</td>\n",
              "      <td>81.888889</td>\n",
              "      <td>4.016667</td>\n",
              "      <td>1018.333333</td>\n",
              "    </tr>\n",
              "    <tr>\n",
              "      <th>3</th>\n",
              "      <td>2017-01-04</td>\n",
              "      <td>18.700000</td>\n",
              "      <td>70.050000</td>\n",
              "      <td>4.545000</td>\n",
              "      <td>1015.700000</td>\n",
              "    </tr>\n",
              "    <tr>\n",
              "      <th>4</th>\n",
              "      <td>2017-01-05</td>\n",
              "      <td>18.388889</td>\n",
              "      <td>74.944444</td>\n",
              "      <td>3.300000</td>\n",
              "      <td>1014.333333</td>\n",
              "    </tr>\n",
              "    <tr>\n",
              "      <th>...</th>\n",
              "      <td>...</td>\n",
              "      <td>...</td>\n",
              "      <td>...</td>\n",
              "      <td>...</td>\n",
              "      <td>...</td>\n",
              "    </tr>\n",
              "    <tr>\n",
              "      <th>109</th>\n",
              "      <td>2017-04-20</td>\n",
              "      <td>34.500000</td>\n",
              "      <td>27.500000</td>\n",
              "      <td>5.562500</td>\n",
              "      <td>998.625000</td>\n",
              "    </tr>\n",
              "    <tr>\n",
              "      <th>110</th>\n",
              "      <td>2017-04-21</td>\n",
              "      <td>34.250000</td>\n",
              "      <td>39.375000</td>\n",
              "      <td>6.962500</td>\n",
              "      <td>999.875000</td>\n",
              "    </tr>\n",
              "    <tr>\n",
              "      <th>111</th>\n",
              "      <td>2017-04-22</td>\n",
              "      <td>32.900000</td>\n",
              "      <td>40.900000</td>\n",
              "      <td>8.890000</td>\n",
              "      <td>1001.600000</td>\n",
              "    </tr>\n",
              "    <tr>\n",
              "      <th>112</th>\n",
              "      <td>2017-04-23</td>\n",
              "      <td>32.875000</td>\n",
              "      <td>27.500000</td>\n",
              "      <td>9.962500</td>\n",
              "      <td>1002.125000</td>\n",
              "    </tr>\n",
              "    <tr>\n",
              "      <th>113</th>\n",
              "      <td>2017-04-24</td>\n",
              "      <td>32.000000</td>\n",
              "      <td>27.142857</td>\n",
              "      <td>12.157143</td>\n",
              "      <td>1004.142857</td>\n",
              "    </tr>\n",
              "  </tbody>\n",
              "</table>\n",
              "<p>114 rows × 5 columns</p>\n",
              "</div>"
            ],
            "text/plain": [
              "           date   meantemp   humidity  wind_speed  meanpressure\n",
              "0    2017-01-01  15.913043  85.869565    2.743478     59.000000\n",
              "1    2017-01-02  18.500000  77.222222    2.894444   1018.277778\n",
              "2    2017-01-03  17.111111  81.888889    4.016667   1018.333333\n",
              "3    2017-01-04  18.700000  70.050000    4.545000   1015.700000\n",
              "4    2017-01-05  18.388889  74.944444    3.300000   1014.333333\n",
              "..          ...        ...        ...         ...           ...\n",
              "109  2017-04-20  34.500000  27.500000    5.562500    998.625000\n",
              "110  2017-04-21  34.250000  39.375000    6.962500    999.875000\n",
              "111  2017-04-22  32.900000  40.900000    8.890000   1001.600000\n",
              "112  2017-04-23  32.875000  27.500000    9.962500   1002.125000\n",
              "113  2017-04-24  32.000000  27.142857   12.157143   1004.142857\n",
              "\n",
              "[114 rows x 5 columns]"
            ]
          },
          "metadata": {
            "tags": []
          },
          "execution_count": 53
        }
      ]
    },
    {
      "cell_type": "code",
      "metadata": {
        "id": "vwm9-gyHk3L5"
      },
      "source": [
        "def extract_year(value):\n",
        "    return (value[0:4])"
      ],
      "execution_count": 54,
      "outputs": []
    },
    {
      "cell_type": "code",
      "metadata": {
        "id": "5Ypk3k4sk27F"
      },
      "source": [
        "def extract_month(value):\n",
        "    return (value[5:7])"
      ],
      "execution_count": 55,
      "outputs": []
    },
    {
      "cell_type": "code",
      "metadata": {
        "id": "nh1raTrHk2Th"
      },
      "source": [
        "def extract_date(value):\n",
        "    return (value[8:10])"
      ],
      "execution_count": 56,
      "outputs": []
    },
    {
      "cell_type": "code",
      "metadata": {
        "id": "P0UVUXfiiW9X"
      },
      "source": [
        "test[\"year\"]=test[\"date\"].apply(lambda x : extract_year(x))"
      ],
      "execution_count": 57,
      "outputs": []
    },
    {
      "cell_type": "code",
      "metadata": {
        "id": "QlN6EjjmiW9a"
      },
      "source": [
        "test[\"month\"]=test[\"date\"].apply(lambda x : extract_month(x))"
      ],
      "execution_count": 58,
      "outputs": []
    },
    {
      "cell_type": "code",
      "metadata": {
        "id": "04dkAE_qiW9e"
      },
      "source": [
        "test[\"dat\"]=test[\"date\"].apply(lambda x : extract_date(x))"
      ],
      "execution_count": 59,
      "outputs": []
    },
    {
      "cell_type": "code",
      "metadata": {
        "id": "WtvcfWGtiW9j",
        "outputId": "9390e007-e9af-4004-d1dc-82176f2deff5",
        "colab": {
          "base_uri": "https://localhost:8080/",
          "height": 402
        }
      },
      "source": [
        "test"
      ],
      "execution_count": 60,
      "outputs": [
        {
          "output_type": "execute_result",
          "data": {
            "text/html": [
              "<div>\n",
              "<style scoped>\n",
              "    .dataframe tbody tr th:only-of-type {\n",
              "        vertical-align: middle;\n",
              "    }\n",
              "\n",
              "    .dataframe tbody tr th {\n",
              "        vertical-align: top;\n",
              "    }\n",
              "\n",
              "    .dataframe thead th {\n",
              "        text-align: right;\n",
              "    }\n",
              "</style>\n",
              "<table border=\"1\" class=\"dataframe\">\n",
              "  <thead>\n",
              "    <tr style=\"text-align: right;\">\n",
              "      <th></th>\n",
              "      <th>date</th>\n",
              "      <th>meantemp</th>\n",
              "      <th>humidity</th>\n",
              "      <th>wind_speed</th>\n",
              "      <th>meanpressure</th>\n",
              "      <th>year</th>\n",
              "      <th>month</th>\n",
              "      <th>dat</th>\n",
              "    </tr>\n",
              "  </thead>\n",
              "  <tbody>\n",
              "    <tr>\n",
              "      <th>0</th>\n",
              "      <td>2017-01-01</td>\n",
              "      <td>15.913043</td>\n",
              "      <td>85.869565</td>\n",
              "      <td>2.743478</td>\n",
              "      <td>59.000000</td>\n",
              "      <td>2017</td>\n",
              "      <td>01</td>\n",
              "      <td>01</td>\n",
              "    </tr>\n",
              "    <tr>\n",
              "      <th>1</th>\n",
              "      <td>2017-01-02</td>\n",
              "      <td>18.500000</td>\n",
              "      <td>77.222222</td>\n",
              "      <td>2.894444</td>\n",
              "      <td>1018.277778</td>\n",
              "      <td>2017</td>\n",
              "      <td>01</td>\n",
              "      <td>02</td>\n",
              "    </tr>\n",
              "    <tr>\n",
              "      <th>2</th>\n",
              "      <td>2017-01-03</td>\n",
              "      <td>17.111111</td>\n",
              "      <td>81.888889</td>\n",
              "      <td>4.016667</td>\n",
              "      <td>1018.333333</td>\n",
              "      <td>2017</td>\n",
              "      <td>01</td>\n",
              "      <td>03</td>\n",
              "    </tr>\n",
              "    <tr>\n",
              "      <th>3</th>\n",
              "      <td>2017-01-04</td>\n",
              "      <td>18.700000</td>\n",
              "      <td>70.050000</td>\n",
              "      <td>4.545000</td>\n",
              "      <td>1015.700000</td>\n",
              "      <td>2017</td>\n",
              "      <td>01</td>\n",
              "      <td>04</td>\n",
              "    </tr>\n",
              "    <tr>\n",
              "      <th>4</th>\n",
              "      <td>2017-01-05</td>\n",
              "      <td>18.388889</td>\n",
              "      <td>74.944444</td>\n",
              "      <td>3.300000</td>\n",
              "      <td>1014.333333</td>\n",
              "      <td>2017</td>\n",
              "      <td>01</td>\n",
              "      <td>05</td>\n",
              "    </tr>\n",
              "    <tr>\n",
              "      <th>...</th>\n",
              "      <td>...</td>\n",
              "      <td>...</td>\n",
              "      <td>...</td>\n",
              "      <td>...</td>\n",
              "      <td>...</td>\n",
              "      <td>...</td>\n",
              "      <td>...</td>\n",
              "      <td>...</td>\n",
              "    </tr>\n",
              "    <tr>\n",
              "      <th>109</th>\n",
              "      <td>2017-04-20</td>\n",
              "      <td>34.500000</td>\n",
              "      <td>27.500000</td>\n",
              "      <td>5.562500</td>\n",
              "      <td>998.625000</td>\n",
              "      <td>2017</td>\n",
              "      <td>04</td>\n",
              "      <td>20</td>\n",
              "    </tr>\n",
              "    <tr>\n",
              "      <th>110</th>\n",
              "      <td>2017-04-21</td>\n",
              "      <td>34.250000</td>\n",
              "      <td>39.375000</td>\n",
              "      <td>6.962500</td>\n",
              "      <td>999.875000</td>\n",
              "      <td>2017</td>\n",
              "      <td>04</td>\n",
              "      <td>21</td>\n",
              "    </tr>\n",
              "    <tr>\n",
              "      <th>111</th>\n",
              "      <td>2017-04-22</td>\n",
              "      <td>32.900000</td>\n",
              "      <td>40.900000</td>\n",
              "      <td>8.890000</td>\n",
              "      <td>1001.600000</td>\n",
              "      <td>2017</td>\n",
              "      <td>04</td>\n",
              "      <td>22</td>\n",
              "    </tr>\n",
              "    <tr>\n",
              "      <th>112</th>\n",
              "      <td>2017-04-23</td>\n",
              "      <td>32.875000</td>\n",
              "      <td>27.500000</td>\n",
              "      <td>9.962500</td>\n",
              "      <td>1002.125000</td>\n",
              "      <td>2017</td>\n",
              "      <td>04</td>\n",
              "      <td>23</td>\n",
              "    </tr>\n",
              "    <tr>\n",
              "      <th>113</th>\n",
              "      <td>2017-04-24</td>\n",
              "      <td>32.000000</td>\n",
              "      <td>27.142857</td>\n",
              "      <td>12.157143</td>\n",
              "      <td>1004.142857</td>\n",
              "      <td>2017</td>\n",
              "      <td>04</td>\n",
              "      <td>24</td>\n",
              "    </tr>\n",
              "  </tbody>\n",
              "</table>\n",
              "<p>114 rows × 8 columns</p>\n",
              "</div>"
            ],
            "text/plain": [
              "           date   meantemp   humidity  wind_speed  meanpressure  year month dat\n",
              "0    2017-01-01  15.913043  85.869565    2.743478     59.000000  2017    01  01\n",
              "1    2017-01-02  18.500000  77.222222    2.894444   1018.277778  2017    01  02\n",
              "2    2017-01-03  17.111111  81.888889    4.016667   1018.333333  2017    01  03\n",
              "3    2017-01-04  18.700000  70.050000    4.545000   1015.700000  2017    01  04\n",
              "4    2017-01-05  18.388889  74.944444    3.300000   1014.333333  2017    01  05\n",
              "..          ...        ...        ...         ...           ...   ...   ...  ..\n",
              "109  2017-04-20  34.500000  27.500000    5.562500    998.625000  2017    04  20\n",
              "110  2017-04-21  34.250000  39.375000    6.962500    999.875000  2017    04  21\n",
              "111  2017-04-22  32.900000  40.900000    8.890000   1001.600000  2017    04  22\n",
              "112  2017-04-23  32.875000  27.500000    9.962500   1002.125000  2017    04  23\n",
              "113  2017-04-24  32.000000  27.142857   12.157143   1004.142857  2017    04  24\n",
              "\n",
              "[114 rows x 8 columns]"
            ]
          },
          "metadata": {
            "tags": []
          },
          "execution_count": 60
        }
      ]
    },
    {
      "cell_type": "code",
      "metadata": {
        "id": "wjKtKCdLkqgt",
        "outputId": "f2dfae0c-4ac9-46f5-bbfa-c7549c4edbd2",
        "colab": {
          "base_uri": "https://localhost:8080/",
          "height": 168
        }
      },
      "source": [
        "test.dtypes"
      ],
      "execution_count": 61,
      "outputs": [
        {
          "output_type": "execute_result",
          "data": {
            "text/plain": [
              "date             object\n",
              "meantemp        float64\n",
              "humidity        float64\n",
              "wind_speed      float64\n",
              "meanpressure    float64\n",
              "year             object\n",
              "month            object\n",
              "dat              object\n",
              "dtype: object"
            ]
          },
          "metadata": {
            "tags": []
          },
          "execution_count": 61
        }
      ]
    },
    {
      "cell_type": "code",
      "metadata": {
        "id": "wGbgvgKmlsVy",
        "outputId": "0e043b49-8bc8-4057-d7ae-ce505ad6a655",
        "colab": {
          "base_uri": "https://localhost:8080/",
          "height": 218
        }
      },
      "source": [
        "pred=test['meantemp']\n",
        "pred"
      ],
      "execution_count": 62,
      "outputs": [
        {
          "output_type": "execute_result",
          "data": {
            "text/plain": [
              "0      15.913043\n",
              "1      18.500000\n",
              "2      17.111111\n",
              "3      18.700000\n",
              "4      18.388889\n",
              "         ...    \n",
              "109    34.500000\n",
              "110    34.250000\n",
              "111    32.900000\n",
              "112    32.875000\n",
              "113    32.000000\n",
              "Name: meantemp, Length: 114, dtype: float64"
            ]
          },
          "metadata": {
            "tags": []
          },
          "execution_count": 62
        }
      ]
    },
    {
      "cell_type": "code",
      "metadata": {
        "id": "rkJx3OQ_l3Nz",
        "outputId": "76e9bbf6-d674-4e09-980e-970dc9e63f8c",
        "colab": {
          "base_uri": "https://localhost:8080/",
          "height": 402
        }
      },
      "source": [
        "test.drop('meantemp',inplace=True,axis=1)\n",
        "test.drop('date',inplace=True,axis=1)\n",
        "# test.drop('meanpressure',inplace=True,axis=1)\n",
        "test"
      ],
      "execution_count": 63,
      "outputs": [
        {
          "output_type": "execute_result",
          "data": {
            "text/html": [
              "<div>\n",
              "<style scoped>\n",
              "    .dataframe tbody tr th:only-of-type {\n",
              "        vertical-align: middle;\n",
              "    }\n",
              "\n",
              "    .dataframe tbody tr th {\n",
              "        vertical-align: top;\n",
              "    }\n",
              "\n",
              "    .dataframe thead th {\n",
              "        text-align: right;\n",
              "    }\n",
              "</style>\n",
              "<table border=\"1\" class=\"dataframe\">\n",
              "  <thead>\n",
              "    <tr style=\"text-align: right;\">\n",
              "      <th></th>\n",
              "      <th>humidity</th>\n",
              "      <th>wind_speed</th>\n",
              "      <th>meanpressure</th>\n",
              "      <th>year</th>\n",
              "      <th>month</th>\n",
              "      <th>dat</th>\n",
              "    </tr>\n",
              "  </thead>\n",
              "  <tbody>\n",
              "    <tr>\n",
              "      <th>0</th>\n",
              "      <td>85.869565</td>\n",
              "      <td>2.743478</td>\n",
              "      <td>59.000000</td>\n",
              "      <td>2017</td>\n",
              "      <td>01</td>\n",
              "      <td>01</td>\n",
              "    </tr>\n",
              "    <tr>\n",
              "      <th>1</th>\n",
              "      <td>77.222222</td>\n",
              "      <td>2.894444</td>\n",
              "      <td>1018.277778</td>\n",
              "      <td>2017</td>\n",
              "      <td>01</td>\n",
              "      <td>02</td>\n",
              "    </tr>\n",
              "    <tr>\n",
              "      <th>2</th>\n",
              "      <td>81.888889</td>\n",
              "      <td>4.016667</td>\n",
              "      <td>1018.333333</td>\n",
              "      <td>2017</td>\n",
              "      <td>01</td>\n",
              "      <td>03</td>\n",
              "    </tr>\n",
              "    <tr>\n",
              "      <th>3</th>\n",
              "      <td>70.050000</td>\n",
              "      <td>4.545000</td>\n",
              "      <td>1015.700000</td>\n",
              "      <td>2017</td>\n",
              "      <td>01</td>\n",
              "      <td>04</td>\n",
              "    </tr>\n",
              "    <tr>\n",
              "      <th>4</th>\n",
              "      <td>74.944444</td>\n",
              "      <td>3.300000</td>\n",
              "      <td>1014.333333</td>\n",
              "      <td>2017</td>\n",
              "      <td>01</td>\n",
              "      <td>05</td>\n",
              "    </tr>\n",
              "    <tr>\n",
              "      <th>...</th>\n",
              "      <td>...</td>\n",
              "      <td>...</td>\n",
              "      <td>...</td>\n",
              "      <td>...</td>\n",
              "      <td>...</td>\n",
              "      <td>...</td>\n",
              "    </tr>\n",
              "    <tr>\n",
              "      <th>109</th>\n",
              "      <td>27.500000</td>\n",
              "      <td>5.562500</td>\n",
              "      <td>998.625000</td>\n",
              "      <td>2017</td>\n",
              "      <td>04</td>\n",
              "      <td>20</td>\n",
              "    </tr>\n",
              "    <tr>\n",
              "      <th>110</th>\n",
              "      <td>39.375000</td>\n",
              "      <td>6.962500</td>\n",
              "      <td>999.875000</td>\n",
              "      <td>2017</td>\n",
              "      <td>04</td>\n",
              "      <td>21</td>\n",
              "    </tr>\n",
              "    <tr>\n",
              "      <th>111</th>\n",
              "      <td>40.900000</td>\n",
              "      <td>8.890000</td>\n",
              "      <td>1001.600000</td>\n",
              "      <td>2017</td>\n",
              "      <td>04</td>\n",
              "      <td>22</td>\n",
              "    </tr>\n",
              "    <tr>\n",
              "      <th>112</th>\n",
              "      <td>27.500000</td>\n",
              "      <td>9.962500</td>\n",
              "      <td>1002.125000</td>\n",
              "      <td>2017</td>\n",
              "      <td>04</td>\n",
              "      <td>23</td>\n",
              "    </tr>\n",
              "    <tr>\n",
              "      <th>113</th>\n",
              "      <td>27.142857</td>\n",
              "      <td>12.157143</td>\n",
              "      <td>1004.142857</td>\n",
              "      <td>2017</td>\n",
              "      <td>04</td>\n",
              "      <td>24</td>\n",
              "    </tr>\n",
              "  </tbody>\n",
              "</table>\n",
              "<p>114 rows × 6 columns</p>\n",
              "</div>"
            ],
            "text/plain": [
              "      humidity  wind_speed  meanpressure  year month dat\n",
              "0    85.869565    2.743478     59.000000  2017    01  01\n",
              "1    77.222222    2.894444   1018.277778  2017    01  02\n",
              "2    81.888889    4.016667   1018.333333  2017    01  03\n",
              "3    70.050000    4.545000   1015.700000  2017    01  04\n",
              "4    74.944444    3.300000   1014.333333  2017    01  05\n",
              "..         ...         ...           ...   ...   ...  ..\n",
              "109  27.500000    5.562500    998.625000  2017    04  20\n",
              "110  39.375000    6.962500    999.875000  2017    04  21\n",
              "111  40.900000    8.890000   1001.600000  2017    04  22\n",
              "112  27.500000    9.962500   1002.125000  2017    04  23\n",
              "113  27.142857   12.157143   1004.142857  2017    04  24\n",
              "\n",
              "[114 rows x 6 columns]"
            ]
          },
          "metadata": {
            "tags": []
          },
          "execution_count": 63
        }
      ]
    },
    {
      "cell_type": "code",
      "metadata": {
        "id": "YPj1retBmAM1",
        "outputId": "a6acb245-4a9c-454f-8267-d47c8879ca13",
        "colab": {
          "base_uri": "https://localhost:8080/",
          "height": 34
        }
      },
      "source": [
        "X=test.iloc[:,:].values\n",
        "X.shape"
      ],
      "execution_count": 64,
      "outputs": [
        {
          "output_type": "execute_result",
          "data": {
            "text/plain": [
              "(114, 6)"
            ]
          },
          "metadata": {
            "tags": []
          },
          "execution_count": 64
        }
      ]
    },
    {
      "cell_type": "code",
      "metadata": {
        "id": "K2lC4S1Xmk2L",
        "outputId": "c655ae89-3c2a-4e93-f2de-ebe8b82e1716",
        "colab": {
          "base_uri": "https://localhost:8080/",
          "height": 34
        }
      },
      "source": [
        "pred=pred.values\n",
        "pred.shape"
      ],
      "execution_count": 65,
      "outputs": [
        {
          "output_type": "execute_result",
          "data": {
            "text/plain": [
              "(114,)"
            ]
          },
          "metadata": {
            "tags": []
          },
          "execution_count": 65
        }
      ]
    },
    {
      "cell_type": "code",
      "metadata": {
        "id": "Ckpj-gAlm0V9"
      },
      "source": [
        "y_pred=model.predict(X)"
      ],
      "execution_count": 66,
      "outputs": []
    },
    {
      "cell_type": "code",
      "metadata": {
        "id": "Fjpa707jm9gH",
        "outputId": "2d213728-fce2-44c8-f57e-19b14f0d926f",
        "colab": {
          "base_uri": "https://localhost:8080/",
          "height": 168
        }
      },
      "source": [
        "y_pred"
      ],
      "execution_count": 67,
      "outputs": [
        {
          "output_type": "execute_result",
          "data": {
            "text/plain": [
              "array([13., 22., 19., 21., 23., 20., 19., 18., 22., 22., 22., 23., 18.,\n",
              "       21., 18., 21., 18., 21., 23., 18., 22., 23., 23., 18., 21., 21.,\n",
              "       21., 18., 19., 21., 23., 22., 19., 21., 21., 21., 21., 22., 18.,\n",
              "       18., 22., 22., 21., 18., 22., 18., 21., 22., 22., 18., 22., 21.,\n",
              "       21., 36., 38., 36., 22., 34., 28., 15., 26., 33., 33., 36., 36.,\n",
              "       36., 21., 21., 18., 22., 21., 36., 21., 23., 36., 22., 36., 28.,\n",
              "       23., 36., 36., 36., 35., 35., 35., 35., 36., 35., 35., 35., 20.,\n",
              "       20., 39., 39., 36., 39., 39., 39., 38., 38., 38., 39., 39., 35.,\n",
              "       39., 35., 35., 39., 41., 39., 35., 36., 39., 39.])"
            ]
          },
          "metadata": {
            "tags": []
          },
          "execution_count": 67
        }
      ]
    },
    {
      "cell_type": "code",
      "metadata": {
        "id": "XrfRuI9bm_Fi"
      },
      "source": [
        "from sklearn.metrics import mean_squared_error, mean_absolute_error"
      ],
      "execution_count": 68,
      "outputs": []
    },
    {
      "cell_type": "code",
      "metadata": {
        "id": "_OsXQjlJnOQK",
        "outputId": "e88fd1ab-66c9-4e20-9b13-59ea65a63f3c",
        "colab": {
          "base_uri": "https://localhost:8080/",
          "height": 34
        }
      },
      "source": [
        "mean_absolute_error(y_pred,pred)"
      ],
      "execution_count": 69,
      "outputs": [
        {
          "output_type": "execute_result",
          "data": {
            "text/plain": [
              "6.115616967535153"
            ]
          },
          "metadata": {
            "tags": []
          },
          "execution_count": 69
        }
      ]
    },
    {
      "cell_type": "code",
      "metadata": {
        "id": "70TPOXmInTwh"
      },
      "source": [
        ""
      ],
      "execution_count": 69,
      "outputs": []
    }
  ]
}