{
  "nbformat": 4,
  "nbformat_minor": 0,
  "metadata": {
    "colab": {
      "name": "Support Vector Regression.ipynb",
      "provenance": [],
      "authorship_tag": "ABX9TyN9Yyp1y2aowWIFjRfGNRVz",
      "include_colab_link": true
    },
    "kernelspec": {
      "name": "python3",
      "display_name": "Python 3"
    }
  },
  "cells": [
    {
      "cell_type": "markdown",
      "metadata": {
        "id": "view-in-github",
        "colab_type": "text"
      },
      "source": [
        "<a href=\"https://colab.research.google.com/github/shitizz24/Time-Series-Forecasting/blob/master/Support_Vector_Regression.ipynb\" target=\"_parent\"><img src=\"https://colab.research.google.com/assets/colab-badge.svg\" alt=\"Open In Colab\"/></a>"
      ]
    },
    {
      "cell_type": "code",
      "metadata": {
        "id": "l87ugVz5jo0d"
      },
      "source": [
        "import numpy as np\n",
        "# import tensorflow as tf\n",
        "import pandas as pd\n",
        "import matplotlib.pyplot as plt"
      ],
      "execution_count": 62,
      "outputs": []
    },
    {
      "cell_type": "code",
      "metadata": {
        "id": "tLlDD-KWjxOW"
      },
      "source": [
        "from numpy.random import seed\n",
        "seed(1)"
      ],
      "execution_count": 63,
      "outputs": []
    },
    {
      "cell_type": "code",
      "metadata": {
        "colab": {
          "base_uri": "https://localhost:8080/",
          "height": 590
        },
        "id": "5vXhfWTBj__I",
        "outputId": "edc7803d-441d-4fe2-9755-e37cae65ac68"
      },
      "source": [
        "dataset=pd.read_csv(\"Data/testset.csv\")\n",
        "dataset"
      ],
      "execution_count": 64,
      "outputs": [
        {
          "output_type": "execute_result",
          "data": {
            "text/html": [
              "<div>\n",
              "<style scoped>\n",
              "    .dataframe tbody tr th:only-of-type {\n",
              "        vertical-align: middle;\n",
              "    }\n",
              "\n",
              "    .dataframe tbody tr th {\n",
              "        vertical-align: top;\n",
              "    }\n",
              "\n",
              "    .dataframe thead th {\n",
              "        text-align: right;\n",
              "    }\n",
              "</style>\n",
              "<table border=\"1\" class=\"dataframe\">\n",
              "  <thead>\n",
              "    <tr style=\"text-align: right;\">\n",
              "      <th></th>\n",
              "      <th>datetime_utc</th>\n",
              "      <th>_conds</th>\n",
              "      <th>_dewptm</th>\n",
              "      <th>_fog</th>\n",
              "      <th>_hail</th>\n",
              "      <th>_heatindexm</th>\n",
              "      <th>_hum</th>\n",
              "      <th>_precipm</th>\n",
              "      <th>_pressurem</th>\n",
              "      <th>_rain</th>\n",
              "      <th>_snow</th>\n",
              "      <th>_tempm</th>\n",
              "      <th>_thunder</th>\n",
              "      <th>_tornado</th>\n",
              "      <th>_vism</th>\n",
              "      <th>_wdird</th>\n",
              "      <th>_wdire</th>\n",
              "      <th>_wgustm</th>\n",
              "      <th>_windchillm</th>\n",
              "      <th>_wspdm</th>\n",
              "    </tr>\n",
              "  </thead>\n",
              "  <tbody>\n",
              "    <tr>\n",
              "      <th>0</th>\n",
              "      <td>19961101-11:00</td>\n",
              "      <td>Smoke</td>\n",
              "      <td>9.0</td>\n",
              "      <td>0</td>\n",
              "      <td>0</td>\n",
              "      <td>NaN</td>\n",
              "      <td>27.0</td>\n",
              "      <td>NaN</td>\n",
              "      <td>1010.0</td>\n",
              "      <td>0</td>\n",
              "      <td>0</td>\n",
              "      <td>30.0</td>\n",
              "      <td>0</td>\n",
              "      <td>0</td>\n",
              "      <td>5.00</td>\n",
              "      <td>280.0</td>\n",
              "      <td>West</td>\n",
              "      <td>NaN</td>\n",
              "      <td>NaN</td>\n",
              "      <td>7.4</td>\n",
              "    </tr>\n",
              "    <tr>\n",
              "      <th>1</th>\n",
              "      <td>19961101-12:00</td>\n",
              "      <td>Smoke</td>\n",
              "      <td>10.0</td>\n",
              "      <td>0</td>\n",
              "      <td>0</td>\n",
              "      <td>NaN</td>\n",
              "      <td>32.0</td>\n",
              "      <td>NaN</td>\n",
              "      <td>-9999.0</td>\n",
              "      <td>0</td>\n",
              "      <td>0</td>\n",
              "      <td>28.0</td>\n",
              "      <td>0</td>\n",
              "      <td>0</td>\n",
              "      <td>NaN</td>\n",
              "      <td>0.0</td>\n",
              "      <td>North</td>\n",
              "      <td>NaN</td>\n",
              "      <td>NaN</td>\n",
              "      <td>NaN</td>\n",
              "    </tr>\n",
              "    <tr>\n",
              "      <th>2</th>\n",
              "      <td>19961101-13:00</td>\n",
              "      <td>Smoke</td>\n",
              "      <td>11.0</td>\n",
              "      <td>0</td>\n",
              "      <td>0</td>\n",
              "      <td>NaN</td>\n",
              "      <td>44.0</td>\n",
              "      <td>NaN</td>\n",
              "      <td>-9999.0</td>\n",
              "      <td>0</td>\n",
              "      <td>0</td>\n",
              "      <td>24.0</td>\n",
              "      <td>0</td>\n",
              "      <td>0</td>\n",
              "      <td>NaN</td>\n",
              "      <td>0.0</td>\n",
              "      <td>North</td>\n",
              "      <td>NaN</td>\n",
              "      <td>NaN</td>\n",
              "      <td>NaN</td>\n",
              "    </tr>\n",
              "    <tr>\n",
              "      <th>3</th>\n",
              "      <td>19961101-14:00</td>\n",
              "      <td>Smoke</td>\n",
              "      <td>10.0</td>\n",
              "      <td>0</td>\n",
              "      <td>0</td>\n",
              "      <td>NaN</td>\n",
              "      <td>41.0</td>\n",
              "      <td>NaN</td>\n",
              "      <td>1010.0</td>\n",
              "      <td>0</td>\n",
              "      <td>0</td>\n",
              "      <td>24.0</td>\n",
              "      <td>0</td>\n",
              "      <td>0</td>\n",
              "      <td>2.00</td>\n",
              "      <td>0.0</td>\n",
              "      <td>North</td>\n",
              "      <td>NaN</td>\n",
              "      <td>NaN</td>\n",
              "      <td>NaN</td>\n",
              "    </tr>\n",
              "    <tr>\n",
              "      <th>4</th>\n",
              "      <td>19961101-16:00</td>\n",
              "      <td>Smoke</td>\n",
              "      <td>11.0</td>\n",
              "      <td>0</td>\n",
              "      <td>0</td>\n",
              "      <td>NaN</td>\n",
              "      <td>47.0</td>\n",
              "      <td>NaN</td>\n",
              "      <td>1011.0</td>\n",
              "      <td>0</td>\n",
              "      <td>0</td>\n",
              "      <td>23.0</td>\n",
              "      <td>0</td>\n",
              "      <td>0</td>\n",
              "      <td>1.20</td>\n",
              "      <td>0.0</td>\n",
              "      <td>North</td>\n",
              "      <td>NaN</td>\n",
              "      <td>NaN</td>\n",
              "      <td>0.0</td>\n",
              "    </tr>\n",
              "    <tr>\n",
              "      <th>...</th>\n",
              "      <td>...</td>\n",
              "      <td>...</td>\n",
              "      <td>...</td>\n",
              "      <td>...</td>\n",
              "      <td>...</td>\n",
              "      <td>...</td>\n",
              "      <td>...</td>\n",
              "      <td>...</td>\n",
              "      <td>...</td>\n",
              "      <td>...</td>\n",
              "      <td>...</td>\n",
              "      <td>...</td>\n",
              "      <td>...</td>\n",
              "      <td>...</td>\n",
              "      <td>...</td>\n",
              "      <td>...</td>\n",
              "      <td>...</td>\n",
              "      <td>...</td>\n",
              "      <td>...</td>\n",
              "      <td>...</td>\n",
              "    </tr>\n",
              "    <tr>\n",
              "      <th>99565</th>\n",
              "      <td>20161231-12:00</td>\n",
              "      <td>Partly Cloudy</td>\n",
              "      <td>15.0</td>\n",
              "      <td>0</td>\n",
              "      <td>0</td>\n",
              "      <td>NaN</td>\n",
              "      <td>77.0</td>\n",
              "      <td>NaN</td>\n",
              "      <td>1015.0</td>\n",
              "      <td>0</td>\n",
              "      <td>0</td>\n",
              "      <td>18.0</td>\n",
              "      <td>0</td>\n",
              "      <td>0</td>\n",
              "      <td>0.50</td>\n",
              "      <td>110.0</td>\n",
              "      <td>ESE</td>\n",
              "      <td>NaN</td>\n",
              "      <td>NaN</td>\n",
              "      <td>7.4</td>\n",
              "    </tr>\n",
              "    <tr>\n",
              "      <th>99566</th>\n",
              "      <td>20161231-13:00</td>\n",
              "      <td>Partly Cloudy</td>\n",
              "      <td>16.0</td>\n",
              "      <td>0</td>\n",
              "      <td>0</td>\n",
              "      <td>NaN</td>\n",
              "      <td>100.0</td>\n",
              "      <td>NaN</td>\n",
              "      <td>1014.0</td>\n",
              "      <td>0</td>\n",
              "      <td>0</td>\n",
              "      <td>16.0</td>\n",
              "      <td>0</td>\n",
              "      <td>0</td>\n",
              "      <td>0.80</td>\n",
              "      <td>90.0</td>\n",
              "      <td>East</td>\n",
              "      <td>NaN</td>\n",
              "      <td>NaN</td>\n",
              "      <td>3.7</td>\n",
              "    </tr>\n",
              "    <tr>\n",
              "      <th>99567</th>\n",
              "      <td>20161231-15:00</td>\n",
              "      <td>NaN</td>\n",
              "      <td>13.0</td>\n",
              "      <td>0</td>\n",
              "      <td>0</td>\n",
              "      <td>NaN</td>\n",
              "      <td>NaN</td>\n",
              "      <td>NaN</td>\n",
              "      <td>1016.0</td>\n",
              "      <td>0</td>\n",
              "      <td>0</td>\n",
              "      <td>NaN</td>\n",
              "      <td>0</td>\n",
              "      <td>0</td>\n",
              "      <td>0.05</td>\n",
              "      <td>10.0</td>\n",
              "      <td>North</td>\n",
              "      <td>NaN</td>\n",
              "      <td>NaN</td>\n",
              "      <td>59.3</td>\n",
              "    </tr>\n",
              "    <tr>\n",
              "      <th>99568</th>\n",
              "      <td>20161231-18:00</td>\n",
              "      <td>Patches of Fog</td>\n",
              "      <td>12.0</td>\n",
              "      <td>1</td>\n",
              "      <td>0</td>\n",
              "      <td>NaN</td>\n",
              "      <td>100.0</td>\n",
              "      <td>NaN</td>\n",
              "      <td>1016.0</td>\n",
              "      <td>0</td>\n",
              "      <td>0</td>\n",
              "      <td>12.0</td>\n",
              "      <td>0</td>\n",
              "      <td>0</td>\n",
              "      <td>0.50</td>\n",
              "      <td>NaN</td>\n",
              "      <td>NaN</td>\n",
              "      <td>NaN</td>\n",
              "      <td>NaN</td>\n",
              "      <td>0.0</td>\n",
              "    </tr>\n",
              "    <tr>\n",
              "      <th>99569</th>\n",
              "      <td>20161231-21:00</td>\n",
              "      <td>Patches of Fog</td>\n",
              "      <td>12.0</td>\n",
              "      <td>1</td>\n",
              "      <td>0</td>\n",
              "      <td>NaN</td>\n",
              "      <td>99.0</td>\n",
              "      <td>NaN</td>\n",
              "      <td>1016.0</td>\n",
              "      <td>0</td>\n",
              "      <td>0</td>\n",
              "      <td>12.0</td>\n",
              "      <td>0</td>\n",
              "      <td>0</td>\n",
              "      <td>0.50</td>\n",
              "      <td>NaN</td>\n",
              "      <td>NaN</td>\n",
              "      <td>NaN</td>\n",
              "      <td>NaN</td>\n",
              "      <td>0.0</td>\n",
              "    </tr>\n",
              "  </tbody>\n",
              "</table>\n",
              "<p>99570 rows × 20 columns</p>\n",
              "</div>"
            ],
            "text/plain": [
              "         datetime_utc          _conds  _dewptm  ...  _wgustm  _windchillm  _wspdm\n",
              "0      19961101-11:00           Smoke      9.0  ...      NaN          NaN     7.4\n",
              "1      19961101-12:00           Smoke     10.0  ...      NaN          NaN     NaN\n",
              "2      19961101-13:00           Smoke     11.0  ...      NaN          NaN     NaN\n",
              "3      19961101-14:00           Smoke     10.0  ...      NaN          NaN     NaN\n",
              "4      19961101-16:00           Smoke     11.0  ...      NaN          NaN     0.0\n",
              "...               ...             ...      ...  ...      ...          ...     ...\n",
              "99565  20161231-12:00   Partly Cloudy     15.0  ...      NaN          NaN     7.4\n",
              "99566  20161231-13:00   Partly Cloudy     16.0  ...      NaN          NaN     3.7\n",
              "99567  20161231-15:00             NaN     13.0  ...      NaN          NaN    59.3\n",
              "99568  20161231-18:00  Patches of Fog     12.0  ...      NaN          NaN     0.0\n",
              "99569  20161231-21:00  Patches of Fog     12.0  ...      NaN          NaN     0.0\n",
              "\n",
              "[99570 rows x 20 columns]"
            ]
          },
          "metadata": {
            "tags": []
          },
          "execution_count": 64
        }
      ]
    },
    {
      "cell_type": "code",
      "metadata": {
        "colab": {
          "base_uri": "https://localhost:8080/"
        },
        "id": "1femgh8Gj9Ci",
        "outputId": "3e009c3c-a06c-4d92-e763-8c7b701bb27f"
      },
      "source": [
        "dataset.columns=dataset.columns.str.replace(\"_\",\"\")\n",
        "dataset.columns=dataset.columns.str.replace(\" \",\"\")\n",
        "dataset.columns"
      ],
      "execution_count": 65,
      "outputs": [
        {
          "output_type": "execute_result",
          "data": {
            "text/plain": [
              "Index(['datetimeutc', 'conds', 'dewptm', 'fog', 'hail', 'heatindexm', 'hum',\n",
              "       'precipm', 'pressurem', 'rain', 'snow', 'tempm', 'thunder', 'tornado',\n",
              "       'vism', 'wdird', 'wdire', 'wgustm', 'windchillm', 'wspdm'],\n",
              "      dtype='object')"
            ]
          },
          "metadata": {
            "tags": []
          },
          "execution_count": 65
        }
      ]
    },
    {
      "cell_type": "code",
      "metadata": {
        "colab": {
          "base_uri": "https://localhost:8080/",
          "height": 402
        },
        "id": "TsDhCl7rkD4T",
        "outputId": "6414115d-0eaf-4422-a169-53f32c1b7fde"
      },
      "source": [
        "dataset.drop(columns=[\"conds\",\"dewptm\",\"fog\",\"hail\",\"heatindexm\",\"precipm\",\"rain\",\"snow\",\"thunder\",\"tornado\",\"vism\",\"wdird\",\"wdire\",\"wgustm\",\"windchillm\"],inplace=True,axis=1)\n",
        "dataset"
      ],
      "execution_count": 66,
      "outputs": [
        {
          "output_type": "execute_result",
          "data": {
            "text/html": [
              "<div>\n",
              "<style scoped>\n",
              "    .dataframe tbody tr th:only-of-type {\n",
              "        vertical-align: middle;\n",
              "    }\n",
              "\n",
              "    .dataframe tbody tr th {\n",
              "        vertical-align: top;\n",
              "    }\n",
              "\n",
              "    .dataframe thead th {\n",
              "        text-align: right;\n",
              "    }\n",
              "</style>\n",
              "<table border=\"1\" class=\"dataframe\">\n",
              "  <thead>\n",
              "    <tr style=\"text-align: right;\">\n",
              "      <th></th>\n",
              "      <th>datetimeutc</th>\n",
              "      <th>hum</th>\n",
              "      <th>pressurem</th>\n",
              "      <th>tempm</th>\n",
              "      <th>wspdm</th>\n",
              "    </tr>\n",
              "  </thead>\n",
              "  <tbody>\n",
              "    <tr>\n",
              "      <th>0</th>\n",
              "      <td>19961101-11:00</td>\n",
              "      <td>27.0</td>\n",
              "      <td>1010.0</td>\n",
              "      <td>30.0</td>\n",
              "      <td>7.4</td>\n",
              "    </tr>\n",
              "    <tr>\n",
              "      <th>1</th>\n",
              "      <td>19961101-12:00</td>\n",
              "      <td>32.0</td>\n",
              "      <td>-9999.0</td>\n",
              "      <td>28.0</td>\n",
              "      <td>NaN</td>\n",
              "    </tr>\n",
              "    <tr>\n",
              "      <th>2</th>\n",
              "      <td>19961101-13:00</td>\n",
              "      <td>44.0</td>\n",
              "      <td>-9999.0</td>\n",
              "      <td>24.0</td>\n",
              "      <td>NaN</td>\n",
              "    </tr>\n",
              "    <tr>\n",
              "      <th>3</th>\n",
              "      <td>19961101-14:00</td>\n",
              "      <td>41.0</td>\n",
              "      <td>1010.0</td>\n",
              "      <td>24.0</td>\n",
              "      <td>NaN</td>\n",
              "    </tr>\n",
              "    <tr>\n",
              "      <th>4</th>\n",
              "      <td>19961101-16:00</td>\n",
              "      <td>47.0</td>\n",
              "      <td>1011.0</td>\n",
              "      <td>23.0</td>\n",
              "      <td>0.0</td>\n",
              "    </tr>\n",
              "    <tr>\n",
              "      <th>...</th>\n",
              "      <td>...</td>\n",
              "      <td>...</td>\n",
              "      <td>...</td>\n",
              "      <td>...</td>\n",
              "      <td>...</td>\n",
              "    </tr>\n",
              "    <tr>\n",
              "      <th>99565</th>\n",
              "      <td>20161231-12:00</td>\n",
              "      <td>77.0</td>\n",
              "      <td>1015.0</td>\n",
              "      <td>18.0</td>\n",
              "      <td>7.4</td>\n",
              "    </tr>\n",
              "    <tr>\n",
              "      <th>99566</th>\n",
              "      <td>20161231-13:00</td>\n",
              "      <td>100.0</td>\n",
              "      <td>1014.0</td>\n",
              "      <td>16.0</td>\n",
              "      <td>3.7</td>\n",
              "    </tr>\n",
              "    <tr>\n",
              "      <th>99567</th>\n",
              "      <td>20161231-15:00</td>\n",
              "      <td>NaN</td>\n",
              "      <td>1016.0</td>\n",
              "      <td>NaN</td>\n",
              "      <td>59.3</td>\n",
              "    </tr>\n",
              "    <tr>\n",
              "      <th>99568</th>\n",
              "      <td>20161231-18:00</td>\n",
              "      <td>100.0</td>\n",
              "      <td>1016.0</td>\n",
              "      <td>12.0</td>\n",
              "      <td>0.0</td>\n",
              "    </tr>\n",
              "    <tr>\n",
              "      <th>99569</th>\n",
              "      <td>20161231-21:00</td>\n",
              "      <td>99.0</td>\n",
              "      <td>1016.0</td>\n",
              "      <td>12.0</td>\n",
              "      <td>0.0</td>\n",
              "    </tr>\n",
              "  </tbody>\n",
              "</table>\n",
              "<p>99570 rows × 5 columns</p>\n",
              "</div>"
            ],
            "text/plain": [
              "          datetimeutc    hum  pressurem  tempm  wspdm\n",
              "0      19961101-11:00   27.0     1010.0   30.0    7.4\n",
              "1      19961101-12:00   32.0    -9999.0   28.0    NaN\n",
              "2      19961101-13:00   44.0    -9999.0   24.0    NaN\n",
              "3      19961101-14:00   41.0     1010.0   24.0    NaN\n",
              "4      19961101-16:00   47.0     1011.0   23.0    0.0\n",
              "...               ...    ...        ...    ...    ...\n",
              "99565  20161231-12:00   77.0     1015.0   18.0    7.4\n",
              "99566  20161231-13:00  100.0     1014.0   16.0    3.7\n",
              "99567  20161231-15:00    NaN     1016.0    NaN   59.3\n",
              "99568  20161231-18:00  100.0     1016.0   12.0    0.0\n",
              "99569  20161231-21:00   99.0     1016.0   12.0    0.0\n",
              "\n",
              "[99570 rows x 5 columns]"
            ]
          },
          "metadata": {
            "tags": []
          },
          "execution_count": 66
        }
      ]
    },
    {
      "cell_type": "code",
      "metadata": {
        "colab": {
          "base_uri": "https://localhost:8080/"
        },
        "id": "qcLkQ6JUkFoI",
        "outputId": "44a169f6-60b3-4f9f-bc0b-87264648be6f"
      },
      "source": [
        "dataset['pressurem'].replace('-9999.0',np.nan)\n",
        "dataset.replace(0,np.nan)\n",
        "dataset.isnull().sum()"
      ],
      "execution_count": 67,
      "outputs": [
        {
          "output_type": "execute_result",
          "data": {
            "text/plain": [
              "datetimeutc       0\n",
              "hum             756\n",
              "pressurem       232\n",
              "tempm           672\n",
              "wspdm          2358\n",
              "dtype: int64"
            ]
          },
          "metadata": {
            "tags": []
          },
          "execution_count": 67
        }
      ]
    },
    {
      "cell_type": "code",
      "metadata": {
        "colab": {
          "base_uri": "https://localhost:8080/",
          "height": 402
        },
        "id": "hIcrW-mEkLrk",
        "outputId": "c0cde296-0ff4-4039-aad4-2be8f6be2bf4"
      },
      "source": [
        "dataset"
      ],
      "execution_count": 68,
      "outputs": [
        {
          "output_type": "execute_result",
          "data": {
            "text/html": [
              "<div>\n",
              "<style scoped>\n",
              "    .dataframe tbody tr th:only-of-type {\n",
              "        vertical-align: middle;\n",
              "    }\n",
              "\n",
              "    .dataframe tbody tr th {\n",
              "        vertical-align: top;\n",
              "    }\n",
              "\n",
              "    .dataframe thead th {\n",
              "        text-align: right;\n",
              "    }\n",
              "</style>\n",
              "<table border=\"1\" class=\"dataframe\">\n",
              "  <thead>\n",
              "    <tr style=\"text-align: right;\">\n",
              "      <th></th>\n",
              "      <th>datetimeutc</th>\n",
              "      <th>hum</th>\n",
              "      <th>pressurem</th>\n",
              "      <th>tempm</th>\n",
              "      <th>wspdm</th>\n",
              "    </tr>\n",
              "  </thead>\n",
              "  <tbody>\n",
              "    <tr>\n",
              "      <th>0</th>\n",
              "      <td>19961101-11:00</td>\n",
              "      <td>27.0</td>\n",
              "      <td>1010.0</td>\n",
              "      <td>30.0</td>\n",
              "      <td>7.4</td>\n",
              "    </tr>\n",
              "    <tr>\n",
              "      <th>1</th>\n",
              "      <td>19961101-12:00</td>\n",
              "      <td>32.0</td>\n",
              "      <td>-9999.0</td>\n",
              "      <td>28.0</td>\n",
              "      <td>NaN</td>\n",
              "    </tr>\n",
              "    <tr>\n",
              "      <th>2</th>\n",
              "      <td>19961101-13:00</td>\n",
              "      <td>44.0</td>\n",
              "      <td>-9999.0</td>\n",
              "      <td>24.0</td>\n",
              "      <td>NaN</td>\n",
              "    </tr>\n",
              "    <tr>\n",
              "      <th>3</th>\n",
              "      <td>19961101-14:00</td>\n",
              "      <td>41.0</td>\n",
              "      <td>1010.0</td>\n",
              "      <td>24.0</td>\n",
              "      <td>NaN</td>\n",
              "    </tr>\n",
              "    <tr>\n",
              "      <th>4</th>\n",
              "      <td>19961101-16:00</td>\n",
              "      <td>47.0</td>\n",
              "      <td>1011.0</td>\n",
              "      <td>23.0</td>\n",
              "      <td>0.0</td>\n",
              "    </tr>\n",
              "    <tr>\n",
              "      <th>...</th>\n",
              "      <td>...</td>\n",
              "      <td>...</td>\n",
              "      <td>...</td>\n",
              "      <td>...</td>\n",
              "      <td>...</td>\n",
              "    </tr>\n",
              "    <tr>\n",
              "      <th>99565</th>\n",
              "      <td>20161231-12:00</td>\n",
              "      <td>77.0</td>\n",
              "      <td>1015.0</td>\n",
              "      <td>18.0</td>\n",
              "      <td>7.4</td>\n",
              "    </tr>\n",
              "    <tr>\n",
              "      <th>99566</th>\n",
              "      <td>20161231-13:00</td>\n",
              "      <td>100.0</td>\n",
              "      <td>1014.0</td>\n",
              "      <td>16.0</td>\n",
              "      <td>3.7</td>\n",
              "    </tr>\n",
              "    <tr>\n",
              "      <th>99567</th>\n",
              "      <td>20161231-15:00</td>\n",
              "      <td>NaN</td>\n",
              "      <td>1016.0</td>\n",
              "      <td>NaN</td>\n",
              "      <td>59.3</td>\n",
              "    </tr>\n",
              "    <tr>\n",
              "      <th>99568</th>\n",
              "      <td>20161231-18:00</td>\n",
              "      <td>100.0</td>\n",
              "      <td>1016.0</td>\n",
              "      <td>12.0</td>\n",
              "      <td>0.0</td>\n",
              "    </tr>\n",
              "    <tr>\n",
              "      <th>99569</th>\n",
              "      <td>20161231-21:00</td>\n",
              "      <td>99.0</td>\n",
              "      <td>1016.0</td>\n",
              "      <td>12.0</td>\n",
              "      <td>0.0</td>\n",
              "    </tr>\n",
              "  </tbody>\n",
              "</table>\n",
              "<p>99570 rows × 5 columns</p>\n",
              "</div>"
            ],
            "text/plain": [
              "          datetimeutc    hum  pressurem  tempm  wspdm\n",
              "0      19961101-11:00   27.0     1010.0   30.0    7.4\n",
              "1      19961101-12:00   32.0    -9999.0   28.0    NaN\n",
              "2      19961101-13:00   44.0    -9999.0   24.0    NaN\n",
              "3      19961101-14:00   41.0     1010.0   24.0    NaN\n",
              "4      19961101-16:00   47.0     1011.0   23.0    0.0\n",
              "...               ...    ...        ...    ...    ...\n",
              "99565  20161231-12:00   77.0     1015.0   18.0    7.4\n",
              "99566  20161231-13:00  100.0     1014.0   16.0    3.7\n",
              "99567  20161231-15:00    NaN     1016.0    NaN   59.3\n",
              "99568  20161231-18:00  100.0     1016.0   12.0    0.0\n",
              "99569  20161231-21:00   99.0     1016.0   12.0    0.0\n",
              "\n",
              "[99570 rows x 5 columns]"
            ]
          },
          "metadata": {
            "tags": []
          },
          "execution_count": 68
        }
      ]
    },
    {
      "cell_type": "code",
      "metadata": {
        "id": "l8wforygkH2m"
      },
      "source": [
        "hum_median=dataset[\"hum\"].median()\n",
        "dataset[\"hum\"].fillna(hum_median,inplace=True)\n",
        "pressurem_median=dataset[\"pressurem\"].median()\n",
        "dataset[\"pressurem\"].fillna(pressurem_median,inplace=True)\n",
        "wspdm_median=dataset[\"wspdm\"].median()\n",
        "dataset[\"wspdm\"].fillna(wspdm_median,inplace=True)\n",
        "tempm_median=dataset[\"tempm\"].median()\n",
        "dataset[\"tempm\"].fillna(tempm_median,inplace=True)"
      ],
      "execution_count": 69,
      "outputs": []
    },
    {
      "cell_type": "code",
      "metadata": {
        "colab": {
          "base_uri": "https://localhost:8080/"
        },
        "id": "XBku7sfDkRh2",
        "outputId": "145e9231-1ae5-4fab-cd42-c5627a5a3aa9"
      },
      "source": [
        "dataset.isnull().sum()"
      ],
      "execution_count": 70,
      "outputs": [
        {
          "output_type": "execute_result",
          "data": {
            "text/plain": [
              "datetimeutc    0\n",
              "hum            0\n",
              "pressurem      0\n",
              "tempm          0\n",
              "wspdm          0\n",
              "dtype: int64"
            ]
          },
          "metadata": {
            "tags": []
          },
          "execution_count": 70
        }
      ]
    },
    {
      "cell_type": "code",
      "metadata": {
        "colab": {
          "base_uri": "https://localhost:8080/",
          "height": 402
        },
        "id": "cA1rgxGqkURY",
        "outputId": "e2c5072b-7086-49ce-8d58-daf87d19c23b"
      },
      "source": [
        "dataset"
      ],
      "execution_count": 71,
      "outputs": [
        {
          "output_type": "execute_result",
          "data": {
            "text/html": [
              "<div>\n",
              "<style scoped>\n",
              "    .dataframe tbody tr th:only-of-type {\n",
              "        vertical-align: middle;\n",
              "    }\n",
              "\n",
              "    .dataframe tbody tr th {\n",
              "        vertical-align: top;\n",
              "    }\n",
              "\n",
              "    .dataframe thead th {\n",
              "        text-align: right;\n",
              "    }\n",
              "</style>\n",
              "<table border=\"1\" class=\"dataframe\">\n",
              "  <thead>\n",
              "    <tr style=\"text-align: right;\">\n",
              "      <th></th>\n",
              "      <th>datetimeutc</th>\n",
              "      <th>hum</th>\n",
              "      <th>pressurem</th>\n",
              "      <th>tempm</th>\n",
              "      <th>wspdm</th>\n",
              "    </tr>\n",
              "  </thead>\n",
              "  <tbody>\n",
              "    <tr>\n",
              "      <th>0</th>\n",
              "      <td>19961101-11:00</td>\n",
              "      <td>27.0</td>\n",
              "      <td>1010.0</td>\n",
              "      <td>30.0</td>\n",
              "      <td>7.4</td>\n",
              "    </tr>\n",
              "    <tr>\n",
              "      <th>1</th>\n",
              "      <td>19961101-12:00</td>\n",
              "      <td>32.0</td>\n",
              "      <td>-9999.0</td>\n",
              "      <td>28.0</td>\n",
              "      <td>7.4</td>\n",
              "    </tr>\n",
              "    <tr>\n",
              "      <th>2</th>\n",
              "      <td>19961101-13:00</td>\n",
              "      <td>44.0</td>\n",
              "      <td>-9999.0</td>\n",
              "      <td>24.0</td>\n",
              "      <td>7.4</td>\n",
              "    </tr>\n",
              "    <tr>\n",
              "      <th>3</th>\n",
              "      <td>19961101-14:00</td>\n",
              "      <td>41.0</td>\n",
              "      <td>1010.0</td>\n",
              "      <td>24.0</td>\n",
              "      <td>7.4</td>\n",
              "    </tr>\n",
              "    <tr>\n",
              "      <th>4</th>\n",
              "      <td>19961101-16:00</td>\n",
              "      <td>47.0</td>\n",
              "      <td>1011.0</td>\n",
              "      <td>23.0</td>\n",
              "      <td>0.0</td>\n",
              "    </tr>\n",
              "    <tr>\n",
              "      <th>...</th>\n",
              "      <td>...</td>\n",
              "      <td>...</td>\n",
              "      <td>...</td>\n",
              "      <td>...</td>\n",
              "      <td>...</td>\n",
              "    </tr>\n",
              "    <tr>\n",
              "      <th>99565</th>\n",
              "      <td>20161231-12:00</td>\n",
              "      <td>77.0</td>\n",
              "      <td>1015.0</td>\n",
              "      <td>18.0</td>\n",
              "      <td>7.4</td>\n",
              "    </tr>\n",
              "    <tr>\n",
              "      <th>99566</th>\n",
              "      <td>20161231-13:00</td>\n",
              "      <td>100.0</td>\n",
              "      <td>1014.0</td>\n",
              "      <td>16.0</td>\n",
              "      <td>3.7</td>\n",
              "    </tr>\n",
              "    <tr>\n",
              "      <th>99567</th>\n",
              "      <td>20161231-15:00</td>\n",
              "      <td>58.0</td>\n",
              "      <td>1016.0</td>\n",
              "      <td>27.0</td>\n",
              "      <td>59.3</td>\n",
              "    </tr>\n",
              "    <tr>\n",
              "      <th>99568</th>\n",
              "      <td>20161231-18:00</td>\n",
              "      <td>100.0</td>\n",
              "      <td>1016.0</td>\n",
              "      <td>12.0</td>\n",
              "      <td>0.0</td>\n",
              "    </tr>\n",
              "    <tr>\n",
              "      <th>99569</th>\n",
              "      <td>20161231-21:00</td>\n",
              "      <td>99.0</td>\n",
              "      <td>1016.0</td>\n",
              "      <td>12.0</td>\n",
              "      <td>0.0</td>\n",
              "    </tr>\n",
              "  </tbody>\n",
              "</table>\n",
              "<p>99570 rows × 5 columns</p>\n",
              "</div>"
            ],
            "text/plain": [
              "          datetimeutc    hum  pressurem  tempm  wspdm\n",
              "0      19961101-11:00   27.0     1010.0   30.0    7.4\n",
              "1      19961101-12:00   32.0    -9999.0   28.0    7.4\n",
              "2      19961101-13:00   44.0    -9999.0   24.0    7.4\n",
              "3      19961101-14:00   41.0     1010.0   24.0    7.4\n",
              "4      19961101-16:00   47.0     1011.0   23.0    0.0\n",
              "...               ...    ...        ...    ...    ...\n",
              "99565  20161231-12:00   77.0     1015.0   18.0    7.4\n",
              "99566  20161231-13:00  100.0     1014.0   16.0    3.7\n",
              "99567  20161231-15:00   58.0     1016.0   27.0   59.3\n",
              "99568  20161231-18:00  100.0     1016.0   12.0    0.0\n",
              "99569  20161231-21:00   99.0     1016.0   12.0    0.0\n",
              "\n",
              "[99570 rows x 5 columns]"
            ]
          },
          "metadata": {
            "tags": []
          },
          "execution_count": 71
        }
      ]
    },
    {
      "cell_type": "code",
      "metadata": {
        "id": "aiei4_eIvbP3"
      },
      "source": [
        "dataset[\"datetimeutc\"]=pd.to_datetime(dataset[\"datetimeutc\"])"
      ],
      "execution_count": 72,
      "outputs": []
    },
    {
      "cell_type": "code",
      "metadata": {
        "id": "WIlzEu-Lvvfk"
      },
      "source": [
        "dataset.set_index(\"datetimeutc\",inplace=True)"
      ],
      "execution_count": 73,
      "outputs": []
    },
    {
      "cell_type": "code",
      "metadata": {
        "colab": {
          "base_uri": "https://localhost:8080/",
          "height": 431
        },
        "id": "SN2YyBN5vilW",
        "outputId": "0f21d59c-897b-4d76-ffa5-678536912367"
      },
      "source": [
        "dataset"
      ],
      "execution_count": 74,
      "outputs": [
        {
          "output_type": "execute_result",
          "data": {
            "text/html": [
              "<div>\n",
              "<style scoped>\n",
              "    .dataframe tbody tr th:only-of-type {\n",
              "        vertical-align: middle;\n",
              "    }\n",
              "\n",
              "    .dataframe tbody tr th {\n",
              "        vertical-align: top;\n",
              "    }\n",
              "\n",
              "    .dataframe thead th {\n",
              "        text-align: right;\n",
              "    }\n",
              "</style>\n",
              "<table border=\"1\" class=\"dataframe\">\n",
              "  <thead>\n",
              "    <tr style=\"text-align: right;\">\n",
              "      <th></th>\n",
              "      <th>hum</th>\n",
              "      <th>pressurem</th>\n",
              "      <th>tempm</th>\n",
              "      <th>wspdm</th>\n",
              "    </tr>\n",
              "    <tr>\n",
              "      <th>datetimeutc</th>\n",
              "      <th></th>\n",
              "      <th></th>\n",
              "      <th></th>\n",
              "      <th></th>\n",
              "    </tr>\n",
              "  </thead>\n",
              "  <tbody>\n",
              "    <tr>\n",
              "      <th>1996-11-01 11:00:00</th>\n",
              "      <td>27.0</td>\n",
              "      <td>1010.0</td>\n",
              "      <td>30.0</td>\n",
              "      <td>7.4</td>\n",
              "    </tr>\n",
              "    <tr>\n",
              "      <th>1996-11-01 12:00:00</th>\n",
              "      <td>32.0</td>\n",
              "      <td>-9999.0</td>\n",
              "      <td>28.0</td>\n",
              "      <td>7.4</td>\n",
              "    </tr>\n",
              "    <tr>\n",
              "      <th>1996-11-01 13:00:00</th>\n",
              "      <td>44.0</td>\n",
              "      <td>-9999.0</td>\n",
              "      <td>24.0</td>\n",
              "      <td>7.4</td>\n",
              "    </tr>\n",
              "    <tr>\n",
              "      <th>1996-11-01 14:00:00</th>\n",
              "      <td>41.0</td>\n",
              "      <td>1010.0</td>\n",
              "      <td>24.0</td>\n",
              "      <td>7.4</td>\n",
              "    </tr>\n",
              "    <tr>\n",
              "      <th>1996-11-01 16:00:00</th>\n",
              "      <td>47.0</td>\n",
              "      <td>1011.0</td>\n",
              "      <td>23.0</td>\n",
              "      <td>0.0</td>\n",
              "    </tr>\n",
              "    <tr>\n",
              "      <th>...</th>\n",
              "      <td>...</td>\n",
              "      <td>...</td>\n",
              "      <td>...</td>\n",
              "      <td>...</td>\n",
              "    </tr>\n",
              "    <tr>\n",
              "      <th>2016-12-31 12:00:00</th>\n",
              "      <td>77.0</td>\n",
              "      <td>1015.0</td>\n",
              "      <td>18.0</td>\n",
              "      <td>7.4</td>\n",
              "    </tr>\n",
              "    <tr>\n",
              "      <th>2016-12-31 13:00:00</th>\n",
              "      <td>100.0</td>\n",
              "      <td>1014.0</td>\n",
              "      <td>16.0</td>\n",
              "      <td>3.7</td>\n",
              "    </tr>\n",
              "    <tr>\n",
              "      <th>2016-12-31 15:00:00</th>\n",
              "      <td>58.0</td>\n",
              "      <td>1016.0</td>\n",
              "      <td>27.0</td>\n",
              "      <td>59.3</td>\n",
              "    </tr>\n",
              "    <tr>\n",
              "      <th>2016-12-31 18:00:00</th>\n",
              "      <td>100.0</td>\n",
              "      <td>1016.0</td>\n",
              "      <td>12.0</td>\n",
              "      <td>0.0</td>\n",
              "    </tr>\n",
              "    <tr>\n",
              "      <th>2016-12-31 21:00:00</th>\n",
              "      <td>99.0</td>\n",
              "      <td>1016.0</td>\n",
              "      <td>12.0</td>\n",
              "      <td>0.0</td>\n",
              "    </tr>\n",
              "  </tbody>\n",
              "</table>\n",
              "<p>99570 rows × 4 columns</p>\n",
              "</div>"
            ],
            "text/plain": [
              "                       hum  pressurem  tempm  wspdm\n",
              "datetimeutc                                        \n",
              "1996-11-01 11:00:00   27.0     1010.0   30.0    7.4\n",
              "1996-11-01 12:00:00   32.0    -9999.0   28.0    7.4\n",
              "1996-11-01 13:00:00   44.0    -9999.0   24.0    7.4\n",
              "1996-11-01 14:00:00   41.0     1010.0   24.0    7.4\n",
              "1996-11-01 16:00:00   47.0     1011.0   23.0    0.0\n",
              "...                    ...        ...    ...    ...\n",
              "2016-12-31 12:00:00   77.0     1015.0   18.0    7.4\n",
              "2016-12-31 13:00:00  100.0     1014.0   16.0    3.7\n",
              "2016-12-31 15:00:00   58.0     1016.0   27.0   59.3\n",
              "2016-12-31 18:00:00  100.0     1016.0   12.0    0.0\n",
              "2016-12-31 21:00:00   99.0     1016.0   12.0    0.0\n",
              "\n",
              "[99570 rows x 4 columns]"
            ]
          },
          "metadata": {
            "tags": []
          },
          "execution_count": 74
        }
      ]
    },
    {
      "cell_type": "code",
      "metadata": {
        "colab": {
          "base_uri": "https://localhost:8080/",
          "height": 431
        },
        "id": "Qih0l3s0kVEp",
        "outputId": "40d39d80-07b4-4835-f1ab-fa5b5ec35e65"
      },
      "source": [
        "dataset=dataset.resample(\"D\").mean()\n",
        "dataset"
      ],
      "execution_count": 75,
      "outputs": [
        {
          "output_type": "execute_result",
          "data": {
            "text/html": [
              "<div>\n",
              "<style scoped>\n",
              "    .dataframe tbody tr th:only-of-type {\n",
              "        vertical-align: middle;\n",
              "    }\n",
              "\n",
              "    .dataframe tbody tr th {\n",
              "        vertical-align: top;\n",
              "    }\n",
              "\n",
              "    .dataframe thead th {\n",
              "        text-align: right;\n",
              "    }\n",
              "</style>\n",
              "<table border=\"1\" class=\"dataframe\">\n",
              "  <thead>\n",
              "    <tr style=\"text-align: right;\">\n",
              "      <th></th>\n",
              "      <th>hum</th>\n",
              "      <th>pressurem</th>\n",
              "      <th>tempm</th>\n",
              "      <th>wspdm</th>\n",
              "    </tr>\n",
              "    <tr>\n",
              "      <th>datetimeutc</th>\n",
              "      <th></th>\n",
              "      <th></th>\n",
              "      <th></th>\n",
              "      <th></th>\n",
              "    </tr>\n",
              "  </thead>\n",
              "  <tbody>\n",
              "    <tr>\n",
              "      <th>1996-11-01</th>\n",
              "      <td>52.916667</td>\n",
              "      <td>-2659.666667</td>\n",
              "      <td>22.333333</td>\n",
              "      <td>6.166667</td>\n",
              "    </tr>\n",
              "    <tr>\n",
              "      <th>1996-11-02</th>\n",
              "      <td>48.625000</td>\n",
              "      <td>1009.833333</td>\n",
              "      <td>22.916667</td>\n",
              "      <td>7.950000</td>\n",
              "    </tr>\n",
              "    <tr>\n",
              "      <th>1996-11-03</th>\n",
              "      <td>55.958333</td>\n",
              "      <td>1010.500000</td>\n",
              "      <td>21.791667</td>\n",
              "      <td>5.020833</td>\n",
              "    </tr>\n",
              "    <tr>\n",
              "      <th>1996-11-04</th>\n",
              "      <td>48.055556</td>\n",
              "      <td>1011.333333</td>\n",
              "      <td>22.722222</td>\n",
              "      <td>2.266667</td>\n",
              "    </tr>\n",
              "    <tr>\n",
              "      <th>1996-11-05</th>\n",
              "      <td>29.400000</td>\n",
              "      <td>1011.800000</td>\n",
              "      <td>27.800000</td>\n",
              "      <td>10.020000</td>\n",
              "    </tr>\n",
              "    <tr>\n",
              "      <th>...</th>\n",
              "      <td>...</td>\n",
              "      <td>...</td>\n",
              "      <td>...</td>\n",
              "      <td>...</td>\n",
              "    </tr>\n",
              "    <tr>\n",
              "      <th>2016-12-27</th>\n",
              "      <td>67.550000</td>\n",
              "      <td>1017.200000</td>\n",
              "      <td>16.850000</td>\n",
              "      <td>8.335000</td>\n",
              "    </tr>\n",
              "    <tr>\n",
              "      <th>2016-12-28</th>\n",
              "      <td>68.043478</td>\n",
              "      <td>1015.565217</td>\n",
              "      <td>17.217391</td>\n",
              "      <td>3.547826</td>\n",
              "    </tr>\n",
              "    <tr>\n",
              "      <th>2016-12-29</th>\n",
              "      <td>87.857143</td>\n",
              "      <td>1016.904762</td>\n",
              "      <td>15.238095</td>\n",
              "      <td>6.000000</td>\n",
              "    </tr>\n",
              "    <tr>\n",
              "      <th>2016-12-30</th>\n",
              "      <td>89.666667</td>\n",
              "      <td>1017.904762</td>\n",
              "      <td>14.095238</td>\n",
              "      <td>6.266667</td>\n",
              "    </tr>\n",
              "    <tr>\n",
              "      <th>2016-12-31</th>\n",
              "      <td>85.550000</td>\n",
              "      <td>1016.100000</td>\n",
              "      <td>15.650000</td>\n",
              "      <td>7.325000</td>\n",
              "    </tr>\n",
              "  </tbody>\n",
              "</table>\n",
              "<p>7366 rows × 4 columns</p>\n",
              "</div>"
            ],
            "text/plain": [
              "                   hum    pressurem      tempm      wspdm\n",
              "datetimeutc                                              \n",
              "1996-11-01   52.916667 -2659.666667  22.333333   6.166667\n",
              "1996-11-02   48.625000  1009.833333  22.916667   7.950000\n",
              "1996-11-03   55.958333  1010.500000  21.791667   5.020833\n",
              "1996-11-04   48.055556  1011.333333  22.722222   2.266667\n",
              "1996-11-05   29.400000  1011.800000  27.800000  10.020000\n",
              "...                ...          ...        ...        ...\n",
              "2016-12-27   67.550000  1017.200000  16.850000   8.335000\n",
              "2016-12-28   68.043478  1015.565217  17.217391   3.547826\n",
              "2016-12-29   87.857143  1016.904762  15.238095   6.000000\n",
              "2016-12-30   89.666667  1017.904762  14.095238   6.266667\n",
              "2016-12-31   85.550000  1016.100000  15.650000   7.325000\n",
              "\n",
              "[7366 rows x 4 columns]"
            ]
          },
          "metadata": {
            "tags": []
          },
          "execution_count": 75
        }
      ]
    },
    {
      "cell_type": "code",
      "metadata": {
        "id": "pnOrsgRMkW64"
      },
      "source": [
        "def extract_year(value):\n",
        "  value=value.strftime('%Y-%m-%d')\n",
        "  return (value[0:4])\n",
        "\n",
        "\n",
        "def extract_month(value):\n",
        "    value=value.strftime('%Y-%m-%d')\n",
        "    return (value[4:6])\n",
        "\n",
        "def extract_date(value):\n",
        "    value=value.strftime('%Y-%m-%d')\n",
        "    return (value[6:8])"
      ],
      "execution_count": 76,
      "outputs": []
    },
    {
      "cell_type": "code",
      "metadata": {
        "colab": {
          "base_uri": "https://localhost:8080/",
          "height": 402
        },
        "id": "H3paC4c4kYjd",
        "outputId": "40e7bda1-9724-46d7-f04c-39cc016e382e"
      },
      "source": [
        "dataset.reset_index(inplace=True)\n",
        "dataset\n"
      ],
      "execution_count": 77,
      "outputs": [
        {
          "output_type": "execute_result",
          "data": {
            "text/html": [
              "<div>\n",
              "<style scoped>\n",
              "    .dataframe tbody tr th:only-of-type {\n",
              "        vertical-align: middle;\n",
              "    }\n",
              "\n",
              "    .dataframe tbody tr th {\n",
              "        vertical-align: top;\n",
              "    }\n",
              "\n",
              "    .dataframe thead th {\n",
              "        text-align: right;\n",
              "    }\n",
              "</style>\n",
              "<table border=\"1\" class=\"dataframe\">\n",
              "  <thead>\n",
              "    <tr style=\"text-align: right;\">\n",
              "      <th></th>\n",
              "      <th>datetimeutc</th>\n",
              "      <th>hum</th>\n",
              "      <th>pressurem</th>\n",
              "      <th>tempm</th>\n",
              "      <th>wspdm</th>\n",
              "    </tr>\n",
              "  </thead>\n",
              "  <tbody>\n",
              "    <tr>\n",
              "      <th>0</th>\n",
              "      <td>1996-11-01</td>\n",
              "      <td>52.916667</td>\n",
              "      <td>-2659.666667</td>\n",
              "      <td>22.333333</td>\n",
              "      <td>6.166667</td>\n",
              "    </tr>\n",
              "    <tr>\n",
              "      <th>1</th>\n",
              "      <td>1996-11-02</td>\n",
              "      <td>48.625000</td>\n",
              "      <td>1009.833333</td>\n",
              "      <td>22.916667</td>\n",
              "      <td>7.950000</td>\n",
              "    </tr>\n",
              "    <tr>\n",
              "      <th>2</th>\n",
              "      <td>1996-11-03</td>\n",
              "      <td>55.958333</td>\n",
              "      <td>1010.500000</td>\n",
              "      <td>21.791667</td>\n",
              "      <td>5.020833</td>\n",
              "    </tr>\n",
              "    <tr>\n",
              "      <th>3</th>\n",
              "      <td>1996-11-04</td>\n",
              "      <td>48.055556</td>\n",
              "      <td>1011.333333</td>\n",
              "      <td>22.722222</td>\n",
              "      <td>2.266667</td>\n",
              "    </tr>\n",
              "    <tr>\n",
              "      <th>4</th>\n",
              "      <td>1996-11-05</td>\n",
              "      <td>29.400000</td>\n",
              "      <td>1011.800000</td>\n",
              "      <td>27.800000</td>\n",
              "      <td>10.020000</td>\n",
              "    </tr>\n",
              "    <tr>\n",
              "      <th>...</th>\n",
              "      <td>...</td>\n",
              "      <td>...</td>\n",
              "      <td>...</td>\n",
              "      <td>...</td>\n",
              "      <td>...</td>\n",
              "    </tr>\n",
              "    <tr>\n",
              "      <th>7361</th>\n",
              "      <td>2016-12-27</td>\n",
              "      <td>67.550000</td>\n",
              "      <td>1017.200000</td>\n",
              "      <td>16.850000</td>\n",
              "      <td>8.335000</td>\n",
              "    </tr>\n",
              "    <tr>\n",
              "      <th>7362</th>\n",
              "      <td>2016-12-28</td>\n",
              "      <td>68.043478</td>\n",
              "      <td>1015.565217</td>\n",
              "      <td>17.217391</td>\n",
              "      <td>3.547826</td>\n",
              "    </tr>\n",
              "    <tr>\n",
              "      <th>7363</th>\n",
              "      <td>2016-12-29</td>\n",
              "      <td>87.857143</td>\n",
              "      <td>1016.904762</td>\n",
              "      <td>15.238095</td>\n",
              "      <td>6.000000</td>\n",
              "    </tr>\n",
              "    <tr>\n",
              "      <th>7364</th>\n",
              "      <td>2016-12-30</td>\n",
              "      <td>89.666667</td>\n",
              "      <td>1017.904762</td>\n",
              "      <td>14.095238</td>\n",
              "      <td>6.266667</td>\n",
              "    </tr>\n",
              "    <tr>\n",
              "      <th>7365</th>\n",
              "      <td>2016-12-31</td>\n",
              "      <td>85.550000</td>\n",
              "      <td>1016.100000</td>\n",
              "      <td>15.650000</td>\n",
              "      <td>7.325000</td>\n",
              "    </tr>\n",
              "  </tbody>\n",
              "</table>\n",
              "<p>7366 rows × 5 columns</p>\n",
              "</div>"
            ],
            "text/plain": [
              "     datetimeutc        hum    pressurem      tempm      wspdm\n",
              "0     1996-11-01  52.916667 -2659.666667  22.333333   6.166667\n",
              "1     1996-11-02  48.625000  1009.833333  22.916667   7.950000\n",
              "2     1996-11-03  55.958333  1010.500000  21.791667   5.020833\n",
              "3     1996-11-04  48.055556  1011.333333  22.722222   2.266667\n",
              "4     1996-11-05  29.400000  1011.800000  27.800000  10.020000\n",
              "...          ...        ...          ...        ...        ...\n",
              "7361  2016-12-27  67.550000  1017.200000  16.850000   8.335000\n",
              "7362  2016-12-28  68.043478  1015.565217  17.217391   3.547826\n",
              "7363  2016-12-29  87.857143  1016.904762  15.238095   6.000000\n",
              "7364  2016-12-30  89.666667  1017.904762  14.095238   6.266667\n",
              "7365  2016-12-31  85.550000  1016.100000  15.650000   7.325000\n",
              "\n",
              "[7366 rows x 5 columns]"
            ]
          },
          "metadata": {
            "tags": []
          },
          "execution_count": 77
        }
      ]
    },
    {
      "cell_type": "code",
      "metadata": {
        "id": "sb12Xv4aiW7v"
      },
      "source": [
        "dataset['day'] = dataset['datetimeutc'].dt.day\n",
        "dataset['month'] = dataset['datetimeutc'].dt.month\n",
        "dataset['year'] = dataset['datetimeutc'].dt.year"
      ],
      "execution_count": 78,
      "outputs": []
    },
    {
      "cell_type": "code",
      "metadata": {
        "id": "HfRh_-jhiW7y",
        "colab": {
          "base_uri": "https://localhost:8080/"
        },
        "outputId": "f4f31f3b-ae70-47bf-a75f-3eb64fc98537"
      },
      "source": [
        "dataset.isnull().sum()"
      ],
      "execution_count": 79,
      "outputs": [
        {
          "output_type": "execute_result",
          "data": {
            "text/plain": [
              "datetimeutc      0\n",
              "hum            141\n",
              "pressurem      141\n",
              "tempm          141\n",
              "wspdm          141\n",
              "day              0\n",
              "month            0\n",
              "year             0\n",
              "dtype: int64"
            ]
          },
          "metadata": {
            "tags": []
          },
          "execution_count": 79
        }
      ]
    },
    {
      "cell_type": "code",
      "metadata": {
        "id": "N9FlmUHviW71",
        "colab": {
          "base_uri": "https://localhost:8080/"
        },
        "outputId": "fd4e5fc8-58a8-4d7c-f53a-53aa8da8f714"
      },
      "source": [
        "dataset.fillna(dataset.mean(),inplace=True)"
      ],
      "execution_count": 80,
      "outputs": [
        {
          "output_type": "stream",
          "text": [
            "/usr/local/lib/python3.6/dist-packages/ipykernel_launcher.py:1: FutureWarning: DataFrame.mean and DataFrame.median with numeric_only=None will include datetime64 and datetime64tz columns in a future version.\n",
            "  \"\"\"Entry point for launching an IPython kernel.\n"
          ],
          "name": "stderr"
        }
      ]
    },
    {
      "cell_type": "code",
      "metadata": {
        "colab": {
          "base_uri": "https://localhost:8080/"
        },
        "id": "JcvGwlNXiW73",
        "outputId": "31ab5f55-8d69-481b-ee6b-35922b58d3ed"
      },
      "source": [
        "dataset.isnull().sum()"
      ],
      "execution_count": 81,
      "outputs": [
        {
          "output_type": "execute_result",
          "data": {
            "text/plain": [
              "datetimeutc    0\n",
              "hum            0\n",
              "pressurem      0\n",
              "tempm          0\n",
              "wspdm          0\n",
              "day            0\n",
              "month          0\n",
              "year           0\n",
              "dtype: int64"
            ]
          },
          "metadata": {
            "tags": []
          },
          "execution_count": 81
        }
      ]
    },
    {
      "cell_type": "code",
      "metadata": {
        "colab": {
          "base_uri": "https://localhost:8080/",
          "height": 402
        },
        "id": "F-9jFDL4iW75",
        "outputId": "6cd58ff7-77e1-4811-f246-63c80ac2c4fc"
      },
      "source": [
        "dataset_svr=dataset.drop([\"datetimeutc\"],axis=1)\n",
        "dataset_svr"
      ],
      "execution_count": 82,
      "outputs": [
        {
          "output_type": "execute_result",
          "data": {
            "text/html": [
              "<div>\n",
              "<style scoped>\n",
              "    .dataframe tbody tr th:only-of-type {\n",
              "        vertical-align: middle;\n",
              "    }\n",
              "\n",
              "    .dataframe tbody tr th {\n",
              "        vertical-align: top;\n",
              "    }\n",
              "\n",
              "    .dataframe thead th {\n",
              "        text-align: right;\n",
              "    }\n",
              "</style>\n",
              "<table border=\"1\" class=\"dataframe\">\n",
              "  <thead>\n",
              "    <tr style=\"text-align: right;\">\n",
              "      <th></th>\n",
              "      <th>hum</th>\n",
              "      <th>pressurem</th>\n",
              "      <th>tempm</th>\n",
              "      <th>wspdm</th>\n",
              "      <th>day</th>\n",
              "      <th>month</th>\n",
              "      <th>year</th>\n",
              "    </tr>\n",
              "  </thead>\n",
              "  <tbody>\n",
              "    <tr>\n",
              "      <th>0</th>\n",
              "      <td>52.916667</td>\n",
              "      <td>-2659.666667</td>\n",
              "      <td>22.333333</td>\n",
              "      <td>6.166667</td>\n",
              "      <td>1</td>\n",
              "      <td>11</td>\n",
              "      <td>1996</td>\n",
              "    </tr>\n",
              "    <tr>\n",
              "      <th>1</th>\n",
              "      <td>48.625000</td>\n",
              "      <td>1009.833333</td>\n",
              "      <td>22.916667</td>\n",
              "      <td>7.950000</td>\n",
              "      <td>2</td>\n",
              "      <td>11</td>\n",
              "      <td>1996</td>\n",
              "    </tr>\n",
              "    <tr>\n",
              "      <th>2</th>\n",
              "      <td>55.958333</td>\n",
              "      <td>1010.500000</td>\n",
              "      <td>21.791667</td>\n",
              "      <td>5.020833</td>\n",
              "      <td>3</td>\n",
              "      <td>11</td>\n",
              "      <td>1996</td>\n",
              "    </tr>\n",
              "    <tr>\n",
              "      <th>3</th>\n",
              "      <td>48.055556</td>\n",
              "      <td>1011.333333</td>\n",
              "      <td>22.722222</td>\n",
              "      <td>2.266667</td>\n",
              "      <td>4</td>\n",
              "      <td>11</td>\n",
              "      <td>1996</td>\n",
              "    </tr>\n",
              "    <tr>\n",
              "      <th>4</th>\n",
              "      <td>29.400000</td>\n",
              "      <td>1011.800000</td>\n",
              "      <td>27.800000</td>\n",
              "      <td>10.020000</td>\n",
              "      <td>5</td>\n",
              "      <td>11</td>\n",
              "      <td>1996</td>\n",
              "    </tr>\n",
              "    <tr>\n",
              "      <th>...</th>\n",
              "      <td>...</td>\n",
              "      <td>...</td>\n",
              "      <td>...</td>\n",
              "      <td>...</td>\n",
              "      <td>...</td>\n",
              "      <td>...</td>\n",
              "      <td>...</td>\n",
              "    </tr>\n",
              "    <tr>\n",
              "      <th>7361</th>\n",
              "      <td>67.550000</td>\n",
              "      <td>1017.200000</td>\n",
              "      <td>16.850000</td>\n",
              "      <td>8.335000</td>\n",
              "      <td>27</td>\n",
              "      <td>12</td>\n",
              "      <td>2016</td>\n",
              "    </tr>\n",
              "    <tr>\n",
              "      <th>7362</th>\n",
              "      <td>68.043478</td>\n",
              "      <td>1015.565217</td>\n",
              "      <td>17.217391</td>\n",
              "      <td>3.547826</td>\n",
              "      <td>28</td>\n",
              "      <td>12</td>\n",
              "      <td>2016</td>\n",
              "    </tr>\n",
              "    <tr>\n",
              "      <th>7363</th>\n",
              "      <td>87.857143</td>\n",
              "      <td>1016.904762</td>\n",
              "      <td>15.238095</td>\n",
              "      <td>6.000000</td>\n",
              "      <td>29</td>\n",
              "      <td>12</td>\n",
              "      <td>2016</td>\n",
              "    </tr>\n",
              "    <tr>\n",
              "      <th>7364</th>\n",
              "      <td>89.666667</td>\n",
              "      <td>1017.904762</td>\n",
              "      <td>14.095238</td>\n",
              "      <td>6.266667</td>\n",
              "      <td>30</td>\n",
              "      <td>12</td>\n",
              "      <td>2016</td>\n",
              "    </tr>\n",
              "    <tr>\n",
              "      <th>7365</th>\n",
              "      <td>85.550000</td>\n",
              "      <td>1016.100000</td>\n",
              "      <td>15.650000</td>\n",
              "      <td>7.325000</td>\n",
              "      <td>31</td>\n",
              "      <td>12</td>\n",
              "      <td>2016</td>\n",
              "    </tr>\n",
              "  </tbody>\n",
              "</table>\n",
              "<p>7366 rows × 7 columns</p>\n",
              "</div>"
            ],
            "text/plain": [
              "            hum    pressurem      tempm      wspdm  day  month  year\n",
              "0     52.916667 -2659.666667  22.333333   6.166667    1     11  1996\n",
              "1     48.625000  1009.833333  22.916667   7.950000    2     11  1996\n",
              "2     55.958333  1010.500000  21.791667   5.020833    3     11  1996\n",
              "3     48.055556  1011.333333  22.722222   2.266667    4     11  1996\n",
              "4     29.400000  1011.800000  27.800000  10.020000    5     11  1996\n",
              "...         ...          ...        ...        ...  ...    ...   ...\n",
              "7361  67.550000  1017.200000  16.850000   8.335000   27     12  2016\n",
              "7362  68.043478  1015.565217  17.217391   3.547826   28     12  2016\n",
              "7363  87.857143  1016.904762  15.238095   6.000000   29     12  2016\n",
              "7364  89.666667  1017.904762  14.095238   6.266667   30     12  2016\n",
              "7365  85.550000  1016.100000  15.650000   7.325000   31     12  2016\n",
              "\n",
              "[7366 rows x 7 columns]"
            ]
          },
          "metadata": {
            "tags": []
          },
          "execution_count": 82
        }
      ]
    },
    {
      "cell_type": "code",
      "metadata": {
        "colab": {
          "base_uri": "https://localhost:8080/"
        },
        "id": "p9xboOUIlD_R",
        "outputId": "c1876de0-1702-48b6-b33e-e54ef1c4f994"
      },
      "source": [
        "y=dataset_svr[\"tempm\"]\n",
        "y"
      ],
      "execution_count": 83,
      "outputs": [
        {
          "output_type": "execute_result",
          "data": {
            "text/plain": [
              "0       22.333333\n",
              "1       22.916667\n",
              "2       21.791667\n",
              "3       22.722222\n",
              "4       27.800000\n",
              "          ...    \n",
              "7361    16.850000\n",
              "7362    17.217391\n",
              "7363    15.238095\n",
              "7364    14.095238\n",
              "7365    15.650000\n",
              "Name: tempm, Length: 7366, dtype: float64"
            ]
          },
          "metadata": {
            "tags": []
          },
          "execution_count": 83
        }
      ]
    },
    {
      "cell_type": "code",
      "metadata": {
        "id": "2kB7qu8dlH1t"
      },
      "source": [
        "dataset_svr.drop(\"tempm\",inplace=True,axis=1)"
      ],
      "execution_count": 84,
      "outputs": []
    },
    {
      "cell_type": "code",
      "metadata": {
        "colab": {
          "base_uri": "https://localhost:8080/"
        },
        "id": "v3ctNVWElLtq",
        "outputId": "2834fb4c-31f9-45f9-9641-e9b23ab7392e"
      },
      "source": [
        "dataset_svr.columns"
      ],
      "execution_count": 85,
      "outputs": [
        {
          "output_type": "execute_result",
          "data": {
            "text/plain": [
              "Index(['hum', 'pressurem', 'wspdm', 'day', 'month', 'year'], dtype='object')"
            ]
          },
          "metadata": {
            "tags": []
          },
          "execution_count": 85
        }
      ]
    },
    {
      "cell_type": "code",
      "metadata": {
        "colab": {
          "base_uri": "https://localhost:8080/"
        },
        "id": "deUe_m0olO7d",
        "outputId": "de1db5de-67df-44f6-8d44-0ab0e5bcc141"
      },
      "source": [
        "X=dataset_svr.iloc[:,:].values\n",
        "X.shape"
      ],
      "execution_count": 86,
      "outputs": [
        {
          "output_type": "execute_result",
          "data": {
            "text/plain": [
              "(7366, 6)"
            ]
          },
          "metadata": {
            "tags": []
          },
          "execution_count": 86
        }
      ]
    },
    {
      "cell_type": "code",
      "metadata": {
        "colab": {
          "base_uri": "https://localhost:8080/"
        },
        "id": "4mTq_wRClSX2",
        "outputId": "d29af750-36ec-4e15-c4a4-a234b85acf72"
      },
      "source": [
        "y=y.values\n",
        "y.shape"
      ],
      "execution_count": 87,
      "outputs": [
        {
          "output_type": "execute_result",
          "data": {
            "text/plain": [
              "(7366,)"
            ]
          },
          "metadata": {
            "tags": []
          },
          "execution_count": 87
        }
      ]
    },
    {
      "cell_type": "code",
      "metadata": {
        "id": "1ahyUH1ilU4b"
      },
      "source": [
        "from sklearn.model_selection import train_test_split"
      ],
      "execution_count": 88,
      "outputs": []
    },
    {
      "cell_type": "code",
      "metadata": {
        "id": "IjGu7kgplX2H"
      },
      "source": [
        "X_train,X_test,y_train,y_test=train_test_split(X,y,test_size=0.10,random_state=0)"
      ],
      "execution_count": 89,
      "outputs": []
    },
    {
      "cell_type": "code",
      "metadata": {
        "colab": {
          "base_uri": "https://localhost:8080/"
        },
        "id": "GwbxJh9zlZLR",
        "outputId": "5eabd6c4-f921-4e59-c5d0-d35649029853"
      },
      "source": [
        "print(\"Shape of X_train\", X_train.shape)\n",
        "print(\"Shape of X_test\", X_test.shape)\n",
        "print(\"Shape of y_train\", y_train.shape)\n",
        "print(\"Shape of y_test\", y_test.shape)"
      ],
      "execution_count": 90,
      "outputs": [
        {
          "output_type": "stream",
          "text": [
            "Shape of X_train (6629, 6)\n",
            "Shape of X_test (737, 6)\n",
            "Shape of y_train (6629,)\n",
            "Shape of y_test (737,)\n"
          ],
          "name": "stdout"
        }
      ]
    },
    {
      "cell_type": "code",
      "metadata": {
        "id": "PE9jkGQgqrg6"
      },
      "source": [
        "from sklearn.preprocessing import StandardScaler\n",
        "sc_X=StandardScaler()\n",
        "sc_Y=StandardScaler()\n",
        "X_train=sc_X.fit_transform(X_train)\n",
        "y_train=np.array(y_train).reshape(-1,1)\n",
        "y_train=sc_Y.fit_transform(y_train)\n",
        "# y_train=np.array(y_train).reshape(-1,1)"
      ],
      "execution_count": 91,
      "outputs": []
    },
    {
      "cell_type": "code",
      "metadata": {
        "id": "is8oSSsFla_x"
      },
      "source": [
        "from sklearn.svm import SVR\n",
        "regressor = SVR(kernel = 'rbf')"
      ],
      "execution_count": 92,
      "outputs": []
    },
    {
      "cell_type": "code",
      "metadata": {
        "colab": {
          "base_uri": "https://localhost:8080/"
        },
        "id": "3_doXmTQldu1",
        "outputId": "80a1ff30-56fc-425d-c5da-7943a5815dd1"
      },
      "source": [
        "regressor.fit(X_train,y_train.ravel())"
      ],
      "execution_count": 93,
      "outputs": [
        {
          "output_type": "execute_result",
          "data": {
            "text/plain": [
              "SVR(C=1.0, cache_size=200, coef0=0.0, degree=3, epsilon=0.1, gamma='scale',\n",
              "    kernel='rbf', max_iter=-1, shrinking=True, tol=0.001, verbose=False)"
            ]
          },
          "metadata": {
            "tags": []
          },
          "execution_count": 93
        }
      ]
    },
    {
      "cell_type": "code",
      "metadata": {
        "id": "mXzg4nYwljXV"
      },
      "source": [
        "y_pred=regressor.predict(X_test)"
      ],
      "execution_count": 94,
      "outputs": []
    },
    {
      "cell_type": "code",
      "metadata": {
        "colab": {
          "base_uri": "https://localhost:8080/"
        },
        "id": "IL4eLYaUlxzE",
        "outputId": "f61a8866-ec25-49f5-e669-35dbff1911bf"
      },
      "source": [
        "y_pred=sc_Y.inverse_transform(y_pred)\n",
        "y_pred"
      ],
      "execution_count": 95,
      "outputs": [
        {
          "output_type": "execute_result",
          "data": {
            "text/plain": [
              "array([19.84449357, 19.84449357, 19.84449357, 19.84449357, 19.84449357,\n",
              "       19.84449357, 19.84449357, 19.84449357, 19.84449357, 19.84449357,\n",
              "       19.84449357, 19.84449357, 19.84449357, 19.84449357, 19.84449357,\n",
              "       19.84449357, 19.84449357, 19.84449357, 19.84449357, 19.84449357,\n",
              "       19.84449357, 19.84449357, 19.84449357, 19.84449357, 19.84449357,\n",
              "       19.84449357, 19.84449357, 19.84449357, 19.84449357, 19.84449357,\n",
              "       19.84449357, 19.84449357, 19.84449357, 19.84449357, 19.84449357,\n",
              "       19.84449357, 19.84449357, 19.84449357, 19.84449357, 19.84449357,\n",
              "       19.84449357, 19.84449357, 19.84449357, 19.84449357, 19.84449357,\n",
              "       19.84449357, 19.84449357, 19.84449357, 19.84449357, 19.84449357,\n",
              "       19.84449357, 19.84449357, 19.84449357, 19.84449357, 19.84449357,\n",
              "       19.84449357, 19.84449357, 19.84449357, 19.84449357, 19.84449357,\n",
              "       19.84449357, 19.84449357, 19.84449357, 19.84449357, 19.84449357,\n",
              "       19.84449357, 19.84449357, 19.84449357, 19.84449357, 19.84449357,\n",
              "       19.84449357, 19.84449357, 19.84449357, 19.84449357, 19.84449357,\n",
              "       19.84449357, 19.84449357, 19.84449357, 19.84449357, 19.84449357,\n",
              "       19.84449357, 19.84449357, 19.84449357, 19.84449357, 19.84449357,\n",
              "       19.84449357, 19.84449357, 19.84449357, 19.84449357, 19.84449357,\n",
              "       19.84449357, 19.84449357, 19.84449357, 19.84449357, 19.84449357,\n",
              "       19.84449357, 19.84449357, 19.84449357, 19.84449357, 19.84449357,\n",
              "       19.84449357, 19.84449357, 19.84449357, 19.84449357, 19.84449357,\n",
              "       19.84449357, 19.84449357, 19.84449357, 19.84449357, 19.84449357,\n",
              "       19.84449357, 19.84449357, 19.84449357, 19.84449357, 19.84449357,\n",
              "       19.84449357, 19.84449357, 19.84449357, 19.84449357, 19.84449357,\n",
              "       19.84449357, 19.84449357, 19.84449357, 19.84449357, 19.84449357,\n",
              "       19.84449357, 19.84449357, 19.84449357, 19.84449357, 19.84449357,\n",
              "       19.84449357, 19.84449357, 19.84449357, 19.84449357, 19.84449357,\n",
              "       19.84449357, 19.84449357, 19.84449357, 19.84449357, 19.84449357,\n",
              "       19.84449357, 19.84449357, 19.84449357, 19.84449357, 19.84449357,\n",
              "       19.84449357, 19.84449357, 19.84449357, 19.84449357, 19.84449357,\n",
              "       19.84449357, 19.84449357, 19.84449357, 19.84449357, 19.84449357,\n",
              "       19.84449357, 19.84449357, 19.84449357, 19.84449357, 19.84449357,\n",
              "       19.84449357, 19.84449357, 19.84449357, 19.84449357, 19.84449357,\n",
              "       19.84449357, 19.84449357, 19.84449357, 19.84449357, 19.84449357,\n",
              "       19.84449357, 19.84449357, 19.84449357, 19.84449357, 19.84449357,\n",
              "       19.84449357, 19.84449357, 19.84449357, 19.84449357, 19.84449357,\n",
              "       19.84449357, 19.84449357, 19.84449357, 19.84449357, 19.84449357,\n",
              "       19.84449357, 19.84449357, 19.84449357, 19.84449357, 19.84449357,\n",
              "       19.84449357, 19.84449357, 19.84449357, 19.84449357, 19.84449357,\n",
              "       19.84449357, 19.84449357, 19.84449357, 19.84449357, 19.84449357,\n",
              "       19.84449357, 19.84449357, 19.84449357, 19.84449357, 19.84449357,\n",
              "       19.84449357, 19.84449357, 19.84449357, 19.84449357, 19.84449357,\n",
              "       19.84449357, 19.84449357, 19.84449357, 19.84449357, 19.84449357,\n",
              "       19.84449357, 19.84449357, 19.84449357, 19.84449357, 19.84449357,\n",
              "       19.84449357, 19.84449357, 19.84449357, 19.84449357, 19.84449357,\n",
              "       19.84449357, 19.84449357, 19.84449357, 19.84449357, 19.84449357,\n",
              "       19.84449357, 19.84449357, 19.84449357, 19.84449357, 19.84449357,\n",
              "       19.84449357, 19.84449357, 19.84449357, 19.84449357, 19.84449357,\n",
              "       19.84449357, 19.84449357, 19.84449357, 19.84449357, 19.84449357,\n",
              "       19.84449357, 19.84449357, 19.84449357, 19.84449357, 19.84449357,\n",
              "       19.84449357, 19.84449357, 19.84449357, 19.84449357, 19.84449357,\n",
              "       19.84449357, 19.84449357, 19.84449357, 19.84449357, 19.84449357,\n",
              "       19.84449357, 19.84449357, 19.84449357, 19.84449357, 19.84449357,\n",
              "       19.84449357, 19.84449357, 19.84449357, 19.84449357, 19.84449357,\n",
              "       19.84449357, 19.84449357, 19.84449357, 19.84449357, 19.84449357,\n",
              "       19.84449357, 19.84449357, 19.84449357, 19.84449357, 19.84449357,\n",
              "       19.84449357, 19.84449357, 19.84449357, 19.84449357, 19.84449357,\n",
              "       19.84449357, 19.84449357, 19.84449357, 19.84449357, 19.84449357,\n",
              "       19.84449357, 19.84449357, 19.84449357, 19.84449357, 19.84449357,\n",
              "       19.84449357, 19.84449357, 19.84449357, 19.84449357, 19.84449357,\n",
              "       19.84449357, 19.84449357, 19.84449357, 19.84449357, 19.84449357,\n",
              "       19.84449357, 19.84449357, 19.84449357, 19.84449357, 19.84449357,\n",
              "       19.84449357, 19.84449357, 19.84449357, 19.84449357, 19.84449357,\n",
              "       19.84449357, 19.84449357, 19.84449357, 19.84449357, 19.84449357,\n",
              "       19.84449357, 19.84449357, 19.84449357, 19.84449357, 19.84449357,\n",
              "       19.84449357, 19.84449357, 19.84449357, 19.84449357, 19.84449357,\n",
              "       19.84449357, 19.84449357, 19.84449357, 19.84449357, 19.84449357,\n",
              "       19.84449357, 19.84449357, 19.84449357, 19.84449357, 19.84449357,\n",
              "       19.84449357, 19.84449357, 19.84449357, 19.84449357, 19.84449357,\n",
              "       19.84449357, 19.84449357, 19.84449357, 19.84449357, 19.84449357,\n",
              "       19.84449357, 19.84449357, 19.84449357, 19.84449357, 19.84449357,\n",
              "       19.84449357, 19.84449357, 19.84449357, 19.84449357, 19.84449357,\n",
              "       19.84449357, 19.84449357, 19.84449357, 19.84449357, 19.84449357,\n",
              "       19.84449357, 19.84449357, 19.84449357, 19.84449357, 19.84449357,\n",
              "       19.84449357, 19.84449357, 19.84449357, 19.84449357, 19.84449357,\n",
              "       19.84449357, 19.84449357, 19.84449357, 19.84449357, 19.84449357,\n",
              "       19.84449357, 19.84449357, 19.84449357, 19.84449357, 19.84449357,\n",
              "       19.84449357, 19.84449357, 19.84449357, 19.84449357, 19.84449357,\n",
              "       19.84449357, 19.84449357, 19.84449357, 19.84449357, 19.84449357,\n",
              "       19.84449357, 19.84449357, 19.84449357, 19.84449357, 19.84449357,\n",
              "       19.84449357, 19.84449357, 19.84449357, 19.84449357, 19.84449357,\n",
              "       19.84449357, 19.84449357, 19.84449357, 19.84449357, 19.84449357,\n",
              "       19.84449357, 19.84449357, 19.84449357, 19.84449357, 19.84449357,\n",
              "       19.84449357, 19.84449357, 19.84449357, 19.84449357, 19.84449357,\n",
              "       19.84449357, 19.84449357, 19.84449357, 19.84449357, 19.84449357,\n",
              "       19.84449357, 19.84449357, 19.84449357, 19.84449357, 19.84449357,\n",
              "       19.84449357, 19.84449357, 19.84449357, 19.84449357, 19.84449357,\n",
              "       19.84449357, 19.84449357, 19.84449357, 19.84449357, 19.84449357,\n",
              "       19.84449357, 19.84449357, 19.84449357, 19.84449357, 19.84449357,\n",
              "       19.84449357, 19.84449357, 19.84449357, 19.84449357, 19.84449357,\n",
              "       19.84449357, 19.84449357, 19.84449357, 19.84449357, 19.84449357,\n",
              "       19.84449357, 19.84449357, 19.84449357, 19.84449357, 19.84449357,\n",
              "       19.84449357, 19.84449357, 19.84449357, 19.84449357, 19.84449357,\n",
              "       19.84449357, 19.84449357, 19.84449357, 19.84449357, 19.84449357,\n",
              "       19.84449357, 19.84449357, 19.84449357, 19.84449357, 19.84449357,\n",
              "       19.84449357, 19.84449357, 19.84449357, 19.84449357, 19.84449357,\n",
              "       19.84449357, 19.84449357, 19.84449357, 19.84449357, 19.84449357,\n",
              "       19.84449357, 19.84449357, 19.84449357, 19.84449357, 19.84449357,\n",
              "       19.84449357, 19.84449357, 19.84449357, 19.84449357, 19.84449357,\n",
              "       19.84449357, 19.84449357, 19.84449357, 19.84449357, 19.84449357,\n",
              "       19.84449357, 19.84449357, 19.84449357, 19.84449357, 19.84449357,\n",
              "       19.84449357, 19.84449357, 19.84449357, 19.84449357, 19.84449357,\n",
              "       19.84449357, 19.84449357, 19.84449357, 19.84449357, 19.84449357,\n",
              "       19.84449357, 19.84449357, 19.84449357, 19.84449357, 19.84449357,\n",
              "       19.84449357, 19.84449357, 19.84449357, 19.84449357, 19.84449357,\n",
              "       19.84449357, 19.84449357, 19.84449357, 19.84449357, 19.84449357,\n",
              "       19.84449357, 19.84449357, 19.84449357, 19.84449357, 19.84449357,\n",
              "       19.84449357, 19.84449357, 19.84449357, 19.84449357, 19.84449357,\n",
              "       19.84449357, 19.84449357, 19.84449357, 19.84449357, 19.84449357,\n",
              "       19.84449357, 19.84449357, 19.84449357, 19.84449357, 19.84449357,\n",
              "       19.84449357, 19.84449357, 19.84449357, 19.84449357, 19.84449357,\n",
              "       19.84449357, 19.84449357, 19.84449357, 19.84449357, 19.84449357,\n",
              "       19.84449357, 19.84449357, 19.84449357, 19.84449357, 19.84449357,\n",
              "       19.84449357, 19.84449357, 19.84449357, 19.84449357, 19.84449357,\n",
              "       19.84449357, 19.84449357, 19.84449357, 19.84449357, 19.84449357,\n",
              "       19.84449357, 19.84449357, 19.84449357, 19.84449357, 19.84449357,\n",
              "       19.84449357, 19.84449357, 19.84449357, 19.84449357, 19.84449357,\n",
              "       19.84449357, 19.84449357, 19.84449357, 19.84449357, 19.84449357,\n",
              "       19.84449357, 19.84449357, 19.84449357, 19.84449357, 19.84449357,\n",
              "       19.84449357, 19.84449357, 19.84449357, 19.84449357, 19.84449357,\n",
              "       19.84449357, 19.84449357, 19.84449357, 19.84449357, 19.84449357,\n",
              "       19.84449357, 19.84449357, 19.84449357, 19.84449357, 19.84449357,\n",
              "       19.84449357, 19.84449357, 19.84449357, 19.84449357, 19.84449357,\n",
              "       19.84449357, 19.84449357, 19.84449357, 19.84449357, 19.84449357,\n",
              "       19.84449357, 19.84449357, 19.84449357, 19.84449357, 19.84449357,\n",
              "       19.84449357, 19.84449357, 19.84449357, 19.84449357, 19.84449357,\n",
              "       19.84449357, 19.84449357, 19.84449357, 19.84449357, 19.84449357,\n",
              "       19.84449357, 19.84449357, 19.84449357, 19.84449357, 19.84449357,\n",
              "       19.84449357, 19.84449357, 19.84449357, 19.84449357, 19.84449357,\n",
              "       19.84449357, 19.84449357, 19.84449357, 19.84449357, 19.84449357,\n",
              "       19.84449357, 19.84449357, 19.84449357, 19.84449357, 19.84449357,\n",
              "       19.84449357, 19.84449357, 19.84449357, 19.84449357, 19.84449357,\n",
              "       19.84449357, 19.84449357, 19.84449357, 19.84449357, 19.84449357,\n",
              "       19.84449357, 19.84449357, 19.84449357, 19.84449357, 19.84449357,\n",
              "       19.84449357, 19.84449357, 19.84449357, 19.84449357, 19.84449357,\n",
              "       19.84449357, 19.84449357, 19.84449357, 19.84449357, 19.84449357,\n",
              "       19.84449357, 19.84449357, 19.84449357, 19.84449357, 19.84449357,\n",
              "       19.84449357, 19.84449357, 19.84449357, 19.84449357, 19.84449357,\n",
              "       19.84449357, 19.84449357, 19.84449357, 19.84449357, 19.84449357,\n",
              "       19.84449357, 19.84449357, 19.84449357, 19.84449357, 19.84449357,\n",
              "       19.84449357, 19.84449357, 19.84449357, 19.84449357, 19.84449357,\n",
              "       19.84449357, 19.84449357, 19.84449357, 19.84449357, 19.84449357,\n",
              "       19.84449357, 19.84449357, 19.84449357, 19.84449357, 19.84449357,\n",
              "       19.84449357, 19.84449357, 19.84449357, 19.84449357, 19.84449357,\n",
              "       19.84449357, 19.84449357, 19.84449357, 19.84449357, 19.84449357,\n",
              "       19.84449357, 19.84449357, 19.84449357, 19.84449357, 19.84449357,\n",
              "       19.84449357, 19.84449357, 19.84449357, 19.84449357, 19.84449357,\n",
              "       19.84449357, 19.84449357])"
            ]
          },
          "metadata": {
            "tags": []
          },
          "execution_count": 95
        }
      ]
    },
    {
      "cell_type": "code",
      "metadata": {
        "colab": {
          "base_uri": "https://localhost:8080/"
        },
        "id": "-icYVE2blzi3",
        "outputId": "c545e32a-6618-42e1-95bb-7ea4e8e998bf"
      },
      "source": [
        "y_test"
      ],
      "execution_count": 96,
      "outputs": [
        {
          "output_type": "execute_result",
          "data": {
            "text/plain": [
              "array([28.875     , 32.5       , 24.75      , 36.5       , 31.        ,\n",
              "       32.75862069, 25.        , 32.85714286, 14.5       ,  9.57142857,\n",
              "       16.125     , 35.66666667, 19.18181818, 26.        , 27.625     ,\n",
              "       29.625     , 11.35714286, 12.875     , 26.71428571, 11.39534884,\n",
              "       34.75      , 17.625     , 30.63636364, 28.        , 12.375     ,\n",
              "       32.25      , 18.81818182, 27.75      , 15.66666667, 38.25      ,\n",
              "       27.125     , 22.71428571, 11.75      , 11.625     , 26.875     ,\n",
              "       21.82608696, 30.5       , 32.30769231, 19.88888889, 25.15093453,\n",
              "       22.625     , 34.125     , 32.        , 28.5       , 20.5       ,\n",
              "       31.5       , 38.79166667, 33.43478261, 26.32608696, 30.25      ,\n",
              "       18.63636364, 31.75      , 34.75      , 19.54166667, 28.04545455,\n",
              "       13.86363636, 16.28571429, 32.29411765, 32.625     , 37.43478261,\n",
              "       30.78571429, 34.95555556, 25.75      , 20.02380952, 27.375     ,\n",
              "       28.95833333, 33.5       , 20.        , 30.61904762, 34.28571429,\n",
              "       31.47826087, 25.        , 32.625     , 31.375     , 21.85714286,\n",
              "       34.        , 17.375     , 14.73809524, 37.19565217, 15.5       ,\n",
              "       32.        , 28.625     , 30.375     , 27.60869565, 28.625     ,\n",
              "       23.        , 24.5       , 23.04545455, 12.84210526, 13.625     ,\n",
              "       31.375     , 30.125     , 15.04545455, 29.        , 12.375     ,\n",
              "       27.875     , 36.41666667, 18.375     , 21.33333333, 27.5       ,\n",
              "       34.51162791, 24.625     , 28.375     , 19.5       , 26.30769231,\n",
              "       26.42857143, 26.375     , 20.5       , 27.875     , 35.42857143,\n",
              "       24.5       , 29.375     , 11.75      , 29.5       , 32.88888889,\n",
              "       13.95454545, 15.        , 33.375     , 19.        , 16.125     ,\n",
              "       32.09302326, 30.65      , 25.7       , 28.04347826, 34.        ,\n",
              "       25.06666667, 29.25      , 23.55555556, 19.93023256, 32.        ,\n",
              "       37.45833333, 30.875     , 29.96      , 14.5       , 19.375     ,\n",
              "       31.25      , 25.15093453,  9.58333333, 32.75      , 20.        ,\n",
              "       11.33333333,  9.375     , 31.5       , 21.71428571, 25.15093453,\n",
              "       35.375     , 36.25      , 30.5       , 16.58333333, 28.34090909,\n",
              "       18.        , 11.27272727, 32.75      , 31.75      , 11.625     ,\n",
              "       36.        , 15.36363636, 37.22222222, 27.70833333, 28.125     ,\n",
              "       18.        , 35.66666667, 20.70833333, 32.79166667, 31.        ,\n",
              "       26.71428571, 33.125     , 30.125     , 31.        , 33.09090909,\n",
              "       22.5       , 11.71428571, 31.875     , 34.69565217, 13.9375    ,\n",
              "       30.08333333, 21.125     , 38.7173913 , 38.875     , 28.71428571,\n",
              "       23.62222222, 29.86363636, 24.375     , 21.16666667, 30.22727273,\n",
              "       31.25      , 24.25      , 28.85714286, 28.25      , 20.14285714,\n",
              "       32.14285714, 16.23809524, 20.        , 28.        , 12.25      ,\n",
              "       32.375     , 32.375     , 27.07692308, 30.56521739, 30.35555556,\n",
              "       22.77777778, 16.3       , 32.42857143, 36.75      , 20.71428571,\n",
              "       33.        , 30.125     , 31.25      , 24.        , 29.04166667,\n",
              "       16.25      , 31.38888889, 26.2173913 , 30.        , 28.125     ,\n",
              "       18.5       , 33.        , 31.        , 36.25      , 34.52173913,\n",
              "       30.        , 13.64      , 28.125     , 37.29411765, 14.23255814,\n",
              "       29.8       , 33.16666667, 31.77272727, 33.        , 12.80952381,\n",
              "       33.83333333, 33.        , 21.75      , 21.625     , 39.76086957,\n",
              "       16.57142857, 14.        , 33.75      , 24.54545455, 16.20833333,\n",
              "       20.12      , 33.57142857, 23.875     , 33.4375    , 23.11538462,\n",
              "       32.07142857, 14.25      , 25.15093453, 24.57142857, 28.625     ,\n",
              "       35.125     , 26.33333333, 30.25      , 18.125     , 26.125     ,\n",
              "       33.125     , 27.25      , 16.83333333, 31.17777778, 12.625     ,\n",
              "       32.78571429, 15.25      , 22.8       , 15.25      ,  8.875     ,\n",
              "       16.06666667, 30.72222222, 31.875     , 16.75      , 31.5       ,\n",
              "       14.66666667, 30.25      , 14.375     , 28.75      , 13.25      ,\n",
              "       20.85106383, 28.04347826, 34.625     , 33.        , 15.28571429,\n",
              "       28.59090909, 23.25      , 33.625     , 26.        , 27.75      ,\n",
              "       30.32142857, 28.71428571, 16.33333333, 29.66666667, 14.625     ,\n",
              "       25.54166667, 27.42857143, 29.875     , 27.375     , 35.28571429,\n",
              "       29.96      , 31.58333333, 21.        , 20.65217391, 12.75      ,\n",
              "       33.75      , 12.875     , 13.875     , 25.95833333, 38.64      ,\n",
              "       28.83333333, 34.0625    , 19.75      , 19.86363636, 30.5       ,\n",
              "       18.43478261, 22.375     , 15.07692308, 29.5       , 15.        ,\n",
              "       15.25      , 31.125     , 18.75      , 27.20833333, 26.125     ,\n",
              "       36.        ,  8.68      , 11.5       , 27.09090909, 18.25      ,\n",
              "       16.47826087, 13.75      , 17.5       , 27.875     , 21.53846154,\n",
              "       29.19148936, 32.36363636, 34.625     , 27.76086957, 24.625     ,\n",
              "       23.        , 31.        , 23.5952381 , 11.        , 22.8       ,\n",
              "       30.5       , 18.08333333, 31.125     , 35.46153846, 32.85714286,\n",
              "       15.25      , 30.7037037 , 13.125     , 31.31818182, 37.125     ,\n",
              "       31.75      , 35.5       , 34.5       , 19.42857143, 20.5       ,\n",
              "       20.        , 28.92307692, 18.25      , 35.625     , 32.375     ,\n",
              "       30.375     , 13.5       , 25.        , 14.125     , 17.25      ,\n",
              "       12.65217391, 28.83333333, 25.28571429, 35.85714286, 35.20833333,\n",
              "       25.85714286, 30.5       , 30.75      , 36.        , 33.375     ,\n",
              "       20.45833333, 30.28571429, 25.15093453, 27.14285714, 14.7826087 ,\n",
              "       17.        , 30.875     , 31.58333333, 32.58333333, 23.375     ,\n",
              "       19.625     , 28.06666667, 19.5       , 28.5       , 34.625     ,\n",
              "       30.625     , 30.5       , 35.33333333, 29.75      , 23.        ,\n",
              "       34.8       , 29.5       , 14.04347826, 11.14285714, 17.70454545,\n",
              "       34.08695652, 25.8       , 28.04545455, 30.16666667, 34.625     ,\n",
              "       35.63157895, 29.125     , 31.69767442, 29.13043478, 37.125     ,\n",
              "       29.5       , 32.875     , 13.        , 18.47058824, 30.91304348,\n",
              "       14.42857143, 13.125     , 32.25      , 29.2173913 , 18.375     ,\n",
              "       17.        , 25.15093453, 33.125     , 36.5       , 31.875     ,\n",
              "       12.625     , 17.6       , 30.25      , 31.48      , 34.66666667,\n",
              "       25.15093453, 17.6       , 32.71428571, 12.        , 15.65      ,\n",
              "       27.        , 12.42105263, 27.        , 29.28571429, 28.25      ,\n",
              "       24.125     , 14.85714286, 17.66666667, 34.59090909, 32.375     ,\n",
              "       33.5       , 13.16666667, 20.5       , 33.        , 23.        ,\n",
              "       33.0625    , 22.375     , 25.85714286, 26.125     , 19.25      ,\n",
              "       18.5       , 19.5       , 18.14285714, 16.625     , 24.16666667,\n",
              "       29.96296296, 18.86363636, 21.20833333, 29.        , 19.11111111,\n",
              "       20.58333333, 28.875     , 27.33333333, 28.25      , 30.5       ,\n",
              "       23.33333333, 17.125     , 34.3125    , 11.75      , 29.22222222,\n",
              "       24.        , 12.375     , 19.86956522, 30.5       , 26.75      ,\n",
              "       33.375     , 13.        , 24.875     , 30.125     , 30.125     ,\n",
              "       32.73913043, 33.52173913, 34.58333333, 32.375     , 14.95833333,\n",
              "       19.625     , 33.6       , 34.59259259, 25.375     , 28.79166667,\n",
              "        9.875     , 16.57142857, 28.28571429, 12.25      , 24.        ,\n",
              "       20.65116279, 25.15093453, 24.6       , 27.61904762, 37.5625    ,\n",
              "       30.5       , 29.125     , 16.52173913, 17.125     ,  9.875     ,\n",
              "       26.23076923, 16.04166667, 33.875     , 28.95652174, 33.08333333,\n",
              "       31.875     , 37.125     , 17.71428571, 30.28571429, 21.875     ,\n",
              "       12.5       , 26.4       , 17.125     , 29.15789474, 17.375     ,\n",
              "       34.625     , 29.64705882, 29.5       , 15.        , 30.875     ,\n",
              "       32.27272727, 27.5       ,  8.625     , 25.16666667, 14.875     ,\n",
              "       21.44444444, 25.15093453, 31.72727273, 29.125     , 22.75      ,\n",
              "       32.5       , 29.875     , 28.41666667, 29.5       , 17.        ,\n",
              "       30.75      ,  9.08695652, 22.25      , 21.6       , 22.875     ,\n",
              "       23.125     , 32.22727273, 14.75      , 24.06666667, 30.42857143,\n",
              "       15.28571429, 32.625     , 24.875     , 26.28571429, 29.15      ,\n",
              "       31.625     , 37.35714286, 30.75      , 15.5       , 33.08333333,\n",
              "       21.20833333,  9.85714286, 26.875     , 31.45833333, 30.74468085,\n",
              "       28.33333333, 18.125     , 16.5       , 25.125     , 33.625     ,\n",
              "       20.13043478, 27.77272727, 36.5       , 31.27027027, 26.14285714,\n",
              "       30.2       , 28.66666667, 16.        , 17.61111111, 28.29166667,\n",
              "       10.4       , 35.2173913 , 22.25      , 22.75      , 24.125     ,\n",
              "       19.75      , 22.875     , 31.375     , 29.        , 18.33333333,\n",
              "       32.25      , 35.75      , 16.125     , 35.        , 12.        ,\n",
              "       28.625     , 14.625     , 12.85714286, 17.76595745, 28.5       ,\n",
              "       31.125     , 30.875     , 28.25      , 25.75      , 35.875     ,\n",
              "       32.90909091, 27.14285714, 28.875     , 22.91666667, 25.15093453,\n",
              "       19.1875    , 30.25      , 14.83333333, 25.2       , 24.29166667,\n",
              "       32.25      , 12.35714286, 17.20833333, 31.125     , 16.        ,\n",
              "       16.4       , 19.875     , 30.03703704, 38.14285714, 14.69565217,\n",
              "       25.85714286, 33.75      , 31.04545455, 23.85714286, 24.875     ,\n",
              "       17.5       , 36.8       , 19.47826087, 28.5       , 26.14285714,\n",
              "       28.125     , 29.41666667, 20.66666667, 32.81818182, 27.57142857,\n",
              "       36.4       , 28.125     , 15.875     , 19.        , 22.625     ,\n",
              "       29.93333333, 25.42857143, 30.5       , 22.85714286, 26.81818182,\n",
              "       23.23809524, 19.18181818, 28.58333333, 31.625     , 30.45454545,\n",
              "       29.79166667, 21.125     , 28.4       , 25.17391304, 28.14285714,\n",
              "       25.15093453, 28.        ,  9.75      , 23.73076923, 19.25      ,\n",
              "       30.25      , 30.30434783, 23.625     , 36.15      , 12.5       ,\n",
              "       31.25      , 12.91304348, 27.25      , 31.91666667, 18.28571429,\n",
              "       30.28571429, 30.05555556, 14.91111111, 11.78571429, 37.72340426,\n",
              "       30.57142857, 30.33333333, 15.17391304, 11.90909091, 22.        ,\n",
              "       24.25      , 28.84615385, 28.77272727, 31.45833333, 23.42857143,\n",
              "       38.14285714, 30.        , 29.        , 28.5       ,  8.84      ,\n",
              "       15.5       , 14.125     , 29.26086957, 23.125     , 20.46153846,\n",
              "       29.14285714, 30.55555556,  9.75      , 20.16666667, 13.1       ,\n",
              "       28.57142857, 28.5       , 32.42222222, 33.61904762, 28.75      ,\n",
              "       33.875     , 35.75      , 21.625     , 30.        , 31.        ,\n",
              "       29.5       , 16.04347826, 27.71428571, 33.        , 30.75      ,\n",
              "       29.5       , 30.375     , 30.33333333, 33.5       , 30.75      ,\n",
              "       16.27272727, 16.2       , 20.5       , 18.33333333, 24.30769231,\n",
              "       28.        , 21.57142857])"
            ]
          },
          "metadata": {
            "tags": []
          },
          "execution_count": 96
        }
      ]
    },
    {
      "cell_type": "code",
      "metadata": {
        "colab": {
          "base_uri": "https://localhost:8080/"
        },
        "id": "3nKbTm5Gl0SA",
        "outputId": "9f3dc14e-f5fe-42d6-b5a0-ca89cda36745"
      },
      "source": [
        "# Accuracy\n",
        "from sklearn.metrics import mean_squared_error, mean_absolute_error\n",
        "mse=mean_squared_error(y_test,y_pred)\n",
        "mae=mean_absolute_error(y_test,y_pred)\n",
        "print(f'{mse} {mae}')"
      ],
      "execution_count": 97,
      "outputs": [
        {
          "output_type": "stream",
          "text": [
            "86.37231440989204 8.085748486264313\n"
          ],
          "name": "stdout"
        }
      ]
    },
    {
      "cell_type": "code",
      "metadata": {
        "id": "vt13zepll25b"
      },
      "source": [
        ""
      ],
      "execution_count": null,
      "outputs": []
    }
  ]
}