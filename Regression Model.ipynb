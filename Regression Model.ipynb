{
  "nbformat": 4,
  "nbformat_minor": 0,
  "metadata": {
    "colab": {
      "name": "Regression Model.ipynb",
      "provenance": []
    },
    "kernelspec": {
      "name": "python3",
      "display_name": "Python 3"
    }
  },
  "cells": [
    {
      "cell_type": "code",
      "metadata": {
        "id": "Er_wCpKywt9F"
      },
      "source": [
        "import os\n",
        "import numpy as np\n",
        "import pandas as pd\n",
        "import matplotlib.pyplot as plt\n",
        "import seaborn as sns\n",
        "from sklearn.preprocessing import LabelEncoder, MinMaxScaler\n",
        "from tensorflow.keras import models, layers, utils, optimizers, callbacks\n",
        "from sklearn.metrics import mean_squared_error, mean_absolute_error\n",
        "import tensorflow as tf"
      ],
      "execution_count": 1,
      "outputs": []
    },
    {
      "cell_type": "code",
      "metadata": {
        "id": "NdCa-vk4w0Ds"
      },
      "source": [
        "from numpy.random import seed\n",
        "seed(1)"
      ],
      "execution_count": 2,
      "outputs": []
    },
    {
      "cell_type": "code",
      "metadata": {
        "id": "-Xvg99dlw5uu",
        "outputId": "4ac4b0c5-dd86-4116-ebd1-5bda9396ed04",
        "colab": {
          "base_uri": "https://localhost:8080/",
          "height": 590
        }
      },
      "source": [
        "dataset=pd.read_csv(\"Data/testset.csv\")\n",
        "dataset"
      ],
      "execution_count": 3,
      "outputs": [
        {
          "output_type": "execute_result",
          "data": {
            "text/html": [
              "<div>\n",
              "<style scoped>\n",
              "    .dataframe tbody tr th:only-of-type {\n",
              "        vertical-align: middle;\n",
              "    }\n",
              "\n",
              "    .dataframe tbody tr th {\n",
              "        vertical-align: top;\n",
              "    }\n",
              "\n",
              "    .dataframe thead th {\n",
              "        text-align: right;\n",
              "    }\n",
              "</style>\n",
              "<table border=\"1\" class=\"dataframe\">\n",
              "  <thead>\n",
              "    <tr style=\"text-align: right;\">\n",
              "      <th></th>\n",
              "      <th>datetime_utc</th>\n",
              "      <th>_conds</th>\n",
              "      <th>_dewptm</th>\n",
              "      <th>_fog</th>\n",
              "      <th>_hail</th>\n",
              "      <th>_heatindexm</th>\n",
              "      <th>_hum</th>\n",
              "      <th>_precipm</th>\n",
              "      <th>_pressurem</th>\n",
              "      <th>_rain</th>\n",
              "      <th>_snow</th>\n",
              "      <th>_tempm</th>\n",
              "      <th>_thunder</th>\n",
              "      <th>_tornado</th>\n",
              "      <th>_vism</th>\n",
              "      <th>_wdird</th>\n",
              "      <th>_wdire</th>\n",
              "      <th>_wgustm</th>\n",
              "      <th>_windchillm</th>\n",
              "      <th>_wspdm</th>\n",
              "    </tr>\n",
              "  </thead>\n",
              "  <tbody>\n",
              "    <tr>\n",
              "      <th>0</th>\n",
              "      <td>19961101-11:00</td>\n",
              "      <td>Smoke</td>\n",
              "      <td>9.0</td>\n",
              "      <td>0</td>\n",
              "      <td>0</td>\n",
              "      <td>NaN</td>\n",
              "      <td>27.0</td>\n",
              "      <td>NaN</td>\n",
              "      <td>1010.0</td>\n",
              "      <td>0</td>\n",
              "      <td>0</td>\n",
              "      <td>30.0</td>\n",
              "      <td>0</td>\n",
              "      <td>0</td>\n",
              "      <td>5.00</td>\n",
              "      <td>280.0</td>\n",
              "      <td>West</td>\n",
              "      <td>NaN</td>\n",
              "      <td>NaN</td>\n",
              "      <td>7.4</td>\n",
              "    </tr>\n",
              "    <tr>\n",
              "      <th>1</th>\n",
              "      <td>19961101-12:00</td>\n",
              "      <td>Smoke</td>\n",
              "      <td>10.0</td>\n",
              "      <td>0</td>\n",
              "      <td>0</td>\n",
              "      <td>NaN</td>\n",
              "      <td>32.0</td>\n",
              "      <td>NaN</td>\n",
              "      <td>-9999.0</td>\n",
              "      <td>0</td>\n",
              "      <td>0</td>\n",
              "      <td>28.0</td>\n",
              "      <td>0</td>\n",
              "      <td>0</td>\n",
              "      <td>NaN</td>\n",
              "      <td>0.0</td>\n",
              "      <td>North</td>\n",
              "      <td>NaN</td>\n",
              "      <td>NaN</td>\n",
              "      <td>NaN</td>\n",
              "    </tr>\n",
              "    <tr>\n",
              "      <th>2</th>\n",
              "      <td>19961101-13:00</td>\n",
              "      <td>Smoke</td>\n",
              "      <td>11.0</td>\n",
              "      <td>0</td>\n",
              "      <td>0</td>\n",
              "      <td>NaN</td>\n",
              "      <td>44.0</td>\n",
              "      <td>NaN</td>\n",
              "      <td>-9999.0</td>\n",
              "      <td>0</td>\n",
              "      <td>0</td>\n",
              "      <td>24.0</td>\n",
              "      <td>0</td>\n",
              "      <td>0</td>\n",
              "      <td>NaN</td>\n",
              "      <td>0.0</td>\n",
              "      <td>North</td>\n",
              "      <td>NaN</td>\n",
              "      <td>NaN</td>\n",
              "      <td>NaN</td>\n",
              "    </tr>\n",
              "    <tr>\n",
              "      <th>3</th>\n",
              "      <td>19961101-14:00</td>\n",
              "      <td>Smoke</td>\n",
              "      <td>10.0</td>\n",
              "      <td>0</td>\n",
              "      <td>0</td>\n",
              "      <td>NaN</td>\n",
              "      <td>41.0</td>\n",
              "      <td>NaN</td>\n",
              "      <td>1010.0</td>\n",
              "      <td>0</td>\n",
              "      <td>0</td>\n",
              "      <td>24.0</td>\n",
              "      <td>0</td>\n",
              "      <td>0</td>\n",
              "      <td>2.00</td>\n",
              "      <td>0.0</td>\n",
              "      <td>North</td>\n",
              "      <td>NaN</td>\n",
              "      <td>NaN</td>\n",
              "      <td>NaN</td>\n",
              "    </tr>\n",
              "    <tr>\n",
              "      <th>4</th>\n",
              "      <td>19961101-16:00</td>\n",
              "      <td>Smoke</td>\n",
              "      <td>11.0</td>\n",
              "      <td>0</td>\n",
              "      <td>0</td>\n",
              "      <td>NaN</td>\n",
              "      <td>47.0</td>\n",
              "      <td>NaN</td>\n",
              "      <td>1011.0</td>\n",
              "      <td>0</td>\n",
              "      <td>0</td>\n",
              "      <td>23.0</td>\n",
              "      <td>0</td>\n",
              "      <td>0</td>\n",
              "      <td>1.20</td>\n",
              "      <td>0.0</td>\n",
              "      <td>North</td>\n",
              "      <td>NaN</td>\n",
              "      <td>NaN</td>\n",
              "      <td>0.0</td>\n",
              "    </tr>\n",
              "    <tr>\n",
              "      <th>...</th>\n",
              "      <td>...</td>\n",
              "      <td>...</td>\n",
              "      <td>...</td>\n",
              "      <td>...</td>\n",
              "      <td>...</td>\n",
              "      <td>...</td>\n",
              "      <td>...</td>\n",
              "      <td>...</td>\n",
              "      <td>...</td>\n",
              "      <td>...</td>\n",
              "      <td>...</td>\n",
              "      <td>...</td>\n",
              "      <td>...</td>\n",
              "      <td>...</td>\n",
              "      <td>...</td>\n",
              "      <td>...</td>\n",
              "      <td>...</td>\n",
              "      <td>...</td>\n",
              "      <td>...</td>\n",
              "      <td>...</td>\n",
              "    </tr>\n",
              "    <tr>\n",
              "      <th>99565</th>\n",
              "      <td>20161231-12:00</td>\n",
              "      <td>Partly Cloudy</td>\n",
              "      <td>15.0</td>\n",
              "      <td>0</td>\n",
              "      <td>0</td>\n",
              "      <td>NaN</td>\n",
              "      <td>77.0</td>\n",
              "      <td>NaN</td>\n",
              "      <td>1015.0</td>\n",
              "      <td>0</td>\n",
              "      <td>0</td>\n",
              "      <td>18.0</td>\n",
              "      <td>0</td>\n",
              "      <td>0</td>\n",
              "      <td>0.50</td>\n",
              "      <td>110.0</td>\n",
              "      <td>ESE</td>\n",
              "      <td>NaN</td>\n",
              "      <td>NaN</td>\n",
              "      <td>7.4</td>\n",
              "    </tr>\n",
              "    <tr>\n",
              "      <th>99566</th>\n",
              "      <td>20161231-13:00</td>\n",
              "      <td>Partly Cloudy</td>\n",
              "      <td>16.0</td>\n",
              "      <td>0</td>\n",
              "      <td>0</td>\n",
              "      <td>NaN</td>\n",
              "      <td>100.0</td>\n",
              "      <td>NaN</td>\n",
              "      <td>1014.0</td>\n",
              "      <td>0</td>\n",
              "      <td>0</td>\n",
              "      <td>16.0</td>\n",
              "      <td>0</td>\n",
              "      <td>0</td>\n",
              "      <td>0.80</td>\n",
              "      <td>90.0</td>\n",
              "      <td>East</td>\n",
              "      <td>NaN</td>\n",
              "      <td>NaN</td>\n",
              "      <td>3.7</td>\n",
              "    </tr>\n",
              "    <tr>\n",
              "      <th>99567</th>\n",
              "      <td>20161231-15:00</td>\n",
              "      <td>NaN</td>\n",
              "      <td>13.0</td>\n",
              "      <td>0</td>\n",
              "      <td>0</td>\n",
              "      <td>NaN</td>\n",
              "      <td>NaN</td>\n",
              "      <td>NaN</td>\n",
              "      <td>1016.0</td>\n",
              "      <td>0</td>\n",
              "      <td>0</td>\n",
              "      <td>NaN</td>\n",
              "      <td>0</td>\n",
              "      <td>0</td>\n",
              "      <td>0.05</td>\n",
              "      <td>10.0</td>\n",
              "      <td>North</td>\n",
              "      <td>NaN</td>\n",
              "      <td>NaN</td>\n",
              "      <td>59.3</td>\n",
              "    </tr>\n",
              "    <tr>\n",
              "      <th>99568</th>\n",
              "      <td>20161231-18:00</td>\n",
              "      <td>Patches of Fog</td>\n",
              "      <td>12.0</td>\n",
              "      <td>1</td>\n",
              "      <td>0</td>\n",
              "      <td>NaN</td>\n",
              "      <td>100.0</td>\n",
              "      <td>NaN</td>\n",
              "      <td>1016.0</td>\n",
              "      <td>0</td>\n",
              "      <td>0</td>\n",
              "      <td>12.0</td>\n",
              "      <td>0</td>\n",
              "      <td>0</td>\n",
              "      <td>0.50</td>\n",
              "      <td>NaN</td>\n",
              "      <td>NaN</td>\n",
              "      <td>NaN</td>\n",
              "      <td>NaN</td>\n",
              "      <td>0.0</td>\n",
              "    </tr>\n",
              "    <tr>\n",
              "      <th>99569</th>\n",
              "      <td>20161231-21:00</td>\n",
              "      <td>Patches of Fog</td>\n",
              "      <td>12.0</td>\n",
              "      <td>1</td>\n",
              "      <td>0</td>\n",
              "      <td>NaN</td>\n",
              "      <td>99.0</td>\n",
              "      <td>NaN</td>\n",
              "      <td>1016.0</td>\n",
              "      <td>0</td>\n",
              "      <td>0</td>\n",
              "      <td>12.0</td>\n",
              "      <td>0</td>\n",
              "      <td>0</td>\n",
              "      <td>0.50</td>\n",
              "      <td>NaN</td>\n",
              "      <td>NaN</td>\n",
              "      <td>NaN</td>\n",
              "      <td>NaN</td>\n",
              "      <td>0.0</td>\n",
              "    </tr>\n",
              "  </tbody>\n",
              "</table>\n",
              "<p>99570 rows × 20 columns</p>\n",
              "</div>"
            ],
            "text/plain": [
              "         datetime_utc          _conds  _dewptm  ...  _wgustm  _windchillm  _wspdm\n",
              "0      19961101-11:00           Smoke      9.0  ...      NaN          NaN     7.4\n",
              "1      19961101-12:00           Smoke     10.0  ...      NaN          NaN     NaN\n",
              "2      19961101-13:00           Smoke     11.0  ...      NaN          NaN     NaN\n",
              "3      19961101-14:00           Smoke     10.0  ...      NaN          NaN     NaN\n",
              "4      19961101-16:00           Smoke     11.0  ...      NaN          NaN     0.0\n",
              "...               ...             ...      ...  ...      ...          ...     ...\n",
              "99565  20161231-12:00   Partly Cloudy     15.0  ...      NaN          NaN     7.4\n",
              "99566  20161231-13:00   Partly Cloudy     16.0  ...      NaN          NaN     3.7\n",
              "99567  20161231-15:00             NaN     13.0  ...      NaN          NaN    59.3\n",
              "99568  20161231-18:00  Patches of Fog     12.0  ...      NaN          NaN     0.0\n",
              "99569  20161231-21:00  Patches of Fog     12.0  ...      NaN          NaN     0.0\n",
              "\n",
              "[99570 rows x 20 columns]"
            ]
          },
          "metadata": {
            "tags": []
          },
          "execution_count": 3
        }
      ]
    },
    {
      "cell_type": "code",
      "metadata": {
        "id": "-M-4Eo-lxHiW",
        "outputId": "9a72e95a-5563-461b-8a42-ee4c4b60ee16",
        "colab": {
          "base_uri": "https://localhost:8080/",
          "height": 84
        }
      },
      "source": [
        "dataset.columns=dataset.columns.str.replace(\"_\",\"\")\n",
        "dataset.columns=dataset.columns.str.replace(\" \",\"\")\n",
        "dataset.columns"
      ],
      "execution_count": 4,
      "outputs": [
        {
          "output_type": "execute_result",
          "data": {
            "text/plain": [
              "Index(['datetimeutc', 'conds', 'dewptm', 'fog', 'hail', 'heatindexm', 'hum',\n",
              "       'precipm', 'pressurem', 'rain', 'snow', 'tempm', 'thunder', 'tornado',\n",
              "       'vism', 'wdird', 'wdire', 'wgustm', 'windchillm', 'wspdm'],\n",
              "      dtype='object')"
            ]
          },
          "metadata": {
            "tags": []
          },
          "execution_count": 4
        }
      ]
    },
    {
      "cell_type": "code",
      "metadata": {
        "id": "C1yn-mG6ThjF",
        "outputId": "7cbc5858-eccd-4810-c72c-4374747620c1",
        "colab": {
          "base_uri": "https://localhost:8080/",
          "height": 689
        }
      },
      "source": [
        "print(dataset[\"conds\"].value_counts())"
      ],
      "execution_count": 5,
      "outputs": [
        {
          "output_type": "stream",
          "text": [
            "Haze                             47003\n",
            "Smoke                            20551\n",
            "Mist                              9104\n",
            "Clear                             3129\n",
            "Widespread Dust                   2830\n",
            "Fog                               2656\n",
            "Scattered Clouds                  2197\n",
            "Partly Cloudy                     2070\n",
            "Shallow Fog                       1860\n",
            "Mostly Cloudy                     1520\n",
            "Light Rain                        1297\n",
            "Partial Fog                       1004\n",
            "Patches of Fog                     850\n",
            "Thunderstorms and Rain             471\n",
            "Heavy Fog                          418\n",
            "Light Drizzle                      410\n",
            "Rain                               394\n",
            "Unknown                            382\n",
            "Blowing Sand                       358\n",
            "Overcast                           313\n",
            "Thunderstorm                       190\n",
            "Light Thunderstorms and Rain       170\n",
            "Drizzle                            111\n",
            "Light Thunderstorm                  63\n",
            "Light Fog                           56\n",
            "Heavy Rain                          28\n",
            "Heavy Thunderstorms and Rain        20\n",
            "Thunderstorms with Hail             11\n",
            "Squalls                              6\n",
            "Light Sandstorm                      6\n",
            "Light Rain Showers                   5\n",
            "Volcanic Ash                         4\n",
            "Light Haze                           4\n",
            "Funnel Cloud                         2\n",
            "Sandstorm                            2\n",
            "Rain Showers                         2\n",
            "Light Hail Showers                   1\n",
            "Light Freezing Rain                  1\n",
            "Heavy Thunderstorms with Hail        1\n",
            "Name: conds, dtype: int64\n"
          ],
          "name": "stdout"
        }
      ]
    },
    {
      "cell_type": "code",
      "metadata": {
        "id": "avAB0kLxxVMt"
      },
      "source": [
        "dataset[\"conds\"]=dataset[\"conds\"].replace([\"Widespread Dust\",\"Blowing Sand\",\"Sandstorm\", \"Volcanic Ash\",\"Light Sandstorm\"],\"Dust\")\n",
        "dataset[\"conds\"]=dataset[\"conds\"].replace([\"Fog\", \"Shallow Fog\", \"Partial Fog\",\"Light Fog\", \"Mist\", \"Heavy Fog\", \"Light Haze\",\"Patches of Fog\"],\"Fog\")\n",
        "dataset[\"conds\"]=dataset[\"conds\"].replace([\"Scattered Clouds\", \"Partly Cloudy\",  \"Mostly Cloudy\" ,\"Overcast\",\"Funnel Cloud\"], \"Cloudy\")\n",
        "dataset[\"conds\"]=dataset[\"conds\"].replace([\"Light Rain\", \"Light Drizzle\",\"Rain\", \"Drizzle\", \"Light Rain Showers\",\"Drizzle\" ,\"Rain Showers\"], \"Rain\")\n",
        "dataset[\"conds\"]=dataset[\"conds\"].replace([\"Thunderstorms with Hail\", \"Squalls\",\"Light Hail Showers\" ,\"Light Freezing Rain\",\"Heavy Thunderstorms with Hail\", \"Unknown\"], \"Others\")\n",
        "dataset[\"conds\"]=dataset[\"conds\"].replace([\"Thunderstorms and Rain\", \"Light Thunderstorms and Rain\",\"Light Thunderstorm\" ,\"Heavy Thunderstorms and Rain\",\"Heavy Rain\"], \"Thunderstorm\")"
      ],
      "execution_count": 6,
      "outputs": []
    },
    {
      "cell_type": "code",
      "metadata": {
        "id": "tFSepYusS3TQ",
        "outputId": "9e5bdc69-1dae-4f27-eae1-d92d2c5216a6",
        "colab": {
          "base_uri": "https://localhost:8080/",
          "height": 185
        }
      },
      "source": [
        "print(dataset[\"conds\"].value_counts())"
      ],
      "execution_count": 7,
      "outputs": [
        {
          "output_type": "stream",
          "text": [
            "Haze            47003\n",
            "Smoke           20551\n",
            "Fog             15952\n",
            "Cloudy           6102\n",
            "Dust             3200\n",
            "Clear            3129\n",
            "Rain             2219\n",
            "Thunderstorm      942\n",
            "Others            402\n",
            "Name: conds, dtype: int64\n"
          ],
          "name": "stdout"
        }
      ]
    },
    {
      "cell_type": "code",
      "metadata": {
        "id": "5YOZaORlUvhg",
        "outputId": "ac7a936e-57c9-4d74-e372-6646ff35dde7",
        "colab": {
          "base_uri": "https://localhost:8080/",
          "height": 218
        }
      },
      "source": [
        "le=LabelEncoder()\n",
        "col=\"conds\"\n",
        "dataset[col]=dataset.apply(lambda x: le.fit_transform(dataset[col].astype(str)),axis=0,result_type='expand')\n",
        "dataset[\"conds\"]"
      ],
      "execution_count": 8,
      "outputs": [
        {
          "output_type": "execute_result",
          "data": {
            "text/plain": [
              "0        7\n",
              "1        7\n",
              "2        7\n",
              "3        7\n",
              "4        7\n",
              "        ..\n",
              "99565    1\n",
              "99566    1\n",
              "99567    9\n",
              "99568    3\n",
              "99569    3\n",
              "Name: conds, Length: 99570, dtype: int64"
            ]
          },
          "metadata": {
            "tags": []
          },
          "execution_count": 8
        }
      ]
    },
    {
      "cell_type": "code",
      "metadata": {
        "id": "-_cWerLkxWzn",
        "outputId": "c9f4ec2e-2f58-4b91-8409-7bd79f1fc766",
        "colab": {
          "base_uri": "https://localhost:8080/",
          "height": 370
        }
      },
      "source": [
        "dataset['pressurem'].replace('-9999.0',np.nan)\n",
        "dataset.replace(0,np.nan)\n",
        "dataset.isnull().sum()"
      ],
      "execution_count": 9,
      "outputs": [
        {
          "output_type": "execute_result",
          "data": {
            "text/plain": [
              "datetimeutc        0\n",
              "conds              0\n",
              "dewptm           620\n",
              "fog                0\n",
              "hail               0\n",
              "heatindexm     70457\n",
              "hum              756\n",
              "precipm        99570\n",
              "pressurem        232\n",
              "rain               0\n",
              "snow               0\n",
              "tempm            672\n",
              "thunder            0\n",
              "tornado            0\n",
              "vism            4428\n",
              "wdird          14492\n",
              "wdire          14492\n",
              "wgustm         98507\n",
              "windchillm     98997\n",
              "wspdm           2358\n",
              "dtype: int64"
            ]
          },
          "metadata": {
            "tags": []
          },
          "execution_count": 9
        }
      ]
    },
    {
      "cell_type": "code",
      "metadata": {
        "id": "zeKEq28oxYih",
        "outputId": "f03c1b33-a23f-4f3e-de9d-1ffa8315e95e",
        "colab": {
          "base_uri": "https://localhost:8080/",
          "height": 402
        }
      },
      "source": [
        "dataset"
      ],
      "execution_count": 10,
      "outputs": [
        {
          "output_type": "execute_result",
          "data": {
            "text/html": [
              "<div>\n",
              "<style scoped>\n",
              "    .dataframe tbody tr th:only-of-type {\n",
              "        vertical-align: middle;\n",
              "    }\n",
              "\n",
              "    .dataframe tbody tr th {\n",
              "        vertical-align: top;\n",
              "    }\n",
              "\n",
              "    .dataframe thead th {\n",
              "        text-align: right;\n",
              "    }\n",
              "</style>\n",
              "<table border=\"1\" class=\"dataframe\">\n",
              "  <thead>\n",
              "    <tr style=\"text-align: right;\">\n",
              "      <th></th>\n",
              "      <th>datetimeutc</th>\n",
              "      <th>conds</th>\n",
              "      <th>dewptm</th>\n",
              "      <th>fog</th>\n",
              "      <th>hail</th>\n",
              "      <th>heatindexm</th>\n",
              "      <th>hum</th>\n",
              "      <th>precipm</th>\n",
              "      <th>pressurem</th>\n",
              "      <th>rain</th>\n",
              "      <th>snow</th>\n",
              "      <th>tempm</th>\n",
              "      <th>thunder</th>\n",
              "      <th>tornado</th>\n",
              "      <th>vism</th>\n",
              "      <th>wdird</th>\n",
              "      <th>wdire</th>\n",
              "      <th>wgustm</th>\n",
              "      <th>windchillm</th>\n",
              "      <th>wspdm</th>\n",
              "    </tr>\n",
              "  </thead>\n",
              "  <tbody>\n",
              "    <tr>\n",
              "      <th>0</th>\n",
              "      <td>19961101-11:00</td>\n",
              "      <td>7</td>\n",
              "      <td>9.0</td>\n",
              "      <td>0</td>\n",
              "      <td>0</td>\n",
              "      <td>NaN</td>\n",
              "      <td>27.0</td>\n",
              "      <td>NaN</td>\n",
              "      <td>1010.0</td>\n",
              "      <td>0</td>\n",
              "      <td>0</td>\n",
              "      <td>30.0</td>\n",
              "      <td>0</td>\n",
              "      <td>0</td>\n",
              "      <td>5.00</td>\n",
              "      <td>280.0</td>\n",
              "      <td>West</td>\n",
              "      <td>NaN</td>\n",
              "      <td>NaN</td>\n",
              "      <td>7.4</td>\n",
              "    </tr>\n",
              "    <tr>\n",
              "      <th>1</th>\n",
              "      <td>19961101-12:00</td>\n",
              "      <td>7</td>\n",
              "      <td>10.0</td>\n",
              "      <td>0</td>\n",
              "      <td>0</td>\n",
              "      <td>NaN</td>\n",
              "      <td>32.0</td>\n",
              "      <td>NaN</td>\n",
              "      <td>-9999.0</td>\n",
              "      <td>0</td>\n",
              "      <td>0</td>\n",
              "      <td>28.0</td>\n",
              "      <td>0</td>\n",
              "      <td>0</td>\n",
              "      <td>NaN</td>\n",
              "      <td>0.0</td>\n",
              "      <td>North</td>\n",
              "      <td>NaN</td>\n",
              "      <td>NaN</td>\n",
              "      <td>NaN</td>\n",
              "    </tr>\n",
              "    <tr>\n",
              "      <th>2</th>\n",
              "      <td>19961101-13:00</td>\n",
              "      <td>7</td>\n",
              "      <td>11.0</td>\n",
              "      <td>0</td>\n",
              "      <td>0</td>\n",
              "      <td>NaN</td>\n",
              "      <td>44.0</td>\n",
              "      <td>NaN</td>\n",
              "      <td>-9999.0</td>\n",
              "      <td>0</td>\n",
              "      <td>0</td>\n",
              "      <td>24.0</td>\n",
              "      <td>0</td>\n",
              "      <td>0</td>\n",
              "      <td>NaN</td>\n",
              "      <td>0.0</td>\n",
              "      <td>North</td>\n",
              "      <td>NaN</td>\n",
              "      <td>NaN</td>\n",
              "      <td>NaN</td>\n",
              "    </tr>\n",
              "    <tr>\n",
              "      <th>3</th>\n",
              "      <td>19961101-14:00</td>\n",
              "      <td>7</td>\n",
              "      <td>10.0</td>\n",
              "      <td>0</td>\n",
              "      <td>0</td>\n",
              "      <td>NaN</td>\n",
              "      <td>41.0</td>\n",
              "      <td>NaN</td>\n",
              "      <td>1010.0</td>\n",
              "      <td>0</td>\n",
              "      <td>0</td>\n",
              "      <td>24.0</td>\n",
              "      <td>0</td>\n",
              "      <td>0</td>\n",
              "      <td>2.00</td>\n",
              "      <td>0.0</td>\n",
              "      <td>North</td>\n",
              "      <td>NaN</td>\n",
              "      <td>NaN</td>\n",
              "      <td>NaN</td>\n",
              "    </tr>\n",
              "    <tr>\n",
              "      <th>4</th>\n",
              "      <td>19961101-16:00</td>\n",
              "      <td>7</td>\n",
              "      <td>11.0</td>\n",
              "      <td>0</td>\n",
              "      <td>0</td>\n",
              "      <td>NaN</td>\n",
              "      <td>47.0</td>\n",
              "      <td>NaN</td>\n",
              "      <td>1011.0</td>\n",
              "      <td>0</td>\n",
              "      <td>0</td>\n",
              "      <td>23.0</td>\n",
              "      <td>0</td>\n",
              "      <td>0</td>\n",
              "      <td>1.20</td>\n",
              "      <td>0.0</td>\n",
              "      <td>North</td>\n",
              "      <td>NaN</td>\n",
              "      <td>NaN</td>\n",
              "      <td>0.0</td>\n",
              "    </tr>\n",
              "    <tr>\n",
              "      <th>...</th>\n",
              "      <td>...</td>\n",
              "      <td>...</td>\n",
              "      <td>...</td>\n",
              "      <td>...</td>\n",
              "      <td>...</td>\n",
              "      <td>...</td>\n",
              "      <td>...</td>\n",
              "      <td>...</td>\n",
              "      <td>...</td>\n",
              "      <td>...</td>\n",
              "      <td>...</td>\n",
              "      <td>...</td>\n",
              "      <td>...</td>\n",
              "      <td>...</td>\n",
              "      <td>...</td>\n",
              "      <td>...</td>\n",
              "      <td>...</td>\n",
              "      <td>...</td>\n",
              "      <td>...</td>\n",
              "      <td>...</td>\n",
              "    </tr>\n",
              "    <tr>\n",
              "      <th>99565</th>\n",
              "      <td>20161231-12:00</td>\n",
              "      <td>1</td>\n",
              "      <td>15.0</td>\n",
              "      <td>0</td>\n",
              "      <td>0</td>\n",
              "      <td>NaN</td>\n",
              "      <td>77.0</td>\n",
              "      <td>NaN</td>\n",
              "      <td>1015.0</td>\n",
              "      <td>0</td>\n",
              "      <td>0</td>\n",
              "      <td>18.0</td>\n",
              "      <td>0</td>\n",
              "      <td>0</td>\n",
              "      <td>0.50</td>\n",
              "      <td>110.0</td>\n",
              "      <td>ESE</td>\n",
              "      <td>NaN</td>\n",
              "      <td>NaN</td>\n",
              "      <td>7.4</td>\n",
              "    </tr>\n",
              "    <tr>\n",
              "      <th>99566</th>\n",
              "      <td>20161231-13:00</td>\n",
              "      <td>1</td>\n",
              "      <td>16.0</td>\n",
              "      <td>0</td>\n",
              "      <td>0</td>\n",
              "      <td>NaN</td>\n",
              "      <td>100.0</td>\n",
              "      <td>NaN</td>\n",
              "      <td>1014.0</td>\n",
              "      <td>0</td>\n",
              "      <td>0</td>\n",
              "      <td>16.0</td>\n",
              "      <td>0</td>\n",
              "      <td>0</td>\n",
              "      <td>0.80</td>\n",
              "      <td>90.0</td>\n",
              "      <td>East</td>\n",
              "      <td>NaN</td>\n",
              "      <td>NaN</td>\n",
              "      <td>3.7</td>\n",
              "    </tr>\n",
              "    <tr>\n",
              "      <th>99567</th>\n",
              "      <td>20161231-15:00</td>\n",
              "      <td>9</td>\n",
              "      <td>13.0</td>\n",
              "      <td>0</td>\n",
              "      <td>0</td>\n",
              "      <td>NaN</td>\n",
              "      <td>NaN</td>\n",
              "      <td>NaN</td>\n",
              "      <td>1016.0</td>\n",
              "      <td>0</td>\n",
              "      <td>0</td>\n",
              "      <td>NaN</td>\n",
              "      <td>0</td>\n",
              "      <td>0</td>\n",
              "      <td>0.05</td>\n",
              "      <td>10.0</td>\n",
              "      <td>North</td>\n",
              "      <td>NaN</td>\n",
              "      <td>NaN</td>\n",
              "      <td>59.3</td>\n",
              "    </tr>\n",
              "    <tr>\n",
              "      <th>99568</th>\n",
              "      <td>20161231-18:00</td>\n",
              "      <td>3</td>\n",
              "      <td>12.0</td>\n",
              "      <td>1</td>\n",
              "      <td>0</td>\n",
              "      <td>NaN</td>\n",
              "      <td>100.0</td>\n",
              "      <td>NaN</td>\n",
              "      <td>1016.0</td>\n",
              "      <td>0</td>\n",
              "      <td>0</td>\n",
              "      <td>12.0</td>\n",
              "      <td>0</td>\n",
              "      <td>0</td>\n",
              "      <td>0.50</td>\n",
              "      <td>NaN</td>\n",
              "      <td>NaN</td>\n",
              "      <td>NaN</td>\n",
              "      <td>NaN</td>\n",
              "      <td>0.0</td>\n",
              "    </tr>\n",
              "    <tr>\n",
              "      <th>99569</th>\n",
              "      <td>20161231-21:00</td>\n",
              "      <td>3</td>\n",
              "      <td>12.0</td>\n",
              "      <td>1</td>\n",
              "      <td>0</td>\n",
              "      <td>NaN</td>\n",
              "      <td>99.0</td>\n",
              "      <td>NaN</td>\n",
              "      <td>1016.0</td>\n",
              "      <td>0</td>\n",
              "      <td>0</td>\n",
              "      <td>12.0</td>\n",
              "      <td>0</td>\n",
              "      <td>0</td>\n",
              "      <td>0.50</td>\n",
              "      <td>NaN</td>\n",
              "      <td>NaN</td>\n",
              "      <td>NaN</td>\n",
              "      <td>NaN</td>\n",
              "      <td>0.0</td>\n",
              "    </tr>\n",
              "  </tbody>\n",
              "</table>\n",
              "<p>99570 rows × 20 columns</p>\n",
              "</div>"
            ],
            "text/plain": [
              "          datetimeutc  conds  dewptm  fog  ...  wdire  wgustm  windchillm  wspdm\n",
              "0      19961101-11:00      7     9.0    0  ...   West     NaN         NaN    7.4\n",
              "1      19961101-12:00      7    10.0    0  ...  North     NaN         NaN    NaN\n",
              "2      19961101-13:00      7    11.0    0  ...  North     NaN         NaN    NaN\n",
              "3      19961101-14:00      7    10.0    0  ...  North     NaN         NaN    NaN\n",
              "4      19961101-16:00      7    11.0    0  ...  North     NaN         NaN    0.0\n",
              "...               ...    ...     ...  ...  ...    ...     ...         ...    ...\n",
              "99565  20161231-12:00      1    15.0    0  ...    ESE     NaN         NaN    7.4\n",
              "99566  20161231-13:00      1    16.0    0  ...   East     NaN         NaN    3.7\n",
              "99567  20161231-15:00      9    13.0    0  ...  North     NaN         NaN   59.3\n",
              "99568  20161231-18:00      3    12.0    1  ...    NaN     NaN         NaN    0.0\n",
              "99569  20161231-21:00      3    12.0    1  ...    NaN     NaN         NaN    0.0\n",
              "\n",
              "[99570 rows x 20 columns]"
            ]
          },
          "metadata": {
            "tags": []
          },
          "execution_count": 10
        }
      ]
    },
    {
      "cell_type": "code",
      "metadata": {
        "id": "5fJijoHSxaH-"
      },
      "source": [
        "hum_median=dataset[\"hum\"].median()\n",
        "dataset[\"hum\"].fillna(hum_median,inplace=True)\n",
        "pressurem_median=dataset[\"pressurem\"].median()\n",
        "dataset[\"pressurem\"].fillna(pressurem_median,inplace=True)\n",
        "wspdm_median=dataset[\"wspdm\"].median()\n",
        "dataset[\"wspdm\"].fillna(wspdm_median,inplace=True)\n",
        "tempm_median=dataset[\"tempm\"].median()\n",
        "dataset[\"tempm\"].fillna(tempm_median,inplace=True)"
      ],
      "execution_count": 11,
      "outputs": []
    },
    {
      "cell_type": "code",
      "metadata": {
        "id": "0g1qFDKgxb2J",
        "outputId": "4c8720fb-0a40-4a8a-aad3-e9fc77e94356",
        "colab": {
          "base_uri": "https://localhost:8080/",
          "height": 370
        }
      },
      "source": [
        "dataset.isnull().sum()"
      ],
      "execution_count": 12,
      "outputs": [
        {
          "output_type": "execute_result",
          "data": {
            "text/plain": [
              "datetimeutc        0\n",
              "conds              0\n",
              "dewptm           620\n",
              "fog                0\n",
              "hail               0\n",
              "heatindexm     70457\n",
              "hum                0\n",
              "precipm        99570\n",
              "pressurem          0\n",
              "rain               0\n",
              "snow               0\n",
              "tempm              0\n",
              "thunder            0\n",
              "tornado            0\n",
              "vism            4428\n",
              "wdird          14492\n",
              "wdire          14492\n",
              "wgustm         98507\n",
              "windchillm     98997\n",
              "wspdm              0\n",
              "dtype: int64"
            ]
          },
          "metadata": {
            "tags": []
          },
          "execution_count": 12
        }
      ]
    },
    {
      "cell_type": "code",
      "metadata": {
        "id": "e-VpuyL_a_1D"
      },
      "source": [
        "dataset_regression=dataset[['datetimeutc','hum','tempm','pressurem','wspdm']]"
      ],
      "execution_count": 13,
      "outputs": []
    },
    {
      "cell_type": "code",
      "metadata": {
        "id": "fRceo0QwYdtm",
        "outputId": "1d327fc9-cef0-489f-e4c4-8668aae58a04",
        "colab": {
          "base_uri": "https://localhost:8080/",
          "height": 118
        }
      },
      "source": [
        "dataset_regression[\"datetimeutc\"]=pd.to_datetime(dataset_regression[\"datetimeutc\"])"
      ],
      "execution_count": 14,
      "outputs": [
        {
          "output_type": "stream",
          "text": [
            "/usr/local/lib/python3.6/dist-packages/ipykernel_launcher.py:1: SettingWithCopyWarning: \n",
            "A value is trying to be set on a copy of a slice from a DataFrame.\n",
            "Try using .loc[row_indexer,col_indexer] = value instead\n",
            "\n",
            "See the caveats in the documentation: https://pandas.pydata.org/pandas-docs/stable/user_guide/indexing.html#returning-a-view-versus-a-copy\n",
            "  \"\"\"Entry point for launching an IPython kernel.\n"
          ],
          "name": "stderr"
        }
      ]
    },
    {
      "cell_type": "code",
      "metadata": {
        "id": "q9G_SGkKYxBd"
      },
      "source": [
        "dataset_regression.set_index(\"datetimeutc\",inplace=True)"
      ],
      "execution_count": 15,
      "outputs": []
    },
    {
      "cell_type": "code",
      "metadata": {
        "id": "jP2vgSNCY2i8",
        "outputId": "cc204f3a-f769-4164-d8bf-f8558a0d2c32",
        "colab": {
          "base_uri": "https://localhost:8080/",
          "height": 431
        }
      },
      "source": [
        "dataset_regression"
      ],
      "execution_count": 16,
      "outputs": [
        {
          "output_type": "execute_result",
          "data": {
            "text/html": [
              "<div>\n",
              "<style scoped>\n",
              "    .dataframe tbody tr th:only-of-type {\n",
              "        vertical-align: middle;\n",
              "    }\n",
              "\n",
              "    .dataframe tbody tr th {\n",
              "        vertical-align: top;\n",
              "    }\n",
              "\n",
              "    .dataframe thead th {\n",
              "        text-align: right;\n",
              "    }\n",
              "</style>\n",
              "<table border=\"1\" class=\"dataframe\">\n",
              "  <thead>\n",
              "    <tr style=\"text-align: right;\">\n",
              "      <th></th>\n",
              "      <th>hum</th>\n",
              "      <th>tempm</th>\n",
              "      <th>pressurem</th>\n",
              "      <th>wspdm</th>\n",
              "    </tr>\n",
              "    <tr>\n",
              "      <th>datetimeutc</th>\n",
              "      <th></th>\n",
              "      <th></th>\n",
              "      <th></th>\n",
              "      <th></th>\n",
              "    </tr>\n",
              "  </thead>\n",
              "  <tbody>\n",
              "    <tr>\n",
              "      <th>1996-11-01 11:00:00</th>\n",
              "      <td>27.0</td>\n",
              "      <td>30.0</td>\n",
              "      <td>1010.0</td>\n",
              "      <td>7.4</td>\n",
              "    </tr>\n",
              "    <tr>\n",
              "      <th>1996-11-01 12:00:00</th>\n",
              "      <td>32.0</td>\n",
              "      <td>28.0</td>\n",
              "      <td>-9999.0</td>\n",
              "      <td>7.4</td>\n",
              "    </tr>\n",
              "    <tr>\n",
              "      <th>1996-11-01 13:00:00</th>\n",
              "      <td>44.0</td>\n",
              "      <td>24.0</td>\n",
              "      <td>-9999.0</td>\n",
              "      <td>7.4</td>\n",
              "    </tr>\n",
              "    <tr>\n",
              "      <th>1996-11-01 14:00:00</th>\n",
              "      <td>41.0</td>\n",
              "      <td>24.0</td>\n",
              "      <td>1010.0</td>\n",
              "      <td>7.4</td>\n",
              "    </tr>\n",
              "    <tr>\n",
              "      <th>1996-11-01 16:00:00</th>\n",
              "      <td>47.0</td>\n",
              "      <td>23.0</td>\n",
              "      <td>1011.0</td>\n",
              "      <td>0.0</td>\n",
              "    </tr>\n",
              "    <tr>\n",
              "      <th>...</th>\n",
              "      <td>...</td>\n",
              "      <td>...</td>\n",
              "      <td>...</td>\n",
              "      <td>...</td>\n",
              "    </tr>\n",
              "    <tr>\n",
              "      <th>2016-12-31 12:00:00</th>\n",
              "      <td>77.0</td>\n",
              "      <td>18.0</td>\n",
              "      <td>1015.0</td>\n",
              "      <td>7.4</td>\n",
              "    </tr>\n",
              "    <tr>\n",
              "      <th>2016-12-31 13:00:00</th>\n",
              "      <td>100.0</td>\n",
              "      <td>16.0</td>\n",
              "      <td>1014.0</td>\n",
              "      <td>3.7</td>\n",
              "    </tr>\n",
              "    <tr>\n",
              "      <th>2016-12-31 15:00:00</th>\n",
              "      <td>58.0</td>\n",
              "      <td>27.0</td>\n",
              "      <td>1016.0</td>\n",
              "      <td>59.3</td>\n",
              "    </tr>\n",
              "    <tr>\n",
              "      <th>2016-12-31 18:00:00</th>\n",
              "      <td>100.0</td>\n",
              "      <td>12.0</td>\n",
              "      <td>1016.0</td>\n",
              "      <td>0.0</td>\n",
              "    </tr>\n",
              "    <tr>\n",
              "      <th>2016-12-31 21:00:00</th>\n",
              "      <td>99.0</td>\n",
              "      <td>12.0</td>\n",
              "      <td>1016.0</td>\n",
              "      <td>0.0</td>\n",
              "    </tr>\n",
              "  </tbody>\n",
              "</table>\n",
              "<p>99570 rows × 4 columns</p>\n",
              "</div>"
            ],
            "text/plain": [
              "                       hum  tempm  pressurem  wspdm\n",
              "datetimeutc                                        \n",
              "1996-11-01 11:00:00   27.0   30.0     1010.0    7.4\n",
              "1996-11-01 12:00:00   32.0   28.0    -9999.0    7.4\n",
              "1996-11-01 13:00:00   44.0   24.0    -9999.0    7.4\n",
              "1996-11-01 14:00:00   41.0   24.0     1010.0    7.4\n",
              "1996-11-01 16:00:00   47.0   23.0     1011.0    0.0\n",
              "...                    ...    ...        ...    ...\n",
              "2016-12-31 12:00:00   77.0   18.0     1015.0    7.4\n",
              "2016-12-31 13:00:00  100.0   16.0     1014.0    3.7\n",
              "2016-12-31 15:00:00   58.0   27.0     1016.0   59.3\n",
              "2016-12-31 18:00:00  100.0   12.0     1016.0    0.0\n",
              "2016-12-31 21:00:00   99.0   12.0     1016.0    0.0\n",
              "\n",
              "[99570 rows x 4 columns]"
            ]
          },
          "metadata": {
            "tags": []
          },
          "execution_count": 16
        }
      ]
    },
    {
      "cell_type": "code",
      "metadata": {
        "id": "1AooeV_nY6i5",
        "outputId": "a8be5ab4-b4c5-4f98-fcc6-98b9050825e6",
        "colab": {
          "base_uri": "https://localhost:8080/",
          "height": 431
        }
      },
      "source": [
        "dataset_regression=dataset_regression.resample(\"D\").mean()\n",
        "dataset_regression"
      ],
      "execution_count": 17,
      "outputs": [
        {
          "output_type": "execute_result",
          "data": {
            "text/html": [
              "<div>\n",
              "<style scoped>\n",
              "    .dataframe tbody tr th:only-of-type {\n",
              "        vertical-align: middle;\n",
              "    }\n",
              "\n",
              "    .dataframe tbody tr th {\n",
              "        vertical-align: top;\n",
              "    }\n",
              "\n",
              "    .dataframe thead th {\n",
              "        text-align: right;\n",
              "    }\n",
              "</style>\n",
              "<table border=\"1\" class=\"dataframe\">\n",
              "  <thead>\n",
              "    <tr style=\"text-align: right;\">\n",
              "      <th></th>\n",
              "      <th>hum</th>\n",
              "      <th>tempm</th>\n",
              "      <th>pressurem</th>\n",
              "      <th>wspdm</th>\n",
              "    </tr>\n",
              "    <tr>\n",
              "      <th>datetimeutc</th>\n",
              "      <th></th>\n",
              "      <th></th>\n",
              "      <th></th>\n",
              "      <th></th>\n",
              "    </tr>\n",
              "  </thead>\n",
              "  <tbody>\n",
              "    <tr>\n",
              "      <th>1996-11-01</th>\n",
              "      <td>52.916667</td>\n",
              "      <td>22.333333</td>\n",
              "      <td>-2659.666667</td>\n",
              "      <td>6.166667</td>\n",
              "    </tr>\n",
              "    <tr>\n",
              "      <th>1996-11-02</th>\n",
              "      <td>48.625000</td>\n",
              "      <td>22.916667</td>\n",
              "      <td>1009.833333</td>\n",
              "      <td>7.950000</td>\n",
              "    </tr>\n",
              "    <tr>\n",
              "      <th>1996-11-03</th>\n",
              "      <td>55.958333</td>\n",
              "      <td>21.791667</td>\n",
              "      <td>1010.500000</td>\n",
              "      <td>5.020833</td>\n",
              "    </tr>\n",
              "    <tr>\n",
              "      <th>1996-11-04</th>\n",
              "      <td>48.055556</td>\n",
              "      <td>22.722222</td>\n",
              "      <td>1011.333333</td>\n",
              "      <td>2.266667</td>\n",
              "    </tr>\n",
              "    <tr>\n",
              "      <th>1996-11-05</th>\n",
              "      <td>29.400000</td>\n",
              "      <td>27.800000</td>\n",
              "      <td>1011.800000</td>\n",
              "      <td>10.020000</td>\n",
              "    </tr>\n",
              "    <tr>\n",
              "      <th>...</th>\n",
              "      <td>...</td>\n",
              "      <td>...</td>\n",
              "      <td>...</td>\n",
              "      <td>...</td>\n",
              "    </tr>\n",
              "    <tr>\n",
              "      <th>2016-12-27</th>\n",
              "      <td>67.550000</td>\n",
              "      <td>16.850000</td>\n",
              "      <td>1017.200000</td>\n",
              "      <td>8.335000</td>\n",
              "    </tr>\n",
              "    <tr>\n",
              "      <th>2016-12-28</th>\n",
              "      <td>68.043478</td>\n",
              "      <td>17.217391</td>\n",
              "      <td>1015.565217</td>\n",
              "      <td>3.547826</td>\n",
              "    </tr>\n",
              "    <tr>\n",
              "      <th>2016-12-29</th>\n",
              "      <td>87.857143</td>\n",
              "      <td>15.238095</td>\n",
              "      <td>1016.904762</td>\n",
              "      <td>6.000000</td>\n",
              "    </tr>\n",
              "    <tr>\n",
              "      <th>2016-12-30</th>\n",
              "      <td>89.666667</td>\n",
              "      <td>14.095238</td>\n",
              "      <td>1017.904762</td>\n",
              "      <td>6.266667</td>\n",
              "    </tr>\n",
              "    <tr>\n",
              "      <th>2016-12-31</th>\n",
              "      <td>85.550000</td>\n",
              "      <td>15.650000</td>\n",
              "      <td>1016.100000</td>\n",
              "      <td>7.325000</td>\n",
              "    </tr>\n",
              "  </tbody>\n",
              "</table>\n",
              "<p>7366 rows × 4 columns</p>\n",
              "</div>"
            ],
            "text/plain": [
              "                   hum      tempm    pressurem      wspdm\n",
              "datetimeutc                                              \n",
              "1996-11-01   52.916667  22.333333 -2659.666667   6.166667\n",
              "1996-11-02   48.625000  22.916667  1009.833333   7.950000\n",
              "1996-11-03   55.958333  21.791667  1010.500000   5.020833\n",
              "1996-11-04   48.055556  22.722222  1011.333333   2.266667\n",
              "1996-11-05   29.400000  27.800000  1011.800000  10.020000\n",
              "...                ...        ...          ...        ...\n",
              "2016-12-27   67.550000  16.850000  1017.200000   8.335000\n",
              "2016-12-28   68.043478  17.217391  1015.565217   3.547826\n",
              "2016-12-29   87.857143  15.238095  1016.904762   6.000000\n",
              "2016-12-30   89.666667  14.095238  1017.904762   6.266667\n",
              "2016-12-31   85.550000  15.650000  1016.100000   7.325000\n",
              "\n",
              "[7366 rows x 4 columns]"
            ]
          },
          "metadata": {
            "tags": []
          },
          "execution_count": 17
        }
      ]
    },
    {
      "cell_type": "code",
      "metadata": {
        "id": "XRRKECk-xdVh"
      },
      "source": [
        "# def extract_year(value):\n",
        "#     return (value[0:4])"
      ],
      "execution_count": 18,
      "outputs": []
    },
    {
      "cell_type": "code",
      "metadata": {
        "id": "PrIjV34UxfcO"
      },
      "source": [
        "# def extract_month(value):\n",
        "#     return (value[4:6])"
      ],
      "execution_count": 19,
      "outputs": []
    },
    {
      "cell_type": "code",
      "metadata": {
        "id": "0bN_k8u-xgzQ"
      },
      "source": [
        "# def extract_date(value):\n",
        "#     return (value[6:8])"
      ],
      "execution_count": 20,
      "outputs": []
    },
    {
      "cell_type": "code",
      "metadata": {
        "id": "06N0GIujxiKz"
      },
      "source": [
        "# dataset[\"year\"]=dataset[\"datetimeutc\"].apply(lambda x : extract_year(x))\n",
        "# dataset[\"month\"]=dataset[\"datetimeutc\"].apply(lambda x : extract_month(x))\n",
        "# dataset[\"date\"]=dataset[\"datetimeutc\"].apply(lambda x : extract_month(x))"
      ],
      "execution_count": 21,
      "outputs": []
    },
    {
      "cell_type": "code",
      "metadata": {
        "id": "CBu-y22hZZ8H",
        "outputId": "694f087d-1a5f-4175-f0a6-830c1c90c3ac",
        "colab": {
          "base_uri": "https://localhost:8080/",
          "height": 101
        }
      },
      "source": [
        "dataset_regression.isnull().sum()"
      ],
      "execution_count": 22,
      "outputs": [
        {
          "output_type": "execute_result",
          "data": {
            "text/plain": [
              "hum          141\n",
              "tempm        141\n",
              "pressurem    141\n",
              "wspdm        141\n",
              "dtype: int64"
            ]
          },
          "metadata": {
            "tags": []
          },
          "execution_count": 22
        }
      ]
    },
    {
      "cell_type": "code",
      "metadata": {
        "id": "DBzzlvmmxl9m"
      },
      "source": [
        "# dataset.groupby(\"year\").tempm.mean()"
      ],
      "execution_count": 23,
      "outputs": []
    },
    {
      "cell_type": "code",
      "metadata": {
        "id": "-KBxpx8Sxoaa"
      },
      "source": [
        "dataset_regression.fillna(dataset_regression.mean(),inplace=True)"
      ],
      "execution_count": 24,
      "outputs": []
    },
    {
      "cell_type": "code",
      "metadata": {
        "id": "UqCm7wQIxqua",
        "outputId": "d4510a39-9b2e-417f-85ee-fc4861a361cf",
        "colab": {
          "base_uri": "https://localhost:8080/",
          "height": 101
        }
      },
      "source": [
        "dataset_regression.isnull().sum()"
      ],
      "execution_count": 25,
      "outputs": [
        {
          "output_type": "execute_result",
          "data": {
            "text/plain": [
              "hum          0\n",
              "tempm        0\n",
              "pressurem    0\n",
              "wspdm        0\n",
              "dtype: int64"
            ]
          },
          "metadata": {
            "tags": []
          },
          "execution_count": 25
        }
      ]
    },
    {
      "cell_type": "code",
      "metadata": {
        "id": "kmv8HcCPxw6v",
        "outputId": "4827c3bd-f4ed-4078-e905-a10684067f6c",
        "colab": {
          "base_uri": "https://localhost:8080/",
          "height": 50
        }
      },
      "source": [
        "X_part=dataset_regression.drop([\"tempm\"],axis=1)\n",
        "Y_part=dataset_regression[\"tempm\"]\n",
        "X_part=np.array(X_part)\n",
        "Y_part=np.array(Y_part).reshape(-1,1)\n",
        "print(X_part.shape)\n",
        "print(Y_part.shape)"
      ],
      "execution_count": 26,
      "outputs": [
        {
          "output_type": "stream",
          "text": [
            "(7366, 3)\n",
            "(7366, 1)\n"
          ],
          "name": "stdout"
        }
      ]
    },
    {
      "cell_type": "code",
      "metadata": {
        "id": "aWJAyh95yTs6"
      },
      "source": [
        "scaler2=MinMaxScaler(feature_range=[-1,1])\n",
        "X_part_scaled=scaler2.fit_transform(X_part)\n",
        "Y_part_scaled=scaler2.fit_transform(Y_part)"
      ],
      "execution_count": 27,
      "outputs": []
    },
    {
      "cell_type": "code",
      "metadata": {
        "id": "PHzEZ7QcyWKE",
        "outputId": "fedc8e09-9968-4736-ce31-c679f1a8c7f8",
        "colab": {
          "base_uri": "https://localhost:8080/",
          "height": 50
        }
      },
      "source": [
        "step=30\n",
        "input=[]\n",
        "output=[]\n",
        "for i in range(len(X_part_scaled)-(step)):\n",
        "    input.append(X_part_scaled[i:i+step])\n",
        "    output.append(Y_part_scaled[i+step])\n",
        " \n",
        "input=np.array(input)\n",
        "output=np.array(output)\n",
        "\n",
        "print(input.shape)\n",
        "print(output.shape)"
      ],
      "execution_count": 28,
      "outputs": [
        {
          "output_type": "stream",
          "text": [
            "(7336, 30, 3)\n",
            "(7336, 1)\n"
          ],
          "name": "stdout"
        }
      ]
    },
    {
      "cell_type": "code",
      "metadata": {
        "id": "bYVf3CewynBj",
        "outputId": "fc7cb662-97eb-47a7-ddb9-f35619da3c70",
        "colab": {
          "base_uri": "https://localhost:8080/",
          "height": 50
        }
      },
      "source": [
        "trainR_X=input[:7000,::]\n",
        "testR_X=input[7000:,::]\n",
        "print(\"train_X Shape:\",trainR_X.shape, \",test_X Shape:\", testR_X.shape)\n",
        "\n",
        "trainR_Y=output[:7000]\n",
        "testR_Y=output[7000:]\n",
        "print(\"test_Y Shape:\",trainR_Y.shape, \",test_Y Shape:\", testR_Y.shape)"
      ],
      "execution_count": 29,
      "outputs": [
        {
          "output_type": "stream",
          "text": [
            "train_X Shape: (7000, 30, 3) ,test_X Shape: (336, 30, 3)\n",
            "test_Y Shape: (7000, 1) ,test_Y Shape: (336, 1)\n"
          ],
          "name": "stdout"
        }
      ]
    },
    {
      "cell_type": "code",
      "metadata": {
        "id": "sBaz79D-ckfH"
      },
      "source": [
        "model2=models.Sequential()\n",
        "model2.add(layers.Conv1D(filters=128, kernel_size=2, activation=\"relu\", input_shape=(30,3)))\n",
        "model2.add(layers.Conv1D(filters=128, kernel_size=2, activation=\"relu\"))\n",
        "model2.add(layers.MaxPool1D(pool_size=2))\n",
        "model2.add(layers.Conv1D(filters=128, kernel_size=2, activation=\"relu\"))\n",
        "model2.add(layers.Flatten())\n",
        "model2.add(layers.RepeatVector(30)) #same as input (30,1)=30\n",
        "model2.add(layers.LSTM(units=100, return_sequences=True, activation=\"relu\"))\n",
        "model2.add(layers.Dropout(0.2))\n",
        "model2.add(layers.LSTM(units=100, return_sequences=True, activation=\"relu\"))\n",
        "model2.add(layers.Dropout(0.2))\n",
        "model2.add(layers.Bidirectional(layers.LSTM(units=128, activation=\"relu\")))\n",
        "model2.add(layers.Dense(100, activation=\"relu\"))\n",
        "model2.add(layers.Dense(1))"
      ],
      "execution_count": 30,
      "outputs": []
    },
    {
      "cell_type": "code",
      "metadata": {
        "id": "1Dozkz_scpbe"
      },
      "source": [
        "model2.compile(optimizer=optimizers.Adam(lr=0.001), loss=\"mae\", metrics=[\"mse\"])"
      ],
      "execution_count": 31,
      "outputs": []
    },
    {
      "cell_type": "code",
      "metadata": {
        "id": "mwHPPW7xcsp7"
      },
      "source": [
        "EarlyStp=callbacks.EarlyStopping(monitor=\"loss\", mode=\"min\", patience=5)\n",
        "Savemod=callbacks.ModelCheckpoint(filepath=\"model2_R.h5\", monitor=\"loss\", save_best_only=True)"
      ],
      "execution_count": 32,
      "outputs": []
    },
    {
      "cell_type": "code",
      "metadata": {
        "id": "dAC_gqO0cu_z",
        "outputId": "3cce2292-333f-4f3c-b38a-3cfaa2a98c73",
        "colab": {
          "base_uri": "https://localhost:8080/",
          "height": 1000
        }
      },
      "source": [
        "history=model2.fit(trainR_X, trainR_Y, epochs=200,callbacks=[Savemod, EarlyStp])"
      ],
      "execution_count": 33,
      "outputs": [
        {
          "output_type": "stream",
          "text": [
            "Epoch 1/200\n",
            "219/219 [==============================] - 56s 258ms/step - loss: 0.2939 - mse: 0.1328\n",
            "Epoch 2/200\n",
            "219/219 [==============================] - 57s 260ms/step - loss: 0.2437 - mse: 0.1021\n",
            "Epoch 3/200\n",
            "219/219 [==============================] - 57s 258ms/step - loss: 0.2270 - mse: 0.0935\n",
            "Epoch 4/200\n",
            "219/219 [==============================] - 57s 259ms/step - loss: 0.2285 - mse: 0.0941\n",
            "Epoch 5/200\n",
            "219/219 [==============================] - 56s 257ms/step - loss: 0.2238 - mse: 0.0918\n",
            "Epoch 6/200\n",
            "219/219 [==============================] - 57s 259ms/step - loss: 0.2172 - mse: 0.0858\n",
            "Epoch 7/200\n",
            "219/219 [==============================] - 57s 258ms/step - loss: 0.2110 - mse: 0.0841\n",
            "Epoch 8/200\n",
            "219/219 [==============================] - 57s 261ms/step - loss: 0.2022 - mse: 0.0802\n",
            "Epoch 9/200\n",
            "219/219 [==============================] - 57s 259ms/step - loss: 0.1979 - mse: 0.0776\n",
            "Epoch 10/200\n",
            "219/219 [==============================] - 56s 257ms/step - loss: 0.2337 - mse: 0.1129\n",
            "Epoch 11/200\n",
            "219/219 [==============================] - 57s 259ms/step - loss: 0.1920 - mse: 0.0714\n",
            "Epoch 12/200\n",
            "219/219 [==============================] - 56s 257ms/step - loss: 0.1757 - mse: 0.0616\n",
            "Epoch 13/200\n",
            "219/219 [==============================] - 57s 260ms/step - loss: 0.1856 - mse: 0.0695\n",
            "Epoch 14/200\n",
            "219/219 [==============================] - 56s 258ms/step - loss: 0.1591 - mse: 0.0516\n",
            "Epoch 15/200\n",
            "219/219 [==============================] - 56s 258ms/step - loss: 0.1626 - mse: 0.0556\n",
            "Epoch 16/200\n",
            "219/219 [==============================] - 57s 262ms/step - loss: 0.1456 - mse: 0.0435\n",
            "Epoch 17/200\n",
            "219/219 [==============================] - 58s 263ms/step - loss: 0.1424 - mse: 0.0418\n",
            "Epoch 18/200\n",
            "219/219 [==============================] - 58s 263ms/step - loss: 0.1426 - mse: 0.0432\n",
            "Epoch 19/200\n",
            "219/219 [==============================] - 58s 265ms/step - loss: 0.1509 - mse: 0.0476\n",
            "Epoch 20/200\n",
            "219/219 [==============================] - 58s 264ms/step - loss: 0.1379 - mse: 0.0395\n",
            "Epoch 21/200\n",
            "219/219 [==============================] - 62s 285ms/step - loss: 0.1273 - mse: 0.0338\n",
            "Epoch 22/200\n",
            "219/219 [==============================] - 57s 263ms/step - loss: 0.1220 - mse: 0.0311\n",
            "Epoch 23/200\n",
            "219/219 [==============================] - 58s 263ms/step - loss: 0.1097 - mse: 0.0245\n",
            "Epoch 24/200\n",
            "219/219 [==============================] - 58s 266ms/step - loss: 0.1433 - mse: 0.0447\n",
            "Epoch 25/200\n",
            "219/219 [==============================] - 57s 262ms/step - loss: 0.1071 - mse: 0.0235\n",
            "Epoch 26/200\n",
            "219/219 [==============================] - 58s 263ms/step - loss: 0.1002 - mse: 0.0208\n",
            "Epoch 27/200\n",
            "219/219 [==============================] - 57s 263ms/step - loss: 0.0944 - mse: 0.0185\n",
            "Epoch 28/200\n",
            "219/219 [==============================] - 58s 263ms/step - loss: 0.0870 - mse: 0.0152\n",
            "Epoch 29/200\n",
            "219/219 [==============================] - 58s 266ms/step - loss: 0.0813 - mse: 0.0134\n",
            "Epoch 30/200\n",
            "219/219 [==============================] - 58s 264ms/step - loss: 0.0837 - mse: 0.0150\n",
            "Epoch 31/200\n",
            "219/219 [==============================] - 63s 287ms/step - loss: 0.0938 - mse: 0.0197\n",
            "Epoch 32/200\n",
            "219/219 [==============================] - 58s 265ms/step - loss: 0.0873 - mse: 0.0173\n",
            "Epoch 33/200\n",
            "219/219 [==============================] - 58s 264ms/step - loss: 0.0785 - mse: 0.0135\n",
            "Epoch 34/200\n",
            "219/219 [==============================] - 58s 264ms/step - loss: 0.0705 - mse: 0.0104\n",
            "Epoch 35/200\n",
            "219/219 [==============================] - 59s 269ms/step - loss: 0.0658 - mse: 0.0088\n",
            "Epoch 36/200\n",
            "219/219 [==============================] - 57s 262ms/step - loss: 0.0798 - mse: 0.0154\n",
            "Epoch 37/200\n",
            "219/219 [==============================] - 58s 265ms/step - loss: 0.0691 - mse: 0.0113\n",
            "Epoch 38/200\n",
            "219/219 [==============================] - 58s 263ms/step - loss: 0.0621 - mse: 0.0080\n",
            "Epoch 39/200\n",
            "219/219 [==============================] - 58s 266ms/step - loss: 0.0692 - mse: 0.0116\n",
            "Epoch 40/200\n",
            "219/219 [==============================] - 59s 268ms/step - loss: 0.1089 - mse: 0.0330\n",
            "Epoch 41/200\n",
            "219/219 [==============================] - 59s 267ms/step - loss: 0.0758 - mse: 0.0143\n",
            "Epoch 42/200\n",
            "219/219 [==============================] - 61s 280ms/step - loss: 0.0733 - mse: 0.0142\n",
            "Epoch 43/200\n",
            "219/219 [==============================] - 58s 264ms/step - loss: 0.0561 - mse: 0.0068\n",
            "Epoch 44/200\n",
            "219/219 [==============================] - 58s 266ms/step - loss: 0.0513 - mse: 0.0058\n",
            "Epoch 45/200\n",
            "219/219 [==============================] - 58s 267ms/step - loss: 0.0493 - mse: 0.0054\n",
            "Epoch 46/200\n",
            "219/219 [==============================] - 58s 267ms/step - loss: 0.0471 - mse: 0.0048\n",
            "Epoch 47/200\n",
            "219/219 [==============================] - 58s 264ms/step - loss: 0.0456 - mse: 0.0045\n",
            "Epoch 48/200\n",
            "219/219 [==============================] - 59s 268ms/step - loss: 0.0447 - mse: 0.0043\n",
            "Epoch 49/200\n",
            "219/219 [==============================] - 58s 266ms/step - loss: 0.0448 - mse: 0.0042\n",
            "Epoch 50/200\n",
            "219/219 [==============================] - 58s 265ms/step - loss: 0.0435 - mse: 0.0040\n",
            "Epoch 51/200\n",
            "219/219 [==============================] - 58s 266ms/step - loss: 0.0487 - mse: 0.0056\n",
            "Epoch 52/200\n",
            "219/219 [==============================] - 63s 288ms/step - loss: 0.0432 - mse: 0.0041\n",
            "Epoch 53/200\n",
            "219/219 [==============================] - 58s 265ms/step - loss: 0.0505 - mse: 0.0070\n",
            "Epoch 54/200\n",
            "219/219 [==============================] - 58s 266ms/step - loss: 0.0492 - mse: 0.0062\n",
            "Epoch 55/200\n",
            "219/219 [==============================] - 59s 268ms/step - loss: 0.0427 - mse: 0.0040\n",
            "Epoch 56/200\n",
            "219/219 [==============================] - 58s 267ms/step - loss: 0.0376 - mse: 0.0030\n",
            "Epoch 57/200\n",
            "219/219 [==============================] - 58s 265ms/step - loss: 0.0368 - mse: 0.0029\n",
            "Epoch 58/200\n",
            "219/219 [==============================] - 58s 263ms/step - loss: 0.0395 - mse: 0.0036\n",
            "Epoch 59/200\n",
            "219/219 [==============================] - 57s 260ms/step - loss: 0.1396 - mse: 0.0550\n",
            "Epoch 60/200\n",
            "219/219 [==============================] - 57s 262ms/step - loss: 0.1454 - mse: 0.0543\n",
            "Epoch 61/200\n",
            "219/219 [==============================] - 58s 264ms/step - loss: 0.0532 - mse: 0.0071\n",
            "Epoch 62/200\n",
            "219/219 [==============================] - 57s 262ms/step - loss: 0.0424 - mse: 0.0042\n"
          ],
          "name": "stdout"
        }
      ]
    },
    {
      "cell_type": "code",
      "metadata": {
        "id": "4LwSNdVhcyZx"
      },
      "source": [
        "hist=history.history\n",
        "train_loss=hist[\"loss\"]\n",
        "epoch=range(1,len(train_loss)+1)"
      ],
      "execution_count": 34,
      "outputs": []
    },
    {
      "cell_type": "code",
      "metadata": {
        "id": "wfBWG3TIfmEN",
        "outputId": "d68e470c-acbb-42c6-bbde-2bc7891ed4d2",
        "colab": {
          "base_uri": "https://localhost:8080/",
          "height": 282
        }
      },
      "source": [
        "plt.plot(epoch,train_loss)"
      ],
      "execution_count": 35,
      "outputs": [
        {
          "output_type": "execute_result",
          "data": {
            "text/plain": [
              "[<matplotlib.lines.Line2D at 0x7ff7091852b0>]"
            ]
          },
          "metadata": {
            "tags": []
          },
          "execution_count": 35
        },
        {
          "output_type": "display_data",
          "data": {
            "image/png": "[encoded data removed]",
            "text/plain": [
              "<Figure size 432x288 with 1 Axes>"
            ]
          },
          "metadata": {
            "tags": [],
            "needs_background": "light"
          }
        }
      ]
    },
    {
      "cell_type": "code",
      "metadata": {
        "id": "OceGlG5XfoIh"
      },
      "source": [
        "model=models.load_model(\"model2_R.h5\")"
      ],
      "execution_count": 36,
      "outputs": []
    },
    {
      "cell_type": "code",
      "metadata": {
        "id": "IvjqjrVKfuKF"
      },
      "source": [
        "temp_rs=model2.predict(testR_X)"
      ],
      "execution_count": 37,
      "outputs": []
    },
    {
      "cell_type": "code",
      "metadata": {
        "id": "FNo2HkzsfyHm",
        "outputId": "8b400ec2-f29d-4e0e-9d37-2bd6641e2139",
        "colab": {
          "base_uri": "https://localhost:8080/",
          "height": 1000
        }
      },
      "source": [
        "temp_rs=scaler2.inverse_transform(temp_rs)\n",
        "temp_rs"
      ],
      "execution_count": 38,
      "outputs": [
        {
          "output_type": "execute_result",
          "data": {
            "text/plain": [
              "array([[13.058585 ],\n",
              "       [13.806648 ],\n",
              "       [12.54675  ],\n",
              "       [13.94758  ],\n",
              "       [12.978665 ],\n",
              "       [15.343393 ],\n",
              "       [15.222155 ],\n",
              "       [15.887982 ],\n",
              "       [15.436951 ],\n",
              "       [15.618304 ],\n",
              "       [15.526468 ],\n",
              "       [16.169855 ],\n",
              "       [15.497482 ],\n",
              "       [13.754525 ],\n",
              "       [12.923067 ],\n",
              "       [14.358563 ],\n",
              "       [14.404509 ],\n",
              "       [16.181772 ],\n",
              "       [17.141235 ],\n",
              "       [17.470463 ],\n",
              "       [15.730652 ],\n",
              "       [14.997031 ],\n",
              "       [13.702351 ],\n",
              "       [15.531889 ],\n",
              "       [16.680323 ],\n",
              "       [17.459745 ],\n",
              "       [16.284023 ],\n",
              "       [17.28423  ],\n",
              "       [15.411244 ],\n",
              "       [18.387619 ],\n",
              "       [16.358095 ],\n",
              "       [13.882127 ],\n",
              "       [17.816801 ],\n",
              "       [18.194635 ],\n",
              "       [18.2088   ],\n",
              "       [18.487324 ],\n",
              "       [17.934359 ],\n",
              "       [21.087389 ],\n",
              "       [21.580774 ],\n",
              "       [20.477434 ],\n",
              "       [17.26272  ],\n",
              "       [20.37866  ],\n",
              "       [21.58136  ],\n",
              "       [21.043629 ],\n",
              "       [18.822315 ],\n",
              "       [25.706839 ],\n",
              "       [21.29086  ],\n",
              "       [22.717577 ],\n",
              "       [22.564482 ],\n",
              "       [21.559332 ],\n",
              "       [22.155039 ],\n",
              "       [18.302536 ],\n",
              "       [21.350069 ],\n",
              "       [28.764782 ],\n",
              "       [24.137693 ],\n",
              "       [15.008982 ],\n",
              "       [13.97499  ],\n",
              "       [18.416016 ],\n",
              "       [24.274122 ],\n",
              "       [21.967098 ],\n",
              "       [23.572514 ],\n",
              "       [22.090918 ],\n",
              "       [18.88745  ],\n",
              "       [24.417744 ],\n",
              "       [22.766933 ],\n",
              "       [28.086094 ],\n",
              "       [26.407963 ],\n",
              "       [27.590776 ],\n",
              "       [27.188398 ],\n",
              "       [26.063765 ],\n",
              "       [27.336311 ],\n",
              "       [29.515736 ],\n",
              "       [28.03151  ],\n",
              "       [27.491703 ],\n",
              "       [26.175207 ],\n",
              "       [27.09311  ],\n",
              "       [26.187706 ],\n",
              "       [29.92608  ],\n",
              "       [28.158882 ],\n",
              "       [28.35133  ],\n",
              "       [29.15311  ],\n",
              "       [30.204714 ],\n",
              "       [32.248074 ],\n",
              "       [31.74672  ],\n",
              "       [31.803362 ],\n",
              "       [30.982508 ],\n",
              "       [31.342216 ],\n",
              "       [31.82544  ],\n",
              "       [34.609184 ],\n",
              "       [34.31591  ],\n",
              "       [34.574787 ],\n",
              "       [33.83388  ],\n",
              "       [34.21439  ],\n",
              "       [33.719078 ],\n",
              "       [33.856956 ],\n",
              "       [33.653877 ],\n",
              "       [34.18212  ],\n",
              "       [32.863995 ],\n",
              "       [32.35319  ],\n",
              "       [32.47775  ],\n",
              "       [32.960506 ],\n",
              "       [33.263733 ],\n",
              "       [31.814095 ],\n",
              "       [30.508732 ],\n",
              "       [32.281837 ],\n",
              "       [31.678816 ],\n",
              "       [32.265827 ],\n",
              "       [32.996872 ],\n",
              "       [33.601265 ],\n",
              "       [33.66013  ],\n",
              "       [31.625605 ],\n",
              "       [33.101803 ],\n",
              "       [33.371895 ],\n",
              "       [31.335098 ],\n",
              "       [29.904177 ],\n",
              "       [30.31797  ],\n",
              "       [31.231714 ],\n",
              "       [32.4955   ],\n",
              "       [34.500595 ],\n",
              "       [33.628143 ],\n",
              "       [32.569992 ],\n",
              "       [29.004545 ],\n",
              "       [31.657978 ],\n",
              "       [33.310703 ],\n",
              "       [33.101696 ],\n",
              "       [33.179276 ],\n",
              "       [32.784718 ],\n",
              "       [31.297976 ],\n",
              "       [33.287003 ],\n",
              "       [30.724003 ],\n",
              "       [29.302738 ],\n",
              "       [33.48156  ],\n",
              "       [33.71365  ],\n",
              "       [32.60561  ],\n",
              "       [32.567398 ],\n",
              "       [34.07575  ],\n",
              "       [33.254566 ],\n",
              "       [28.64717  ],\n",
              "       [30.392052 ],\n",
              "       [29.316593 ],\n",
              "       [27.293367 ],\n",
              "       [27.390423 ],\n",
              "       [28.468103 ],\n",
              "       [25.429804 ],\n",
              "       [28.330528 ],\n",
              "       [28.18939  ],\n",
              "       [28.106    ],\n",
              "       [30.710758 ],\n",
              "       [30.103506 ],\n",
              "       [27.202139 ],\n",
              "       [25.8112   ],\n",
              "       [29.527765 ],\n",
              "       [28.67987  ],\n",
              "       [29.940573 ],\n",
              "       [30.1551   ],\n",
              "       [30.292246 ],\n",
              "       [31.49436  ],\n",
              "       [31.592476 ],\n",
              "       [31.860386 ],\n",
              "       [31.938128 ],\n",
              "       [31.062023 ],\n",
              "       [30.560219 ],\n",
              "       [31.08575  ],\n",
              "       [31.618555 ],\n",
              "       [30.556704 ],\n",
              "       [29.885456 ],\n",
              "       [31.53052  ],\n",
              "       [31.29363  ],\n",
              "       [30.262312 ],\n",
              "       [30.009535 ],\n",
              "       [29.768333 ],\n",
              "       [29.215372 ],\n",
              "       [12.508378 ],\n",
              "       [29.228622 ],\n",
              "       [20.10194  ],\n",
              "       [20.332905 ],\n",
              "       [14.724263 ],\n",
              "       [13.812038 ],\n",
              "       [13.498507 ],\n",
              "       [13.092283 ],\n",
              "       [12.01638  ],\n",
              "       [12.599362 ],\n",
              "       [15.25035  ],\n",
              "       [11.283379 ],\n",
              "       [14.357607 ],\n",
              "       [15.935843 ],\n",
              "       [29.86477  ],\n",
              "       [28.140125 ],\n",
              "       [27.75275  ],\n",
              "       [16.804914 ],\n",
              "       [27.703634 ],\n",
              "       [15.35182  ],\n",
              "       [29.815523 ],\n",
              "       [13.593325 ],\n",
              "       [28.482056 ],\n",
              "       [28.566435 ],\n",
              "       [30.088543 ],\n",
              "       [30.693174 ],\n",
              "       [31.225283 ],\n",
              "       [29.117092 ],\n",
              "       [29.413458 ],\n",
              "       [28.934088 ],\n",
              "       [30.075241 ],\n",
              "       [28.672937 ],\n",
              "       [29.917439 ],\n",
              "       [30.150902 ],\n",
              "       [31.228174 ],\n",
              "       [26.845442 ],\n",
              "       [28.31233  ],\n",
              "       [29.304363 ],\n",
              "       [30.438349 ],\n",
              "       [29.565811 ],\n",
              "       [28.240072 ],\n",
              "       [28.467318 ],\n",
              "       [28.491293 ],\n",
              "       [30.88995  ],\n",
              "       [28.444513 ],\n",
              "       [28.693007 ],\n",
              "       [29.067009 ],\n",
              "       [28.440727 ],\n",
              "       [27.113646 ],\n",
              "       [29.70749  ],\n",
              "       [29.515972 ],\n",
              "       [29.26644  ],\n",
              "       [31.488049 ],\n",
              "       [30.856087 ],\n",
              "       [29.578106 ],\n",
              "       [29.303667 ],\n",
              "       [30.592949 ],\n",
              "       [31.41387  ],\n",
              "       [31.61991  ],\n",
              "       [31.39213  ],\n",
              "       [30.241686 ],\n",
              "       [30.50611  ],\n",
              "       [28.23085  ],\n",
              "       [29.610443 ],\n",
              "       [26.802044 ],\n",
              "       [29.218618 ],\n",
              "       [28.763136 ],\n",
              "       [29.284271 ],\n",
              "       [27.818874 ],\n",
              "       [30.17499  ],\n",
              "       [29.96808  ],\n",
              "       [29.04702  ],\n",
              "       [26.08986  ],\n",
              "       [25.051489 ],\n",
              "       [24.484077 ],\n",
              "       [23.045929 ],\n",
              "       [23.72709  ],\n",
              "       [25.237358 ],\n",
              "       [26.532959 ],\n",
              "       [26.02924  ],\n",
              "       [26.221079 ],\n",
              "       [24.2153   ],\n",
              "       [24.545225 ],\n",
              "       [22.506577 ],\n",
              "       [22.599087 ],\n",
              "       [21.409212 ],\n",
              "       [20.173008 ],\n",
              "       [18.667952 ],\n",
              "       [19.242178 ],\n",
              "       [20.715706 ],\n",
              "       [20.284822 ],\n",
              "       [29.80817  ],\n",
              "       [28.601461 ],\n",
              "       [29.136755 ],\n",
              "       [28.472984 ],\n",
              "       [29.472021 ],\n",
              "       [28.910616 ],\n",
              "       [28.366472 ],\n",
              "       [28.785627 ],\n",
              "       [29.193104 ],\n",
              "       [28.888351 ],\n",
              "       [28.688148 ],\n",
              "       [28.417583 ],\n",
              "       [29.299658 ],\n",
              "       [28.216444 ],\n",
              "       [28.135483 ],\n",
              "       [27.316587 ],\n",
              "       [27.647343 ],\n",
              "       [23.150494 ],\n",
              "       [23.048372 ],\n",
              "       [24.744148 ],\n",
              "       [26.644138 ],\n",
              "       [26.894497 ],\n",
              "       [24.928673 ],\n",
              "       [24.913885 ],\n",
              "       [24.552376 ],\n",
              "       [25.303686 ],\n",
              "       [24.791084 ],\n",
              "       [26.797369 ],\n",
              "       [23.305613 ],\n",
              "       [25.956987 ],\n",
              "       [20.931688 ],\n",
              "       [26.544426 ],\n",
              "       [22.497107 ],\n",
              "       [20.631685 ],\n",
              "       [21.942005 ],\n",
              "       [20.15899  ],\n",
              "       [20.640982 ],\n",
              "       [21.97945  ],\n",
              "       [17.901844 ],\n",
              "       [21.051086 ],\n",
              "       [18.83666  ],\n",
              "       [20.442936 ],\n",
              "       [17.936073 ],\n",
              "       [17.817274 ],\n",
              "       [26.677217 ],\n",
              "       [16.511013 ],\n",
              "       [14.392798 ],\n",
              "       [12.387178 ],\n",
              "       [13.768202 ],\n",
              "       [10.80721  ],\n",
              "       [11.604419 ],\n",
              "       [14.330706 ],\n",
              "       [28.156599 ],\n",
              "       [30.24533  ],\n",
              "       [ 8.852924 ],\n",
              "       [ 9.9224205],\n",
              "       [29.585175 ],\n",
              "       [28.402988 ],\n",
              "       [29.482332 ],\n",
              "       [30.489237 ],\n",
              "       [30.212881 ],\n",
              "       [12.726153 ],\n",
              "       [31.895918 ],\n",
              "       [29.754906 ],\n",
              "       [28.946348 ],\n",
              "       [30.55325  ],\n",
              "       [30.091812 ],\n",
              "       [29.79494  ],\n",
              "       [28.55244  ],\n",
              "       [14.34547  ],\n",
              "       [15.807685 ],\n",
              "       [13.545438 ],\n",
              "       [12.558238 ]], dtype=float32)"
            ]
          },
          "metadata": {
            "tags": []
          },
          "execution_count": 38
        }
      ]
    },
    {
      "cell_type": "code",
      "metadata": {
        "id": "Gu-dFHfof2ll"
      },
      "source": [
        "testR_Y_inv=scaler2.inverse_transform(testR_Y)"
      ],
      "execution_count": 39,
      "outputs": []
    },
    {
      "cell_type": "code",
      "metadata": {
        "id": "cm3sIqfCgEHw",
        "outputId": "f3e7c0ef-1a8d-4d45-869f-fe3380230045",
        "colab": {
          "base_uri": "https://localhost:8080/",
          "height": 560
        }
      },
      "source": [
        "plt.figure(figsize=(20,9))\n",
        "plt.plot(testR_Y_inv , 'blue', linewidth=5)\n",
        "plt.plot(temp_rs,'r' , linewidth=4)\n",
        "plt.xlabel(\"Time\", fontsize=20)\n",
        "plt.ylabel(\"Temperature (C)\", fontsize=20)\n",
        "plt.legend(('Test','Predicted'))\n",
        "plt.show()"
      ],
      "execution_count": 40,
      "outputs": [
        {
          "output_type": "display_data",
          "data": {
            "image/png": "[encoded data removed]",
            "text/plain": [
              "<Figure size 1440x648 with 1 Axes>"
            ]
          },
          "metadata": {
            "tags": [],
            "needs_background": "light"
          }
        }
      ]
    },
    {
      "cell_type": "code",
      "metadata": {
        "id": "qwiJjngegFtS",
        "outputId": "9a2cc071-85b1-497d-af71-bff02f6893c9",
        "colab": {
          "base_uri": "https://localhost:8080/",
          "height": 34
        }
      },
      "source": [
        "mse=mean_squared_error(testR_Y_inv, temp_rs)\n",
        "mae=mean_absolute_error(testR_Y_inv, temp_rs)\n",
        "print(\"Mean Squared Error:\", str(mse), \"and Mean Absolute Error:\", str(mae))"
      ],
      "execution_count": 41,
      "outputs": [
        {
          "output_type": "stream",
          "text": [
            "Mean Squared Error: 36.5360547481285 and Mean Absolute Error: 4.5550711091435065\n"
          ],
          "name": "stdout"
        }
      ]
    },
    {
      "cell_type": "code",
      "metadata": {
        "id": "c7UWP865gIAJ"
      },
      "source": [
        ""
      ],
      "execution_count": 41,
      "outputs": []
    }
  ]
}