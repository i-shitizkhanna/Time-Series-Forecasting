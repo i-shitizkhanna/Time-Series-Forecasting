{
  "nbformat": 4,
  "nbformat_minor": 0,
  "metadata": {
    "colab": {
      "name": "Regression Model.ipynb",
      "provenance": []
    },
    "kernelspec": {
      "name": "python3",
      "display_name": "Python 3"
    }
  },
  "cells": [
    {
      "cell_type": "code",
      "metadata": {
        "id": "Er_wCpKywt9F"
      },
      "source": [
        "import os\n",
        "import numpy as np\n",
        "import pandas as pd\n",
        "import matplotlib.pyplot as plt\n",
        "import seaborn as sns\n",
        "from sklearn.preprocessing import LabelEncoder, MinMaxScaler\n",
        "from tensorflow.keras import models, layers, utils, optimizers, callbacks\n",
        "from sklearn.metrics import mean_squared_error, mean_absolute_error\n",
        "import tensorflow as tf"
      ],
      "execution_count": 82,
      "outputs": []
    },
    {
      "cell_type": "code",
      "metadata": {
        "id": "NdCa-vk4w0Ds"
      },
      "source": [
        "from numpy.random import seed\n",
        "seed(1)"
      ],
      "execution_count": 83,
      "outputs": []
    },
    {
      "cell_type": "code",
      "metadata": {
        "id": "-Xvg99dlw5uu",
        "outputId": "b422523a-a07d-4b76-d8a2-5ba51d575a5a",
        "colab": {
          "base_uri": "https://localhost:8080/",
          "height": 590
        }
      },
      "source": [
        "dataset=pd.read_csv(\"Data/testset.csv\")\n",
        "dataset"
      ],
      "execution_count": 84,
      "outputs": [
        {
          "output_type": "execute_result",
          "data": {
            "text/html": [
              "<div>\n",
              "<style scoped>\n",
              "    .dataframe tbody tr th:only-of-type {\n",
              "        vertical-align: middle;\n",
              "    }\n",
              "\n",
              "    .dataframe tbody tr th {\n",
              "        vertical-align: top;\n",
              "    }\n",
              "\n",
              "    .dataframe thead th {\n",
              "        text-align: right;\n",
              "    }\n",
              "</style>\n",
              "<table border=\"1\" class=\"dataframe\">\n",
              "  <thead>\n",
              "    <tr style=\"text-align: right;\">\n",
              "      <th></th>\n",
              "      <th>datetime_utc</th>\n",
              "      <th>_conds</th>\n",
              "      <th>_dewptm</th>\n",
              "      <th>_fog</th>\n",
              "      <th>_hail</th>\n",
              "      <th>_heatindexm</th>\n",
              "      <th>_hum</th>\n",
              "      <th>_precipm</th>\n",
              "      <th>_pressurem</th>\n",
              "      <th>_rain</th>\n",
              "      <th>_snow</th>\n",
              "      <th>_tempm</th>\n",
              "      <th>_thunder</th>\n",
              "      <th>_tornado</th>\n",
              "      <th>_vism</th>\n",
              "      <th>_wdird</th>\n",
              "      <th>_wdire</th>\n",
              "      <th>_wgustm</th>\n",
              "      <th>_windchillm</th>\n",
              "      <th>_wspdm</th>\n",
              "    </tr>\n",
              "  </thead>\n",
              "  <tbody>\n",
              "    <tr>\n",
              "      <th>0</th>\n",
              "      <td>19961101-11:00</td>\n",
              "      <td>Smoke</td>\n",
              "      <td>9.0</td>\n",
              "      <td>0</td>\n",
              "      <td>0</td>\n",
              "      <td>NaN</td>\n",
              "      <td>27.0</td>\n",
              "      <td>NaN</td>\n",
              "      <td>1010.0</td>\n",
              "      <td>0</td>\n",
              "      <td>0</td>\n",
              "      <td>30.0</td>\n",
              "      <td>0</td>\n",
              "      <td>0</td>\n",
              "      <td>5.00</td>\n",
              "      <td>280.0</td>\n",
              "      <td>West</td>\n",
              "      <td>NaN</td>\n",
              "      <td>NaN</td>\n",
              "      <td>7.4</td>\n",
              "    </tr>\n",
              "    <tr>\n",
              "      <th>1</th>\n",
              "      <td>19961101-12:00</td>\n",
              "      <td>Smoke</td>\n",
              "      <td>10.0</td>\n",
              "      <td>0</td>\n",
              "      <td>0</td>\n",
              "      <td>NaN</td>\n",
              "      <td>32.0</td>\n",
              "      <td>NaN</td>\n",
              "      <td>-9999.0</td>\n",
              "      <td>0</td>\n",
              "      <td>0</td>\n",
              "      <td>28.0</td>\n",
              "      <td>0</td>\n",
              "      <td>0</td>\n",
              "      <td>NaN</td>\n",
              "      <td>0.0</td>\n",
              "      <td>North</td>\n",
              "      <td>NaN</td>\n",
              "      <td>NaN</td>\n",
              "      <td>NaN</td>\n",
              "    </tr>\n",
              "    <tr>\n",
              "      <th>2</th>\n",
              "      <td>19961101-13:00</td>\n",
              "      <td>Smoke</td>\n",
              "      <td>11.0</td>\n",
              "      <td>0</td>\n",
              "      <td>0</td>\n",
              "      <td>NaN</td>\n",
              "      <td>44.0</td>\n",
              "      <td>NaN</td>\n",
              "      <td>-9999.0</td>\n",
              "      <td>0</td>\n",
              "      <td>0</td>\n",
              "      <td>24.0</td>\n",
              "      <td>0</td>\n",
              "      <td>0</td>\n",
              "      <td>NaN</td>\n",
              "      <td>0.0</td>\n",
              "      <td>North</td>\n",
              "      <td>NaN</td>\n",
              "      <td>NaN</td>\n",
              "      <td>NaN</td>\n",
              "    </tr>\n",
              "    <tr>\n",
              "      <th>3</th>\n",
              "      <td>19961101-14:00</td>\n",
              "      <td>Smoke</td>\n",
              "      <td>10.0</td>\n",
              "      <td>0</td>\n",
              "      <td>0</td>\n",
              "      <td>NaN</td>\n",
              "      <td>41.0</td>\n",
              "      <td>NaN</td>\n",
              "      <td>1010.0</td>\n",
              "      <td>0</td>\n",
              "      <td>0</td>\n",
              "      <td>24.0</td>\n",
              "      <td>0</td>\n",
              "      <td>0</td>\n",
              "      <td>2.00</td>\n",
              "      <td>0.0</td>\n",
              "      <td>North</td>\n",
              "      <td>NaN</td>\n",
              "      <td>NaN</td>\n",
              "      <td>NaN</td>\n",
              "    </tr>\n",
              "    <tr>\n",
              "      <th>4</th>\n",
              "      <td>19961101-16:00</td>\n",
              "      <td>Smoke</td>\n",
              "      <td>11.0</td>\n",
              "      <td>0</td>\n",
              "      <td>0</td>\n",
              "      <td>NaN</td>\n",
              "      <td>47.0</td>\n",
              "      <td>NaN</td>\n",
              "      <td>1011.0</td>\n",
              "      <td>0</td>\n",
              "      <td>0</td>\n",
              "      <td>23.0</td>\n",
              "      <td>0</td>\n",
              "      <td>0</td>\n",
              "      <td>1.20</td>\n",
              "      <td>0.0</td>\n",
              "      <td>North</td>\n",
              "      <td>NaN</td>\n",
              "      <td>NaN</td>\n",
              "      <td>0.0</td>\n",
              "    </tr>\n",
              "    <tr>\n",
              "      <th>...</th>\n",
              "      <td>...</td>\n",
              "      <td>...</td>\n",
              "      <td>...</td>\n",
              "      <td>...</td>\n",
              "      <td>...</td>\n",
              "      <td>...</td>\n",
              "      <td>...</td>\n",
              "      <td>...</td>\n",
              "      <td>...</td>\n",
              "      <td>...</td>\n",
              "      <td>...</td>\n",
              "      <td>...</td>\n",
              "      <td>...</td>\n",
              "      <td>...</td>\n",
              "      <td>...</td>\n",
              "      <td>...</td>\n",
              "      <td>...</td>\n",
              "      <td>...</td>\n",
              "      <td>...</td>\n",
              "      <td>...</td>\n",
              "    </tr>\n",
              "    <tr>\n",
              "      <th>99565</th>\n",
              "      <td>20161231-12:00</td>\n",
              "      <td>Partly Cloudy</td>\n",
              "      <td>15.0</td>\n",
              "      <td>0</td>\n",
              "      <td>0</td>\n",
              "      <td>NaN</td>\n",
              "      <td>77.0</td>\n",
              "      <td>NaN</td>\n",
              "      <td>1015.0</td>\n",
              "      <td>0</td>\n",
              "      <td>0</td>\n",
              "      <td>18.0</td>\n",
              "      <td>0</td>\n",
              "      <td>0</td>\n",
              "      <td>0.50</td>\n",
              "      <td>110.0</td>\n",
              "      <td>ESE</td>\n",
              "      <td>NaN</td>\n",
              "      <td>NaN</td>\n",
              "      <td>7.4</td>\n",
              "    </tr>\n",
              "    <tr>\n",
              "      <th>99566</th>\n",
              "      <td>20161231-13:00</td>\n",
              "      <td>Partly Cloudy</td>\n",
              "      <td>16.0</td>\n",
              "      <td>0</td>\n",
              "      <td>0</td>\n",
              "      <td>NaN</td>\n",
              "      <td>100.0</td>\n",
              "      <td>NaN</td>\n",
              "      <td>1014.0</td>\n",
              "      <td>0</td>\n",
              "      <td>0</td>\n",
              "      <td>16.0</td>\n",
              "      <td>0</td>\n",
              "      <td>0</td>\n",
              "      <td>0.80</td>\n",
              "      <td>90.0</td>\n",
              "      <td>East</td>\n",
              "      <td>NaN</td>\n",
              "      <td>NaN</td>\n",
              "      <td>3.7</td>\n",
              "    </tr>\n",
              "    <tr>\n",
              "      <th>99567</th>\n",
              "      <td>20161231-15:00</td>\n",
              "      <td>NaN</td>\n",
              "      <td>13.0</td>\n",
              "      <td>0</td>\n",
              "      <td>0</td>\n",
              "      <td>NaN</td>\n",
              "      <td>NaN</td>\n",
              "      <td>NaN</td>\n",
              "      <td>1016.0</td>\n",
              "      <td>0</td>\n",
              "      <td>0</td>\n",
              "      <td>NaN</td>\n",
              "      <td>0</td>\n",
              "      <td>0</td>\n",
              "      <td>0.05</td>\n",
              "      <td>10.0</td>\n",
              "      <td>North</td>\n",
              "      <td>NaN</td>\n",
              "      <td>NaN</td>\n",
              "      <td>59.3</td>\n",
              "    </tr>\n",
              "    <tr>\n",
              "      <th>99568</th>\n",
              "      <td>20161231-18:00</td>\n",
              "      <td>Patches of Fog</td>\n",
              "      <td>12.0</td>\n",
              "      <td>1</td>\n",
              "      <td>0</td>\n",
              "      <td>NaN</td>\n",
              "      <td>100.0</td>\n",
              "      <td>NaN</td>\n",
              "      <td>1016.0</td>\n",
              "      <td>0</td>\n",
              "      <td>0</td>\n",
              "      <td>12.0</td>\n",
              "      <td>0</td>\n",
              "      <td>0</td>\n",
              "      <td>0.50</td>\n",
              "      <td>NaN</td>\n",
              "      <td>NaN</td>\n",
              "      <td>NaN</td>\n",
              "      <td>NaN</td>\n",
              "      <td>0.0</td>\n",
              "    </tr>\n",
              "    <tr>\n",
              "      <th>99569</th>\n",
              "      <td>20161231-21:00</td>\n",
              "      <td>Patches of Fog</td>\n",
              "      <td>12.0</td>\n",
              "      <td>1</td>\n",
              "      <td>0</td>\n",
              "      <td>NaN</td>\n",
              "      <td>99.0</td>\n",
              "      <td>NaN</td>\n",
              "      <td>1016.0</td>\n",
              "      <td>0</td>\n",
              "      <td>0</td>\n",
              "      <td>12.0</td>\n",
              "      <td>0</td>\n",
              "      <td>0</td>\n",
              "      <td>0.50</td>\n",
              "      <td>NaN</td>\n",
              "      <td>NaN</td>\n",
              "      <td>NaN</td>\n",
              "      <td>NaN</td>\n",
              "      <td>0.0</td>\n",
              "    </tr>\n",
              "  </tbody>\n",
              "</table>\n",
              "<p>99570 rows × 20 columns</p>\n",
              "</div>"
            ],
            "text/plain": [
              "         datetime_utc          _conds  _dewptm  ...  _wgustm  _windchillm  _wspdm\n",
              "0      19961101-11:00           Smoke      9.0  ...      NaN          NaN     7.4\n",
              "1      19961101-12:00           Smoke     10.0  ...      NaN          NaN     NaN\n",
              "2      19961101-13:00           Smoke     11.0  ...      NaN          NaN     NaN\n",
              "3      19961101-14:00           Smoke     10.0  ...      NaN          NaN     NaN\n",
              "4      19961101-16:00           Smoke     11.0  ...      NaN          NaN     0.0\n",
              "...               ...             ...      ...  ...      ...          ...     ...\n",
              "99565  20161231-12:00   Partly Cloudy     15.0  ...      NaN          NaN     7.4\n",
              "99566  20161231-13:00   Partly Cloudy     16.0  ...      NaN          NaN     3.7\n",
              "99567  20161231-15:00             NaN     13.0  ...      NaN          NaN    59.3\n",
              "99568  20161231-18:00  Patches of Fog     12.0  ...      NaN          NaN     0.0\n",
              "99569  20161231-21:00  Patches of Fog     12.0  ...      NaN          NaN     0.0\n",
              "\n",
              "[99570 rows x 20 columns]"
            ]
          },
          "metadata": {
            "tags": []
          },
          "execution_count": 84
        }
      ]
    },
    {
      "cell_type": "code",
      "metadata": {
        "id": "-M-4Eo-lxHiW",
        "outputId": "bc4d1f52-2fd1-4adc-f583-9961a840481a",
        "colab": {
          "base_uri": "https://localhost:8080/",
          "height": 84
        }
      },
      "source": [
        "dataset.columns=dataset.columns.str.replace(\"_\",\"\")\n",
        "dataset.columns=dataset.columns.str.replace(\" \",\"\")\n",
        "dataset.columns"
      ],
      "execution_count": 85,
      "outputs": [
        {
          "output_type": "execute_result",
          "data": {
            "text/plain": [
              "Index(['datetimeutc', 'conds', 'dewptm', 'fog', 'hail', 'heatindexm', 'hum',\n",
              "       'precipm', 'pressurem', 'rain', 'snow', 'tempm', 'thunder', 'tornado',\n",
              "       'vism', 'wdird', 'wdire', 'wgustm', 'windchillm', 'wspdm'],\n",
              "      dtype='object')"
            ]
          },
          "metadata": {
            "tags": []
          },
          "execution_count": 85
        }
      ]
    },
    {
      "cell_type": "code",
      "metadata": {
        "id": "C1yn-mG6ThjF",
        "outputId": "d5da14b9-c014-48a9-c248-591d3fb36538",
        "colab": {
          "base_uri": "https://localhost:8080/",
          "height": 689
        }
      },
      "source": [
        "print(dataset[\"conds\"].value_counts())"
      ],
      "execution_count": 86,
      "outputs": [
        {
          "output_type": "stream",
          "text": [
            "Haze                             47003\n",
            "Smoke                            20551\n",
            "Mist                              9104\n",
            "Clear                             3129\n",
            "Widespread Dust                   2830\n",
            "Fog                               2656\n",
            "Scattered Clouds                  2197\n",
            "Partly Cloudy                     2070\n",
            "Shallow Fog                       1860\n",
            "Mostly Cloudy                     1520\n",
            "Light Rain                        1297\n",
            "Partial Fog                       1004\n",
            "Patches of Fog                     850\n",
            "Thunderstorms and Rain             471\n",
            "Heavy Fog                          418\n",
            "Light Drizzle                      410\n",
            "Rain                               394\n",
            "Unknown                            382\n",
            "Blowing Sand                       358\n",
            "Overcast                           313\n",
            "Thunderstorm                       190\n",
            "Light Thunderstorms and Rain       170\n",
            "Drizzle                            111\n",
            "Light Thunderstorm                  63\n",
            "Light Fog                           56\n",
            "Heavy Rain                          28\n",
            "Heavy Thunderstorms and Rain        20\n",
            "Thunderstorms with Hail             11\n",
            "Squalls                              6\n",
            "Light Sandstorm                      6\n",
            "Light Rain Showers                   5\n",
            "Volcanic Ash                         4\n",
            "Light Haze                           4\n",
            "Funnel Cloud                         2\n",
            "Sandstorm                            2\n",
            "Rain Showers                         2\n",
            "Light Hail Showers                   1\n",
            "Light Freezing Rain                  1\n",
            "Heavy Thunderstorms with Hail        1\n",
            "Name: conds, dtype: int64\n"
          ],
          "name": "stdout"
        }
      ]
    },
    {
      "cell_type": "code",
      "metadata": {
        "id": "avAB0kLxxVMt"
      },
      "source": [
        "dataset[\"conds\"]=dataset[\"conds\"].replace([\"Widespread Dust\",\"Blowing Sand\",\"Sandstorm\", \"Volcanic Ash\",\"Light Sandstorm\"],\"Dust\")\n",
        "dataset[\"conds\"]=dataset[\"conds\"].replace([\"Fog\", \"Shallow Fog\", \"Partial Fog\",\"Light Fog\", \"Mist\", \"Heavy Fog\", \"Light Haze\",\"Patches of Fog\"],\"Fog\")\n",
        "dataset[\"conds\"]=dataset[\"conds\"].replace([\"Scattered Clouds\", \"Partly Cloudy\",  \"Mostly Cloudy\" ,\"Overcast\",\"Funnel Cloud\"], \"Cloudy\")\n",
        "dataset[\"conds\"]=dataset[\"conds\"].replace([\"Light Rain\", \"Light Drizzle\",\"Rain\", \"Drizzle\", \"Light Rain Showers\",\"Drizzle\" ,\"Rain Showers\"], \"Rain\")\n",
        "dataset[\"conds\"]=dataset[\"conds\"].replace([\"Thunderstorms with Hail\", \"Squalls\",\"Light Hail Showers\" ,\"Light Freezing Rain\",\"Heavy Thunderstorms with Hail\", \"Unknown\"], \"Others\")\n",
        "dataset[\"conds\"]=dataset[\"conds\"].replace([\"Thunderstorms and Rain\", \"Light Thunderstorms and Rain\",\"Light Thunderstorm\" ,\"Heavy Thunderstorms and Rain\",\"Heavy Rain\"], \"Thunderstorm\")"
      ],
      "execution_count": 87,
      "outputs": []
    },
    {
      "cell_type": "code",
      "metadata": {
        "id": "tFSepYusS3TQ",
        "outputId": "bab4dbf5-23c1-4166-d635-053a0feaaa4c",
        "colab": {
          "base_uri": "https://localhost:8080/",
          "height": 185
        }
      },
      "source": [
        "print(dataset[\"conds\"].value_counts())"
      ],
      "execution_count": 88,
      "outputs": [
        {
          "output_type": "stream",
          "text": [
            "Haze            47003\n",
            "Smoke           20551\n",
            "Fog             15952\n",
            "Cloudy           6102\n",
            "Dust             3200\n",
            "Clear            3129\n",
            "Rain             2219\n",
            "Thunderstorm      942\n",
            "Others            402\n",
            "Name: conds, dtype: int64\n"
          ],
          "name": "stdout"
        }
      ]
    },
    {
      "cell_type": "code",
      "metadata": {
        "id": "5YOZaORlUvhg",
        "outputId": "db86be2d-726e-4ab5-8f29-db3f161aaed5",
        "colab": {
          "base_uri": "https://localhost:8080/",
          "height": 218
        }
      },
      "source": [
        "le=LabelEncoder()\n",
        "col=\"conds\"\n",
        "dataset[col]=dataset.apply(lambda x: le.fit_transform(dataset[col].astype(str)),axis=0,result_type='expand')\n",
        "dataset[\"conds\"]"
      ],
      "execution_count": 89,
      "outputs": [
        {
          "output_type": "execute_result",
          "data": {
            "text/plain": [
              "0        7\n",
              "1        7\n",
              "2        7\n",
              "3        7\n",
              "4        7\n",
              "        ..\n",
              "99565    1\n",
              "99566    1\n",
              "99567    9\n",
              "99568    3\n",
              "99569    3\n",
              "Name: conds, Length: 99570, dtype: int64"
            ]
          },
          "metadata": {
            "tags": []
          },
          "execution_count": 89
        }
      ]
    },
    {
      "cell_type": "code",
      "metadata": {
        "id": "-_cWerLkxWzn",
        "outputId": "f45cca8e-5f8e-4437-82c6-e4c1d228d8f7",
        "colab": {
          "base_uri": "https://localhost:8080/",
          "height": 370
        }
      },
      "source": [
        "dataset['pressurem'].replace('-9999.0',np.nan)\n",
        "dataset.replace(0,np.nan)\n",
        "dataset.isnull().sum()"
      ],
      "execution_count": 90,
      "outputs": [
        {
          "output_type": "execute_result",
          "data": {
            "text/plain": [
              "datetimeutc        0\n",
              "conds              0\n",
              "dewptm           620\n",
              "fog                0\n",
              "hail               0\n",
              "heatindexm     70457\n",
              "hum              756\n",
              "precipm        99570\n",
              "pressurem        232\n",
              "rain               0\n",
              "snow               0\n",
              "tempm            672\n",
              "thunder            0\n",
              "tornado            0\n",
              "vism            4428\n",
              "wdird          14492\n",
              "wdire          14492\n",
              "wgustm         98507\n",
              "windchillm     98997\n",
              "wspdm           2358\n",
              "dtype: int64"
            ]
          },
          "metadata": {
            "tags": []
          },
          "execution_count": 90
        }
      ]
    },
    {
      "cell_type": "code",
      "metadata": {
        "id": "zeKEq28oxYih",
        "outputId": "62746c67-1116-42b7-96df-edba06a8a153",
        "colab": {
          "base_uri": "https://localhost:8080/",
          "height": 590
        }
      },
      "source": [
        "dataset"
      ],
      "execution_count": 91,
      "outputs": [
        {
          "output_type": "execute_result",
          "data": {
            "text/html": [
              "<div>\n",
              "<style scoped>\n",
              "    .dataframe tbody tr th:only-of-type {\n",
              "        vertical-align: middle;\n",
              "    }\n",
              "\n",
              "    .dataframe tbody tr th {\n",
              "        vertical-align: top;\n",
              "    }\n",
              "\n",
              "    .dataframe thead th {\n",
              "        text-align: right;\n",
              "    }\n",
              "</style>\n",
              "<table border=\"1\" class=\"dataframe\">\n",
              "  <thead>\n",
              "    <tr style=\"text-align: right;\">\n",
              "      <th></th>\n",
              "      <th>datetimeutc</th>\n",
              "      <th>conds</th>\n",
              "      <th>dewptm</th>\n",
              "      <th>fog</th>\n",
              "      <th>hail</th>\n",
              "      <th>heatindexm</th>\n",
              "      <th>hum</th>\n",
              "      <th>precipm</th>\n",
              "      <th>pressurem</th>\n",
              "      <th>rain</th>\n",
              "      <th>snow</th>\n",
              "      <th>tempm</th>\n",
              "      <th>thunder</th>\n",
              "      <th>tornado</th>\n",
              "      <th>vism</th>\n",
              "      <th>wdird</th>\n",
              "      <th>wdire</th>\n",
              "      <th>wgustm</th>\n",
              "      <th>windchillm</th>\n",
              "      <th>wspdm</th>\n",
              "    </tr>\n",
              "  </thead>\n",
              "  <tbody>\n",
              "    <tr>\n",
              "      <th>0</th>\n",
              "      <td>19961101-11:00</td>\n",
              "      <td>7</td>\n",
              "      <td>9.0</td>\n",
              "      <td>0</td>\n",
              "      <td>0</td>\n",
              "      <td>NaN</td>\n",
              "      <td>27.0</td>\n",
              "      <td>NaN</td>\n",
              "      <td>1010.0</td>\n",
              "      <td>0</td>\n",
              "      <td>0</td>\n",
              "      <td>30.0</td>\n",
              "      <td>0</td>\n",
              "      <td>0</td>\n",
              "      <td>5.00</td>\n",
              "      <td>280.0</td>\n",
              "      <td>West</td>\n",
              "      <td>NaN</td>\n",
              "      <td>NaN</td>\n",
              "      <td>7.4</td>\n",
              "    </tr>\n",
              "    <tr>\n",
              "      <th>1</th>\n",
              "      <td>19961101-12:00</td>\n",
              "      <td>7</td>\n",
              "      <td>10.0</td>\n",
              "      <td>0</td>\n",
              "      <td>0</td>\n",
              "      <td>NaN</td>\n",
              "      <td>32.0</td>\n",
              "      <td>NaN</td>\n",
              "      <td>-9999.0</td>\n",
              "      <td>0</td>\n",
              "      <td>0</td>\n",
              "      <td>28.0</td>\n",
              "      <td>0</td>\n",
              "      <td>0</td>\n",
              "      <td>NaN</td>\n",
              "      <td>0.0</td>\n",
              "      <td>North</td>\n",
              "      <td>NaN</td>\n",
              "      <td>NaN</td>\n",
              "      <td>NaN</td>\n",
              "    </tr>\n",
              "    <tr>\n",
              "      <th>2</th>\n",
              "      <td>19961101-13:00</td>\n",
              "      <td>7</td>\n",
              "      <td>11.0</td>\n",
              "      <td>0</td>\n",
              "      <td>0</td>\n",
              "      <td>NaN</td>\n",
              "      <td>44.0</td>\n",
              "      <td>NaN</td>\n",
              "      <td>-9999.0</td>\n",
              "      <td>0</td>\n",
              "      <td>0</td>\n",
              "      <td>24.0</td>\n",
              "      <td>0</td>\n",
              "      <td>0</td>\n",
              "      <td>NaN</td>\n",
              "      <td>0.0</td>\n",
              "      <td>North</td>\n",
              "      <td>NaN</td>\n",
              "      <td>NaN</td>\n",
              "      <td>NaN</td>\n",
              "    </tr>\n",
              "    <tr>\n",
              "      <th>3</th>\n",
              "      <td>19961101-14:00</td>\n",
              "      <td>7</td>\n",
              "      <td>10.0</td>\n",
              "      <td>0</td>\n",
              "      <td>0</td>\n",
              "      <td>NaN</td>\n",
              "      <td>41.0</td>\n",
              "      <td>NaN</td>\n",
              "      <td>1010.0</td>\n",
              "      <td>0</td>\n",
              "      <td>0</td>\n",
              "      <td>24.0</td>\n",
              "      <td>0</td>\n",
              "      <td>0</td>\n",
              "      <td>2.00</td>\n",
              "      <td>0.0</td>\n",
              "      <td>North</td>\n",
              "      <td>NaN</td>\n",
              "      <td>NaN</td>\n",
              "      <td>NaN</td>\n",
              "    </tr>\n",
              "    <tr>\n",
              "      <th>4</th>\n",
              "      <td>19961101-16:00</td>\n",
              "      <td>7</td>\n",
              "      <td>11.0</td>\n",
              "      <td>0</td>\n",
              "      <td>0</td>\n",
              "      <td>NaN</td>\n",
              "      <td>47.0</td>\n",
              "      <td>NaN</td>\n",
              "      <td>1011.0</td>\n",
              "      <td>0</td>\n",
              "      <td>0</td>\n",
              "      <td>23.0</td>\n",
              "      <td>0</td>\n",
              "      <td>0</td>\n",
              "      <td>1.20</td>\n",
              "      <td>0.0</td>\n",
              "      <td>North</td>\n",
              "      <td>NaN</td>\n",
              "      <td>NaN</td>\n",
              "      <td>0.0</td>\n",
              "    </tr>\n",
              "    <tr>\n",
              "      <th>...</th>\n",
              "      <td>...</td>\n",
              "      <td>...</td>\n",
              "      <td>...</td>\n",
              "      <td>...</td>\n",
              "      <td>...</td>\n",
              "      <td>...</td>\n",
              "      <td>...</td>\n",
              "      <td>...</td>\n",
              "      <td>...</td>\n",
              "      <td>...</td>\n",
              "      <td>...</td>\n",
              "      <td>...</td>\n",
              "      <td>...</td>\n",
              "      <td>...</td>\n",
              "      <td>...</td>\n",
              "      <td>...</td>\n",
              "      <td>...</td>\n",
              "      <td>...</td>\n",
              "      <td>...</td>\n",
              "      <td>...</td>\n",
              "    </tr>\n",
              "    <tr>\n",
              "      <th>99565</th>\n",
              "      <td>20161231-12:00</td>\n",
              "      <td>1</td>\n",
              "      <td>15.0</td>\n",
              "      <td>0</td>\n",
              "      <td>0</td>\n",
              "      <td>NaN</td>\n",
              "      <td>77.0</td>\n",
              "      <td>NaN</td>\n",
              "      <td>1015.0</td>\n",
              "      <td>0</td>\n",
              "      <td>0</td>\n",
              "      <td>18.0</td>\n",
              "      <td>0</td>\n",
              "      <td>0</td>\n",
              "      <td>0.50</td>\n",
              "      <td>110.0</td>\n",
              "      <td>ESE</td>\n",
              "      <td>NaN</td>\n",
              "      <td>NaN</td>\n",
              "      <td>7.4</td>\n",
              "    </tr>\n",
              "    <tr>\n",
              "      <th>99566</th>\n",
              "      <td>20161231-13:00</td>\n",
              "      <td>1</td>\n",
              "      <td>16.0</td>\n",
              "      <td>0</td>\n",
              "      <td>0</td>\n",
              "      <td>NaN</td>\n",
              "      <td>100.0</td>\n",
              "      <td>NaN</td>\n",
              "      <td>1014.0</td>\n",
              "      <td>0</td>\n",
              "      <td>0</td>\n",
              "      <td>16.0</td>\n",
              "      <td>0</td>\n",
              "      <td>0</td>\n",
              "      <td>0.80</td>\n",
              "      <td>90.0</td>\n",
              "      <td>East</td>\n",
              "      <td>NaN</td>\n",
              "      <td>NaN</td>\n",
              "      <td>3.7</td>\n",
              "    </tr>\n",
              "    <tr>\n",
              "      <th>99567</th>\n",
              "      <td>20161231-15:00</td>\n",
              "      <td>9</td>\n",
              "      <td>13.0</td>\n",
              "      <td>0</td>\n",
              "      <td>0</td>\n",
              "      <td>NaN</td>\n",
              "      <td>NaN</td>\n",
              "      <td>NaN</td>\n",
              "      <td>1016.0</td>\n",
              "      <td>0</td>\n",
              "      <td>0</td>\n",
              "      <td>NaN</td>\n",
              "      <td>0</td>\n",
              "      <td>0</td>\n",
              "      <td>0.05</td>\n",
              "      <td>10.0</td>\n",
              "      <td>North</td>\n",
              "      <td>NaN</td>\n",
              "      <td>NaN</td>\n",
              "      <td>59.3</td>\n",
              "    </tr>\n",
              "    <tr>\n",
              "      <th>99568</th>\n",
              "      <td>20161231-18:00</td>\n",
              "      <td>3</td>\n",
              "      <td>12.0</td>\n",
              "      <td>1</td>\n",
              "      <td>0</td>\n",
              "      <td>NaN</td>\n",
              "      <td>100.0</td>\n",
              "      <td>NaN</td>\n",
              "      <td>1016.0</td>\n",
              "      <td>0</td>\n",
              "      <td>0</td>\n",
              "      <td>12.0</td>\n",
              "      <td>0</td>\n",
              "      <td>0</td>\n",
              "      <td>0.50</td>\n",
              "      <td>NaN</td>\n",
              "      <td>NaN</td>\n",
              "      <td>NaN</td>\n",
              "      <td>NaN</td>\n",
              "      <td>0.0</td>\n",
              "    </tr>\n",
              "    <tr>\n",
              "      <th>99569</th>\n",
              "      <td>20161231-21:00</td>\n",
              "      <td>3</td>\n",
              "      <td>12.0</td>\n",
              "      <td>1</td>\n",
              "      <td>0</td>\n",
              "      <td>NaN</td>\n",
              "      <td>99.0</td>\n",
              "      <td>NaN</td>\n",
              "      <td>1016.0</td>\n",
              "      <td>0</td>\n",
              "      <td>0</td>\n",
              "      <td>12.0</td>\n",
              "      <td>0</td>\n",
              "      <td>0</td>\n",
              "      <td>0.50</td>\n",
              "      <td>NaN</td>\n",
              "      <td>NaN</td>\n",
              "      <td>NaN</td>\n",
              "      <td>NaN</td>\n",
              "      <td>0.0</td>\n",
              "    </tr>\n",
              "  </tbody>\n",
              "</table>\n",
              "<p>99570 rows × 20 columns</p>\n",
              "</div>"
            ],
            "text/plain": [
              "          datetimeutc  conds  dewptm  fog  ...  wdire  wgustm  windchillm  wspdm\n",
              "0      19961101-11:00      7     9.0    0  ...   West     NaN         NaN    7.4\n",
              "1      19961101-12:00      7    10.0    0  ...  North     NaN         NaN    NaN\n",
              "2      19961101-13:00      7    11.0    0  ...  North     NaN         NaN    NaN\n",
              "3      19961101-14:00      7    10.0    0  ...  North     NaN         NaN    NaN\n",
              "4      19961101-16:00      7    11.0    0  ...  North     NaN         NaN    0.0\n",
              "...               ...    ...     ...  ...  ...    ...     ...         ...    ...\n",
              "99565  20161231-12:00      1    15.0    0  ...    ESE     NaN         NaN    7.4\n",
              "99566  20161231-13:00      1    16.0    0  ...   East     NaN         NaN    3.7\n",
              "99567  20161231-15:00      9    13.0    0  ...  North     NaN         NaN   59.3\n",
              "99568  20161231-18:00      3    12.0    1  ...    NaN     NaN         NaN    0.0\n",
              "99569  20161231-21:00      3    12.0    1  ...    NaN     NaN         NaN    0.0\n",
              "\n",
              "[99570 rows x 20 columns]"
            ]
          },
          "metadata": {
            "tags": []
          },
          "execution_count": 91
        }
      ]
    },
    {
      "cell_type": "code",
      "metadata": {
        "id": "5fJijoHSxaH-"
      },
      "source": [
        "hum_median=dataset[\"hum\"].median()\n",
        "dataset[\"hum\"].fillna(hum_median,inplace=True)\n",
        "pressurem_median=dataset[\"pressurem\"].median()\n",
        "dataset[\"pressurem\"].fillna(pressurem_median,inplace=True)\n",
        "wspdm_median=dataset[\"wspdm\"].median()\n",
        "dataset[\"wspdm\"].fillna(wspdm_median,inplace=True)\n",
        "tempm_median=dataset[\"tempm\"].median()\n",
        "dataset[\"tempm\"].fillna(tempm_median,inplace=True)"
      ],
      "execution_count": 92,
      "outputs": []
    },
    {
      "cell_type": "code",
      "metadata": {
        "id": "0g1qFDKgxb2J",
        "outputId": "6875b33c-29ad-497c-fd19-f7307ad7080b",
        "colab": {
          "base_uri": "https://localhost:8080/",
          "height": 370
        }
      },
      "source": [
        "dataset.isnull().sum()"
      ],
      "execution_count": 93,
      "outputs": [
        {
          "output_type": "execute_result",
          "data": {
            "text/plain": [
              "datetimeutc        0\n",
              "conds              0\n",
              "dewptm           620\n",
              "fog                0\n",
              "hail               0\n",
              "heatindexm     70457\n",
              "hum                0\n",
              "precipm        99570\n",
              "pressurem          0\n",
              "rain               0\n",
              "snow               0\n",
              "tempm              0\n",
              "thunder            0\n",
              "tornado            0\n",
              "vism            4428\n",
              "wdird          14492\n",
              "wdire          14492\n",
              "wgustm         98507\n",
              "windchillm     98997\n",
              "wspdm              0\n",
              "dtype: int64"
            ]
          },
          "metadata": {
            "tags": []
          },
          "execution_count": 93
        }
      ]
    },
    {
      "cell_type": "code",
      "metadata": {
        "id": "e-VpuyL_a_1D"
      },
      "source": [
        "dataset_regression=dataset[['datetimeutc','hum','tempm','pressurem','wspdm']]"
      ],
      "execution_count": 94,
      "outputs": []
    },
    {
      "cell_type": "code",
      "metadata": {
        "id": "fRceo0QwYdtm",
        "outputId": "26ca2863-62b2-4c5f-8dff-6d76139098f7",
        "colab": {
          "base_uri": "https://localhost:8080/",
          "height": 138
        }
      },
      "source": [
        "dataset_regression[\"datetimeutc\"]=pd.to_datetime(dataset_regression[\"datetimeutc\"])"
      ],
      "execution_count": 95,
      "outputs": [
        {
          "output_type": "stream",
          "text": [
            "/usr/local/lib/python3.6/dist-packages/ipykernel_launcher.py:1: SettingWithCopyWarning: \n",
            "A value is trying to be set on a copy of a slice from a DataFrame.\n",
            "Try using .loc[row_indexer,col_indexer] = value instead\n",
            "\n",
            "See the caveats in the documentation: https://pandas.pydata.org/pandas-docs/stable/user_guide/indexing.html#returning-a-view-versus-a-copy\n",
            "  \"\"\"Entry point for launching an IPython kernel.\n"
          ],
          "name": "stderr"
        }
      ]
    },
    {
      "cell_type": "code",
      "metadata": {
        "id": "q9G_SGkKYxBd"
      },
      "source": [
        "dataset_regression.set_index(\"datetimeutc\",inplace=True)"
      ],
      "execution_count": 96,
      "outputs": []
    },
    {
      "cell_type": "code",
      "metadata": {
        "id": "jP2vgSNCY2i8",
        "outputId": "a3cf1df8-70c8-44e7-eb5d-788b6643e1a0",
        "colab": {
          "base_uri": "https://localhost:8080/",
          "height": 431
        }
      },
      "source": [
        "dataset_regression"
      ],
      "execution_count": 97,
      "outputs": [
        {
          "output_type": "execute_result",
          "data": {
            "text/html": [
              "<div>\n",
              "<style scoped>\n",
              "    .dataframe tbody tr th:only-of-type {\n",
              "        vertical-align: middle;\n",
              "    }\n",
              "\n",
              "    .dataframe tbody tr th {\n",
              "        vertical-align: top;\n",
              "    }\n",
              "\n",
              "    .dataframe thead th {\n",
              "        text-align: right;\n",
              "    }\n",
              "</style>\n",
              "<table border=\"1\" class=\"dataframe\">\n",
              "  <thead>\n",
              "    <tr style=\"text-align: right;\">\n",
              "      <th></th>\n",
              "      <th>hum</th>\n",
              "      <th>tempm</th>\n",
              "      <th>pressurem</th>\n",
              "      <th>wspdm</th>\n",
              "    </tr>\n",
              "    <tr>\n",
              "      <th>datetimeutc</th>\n",
              "      <th></th>\n",
              "      <th></th>\n",
              "      <th></th>\n",
              "      <th></th>\n",
              "    </tr>\n",
              "  </thead>\n",
              "  <tbody>\n",
              "    <tr>\n",
              "      <th>1996-11-01 11:00:00</th>\n",
              "      <td>27.0</td>\n",
              "      <td>30.0</td>\n",
              "      <td>1010.0</td>\n",
              "      <td>7.4</td>\n",
              "    </tr>\n",
              "    <tr>\n",
              "      <th>1996-11-01 12:00:00</th>\n",
              "      <td>32.0</td>\n",
              "      <td>28.0</td>\n",
              "      <td>-9999.0</td>\n",
              "      <td>7.4</td>\n",
              "    </tr>\n",
              "    <tr>\n",
              "      <th>1996-11-01 13:00:00</th>\n",
              "      <td>44.0</td>\n",
              "      <td>24.0</td>\n",
              "      <td>-9999.0</td>\n",
              "      <td>7.4</td>\n",
              "    </tr>\n",
              "    <tr>\n",
              "      <th>1996-11-01 14:00:00</th>\n",
              "      <td>41.0</td>\n",
              "      <td>24.0</td>\n",
              "      <td>1010.0</td>\n",
              "      <td>7.4</td>\n",
              "    </tr>\n",
              "    <tr>\n",
              "      <th>1996-11-01 16:00:00</th>\n",
              "      <td>47.0</td>\n",
              "      <td>23.0</td>\n",
              "      <td>1011.0</td>\n",
              "      <td>0.0</td>\n",
              "    </tr>\n",
              "    <tr>\n",
              "      <th>...</th>\n",
              "      <td>...</td>\n",
              "      <td>...</td>\n",
              "      <td>...</td>\n",
              "      <td>...</td>\n",
              "    </tr>\n",
              "    <tr>\n",
              "      <th>2016-12-31 12:00:00</th>\n",
              "      <td>77.0</td>\n",
              "      <td>18.0</td>\n",
              "      <td>1015.0</td>\n",
              "      <td>7.4</td>\n",
              "    </tr>\n",
              "    <tr>\n",
              "      <th>2016-12-31 13:00:00</th>\n",
              "      <td>100.0</td>\n",
              "      <td>16.0</td>\n",
              "      <td>1014.0</td>\n",
              "      <td>3.7</td>\n",
              "    </tr>\n",
              "    <tr>\n",
              "      <th>2016-12-31 15:00:00</th>\n",
              "      <td>58.0</td>\n",
              "      <td>27.0</td>\n",
              "      <td>1016.0</td>\n",
              "      <td>59.3</td>\n",
              "    </tr>\n",
              "    <tr>\n",
              "      <th>2016-12-31 18:00:00</th>\n",
              "      <td>100.0</td>\n",
              "      <td>12.0</td>\n",
              "      <td>1016.0</td>\n",
              "      <td>0.0</td>\n",
              "    </tr>\n",
              "    <tr>\n",
              "      <th>2016-12-31 21:00:00</th>\n",
              "      <td>99.0</td>\n",
              "      <td>12.0</td>\n",
              "      <td>1016.0</td>\n",
              "      <td>0.0</td>\n",
              "    </tr>\n",
              "  </tbody>\n",
              "</table>\n",
              "<p>99570 rows × 4 columns</p>\n",
              "</div>"
            ],
            "text/plain": [
              "                       hum  tempm  pressurem  wspdm\n",
              "datetimeutc                                        \n",
              "1996-11-01 11:00:00   27.0   30.0     1010.0    7.4\n",
              "1996-11-01 12:00:00   32.0   28.0    -9999.0    7.4\n",
              "1996-11-01 13:00:00   44.0   24.0    -9999.0    7.4\n",
              "1996-11-01 14:00:00   41.0   24.0     1010.0    7.4\n",
              "1996-11-01 16:00:00   47.0   23.0     1011.0    0.0\n",
              "...                    ...    ...        ...    ...\n",
              "2016-12-31 12:00:00   77.0   18.0     1015.0    7.4\n",
              "2016-12-31 13:00:00  100.0   16.0     1014.0    3.7\n",
              "2016-12-31 15:00:00   58.0   27.0     1016.0   59.3\n",
              "2016-12-31 18:00:00  100.0   12.0     1016.0    0.0\n",
              "2016-12-31 21:00:00   99.0   12.0     1016.0    0.0\n",
              "\n",
              "[99570 rows x 4 columns]"
            ]
          },
          "metadata": {
            "tags": []
          },
          "execution_count": 97
        }
      ]
    },
    {
      "cell_type": "code",
      "metadata": {
        "id": "1AooeV_nY6i5",
        "outputId": "c9c580fa-7051-4583-de5c-c11feb2ff5fa",
        "colab": {
          "base_uri": "https://localhost:8080/",
          "height": 431
        }
      },
      "source": [
        "dataset_regression=dataset_regression.resample(\"D\").mean()\n",
        "dataset_regression"
      ],
      "execution_count": 99,
      "outputs": [
        {
          "output_type": "execute_result",
          "data": {
            "text/html": [
              "<div>\n",
              "<style scoped>\n",
              "    .dataframe tbody tr th:only-of-type {\n",
              "        vertical-align: middle;\n",
              "    }\n",
              "\n",
              "    .dataframe tbody tr th {\n",
              "        vertical-align: top;\n",
              "    }\n",
              "\n",
              "    .dataframe thead th {\n",
              "        text-align: right;\n",
              "    }\n",
              "</style>\n",
              "<table border=\"1\" class=\"dataframe\">\n",
              "  <thead>\n",
              "    <tr style=\"text-align: right;\">\n",
              "      <th></th>\n",
              "      <th>hum</th>\n",
              "      <th>tempm</th>\n",
              "      <th>pressurem</th>\n",
              "      <th>wspdm</th>\n",
              "    </tr>\n",
              "    <tr>\n",
              "      <th>datetimeutc</th>\n",
              "      <th></th>\n",
              "      <th></th>\n",
              "      <th></th>\n",
              "      <th></th>\n",
              "    </tr>\n",
              "  </thead>\n",
              "  <tbody>\n",
              "    <tr>\n",
              "      <th>1996-11-01</th>\n",
              "      <td>52.916667</td>\n",
              "      <td>22.333333</td>\n",
              "      <td>-2659.666667</td>\n",
              "      <td>6.166667</td>\n",
              "    </tr>\n",
              "    <tr>\n",
              "      <th>1996-11-02</th>\n",
              "      <td>48.625000</td>\n",
              "      <td>22.916667</td>\n",
              "      <td>1009.833333</td>\n",
              "      <td>7.950000</td>\n",
              "    </tr>\n",
              "    <tr>\n",
              "      <th>1996-11-03</th>\n",
              "      <td>55.958333</td>\n",
              "      <td>21.791667</td>\n",
              "      <td>1010.500000</td>\n",
              "      <td>5.020833</td>\n",
              "    </tr>\n",
              "    <tr>\n",
              "      <th>1996-11-04</th>\n",
              "      <td>48.055556</td>\n",
              "      <td>22.722222</td>\n",
              "      <td>1011.333333</td>\n",
              "      <td>2.266667</td>\n",
              "    </tr>\n",
              "    <tr>\n",
              "      <th>1996-11-05</th>\n",
              "      <td>29.400000</td>\n",
              "      <td>27.800000</td>\n",
              "      <td>1011.800000</td>\n",
              "      <td>10.020000</td>\n",
              "    </tr>\n",
              "    <tr>\n",
              "      <th>...</th>\n",
              "      <td>...</td>\n",
              "      <td>...</td>\n",
              "      <td>...</td>\n",
              "      <td>...</td>\n",
              "    </tr>\n",
              "    <tr>\n",
              "      <th>2016-12-27</th>\n",
              "      <td>67.550000</td>\n",
              "      <td>16.850000</td>\n",
              "      <td>1017.200000</td>\n",
              "      <td>8.335000</td>\n",
              "    </tr>\n",
              "    <tr>\n",
              "      <th>2016-12-28</th>\n",
              "      <td>68.043478</td>\n",
              "      <td>17.217391</td>\n",
              "      <td>1015.565217</td>\n",
              "      <td>3.547826</td>\n",
              "    </tr>\n",
              "    <tr>\n",
              "      <th>2016-12-29</th>\n",
              "      <td>87.857143</td>\n",
              "      <td>15.238095</td>\n",
              "      <td>1016.904762</td>\n",
              "      <td>6.000000</td>\n",
              "    </tr>\n",
              "    <tr>\n",
              "      <th>2016-12-30</th>\n",
              "      <td>89.666667</td>\n",
              "      <td>14.095238</td>\n",
              "      <td>1017.904762</td>\n",
              "      <td>6.266667</td>\n",
              "    </tr>\n",
              "    <tr>\n",
              "      <th>2016-12-31</th>\n",
              "      <td>85.550000</td>\n",
              "      <td>15.650000</td>\n",
              "      <td>1016.100000</td>\n",
              "      <td>7.325000</td>\n",
              "    </tr>\n",
              "  </tbody>\n",
              "</table>\n",
              "<p>7366 rows × 4 columns</p>\n",
              "</div>"
            ],
            "text/plain": [
              "                   hum      tempm    pressurem      wspdm\n",
              "datetimeutc                                              \n",
              "1996-11-01   52.916667  22.333333 -2659.666667   6.166667\n",
              "1996-11-02   48.625000  22.916667  1009.833333   7.950000\n",
              "1996-11-03   55.958333  21.791667  1010.500000   5.020833\n",
              "1996-11-04   48.055556  22.722222  1011.333333   2.266667\n",
              "1996-11-05   29.400000  27.800000  1011.800000  10.020000\n",
              "...                ...        ...          ...        ...\n",
              "2016-12-27   67.550000  16.850000  1017.200000   8.335000\n",
              "2016-12-28   68.043478  17.217391  1015.565217   3.547826\n",
              "2016-12-29   87.857143  15.238095  1016.904762   6.000000\n",
              "2016-12-30   89.666667  14.095238  1017.904762   6.266667\n",
              "2016-12-31   85.550000  15.650000  1016.100000   7.325000\n",
              "\n",
              "[7366 rows x 4 columns]"
            ]
          },
          "metadata": {
            "tags": []
          },
          "execution_count": 99
        }
      ]
    },
    {
      "cell_type": "code",
      "metadata": {
        "id": "XRRKECk-xdVh"
      },
      "source": [
        "# def extract_year(value):\n",
        "#     return (value[0:4])"
      ],
      "execution_count": 34,
      "outputs": []
    },
    {
      "cell_type": "code",
      "metadata": {
        "id": "PrIjV34UxfcO"
      },
      "source": [
        "# def extract_month(value):\n",
        "#     return (value[4:6])"
      ],
      "execution_count": 35,
      "outputs": []
    },
    {
      "cell_type": "code",
      "metadata": {
        "id": "0bN_k8u-xgzQ"
      },
      "source": [
        "# def extract_date(value):\n",
        "#     return (value[6:8])"
      ],
      "execution_count": 36,
      "outputs": []
    },
    {
      "cell_type": "code",
      "metadata": {
        "id": "06N0GIujxiKz"
      },
      "source": [
        "# dataset[\"year\"]=dataset[\"datetimeutc\"].apply(lambda x : extract_year(x))\n",
        "# dataset[\"month\"]=dataset[\"datetimeutc\"].apply(lambda x : extract_month(x))\n",
        "# dataset[\"date\"]=dataset[\"datetimeutc\"].apply(lambda x : extract_month(x))"
      ],
      "execution_count": 37,
      "outputs": []
    },
    {
      "cell_type": "code",
      "metadata": {
        "id": "CBu-y22hZZ8H",
        "outputId": "8921a3fa-00b3-44e2-e86c-75ef66421939",
        "colab": {
          "base_uri": "https://localhost:8080/",
          "height": 101
        }
      },
      "source": [
        "dataset_regression.isnull().sum()"
      ],
      "execution_count": 100,
      "outputs": [
        {
          "output_type": "execute_result",
          "data": {
            "text/plain": [
              "hum          141\n",
              "tempm        141\n",
              "pressurem    141\n",
              "wspdm        141\n",
              "dtype: int64"
            ]
          },
          "metadata": {
            "tags": []
          },
          "execution_count": 100
        }
      ]
    },
    {
      "cell_type": "code",
      "metadata": {
        "id": "DBzzlvmmxl9m",
        "outputId": "66911bb1-baa5-4480-9bf6-8cee6bcca13a",
        "colab": {
          "base_uri": "https://localhost:8080/",
          "height": 403
        }
      },
      "source": [
        "# dataset.groupby(\"year\").tempm.mean()"
      ],
      "execution_count": 39,
      "outputs": [
        {
          "output_type": "execute_result",
          "data": {
            "text/plain": [
              "year\n",
              "1996    16.658059\n",
              "1997    24.477199\n",
              "1998    24.872031\n",
              "1999    27.333333\n",
              "2000    23.884252\n",
              "2001    25.599667\n",
              "2002    26.487005\n",
              "2003    26.182239\n",
              "2004    26.010054\n",
              "2005    24.720548\n",
              "2006    25.455213\n",
              "2007    24.813264\n",
              "2008    24.527476\n",
              "2009    25.358821\n",
              "2010    25.559610\n",
              "2011    24.968590\n",
              "2012    25.028712\n",
              "2013    24.690692\n",
              "2014    25.184326\n",
              "2015    25.148161\n",
              "2016    27.314591\n",
              "Name: tempm, dtype: float64"
            ]
          },
          "metadata": {
            "tags": []
          },
          "execution_count": 39
        }
      ]
    },
    {
      "cell_type": "code",
      "metadata": {
        "id": "-KBxpx8Sxoaa"
      },
      "source": [
        "dataset_regression.fillna(dataset_regression.mean(),inplace=True)"
      ],
      "execution_count": 103,
      "outputs": []
    },
    {
      "cell_type": "code",
      "metadata": {
        "id": "UqCm7wQIxqua",
        "outputId": "ee3abf80-968b-4cb4-e255-208fed08cea2",
        "colab": {
          "base_uri": "https://localhost:8080/",
          "height": 101
        }
      },
      "source": [
        "dataset_regression.isnull().sum()"
      ],
      "execution_count": 104,
      "outputs": [
        {
          "output_type": "execute_result",
          "data": {
            "text/plain": [
              "hum          0\n",
              "tempm        0\n",
              "pressurem    0\n",
              "wspdm        0\n",
              "dtype: int64"
            ]
          },
          "metadata": {
            "tags": []
          },
          "execution_count": 104
        }
      ]
    },
    {
      "cell_type": "code",
      "metadata": {
        "id": "kmv8HcCPxw6v",
        "outputId": "6d9372d4-5a9e-4ff0-8c21-9defc593fa7e",
        "colab": {
          "base_uri": "https://localhost:8080/",
          "height": 50
        }
      },
      "source": [
        "X_part=dataset_regression.drop([\"tempm\"],axis=1)\n",
        "Y_part=dataset_regression[\"tempm\"]\n",
        "X_part=np.array(X_part)\n",
        "Y_part=np.array(Y_part).reshape(-1,1)\n",
        "print(X_part.shape)\n",
        "print(Y_part.shape)"
      ],
      "execution_count": 105,
      "outputs": [
        {
          "output_type": "stream",
          "text": [
            "(7366, 3)\n",
            "(7366, 1)\n"
          ],
          "name": "stdout"
        }
      ]
    },
    {
      "cell_type": "code",
      "metadata": {
        "id": "aWJAyh95yTs6"
      },
      "source": [
        "scaler2=MinMaxScaler(feature_range=[-1,1])\n",
        "X_part_scaled=scaler2.fit_transform(X_part)\n",
        "Y_part_scaled=scaler2.fit_transform(Y_part)"
      ],
      "execution_count": 106,
      "outputs": []
    },
    {
      "cell_type": "code",
      "metadata": {
        "id": "PHzEZ7QcyWKE",
        "outputId": "65af4b88-070e-4d37-de4a-7070a1821fff",
        "colab": {
          "base_uri": "https://localhost:8080/",
          "height": 50
        }
      },
      "source": [
        "step=30\n",
        "input=[]\n",
        "output=[]\n",
        "for i in range(len(X_part_scaled)-(step)):\n",
        "    input.append(X_part_scaled[i:i+step])\n",
        "    output.append(Y_part_scaled[i+step])\n",
        " \n",
        "input=np.array(input)\n",
        "output=np.array(output)\n",
        "\n",
        "print(input.shape)\n",
        "print(output.shape)"
      ],
      "execution_count": 107,
      "outputs": [
        {
          "output_type": "stream",
          "text": [
            "(7336, 30, 3)\n",
            "(7336, 1)\n"
          ],
          "name": "stdout"
        }
      ]
    },
    {
      "cell_type": "code",
      "metadata": {
        "id": "bYVf3CewynBj",
        "outputId": "1e3c0bc6-ff18-43f4-f66a-3de36c0bd910",
        "colab": {
          "base_uri": "https://localhost:8080/",
          "height": 50
        }
      },
      "source": [
        "trainR_X=input[:7300,::]\n",
        "testR_X=input[7300:,::]\n",
        "print(\"train_X Shape:\",trainR_X.shape, \",test_X Shape:\", testR_X.shape)\n",
        "\n",
        "trainR_Y=output[:7300]\n",
        "testR_Y=output[7300:]\n",
        "print(\"test_Y Shape:\",trainR_Y.shape, \",test_Y Shape:\", testR_Y.shape)"
      ],
      "execution_count": 108,
      "outputs": [
        {
          "output_type": "stream",
          "text": [
            "train_X Shape: (7300, 30, 3) ,test_X Shape: (36, 30, 3)\n",
            "test_Y Shape: (7300, 1) ,test_Y Shape: (36, 1)\n"
          ],
          "name": "stdout"
        }
      ]
    },
    {
      "cell_type": "code",
      "metadata": {
        "id": "sBaz79D-ckfH"
      },
      "source": [
        "model2=models.Sequential()\n",
        "model2.add(layers.Conv1D(filters=128, kernel_size=2, activation=\"relu\", input_shape=(30,3)))\n",
        "model2.add(layers.Conv1D(filters=128, kernel_size=2, activation=\"relu\"))\n",
        "model2.add(layers.MaxPool1D(pool_size=2))\n",
        "model2.add(layers.Conv1D(filters=128, kernel_size=2, activation=\"relu\"))\n",
        "model2.add(layers.Flatten())\n",
        "model2.add(layers.RepeatVector(30)) #same as input (30,1)=30\n",
        "model2.add(layers.LSTM(units=100, return_sequences=True, activation=\"relu\"))\n",
        "model2.add(layers.Dropout(0.2))\n",
        "model2.add(layers.LSTM(units=100, return_sequences=True, activation=\"relu\"))\n",
        "model2.add(layers.Dropout(0.2))\n",
        "model2.add(layers.Bidirectional(layers.LSTM(units=128, activation=\"relu\")))\n",
        "model2.add(layers.Dense(100, activation=\"relu\"))\n",
        "model2.add(layers.Dense(1))"
      ],
      "execution_count": 113,
      "outputs": []
    },
    {
      "cell_type": "code",
      "metadata": {
        "id": "1Dozkz_scpbe"
      },
      "source": [
        "model2.compile(optimizer=optimizers.Adam(lr=0.001), loss=\"mae\", metrics=[\"mse\"])"
      ],
      "execution_count": 114,
      "outputs": []
    },
    {
      "cell_type": "code",
      "metadata": {
        "id": "mwHPPW7xcsp7"
      },
      "source": [
        "EarlyStp=callbacks.EarlyStopping(monitor=\"loss\", mode=\"min\", patience=5)\n",
        "Savemod=callbacks.ModelCheckpoint(filepath=\"model2_R.h5\", monitor=\"loss\", save_best_only=True)"
      ],
      "execution_count": 115,
      "outputs": []
    },
    {
      "cell_type": "code",
      "metadata": {
        "id": "dAC_gqO0cu_z"
      },
      "source": [
        "history=model2.fit(trainR_X, trainR_Y, epochs=10, verbose=0, callbacks=[Savemod, EarlyStp])"
      ],
      "execution_count": 116,
      "outputs": []
    },
    {
      "cell_type": "code",
      "metadata": {
        "id": "4LwSNdVhcyZx"
      },
      "source": [
        "hist=history.history\n",
        "train_loss=hist[\"loss\"]\n",
        "epoch=range(1,len(train_loss)+1)"
      ],
      "execution_count": 117,
      "outputs": []
    },
    {
      "cell_type": "code",
      "metadata": {
        "id": "wfBWG3TIfmEN",
        "outputId": "33e511fe-0517-48b4-beae-eee3870a7cce",
        "colab": {
          "base_uri": "https://localhost:8080/",
          "height": 282
        }
      },
      "source": [
        "plt.plot(epoch,train_loss)"
      ],
      "execution_count": 118,
      "outputs": [
        {
          "output_type": "execute_result",
          "data": {
            "text/plain": [
              "[<matplotlib.lines.Line2D at 0x7f2c6c350fd0>]"
            ]
          },
          "metadata": {
            "tags": []
          },
          "execution_count": 118
        },
        {
          "output_type": "display_data",
          "data": {
            "image/png": "[encoded data removed]",
            "text/plain": [
              "<Figure size 432x288 with 1 Axes>"
            ]
          },
          "metadata": {
            "tags": [],
            "needs_background": "light"
          }
        }
      ]
    },
    {
      "cell_type": "code",
      "metadata": {
        "id": "OceGlG5XfoIh"
      },
      "source": [
        "model=models.load_model(\"model2_R.h5\")"
      ],
      "execution_count": 119,
      "outputs": []
    },
    {
      "cell_type": "code",
      "metadata": {
        "id": "IvjqjrVKfuKF"
      },
      "source": [
        "temp_rs=model2.predict(testR_X)"
      ],
      "execution_count": 120,
      "outputs": []
    },
    {
      "cell_type": "code",
      "metadata": {
        "id": "FNo2HkzsfyHm",
        "outputId": "645558cc-f2e8-45ad-bfb8-9ae71d522c89",
        "colab": {
          "base_uri": "https://localhost:8080/",
          "height": 622
        }
      },
      "source": [
        "temp_rs=scaler2.inverse_transform(temp_rs)\n",
        "temp_rs"
      ],
      "execution_count": 122,
      "outputs": [
        {
          "output_type": "execute_result",
          "data": {
            "text/plain": [
              "array([[24.215044],\n",
              "       [24.353567],\n",
              "       [24.986425],\n",
              "       [25.411402],\n",
              "       [25.329735],\n",
              "       [22.920399],\n",
              "       [22.50301 ],\n",
              "       [23.461834],\n",
              "       [25.642769],\n",
              "       [26.905474],\n",
              "       [28.353851],\n",
              "       [28.900972],\n",
              "       [28.382988],\n",
              "       [27.127268],\n",
              "       [28.034718],\n",
              "       [28.579601],\n",
              "       [28.95927 ],\n",
              "       [29.402124],\n",
              "       [30.047926],\n",
              "       [30.128057],\n",
              "       [30.069069],\n",
              "       [29.47108 ],\n",
              "       [29.487213],\n",
              "       [29.52674 ],\n",
              "       [30.018366],\n",
              "       [30.332428],\n",
              "       [30.560915],\n",
              "       [30.438139],\n",
              "       [30.719313],\n",
              "       [30.47731 ],\n",
              "       [30.105473],\n",
              "       [29.019209],\n",
              "       [28.297016],\n",
              "       [27.56638 ],\n",
              "       [27.52591 ],\n",
              "       [27.06295 ]], dtype=float32)"
            ]
          },
          "metadata": {
            "tags": []
          },
          "execution_count": 122
        }
      ]
    },
    {
      "cell_type": "code",
      "metadata": {
        "id": "Gu-dFHfof2ll"
      },
      "source": [
        "testR_Y_inv=scaler2.inverse_transform(testR_Y)"
      ],
      "execution_count": 123,
      "outputs": []
    },
    {
      "cell_type": "code",
      "metadata": {
        "id": "cm3sIqfCgEHw",
        "outputId": "6906d9ea-8b38-46d5-85a2-51c86a9eb336",
        "colab": {
          "base_uri": "https://localhost:8080/",
          "height": 306
        }
      },
      "source": [
        "plt.figure(figsize=(20,9))\n",
        "plt.plot(testR_Y_inv , 'blue', linewidth=5)\n",
        "plt.plot(temp_rs,'r' , linewidth=4)\n",
        "plt.xlabel(\"Time\", fontsize=20)\n",
        "plt.ylabel(\"Temperature (C)\", fontsize=20)\n",
        "plt.legend(('Test','Predicted'))\n",
        "plt.show()"
      ],
      "execution_count": 124,
      "outputs": [
        {
          "output_type": "display_data",
          "data": {
            "image/png": "[encoded data removed]",
            "text/plain": [
              "<Figure size 1440x648 with 1 Axes>"
            ]
          },
          "metadata": {
            "tags": [],
            "needs_background": "light"
          }
        }
      ]
    },
    {
      "cell_type": "code",
      "metadata": {
        "id": "qwiJjngegFtS",
        "outputId": "a2e1817f-3d9a-4ee0-d9bf-171ff9c68fe8",
        "colab": {
          "base_uri": "https://localhost:8080/",
          "height": 34
        }
      },
      "source": [
        "mse=mean_squared_error(testR_Y_inv, temp_rs)\n",
        "mae=mean_absolute_error(testR_Y_inv, temp_rs)\n",
        "print(\"Mean Squared Error:\", str(mse), \"and Mean Absolute Error:\", str(mae))"
      ],
      "execution_count": 125,
      "outputs": [
        {
          "output_type": "stream",
          "text": [
            "Mean Squared Error: 108.58657779691075 and Mean Absolute Error: 9.534536878922616\n"
          ],
          "name": "stdout"
        }
      ]
    },
    {
      "cell_type": "code",
      "metadata": {
        "id": "c7UWP865gIAJ"
      },
      "source": [
        ""
      ],
      "execution_count": null,
      "outputs": []
    }
  ]
}