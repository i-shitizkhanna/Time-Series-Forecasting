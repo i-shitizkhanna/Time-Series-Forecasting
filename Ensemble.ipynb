{
  "nbformat": 4,
  "nbformat_minor": 0,
  "metadata": {
    "colab": {
      "name": "Ensemble.ipynb",
      "provenance": []
    },
    "kernelspec": {
      "name": "python3",
      "display_name": "Python 3"
    }
  },
  "cells": [
    {
      "cell_type": "code",
      "metadata": {
        "id": "6Vpo1LjDukFd"
      },
      "source": [
        "from tensorflow.keras import models\n",
        "import pandas as pd\n",
        "import numpy as np"
      ],
      "execution_count": 20,
      "outputs": []
    },
    {
      "cell_type": "code",
      "metadata": {
        "id": "s5GZ-ch9umdW"
      },
      "source": [
        "model1=models.load_model(\"Models/model2_R.h5\")"
      ],
      "execution_count": 4,
      "outputs": []
    },
    {
      "cell_type": "code",
      "metadata": {
        "id": "FnHHGL9wwDux",
        "outputId": "202b80a5-4e83-4fd8-9867-175d3d275d32",
        "colab": {
          "base_uri": "https://localhost:8080/",
          "height": 402
        }
      },
      "source": [
        "test=pd.read_csv(\"DailyDelhiClimateTest.csv\")\n",
        "test"
      ],
      "execution_count": 6,
      "outputs": [
        {
          "output_type": "execute_result",
          "data": {
            "text/html": [
              "<div>\n",
              "<style scoped>\n",
              "    .dataframe tbody tr th:only-of-type {\n",
              "        vertical-align: middle;\n",
              "    }\n",
              "\n",
              "    .dataframe tbody tr th {\n",
              "        vertical-align: top;\n",
              "    }\n",
              "\n",
              "    .dataframe thead th {\n",
              "        text-align: right;\n",
              "    }\n",
              "</style>\n",
              "<table border=\"1\" class=\"dataframe\">\n",
              "  <thead>\n",
              "    <tr style=\"text-align: right;\">\n",
              "      <th></th>\n",
              "      <th>date</th>\n",
              "      <th>meantemp</th>\n",
              "      <th>humidity</th>\n",
              "      <th>wind_speed</th>\n",
              "      <th>meanpressure</th>\n",
              "    </tr>\n",
              "  </thead>\n",
              "  <tbody>\n",
              "    <tr>\n",
              "      <th>0</th>\n",
              "      <td>2017-01-01</td>\n",
              "      <td>15.913043</td>\n",
              "      <td>85.869565</td>\n",
              "      <td>2.743478</td>\n",
              "      <td>59.000000</td>\n",
              "    </tr>\n",
              "    <tr>\n",
              "      <th>1</th>\n",
              "      <td>2017-01-02</td>\n",
              "      <td>18.500000</td>\n",
              "      <td>77.222222</td>\n",
              "      <td>2.894444</td>\n",
              "      <td>1018.277778</td>\n",
              "    </tr>\n",
              "    <tr>\n",
              "      <th>2</th>\n",
              "      <td>2017-01-03</td>\n",
              "      <td>17.111111</td>\n",
              "      <td>81.888889</td>\n",
              "      <td>4.016667</td>\n",
              "      <td>1018.333333</td>\n",
              "    </tr>\n",
              "    <tr>\n",
              "      <th>3</th>\n",
              "      <td>2017-01-04</td>\n",
              "      <td>18.700000</td>\n",
              "      <td>70.050000</td>\n",
              "      <td>4.545000</td>\n",
              "      <td>1015.700000</td>\n",
              "    </tr>\n",
              "    <tr>\n",
              "      <th>4</th>\n",
              "      <td>2017-01-05</td>\n",
              "      <td>18.388889</td>\n",
              "      <td>74.944444</td>\n",
              "      <td>3.300000</td>\n",
              "      <td>1014.333333</td>\n",
              "    </tr>\n",
              "    <tr>\n",
              "      <th>...</th>\n",
              "      <td>...</td>\n",
              "      <td>...</td>\n",
              "      <td>...</td>\n",
              "      <td>...</td>\n",
              "      <td>...</td>\n",
              "    </tr>\n",
              "    <tr>\n",
              "      <th>109</th>\n",
              "      <td>2017-04-20</td>\n",
              "      <td>34.500000</td>\n",
              "      <td>27.500000</td>\n",
              "      <td>5.562500</td>\n",
              "      <td>998.625000</td>\n",
              "    </tr>\n",
              "    <tr>\n",
              "      <th>110</th>\n",
              "      <td>2017-04-21</td>\n",
              "      <td>34.250000</td>\n",
              "      <td>39.375000</td>\n",
              "      <td>6.962500</td>\n",
              "      <td>999.875000</td>\n",
              "    </tr>\n",
              "    <tr>\n",
              "      <th>111</th>\n",
              "      <td>2017-04-22</td>\n",
              "      <td>32.900000</td>\n",
              "      <td>40.900000</td>\n",
              "      <td>8.890000</td>\n",
              "      <td>1001.600000</td>\n",
              "    </tr>\n",
              "    <tr>\n",
              "      <th>112</th>\n",
              "      <td>2017-04-23</td>\n",
              "      <td>32.875000</td>\n",
              "      <td>27.500000</td>\n",
              "      <td>9.962500</td>\n",
              "      <td>1002.125000</td>\n",
              "    </tr>\n",
              "    <tr>\n",
              "      <th>113</th>\n",
              "      <td>2017-04-24</td>\n",
              "      <td>32.000000</td>\n",
              "      <td>27.142857</td>\n",
              "      <td>12.157143</td>\n",
              "      <td>1004.142857</td>\n",
              "    </tr>\n",
              "  </tbody>\n",
              "</table>\n",
              "<p>114 rows × 5 columns</p>\n",
              "</div>"
            ],
            "text/plain": [
              "           date   meantemp   humidity  wind_speed  meanpressure\n",
              "0    2017-01-01  15.913043  85.869565    2.743478     59.000000\n",
              "1    2017-01-02  18.500000  77.222222    2.894444   1018.277778\n",
              "2    2017-01-03  17.111111  81.888889    4.016667   1018.333333\n",
              "3    2017-01-04  18.700000  70.050000    4.545000   1015.700000\n",
              "4    2017-01-05  18.388889  74.944444    3.300000   1014.333333\n",
              "..          ...        ...        ...         ...           ...\n",
              "109  2017-04-20  34.500000  27.500000    5.562500    998.625000\n",
              "110  2017-04-21  34.250000  39.375000    6.962500    999.875000\n",
              "111  2017-04-22  32.900000  40.900000    8.890000   1001.600000\n",
              "112  2017-04-23  32.875000  27.500000    9.962500   1002.125000\n",
              "113  2017-04-24  32.000000  27.142857   12.157143   1004.142857\n",
              "\n",
              "[114 rows x 5 columns]"
            ]
          },
          "metadata": {
            "tags": []
          },
          "execution_count": 6
        }
      ]
    },
    {
      "cell_type": "code",
      "metadata": {
        "id": "U1KSRivCw-aR",
        "outputId": "e444e8ea-e27d-412d-c08e-673af5b94b3c",
        "colab": {
          "base_uri": "https://localhost:8080/"
        }
      },
      "source": [
        "test.isnull().sum()"
      ],
      "execution_count": 7,
      "outputs": [
        {
          "output_type": "execute_result",
          "data": {
            "text/plain": [
              "date            0\n",
              "meantemp        0\n",
              "humidity        0\n",
              "wind_speed      0\n",
              "meanpressure    0\n",
              "dtype: int64"
            ]
          },
          "metadata": {
            "tags": []
          },
          "execution_count": 7
        }
      ]
    },
    {
      "cell_type": "code",
      "metadata": {
        "id": "9tRScxk3xsdr",
        "outputId": "88d39a83-3602-435d-ea28-df90610841c2",
        "colab": {
          "base_uri": "https://localhost:8080/",
          "height": 431
        }
      },
      "source": [
        "test[\"date\"]=pd.to_datetime(test[\"date\"])\n",
        "test.set_index(\"date\",inplace=True)\n",
        "test"
      ],
      "execution_count": 9,
      "outputs": [
        {
          "output_type": "execute_result",
          "data": {
            "text/html": [
              "<div>\n",
              "<style scoped>\n",
              "    .dataframe tbody tr th:only-of-type {\n",
              "        vertical-align: middle;\n",
              "    }\n",
              "\n",
              "    .dataframe tbody tr th {\n",
              "        vertical-align: top;\n",
              "    }\n",
              "\n",
              "    .dataframe thead th {\n",
              "        text-align: right;\n",
              "    }\n",
              "</style>\n",
              "<table border=\"1\" class=\"dataframe\">\n",
              "  <thead>\n",
              "    <tr style=\"text-align: right;\">\n",
              "      <th></th>\n",
              "      <th>meantemp</th>\n",
              "      <th>humidity</th>\n",
              "      <th>wind_speed</th>\n",
              "      <th>meanpressure</th>\n",
              "    </tr>\n",
              "    <tr>\n",
              "      <th>date</th>\n",
              "      <th></th>\n",
              "      <th></th>\n",
              "      <th></th>\n",
              "      <th></th>\n",
              "    </tr>\n",
              "  </thead>\n",
              "  <tbody>\n",
              "    <tr>\n",
              "      <th>2017-01-01</th>\n",
              "      <td>15.913043</td>\n",
              "      <td>85.869565</td>\n",
              "      <td>2.743478</td>\n",
              "      <td>59.000000</td>\n",
              "    </tr>\n",
              "    <tr>\n",
              "      <th>2017-01-02</th>\n",
              "      <td>18.500000</td>\n",
              "      <td>77.222222</td>\n",
              "      <td>2.894444</td>\n",
              "      <td>1018.277778</td>\n",
              "    </tr>\n",
              "    <tr>\n",
              "      <th>2017-01-03</th>\n",
              "      <td>17.111111</td>\n",
              "      <td>81.888889</td>\n",
              "      <td>4.016667</td>\n",
              "      <td>1018.333333</td>\n",
              "    </tr>\n",
              "    <tr>\n",
              "      <th>2017-01-04</th>\n",
              "      <td>18.700000</td>\n",
              "      <td>70.050000</td>\n",
              "      <td>4.545000</td>\n",
              "      <td>1015.700000</td>\n",
              "    </tr>\n",
              "    <tr>\n",
              "      <th>2017-01-05</th>\n",
              "      <td>18.388889</td>\n",
              "      <td>74.944444</td>\n",
              "      <td>3.300000</td>\n",
              "      <td>1014.333333</td>\n",
              "    </tr>\n",
              "    <tr>\n",
              "      <th>...</th>\n",
              "      <td>...</td>\n",
              "      <td>...</td>\n",
              "      <td>...</td>\n",
              "      <td>...</td>\n",
              "    </tr>\n",
              "    <tr>\n",
              "      <th>2017-04-20</th>\n",
              "      <td>34.500000</td>\n",
              "      <td>27.500000</td>\n",
              "      <td>5.562500</td>\n",
              "      <td>998.625000</td>\n",
              "    </tr>\n",
              "    <tr>\n",
              "      <th>2017-04-21</th>\n",
              "      <td>34.250000</td>\n",
              "      <td>39.375000</td>\n",
              "      <td>6.962500</td>\n",
              "      <td>999.875000</td>\n",
              "    </tr>\n",
              "    <tr>\n",
              "      <th>2017-04-22</th>\n",
              "      <td>32.900000</td>\n",
              "      <td>40.900000</td>\n",
              "      <td>8.890000</td>\n",
              "      <td>1001.600000</td>\n",
              "    </tr>\n",
              "    <tr>\n",
              "      <th>2017-04-23</th>\n",
              "      <td>32.875000</td>\n",
              "      <td>27.500000</td>\n",
              "      <td>9.962500</td>\n",
              "      <td>1002.125000</td>\n",
              "    </tr>\n",
              "    <tr>\n",
              "      <th>2017-04-24</th>\n",
              "      <td>32.000000</td>\n",
              "      <td>27.142857</td>\n",
              "      <td>12.157143</td>\n",
              "      <td>1004.142857</td>\n",
              "    </tr>\n",
              "  </tbody>\n",
              "</table>\n",
              "<p>114 rows × 4 columns</p>\n",
              "</div>"
            ],
            "text/plain": [
              "             meantemp   humidity  wind_speed  meanpressure\n",
              "date                                                      \n",
              "2017-01-01  15.913043  85.869565    2.743478     59.000000\n",
              "2017-01-02  18.500000  77.222222    2.894444   1018.277778\n",
              "2017-01-03  17.111111  81.888889    4.016667   1018.333333\n",
              "2017-01-04  18.700000  70.050000    4.545000   1015.700000\n",
              "2017-01-05  18.388889  74.944444    3.300000   1014.333333\n",
              "...               ...        ...         ...           ...\n",
              "2017-04-20  34.500000  27.500000    5.562500    998.625000\n",
              "2017-04-21  34.250000  39.375000    6.962500    999.875000\n",
              "2017-04-22  32.900000  40.900000    8.890000   1001.600000\n",
              "2017-04-23  32.875000  27.500000    9.962500   1002.125000\n",
              "2017-04-24  32.000000  27.142857   12.157143   1004.142857\n",
              "\n",
              "[114 rows x 4 columns]"
            ]
          },
          "metadata": {
            "tags": []
          },
          "execution_count": 9
        }
      ]
    },
    {
      "cell_type": "code",
      "metadata": {
        "id": "y7XDocf6yjyB"
      },
      "source": [
        "def extract_year(value):\n",
        "  value=value.strftime('%Y-%m-%d')\n",
        "  return (value[0:4])"
      ],
      "execution_count": 10,
      "outputs": []
    },
    {
      "cell_type": "code",
      "metadata": {
        "id": "49JYXvpoyusp"
      },
      "source": [
        "def extract_month(value):\n",
        "    value=value.strftime('%Y-%m-%d')\n",
        "    return (value[4:6])"
      ],
      "execution_count": 11,
      "outputs": []
    },
    {
      "cell_type": "code",
      "metadata": {
        "id": "Zi1uwYqwywgc"
      },
      "source": [
        "def extract_date(value):\n",
        "    value=value.strftime('%Y-%m-%d')\n",
        "    return (value[6:8])"
      ],
      "execution_count": 12,
      "outputs": []
    },
    {
      "cell_type": "code",
      "metadata": {
        "id": "PZ5JUecwyyYQ"
      },
      "source": [
        "test.reset_index(inplace=True)"
      ],
      "execution_count": 13,
      "outputs": []
    },
    {
      "cell_type": "code",
      "metadata": {
        "id": "WIwkaBDMy1y3"
      },
      "source": [
        "test['day'] = test['date'].dt.day\n",
        "test['month'] = test['date'].dt.month\n",
        "test['year'] = test['date'].dt.year"
      ],
      "execution_count": 14,
      "outputs": []
    },
    {
      "cell_type": "code",
      "metadata": {
        "id": "wld1lQ4ezAGc",
        "outputId": "b2d68114-fe63-464d-c6df-987c9ad2eb01",
        "colab": {
          "base_uri": "https://localhost:8080/",
          "height": 402
        }
      },
      "source": [
        "test"
      ],
      "execution_count": 15,
      "outputs": [
        {
          "output_type": "execute_result",
          "data": {
            "text/html": [
              "<div>\n",
              "<style scoped>\n",
              "    .dataframe tbody tr th:only-of-type {\n",
              "        vertical-align: middle;\n",
              "    }\n",
              "\n",
              "    .dataframe tbody tr th {\n",
              "        vertical-align: top;\n",
              "    }\n",
              "\n",
              "    .dataframe thead th {\n",
              "        text-align: right;\n",
              "    }\n",
              "</style>\n",
              "<table border=\"1\" class=\"dataframe\">\n",
              "  <thead>\n",
              "    <tr style=\"text-align: right;\">\n",
              "      <th></th>\n",
              "      <th>date</th>\n",
              "      <th>meantemp</th>\n",
              "      <th>humidity</th>\n",
              "      <th>wind_speed</th>\n",
              "      <th>meanpressure</th>\n",
              "      <th>day</th>\n",
              "      <th>month</th>\n",
              "      <th>year</th>\n",
              "    </tr>\n",
              "  </thead>\n",
              "  <tbody>\n",
              "    <tr>\n",
              "      <th>0</th>\n",
              "      <td>2017-01-01</td>\n",
              "      <td>15.913043</td>\n",
              "      <td>85.869565</td>\n",
              "      <td>2.743478</td>\n",
              "      <td>59.000000</td>\n",
              "      <td>1</td>\n",
              "      <td>1</td>\n",
              "      <td>2017</td>\n",
              "    </tr>\n",
              "    <tr>\n",
              "      <th>1</th>\n",
              "      <td>2017-01-02</td>\n",
              "      <td>18.500000</td>\n",
              "      <td>77.222222</td>\n",
              "      <td>2.894444</td>\n",
              "      <td>1018.277778</td>\n",
              "      <td>2</td>\n",
              "      <td>1</td>\n",
              "      <td>2017</td>\n",
              "    </tr>\n",
              "    <tr>\n",
              "      <th>2</th>\n",
              "      <td>2017-01-03</td>\n",
              "      <td>17.111111</td>\n",
              "      <td>81.888889</td>\n",
              "      <td>4.016667</td>\n",
              "      <td>1018.333333</td>\n",
              "      <td>3</td>\n",
              "      <td>1</td>\n",
              "      <td>2017</td>\n",
              "    </tr>\n",
              "    <tr>\n",
              "      <th>3</th>\n",
              "      <td>2017-01-04</td>\n",
              "      <td>18.700000</td>\n",
              "      <td>70.050000</td>\n",
              "      <td>4.545000</td>\n",
              "      <td>1015.700000</td>\n",
              "      <td>4</td>\n",
              "      <td>1</td>\n",
              "      <td>2017</td>\n",
              "    </tr>\n",
              "    <tr>\n",
              "      <th>4</th>\n",
              "      <td>2017-01-05</td>\n",
              "      <td>18.388889</td>\n",
              "      <td>74.944444</td>\n",
              "      <td>3.300000</td>\n",
              "      <td>1014.333333</td>\n",
              "      <td>5</td>\n",
              "      <td>1</td>\n",
              "      <td>2017</td>\n",
              "    </tr>\n",
              "    <tr>\n",
              "      <th>...</th>\n",
              "      <td>...</td>\n",
              "      <td>...</td>\n",
              "      <td>...</td>\n",
              "      <td>...</td>\n",
              "      <td>...</td>\n",
              "      <td>...</td>\n",
              "      <td>...</td>\n",
              "      <td>...</td>\n",
              "    </tr>\n",
              "    <tr>\n",
              "      <th>109</th>\n",
              "      <td>2017-04-20</td>\n",
              "      <td>34.500000</td>\n",
              "      <td>27.500000</td>\n",
              "      <td>5.562500</td>\n",
              "      <td>998.625000</td>\n",
              "      <td>20</td>\n",
              "      <td>4</td>\n",
              "      <td>2017</td>\n",
              "    </tr>\n",
              "    <tr>\n",
              "      <th>110</th>\n",
              "      <td>2017-04-21</td>\n",
              "      <td>34.250000</td>\n",
              "      <td>39.375000</td>\n",
              "      <td>6.962500</td>\n",
              "      <td>999.875000</td>\n",
              "      <td>21</td>\n",
              "      <td>4</td>\n",
              "      <td>2017</td>\n",
              "    </tr>\n",
              "    <tr>\n",
              "      <th>111</th>\n",
              "      <td>2017-04-22</td>\n",
              "      <td>32.900000</td>\n",
              "      <td>40.900000</td>\n",
              "      <td>8.890000</td>\n",
              "      <td>1001.600000</td>\n",
              "      <td>22</td>\n",
              "      <td>4</td>\n",
              "      <td>2017</td>\n",
              "    </tr>\n",
              "    <tr>\n",
              "      <th>112</th>\n",
              "      <td>2017-04-23</td>\n",
              "      <td>32.875000</td>\n",
              "      <td>27.500000</td>\n",
              "      <td>9.962500</td>\n",
              "      <td>1002.125000</td>\n",
              "      <td>23</td>\n",
              "      <td>4</td>\n",
              "      <td>2017</td>\n",
              "    </tr>\n",
              "    <tr>\n",
              "      <th>113</th>\n",
              "      <td>2017-04-24</td>\n",
              "      <td>32.000000</td>\n",
              "      <td>27.142857</td>\n",
              "      <td>12.157143</td>\n",
              "      <td>1004.142857</td>\n",
              "      <td>24</td>\n",
              "      <td>4</td>\n",
              "      <td>2017</td>\n",
              "    </tr>\n",
              "  </tbody>\n",
              "</table>\n",
              "<p>114 rows × 8 columns</p>\n",
              "</div>"
            ],
            "text/plain": [
              "          date   meantemp   humidity  ...  day  month  year\n",
              "0   2017-01-01  15.913043  85.869565  ...    1      1  2017\n",
              "1   2017-01-02  18.500000  77.222222  ...    2      1  2017\n",
              "2   2017-01-03  17.111111  81.888889  ...    3      1  2017\n",
              "3   2017-01-04  18.700000  70.050000  ...    4      1  2017\n",
              "4   2017-01-05  18.388889  74.944444  ...    5      1  2017\n",
              "..         ...        ...        ...  ...  ...    ...   ...\n",
              "109 2017-04-20  34.500000  27.500000  ...   20      4  2017\n",
              "110 2017-04-21  34.250000  39.375000  ...   21      4  2017\n",
              "111 2017-04-22  32.900000  40.900000  ...   22      4  2017\n",
              "112 2017-04-23  32.875000  27.500000  ...   23      4  2017\n",
              "113 2017-04-24  32.000000  27.142857  ...   24      4  2017\n",
              "\n",
              "[114 rows x 8 columns]"
            ]
          },
          "metadata": {
            "tags": []
          },
          "execution_count": 15
        }
      ]
    },
    {
      "cell_type": "code",
      "metadata": {
        "id": "9SB8MxlXzB2z",
        "outputId": "cdec7f3e-e8fd-472a-d7dc-11fb1e1c624e",
        "colab": {
          "base_uri": "https://localhost:8080/"
        }
      },
      "source": [
        "test.isnull().sum()"
      ],
      "execution_count": 16,
      "outputs": [
        {
          "output_type": "execute_result",
          "data": {
            "text/plain": [
              "date            0\n",
              "meantemp        0\n",
              "humidity        0\n",
              "wind_speed      0\n",
              "meanpressure    0\n",
              "day             0\n",
              "month           0\n",
              "year            0\n",
              "dtype: int64"
            ]
          },
          "metadata": {
            "tags": []
          },
          "execution_count": 16
        }
      ]
    },
    {
      "cell_type": "code",
      "metadata": {
        "id": "sKfd4rqAzHyJ",
        "outputId": "0f8ea6b7-9438-4b3c-b872-02a3ec3e4d2b",
        "colab": {
          "base_uri": "https://localhost:8080/",
          "height": 402
        }
      },
      "source": [
        "test=test.drop([\"date\"],axis=1)\n",
        "test"
      ],
      "execution_count": 17,
      "outputs": [
        {
          "output_type": "execute_result",
          "data": {
            "text/html": [
              "<div>\n",
              "<style scoped>\n",
              "    .dataframe tbody tr th:only-of-type {\n",
              "        vertical-align: middle;\n",
              "    }\n",
              "\n",
              "    .dataframe tbody tr th {\n",
              "        vertical-align: top;\n",
              "    }\n",
              "\n",
              "    .dataframe thead th {\n",
              "        text-align: right;\n",
              "    }\n",
              "</style>\n",
              "<table border=\"1\" class=\"dataframe\">\n",
              "  <thead>\n",
              "    <tr style=\"text-align: right;\">\n",
              "      <th></th>\n",
              "      <th>meantemp</th>\n",
              "      <th>humidity</th>\n",
              "      <th>wind_speed</th>\n",
              "      <th>meanpressure</th>\n",
              "      <th>day</th>\n",
              "      <th>month</th>\n",
              "      <th>year</th>\n",
              "    </tr>\n",
              "  </thead>\n",
              "  <tbody>\n",
              "    <tr>\n",
              "      <th>0</th>\n",
              "      <td>15.913043</td>\n",
              "      <td>85.869565</td>\n",
              "      <td>2.743478</td>\n",
              "      <td>59.000000</td>\n",
              "      <td>1</td>\n",
              "      <td>1</td>\n",
              "      <td>2017</td>\n",
              "    </tr>\n",
              "    <tr>\n",
              "      <th>1</th>\n",
              "      <td>18.500000</td>\n",
              "      <td>77.222222</td>\n",
              "      <td>2.894444</td>\n",
              "      <td>1018.277778</td>\n",
              "      <td>2</td>\n",
              "      <td>1</td>\n",
              "      <td>2017</td>\n",
              "    </tr>\n",
              "    <tr>\n",
              "      <th>2</th>\n",
              "      <td>17.111111</td>\n",
              "      <td>81.888889</td>\n",
              "      <td>4.016667</td>\n",
              "      <td>1018.333333</td>\n",
              "      <td>3</td>\n",
              "      <td>1</td>\n",
              "      <td>2017</td>\n",
              "    </tr>\n",
              "    <tr>\n",
              "      <th>3</th>\n",
              "      <td>18.700000</td>\n",
              "      <td>70.050000</td>\n",
              "      <td>4.545000</td>\n",
              "      <td>1015.700000</td>\n",
              "      <td>4</td>\n",
              "      <td>1</td>\n",
              "      <td>2017</td>\n",
              "    </tr>\n",
              "    <tr>\n",
              "      <th>4</th>\n",
              "      <td>18.388889</td>\n",
              "      <td>74.944444</td>\n",
              "      <td>3.300000</td>\n",
              "      <td>1014.333333</td>\n",
              "      <td>5</td>\n",
              "      <td>1</td>\n",
              "      <td>2017</td>\n",
              "    </tr>\n",
              "    <tr>\n",
              "      <th>...</th>\n",
              "      <td>...</td>\n",
              "      <td>...</td>\n",
              "      <td>...</td>\n",
              "      <td>...</td>\n",
              "      <td>...</td>\n",
              "      <td>...</td>\n",
              "      <td>...</td>\n",
              "    </tr>\n",
              "    <tr>\n",
              "      <th>109</th>\n",
              "      <td>34.500000</td>\n",
              "      <td>27.500000</td>\n",
              "      <td>5.562500</td>\n",
              "      <td>998.625000</td>\n",
              "      <td>20</td>\n",
              "      <td>4</td>\n",
              "      <td>2017</td>\n",
              "    </tr>\n",
              "    <tr>\n",
              "      <th>110</th>\n",
              "      <td>34.250000</td>\n",
              "      <td>39.375000</td>\n",
              "      <td>6.962500</td>\n",
              "      <td>999.875000</td>\n",
              "      <td>21</td>\n",
              "      <td>4</td>\n",
              "      <td>2017</td>\n",
              "    </tr>\n",
              "    <tr>\n",
              "      <th>111</th>\n",
              "      <td>32.900000</td>\n",
              "      <td>40.900000</td>\n",
              "      <td>8.890000</td>\n",
              "      <td>1001.600000</td>\n",
              "      <td>22</td>\n",
              "      <td>4</td>\n",
              "      <td>2017</td>\n",
              "    </tr>\n",
              "    <tr>\n",
              "      <th>112</th>\n",
              "      <td>32.875000</td>\n",
              "      <td>27.500000</td>\n",
              "      <td>9.962500</td>\n",
              "      <td>1002.125000</td>\n",
              "      <td>23</td>\n",
              "      <td>4</td>\n",
              "      <td>2017</td>\n",
              "    </tr>\n",
              "    <tr>\n",
              "      <th>113</th>\n",
              "      <td>32.000000</td>\n",
              "      <td>27.142857</td>\n",
              "      <td>12.157143</td>\n",
              "      <td>1004.142857</td>\n",
              "      <td>24</td>\n",
              "      <td>4</td>\n",
              "      <td>2017</td>\n",
              "    </tr>\n",
              "  </tbody>\n",
              "</table>\n",
              "<p>114 rows × 7 columns</p>\n",
              "</div>"
            ],
            "text/plain": [
              "      meantemp   humidity  wind_speed  meanpressure  day  month  year\n",
              "0    15.913043  85.869565    2.743478     59.000000    1      1  2017\n",
              "1    18.500000  77.222222    2.894444   1018.277778    2      1  2017\n",
              "2    17.111111  81.888889    4.016667   1018.333333    3      1  2017\n",
              "3    18.700000  70.050000    4.545000   1015.700000    4      1  2017\n",
              "4    18.388889  74.944444    3.300000   1014.333333    5      1  2017\n",
              "..         ...        ...         ...           ...  ...    ...   ...\n",
              "109  34.500000  27.500000    5.562500    998.625000   20      4  2017\n",
              "110  34.250000  39.375000    6.962500    999.875000   21      4  2017\n",
              "111  32.900000  40.900000    8.890000   1001.600000   22      4  2017\n",
              "112  32.875000  27.500000    9.962500   1002.125000   23      4  2017\n",
              "113  32.000000  27.142857   12.157143   1004.142857   24      4  2017\n",
              "\n",
              "[114 rows x 7 columns]"
            ]
          },
          "metadata": {
            "tags": []
          },
          "execution_count": 17
        }
      ]
    },
    {
      "cell_type": "code",
      "metadata": {
        "id": "06aRLPLDzP_6",
        "outputId": "1a94ad21-6506-4ac3-aeb4-9ef3ad8f6494",
        "colab": {
          "base_uri": "https://localhost:8080/"
        }
      },
      "source": [
        "X_part=test.drop([\"meantemp\"],axis=1)\n",
        "Y_part=test[\"meantemp\"]\n",
        "X_part=np.array(X_part)\n",
        "Y_part=np.array(Y_part).reshape(-1,1)\n",
        "print(X_part.shape)\n",
        "print(Y_part.shape)"
      ],
      "execution_count": 21,
      "outputs": [
        {
          "output_type": "stream",
          "text": [
            "(114, 6)\n",
            "(114, 1)\n"
          ],
          "name": "stdout"
        }
      ]
    },
    {
      "cell_type": "code",
      "metadata": {
        "id": "WQoGBcswzYJj"
      },
      "source": [
        "from sklearn.preprocessing import LabelEncoder, MinMaxScaler"
      ],
      "execution_count": 22,
      "outputs": []
    },
    {
      "cell_type": "code",
      "metadata": {
        "id": "K7Jxtbxlzz5W"
      },
      "source": [
        "scaler2=MinMaxScaler(feature_range=[-1,1])\n",
        "X_part_scaled=scaler2.fit_transform(X_part)\n",
        "Y_part_scaled=scaler2.fit_transform(Y_part)"
      ],
      "execution_count": 23,
      "outputs": []
    },
    {
      "cell_type": "code",
      "metadata": {
        "id": "L4UJLMQ8zjpz",
        "outputId": "afccecd8-17ae-408f-b327-a5c6c9e262a7",
        "colab": {
          "base_uri": "https://localhost:8080/"
        }
      },
      "source": [
        "step=30\n",
        "input=[]\n",
        "output=[]\n",
        "for i in range(len(X_part_scaled)-(step)):\n",
        "    input.append(X_part_scaled[i:i+step])\n",
        "    output.append(Y_part_scaled[i+step])\n",
        " \n",
        "input=np.array(input)\n",
        "output=np.array(output)\n",
        "\n",
        "print(input.shape)\n",
        "print(output.shape)"
      ],
      "execution_count": 24,
      "outputs": [
        {
          "output_type": "stream",
          "text": [
            "(84, 30, 6)\n",
            "(84, 1)\n"
          ],
          "name": "stdout"
        }
      ]
    },
    {
      "cell_type": "code",
      "metadata": {
        "id": "idWYu_BSz3QT"
      },
      "source": [
        "temp_rs=model1.predict(input)"
      ],
      "execution_count": 26,
      "outputs": []
    },
    {
      "cell_type": "code",
      "metadata": {
        "id": "NKxu7ytfz-Rl",
        "outputId": "aa1e585a-1657-4e6c-97e5-f7dbcf91eea7",
        "colab": {
          "base_uri": "https://localhost:8080/"
        }
      },
      "source": [
        "temp_rs=scaler2.inverse_transform(temp_rs)\n",
        "temp_rs"
      ],
      "execution_count": 27,
      "outputs": [
        {
          "output_type": "execute_result",
          "data": {
            "text/plain": [
              "array([[16.512691 ],\n",
              "       [16.549427 ],\n",
              "       [16.545803 ],\n",
              "       [16.575584 ],\n",
              "       [16.714024 ],\n",
              "       [16.858877 ],\n",
              "       [16.916094 ],\n",
              "       [17.142681 ],\n",
              "       [17.075281 ],\n",
              "       [16.837828 ],\n",
              "       [16.556456 ],\n",
              "       [16.037151 ],\n",
              "       [16.260983 ],\n",
              "       [16.793394 ],\n",
              "       [17.02741  ],\n",
              "       [17.111034 ],\n",
              "       [16.981272 ],\n",
              "       [17.058653 ],\n",
              "       [17.088787 ],\n",
              "       [16.904184 ],\n",
              "       [17.335041 ],\n",
              "       [17.39362  ],\n",
              "       [17.827074 ],\n",
              "       [19.062263 ],\n",
              "       [19.746614 ],\n",
              "       [22.081226 ],\n",
              "       [22.76606  ],\n",
              "       [20.39386  ],\n",
              "       [19.368706 ],\n",
              "       [19.288052 ],\n",
              "       [19.4327   ],\n",
              "       [20.203108 ],\n",
              "       [21.066652 ],\n",
              "       [19.786596 ],\n",
              "       [18.823956 ],\n",
              "       [18.038515 ],\n",
              "       [17.469175 ],\n",
              "       [17.22212  ],\n",
              "       [16.760431 ],\n",
              "       [16.694601 ],\n",
              "       [16.90696  ],\n",
              "       [17.190422 ],\n",
              "       [17.1326   ],\n",
              "       [17.080675 ],\n",
              "       [16.659506 ],\n",
              "       [16.575766 ],\n",
              "       [16.63496  ],\n",
              "       [16.723404 ],\n",
              "       [16.844618 ],\n",
              "       [16.743408 ],\n",
              "       [16.724241 ],\n",
              "       [17.297443 ],\n",
              "       [17.780859 ],\n",
              "       [18.017912 ],\n",
              "       [18.617828 ],\n",
              "       [18.791784 ],\n",
              "       [18.496483 ],\n",
              "       [17.89172  ],\n",
              "       [17.543442 ],\n",
              "       [17.465998 ],\n",
              "       [17.357527 ],\n",
              "       [17.404137 ],\n",
              "       [17.434732 ],\n",
              "       [16.991829 ],\n",
              "       [16.8219   ],\n",
              "       [16.585373 ],\n",
              "       [15.914112 ],\n",
              "       [15.608966 ],\n",
              "       [14.862042 ],\n",
              "       [14.469096 ],\n",
              "       [14.662514 ],\n",
              "       [14.654713 ],\n",
              "       [14.623782 ],\n",
              "       [14.145504 ],\n",
              "       [13.965788 ],\n",
              "       [13.956753 ],\n",
              "       [14.32585  ],\n",
              "       [14.365155 ],\n",
              "       [14.32632  ],\n",
              "       [14.3562355],\n",
              "       [14.452766 ],\n",
              "       [14.4981985],\n",
              "       [14.776724 ],\n",
              "       [14.54574  ]], dtype=float32)"
            ]
          },
          "metadata": {
            "tags": []
          },
          "execution_count": 27
        }
      ]
    },
    {
      "cell_type": "code",
      "metadata": {
        "id": "8yGXIrTg0E-y",
        "outputId": "f6490e13-c04d-4eb0-8a78-c00fa88e1817",
        "colab": {
          "base_uri": "https://localhost:8080/",
          "height": 402
        }
      },
      "source": [
        "test=pd.read_csv(\"DailyDelhiClimateTest.csv\")\n",
        "test"
      ],
      "execution_count": 28,
      "outputs": [
        {
          "output_type": "execute_result",
          "data": {
            "text/html": [
              "<div>\n",
              "<style scoped>\n",
              "    .dataframe tbody tr th:only-of-type {\n",
              "        vertical-align: middle;\n",
              "    }\n",
              "\n",
              "    .dataframe tbody tr th {\n",
              "        vertical-align: top;\n",
              "    }\n",
              "\n",
              "    .dataframe thead th {\n",
              "        text-align: right;\n",
              "    }\n",
              "</style>\n",
              "<table border=\"1\" class=\"dataframe\">\n",
              "  <thead>\n",
              "    <tr style=\"text-align: right;\">\n",
              "      <th></th>\n",
              "      <th>date</th>\n",
              "      <th>meantemp</th>\n",
              "      <th>humidity</th>\n",
              "      <th>wind_speed</th>\n",
              "      <th>meanpressure</th>\n",
              "    </tr>\n",
              "  </thead>\n",
              "  <tbody>\n",
              "    <tr>\n",
              "      <th>0</th>\n",
              "      <td>2017-01-01</td>\n",
              "      <td>15.913043</td>\n",
              "      <td>85.869565</td>\n",
              "      <td>2.743478</td>\n",
              "      <td>59.000000</td>\n",
              "    </tr>\n",
              "    <tr>\n",
              "      <th>1</th>\n",
              "      <td>2017-01-02</td>\n",
              "      <td>18.500000</td>\n",
              "      <td>77.222222</td>\n",
              "      <td>2.894444</td>\n",
              "      <td>1018.277778</td>\n",
              "    </tr>\n",
              "    <tr>\n",
              "      <th>2</th>\n",
              "      <td>2017-01-03</td>\n",
              "      <td>17.111111</td>\n",
              "      <td>81.888889</td>\n",
              "      <td>4.016667</td>\n",
              "      <td>1018.333333</td>\n",
              "    </tr>\n",
              "    <tr>\n",
              "      <th>3</th>\n",
              "      <td>2017-01-04</td>\n",
              "      <td>18.700000</td>\n",
              "      <td>70.050000</td>\n",
              "      <td>4.545000</td>\n",
              "      <td>1015.700000</td>\n",
              "    </tr>\n",
              "    <tr>\n",
              "      <th>4</th>\n",
              "      <td>2017-01-05</td>\n",
              "      <td>18.388889</td>\n",
              "      <td>74.944444</td>\n",
              "      <td>3.300000</td>\n",
              "      <td>1014.333333</td>\n",
              "    </tr>\n",
              "    <tr>\n",
              "      <th>...</th>\n",
              "      <td>...</td>\n",
              "      <td>...</td>\n",
              "      <td>...</td>\n",
              "      <td>...</td>\n",
              "      <td>...</td>\n",
              "    </tr>\n",
              "    <tr>\n",
              "      <th>109</th>\n",
              "      <td>2017-04-20</td>\n",
              "      <td>34.500000</td>\n",
              "      <td>27.500000</td>\n",
              "      <td>5.562500</td>\n",
              "      <td>998.625000</td>\n",
              "    </tr>\n",
              "    <tr>\n",
              "      <th>110</th>\n",
              "      <td>2017-04-21</td>\n",
              "      <td>34.250000</td>\n",
              "      <td>39.375000</td>\n",
              "      <td>6.962500</td>\n",
              "      <td>999.875000</td>\n",
              "    </tr>\n",
              "    <tr>\n",
              "      <th>111</th>\n",
              "      <td>2017-04-22</td>\n",
              "      <td>32.900000</td>\n",
              "      <td>40.900000</td>\n",
              "      <td>8.890000</td>\n",
              "      <td>1001.600000</td>\n",
              "    </tr>\n",
              "    <tr>\n",
              "      <th>112</th>\n",
              "      <td>2017-04-23</td>\n",
              "      <td>32.875000</td>\n",
              "      <td>27.500000</td>\n",
              "      <td>9.962500</td>\n",
              "      <td>1002.125000</td>\n",
              "    </tr>\n",
              "    <tr>\n",
              "      <th>113</th>\n",
              "      <td>2017-04-24</td>\n",
              "      <td>32.000000</td>\n",
              "      <td>27.142857</td>\n",
              "      <td>12.157143</td>\n",
              "      <td>1004.142857</td>\n",
              "    </tr>\n",
              "  </tbody>\n",
              "</table>\n",
              "<p>114 rows × 5 columns</p>\n",
              "</div>"
            ],
            "text/plain": [
              "           date   meantemp   humidity  wind_speed  meanpressure\n",
              "0    2017-01-01  15.913043  85.869565    2.743478     59.000000\n",
              "1    2017-01-02  18.500000  77.222222    2.894444   1018.277778\n",
              "2    2017-01-03  17.111111  81.888889    4.016667   1018.333333\n",
              "3    2017-01-04  18.700000  70.050000    4.545000   1015.700000\n",
              "4    2017-01-05  18.388889  74.944444    3.300000   1014.333333\n",
              "..          ...        ...        ...         ...           ...\n",
              "109  2017-04-20  34.500000  27.500000    5.562500    998.625000\n",
              "110  2017-04-21  34.250000  39.375000    6.962500    999.875000\n",
              "111  2017-04-22  32.900000  40.900000    8.890000   1001.600000\n",
              "112  2017-04-23  32.875000  27.500000    9.962500   1002.125000\n",
              "113  2017-04-24  32.000000  27.142857   12.157143   1004.142857\n",
              "\n",
              "[114 rows x 5 columns]"
            ]
          },
          "metadata": {
            "tags": []
          },
          "execution_count": 28
        }
      ]
    },
    {
      "cell_type": "code",
      "metadata": {
        "id": "pjo6o8Ln0Xy2",
        "outputId": "cdf46fe6-dfe0-4f14-f68a-4ac5bc31f1d4",
        "colab": {
          "base_uri": "https://localhost:8080/",
          "height": 431
        }
      },
      "source": [
        "timeseries_test=test.copy()\n",
        "timeseries_test[\"date\"].dtype\n",
        "timeseries_test[\"date\"]=pd.to_datetime(timeseries_test[\"date\"])\n",
        "timeseries_test.set_index(\"date\",inplace=True)\n",
        "timeseries_test"
      ],
      "execution_count": 29,
      "outputs": [
        {
          "output_type": "execute_result",
          "data": {
            "text/html": [
              "<div>\n",
              "<style scoped>\n",
              "    .dataframe tbody tr th:only-of-type {\n",
              "        vertical-align: middle;\n",
              "    }\n",
              "\n",
              "    .dataframe tbody tr th {\n",
              "        vertical-align: top;\n",
              "    }\n",
              "\n",
              "    .dataframe thead th {\n",
              "        text-align: right;\n",
              "    }\n",
              "</style>\n",
              "<table border=\"1\" class=\"dataframe\">\n",
              "  <thead>\n",
              "    <tr style=\"text-align: right;\">\n",
              "      <th></th>\n",
              "      <th>meantemp</th>\n",
              "      <th>humidity</th>\n",
              "      <th>wind_speed</th>\n",
              "      <th>meanpressure</th>\n",
              "    </tr>\n",
              "    <tr>\n",
              "      <th>date</th>\n",
              "      <th></th>\n",
              "      <th></th>\n",
              "      <th></th>\n",
              "      <th></th>\n",
              "    </tr>\n",
              "  </thead>\n",
              "  <tbody>\n",
              "    <tr>\n",
              "      <th>2017-01-01</th>\n",
              "      <td>15.913043</td>\n",
              "      <td>85.869565</td>\n",
              "      <td>2.743478</td>\n",
              "      <td>59.000000</td>\n",
              "    </tr>\n",
              "    <tr>\n",
              "      <th>2017-01-02</th>\n",
              "      <td>18.500000</td>\n",
              "      <td>77.222222</td>\n",
              "      <td>2.894444</td>\n",
              "      <td>1018.277778</td>\n",
              "    </tr>\n",
              "    <tr>\n",
              "      <th>2017-01-03</th>\n",
              "      <td>17.111111</td>\n",
              "      <td>81.888889</td>\n",
              "      <td>4.016667</td>\n",
              "      <td>1018.333333</td>\n",
              "    </tr>\n",
              "    <tr>\n",
              "      <th>2017-01-04</th>\n",
              "      <td>18.700000</td>\n",
              "      <td>70.050000</td>\n",
              "      <td>4.545000</td>\n",
              "      <td>1015.700000</td>\n",
              "    </tr>\n",
              "    <tr>\n",
              "      <th>2017-01-05</th>\n",
              "      <td>18.388889</td>\n",
              "      <td>74.944444</td>\n",
              "      <td>3.300000</td>\n",
              "      <td>1014.333333</td>\n",
              "    </tr>\n",
              "    <tr>\n",
              "      <th>...</th>\n",
              "      <td>...</td>\n",
              "      <td>...</td>\n",
              "      <td>...</td>\n",
              "      <td>...</td>\n",
              "    </tr>\n",
              "    <tr>\n",
              "      <th>2017-04-20</th>\n",
              "      <td>34.500000</td>\n",
              "      <td>27.500000</td>\n",
              "      <td>5.562500</td>\n",
              "      <td>998.625000</td>\n",
              "    </tr>\n",
              "    <tr>\n",
              "      <th>2017-04-21</th>\n",
              "      <td>34.250000</td>\n",
              "      <td>39.375000</td>\n",
              "      <td>6.962500</td>\n",
              "      <td>999.875000</td>\n",
              "    </tr>\n",
              "    <tr>\n",
              "      <th>2017-04-22</th>\n",
              "      <td>32.900000</td>\n",
              "      <td>40.900000</td>\n",
              "      <td>8.890000</td>\n",
              "      <td>1001.600000</td>\n",
              "    </tr>\n",
              "    <tr>\n",
              "      <th>2017-04-23</th>\n",
              "      <td>32.875000</td>\n",
              "      <td>27.500000</td>\n",
              "      <td>9.962500</td>\n",
              "      <td>1002.125000</td>\n",
              "    </tr>\n",
              "    <tr>\n",
              "      <th>2017-04-24</th>\n",
              "      <td>32.000000</td>\n",
              "      <td>27.142857</td>\n",
              "      <td>12.157143</td>\n",
              "      <td>1004.142857</td>\n",
              "    </tr>\n",
              "  </tbody>\n",
              "</table>\n",
              "<p>114 rows × 4 columns</p>\n",
              "</div>"
            ],
            "text/plain": [
              "             meantemp   humidity  wind_speed  meanpressure\n",
              "date                                                      \n",
              "2017-01-01  15.913043  85.869565    2.743478     59.000000\n",
              "2017-01-02  18.500000  77.222222    2.894444   1018.277778\n",
              "2017-01-03  17.111111  81.888889    4.016667   1018.333333\n",
              "2017-01-04  18.700000  70.050000    4.545000   1015.700000\n",
              "2017-01-05  18.388889  74.944444    3.300000   1014.333333\n",
              "...               ...        ...         ...           ...\n",
              "2017-04-20  34.500000  27.500000    5.562500    998.625000\n",
              "2017-04-21  34.250000  39.375000    6.962500    999.875000\n",
              "2017-04-22  32.900000  40.900000    8.890000   1001.600000\n",
              "2017-04-23  32.875000  27.500000    9.962500   1002.125000\n",
              "2017-04-24  32.000000  27.142857   12.157143   1004.142857\n",
              "\n",
              "[114 rows x 4 columns]"
            ]
          },
          "metadata": {
            "tags": []
          },
          "execution_count": 29
        }
      ]
    },
    {
      "cell_type": "code",
      "metadata": {
        "id": "J790pqZT0gwE",
        "outputId": "976307fa-3159-465c-f045-9a5252180f24",
        "colab": {
          "base_uri": "https://localhost:8080/",
          "height": 402
        }
      },
      "source": [
        "test_data_temp=pd.DataFrame(list(timeseries_test[\"meantemp\"]),columns=[\"temp\"])\n",
        "test_data_temp"
      ],
      "execution_count": 30,
      "outputs": [
        {
          "output_type": "execute_result",
          "data": {
            "text/html": [
              "<div>\n",
              "<style scoped>\n",
              "    .dataframe tbody tr th:only-of-type {\n",
              "        vertical-align: middle;\n",
              "    }\n",
              "\n",
              "    .dataframe tbody tr th {\n",
              "        vertical-align: top;\n",
              "    }\n",
              "\n",
              "    .dataframe thead th {\n",
              "        text-align: right;\n",
              "    }\n",
              "</style>\n",
              "<table border=\"1\" class=\"dataframe\">\n",
              "  <thead>\n",
              "    <tr style=\"text-align: right;\">\n",
              "      <th></th>\n",
              "      <th>temp</th>\n",
              "    </tr>\n",
              "  </thead>\n",
              "  <tbody>\n",
              "    <tr>\n",
              "      <th>0</th>\n",
              "      <td>15.913043</td>\n",
              "    </tr>\n",
              "    <tr>\n",
              "      <th>1</th>\n",
              "      <td>18.500000</td>\n",
              "    </tr>\n",
              "    <tr>\n",
              "      <th>2</th>\n",
              "      <td>17.111111</td>\n",
              "    </tr>\n",
              "    <tr>\n",
              "      <th>3</th>\n",
              "      <td>18.700000</td>\n",
              "    </tr>\n",
              "    <tr>\n",
              "      <th>4</th>\n",
              "      <td>18.388889</td>\n",
              "    </tr>\n",
              "    <tr>\n",
              "      <th>...</th>\n",
              "      <td>...</td>\n",
              "    </tr>\n",
              "    <tr>\n",
              "      <th>109</th>\n",
              "      <td>34.500000</td>\n",
              "    </tr>\n",
              "    <tr>\n",
              "      <th>110</th>\n",
              "      <td>34.250000</td>\n",
              "    </tr>\n",
              "    <tr>\n",
              "      <th>111</th>\n",
              "      <td>32.900000</td>\n",
              "    </tr>\n",
              "    <tr>\n",
              "      <th>112</th>\n",
              "      <td>32.875000</td>\n",
              "    </tr>\n",
              "    <tr>\n",
              "      <th>113</th>\n",
              "      <td>32.000000</td>\n",
              "    </tr>\n",
              "  </tbody>\n",
              "</table>\n",
              "<p>114 rows × 1 columns</p>\n",
              "</div>"
            ],
            "text/plain": [
              "          temp\n",
              "0    15.913043\n",
              "1    18.500000\n",
              "2    17.111111\n",
              "3    18.700000\n",
              "4    18.388889\n",
              "..         ...\n",
              "109  34.500000\n",
              "110  34.250000\n",
              "111  32.900000\n",
              "112  32.875000\n",
              "113  32.000000\n",
              "\n",
              "[114 rows x 1 columns]"
            ]
          },
          "metadata": {
            "tags": []
          },
          "execution_count": 30
        }
      ]
    },
    {
      "cell_type": "code",
      "metadata": {
        "id": "as3l9U_D0jlw"
      },
      "source": [
        "from sklearn.preprocessing import LabelEncoder, MinMaxScaler\n",
        "scaler=MinMaxScaler(feature_range=(-1,1))\n",
        "test_data_temp=scaler.fit_transform(test_data_temp)"
      ],
      "execution_count": 31,
      "outputs": []
    },
    {
      "cell_type": "code",
      "metadata": {
        "id": "gwO-Z8z90mIy",
        "outputId": "c10e8c4b-006a-4738-ec76-fe00d93480a6",
        "colab": {
          "base_uri": "https://localhost:8080/"
        }
      },
      "source": [
        "steps=30\n",
        "X_test=[]\n",
        "Y_test=[]\n",
        "for i in range(len(test_data_temp)-steps):\n",
        "  X_test.append(test_data_temp[i:i+steps])\n",
        "  Y_test.append(test_data_temp[i+steps])\n",
        "X_test=np.array(X_test)\n",
        "Y_test=np.array(Y_test)\n",
        "\n",
        "print(X_test.shape)\n",
        "print(Y_test.shape)"
      ],
      "execution_count": 32,
      "outputs": [
        {
          "output_type": "stream",
          "text": [
            "(84, 30, 1)\n",
            "(84, 1)\n"
          ],
          "name": "stdout"
        }
      ]
    },
    {
      "cell_type": "code",
      "metadata": {
        "id": "nEN5ZB4q0qLc",
        "outputId": "6f4af223-e698-4112-fbb7-ea508f0cee80",
        "colab": {
          "base_uri": "https://localhost:8080/"
        }
      },
      "source": [
        "X_test=np.array(X_test)\n",
        "Y_test=np.array(Y_test)\n",
        "\n",
        "print(X_test.shape)\n",
        "print(Y_test.shape)"
      ],
      "execution_count": 33,
      "outputs": [
        {
          "output_type": "stream",
          "text": [
            "(84, 30, 1)\n",
            "(84, 1)\n"
          ],
          "name": "stdout"
        }
      ]
    },
    {
      "cell_type": "code",
      "metadata": {
        "id": "OY8XGn680s_e"
      },
      "source": [
        "model2=models.load_model(\"Models/model1_ts.h5\")"
      ],
      "execution_count": 34,
      "outputs": []
    },
    {
      "cell_type": "code",
      "metadata": {
        "id": "DNHw0PgX0310",
        "outputId": "fd61eec3-8a78-4806-ee5c-829874d31588",
        "colab": {
          "base_uri": "https://localhost:8080/"
        }
      },
      "source": [
        "temp_ts=model2.predict(X_test)\n",
        "temp_ts=scaler.inverse_transform(temp_ts)\n",
        "temp_ts"
      ],
      "execution_count": 37,
      "outputs": [
        {
          "output_type": "execute_result",
          "data": {
            "text/plain": [
              "array([[16.5468  ],\n",
              "       [17.149555],\n",
              "       [16.645927],\n",
              "       [17.436497],\n",
              "       [15.739906],\n",
              "       [16.204636],\n",
              "       [18.892931],\n",
              "       [16.577702],\n",
              "       [16.964073],\n",
              "       [15.891701],\n",
              "       [16.815353],\n",
              "       [16.3698  ],\n",
              "       [17.825586],\n",
              "       [17.033907],\n",
              "       [17.204517],\n",
              "       [17.824074],\n",
              "       [18.583744],\n",
              "       [18.207615],\n",
              "       [19.04844 ],\n",
              "       [19.917786],\n",
              "       [21.509396],\n",
              "       [21.611456],\n",
              "       [19.762861],\n",
              "       [18.384346],\n",
              "       [17.629728],\n",
              "       [19.527636],\n",
              "       [20.172989],\n",
              "       [19.60433 ],\n",
              "       [20.018713],\n",
              "       [20.525263],\n",
              "       [23.165108],\n",
              "       [23.193037],\n",
              "       [21.479528],\n",
              "       [20.636497],\n",
              "       [20.57512 ],\n",
              "       [21.603283],\n",
              "       [23.749954],\n",
              "       [22.472183],\n",
              "       [22.520998],\n",
              "       [21.12835 ],\n",
              "       [21.207203],\n",
              "       [18.112328],\n",
              "       [18.325731],\n",
              "       [19.821564],\n",
              "       [19.118061],\n",
              "       [19.73368 ],\n",
              "       [18.440342],\n",
              "       [21.828085],\n",
              "       [21.758833],\n",
              "       [22.017479],\n",
              "       [22.46705 ],\n",
              "       [24.7768  ],\n",
              "       [24.45926 ],\n",
              "       [26.611395],\n",
              "       [23.953032],\n",
              "       [26.961561],\n",
              "       [29.06233 ],\n",
              "       [28.691286],\n",
              "       [30.18179 ],\n",
              "       [27.807558],\n",
              "       [29.58415 ],\n",
              "       [30.487953],\n",
              "       [28.58114 ],\n",
              "       [27.056532],\n",
              "       [29.074797],\n",
              "       [26.53866 ],\n",
              "       [26.365839],\n",
              "       [26.428272],\n",
              "       [25.212404],\n",
              "       [28.256578],\n",
              "       [29.89067 ],\n",
              "       [30.287405],\n",
              "       [29.855028],\n",
              "       [31.428846],\n",
              "       [30.875776],\n",
              "       [29.462254],\n",
              "       [30.72907 ],\n",
              "       [32.831524],\n",
              "       [31.891634],\n",
              "       [32.670853],\n",
              "       [31.800283],\n",
              "       [33.056942],\n",
              "       [32.671486],\n",
              "       [31.657839]], dtype=float32)"
            ]
          },
          "metadata": {
            "tags": []
          },
          "execution_count": 37
        }
      ]
    },
    {
      "cell_type": "code",
      "metadata": {
        "id": "V0Ol1xgk079n",
        "outputId": "4e80ca55-bfc1-4115-aea4-321c190a9197",
        "colab": {
          "base_uri": "https://localhost:8080/"
        }
      },
      "source": [
        "temp_f=(temp_ts+temp_rs)/2\n",
        "temp_f"
      ],
      "execution_count": 38,
      "outputs": [
        {
          "output_type": "execute_result",
          "data": {
            "text/plain": [
              "array([[16.529747],\n",
              "       [16.849491],\n",
              "       [16.595865],\n",
              "       [17.00604 ],\n",
              "       [16.226965],\n",
              "       [16.531757],\n",
              "       [17.904512],\n",
              "       [16.860191],\n",
              "       [17.019676],\n",
              "       [16.364765],\n",
              "       [16.685905],\n",
              "       [16.203476],\n",
              "       [17.043285],\n",
              "       [16.91365 ],\n",
              "       [17.115963],\n",
              "       [17.467554],\n",
              "       [17.782509],\n",
              "       [17.633133],\n",
              "       [18.068615],\n",
              "       [18.410984],\n",
              "       [19.422218],\n",
              "       [19.502537],\n",
              "       [18.794968],\n",
              "       [18.723305],\n",
              "       [18.688171],\n",
              "       [20.804432],\n",
              "       [21.469524],\n",
              "       [19.999096],\n",
              "       [19.69371 ],\n",
              "       [19.906658],\n",
              "       [21.298904],\n",
              "       [21.698072],\n",
              "       [21.27309 ],\n",
              "       [20.211548],\n",
              "       [19.69954 ],\n",
              "       [19.8209  ],\n",
              "       [20.609566],\n",
              "       [19.847153],\n",
              "       [19.640715],\n",
              "       [18.911476],\n",
              "       [19.057081],\n",
              "       [17.651375],\n",
              "       [17.729166],\n",
              "       [18.451118],\n",
              "       [17.888783],\n",
              "       [18.154724],\n",
              "       [17.537651],\n",
              "       [19.275745],\n",
              "       [19.301725],\n",
              "       [19.380444],\n",
              "       [19.595646],\n",
              "       [21.03712 ],\n",
              "       [21.12006 ],\n",
              "       [22.314653],\n",
              "       [21.28543 ],\n",
              "       [22.876673],\n",
              "       [23.779408],\n",
              "       [23.291504],\n",
              "       [23.862616],\n",
              "       [22.636778],\n",
              "       [23.470839],\n",
              "       [23.946045],\n",
              "       [23.007936],\n",
              "       [22.024181],\n",
              "       [22.948349],\n",
              "       [21.562016],\n",
              "       [21.139977],\n",
              "       [21.01862 ],\n",
              "       [20.037224],\n",
              "       [21.362837],\n",
              "       [22.276592],\n",
              "       [22.471058],\n",
              "       [22.239405],\n",
              "       [22.787174],\n",
              "       [22.420782],\n",
              "       [21.709503],\n",
              "       [22.52746 ],\n",
              "       [23.59834 ],\n",
              "       [23.108976],\n",
              "       [23.513544],\n",
              "       [23.126526],\n",
              "       [23.77757 ],\n",
              "       [23.724106],\n",
              "       [23.10179 ]], dtype=float32)"
            ]
          },
          "metadata": {
            "tags": []
          },
          "execution_count": 38
        }
      ]
    },
    {
      "cell_type": "code",
      "metadata": {
        "id": "i5yiVrIj1RTO"
      },
      "source": [
        "Y_test_inv=scaler.inverse_transform(Y_test)"
      ],
      "execution_count": 39,
      "outputs": []
    },
    {
      "cell_type": "code",
      "metadata": {
        "id": "tzbbf2-91Vwl",
        "outputId": "e8722cac-ad86-4310-a67e-c7c689456ec6",
        "colab": {
          "base_uri": "https://localhost:8080/",
          "height": 560
        }
      },
      "source": [
        "import matplotlib.pyplot as plt\n",
        "plt.figure(figsize=(20,9))\n",
        "plt.plot(Y_test_inv , 'red', linewidth=5)\n",
        "plt.plot(temp_f,'blue' , linewidth=4)\n",
        "plt.xlabel(\"Time\", fontsize=20)\n",
        "plt.ylabel(\"Temperature (C)\", fontsize=20)\n",
        "plt.legend(('Test','Predicted'))\n",
        "plt.show()"
      ],
      "execution_count": 42,
      "outputs": [
        {
          "output_type": "display_data",
          "data": {
            "image/png": "[encoded data removed]",
            "text/plain": [
              "<Figure size 1440x648 with 1 Axes>"
            ]
          },
          "metadata": {
            "tags": [],
            "needs_background": "light"
          }
        }
      ]
    },
    {
      "cell_type": "code",
      "metadata": {
        "id": "cGaFsitK1YhE"
      },
      "source": [
        "from sklearn.metrics import mean_squared_error, mean_absolute_error"
      ],
      "execution_count": 43,
      "outputs": []
    },
    {
      "cell_type": "code",
      "metadata": {
        "id": "lFIsT4sW1rCE",
        "outputId": "d4b7c71d-41f3-4226-d662-857c6784103d",
        "colab": {
          "base_uri": "https://localhost:8080/"
        }
      },
      "source": [
        "mse=mean_squared_error(Y_test_inv,temp_f)\n",
        "mae=mean_absolute_error(Y_test_inv,temp_f)\n",
        "print(f'{mse} {mae}')"
      ],
      "execution_count": 44,
      "outputs": [
        {
          "output_type": "stream",
          "text": [
            "29.896145888894136 4.320905653337216\n"
          ],
          "name": "stdout"
        }
      ]
    },
    {
      "cell_type": "code",
      "metadata": {
        "id": "48WIF1zJ1wWW",
        "outputId": "e02784d0-7592-47b6-b240-0c65c8f7029d",
        "colab": {
          "base_uri": "https://localhost:8080/"
        }
      },
      "source": [
        "mse=mean_squared_error(Y_test_inv,temp_rs)\n",
        "mae=mean_absolute_error(Y_test_inv,temp_rs)\n",
        "print(f'{mse} {mae}')"
      ],
      "execution_count": 47,
      "outputs": [
        {
          "output_type": "stream",
          "text": [
            "93.89017126645788 7.3573949767968205\n"
          ],
          "name": "stdout"
        }
      ]
    },
    {
      "cell_type": "code",
      "metadata": {
        "id": "4RVew6td13wJ",
        "outputId": "0657cc8c-8681-45c6-c27f-5d3fecee8bcb",
        "colab": {
          "base_uri": "https://localhost:8080/"
        }
      },
      "source": [
        "mse=mean_squared_error(Y_test_inv,temp_ts)\n",
        "mae=mean_absolute_error(Y_test_inv,temp_ts)\n",
        "print(f'{mse} {mae}')"
      ],
      "execution_count": 48,
      "outputs": [
        {
          "output_type": "stream",
          "text": [
            "4.798618353708427 1.7167213752096082\n"
          ],
          "name": "stdout"
        }
      ]
    },
    {
      "cell_type": "code",
      "metadata": {
        "id": "3TTQeMdE16Rm"
      },
      "source": [
        ""
      ],
      "execution_count": null,
      "outputs": []
    }
  ]
}