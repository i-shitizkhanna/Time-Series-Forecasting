{
  "nbformat": 4,
  "nbformat_minor": 0,
  "metadata": {
    "colab": {
      "name": "Ensemble.ipynb",
      "provenance": []
    },
    "kernelspec": {
      "name": "python3",
      "display_name": "Python 3"
    }
  },
  "cells": [
    {
      "cell_type": "code",
      "metadata": {
        "id": "6Vpo1LjDukFd"
      },
      "source": [
        "from tensorflow.keras import models\n",
        "import pandas as pd\n",
        "import numpy as np"
      ],
      "execution_count": 33,
      "outputs": []
    },
    {
      "cell_type": "code",
      "metadata": {
        "id": "s5GZ-ch9umdW"
      },
      "source": [
        "model1=models.load_model(\"Models/model2_R.h5\")"
      ],
      "execution_count": 34,
      "outputs": []
    },
    {
      "cell_type": "code",
      "metadata": {
        "id": "FnHHGL9wwDux",
        "colab": {
          "base_uri": "https://localhost:8080/",
          "height": 402
        },
        "outputId": "2d640c6e-dffe-4895-f789-73a4a511701e"
      },
      "source": [
        "test=pd.read_csv(\"DailyDelhiClimateTrain.csv\")\n",
        "test"
      ],
      "execution_count": 35,
      "outputs": [
        {
          "output_type": "execute_result",
          "data": {
            "text/html": [
              "<div>\n",
              "<style scoped>\n",
              "    .dataframe tbody tr th:only-of-type {\n",
              "        vertical-align: middle;\n",
              "    }\n",
              "\n",
              "    .dataframe tbody tr th {\n",
              "        vertical-align: top;\n",
              "    }\n",
              "\n",
              "    .dataframe thead th {\n",
              "        text-align: right;\n",
              "    }\n",
              "</style>\n",
              "<table border=\"1\" class=\"dataframe\">\n",
              "  <thead>\n",
              "    <tr style=\"text-align: right;\">\n",
              "      <th></th>\n",
              "      <th>date</th>\n",
              "      <th>meantemp</th>\n",
              "      <th>humidity</th>\n",
              "      <th>wind_speed</th>\n",
              "      <th>meanpressure</th>\n",
              "    </tr>\n",
              "  </thead>\n",
              "  <tbody>\n",
              "    <tr>\n",
              "      <th>0</th>\n",
              "      <td>2013-01-01</td>\n",
              "      <td>10.000000</td>\n",
              "      <td>84.500000</td>\n",
              "      <td>0.000000</td>\n",
              "      <td>1015.666667</td>\n",
              "    </tr>\n",
              "    <tr>\n",
              "      <th>1</th>\n",
              "      <td>2013-01-02</td>\n",
              "      <td>7.400000</td>\n",
              "      <td>92.000000</td>\n",
              "      <td>2.980000</td>\n",
              "      <td>1017.800000</td>\n",
              "    </tr>\n",
              "    <tr>\n",
              "      <th>2</th>\n",
              "      <td>2013-01-03</td>\n",
              "      <td>7.166667</td>\n",
              "      <td>87.000000</td>\n",
              "      <td>4.633333</td>\n",
              "      <td>1018.666667</td>\n",
              "    </tr>\n",
              "    <tr>\n",
              "      <th>3</th>\n",
              "      <td>2013-01-04</td>\n",
              "      <td>8.666667</td>\n",
              "      <td>71.333333</td>\n",
              "      <td>1.233333</td>\n",
              "      <td>1017.166667</td>\n",
              "    </tr>\n",
              "    <tr>\n",
              "      <th>4</th>\n",
              "      <td>2013-01-05</td>\n",
              "      <td>6.000000</td>\n",
              "      <td>86.833333</td>\n",
              "      <td>3.700000</td>\n",
              "      <td>1016.500000</td>\n",
              "    </tr>\n",
              "    <tr>\n",
              "      <th>...</th>\n",
              "      <td>...</td>\n",
              "      <td>...</td>\n",
              "      <td>...</td>\n",
              "      <td>...</td>\n",
              "      <td>...</td>\n",
              "    </tr>\n",
              "    <tr>\n",
              "      <th>1457</th>\n",
              "      <td>2016-12-28</td>\n",
              "      <td>17.217391</td>\n",
              "      <td>68.043478</td>\n",
              "      <td>3.547826</td>\n",
              "      <td>1015.565217</td>\n",
              "    </tr>\n",
              "    <tr>\n",
              "      <th>1458</th>\n",
              "      <td>2016-12-29</td>\n",
              "      <td>15.238095</td>\n",
              "      <td>87.857143</td>\n",
              "      <td>6.000000</td>\n",
              "      <td>1016.904762</td>\n",
              "    </tr>\n",
              "    <tr>\n",
              "      <th>1459</th>\n",
              "      <td>2016-12-30</td>\n",
              "      <td>14.095238</td>\n",
              "      <td>89.666667</td>\n",
              "      <td>6.266667</td>\n",
              "      <td>1017.904762</td>\n",
              "    </tr>\n",
              "    <tr>\n",
              "      <th>1460</th>\n",
              "      <td>2016-12-31</td>\n",
              "      <td>15.052632</td>\n",
              "      <td>87.000000</td>\n",
              "      <td>7.325000</td>\n",
              "      <td>1016.100000</td>\n",
              "    </tr>\n",
              "    <tr>\n",
              "      <th>1461</th>\n",
              "      <td>2017-01-01</td>\n",
              "      <td>10.000000</td>\n",
              "      <td>100.000000</td>\n",
              "      <td>0.000000</td>\n",
              "      <td>1016.000000</td>\n",
              "    </tr>\n",
              "  </tbody>\n",
              "</table>\n",
              "<p>1462 rows × 5 columns</p>\n",
              "</div>"
            ],
            "text/plain": [
              "            date   meantemp    humidity  wind_speed  meanpressure\n",
              "0     2013-01-01  10.000000   84.500000    0.000000   1015.666667\n",
              "1     2013-01-02   7.400000   92.000000    2.980000   1017.800000\n",
              "2     2013-01-03   7.166667   87.000000    4.633333   1018.666667\n",
              "3     2013-01-04   8.666667   71.333333    1.233333   1017.166667\n",
              "4     2013-01-05   6.000000   86.833333    3.700000   1016.500000\n",
              "...          ...        ...         ...         ...           ...\n",
              "1457  2016-12-28  17.217391   68.043478    3.547826   1015.565217\n",
              "1458  2016-12-29  15.238095   87.857143    6.000000   1016.904762\n",
              "1459  2016-12-30  14.095238   89.666667    6.266667   1017.904762\n",
              "1460  2016-12-31  15.052632   87.000000    7.325000   1016.100000\n",
              "1461  2017-01-01  10.000000  100.000000    0.000000   1016.000000\n",
              "\n",
              "[1462 rows x 5 columns]"
            ]
          },
          "metadata": {
            "tags": []
          },
          "execution_count": 35
        }
      ]
    },
    {
      "cell_type": "code",
      "metadata": {
        "id": "U1KSRivCw-aR",
        "colab": {
          "base_uri": "https://localhost:8080/"
        },
        "outputId": "9baac869-5624-4b9f-b61d-68306e073365"
      },
      "source": [
        "test.isnull().sum()"
      ],
      "execution_count": 36,
      "outputs": [
        {
          "output_type": "execute_result",
          "data": {
            "text/plain": [
              "date            0\n",
              "meantemp        0\n",
              "humidity        0\n",
              "wind_speed      0\n",
              "meanpressure    0\n",
              "dtype: int64"
            ]
          },
          "metadata": {
            "tags": []
          },
          "execution_count": 36
        }
      ]
    },
    {
      "cell_type": "code",
      "metadata": {
        "id": "9tRScxk3xsdr",
        "colab": {
          "base_uri": "https://localhost:8080/",
          "height": 431
        },
        "outputId": "ef377399-eaca-4786-8b66-d6b47ad86fe8"
      },
      "source": [
        "test[\"date\"]=pd.to_datetime(test[\"date\"])\n",
        "test.set_index(\"date\",inplace=True)\n",
        "test"
      ],
      "execution_count": 37,
      "outputs": [
        {
          "output_type": "execute_result",
          "data": {
            "text/html": [
              "<div>\n",
              "<style scoped>\n",
              "    .dataframe tbody tr th:only-of-type {\n",
              "        vertical-align: middle;\n",
              "    }\n",
              "\n",
              "    .dataframe tbody tr th {\n",
              "        vertical-align: top;\n",
              "    }\n",
              "\n",
              "    .dataframe thead th {\n",
              "        text-align: right;\n",
              "    }\n",
              "</style>\n",
              "<table border=\"1\" class=\"dataframe\">\n",
              "  <thead>\n",
              "    <tr style=\"text-align: right;\">\n",
              "      <th></th>\n",
              "      <th>meantemp</th>\n",
              "      <th>humidity</th>\n",
              "      <th>wind_speed</th>\n",
              "      <th>meanpressure</th>\n",
              "    </tr>\n",
              "    <tr>\n",
              "      <th>date</th>\n",
              "      <th></th>\n",
              "      <th></th>\n",
              "      <th></th>\n",
              "      <th></th>\n",
              "    </tr>\n",
              "  </thead>\n",
              "  <tbody>\n",
              "    <tr>\n",
              "      <th>2013-01-01</th>\n",
              "      <td>10.000000</td>\n",
              "      <td>84.500000</td>\n",
              "      <td>0.000000</td>\n",
              "      <td>1015.666667</td>\n",
              "    </tr>\n",
              "    <tr>\n",
              "      <th>2013-01-02</th>\n",
              "      <td>7.400000</td>\n",
              "      <td>92.000000</td>\n",
              "      <td>2.980000</td>\n",
              "      <td>1017.800000</td>\n",
              "    </tr>\n",
              "    <tr>\n",
              "      <th>2013-01-03</th>\n",
              "      <td>7.166667</td>\n",
              "      <td>87.000000</td>\n",
              "      <td>4.633333</td>\n",
              "      <td>1018.666667</td>\n",
              "    </tr>\n",
              "    <tr>\n",
              "      <th>2013-01-04</th>\n",
              "      <td>8.666667</td>\n",
              "      <td>71.333333</td>\n",
              "      <td>1.233333</td>\n",
              "      <td>1017.166667</td>\n",
              "    </tr>\n",
              "    <tr>\n",
              "      <th>2013-01-05</th>\n",
              "      <td>6.000000</td>\n",
              "      <td>86.833333</td>\n",
              "      <td>3.700000</td>\n",
              "      <td>1016.500000</td>\n",
              "    </tr>\n",
              "    <tr>\n",
              "      <th>...</th>\n",
              "      <td>...</td>\n",
              "      <td>...</td>\n",
              "      <td>...</td>\n",
              "      <td>...</td>\n",
              "    </tr>\n",
              "    <tr>\n",
              "      <th>2016-12-28</th>\n",
              "      <td>17.217391</td>\n",
              "      <td>68.043478</td>\n",
              "      <td>3.547826</td>\n",
              "      <td>1015.565217</td>\n",
              "    </tr>\n",
              "    <tr>\n",
              "      <th>2016-12-29</th>\n",
              "      <td>15.238095</td>\n",
              "      <td>87.857143</td>\n",
              "      <td>6.000000</td>\n",
              "      <td>1016.904762</td>\n",
              "    </tr>\n",
              "    <tr>\n",
              "      <th>2016-12-30</th>\n",
              "      <td>14.095238</td>\n",
              "      <td>89.666667</td>\n",
              "      <td>6.266667</td>\n",
              "      <td>1017.904762</td>\n",
              "    </tr>\n",
              "    <tr>\n",
              "      <th>2016-12-31</th>\n",
              "      <td>15.052632</td>\n",
              "      <td>87.000000</td>\n",
              "      <td>7.325000</td>\n",
              "      <td>1016.100000</td>\n",
              "    </tr>\n",
              "    <tr>\n",
              "      <th>2017-01-01</th>\n",
              "      <td>10.000000</td>\n",
              "      <td>100.000000</td>\n",
              "      <td>0.000000</td>\n",
              "      <td>1016.000000</td>\n",
              "    </tr>\n",
              "  </tbody>\n",
              "</table>\n",
              "<p>1462 rows × 4 columns</p>\n",
              "</div>"
            ],
            "text/plain": [
              "             meantemp    humidity  wind_speed  meanpressure\n",
              "date                                                       \n",
              "2013-01-01  10.000000   84.500000    0.000000   1015.666667\n",
              "2013-01-02   7.400000   92.000000    2.980000   1017.800000\n",
              "2013-01-03   7.166667   87.000000    4.633333   1018.666667\n",
              "2013-01-04   8.666667   71.333333    1.233333   1017.166667\n",
              "2013-01-05   6.000000   86.833333    3.700000   1016.500000\n",
              "...               ...         ...         ...           ...\n",
              "2016-12-28  17.217391   68.043478    3.547826   1015.565217\n",
              "2016-12-29  15.238095   87.857143    6.000000   1016.904762\n",
              "2016-12-30  14.095238   89.666667    6.266667   1017.904762\n",
              "2016-12-31  15.052632   87.000000    7.325000   1016.100000\n",
              "2017-01-01  10.000000  100.000000    0.000000   1016.000000\n",
              "\n",
              "[1462 rows x 4 columns]"
            ]
          },
          "metadata": {
            "tags": []
          },
          "execution_count": 37
        }
      ]
    },
    {
      "cell_type": "code",
      "metadata": {
        "id": "y7XDocf6yjyB"
      },
      "source": [
        "def extract_year(value):\n",
        "  value=value.strftime('%Y-%m-%d')\n",
        "  return (value[0:4])"
      ],
      "execution_count": 38,
      "outputs": []
    },
    {
      "cell_type": "code",
      "metadata": {
        "id": "49JYXvpoyusp"
      },
      "source": [
        "def extract_month(value):\n",
        "    value=value.strftime('%Y-%m-%d')\n",
        "    return (value[4:6])"
      ],
      "execution_count": 39,
      "outputs": []
    },
    {
      "cell_type": "code",
      "metadata": {
        "id": "Zi1uwYqwywgc"
      },
      "source": [
        "def extract_date(value):\n",
        "    value=value.strftime('%Y-%m-%d')\n",
        "    return (value[6:8])"
      ],
      "execution_count": 40,
      "outputs": []
    },
    {
      "cell_type": "code",
      "metadata": {
        "id": "PZ5JUecwyyYQ"
      },
      "source": [
        "test.reset_index(inplace=True)"
      ],
      "execution_count": 41,
      "outputs": []
    },
    {
      "cell_type": "code",
      "metadata": {
        "id": "WIwkaBDMy1y3"
      },
      "source": [
        "test['day'] = test['date'].dt.day\n",
        "test['month'] = test['date'].dt.month\n",
        "test['year'] = test['date'].dt.year"
      ],
      "execution_count": 42,
      "outputs": []
    },
    {
      "cell_type": "code",
      "metadata": {
        "id": "wld1lQ4ezAGc"
      },
      "source": [
        "test\n",
        "temp=test.drop([\"wind_speed\"],axis=1)\n",
        "temp=temp.append(test[\"wind_speed\"])\n",
        "# temp"
      ],
      "execution_count": 43,
      "outputs": []
    },
    {
      "cell_type": "code",
      "metadata": {
        "id": "9SB8MxlXzB2z",
        "colab": {
          "base_uri": "https://localhost:8080/"
        },
        "outputId": "1cf325a6-33b4-46ea-beb7-d85dc01b5844"
      },
      "source": [
        "test.isnull().sum()"
      ],
      "execution_count": 44,
      "outputs": [
        {
          "output_type": "execute_result",
          "data": {
            "text/plain": [
              "date            0\n",
              "meantemp        0\n",
              "humidity        0\n",
              "wind_speed      0\n",
              "meanpressure    0\n",
              "day             0\n",
              "month           0\n",
              "year            0\n",
              "dtype: int64"
            ]
          },
          "metadata": {
            "tags": []
          },
          "execution_count": 44
        }
      ]
    },
    {
      "cell_type": "code",
      "metadata": {
        "id": "sKfd4rqAzHyJ",
        "colab": {
          "base_uri": "https://localhost:8080/",
          "height": 402
        },
        "outputId": "ff8c98f1-76f3-454c-de33-d951de761811"
      },
      "source": [
        "test=test.drop([\"date\"],axis=1)\n",
        "test"
      ],
      "execution_count": 45,
      "outputs": [
        {
          "output_type": "execute_result",
          "data": {
            "text/html": [
              "<div>\n",
              "<style scoped>\n",
              "    .dataframe tbody tr th:only-of-type {\n",
              "        vertical-align: middle;\n",
              "    }\n",
              "\n",
              "    .dataframe tbody tr th {\n",
              "        vertical-align: top;\n",
              "    }\n",
              "\n",
              "    .dataframe thead th {\n",
              "        text-align: right;\n",
              "    }\n",
              "</style>\n",
              "<table border=\"1\" class=\"dataframe\">\n",
              "  <thead>\n",
              "    <tr style=\"text-align: right;\">\n",
              "      <th></th>\n",
              "      <th>meantemp</th>\n",
              "      <th>humidity</th>\n",
              "      <th>wind_speed</th>\n",
              "      <th>meanpressure</th>\n",
              "      <th>day</th>\n",
              "      <th>month</th>\n",
              "      <th>year</th>\n",
              "    </tr>\n",
              "  </thead>\n",
              "  <tbody>\n",
              "    <tr>\n",
              "      <th>0</th>\n",
              "      <td>10.000000</td>\n",
              "      <td>84.500000</td>\n",
              "      <td>0.000000</td>\n",
              "      <td>1015.666667</td>\n",
              "      <td>1</td>\n",
              "      <td>1</td>\n",
              "      <td>2013</td>\n",
              "    </tr>\n",
              "    <tr>\n",
              "      <th>1</th>\n",
              "      <td>7.400000</td>\n",
              "      <td>92.000000</td>\n",
              "      <td>2.980000</td>\n",
              "      <td>1017.800000</td>\n",
              "      <td>2</td>\n",
              "      <td>1</td>\n",
              "      <td>2013</td>\n",
              "    </tr>\n",
              "    <tr>\n",
              "      <th>2</th>\n",
              "      <td>7.166667</td>\n",
              "      <td>87.000000</td>\n",
              "      <td>4.633333</td>\n",
              "      <td>1018.666667</td>\n",
              "      <td>3</td>\n",
              "      <td>1</td>\n",
              "      <td>2013</td>\n",
              "    </tr>\n",
              "    <tr>\n",
              "      <th>3</th>\n",
              "      <td>8.666667</td>\n",
              "      <td>71.333333</td>\n",
              "      <td>1.233333</td>\n",
              "      <td>1017.166667</td>\n",
              "      <td>4</td>\n",
              "      <td>1</td>\n",
              "      <td>2013</td>\n",
              "    </tr>\n",
              "    <tr>\n",
              "      <th>4</th>\n",
              "      <td>6.000000</td>\n",
              "      <td>86.833333</td>\n",
              "      <td>3.700000</td>\n",
              "      <td>1016.500000</td>\n",
              "      <td>5</td>\n",
              "      <td>1</td>\n",
              "      <td>2013</td>\n",
              "    </tr>\n",
              "    <tr>\n",
              "      <th>...</th>\n",
              "      <td>...</td>\n",
              "      <td>...</td>\n",
              "      <td>...</td>\n",
              "      <td>...</td>\n",
              "      <td>...</td>\n",
              "      <td>...</td>\n",
              "      <td>...</td>\n",
              "    </tr>\n",
              "    <tr>\n",
              "      <th>1457</th>\n",
              "      <td>17.217391</td>\n",
              "      <td>68.043478</td>\n",
              "      <td>3.547826</td>\n",
              "      <td>1015.565217</td>\n",
              "      <td>28</td>\n",
              "      <td>12</td>\n",
              "      <td>2016</td>\n",
              "    </tr>\n",
              "    <tr>\n",
              "      <th>1458</th>\n",
              "      <td>15.238095</td>\n",
              "      <td>87.857143</td>\n",
              "      <td>6.000000</td>\n",
              "      <td>1016.904762</td>\n",
              "      <td>29</td>\n",
              "      <td>12</td>\n",
              "      <td>2016</td>\n",
              "    </tr>\n",
              "    <tr>\n",
              "      <th>1459</th>\n",
              "      <td>14.095238</td>\n",
              "      <td>89.666667</td>\n",
              "      <td>6.266667</td>\n",
              "      <td>1017.904762</td>\n",
              "      <td>30</td>\n",
              "      <td>12</td>\n",
              "      <td>2016</td>\n",
              "    </tr>\n",
              "    <tr>\n",
              "      <th>1460</th>\n",
              "      <td>15.052632</td>\n",
              "      <td>87.000000</td>\n",
              "      <td>7.325000</td>\n",
              "      <td>1016.100000</td>\n",
              "      <td>31</td>\n",
              "      <td>12</td>\n",
              "      <td>2016</td>\n",
              "    </tr>\n",
              "    <tr>\n",
              "      <th>1461</th>\n",
              "      <td>10.000000</td>\n",
              "      <td>100.000000</td>\n",
              "      <td>0.000000</td>\n",
              "      <td>1016.000000</td>\n",
              "      <td>1</td>\n",
              "      <td>1</td>\n",
              "      <td>2017</td>\n",
              "    </tr>\n",
              "  </tbody>\n",
              "</table>\n",
              "<p>1462 rows × 7 columns</p>\n",
              "</div>"
            ],
            "text/plain": [
              "       meantemp    humidity  wind_speed  meanpressure  day  month  year\n",
              "0     10.000000   84.500000    0.000000   1015.666667    1      1  2013\n",
              "1      7.400000   92.000000    2.980000   1017.800000    2      1  2013\n",
              "2      7.166667   87.000000    4.633333   1018.666667    3      1  2013\n",
              "3      8.666667   71.333333    1.233333   1017.166667    4      1  2013\n",
              "4      6.000000   86.833333    3.700000   1016.500000    5      1  2013\n",
              "...         ...         ...         ...           ...  ...    ...   ...\n",
              "1457  17.217391   68.043478    3.547826   1015.565217   28     12  2016\n",
              "1458  15.238095   87.857143    6.000000   1016.904762   29     12  2016\n",
              "1459  14.095238   89.666667    6.266667   1017.904762   30     12  2016\n",
              "1460  15.052632   87.000000    7.325000   1016.100000   31     12  2016\n",
              "1461  10.000000  100.000000    0.000000   1016.000000    1      1  2017\n",
              "\n",
              "[1462 rows x 7 columns]"
            ]
          },
          "metadata": {
            "tags": []
          },
          "execution_count": 45
        }
      ]
    },
    {
      "cell_type": "code",
      "metadata": {
        "colab": {
          "base_uri": "https://localhost:8080/",
          "height": 402
        },
        "id": "W0i16pkvjH3n",
        "outputId": "b2d8c92f-b071-4968-ae21-6de34322776b"
      },
      "source": [
        "X_part=test.drop([\"meantemp\"],axis=1)\n",
        "X_part=X_part[['humidity','meanpressure','wind_speed','day','month','year']]\n",
        "X_part"
      ],
      "execution_count": 46,
      "outputs": [
        {
          "output_type": "execute_result",
          "data": {
            "text/html": [
              "<div>\n",
              "<style scoped>\n",
              "    .dataframe tbody tr th:only-of-type {\n",
              "        vertical-align: middle;\n",
              "    }\n",
              "\n",
              "    .dataframe tbody tr th {\n",
              "        vertical-align: top;\n",
              "    }\n",
              "\n",
              "    .dataframe thead th {\n",
              "        text-align: right;\n",
              "    }\n",
              "</style>\n",
              "<table border=\"1\" class=\"dataframe\">\n",
              "  <thead>\n",
              "    <tr style=\"text-align: right;\">\n",
              "      <th></th>\n",
              "      <th>humidity</th>\n",
              "      <th>meanpressure</th>\n",
              "      <th>wind_speed</th>\n",
              "      <th>day</th>\n",
              "      <th>month</th>\n",
              "      <th>year</th>\n",
              "    </tr>\n",
              "  </thead>\n",
              "  <tbody>\n",
              "    <tr>\n",
              "      <th>0</th>\n",
              "      <td>84.500000</td>\n",
              "      <td>1015.666667</td>\n",
              "      <td>0.000000</td>\n",
              "      <td>1</td>\n",
              "      <td>1</td>\n",
              "      <td>2013</td>\n",
              "    </tr>\n",
              "    <tr>\n",
              "      <th>1</th>\n",
              "      <td>92.000000</td>\n",
              "      <td>1017.800000</td>\n",
              "      <td>2.980000</td>\n",
              "      <td>2</td>\n",
              "      <td>1</td>\n",
              "      <td>2013</td>\n",
              "    </tr>\n",
              "    <tr>\n",
              "      <th>2</th>\n",
              "      <td>87.000000</td>\n",
              "      <td>1018.666667</td>\n",
              "      <td>4.633333</td>\n",
              "      <td>3</td>\n",
              "      <td>1</td>\n",
              "      <td>2013</td>\n",
              "    </tr>\n",
              "    <tr>\n",
              "      <th>3</th>\n",
              "      <td>71.333333</td>\n",
              "      <td>1017.166667</td>\n",
              "      <td>1.233333</td>\n",
              "      <td>4</td>\n",
              "      <td>1</td>\n",
              "      <td>2013</td>\n",
              "    </tr>\n",
              "    <tr>\n",
              "      <th>4</th>\n",
              "      <td>86.833333</td>\n",
              "      <td>1016.500000</td>\n",
              "      <td>3.700000</td>\n",
              "      <td>5</td>\n",
              "      <td>1</td>\n",
              "      <td>2013</td>\n",
              "    </tr>\n",
              "    <tr>\n",
              "      <th>...</th>\n",
              "      <td>...</td>\n",
              "      <td>...</td>\n",
              "      <td>...</td>\n",
              "      <td>...</td>\n",
              "      <td>...</td>\n",
              "      <td>...</td>\n",
              "    </tr>\n",
              "    <tr>\n",
              "      <th>1457</th>\n",
              "      <td>68.043478</td>\n",
              "      <td>1015.565217</td>\n",
              "      <td>3.547826</td>\n",
              "      <td>28</td>\n",
              "      <td>12</td>\n",
              "      <td>2016</td>\n",
              "    </tr>\n",
              "    <tr>\n",
              "      <th>1458</th>\n",
              "      <td>87.857143</td>\n",
              "      <td>1016.904762</td>\n",
              "      <td>6.000000</td>\n",
              "      <td>29</td>\n",
              "      <td>12</td>\n",
              "      <td>2016</td>\n",
              "    </tr>\n",
              "    <tr>\n",
              "      <th>1459</th>\n",
              "      <td>89.666667</td>\n",
              "      <td>1017.904762</td>\n",
              "      <td>6.266667</td>\n",
              "      <td>30</td>\n",
              "      <td>12</td>\n",
              "      <td>2016</td>\n",
              "    </tr>\n",
              "    <tr>\n",
              "      <th>1460</th>\n",
              "      <td>87.000000</td>\n",
              "      <td>1016.100000</td>\n",
              "      <td>7.325000</td>\n",
              "      <td>31</td>\n",
              "      <td>12</td>\n",
              "      <td>2016</td>\n",
              "    </tr>\n",
              "    <tr>\n",
              "      <th>1461</th>\n",
              "      <td>100.000000</td>\n",
              "      <td>1016.000000</td>\n",
              "      <td>0.000000</td>\n",
              "      <td>1</td>\n",
              "      <td>1</td>\n",
              "      <td>2017</td>\n",
              "    </tr>\n",
              "  </tbody>\n",
              "</table>\n",
              "<p>1462 rows × 6 columns</p>\n",
              "</div>"
            ],
            "text/plain": [
              "        humidity  meanpressure  wind_speed  day  month  year\n",
              "0      84.500000   1015.666667    0.000000    1      1  2013\n",
              "1      92.000000   1017.800000    2.980000    2      1  2013\n",
              "2      87.000000   1018.666667    4.633333    3      1  2013\n",
              "3      71.333333   1017.166667    1.233333    4      1  2013\n",
              "4      86.833333   1016.500000    3.700000    5      1  2013\n",
              "...          ...           ...         ...  ...    ...   ...\n",
              "1457   68.043478   1015.565217    3.547826   28     12  2016\n",
              "1458   87.857143   1016.904762    6.000000   29     12  2016\n",
              "1459   89.666667   1017.904762    6.266667   30     12  2016\n",
              "1460   87.000000   1016.100000    7.325000   31     12  2016\n",
              "1461  100.000000   1016.000000    0.000000    1      1  2017\n",
              "\n",
              "[1462 rows x 6 columns]"
            ]
          },
          "metadata": {
            "tags": []
          },
          "execution_count": 46
        }
      ]
    },
    {
      "cell_type": "code",
      "metadata": {
        "id": "06aRLPLDzP_6",
        "colab": {
          "base_uri": "https://localhost:8080/"
        },
        "outputId": "a6420ba1-f06e-42e9-dcc1-fa076ab1b4a9"
      },
      "source": [
        "Y_part=test[\"meantemp\"]\n",
        "X_part=np.array(X_part)\n",
        "Y_part=np.array(Y_part).reshape(-1,1)\n",
        "print(X_part.shape)\n",
        "print(Y_part.shape)"
      ],
      "execution_count": 47,
      "outputs": [
        {
          "output_type": "stream",
          "text": [
            "(1462, 6)\n",
            "(1462, 1)\n"
          ],
          "name": "stdout"
        }
      ]
    },
    {
      "cell_type": "code",
      "metadata": {
        "id": "WQoGBcswzYJj"
      },
      "source": [
        "from sklearn.preprocessing import LabelEncoder, MinMaxScaler"
      ],
      "execution_count": 48,
      "outputs": []
    },
    {
      "cell_type": "code",
      "metadata": {
        "id": "K7Jxtbxlzz5W"
      },
      "source": [
        "scaler2=MinMaxScaler(feature_range=[-1,1])\n",
        "X_part_scaled=scaler2.fit_transform(X_part)\n",
        "Y_part_scaled=scaler2.fit_transform(Y_part)"
      ],
      "execution_count": 49,
      "outputs": []
    },
    {
      "cell_type": "code",
      "metadata": {
        "id": "L4UJLMQ8zjpz",
        "colab": {
          "base_uri": "https://localhost:8080/"
        },
        "outputId": "d0e4184b-2e38-4b75-fe52-b2e60e7940b9"
      },
      "source": [
        "step=30\n",
        "input=[]\n",
        "output=[]\n",
        "for i in range(len(X_part_scaled)-(step)):\n",
        "    input.append(X_part_scaled[i:i+step])\n",
        "    output.append(Y_part_scaled[i+step])\n",
        " \n",
        "input=np.array(input)\n",
        "output=np.array(output)\n",
        "\n",
        "print(input.shape)\n",
        "print(output.shape)"
      ],
      "execution_count": 50,
      "outputs": [
        {
          "output_type": "stream",
          "text": [
            "(1432, 30, 6)\n",
            "(1432, 1)\n"
          ],
          "name": "stdout"
        }
      ]
    },
    {
      "cell_type": "code",
      "metadata": {
        "id": "idWYu_BSz3QT"
      },
      "source": [
        "temp_rs=model1.predict(input)"
      ],
      "execution_count": 51,
      "outputs": []
    },
    {
      "cell_type": "code",
      "metadata": {
        "id": "NKxu7ytfz-Rl",
        "colab": {
          "base_uri": "https://localhost:8080/"
        },
        "outputId": "bc553918-adf7-4e32-d873-0d4b5bf60518"
      },
      "source": [
        "temp_rs=scaler2.inverse_transform(temp_rs)\n",
        "temp_rs"
      ],
      "execution_count": 52,
      "outputs": [
        {
          "output_type": "execute_result",
          "data": {
            "text/plain": [
              "array([[13.432537],\n",
              "       [14.211804],\n",
              "       [16.034498],\n",
              "       ...,\n",
              "       [15.139082],\n",
              "       [10.606809],\n",
              "       [ 9.202572]], dtype=float32)"
            ]
          },
          "metadata": {
            "tags": []
          },
          "execution_count": 52
        }
      ]
    },
    {
      "cell_type": "code",
      "metadata": {
        "id": "8yGXIrTg0E-y",
        "colab": {
          "base_uri": "https://localhost:8080/",
          "height": 402
        },
        "outputId": "b68e0750-4b87-4cfc-fc74-c496b968519d"
      },
      "source": [
        "test=pd.read_csv(\"DailyDelhiClimateTrain.csv\")\n",
        "test"
      ],
      "execution_count": 63,
      "outputs": [
        {
          "output_type": "execute_result",
          "data": {
            "text/html": [
              "<div>\n",
              "<style scoped>\n",
              "    .dataframe tbody tr th:only-of-type {\n",
              "        vertical-align: middle;\n",
              "    }\n",
              "\n",
              "    .dataframe tbody tr th {\n",
              "        vertical-align: top;\n",
              "    }\n",
              "\n",
              "    .dataframe thead th {\n",
              "        text-align: right;\n",
              "    }\n",
              "</style>\n",
              "<table border=\"1\" class=\"dataframe\">\n",
              "  <thead>\n",
              "    <tr style=\"text-align: right;\">\n",
              "      <th></th>\n",
              "      <th>date</th>\n",
              "      <th>meantemp</th>\n",
              "      <th>humidity</th>\n",
              "      <th>wind_speed</th>\n",
              "      <th>meanpressure</th>\n",
              "    </tr>\n",
              "  </thead>\n",
              "  <tbody>\n",
              "    <tr>\n",
              "      <th>0</th>\n",
              "      <td>2013-01-01</td>\n",
              "      <td>10.000000</td>\n",
              "      <td>84.500000</td>\n",
              "      <td>0.000000</td>\n",
              "      <td>1015.666667</td>\n",
              "    </tr>\n",
              "    <tr>\n",
              "      <th>1</th>\n",
              "      <td>2013-01-02</td>\n",
              "      <td>7.400000</td>\n",
              "      <td>92.000000</td>\n",
              "      <td>2.980000</td>\n",
              "      <td>1017.800000</td>\n",
              "    </tr>\n",
              "    <tr>\n",
              "      <th>2</th>\n",
              "      <td>2013-01-03</td>\n",
              "      <td>7.166667</td>\n",
              "      <td>87.000000</td>\n",
              "      <td>4.633333</td>\n",
              "      <td>1018.666667</td>\n",
              "    </tr>\n",
              "    <tr>\n",
              "      <th>3</th>\n",
              "      <td>2013-01-04</td>\n",
              "      <td>8.666667</td>\n",
              "      <td>71.333333</td>\n",
              "      <td>1.233333</td>\n",
              "      <td>1017.166667</td>\n",
              "    </tr>\n",
              "    <tr>\n",
              "      <th>4</th>\n",
              "      <td>2013-01-05</td>\n",
              "      <td>6.000000</td>\n",
              "      <td>86.833333</td>\n",
              "      <td>3.700000</td>\n",
              "      <td>1016.500000</td>\n",
              "    </tr>\n",
              "    <tr>\n",
              "      <th>...</th>\n",
              "      <td>...</td>\n",
              "      <td>...</td>\n",
              "      <td>...</td>\n",
              "      <td>...</td>\n",
              "      <td>...</td>\n",
              "    </tr>\n",
              "    <tr>\n",
              "      <th>1457</th>\n",
              "      <td>2016-12-28</td>\n",
              "      <td>17.217391</td>\n",
              "      <td>68.043478</td>\n",
              "      <td>3.547826</td>\n",
              "      <td>1015.565217</td>\n",
              "    </tr>\n",
              "    <tr>\n",
              "      <th>1458</th>\n",
              "      <td>2016-12-29</td>\n",
              "      <td>15.238095</td>\n",
              "      <td>87.857143</td>\n",
              "      <td>6.000000</td>\n",
              "      <td>1016.904762</td>\n",
              "    </tr>\n",
              "    <tr>\n",
              "      <th>1459</th>\n",
              "      <td>2016-12-30</td>\n",
              "      <td>14.095238</td>\n",
              "      <td>89.666667</td>\n",
              "      <td>6.266667</td>\n",
              "      <td>1017.904762</td>\n",
              "    </tr>\n",
              "    <tr>\n",
              "      <th>1460</th>\n",
              "      <td>2016-12-31</td>\n",
              "      <td>15.052632</td>\n",
              "      <td>87.000000</td>\n",
              "      <td>7.325000</td>\n",
              "      <td>1016.100000</td>\n",
              "    </tr>\n",
              "    <tr>\n",
              "      <th>1461</th>\n",
              "      <td>2017-01-01</td>\n",
              "      <td>10.000000</td>\n",
              "      <td>100.000000</td>\n",
              "      <td>0.000000</td>\n",
              "      <td>1016.000000</td>\n",
              "    </tr>\n",
              "  </tbody>\n",
              "</table>\n",
              "<p>1462 rows × 5 columns</p>\n",
              "</div>"
            ],
            "text/plain": [
              "            date   meantemp    humidity  wind_speed  meanpressure\n",
              "0     2013-01-01  10.000000   84.500000    0.000000   1015.666667\n",
              "1     2013-01-02   7.400000   92.000000    2.980000   1017.800000\n",
              "2     2013-01-03   7.166667   87.000000    4.633333   1018.666667\n",
              "3     2013-01-04   8.666667   71.333333    1.233333   1017.166667\n",
              "4     2013-01-05   6.000000   86.833333    3.700000   1016.500000\n",
              "...          ...        ...         ...         ...           ...\n",
              "1457  2016-12-28  17.217391   68.043478    3.547826   1015.565217\n",
              "1458  2016-12-29  15.238095   87.857143    6.000000   1016.904762\n",
              "1459  2016-12-30  14.095238   89.666667    6.266667   1017.904762\n",
              "1460  2016-12-31  15.052632   87.000000    7.325000   1016.100000\n",
              "1461  2017-01-01  10.000000  100.000000    0.000000   1016.000000\n",
              "\n",
              "[1462 rows x 5 columns]"
            ]
          },
          "metadata": {
            "tags": []
          },
          "execution_count": 63
        }
      ]
    },
    {
      "cell_type": "code",
      "metadata": {
        "id": "pjo6o8Ln0Xy2",
        "colab": {
          "base_uri": "https://localhost:8080/",
          "height": 431
        },
        "outputId": "f2782c0f-9ba7-4cd8-97ca-b87a831a1015"
      },
      "source": [
        "timeseries_test=test.copy()\n",
        "timeseries_test[\"date\"].dtype\n",
        "timeseries_test[\"date\"]=pd.to_datetime(timeseries_test[\"date\"])\n",
        "timeseries_test.set_index(\"date\",inplace=True)\n",
        "timeseries_test"
      ],
      "execution_count": 64,
      "outputs": [
        {
          "output_type": "execute_result",
          "data": {
            "text/html": [
              "<div>\n",
              "<style scoped>\n",
              "    .dataframe tbody tr th:only-of-type {\n",
              "        vertical-align: middle;\n",
              "    }\n",
              "\n",
              "    .dataframe tbody tr th {\n",
              "        vertical-align: top;\n",
              "    }\n",
              "\n",
              "    .dataframe thead th {\n",
              "        text-align: right;\n",
              "    }\n",
              "</style>\n",
              "<table border=\"1\" class=\"dataframe\">\n",
              "  <thead>\n",
              "    <tr style=\"text-align: right;\">\n",
              "      <th></th>\n",
              "      <th>meantemp</th>\n",
              "      <th>humidity</th>\n",
              "      <th>wind_speed</th>\n",
              "      <th>meanpressure</th>\n",
              "    </tr>\n",
              "    <tr>\n",
              "      <th>date</th>\n",
              "      <th></th>\n",
              "      <th></th>\n",
              "      <th></th>\n",
              "      <th></th>\n",
              "    </tr>\n",
              "  </thead>\n",
              "  <tbody>\n",
              "    <tr>\n",
              "      <th>2013-01-01</th>\n",
              "      <td>10.000000</td>\n",
              "      <td>84.500000</td>\n",
              "      <td>0.000000</td>\n",
              "      <td>1015.666667</td>\n",
              "    </tr>\n",
              "    <tr>\n",
              "      <th>2013-01-02</th>\n",
              "      <td>7.400000</td>\n",
              "      <td>92.000000</td>\n",
              "      <td>2.980000</td>\n",
              "      <td>1017.800000</td>\n",
              "    </tr>\n",
              "    <tr>\n",
              "      <th>2013-01-03</th>\n",
              "      <td>7.166667</td>\n",
              "      <td>87.000000</td>\n",
              "      <td>4.633333</td>\n",
              "      <td>1018.666667</td>\n",
              "    </tr>\n",
              "    <tr>\n",
              "      <th>2013-01-04</th>\n",
              "      <td>8.666667</td>\n",
              "      <td>71.333333</td>\n",
              "      <td>1.233333</td>\n",
              "      <td>1017.166667</td>\n",
              "    </tr>\n",
              "    <tr>\n",
              "      <th>2013-01-05</th>\n",
              "      <td>6.000000</td>\n",
              "      <td>86.833333</td>\n",
              "      <td>3.700000</td>\n",
              "      <td>1016.500000</td>\n",
              "    </tr>\n",
              "    <tr>\n",
              "      <th>...</th>\n",
              "      <td>...</td>\n",
              "      <td>...</td>\n",
              "      <td>...</td>\n",
              "      <td>...</td>\n",
              "    </tr>\n",
              "    <tr>\n",
              "      <th>2016-12-28</th>\n",
              "      <td>17.217391</td>\n",
              "      <td>68.043478</td>\n",
              "      <td>3.547826</td>\n",
              "      <td>1015.565217</td>\n",
              "    </tr>\n",
              "    <tr>\n",
              "      <th>2016-12-29</th>\n",
              "      <td>15.238095</td>\n",
              "      <td>87.857143</td>\n",
              "      <td>6.000000</td>\n",
              "      <td>1016.904762</td>\n",
              "    </tr>\n",
              "    <tr>\n",
              "      <th>2016-12-30</th>\n",
              "      <td>14.095238</td>\n",
              "      <td>89.666667</td>\n",
              "      <td>6.266667</td>\n",
              "      <td>1017.904762</td>\n",
              "    </tr>\n",
              "    <tr>\n",
              "      <th>2016-12-31</th>\n",
              "      <td>15.052632</td>\n",
              "      <td>87.000000</td>\n",
              "      <td>7.325000</td>\n",
              "      <td>1016.100000</td>\n",
              "    </tr>\n",
              "    <tr>\n",
              "      <th>2017-01-01</th>\n",
              "      <td>10.000000</td>\n",
              "      <td>100.000000</td>\n",
              "      <td>0.000000</td>\n",
              "      <td>1016.000000</td>\n",
              "    </tr>\n",
              "  </tbody>\n",
              "</table>\n",
              "<p>1462 rows × 4 columns</p>\n",
              "</div>"
            ],
            "text/plain": [
              "             meantemp    humidity  wind_speed  meanpressure\n",
              "date                                                       \n",
              "2013-01-01  10.000000   84.500000    0.000000   1015.666667\n",
              "2013-01-02   7.400000   92.000000    2.980000   1017.800000\n",
              "2013-01-03   7.166667   87.000000    4.633333   1018.666667\n",
              "2013-01-04   8.666667   71.333333    1.233333   1017.166667\n",
              "2013-01-05   6.000000   86.833333    3.700000   1016.500000\n",
              "...               ...         ...         ...           ...\n",
              "2016-12-28  17.217391   68.043478    3.547826   1015.565217\n",
              "2016-12-29  15.238095   87.857143    6.000000   1016.904762\n",
              "2016-12-30  14.095238   89.666667    6.266667   1017.904762\n",
              "2016-12-31  15.052632   87.000000    7.325000   1016.100000\n",
              "2017-01-01  10.000000  100.000000    0.000000   1016.000000\n",
              "\n",
              "[1462 rows x 4 columns]"
            ]
          },
          "metadata": {
            "tags": []
          },
          "execution_count": 64
        }
      ]
    },
    {
      "cell_type": "code",
      "metadata": {
        "id": "J790pqZT0gwE",
        "colab": {
          "base_uri": "https://localhost:8080/",
          "height": 402
        },
        "outputId": "cfff32d3-947a-4302-9533-cabd2e137616"
      },
      "source": [
        "test_data_temp=pd.DataFrame(list(timeseries_test[\"meantemp\"]),columns=[\"temp\"])\n",
        "test_data_temp"
      ],
      "execution_count": 65,
      "outputs": [
        {
          "output_type": "execute_result",
          "data": {
            "text/html": [
              "<div>\n",
              "<style scoped>\n",
              "    .dataframe tbody tr th:only-of-type {\n",
              "        vertical-align: middle;\n",
              "    }\n",
              "\n",
              "    .dataframe tbody tr th {\n",
              "        vertical-align: top;\n",
              "    }\n",
              "\n",
              "    .dataframe thead th {\n",
              "        text-align: right;\n",
              "    }\n",
              "</style>\n",
              "<table border=\"1\" class=\"dataframe\">\n",
              "  <thead>\n",
              "    <tr style=\"text-align: right;\">\n",
              "      <th></th>\n",
              "      <th>temp</th>\n",
              "    </tr>\n",
              "  </thead>\n",
              "  <tbody>\n",
              "    <tr>\n",
              "      <th>0</th>\n",
              "      <td>10.000000</td>\n",
              "    </tr>\n",
              "    <tr>\n",
              "      <th>1</th>\n",
              "      <td>7.400000</td>\n",
              "    </tr>\n",
              "    <tr>\n",
              "      <th>2</th>\n",
              "      <td>7.166667</td>\n",
              "    </tr>\n",
              "    <tr>\n",
              "      <th>3</th>\n",
              "      <td>8.666667</td>\n",
              "    </tr>\n",
              "    <tr>\n",
              "      <th>4</th>\n",
              "      <td>6.000000</td>\n",
              "    </tr>\n",
              "    <tr>\n",
              "      <th>...</th>\n",
              "      <td>...</td>\n",
              "    </tr>\n",
              "    <tr>\n",
              "      <th>1457</th>\n",
              "      <td>17.217391</td>\n",
              "    </tr>\n",
              "    <tr>\n",
              "      <th>1458</th>\n",
              "      <td>15.238095</td>\n",
              "    </tr>\n",
              "    <tr>\n",
              "      <th>1459</th>\n",
              "      <td>14.095238</td>\n",
              "    </tr>\n",
              "    <tr>\n",
              "      <th>1460</th>\n",
              "      <td>15.052632</td>\n",
              "    </tr>\n",
              "    <tr>\n",
              "      <th>1461</th>\n",
              "      <td>10.000000</td>\n",
              "    </tr>\n",
              "  </tbody>\n",
              "</table>\n",
              "<p>1462 rows × 1 columns</p>\n",
              "</div>"
            ],
            "text/plain": [
              "           temp\n",
              "0     10.000000\n",
              "1      7.400000\n",
              "2      7.166667\n",
              "3      8.666667\n",
              "4      6.000000\n",
              "...         ...\n",
              "1457  17.217391\n",
              "1458  15.238095\n",
              "1459  14.095238\n",
              "1460  15.052632\n",
              "1461  10.000000\n",
              "\n",
              "[1462 rows x 1 columns]"
            ]
          },
          "metadata": {
            "tags": []
          },
          "execution_count": 65
        }
      ]
    },
    {
      "cell_type": "code",
      "metadata": {
        "id": "as3l9U_D0jlw"
      },
      "source": [
        "from sklearn.preprocessing import LabelEncoder, MinMaxScaler\n",
        "scaler=MinMaxScaler(feature_range=(-1,1))\n",
        "test_data_temp=scaler.fit_transform(test_data_temp)"
      ],
      "execution_count": 66,
      "outputs": []
    },
    {
      "cell_type": "code",
      "metadata": {
        "id": "gwO-Z8z90mIy",
        "colab": {
          "base_uri": "https://localhost:8080/"
        },
        "outputId": "03816880-95fb-4660-9848-622c604369bb"
      },
      "source": [
        "steps=30\n",
        "X_test=[]\n",
        "Y_test=[]\n",
        "for i in range(len(test_data_temp)-steps):\n",
        "  X_test.append(test_data_temp[i:i+steps])\n",
        "  Y_test.append(test_data_temp[i+steps])\n",
        "X_test=np.array(X_test)\n",
        "Y_test=np.array(Y_test)\n",
        "\n",
        "print(X_test.shape)\n",
        "print(Y_test.shape)"
      ],
      "execution_count": 67,
      "outputs": [
        {
          "output_type": "stream",
          "text": [
            "(1432, 30, 1)\n",
            "(1432, 1)\n"
          ],
          "name": "stdout"
        }
      ]
    },
    {
      "cell_type": "code",
      "metadata": {
        "id": "nEN5ZB4q0qLc",
        "colab": {
          "base_uri": "https://localhost:8080/"
        },
        "outputId": "93c89293-95e5-45d4-db5e-7808bdb00c88"
      },
      "source": [
        "X_test=np.array(X_test)\n",
        "Y_test=np.array(Y_test)\n",
        "\n",
        "print(X_test.shape)\n",
        "print(Y_test.shape)"
      ],
      "execution_count": 68,
      "outputs": [
        {
          "output_type": "stream",
          "text": [
            "(1432, 30, 1)\n",
            "(1432, 1)\n"
          ],
          "name": "stdout"
        }
      ]
    },
    {
      "cell_type": "code",
      "metadata": {
        "id": "OY8XGn680s_e"
      },
      "source": [
        "model2=models.load_model(\"Models/model1_ts.h5\")"
      ],
      "execution_count": 69,
      "outputs": []
    },
    {
      "cell_type": "code",
      "metadata": {
        "id": "DNHw0PgX0310",
        "colab": {
          "base_uri": "https://localhost:8080/"
        },
        "outputId": "2f01d49b-54ae-43c8-9c01-b0d74aa498ac"
      },
      "source": [
        "temp_ts=model2.predict(X_test)\n",
        "temp_ts=scaler.inverse_transform(temp_ts)\n",
        "temp_ts"
      ],
      "execution_count": 70,
      "outputs": [
        {
          "output_type": "execute_result",
          "data": {
            "text/plain": [
              "array([[16.910427],\n",
              "       [17.126644],\n",
              "       [16.53031 ],\n",
              "       ...,\n",
              "       [14.78222 ],\n",
              "       [15.143902],\n",
              "       [14.045676]], dtype=float32)"
            ]
          },
          "metadata": {
            "tags": []
          },
          "execution_count": 70
        }
      ]
    },
    {
      "cell_type": "code",
      "metadata": {
        "id": "V0Ol1xgk079n",
        "colab": {
          "base_uri": "https://localhost:8080/"
        },
        "outputId": "a1aecaae-bd77-4eee-9b5d-cd0334bf640b"
      },
      "source": [
        "temp_f=(temp_ts+temp_rs)/2\n",
        "temp_f"
      ],
      "execution_count": 71,
      "outputs": [
        {
          "output_type": "execute_result",
          "data": {
            "text/plain": [
              "array([[15.171482],\n",
              "       [15.669224],\n",
              "       [16.282404],\n",
              "       ...,\n",
              "       [14.960651],\n",
              "       [12.875355],\n",
              "       [11.624125]], dtype=float32)"
            ]
          },
          "metadata": {
            "tags": []
          },
          "execution_count": 71
        }
      ]
    },
    {
      "cell_type": "code",
      "metadata": {
        "id": "i5yiVrIj1RTO"
      },
      "source": [
        "Y_test_inv=scaler.inverse_transform(Y_test)"
      ],
      "execution_count": 72,
      "outputs": []
    },
    {
      "cell_type": "code",
      "metadata": {
        "id": "tzbbf2-91Vwl",
        "colab": {
          "base_uri": "https://localhost:8080/",
          "height": 534
        },
        "outputId": "12bb81d3-b901-48b1-ff44-0d20df227fb6"
      },
      "source": [
        "# Y_test_inv=Y_test_inv[:200]\n",
        "# temp_f=temp_f[:200]\n",
        "import matplotlib.pyplot as plt\n",
        "plt.figure(figsize=(20,9))\n",
        "plt.plot(Y_test_inv , 'red', linewidth=5)\n",
        "plt.plot(temp_f,'blue' , linewidth=4)\n",
        "plt.xlabel(\"Time\", fontsize=20)\n",
        "plt.ylabel(\"Temperature (C)\", fontsize=20)\n",
        "plt.legend(('Test','Predicted'))\n",
        "plt.show()"
      ],
      "execution_count": 73,
      "outputs": [
        {
          "output_type": "display_data",
          "data": {
            "image/png": "[encoded data removed]",
            "text/plain": [
              "<Figure size 1440x648 with 1 Axes>"
            ]
          },
          "metadata": {
            "tags": [],
            "needs_background": "light"
          }
        }
      ]
    },
    {
      "cell_type": "code",
      "metadata": {
        "id": "cGaFsitK1YhE"
      },
      "source": [
        "from sklearn.metrics import mean_squared_error, mean_absolute_error,accuracy_score"
      ],
      "execution_count": 74,
      "outputs": []
    },
    {
      "cell_type": "code",
      "metadata": {
        "colab": {
          "base_uri": "https://localhost:8080/"
        },
        "id": "zDuEce25879Q",
        "outputId": "63280ed5-ba0a-46b2-d8e2-f42d9cabf1c1"
      },
      "source": [
        "Y_test_inv"
      ],
      "execution_count": 75,
      "outputs": [
        {
          "output_type": "execute_result",
          "data": {
            "text/plain": [
              "array([[16.2       ],\n",
              "       [16.        ],\n",
              "       [16.28571429],\n",
              "       ...,\n",
              "       [14.0952381 ],\n",
              "       [15.05263158],\n",
              "       [10.        ]])"
            ]
          },
          "metadata": {
            "tags": []
          },
          "execution_count": 75
        }
      ]
    },
    {
      "cell_type": "code",
      "metadata": {
        "colab": {
          "base_uri": "https://localhost:8080/"
        },
        "id": "FHzm8tMo8-pv",
        "outputId": "15309493-b522-4062-8efb-074bf7563790"
      },
      "source": [
        "temp_f"
      ],
      "execution_count": 76,
      "outputs": [
        {
          "output_type": "execute_result",
          "data": {
            "text/plain": [
              "array([[15.171482],\n",
              "       [15.669224],\n",
              "       [16.282404],\n",
              "       ...,\n",
              "       [14.960651],\n",
              "       [12.875355],\n",
              "       [11.624125]], dtype=float32)"
            ]
          },
          "metadata": {
            "tags": []
          },
          "execution_count": 76
        }
      ]
    },
    {
      "cell_type": "code",
      "metadata": {
        "id": "lFIsT4sW1rCE",
        "colab": {
          "base_uri": "https://localhost:8080/"
        },
        "outputId": "24e52b5c-a754-4c79-ecef-f0d556f9d683"
      },
      "source": [
        "mse=mean_squared_error(Y_test_inv,temp_f)\n",
        "mae=mean_absolute_error(Y_test_inv,temp_f)\n",
        "print(f'{mse} {mae} {metrics.r2_score(Y_test_inv,temp_f)}')"
      ],
      "execution_count": 81,
      "outputs": [
        {
          "output_type": "stream",
          "text": [
            "6.704085983755391 2.0985046879815497 0.8684748032493032\n"
          ],
          "name": "stdout"
        }
      ]
    },
    {
      "cell_type": "code",
      "metadata": {
        "id": "48WIF1zJ1wWW",
        "colab": {
          "base_uri": "https://localhost:8080/"
        },
        "outputId": "21fe2fcc-ab90-4bdf-a35d-c2556013e123"
      },
      "source": [
        "from sklearn import metrics\n",
        "mse=mean_squared_error(Y_test_inv,temp_rs)\n",
        "mae=mean_absolute_error(Y_test_inv,temp_rs)\n",
        "print(f'{mse} {mae} {metrics.r2_score(Y_test_inv,temp_rs)}')"
      ],
      "execution_count": 80,
      "outputs": [
        {
          "output_type": "stream",
          "text": [
            "20.563218293927353 3.64060707774925 0.5965771712221817\n"
          ],
          "name": "stdout"
        }
      ]
    },
    {
      "cell_type": "code",
      "metadata": {
        "id": "4RVew6td13wJ",
        "colab": {
          "base_uri": "https://localhost:8080/"
        },
        "outputId": "8a84dbf1-91df-4fa6-e099-ae2e35747ec4"
      },
      "source": [
        "mse=mean_squared_error(Y_test_inv,temp_ts)\n",
        "mae=mean_absolute_error(Y_test_inv,temp_ts)\n",
        "print(f'{mse} {mae} {metrics.r2_score(Y_test_inv,temp_ts)}')"
      ],
      "execution_count": 147,
      "outputs": [
        {
          "output_type": "stream",
          "text": [
            "4.798618353708427 1.7167213752096082 0.8618039760821435\n"
          ],
          "name": "stdout"
        }
      ]
    },
    {
      "cell_type": "code",
      "metadata": {
        "id": "3TTQeMdE16Rm",
        "colab": {
          "base_uri": "https://localhost:8080/",
          "height": 560
        },
        "outputId": "1cccf9a3-464b-48c9-dd59-200fea33f763"
      },
      "source": [
        "import matplotlib.pyplot as plt\n",
        "plt.figure(figsize=(10,9))\n",
        "plt.plot(Y_test_inv , 'red', linewidth=5)\n",
        "plt.plot(temp_ts,'blue' , linewidth=4)\n",
        "# plt.plot(temp_rs , 'black', linewidth=5)\n",
        "plt.xlabel(\"Time\", fontsize=20)\n",
        "plt.ylabel(\"Temperature (C)\", fontsize=20)\n",
        "plt.legend(('Test','RNN','Regression'))\n",
        "plt.show()"
      ],
      "execution_count": 145,
      "outputs": [
        {
          "output_type": "display_data",
          "data": {
            "image/png": "[encoded data removed]",
            "text/plain": [
              "<Figure size 720x648 with 1 Axes>"
            ]
          },
          "metadata": {
            "tags": [],
            "needs_background": "light"
          }
        }
      ]
    },
    {
      "cell_type": "code",
      "metadata": {
        "id": "pjh76jud3jA3",
        "colab": {
          "base_uri": "https://localhost:8080/"
        },
        "outputId": "ff2d586f-90fc-4516-89da-5e419ad1fd42"
      },
      "source": [
        "from sklearn import metrics\n",
        "metrics.r2_score(Y_test_inv,temp_f)"
      ],
      "execution_count": 148,
      "outputs": [
        {
          "output_type": "execute_result",
          "data": {
            "text/plain": [
              "0.13656428248553143"
            ]
          },
          "metadata": {
            "tags": []
          },
          "execution_count": 148
        }
      ]
    },
    {
      "cell_type": "code",
      "metadata": {
        "id": "mJqLytvN8f9F"
      },
      "source": [
        ""
      ],
      "execution_count": 146,
      "outputs": []
    }
  ]
}