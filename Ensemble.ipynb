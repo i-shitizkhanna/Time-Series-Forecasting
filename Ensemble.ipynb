{
  "nbformat": 4,
  "nbformat_minor": 0,
  "metadata": {
    "colab": {
      "name": "Ensemble.ipynb",
      "provenance": []
    },
    "kernelspec": {
      "name": "python3",
      "display_name": "Python 3"
    }
  },
  "cells": [
    {
      "cell_type": "code",
      "metadata": {
        "id": "6Vpo1LjDukFd"
      },
      "source": [
        "from tensorflow.keras import models\n",
        "import pandas as pd\n",
        "import numpy as np"
      ],
      "execution_count": 2,
      "outputs": []
    },
    {
      "cell_type": "code",
      "metadata": {
        "id": "s5GZ-ch9umdW"
      },
      "source": [
        "model1=models.load_model(\"Models/model2_R.h5\")"
      ],
      "execution_count": 3,
      "outputs": []
    },
    {
      "cell_type": "code",
      "metadata": {
        "id": "FnHHGL9wwDux",
        "colab": {
          "base_uri": "https://localhost:8080/",
          "height": 402
        },
        "outputId": "4f6738b0-66f5-4875-ee40-049f9157f9d5"
      },
      "source": [
        "test=pd.read_csv(\"DailyDelhiClimateTrain.csv\")\n",
        "test"
      ],
      "execution_count": 4,
      "outputs": [
        {
          "output_type": "execute_result",
          "data": {
            "text/html": [
              "<div>\n",
              "<style scoped>\n",
              "    .dataframe tbody tr th:only-of-type {\n",
              "        vertical-align: middle;\n",
              "    }\n",
              "\n",
              "    .dataframe tbody tr th {\n",
              "        vertical-align: top;\n",
              "    }\n",
              "\n",
              "    .dataframe thead th {\n",
              "        text-align: right;\n",
              "    }\n",
              "</style>\n",
              "<table border=\"1\" class=\"dataframe\">\n",
              "  <thead>\n",
              "    <tr style=\"text-align: right;\">\n",
              "      <th></th>\n",
              "      <th>date</th>\n",
              "      <th>meantemp</th>\n",
              "      <th>humidity</th>\n",
              "      <th>wind_speed</th>\n",
              "      <th>meanpressure</th>\n",
              "    </tr>\n",
              "  </thead>\n",
              "  <tbody>\n",
              "    <tr>\n",
              "      <th>0</th>\n",
              "      <td>2013-01-01</td>\n",
              "      <td>10.000000</td>\n",
              "      <td>84.500000</td>\n",
              "      <td>0.000000</td>\n",
              "      <td>1015.666667</td>\n",
              "    </tr>\n",
              "    <tr>\n",
              "      <th>1</th>\n",
              "      <td>2013-01-02</td>\n",
              "      <td>7.400000</td>\n",
              "      <td>92.000000</td>\n",
              "      <td>2.980000</td>\n",
              "      <td>1017.800000</td>\n",
              "    </tr>\n",
              "    <tr>\n",
              "      <th>2</th>\n",
              "      <td>2013-01-03</td>\n",
              "      <td>7.166667</td>\n",
              "      <td>87.000000</td>\n",
              "      <td>4.633333</td>\n",
              "      <td>1018.666667</td>\n",
              "    </tr>\n",
              "    <tr>\n",
              "      <th>3</th>\n",
              "      <td>2013-01-04</td>\n",
              "      <td>8.666667</td>\n",
              "      <td>71.333333</td>\n",
              "      <td>1.233333</td>\n",
              "      <td>1017.166667</td>\n",
              "    </tr>\n",
              "    <tr>\n",
              "      <th>4</th>\n",
              "      <td>2013-01-05</td>\n",
              "      <td>6.000000</td>\n",
              "      <td>86.833333</td>\n",
              "      <td>3.700000</td>\n",
              "      <td>1016.500000</td>\n",
              "    </tr>\n",
              "    <tr>\n",
              "      <th>...</th>\n",
              "      <td>...</td>\n",
              "      <td>...</td>\n",
              "      <td>...</td>\n",
              "      <td>...</td>\n",
              "      <td>...</td>\n",
              "    </tr>\n",
              "    <tr>\n",
              "      <th>1457</th>\n",
              "      <td>2016-12-28</td>\n",
              "      <td>17.217391</td>\n",
              "      <td>68.043478</td>\n",
              "      <td>3.547826</td>\n",
              "      <td>1015.565217</td>\n",
              "    </tr>\n",
              "    <tr>\n",
              "      <th>1458</th>\n",
              "      <td>2016-12-29</td>\n",
              "      <td>15.238095</td>\n",
              "      <td>87.857143</td>\n",
              "      <td>6.000000</td>\n",
              "      <td>1016.904762</td>\n",
              "    </tr>\n",
              "    <tr>\n",
              "      <th>1459</th>\n",
              "      <td>2016-12-30</td>\n",
              "      <td>14.095238</td>\n",
              "      <td>89.666667</td>\n",
              "      <td>6.266667</td>\n",
              "      <td>1017.904762</td>\n",
              "    </tr>\n",
              "    <tr>\n",
              "      <th>1460</th>\n",
              "      <td>2016-12-31</td>\n",
              "      <td>15.052632</td>\n",
              "      <td>87.000000</td>\n",
              "      <td>7.325000</td>\n",
              "      <td>1016.100000</td>\n",
              "    </tr>\n",
              "    <tr>\n",
              "      <th>1461</th>\n",
              "      <td>2017-01-01</td>\n",
              "      <td>10.000000</td>\n",
              "      <td>100.000000</td>\n",
              "      <td>0.000000</td>\n",
              "      <td>1016.000000</td>\n",
              "    </tr>\n",
              "  </tbody>\n",
              "</table>\n",
              "<p>1462 rows × 5 columns</p>\n",
              "</div>"
            ],
            "text/plain": [
              "            date   meantemp    humidity  wind_speed  meanpressure\n",
              "0     2013-01-01  10.000000   84.500000    0.000000   1015.666667\n",
              "1     2013-01-02   7.400000   92.000000    2.980000   1017.800000\n",
              "2     2013-01-03   7.166667   87.000000    4.633333   1018.666667\n",
              "3     2013-01-04   8.666667   71.333333    1.233333   1017.166667\n",
              "4     2013-01-05   6.000000   86.833333    3.700000   1016.500000\n",
              "...          ...        ...         ...         ...           ...\n",
              "1457  2016-12-28  17.217391   68.043478    3.547826   1015.565217\n",
              "1458  2016-12-29  15.238095   87.857143    6.000000   1016.904762\n",
              "1459  2016-12-30  14.095238   89.666667    6.266667   1017.904762\n",
              "1460  2016-12-31  15.052632   87.000000    7.325000   1016.100000\n",
              "1461  2017-01-01  10.000000  100.000000    0.000000   1016.000000\n",
              "\n",
              "[1462 rows x 5 columns]"
            ]
          },
          "metadata": {
            "tags": []
          },
          "execution_count": 4
        }
      ]
    },
    {
      "cell_type": "code",
      "metadata": {
        "id": "U1KSRivCw-aR",
        "colab": {
          "base_uri": "https://localhost:8080/"
        },
        "outputId": "f8ef9144-d8e7-4ed2-d6db-c3f95ea45cf9"
      },
      "source": [
        "test.isnull().sum()"
      ],
      "execution_count": 5,
      "outputs": [
        {
          "output_type": "execute_result",
          "data": {
            "text/plain": [
              "date            0\n",
              "meantemp        0\n",
              "humidity        0\n",
              "wind_speed      0\n",
              "meanpressure    0\n",
              "dtype: int64"
            ]
          },
          "metadata": {
            "tags": []
          },
          "execution_count": 5
        }
      ]
    },
    {
      "cell_type": "code",
      "metadata": {
        "id": "9tRScxk3xsdr",
        "colab": {
          "base_uri": "https://localhost:8080/",
          "height": 431
        },
        "outputId": "c946222f-b0ca-4f8b-8181-87a341fca2a7"
      },
      "source": [
        "test[\"date\"]=pd.to_datetime(test[\"date\"])\n",
        "test.set_index(\"date\",inplace=True)\n",
        "test"
      ],
      "execution_count": 6,
      "outputs": [
        {
          "output_type": "execute_result",
          "data": {
            "text/html": [
              "<div>\n",
              "<style scoped>\n",
              "    .dataframe tbody tr th:only-of-type {\n",
              "        vertical-align: middle;\n",
              "    }\n",
              "\n",
              "    .dataframe tbody tr th {\n",
              "        vertical-align: top;\n",
              "    }\n",
              "\n",
              "    .dataframe thead th {\n",
              "        text-align: right;\n",
              "    }\n",
              "</style>\n",
              "<table border=\"1\" class=\"dataframe\">\n",
              "  <thead>\n",
              "    <tr style=\"text-align: right;\">\n",
              "      <th></th>\n",
              "      <th>meantemp</th>\n",
              "      <th>humidity</th>\n",
              "      <th>wind_speed</th>\n",
              "      <th>meanpressure</th>\n",
              "    </tr>\n",
              "    <tr>\n",
              "      <th>date</th>\n",
              "      <th></th>\n",
              "      <th></th>\n",
              "      <th></th>\n",
              "      <th></th>\n",
              "    </tr>\n",
              "  </thead>\n",
              "  <tbody>\n",
              "    <tr>\n",
              "      <th>2013-01-01</th>\n",
              "      <td>10.000000</td>\n",
              "      <td>84.500000</td>\n",
              "      <td>0.000000</td>\n",
              "      <td>1015.666667</td>\n",
              "    </tr>\n",
              "    <tr>\n",
              "      <th>2013-01-02</th>\n",
              "      <td>7.400000</td>\n",
              "      <td>92.000000</td>\n",
              "      <td>2.980000</td>\n",
              "      <td>1017.800000</td>\n",
              "    </tr>\n",
              "    <tr>\n",
              "      <th>2013-01-03</th>\n",
              "      <td>7.166667</td>\n",
              "      <td>87.000000</td>\n",
              "      <td>4.633333</td>\n",
              "      <td>1018.666667</td>\n",
              "    </tr>\n",
              "    <tr>\n",
              "      <th>2013-01-04</th>\n",
              "      <td>8.666667</td>\n",
              "      <td>71.333333</td>\n",
              "      <td>1.233333</td>\n",
              "      <td>1017.166667</td>\n",
              "    </tr>\n",
              "    <tr>\n",
              "      <th>2013-01-05</th>\n",
              "      <td>6.000000</td>\n",
              "      <td>86.833333</td>\n",
              "      <td>3.700000</td>\n",
              "      <td>1016.500000</td>\n",
              "    </tr>\n",
              "    <tr>\n",
              "      <th>...</th>\n",
              "      <td>...</td>\n",
              "      <td>...</td>\n",
              "      <td>...</td>\n",
              "      <td>...</td>\n",
              "    </tr>\n",
              "    <tr>\n",
              "      <th>2016-12-28</th>\n",
              "      <td>17.217391</td>\n",
              "      <td>68.043478</td>\n",
              "      <td>3.547826</td>\n",
              "      <td>1015.565217</td>\n",
              "    </tr>\n",
              "    <tr>\n",
              "      <th>2016-12-29</th>\n",
              "      <td>15.238095</td>\n",
              "      <td>87.857143</td>\n",
              "      <td>6.000000</td>\n",
              "      <td>1016.904762</td>\n",
              "    </tr>\n",
              "    <tr>\n",
              "      <th>2016-12-30</th>\n",
              "      <td>14.095238</td>\n",
              "      <td>89.666667</td>\n",
              "      <td>6.266667</td>\n",
              "      <td>1017.904762</td>\n",
              "    </tr>\n",
              "    <tr>\n",
              "      <th>2016-12-31</th>\n",
              "      <td>15.052632</td>\n",
              "      <td>87.000000</td>\n",
              "      <td>7.325000</td>\n",
              "      <td>1016.100000</td>\n",
              "    </tr>\n",
              "    <tr>\n",
              "      <th>2017-01-01</th>\n",
              "      <td>10.000000</td>\n",
              "      <td>100.000000</td>\n",
              "      <td>0.000000</td>\n",
              "      <td>1016.000000</td>\n",
              "    </tr>\n",
              "  </tbody>\n",
              "</table>\n",
              "<p>1462 rows × 4 columns</p>\n",
              "</div>"
            ],
            "text/plain": [
              "             meantemp    humidity  wind_speed  meanpressure\n",
              "date                                                       \n",
              "2013-01-01  10.000000   84.500000    0.000000   1015.666667\n",
              "2013-01-02   7.400000   92.000000    2.980000   1017.800000\n",
              "2013-01-03   7.166667   87.000000    4.633333   1018.666667\n",
              "2013-01-04   8.666667   71.333333    1.233333   1017.166667\n",
              "2013-01-05   6.000000   86.833333    3.700000   1016.500000\n",
              "...               ...         ...         ...           ...\n",
              "2016-12-28  17.217391   68.043478    3.547826   1015.565217\n",
              "2016-12-29  15.238095   87.857143    6.000000   1016.904762\n",
              "2016-12-30  14.095238   89.666667    6.266667   1017.904762\n",
              "2016-12-31  15.052632   87.000000    7.325000   1016.100000\n",
              "2017-01-01  10.000000  100.000000    0.000000   1016.000000\n",
              "\n",
              "[1462 rows x 4 columns]"
            ]
          },
          "metadata": {
            "tags": []
          },
          "execution_count": 6
        }
      ]
    },
    {
      "cell_type": "code",
      "metadata": {
        "id": "y7XDocf6yjyB"
      },
      "source": [
        "def extract_year(value):\n",
        "  value=value.strftime('%Y-%m-%d')\n",
        "  return (value[0:4])"
      ],
      "execution_count": 7,
      "outputs": []
    },
    {
      "cell_type": "code",
      "metadata": {
        "id": "49JYXvpoyusp"
      },
      "source": [
        "def extract_month(value):\n",
        "    value=value.strftime('%Y-%m-%d')\n",
        "    return (value[4:6])"
      ],
      "execution_count": 8,
      "outputs": []
    },
    {
      "cell_type": "code",
      "metadata": {
        "id": "Zi1uwYqwywgc"
      },
      "source": [
        "def extract_date(value):\n",
        "    value=value.strftime('%Y-%m-%d')\n",
        "    return (value[6:8])"
      ],
      "execution_count": 9,
      "outputs": []
    },
    {
      "cell_type": "code",
      "metadata": {
        "id": "PZ5JUecwyyYQ"
      },
      "source": [
        "test.reset_index(inplace=True)"
      ],
      "execution_count": 10,
      "outputs": []
    },
    {
      "cell_type": "code",
      "metadata": {
        "id": "WIwkaBDMy1y3"
      },
      "source": [
        "test['day'] = test['date'].dt.day\n",
        "test['month'] = test['date'].dt.month\n",
        "test['year'] = test['date'].dt.year"
      ],
      "execution_count": 11,
      "outputs": []
    },
    {
      "cell_type": "code",
      "metadata": {
        "id": "wld1lQ4ezAGc"
      },
      "source": [
        "test\n",
        "temp=test.drop([\"wind_speed\"],axis=1)\n",
        "temp=temp.append(test[\"wind_speed\"])\n",
        "# temp"
      ],
      "execution_count": 12,
      "outputs": []
    },
    {
      "cell_type": "code",
      "metadata": {
        "id": "9SB8MxlXzB2z",
        "colab": {
          "base_uri": "https://localhost:8080/"
        },
        "outputId": "24939687-7b2d-4c3d-856d-4cbd652352dc"
      },
      "source": [
        "test.isnull().sum()"
      ],
      "execution_count": 13,
      "outputs": [
        {
          "output_type": "execute_result",
          "data": {
            "text/plain": [
              "date            0\n",
              "meantemp        0\n",
              "humidity        0\n",
              "wind_speed      0\n",
              "meanpressure    0\n",
              "day             0\n",
              "month           0\n",
              "year            0\n",
              "dtype: int64"
            ]
          },
          "metadata": {
            "tags": []
          },
          "execution_count": 13
        }
      ]
    },
    {
      "cell_type": "code",
      "metadata": {
        "id": "sKfd4rqAzHyJ",
        "colab": {
          "base_uri": "https://localhost:8080/",
          "height": 402
        },
        "outputId": "1c1ee7fd-bc9b-430c-90c7-ec346dccdf14"
      },
      "source": [
        "test=test.drop([\"date\"],axis=1)\n",
        "test"
      ],
      "execution_count": 14,
      "outputs": [
        {
          "output_type": "execute_result",
          "data": {
            "text/html": [
              "<div>\n",
              "<style scoped>\n",
              "    .dataframe tbody tr th:only-of-type {\n",
              "        vertical-align: middle;\n",
              "    }\n",
              "\n",
              "    .dataframe tbody tr th {\n",
              "        vertical-align: top;\n",
              "    }\n",
              "\n",
              "    .dataframe thead th {\n",
              "        text-align: right;\n",
              "    }\n",
              "</style>\n",
              "<table border=\"1\" class=\"dataframe\">\n",
              "  <thead>\n",
              "    <tr style=\"text-align: right;\">\n",
              "      <th></th>\n",
              "      <th>meantemp</th>\n",
              "      <th>humidity</th>\n",
              "      <th>wind_speed</th>\n",
              "      <th>meanpressure</th>\n",
              "      <th>day</th>\n",
              "      <th>month</th>\n",
              "      <th>year</th>\n",
              "    </tr>\n",
              "  </thead>\n",
              "  <tbody>\n",
              "    <tr>\n",
              "      <th>0</th>\n",
              "      <td>10.000000</td>\n",
              "      <td>84.500000</td>\n",
              "      <td>0.000000</td>\n",
              "      <td>1015.666667</td>\n",
              "      <td>1</td>\n",
              "      <td>1</td>\n",
              "      <td>2013</td>\n",
              "    </tr>\n",
              "    <tr>\n",
              "      <th>1</th>\n",
              "      <td>7.400000</td>\n",
              "      <td>92.000000</td>\n",
              "      <td>2.980000</td>\n",
              "      <td>1017.800000</td>\n",
              "      <td>2</td>\n",
              "      <td>1</td>\n",
              "      <td>2013</td>\n",
              "    </tr>\n",
              "    <tr>\n",
              "      <th>2</th>\n",
              "      <td>7.166667</td>\n",
              "      <td>87.000000</td>\n",
              "      <td>4.633333</td>\n",
              "      <td>1018.666667</td>\n",
              "      <td>3</td>\n",
              "      <td>1</td>\n",
              "      <td>2013</td>\n",
              "    </tr>\n",
              "    <tr>\n",
              "      <th>3</th>\n",
              "      <td>8.666667</td>\n",
              "      <td>71.333333</td>\n",
              "      <td>1.233333</td>\n",
              "      <td>1017.166667</td>\n",
              "      <td>4</td>\n",
              "      <td>1</td>\n",
              "      <td>2013</td>\n",
              "    </tr>\n",
              "    <tr>\n",
              "      <th>4</th>\n",
              "      <td>6.000000</td>\n",
              "      <td>86.833333</td>\n",
              "      <td>3.700000</td>\n",
              "      <td>1016.500000</td>\n",
              "      <td>5</td>\n",
              "      <td>1</td>\n",
              "      <td>2013</td>\n",
              "    </tr>\n",
              "    <tr>\n",
              "      <th>...</th>\n",
              "      <td>...</td>\n",
              "      <td>...</td>\n",
              "      <td>...</td>\n",
              "      <td>...</td>\n",
              "      <td>...</td>\n",
              "      <td>...</td>\n",
              "      <td>...</td>\n",
              "    </tr>\n",
              "    <tr>\n",
              "      <th>1457</th>\n",
              "      <td>17.217391</td>\n",
              "      <td>68.043478</td>\n",
              "      <td>3.547826</td>\n",
              "      <td>1015.565217</td>\n",
              "      <td>28</td>\n",
              "      <td>12</td>\n",
              "      <td>2016</td>\n",
              "    </tr>\n",
              "    <tr>\n",
              "      <th>1458</th>\n",
              "      <td>15.238095</td>\n",
              "      <td>87.857143</td>\n",
              "      <td>6.000000</td>\n",
              "      <td>1016.904762</td>\n",
              "      <td>29</td>\n",
              "      <td>12</td>\n",
              "      <td>2016</td>\n",
              "    </tr>\n",
              "    <tr>\n",
              "      <th>1459</th>\n",
              "      <td>14.095238</td>\n",
              "      <td>89.666667</td>\n",
              "      <td>6.266667</td>\n",
              "      <td>1017.904762</td>\n",
              "      <td>30</td>\n",
              "      <td>12</td>\n",
              "      <td>2016</td>\n",
              "    </tr>\n",
              "    <tr>\n",
              "      <th>1460</th>\n",
              "      <td>15.052632</td>\n",
              "      <td>87.000000</td>\n",
              "      <td>7.325000</td>\n",
              "      <td>1016.100000</td>\n",
              "      <td>31</td>\n",
              "      <td>12</td>\n",
              "      <td>2016</td>\n",
              "    </tr>\n",
              "    <tr>\n",
              "      <th>1461</th>\n",
              "      <td>10.000000</td>\n",
              "      <td>100.000000</td>\n",
              "      <td>0.000000</td>\n",
              "      <td>1016.000000</td>\n",
              "      <td>1</td>\n",
              "      <td>1</td>\n",
              "      <td>2017</td>\n",
              "    </tr>\n",
              "  </tbody>\n",
              "</table>\n",
              "<p>1462 rows × 7 columns</p>\n",
              "</div>"
            ],
            "text/plain": [
              "       meantemp    humidity  wind_speed  meanpressure  day  month  year\n",
              "0     10.000000   84.500000    0.000000   1015.666667    1      1  2013\n",
              "1      7.400000   92.000000    2.980000   1017.800000    2      1  2013\n",
              "2      7.166667   87.000000    4.633333   1018.666667    3      1  2013\n",
              "3      8.666667   71.333333    1.233333   1017.166667    4      1  2013\n",
              "4      6.000000   86.833333    3.700000   1016.500000    5      1  2013\n",
              "...         ...         ...         ...           ...  ...    ...   ...\n",
              "1457  17.217391   68.043478    3.547826   1015.565217   28     12  2016\n",
              "1458  15.238095   87.857143    6.000000   1016.904762   29     12  2016\n",
              "1459  14.095238   89.666667    6.266667   1017.904762   30     12  2016\n",
              "1460  15.052632   87.000000    7.325000   1016.100000   31     12  2016\n",
              "1461  10.000000  100.000000    0.000000   1016.000000    1      1  2017\n",
              "\n",
              "[1462 rows x 7 columns]"
            ]
          },
          "metadata": {
            "tags": []
          },
          "execution_count": 14
        }
      ]
    },
    {
      "cell_type": "code",
      "metadata": {
        "colab": {
          "base_uri": "https://localhost:8080/",
          "height": 402
        },
        "id": "W0i16pkvjH3n",
        "outputId": "02bfbe1b-19a7-4f35-c165-86e767fdb919"
      },
      "source": [
        "X_part=test.drop([\"meantemp\"],axis=1)\n",
        "X_part=X_part[['humidity','meanpressure','wind_speed','day','month','year']]\n",
        "X_part"
      ],
      "execution_count": 15,
      "outputs": [
        {
          "output_type": "execute_result",
          "data": {
            "text/html": [
              "<div>\n",
              "<style scoped>\n",
              "    .dataframe tbody tr th:only-of-type {\n",
              "        vertical-align: middle;\n",
              "    }\n",
              "\n",
              "    .dataframe tbody tr th {\n",
              "        vertical-align: top;\n",
              "    }\n",
              "\n",
              "    .dataframe thead th {\n",
              "        text-align: right;\n",
              "    }\n",
              "</style>\n",
              "<table border=\"1\" class=\"dataframe\">\n",
              "  <thead>\n",
              "    <tr style=\"text-align: right;\">\n",
              "      <th></th>\n",
              "      <th>humidity</th>\n",
              "      <th>meanpressure</th>\n",
              "      <th>wind_speed</th>\n",
              "      <th>day</th>\n",
              "      <th>month</th>\n",
              "      <th>year</th>\n",
              "    </tr>\n",
              "  </thead>\n",
              "  <tbody>\n",
              "    <tr>\n",
              "      <th>0</th>\n",
              "      <td>84.500000</td>\n",
              "      <td>1015.666667</td>\n",
              "      <td>0.000000</td>\n",
              "      <td>1</td>\n",
              "      <td>1</td>\n",
              "      <td>2013</td>\n",
              "    </tr>\n",
              "    <tr>\n",
              "      <th>1</th>\n",
              "      <td>92.000000</td>\n",
              "      <td>1017.800000</td>\n",
              "      <td>2.980000</td>\n",
              "      <td>2</td>\n",
              "      <td>1</td>\n",
              "      <td>2013</td>\n",
              "    </tr>\n",
              "    <tr>\n",
              "      <th>2</th>\n",
              "      <td>87.000000</td>\n",
              "      <td>1018.666667</td>\n",
              "      <td>4.633333</td>\n",
              "      <td>3</td>\n",
              "      <td>1</td>\n",
              "      <td>2013</td>\n",
              "    </tr>\n",
              "    <tr>\n",
              "      <th>3</th>\n",
              "      <td>71.333333</td>\n",
              "      <td>1017.166667</td>\n",
              "      <td>1.233333</td>\n",
              "      <td>4</td>\n",
              "      <td>1</td>\n",
              "      <td>2013</td>\n",
              "    </tr>\n",
              "    <tr>\n",
              "      <th>4</th>\n",
              "      <td>86.833333</td>\n",
              "      <td>1016.500000</td>\n",
              "      <td>3.700000</td>\n",
              "      <td>5</td>\n",
              "      <td>1</td>\n",
              "      <td>2013</td>\n",
              "    </tr>\n",
              "    <tr>\n",
              "      <th>...</th>\n",
              "      <td>...</td>\n",
              "      <td>...</td>\n",
              "      <td>...</td>\n",
              "      <td>...</td>\n",
              "      <td>...</td>\n",
              "      <td>...</td>\n",
              "    </tr>\n",
              "    <tr>\n",
              "      <th>1457</th>\n",
              "      <td>68.043478</td>\n",
              "      <td>1015.565217</td>\n",
              "      <td>3.547826</td>\n",
              "      <td>28</td>\n",
              "      <td>12</td>\n",
              "      <td>2016</td>\n",
              "    </tr>\n",
              "    <tr>\n",
              "      <th>1458</th>\n",
              "      <td>87.857143</td>\n",
              "      <td>1016.904762</td>\n",
              "      <td>6.000000</td>\n",
              "      <td>29</td>\n",
              "      <td>12</td>\n",
              "      <td>2016</td>\n",
              "    </tr>\n",
              "    <tr>\n",
              "      <th>1459</th>\n",
              "      <td>89.666667</td>\n",
              "      <td>1017.904762</td>\n",
              "      <td>6.266667</td>\n",
              "      <td>30</td>\n",
              "      <td>12</td>\n",
              "      <td>2016</td>\n",
              "    </tr>\n",
              "    <tr>\n",
              "      <th>1460</th>\n",
              "      <td>87.000000</td>\n",
              "      <td>1016.100000</td>\n",
              "      <td>7.325000</td>\n",
              "      <td>31</td>\n",
              "      <td>12</td>\n",
              "      <td>2016</td>\n",
              "    </tr>\n",
              "    <tr>\n",
              "      <th>1461</th>\n",
              "      <td>100.000000</td>\n",
              "      <td>1016.000000</td>\n",
              "      <td>0.000000</td>\n",
              "      <td>1</td>\n",
              "      <td>1</td>\n",
              "      <td>2017</td>\n",
              "    </tr>\n",
              "  </tbody>\n",
              "</table>\n",
              "<p>1462 rows × 6 columns</p>\n",
              "</div>"
            ],
            "text/plain": [
              "        humidity  meanpressure  wind_speed  day  month  year\n",
              "0      84.500000   1015.666667    0.000000    1      1  2013\n",
              "1      92.000000   1017.800000    2.980000    2      1  2013\n",
              "2      87.000000   1018.666667    4.633333    3      1  2013\n",
              "3      71.333333   1017.166667    1.233333    4      1  2013\n",
              "4      86.833333   1016.500000    3.700000    5      1  2013\n",
              "...          ...           ...         ...  ...    ...   ...\n",
              "1457   68.043478   1015.565217    3.547826   28     12  2016\n",
              "1458   87.857143   1016.904762    6.000000   29     12  2016\n",
              "1459   89.666667   1017.904762    6.266667   30     12  2016\n",
              "1460   87.000000   1016.100000    7.325000   31     12  2016\n",
              "1461  100.000000   1016.000000    0.000000    1      1  2017\n",
              "\n",
              "[1462 rows x 6 columns]"
            ]
          },
          "metadata": {
            "tags": []
          },
          "execution_count": 15
        }
      ]
    },
    {
      "cell_type": "code",
      "metadata": {
        "id": "06aRLPLDzP_6",
        "colab": {
          "base_uri": "https://localhost:8080/"
        },
        "outputId": "71ff7ecf-ac63-464a-dcd7-e7043167e5a8"
      },
      "source": [
        "Y_part=test[\"meantemp\"]\n",
        "X_part=np.array(X_part)\n",
        "Y_part=np.array(Y_part).reshape(-1,1)\n",
        "print(X_part.shape)\n",
        "print(Y_part.shape)"
      ],
      "execution_count": 16,
      "outputs": [
        {
          "output_type": "stream",
          "text": [
            "(1462, 6)\n",
            "(1462, 1)\n"
          ],
          "name": "stdout"
        }
      ]
    },
    {
      "cell_type": "code",
      "metadata": {
        "id": "WQoGBcswzYJj"
      },
      "source": [
        "from sklearn.preprocessing import LabelEncoder, MinMaxScaler"
      ],
      "execution_count": 17,
      "outputs": []
    },
    {
      "cell_type": "code",
      "metadata": {
        "id": "K7Jxtbxlzz5W"
      },
      "source": [
        "scaler2=MinMaxScaler(feature_range=[-1,1])\n",
        "X_part_scaled=scaler2.fit_transform(X_part)\n",
        "Y_part_scaled=scaler2.fit_transform(Y_part)"
      ],
      "execution_count": 18,
      "outputs": []
    },
    {
      "cell_type": "code",
      "metadata": {
        "id": "L4UJLMQ8zjpz",
        "colab": {
          "base_uri": "https://localhost:8080/"
        },
        "outputId": "ccfb13e8-be35-44e8-d256-71c35cdefb49"
      },
      "source": [
        "step=30\n",
        "input=[]\n",
        "output=[]\n",
        "for i in range(len(X_part_scaled)-(step)):\n",
        "    input.append(X_part_scaled[i:i+step])\n",
        "    output.append(Y_part_scaled[i+step])\n",
        " \n",
        "input=np.array(input)\n",
        "output=np.array(output)\n",
        "\n",
        "print(input.shape)\n",
        "print(output.shape)"
      ],
      "execution_count": 19,
      "outputs": [
        {
          "output_type": "stream",
          "text": [
            "(1432, 30, 6)\n",
            "(1432, 1)\n"
          ],
          "name": "stdout"
        }
      ]
    },
    {
      "cell_type": "code",
      "metadata": {
        "id": "idWYu_BSz3QT"
      },
      "source": [
        "temp_rs=model1.predict(input)"
      ],
      "execution_count": 20,
      "outputs": []
    },
    {
      "cell_type": "code",
      "metadata": {
        "id": "NKxu7ytfz-Rl",
        "colab": {
          "base_uri": "https://localhost:8080/"
        },
        "outputId": "abb8e31a-7c55-42f7-b1b6-9f4cd78c2d37"
      },
      "source": [
        "temp_rs=scaler2.inverse_transform(temp_rs)\n",
        "temp_rs"
      ],
      "execution_count": 21,
      "outputs": [
        {
          "output_type": "execute_result",
          "data": {
            "text/plain": [
              "array([[13.432537],\n",
              "       [14.211804],\n",
              "       [16.034498],\n",
              "       ...,\n",
              "       [15.139082],\n",
              "       [10.606809],\n",
              "       [ 9.202572]], dtype=float32)"
            ]
          },
          "metadata": {
            "tags": []
          },
          "execution_count": 21
        }
      ]
    },
    {
      "cell_type": "code",
      "metadata": {
        "id": "8yGXIrTg0E-y",
        "colab": {
          "base_uri": "https://localhost:8080/",
          "height": 402
        },
        "outputId": "eca5196c-e38d-4d61-c2d5-0c1394fbc719"
      },
      "source": [
        "test=pd.read_csv(\"DailyDelhiClimateTrain.csv\")\n",
        "test"
      ],
      "execution_count": 22,
      "outputs": [
        {
          "output_type": "execute_result",
          "data": {
            "text/html": [
              "<div>\n",
              "<style scoped>\n",
              "    .dataframe tbody tr th:only-of-type {\n",
              "        vertical-align: middle;\n",
              "    }\n",
              "\n",
              "    .dataframe tbody tr th {\n",
              "        vertical-align: top;\n",
              "    }\n",
              "\n",
              "    .dataframe thead th {\n",
              "        text-align: right;\n",
              "    }\n",
              "</style>\n",
              "<table border=\"1\" class=\"dataframe\">\n",
              "  <thead>\n",
              "    <tr style=\"text-align: right;\">\n",
              "      <th></th>\n",
              "      <th>date</th>\n",
              "      <th>meantemp</th>\n",
              "      <th>humidity</th>\n",
              "      <th>wind_speed</th>\n",
              "      <th>meanpressure</th>\n",
              "    </tr>\n",
              "  </thead>\n",
              "  <tbody>\n",
              "    <tr>\n",
              "      <th>0</th>\n",
              "      <td>2013-01-01</td>\n",
              "      <td>10.000000</td>\n",
              "      <td>84.500000</td>\n",
              "      <td>0.000000</td>\n",
              "      <td>1015.666667</td>\n",
              "    </tr>\n",
              "    <tr>\n",
              "      <th>1</th>\n",
              "      <td>2013-01-02</td>\n",
              "      <td>7.400000</td>\n",
              "      <td>92.000000</td>\n",
              "      <td>2.980000</td>\n",
              "      <td>1017.800000</td>\n",
              "    </tr>\n",
              "    <tr>\n",
              "      <th>2</th>\n",
              "      <td>2013-01-03</td>\n",
              "      <td>7.166667</td>\n",
              "      <td>87.000000</td>\n",
              "      <td>4.633333</td>\n",
              "      <td>1018.666667</td>\n",
              "    </tr>\n",
              "    <tr>\n",
              "      <th>3</th>\n",
              "      <td>2013-01-04</td>\n",
              "      <td>8.666667</td>\n",
              "      <td>71.333333</td>\n",
              "      <td>1.233333</td>\n",
              "      <td>1017.166667</td>\n",
              "    </tr>\n",
              "    <tr>\n",
              "      <th>4</th>\n",
              "      <td>2013-01-05</td>\n",
              "      <td>6.000000</td>\n",
              "      <td>86.833333</td>\n",
              "      <td>3.700000</td>\n",
              "      <td>1016.500000</td>\n",
              "    </tr>\n",
              "    <tr>\n",
              "      <th>...</th>\n",
              "      <td>...</td>\n",
              "      <td>...</td>\n",
              "      <td>...</td>\n",
              "      <td>...</td>\n",
              "      <td>...</td>\n",
              "    </tr>\n",
              "    <tr>\n",
              "      <th>1457</th>\n",
              "      <td>2016-12-28</td>\n",
              "      <td>17.217391</td>\n",
              "      <td>68.043478</td>\n",
              "      <td>3.547826</td>\n",
              "      <td>1015.565217</td>\n",
              "    </tr>\n",
              "    <tr>\n",
              "      <th>1458</th>\n",
              "      <td>2016-12-29</td>\n",
              "      <td>15.238095</td>\n",
              "      <td>87.857143</td>\n",
              "      <td>6.000000</td>\n",
              "      <td>1016.904762</td>\n",
              "    </tr>\n",
              "    <tr>\n",
              "      <th>1459</th>\n",
              "      <td>2016-12-30</td>\n",
              "      <td>14.095238</td>\n",
              "      <td>89.666667</td>\n",
              "      <td>6.266667</td>\n",
              "      <td>1017.904762</td>\n",
              "    </tr>\n",
              "    <tr>\n",
              "      <th>1460</th>\n",
              "      <td>2016-12-31</td>\n",
              "      <td>15.052632</td>\n",
              "      <td>87.000000</td>\n",
              "      <td>7.325000</td>\n",
              "      <td>1016.100000</td>\n",
              "    </tr>\n",
              "    <tr>\n",
              "      <th>1461</th>\n",
              "      <td>2017-01-01</td>\n",
              "      <td>10.000000</td>\n",
              "      <td>100.000000</td>\n",
              "      <td>0.000000</td>\n",
              "      <td>1016.000000</td>\n",
              "    </tr>\n",
              "  </tbody>\n",
              "</table>\n",
              "<p>1462 rows × 5 columns</p>\n",
              "</div>"
            ],
            "text/plain": [
              "            date   meantemp    humidity  wind_speed  meanpressure\n",
              "0     2013-01-01  10.000000   84.500000    0.000000   1015.666667\n",
              "1     2013-01-02   7.400000   92.000000    2.980000   1017.800000\n",
              "2     2013-01-03   7.166667   87.000000    4.633333   1018.666667\n",
              "3     2013-01-04   8.666667   71.333333    1.233333   1017.166667\n",
              "4     2013-01-05   6.000000   86.833333    3.700000   1016.500000\n",
              "...          ...        ...         ...         ...           ...\n",
              "1457  2016-12-28  17.217391   68.043478    3.547826   1015.565217\n",
              "1458  2016-12-29  15.238095   87.857143    6.000000   1016.904762\n",
              "1459  2016-12-30  14.095238   89.666667    6.266667   1017.904762\n",
              "1460  2016-12-31  15.052632   87.000000    7.325000   1016.100000\n",
              "1461  2017-01-01  10.000000  100.000000    0.000000   1016.000000\n",
              "\n",
              "[1462 rows x 5 columns]"
            ]
          },
          "metadata": {
            "tags": []
          },
          "execution_count": 22
        }
      ]
    },
    {
      "cell_type": "code",
      "metadata": {
        "id": "pjo6o8Ln0Xy2",
        "colab": {
          "base_uri": "https://localhost:8080/",
          "height": 431
        },
        "outputId": "b6b99a77-8dff-444d-b122-1e6dd473cec9"
      },
      "source": [
        "timeseries_test=test.copy()\n",
        "timeseries_test[\"date\"].dtype\n",
        "timeseries_test[\"date\"]=pd.to_datetime(timeseries_test[\"date\"])\n",
        "timeseries_test.set_index(\"date\",inplace=True)\n",
        "timeseries_test"
      ],
      "execution_count": 23,
      "outputs": [
        {
          "output_type": "execute_result",
          "data": {
            "text/html": [
              "<div>\n",
              "<style scoped>\n",
              "    .dataframe tbody tr th:only-of-type {\n",
              "        vertical-align: middle;\n",
              "    }\n",
              "\n",
              "    .dataframe tbody tr th {\n",
              "        vertical-align: top;\n",
              "    }\n",
              "\n",
              "    .dataframe thead th {\n",
              "        text-align: right;\n",
              "    }\n",
              "</style>\n",
              "<table border=\"1\" class=\"dataframe\">\n",
              "  <thead>\n",
              "    <tr style=\"text-align: right;\">\n",
              "      <th></th>\n",
              "      <th>meantemp</th>\n",
              "      <th>humidity</th>\n",
              "      <th>wind_speed</th>\n",
              "      <th>meanpressure</th>\n",
              "    </tr>\n",
              "    <tr>\n",
              "      <th>date</th>\n",
              "      <th></th>\n",
              "      <th></th>\n",
              "      <th></th>\n",
              "      <th></th>\n",
              "    </tr>\n",
              "  </thead>\n",
              "  <tbody>\n",
              "    <tr>\n",
              "      <th>2013-01-01</th>\n",
              "      <td>10.000000</td>\n",
              "      <td>84.500000</td>\n",
              "      <td>0.000000</td>\n",
              "      <td>1015.666667</td>\n",
              "    </tr>\n",
              "    <tr>\n",
              "      <th>2013-01-02</th>\n",
              "      <td>7.400000</td>\n",
              "      <td>92.000000</td>\n",
              "      <td>2.980000</td>\n",
              "      <td>1017.800000</td>\n",
              "    </tr>\n",
              "    <tr>\n",
              "      <th>2013-01-03</th>\n",
              "      <td>7.166667</td>\n",
              "      <td>87.000000</td>\n",
              "      <td>4.633333</td>\n",
              "      <td>1018.666667</td>\n",
              "    </tr>\n",
              "    <tr>\n",
              "      <th>2013-01-04</th>\n",
              "      <td>8.666667</td>\n",
              "      <td>71.333333</td>\n",
              "      <td>1.233333</td>\n",
              "      <td>1017.166667</td>\n",
              "    </tr>\n",
              "    <tr>\n",
              "      <th>2013-01-05</th>\n",
              "      <td>6.000000</td>\n",
              "      <td>86.833333</td>\n",
              "      <td>3.700000</td>\n",
              "      <td>1016.500000</td>\n",
              "    </tr>\n",
              "    <tr>\n",
              "      <th>...</th>\n",
              "      <td>...</td>\n",
              "      <td>...</td>\n",
              "      <td>...</td>\n",
              "      <td>...</td>\n",
              "    </tr>\n",
              "    <tr>\n",
              "      <th>2016-12-28</th>\n",
              "      <td>17.217391</td>\n",
              "      <td>68.043478</td>\n",
              "      <td>3.547826</td>\n",
              "      <td>1015.565217</td>\n",
              "    </tr>\n",
              "    <tr>\n",
              "      <th>2016-12-29</th>\n",
              "      <td>15.238095</td>\n",
              "      <td>87.857143</td>\n",
              "      <td>6.000000</td>\n",
              "      <td>1016.904762</td>\n",
              "    </tr>\n",
              "    <tr>\n",
              "      <th>2016-12-30</th>\n",
              "      <td>14.095238</td>\n",
              "      <td>89.666667</td>\n",
              "      <td>6.266667</td>\n",
              "      <td>1017.904762</td>\n",
              "    </tr>\n",
              "    <tr>\n",
              "      <th>2016-12-31</th>\n",
              "      <td>15.052632</td>\n",
              "      <td>87.000000</td>\n",
              "      <td>7.325000</td>\n",
              "      <td>1016.100000</td>\n",
              "    </tr>\n",
              "    <tr>\n",
              "      <th>2017-01-01</th>\n",
              "      <td>10.000000</td>\n",
              "      <td>100.000000</td>\n",
              "      <td>0.000000</td>\n",
              "      <td>1016.000000</td>\n",
              "    </tr>\n",
              "  </tbody>\n",
              "</table>\n",
              "<p>1462 rows × 4 columns</p>\n",
              "</div>"
            ],
            "text/plain": [
              "             meantemp    humidity  wind_speed  meanpressure\n",
              "date                                                       \n",
              "2013-01-01  10.000000   84.500000    0.000000   1015.666667\n",
              "2013-01-02   7.400000   92.000000    2.980000   1017.800000\n",
              "2013-01-03   7.166667   87.000000    4.633333   1018.666667\n",
              "2013-01-04   8.666667   71.333333    1.233333   1017.166667\n",
              "2013-01-05   6.000000   86.833333    3.700000   1016.500000\n",
              "...               ...         ...         ...           ...\n",
              "2016-12-28  17.217391   68.043478    3.547826   1015.565217\n",
              "2016-12-29  15.238095   87.857143    6.000000   1016.904762\n",
              "2016-12-30  14.095238   89.666667    6.266667   1017.904762\n",
              "2016-12-31  15.052632   87.000000    7.325000   1016.100000\n",
              "2017-01-01  10.000000  100.000000    0.000000   1016.000000\n",
              "\n",
              "[1462 rows x 4 columns]"
            ]
          },
          "metadata": {
            "tags": []
          },
          "execution_count": 23
        }
      ]
    },
    {
      "cell_type": "code",
      "metadata": {
        "id": "J790pqZT0gwE",
        "colab": {
          "base_uri": "https://localhost:8080/",
          "height": 402
        },
        "outputId": "46ebfc75-20f2-44b2-c05c-7f8975a315d8"
      },
      "source": [
        "test_data_temp=pd.DataFrame(list(timeseries_test[\"meantemp\"]),columns=[\"temp\"])\n",
        "test_data_temp"
      ],
      "execution_count": 24,
      "outputs": [
        {
          "output_type": "execute_result",
          "data": {
            "text/html": [
              "<div>\n",
              "<style scoped>\n",
              "    .dataframe tbody tr th:only-of-type {\n",
              "        vertical-align: middle;\n",
              "    }\n",
              "\n",
              "    .dataframe tbody tr th {\n",
              "        vertical-align: top;\n",
              "    }\n",
              "\n",
              "    .dataframe thead th {\n",
              "        text-align: right;\n",
              "    }\n",
              "</style>\n",
              "<table border=\"1\" class=\"dataframe\">\n",
              "  <thead>\n",
              "    <tr style=\"text-align: right;\">\n",
              "      <th></th>\n",
              "      <th>temp</th>\n",
              "    </tr>\n",
              "  </thead>\n",
              "  <tbody>\n",
              "    <tr>\n",
              "      <th>0</th>\n",
              "      <td>10.000000</td>\n",
              "    </tr>\n",
              "    <tr>\n",
              "      <th>1</th>\n",
              "      <td>7.400000</td>\n",
              "    </tr>\n",
              "    <tr>\n",
              "      <th>2</th>\n",
              "      <td>7.166667</td>\n",
              "    </tr>\n",
              "    <tr>\n",
              "      <th>3</th>\n",
              "      <td>8.666667</td>\n",
              "    </tr>\n",
              "    <tr>\n",
              "      <th>4</th>\n",
              "      <td>6.000000</td>\n",
              "    </tr>\n",
              "    <tr>\n",
              "      <th>...</th>\n",
              "      <td>...</td>\n",
              "    </tr>\n",
              "    <tr>\n",
              "      <th>1457</th>\n",
              "      <td>17.217391</td>\n",
              "    </tr>\n",
              "    <tr>\n",
              "      <th>1458</th>\n",
              "      <td>15.238095</td>\n",
              "    </tr>\n",
              "    <tr>\n",
              "      <th>1459</th>\n",
              "      <td>14.095238</td>\n",
              "    </tr>\n",
              "    <tr>\n",
              "      <th>1460</th>\n",
              "      <td>15.052632</td>\n",
              "    </tr>\n",
              "    <tr>\n",
              "      <th>1461</th>\n",
              "      <td>10.000000</td>\n",
              "    </tr>\n",
              "  </tbody>\n",
              "</table>\n",
              "<p>1462 rows × 1 columns</p>\n",
              "</div>"
            ],
            "text/plain": [
              "           temp\n",
              "0     10.000000\n",
              "1      7.400000\n",
              "2      7.166667\n",
              "3      8.666667\n",
              "4      6.000000\n",
              "...         ...\n",
              "1457  17.217391\n",
              "1458  15.238095\n",
              "1459  14.095238\n",
              "1460  15.052632\n",
              "1461  10.000000\n",
              "\n",
              "[1462 rows x 1 columns]"
            ]
          },
          "metadata": {
            "tags": []
          },
          "execution_count": 24
        }
      ]
    },
    {
      "cell_type": "code",
      "metadata": {
        "id": "as3l9U_D0jlw"
      },
      "source": [
        "from sklearn.preprocessing import LabelEncoder, MinMaxScaler\n",
        "scaler=MinMaxScaler(feature_range=(-1,1))\n",
        "test_data_temp=scaler.fit_transform(test_data_temp)"
      ],
      "execution_count": 25,
      "outputs": []
    },
    {
      "cell_type": "code",
      "metadata": {
        "id": "gwO-Z8z90mIy",
        "colab": {
          "base_uri": "https://localhost:8080/"
        },
        "outputId": "c1cb963b-2f47-40a2-eacb-84585b9629e6"
      },
      "source": [
        "steps=30\n",
        "X_test=[]\n",
        "Y_test=[]\n",
        "for i in range(len(test_data_temp)-steps):\n",
        "  X_test.append(test_data_temp[i:i+steps])\n",
        "  Y_test.append(test_data_temp[i+steps])\n",
        "X_test=np.array(X_test)\n",
        "Y_test=np.array(Y_test)\n",
        "\n",
        "print(X_test.shape)\n",
        "print(Y_test.shape)"
      ],
      "execution_count": 26,
      "outputs": [
        {
          "output_type": "stream",
          "text": [
            "(1432, 30, 1)\n",
            "(1432, 1)\n"
          ],
          "name": "stdout"
        }
      ]
    },
    {
      "cell_type": "code",
      "metadata": {
        "id": "nEN5ZB4q0qLc",
        "colab": {
          "base_uri": "https://localhost:8080/"
        },
        "outputId": "ae02ceed-2352-45b1-bd26-575dcc265bf7"
      },
      "source": [
        "X_test=np.array(X_test)\n",
        "Y_test=np.array(Y_test)\n",
        "\n",
        "print(X_test.shape)\n",
        "print(Y_test.shape)"
      ],
      "execution_count": 27,
      "outputs": [
        {
          "output_type": "stream",
          "text": [
            "(1432, 30, 1)\n",
            "(1432, 1)\n"
          ],
          "name": "stdout"
        }
      ]
    },
    {
      "cell_type": "code",
      "metadata": {
        "id": "OY8XGn680s_e"
      },
      "source": [
        "model2=models.load_model(\"Models/model1_ts.h5\")"
      ],
      "execution_count": 28,
      "outputs": []
    },
    {
      "cell_type": "code",
      "metadata": {
        "id": "DNHw0PgX0310",
        "colab": {
          "base_uri": "https://localhost:8080/"
        },
        "outputId": "2ad16c83-8b32-44b1-fc70-2890b2611742"
      },
      "source": [
        "temp_ts=model2.predict(X_test)\n",
        "temp_ts=scaler.inverse_transform(temp_ts)\n",
        "temp_ts"
      ],
      "execution_count": 29,
      "outputs": [
        {
          "output_type": "execute_result",
          "data": {
            "text/plain": [
              "array([[16.910427],\n",
              "       [17.126644],\n",
              "       [16.53031 ],\n",
              "       ...,\n",
              "       [14.78222 ],\n",
              "       [15.143902],\n",
              "       [14.045676]], dtype=float32)"
            ]
          },
          "metadata": {
            "tags": []
          },
          "execution_count": 29
        }
      ]
    },
    {
      "cell_type": "code",
      "metadata": {
        "id": "V0Ol1xgk079n",
        "colab": {
          "base_uri": "https://localhost:8080/"
        },
        "outputId": "9656fed7-a6d1-42a6-937d-ba7c97e101a0"
      },
      "source": [
        "temp_f=(temp_ts+temp_rs)/2\n",
        "temp_f"
      ],
      "execution_count": 30,
      "outputs": [
        {
          "output_type": "execute_result",
          "data": {
            "text/plain": [
              "array([[15.171482],\n",
              "       [15.669224],\n",
              "       [16.282404],\n",
              "       ...,\n",
              "       [14.960651],\n",
              "       [12.875355],\n",
              "       [11.624125]], dtype=float32)"
            ]
          },
          "metadata": {
            "tags": []
          },
          "execution_count": 30
        }
      ]
    },
    {
      "cell_type": "code",
      "metadata": {
        "id": "i5yiVrIj1RTO"
      },
      "source": [
        "Y_test_inv=scaler.inverse_transform(Y_test)"
      ],
      "execution_count": 31,
      "outputs": []
    },
    {
      "cell_type": "code",
      "metadata": {
        "id": "tzbbf2-91Vwl",
        "colab": {
          "base_uri": "https://localhost:8080/",
          "height": 534
        },
        "outputId": "bb970958-0d84-45e3-ac1d-ca1b9e0379cd"
      },
      "source": [
        "# Y_test_inv=Y_test_inv[:200]\n",
        "# temp_f=temp_f[:200]\n",
        "import matplotlib.pyplot as plt\n",
        "plt.figure(figsize=(20,9))\n",
        "plt.plot(Y_test_inv , 'red', linewidth=5)\n",
        "plt.plot(temp_f,'blue' , linewidth=4)\n",
        "plt.xlabel(\"Time\", fontsize=20)\n",
        "plt.ylabel(\"Temperature (C)\", fontsize=20)\n",
        "plt.legend(('Test','Predicted'))\n",
        "plt.show()"
      ],
      "execution_count": 32,
      "outputs": [
        {
          "output_type": "display_data",
          "data": {
            "image/png": "[encoded data removed]",
            "text/plain": [
              "<Figure size 1440x648 with 1 Axes>"
            ]
          },
          "metadata": {
            "tags": [],
            "needs_background": "light"
          }
        }
      ]
    },
    {
      "cell_type": "code",
      "metadata": {
        "id": "cGaFsitK1YhE"
      },
      "source": [
        "from sklearn.metrics import mean_squared_error, mean_absolute_error,accuracy_score\n",
        "from sklearn import metrics"
      ],
      "execution_count": 37,
      "outputs": []
    },
    {
      "cell_type": "code",
      "metadata": {
        "colab": {
          "base_uri": "https://localhost:8080/"
        },
        "id": "zDuEce25879Q",
        "outputId": "b7b89e7a-c7d2-4b23-80b6-f0492b8be281"
      },
      "source": [
        "Y_test_inv"
      ],
      "execution_count": 38,
      "outputs": [
        {
          "output_type": "execute_result",
          "data": {
            "text/plain": [
              "array([[16.2       ],\n",
              "       [16.        ],\n",
              "       [16.28571429],\n",
              "       ...,\n",
              "       [14.0952381 ],\n",
              "       [15.05263158],\n",
              "       [10.        ]])"
            ]
          },
          "metadata": {
            "tags": []
          },
          "execution_count": 38
        }
      ]
    },
    {
      "cell_type": "code",
      "metadata": {
        "colab": {
          "base_uri": "https://localhost:8080/"
        },
        "id": "FHzm8tMo8-pv",
        "outputId": "8a5a2006-ae20-4fb4-8d6e-6605ab46b26c"
      },
      "source": [
        "temp_f"
      ],
      "execution_count": 39,
      "outputs": [
        {
          "output_type": "execute_result",
          "data": {
            "text/plain": [
              "array([[15.171482],\n",
              "       [15.669224],\n",
              "       [16.282404],\n",
              "       ...,\n",
              "       [14.960651],\n",
              "       [12.875355],\n",
              "       [11.624125]], dtype=float32)"
            ]
          },
          "metadata": {
            "tags": []
          },
          "execution_count": 39
        }
      ]
    },
    {
      "cell_type": "code",
      "metadata": {
        "id": "lFIsT4sW1rCE",
        "colab": {
          "base_uri": "https://localhost:8080/"
        },
        "outputId": "3b4adbb3-0e3c-409c-842a-9446c1a650cc"
      },
      "source": [
        "mse=mean_squared_error(Y_test_inv,temp_f,squared=False)\n",
        "mae=mean_absolute_error(Y_test_inv,temp_f)\n",
        "print(f'{mse} {mae} {metrics.r2_score(Y_test_inv,temp_f)}')"
      ],
      "execution_count": 42,
      "outputs": [
        {
          "output_type": "stream",
          "text": [
            "2.589224977431546 2.0985046879815497 0.8684748032493032\n"
          ],
          "name": "stdout"
        }
      ]
    },
    {
      "cell_type": "code",
      "metadata": {
        "id": "48WIF1zJ1wWW",
        "colab": {
          "base_uri": "https://localhost:8080/"
        },
        "outputId": "93a9f63a-b35d-4870-d803-408a364d1a46"
      },
      "source": [
        "from sklearn import metrics\n",
        "mse=mean_squared_error(Y_test_inv,temp_rs,squared=False)\n",
        "mae=mean_absolute_error(Y_test_inv,temp_rs)\n",
        "print(f'{mse} {mae} {metrics.r2_score(Y_test_inv,temp_rs)}')"
      ],
      "execution_count": 44,
      "outputs": [
        {
          "output_type": "stream",
          "text": [
            "4.5346684877648284 3.64060707774925 0.5965771712221817\n"
          ],
          "name": "stdout"
        }
      ]
    },
    {
      "cell_type": "code",
      "metadata": {
        "id": "4RVew6td13wJ",
        "colab": {
          "base_uri": "https://localhost:8080/"
        },
        "outputId": "36dff6e5-5af7-4780-d615-9fd2344bbf19"
      },
      "source": [
        "mse=mean_squared_error(Y_test_inv,temp_ts,squared=False)\n",
        "mae=mean_absolute_error(Y_test_inv,temp_ts)\n",
        "print(f'{mse} {mae} {metrics.r2_score(Y_test_inv,temp_ts)}')"
      ],
      "execution_count": 45,
      "outputs": [
        {
          "output_type": "stream",
          "text": [
            "1.488771056622912 1.085003872592043 0.9565164273940805\n"
          ],
          "name": "stdout"
        }
      ]
    },
    {
      "cell_type": "code",
      "metadata": {
        "id": "3TTQeMdE16Rm",
        "colab": {
          "base_uri": "https://localhost:8080/",
          "height": 561
        },
        "outputId": "2850eb49-8563-4157-e433-1f34a78ded91"
      },
      "source": [
        "import matplotlib.pyplot as plt\n",
        "plt.figure(figsize=(10,9))\n",
        "plt.plot(Y_test_inv , 'red', linewidth=5)\n",
        "plt.plot(temp_ts,'blue' , linewidth=4)\n",
        "# plt.plot(temp_rs , 'black', linewidth=5)\n",
        "plt.xlabel(\"Time\", fontsize=20)\n",
        "plt.ylabel(\"Temperature (C)\", fontsize=20)\n",
        "plt.legend(('Test','RNN','Regression'))\n",
        "plt.show()"
      ],
      "execution_count": 46,
      "outputs": [
        {
          "output_type": "display_data",
          "data": {
            "image/png": "[encoded data removed]",
            "text/plain": [
              "<Figure size 720x648 with 1 Axes>"
            ]
          },
          "metadata": {
            "tags": [],
            "needs_background": "light"
          }
        }
      ]
    },
    {
      "cell_type": "code",
      "metadata": {
        "id": "pjh76jud3jA3",
        "colab": {
          "base_uri": "https://localhost:8080/"
        },
        "outputId": "6f3d450a-aeac-4ebc-fe8c-6609fc8867f6"
      },
      "source": [
        "from sklearn import metrics\n",
        "metrics.r2_score(Y_test_inv,temp_f)"
      ],
      "execution_count": 47,
      "outputs": [
        {
          "output_type": "execute_result",
          "data": {
            "text/plain": [
              "0.8684748032493032"
            ]
          },
          "metadata": {
            "tags": []
          },
          "execution_count": 47
        }
      ]
    },
    {
      "cell_type": "code",
      "metadata": {
        "id": "mJqLytvN8f9F"
      },
      "source": [
        "model1=models.load_model(\"Models/model2_R.h5\")"
      ],
      "execution_count": 48,
      "outputs": []
    },
    {
      "cell_type": "code",
      "metadata": {
        "id": "YkHSwpnqrpoY",
        "outputId": "c1bcbb7a-6d7b-4a87-b2cf-b69116a035ac",
        "colab": {
          "base_uri": "https://localhost:8080/",
          "height": 402
        }
      },
      "source": [
        "test=pd.read_csv(\"DailyDelhiClimateTest.csv\")\n",
        "test"
      ],
      "execution_count": 49,
      "outputs": [
        {
          "output_type": "execute_result",
          "data": {
            "text/html": [
              "<div>\n",
              "<style scoped>\n",
              "    .dataframe tbody tr th:only-of-type {\n",
              "        vertical-align: middle;\n",
              "    }\n",
              "\n",
              "    .dataframe tbody tr th {\n",
              "        vertical-align: top;\n",
              "    }\n",
              "\n",
              "    .dataframe thead th {\n",
              "        text-align: right;\n",
              "    }\n",
              "</style>\n",
              "<table border=\"1\" class=\"dataframe\">\n",
              "  <thead>\n",
              "    <tr style=\"text-align: right;\">\n",
              "      <th></th>\n",
              "      <th>date</th>\n",
              "      <th>meantemp</th>\n",
              "      <th>humidity</th>\n",
              "      <th>wind_speed</th>\n",
              "      <th>meanpressure</th>\n",
              "    </tr>\n",
              "  </thead>\n",
              "  <tbody>\n",
              "    <tr>\n",
              "      <th>0</th>\n",
              "      <td>2017-01-01</td>\n",
              "      <td>15.913043</td>\n",
              "      <td>85.869565</td>\n",
              "      <td>2.743478</td>\n",
              "      <td>59.000000</td>\n",
              "    </tr>\n",
              "    <tr>\n",
              "      <th>1</th>\n",
              "      <td>2017-01-02</td>\n",
              "      <td>18.500000</td>\n",
              "      <td>77.222222</td>\n",
              "      <td>2.894444</td>\n",
              "      <td>1018.277778</td>\n",
              "    </tr>\n",
              "    <tr>\n",
              "      <th>2</th>\n",
              "      <td>2017-01-03</td>\n",
              "      <td>17.111111</td>\n",
              "      <td>81.888889</td>\n",
              "      <td>4.016667</td>\n",
              "      <td>1018.333333</td>\n",
              "    </tr>\n",
              "    <tr>\n",
              "      <th>3</th>\n",
              "      <td>2017-01-04</td>\n",
              "      <td>18.700000</td>\n",
              "      <td>70.050000</td>\n",
              "      <td>4.545000</td>\n",
              "      <td>1015.700000</td>\n",
              "    </tr>\n",
              "    <tr>\n",
              "      <th>4</th>\n",
              "      <td>2017-01-05</td>\n",
              "      <td>18.388889</td>\n",
              "      <td>74.944444</td>\n",
              "      <td>3.300000</td>\n",
              "      <td>1014.333333</td>\n",
              "    </tr>\n",
              "    <tr>\n",
              "      <th>...</th>\n",
              "      <td>...</td>\n",
              "      <td>...</td>\n",
              "      <td>...</td>\n",
              "      <td>...</td>\n",
              "      <td>...</td>\n",
              "    </tr>\n",
              "    <tr>\n",
              "      <th>109</th>\n",
              "      <td>2017-04-20</td>\n",
              "      <td>34.500000</td>\n",
              "      <td>27.500000</td>\n",
              "      <td>5.562500</td>\n",
              "      <td>998.625000</td>\n",
              "    </tr>\n",
              "    <tr>\n",
              "      <th>110</th>\n",
              "      <td>2017-04-21</td>\n",
              "      <td>34.250000</td>\n",
              "      <td>39.375000</td>\n",
              "      <td>6.962500</td>\n",
              "      <td>999.875000</td>\n",
              "    </tr>\n",
              "    <tr>\n",
              "      <th>111</th>\n",
              "      <td>2017-04-22</td>\n",
              "      <td>32.900000</td>\n",
              "      <td>40.900000</td>\n",
              "      <td>8.890000</td>\n",
              "      <td>1001.600000</td>\n",
              "    </tr>\n",
              "    <tr>\n",
              "      <th>112</th>\n",
              "      <td>2017-04-23</td>\n",
              "      <td>32.875000</td>\n",
              "      <td>27.500000</td>\n",
              "      <td>9.962500</td>\n",
              "      <td>1002.125000</td>\n",
              "    </tr>\n",
              "    <tr>\n",
              "      <th>113</th>\n",
              "      <td>2017-04-24</td>\n",
              "      <td>32.000000</td>\n",
              "      <td>27.142857</td>\n",
              "      <td>12.157143</td>\n",
              "      <td>1004.142857</td>\n",
              "    </tr>\n",
              "  </tbody>\n",
              "</table>\n",
              "<p>114 rows × 5 columns</p>\n",
              "</div>"
            ],
            "text/plain": [
              "           date   meantemp   humidity  wind_speed  meanpressure\n",
              "0    2017-01-01  15.913043  85.869565    2.743478     59.000000\n",
              "1    2017-01-02  18.500000  77.222222    2.894444   1018.277778\n",
              "2    2017-01-03  17.111111  81.888889    4.016667   1018.333333\n",
              "3    2017-01-04  18.700000  70.050000    4.545000   1015.700000\n",
              "4    2017-01-05  18.388889  74.944444    3.300000   1014.333333\n",
              "..          ...        ...        ...         ...           ...\n",
              "109  2017-04-20  34.500000  27.500000    5.562500    998.625000\n",
              "110  2017-04-21  34.250000  39.375000    6.962500    999.875000\n",
              "111  2017-04-22  32.900000  40.900000    8.890000   1001.600000\n",
              "112  2017-04-23  32.875000  27.500000    9.962500   1002.125000\n",
              "113  2017-04-24  32.000000  27.142857   12.157143   1004.142857\n",
              "\n",
              "[114 rows x 5 columns]"
            ]
          },
          "metadata": {
            "tags": []
          },
          "execution_count": 49
        }
      ]
    },
    {
      "cell_type": "code",
      "metadata": {
        "id": "cVf35wWIrr0p",
        "outputId": "04c58d06-3405-4b8e-87b6-9259a3c88c24",
        "colab": {
          "base_uri": "https://localhost:8080/",
          "height": 431
        }
      },
      "source": [
        "test.isnull().sum()\n",
        "\n",
        "test[\"date\"]=pd.to_datetime(test[\"date\"])\n",
        "test.set_index(\"date\",inplace=True)\n",
        "test"
      ],
      "execution_count": 50,
      "outputs": [
        {
          "output_type": "execute_result",
          "data": {
            "text/html": [
              "<div>\n",
              "<style scoped>\n",
              "    .dataframe tbody tr th:only-of-type {\n",
              "        vertical-align: middle;\n",
              "    }\n",
              "\n",
              "    .dataframe tbody tr th {\n",
              "        vertical-align: top;\n",
              "    }\n",
              "\n",
              "    .dataframe thead th {\n",
              "        text-align: right;\n",
              "    }\n",
              "</style>\n",
              "<table border=\"1\" class=\"dataframe\">\n",
              "  <thead>\n",
              "    <tr style=\"text-align: right;\">\n",
              "      <th></th>\n",
              "      <th>meantemp</th>\n",
              "      <th>humidity</th>\n",
              "      <th>wind_speed</th>\n",
              "      <th>meanpressure</th>\n",
              "    </tr>\n",
              "    <tr>\n",
              "      <th>date</th>\n",
              "      <th></th>\n",
              "      <th></th>\n",
              "      <th></th>\n",
              "      <th></th>\n",
              "    </tr>\n",
              "  </thead>\n",
              "  <tbody>\n",
              "    <tr>\n",
              "      <th>2017-01-01</th>\n",
              "      <td>15.913043</td>\n",
              "      <td>85.869565</td>\n",
              "      <td>2.743478</td>\n",
              "      <td>59.000000</td>\n",
              "    </tr>\n",
              "    <tr>\n",
              "      <th>2017-01-02</th>\n",
              "      <td>18.500000</td>\n",
              "      <td>77.222222</td>\n",
              "      <td>2.894444</td>\n",
              "      <td>1018.277778</td>\n",
              "    </tr>\n",
              "    <tr>\n",
              "      <th>2017-01-03</th>\n",
              "      <td>17.111111</td>\n",
              "      <td>81.888889</td>\n",
              "      <td>4.016667</td>\n",
              "      <td>1018.333333</td>\n",
              "    </tr>\n",
              "    <tr>\n",
              "      <th>2017-01-04</th>\n",
              "      <td>18.700000</td>\n",
              "      <td>70.050000</td>\n",
              "      <td>4.545000</td>\n",
              "      <td>1015.700000</td>\n",
              "    </tr>\n",
              "    <tr>\n",
              "      <th>2017-01-05</th>\n",
              "      <td>18.388889</td>\n",
              "      <td>74.944444</td>\n",
              "      <td>3.300000</td>\n",
              "      <td>1014.333333</td>\n",
              "    </tr>\n",
              "    <tr>\n",
              "      <th>...</th>\n",
              "      <td>...</td>\n",
              "      <td>...</td>\n",
              "      <td>...</td>\n",
              "      <td>...</td>\n",
              "    </tr>\n",
              "    <tr>\n",
              "      <th>2017-04-20</th>\n",
              "      <td>34.500000</td>\n",
              "      <td>27.500000</td>\n",
              "      <td>5.562500</td>\n",
              "      <td>998.625000</td>\n",
              "    </tr>\n",
              "    <tr>\n",
              "      <th>2017-04-21</th>\n",
              "      <td>34.250000</td>\n",
              "      <td>39.375000</td>\n",
              "      <td>6.962500</td>\n",
              "      <td>999.875000</td>\n",
              "    </tr>\n",
              "    <tr>\n",
              "      <th>2017-04-22</th>\n",
              "      <td>32.900000</td>\n",
              "      <td>40.900000</td>\n",
              "      <td>8.890000</td>\n",
              "      <td>1001.600000</td>\n",
              "    </tr>\n",
              "    <tr>\n",
              "      <th>2017-04-23</th>\n",
              "      <td>32.875000</td>\n",
              "      <td>27.500000</td>\n",
              "      <td>9.962500</td>\n",
              "      <td>1002.125000</td>\n",
              "    </tr>\n",
              "    <tr>\n",
              "      <th>2017-04-24</th>\n",
              "      <td>32.000000</td>\n",
              "      <td>27.142857</td>\n",
              "      <td>12.157143</td>\n",
              "      <td>1004.142857</td>\n",
              "    </tr>\n",
              "  </tbody>\n",
              "</table>\n",
              "<p>114 rows × 4 columns</p>\n",
              "</div>"
            ],
            "text/plain": [
              "             meantemp   humidity  wind_speed  meanpressure\n",
              "date                                                      \n",
              "2017-01-01  15.913043  85.869565    2.743478     59.000000\n",
              "2017-01-02  18.500000  77.222222    2.894444   1018.277778\n",
              "2017-01-03  17.111111  81.888889    4.016667   1018.333333\n",
              "2017-01-04  18.700000  70.050000    4.545000   1015.700000\n",
              "2017-01-05  18.388889  74.944444    3.300000   1014.333333\n",
              "...               ...        ...         ...           ...\n",
              "2017-04-20  34.500000  27.500000    5.562500    998.625000\n",
              "2017-04-21  34.250000  39.375000    6.962500    999.875000\n",
              "2017-04-22  32.900000  40.900000    8.890000   1001.600000\n",
              "2017-04-23  32.875000  27.500000    9.962500   1002.125000\n",
              "2017-04-24  32.000000  27.142857   12.157143   1004.142857\n",
              "\n",
              "[114 rows x 4 columns]"
            ]
          },
          "metadata": {
            "tags": []
          },
          "execution_count": 50
        }
      ]
    },
    {
      "cell_type": "code",
      "metadata": {
        "id": "DiHtr4vOruh9"
      },
      "source": [
        "def extract_year(value):\n",
        "  value=value.strftime('%Y-%m-%d')\n",
        "  return (value[0:4])\n",
        "\n",
        "def extract_month(value):\n",
        "    value=value.strftime('%Y-%m-%d')\n",
        "    return (value[4:6])\n",
        "\n",
        "def extract_date(value):\n",
        "    value=value.strftime('%Y-%m-%d')\n",
        "    return (value[6:8])"
      ],
      "execution_count": 51,
      "outputs": []
    },
    {
      "cell_type": "code",
      "metadata": {
        "id": "CTMVj-Oarv8j"
      },
      "source": [
        "test.reset_index(inplace=True)"
      ],
      "execution_count": 52,
      "outputs": []
    },
    {
      "cell_type": "code",
      "metadata": {
        "id": "cu85E3osrx9X"
      },
      "source": [
        "test['day'] = test['date'].dt.day\n",
        "test['month'] = test['date'].dt.month\n",
        "test['year'] = test['date'].dt.year\n",
        "\n",
        "test\n",
        "temp=test.drop([\"wind_speed\"],axis=1)\n",
        "temp=temp.append(test[\"wind_speed\"])"
      ],
      "execution_count": 53,
      "outputs": []
    },
    {
      "cell_type": "code",
      "metadata": {
        "id": "IhqcsAnvrz_g",
        "outputId": "0bec8282-db48-4ffc-9c99-ac8673c01148",
        "colab": {
          "base_uri": "https://localhost:8080/",
          "height": 402
        }
      },
      "source": [
        "test.isnull().sum()\n",
        "\n",
        "test=test.drop([\"date\"],axis=1)\n",
        "test"
      ],
      "execution_count": 54,
      "outputs": [
        {
          "output_type": "execute_result",
          "data": {
            "text/html": [
              "<div>\n",
              "<style scoped>\n",
              "    .dataframe tbody tr th:only-of-type {\n",
              "        vertical-align: middle;\n",
              "    }\n",
              "\n",
              "    .dataframe tbody tr th {\n",
              "        vertical-align: top;\n",
              "    }\n",
              "\n",
              "    .dataframe thead th {\n",
              "        text-align: right;\n",
              "    }\n",
              "</style>\n",
              "<table border=\"1\" class=\"dataframe\">\n",
              "  <thead>\n",
              "    <tr style=\"text-align: right;\">\n",
              "      <th></th>\n",
              "      <th>meantemp</th>\n",
              "      <th>humidity</th>\n",
              "      <th>wind_speed</th>\n",
              "      <th>meanpressure</th>\n",
              "      <th>day</th>\n",
              "      <th>month</th>\n",
              "      <th>year</th>\n",
              "    </tr>\n",
              "  </thead>\n",
              "  <tbody>\n",
              "    <tr>\n",
              "      <th>0</th>\n",
              "      <td>15.913043</td>\n",
              "      <td>85.869565</td>\n",
              "      <td>2.743478</td>\n",
              "      <td>59.000000</td>\n",
              "      <td>1</td>\n",
              "      <td>1</td>\n",
              "      <td>2017</td>\n",
              "    </tr>\n",
              "    <tr>\n",
              "      <th>1</th>\n",
              "      <td>18.500000</td>\n",
              "      <td>77.222222</td>\n",
              "      <td>2.894444</td>\n",
              "      <td>1018.277778</td>\n",
              "      <td>2</td>\n",
              "      <td>1</td>\n",
              "      <td>2017</td>\n",
              "    </tr>\n",
              "    <tr>\n",
              "      <th>2</th>\n",
              "      <td>17.111111</td>\n",
              "      <td>81.888889</td>\n",
              "      <td>4.016667</td>\n",
              "      <td>1018.333333</td>\n",
              "      <td>3</td>\n",
              "      <td>1</td>\n",
              "      <td>2017</td>\n",
              "    </tr>\n",
              "    <tr>\n",
              "      <th>3</th>\n",
              "      <td>18.700000</td>\n",
              "      <td>70.050000</td>\n",
              "      <td>4.545000</td>\n",
              "      <td>1015.700000</td>\n",
              "      <td>4</td>\n",
              "      <td>1</td>\n",
              "      <td>2017</td>\n",
              "    </tr>\n",
              "    <tr>\n",
              "      <th>4</th>\n",
              "      <td>18.388889</td>\n",
              "      <td>74.944444</td>\n",
              "      <td>3.300000</td>\n",
              "      <td>1014.333333</td>\n",
              "      <td>5</td>\n",
              "      <td>1</td>\n",
              "      <td>2017</td>\n",
              "    </tr>\n",
              "    <tr>\n",
              "      <th>...</th>\n",
              "      <td>...</td>\n",
              "      <td>...</td>\n",
              "      <td>...</td>\n",
              "      <td>...</td>\n",
              "      <td>...</td>\n",
              "      <td>...</td>\n",
              "      <td>...</td>\n",
              "    </tr>\n",
              "    <tr>\n",
              "      <th>109</th>\n",
              "      <td>34.500000</td>\n",
              "      <td>27.500000</td>\n",
              "      <td>5.562500</td>\n",
              "      <td>998.625000</td>\n",
              "      <td>20</td>\n",
              "      <td>4</td>\n",
              "      <td>2017</td>\n",
              "    </tr>\n",
              "    <tr>\n",
              "      <th>110</th>\n",
              "      <td>34.250000</td>\n",
              "      <td>39.375000</td>\n",
              "      <td>6.962500</td>\n",
              "      <td>999.875000</td>\n",
              "      <td>21</td>\n",
              "      <td>4</td>\n",
              "      <td>2017</td>\n",
              "    </tr>\n",
              "    <tr>\n",
              "      <th>111</th>\n",
              "      <td>32.900000</td>\n",
              "      <td>40.900000</td>\n",
              "      <td>8.890000</td>\n",
              "      <td>1001.600000</td>\n",
              "      <td>22</td>\n",
              "      <td>4</td>\n",
              "      <td>2017</td>\n",
              "    </tr>\n",
              "    <tr>\n",
              "      <th>112</th>\n",
              "      <td>32.875000</td>\n",
              "      <td>27.500000</td>\n",
              "      <td>9.962500</td>\n",
              "      <td>1002.125000</td>\n",
              "      <td>23</td>\n",
              "      <td>4</td>\n",
              "      <td>2017</td>\n",
              "    </tr>\n",
              "    <tr>\n",
              "      <th>113</th>\n",
              "      <td>32.000000</td>\n",
              "      <td>27.142857</td>\n",
              "      <td>12.157143</td>\n",
              "      <td>1004.142857</td>\n",
              "      <td>24</td>\n",
              "      <td>4</td>\n",
              "      <td>2017</td>\n",
              "    </tr>\n",
              "  </tbody>\n",
              "</table>\n",
              "<p>114 rows × 7 columns</p>\n",
              "</div>"
            ],
            "text/plain": [
              "      meantemp   humidity  wind_speed  meanpressure  day  month  year\n",
              "0    15.913043  85.869565    2.743478     59.000000    1      1  2017\n",
              "1    18.500000  77.222222    2.894444   1018.277778    2      1  2017\n",
              "2    17.111111  81.888889    4.016667   1018.333333    3      1  2017\n",
              "3    18.700000  70.050000    4.545000   1015.700000    4      1  2017\n",
              "4    18.388889  74.944444    3.300000   1014.333333    5      1  2017\n",
              "..         ...        ...         ...           ...  ...    ...   ...\n",
              "109  34.500000  27.500000    5.562500    998.625000   20      4  2017\n",
              "110  34.250000  39.375000    6.962500    999.875000   21      4  2017\n",
              "111  32.900000  40.900000    8.890000   1001.600000   22      4  2017\n",
              "112  32.875000  27.500000    9.962500   1002.125000   23      4  2017\n",
              "113  32.000000  27.142857   12.157143   1004.142857   24      4  2017\n",
              "\n",
              "[114 rows x 7 columns]"
            ]
          },
          "metadata": {
            "tags": []
          },
          "execution_count": 54
        }
      ]
    },
    {
      "cell_type": "code",
      "metadata": {
        "id": "z9DJp4H5r1vM",
        "outputId": "a7a2f15e-8cd7-41e1-ce5f-1dac1ae95560",
        "colab": {
          "base_uri": "https://localhost:8080/",
          "height": 402
        }
      },
      "source": [
        "X_part=test.drop([\"meantemp\"],axis=1)\n",
        "X_part=X_part[['humidity','meanpressure','wind_speed','day','month','year']]\n",
        "X_part"
      ],
      "execution_count": 55,
      "outputs": [
        {
          "output_type": "execute_result",
          "data": {
            "text/html": [
              "<div>\n",
              "<style scoped>\n",
              "    .dataframe tbody tr th:only-of-type {\n",
              "        vertical-align: middle;\n",
              "    }\n",
              "\n",
              "    .dataframe tbody tr th {\n",
              "        vertical-align: top;\n",
              "    }\n",
              "\n",
              "    .dataframe thead th {\n",
              "        text-align: right;\n",
              "    }\n",
              "</style>\n",
              "<table border=\"1\" class=\"dataframe\">\n",
              "  <thead>\n",
              "    <tr style=\"text-align: right;\">\n",
              "      <th></th>\n",
              "      <th>humidity</th>\n",
              "      <th>meanpressure</th>\n",
              "      <th>wind_speed</th>\n",
              "      <th>day</th>\n",
              "      <th>month</th>\n",
              "      <th>year</th>\n",
              "    </tr>\n",
              "  </thead>\n",
              "  <tbody>\n",
              "    <tr>\n",
              "      <th>0</th>\n",
              "      <td>85.869565</td>\n",
              "      <td>59.000000</td>\n",
              "      <td>2.743478</td>\n",
              "      <td>1</td>\n",
              "      <td>1</td>\n",
              "      <td>2017</td>\n",
              "    </tr>\n",
              "    <tr>\n",
              "      <th>1</th>\n",
              "      <td>77.222222</td>\n",
              "      <td>1018.277778</td>\n",
              "      <td>2.894444</td>\n",
              "      <td>2</td>\n",
              "      <td>1</td>\n",
              "      <td>2017</td>\n",
              "    </tr>\n",
              "    <tr>\n",
              "      <th>2</th>\n",
              "      <td>81.888889</td>\n",
              "      <td>1018.333333</td>\n",
              "      <td>4.016667</td>\n",
              "      <td>3</td>\n",
              "      <td>1</td>\n",
              "      <td>2017</td>\n",
              "    </tr>\n",
              "    <tr>\n",
              "      <th>3</th>\n",
              "      <td>70.050000</td>\n",
              "      <td>1015.700000</td>\n",
              "      <td>4.545000</td>\n",
              "      <td>4</td>\n",
              "      <td>1</td>\n",
              "      <td>2017</td>\n",
              "    </tr>\n",
              "    <tr>\n",
              "      <th>4</th>\n",
              "      <td>74.944444</td>\n",
              "      <td>1014.333333</td>\n",
              "      <td>3.300000</td>\n",
              "      <td>5</td>\n",
              "      <td>1</td>\n",
              "      <td>2017</td>\n",
              "    </tr>\n",
              "    <tr>\n",
              "      <th>...</th>\n",
              "      <td>...</td>\n",
              "      <td>...</td>\n",
              "      <td>...</td>\n",
              "      <td>...</td>\n",
              "      <td>...</td>\n",
              "      <td>...</td>\n",
              "    </tr>\n",
              "    <tr>\n",
              "      <th>109</th>\n",
              "      <td>27.500000</td>\n",
              "      <td>998.625000</td>\n",
              "      <td>5.562500</td>\n",
              "      <td>20</td>\n",
              "      <td>4</td>\n",
              "      <td>2017</td>\n",
              "    </tr>\n",
              "    <tr>\n",
              "      <th>110</th>\n",
              "      <td>39.375000</td>\n",
              "      <td>999.875000</td>\n",
              "      <td>6.962500</td>\n",
              "      <td>21</td>\n",
              "      <td>4</td>\n",
              "      <td>2017</td>\n",
              "    </tr>\n",
              "    <tr>\n",
              "      <th>111</th>\n",
              "      <td>40.900000</td>\n",
              "      <td>1001.600000</td>\n",
              "      <td>8.890000</td>\n",
              "      <td>22</td>\n",
              "      <td>4</td>\n",
              "      <td>2017</td>\n",
              "    </tr>\n",
              "    <tr>\n",
              "      <th>112</th>\n",
              "      <td>27.500000</td>\n",
              "      <td>1002.125000</td>\n",
              "      <td>9.962500</td>\n",
              "      <td>23</td>\n",
              "      <td>4</td>\n",
              "      <td>2017</td>\n",
              "    </tr>\n",
              "    <tr>\n",
              "      <th>113</th>\n",
              "      <td>27.142857</td>\n",
              "      <td>1004.142857</td>\n",
              "      <td>12.157143</td>\n",
              "      <td>24</td>\n",
              "      <td>4</td>\n",
              "      <td>2017</td>\n",
              "    </tr>\n",
              "  </tbody>\n",
              "</table>\n",
              "<p>114 rows × 6 columns</p>\n",
              "</div>"
            ],
            "text/plain": [
              "      humidity  meanpressure  wind_speed  day  month  year\n",
              "0    85.869565     59.000000    2.743478    1      1  2017\n",
              "1    77.222222   1018.277778    2.894444    2      1  2017\n",
              "2    81.888889   1018.333333    4.016667    3      1  2017\n",
              "3    70.050000   1015.700000    4.545000    4      1  2017\n",
              "4    74.944444   1014.333333    3.300000    5      1  2017\n",
              "..         ...           ...         ...  ...    ...   ...\n",
              "109  27.500000    998.625000    5.562500   20      4  2017\n",
              "110  39.375000    999.875000    6.962500   21      4  2017\n",
              "111  40.900000   1001.600000    8.890000   22      4  2017\n",
              "112  27.500000   1002.125000    9.962500   23      4  2017\n",
              "113  27.142857   1004.142857   12.157143   24      4  2017\n",
              "\n",
              "[114 rows x 6 columns]"
            ]
          },
          "metadata": {
            "tags": []
          },
          "execution_count": 55
        }
      ]
    },
    {
      "cell_type": "code",
      "metadata": {
        "id": "5GOl_YXbr3CV",
        "outputId": "3bedc6db-ef3c-4f00-c5f9-c3f7c7ae758a",
        "colab": {
          "base_uri": "https://localhost:8080/"
        }
      },
      "source": [
        "Y_part=test[\"meantemp\"]\n",
        "X_part=np.array(X_part)\n",
        "Y_part=np.array(Y_part).reshape(-1,1)\n",
        "print(X_part.shape)\n",
        "print(Y_part.shape)"
      ],
      "execution_count": 56,
      "outputs": [
        {
          "output_type": "stream",
          "text": [
            "(114, 6)\n",
            "(114, 1)\n"
          ],
          "name": "stdout"
        }
      ]
    },
    {
      "cell_type": "code",
      "metadata": {
        "id": "FsIxOCc0r4Yt"
      },
      "source": [
        "from sklearn.preprocessing import LabelEncoder, MinMaxScaler"
      ],
      "execution_count": 57,
      "outputs": []
    },
    {
      "cell_type": "code",
      "metadata": {
        "id": "oJYCfzDJr6qa"
      },
      "source": [
        "scaler2=MinMaxScaler(feature_range=[-1,1])\n",
        "X_part_scaled=scaler2.fit_transform(X_part)\n",
        "Y_part_scaled=scaler2.fit_transform(Y_part)"
      ],
      "execution_count": 58,
      "outputs": []
    },
    {
      "cell_type": "code",
      "metadata": {
        "id": "vvhMkv4gr8iU"
      },
      "source": [
        "step=30\n",
        "input=[]\n",
        "output=[]\n",
        "for i in range(len(X_part_scaled)-(step)):\n",
        "    input.append(X_part_scaled[i:i+step])\n",
        "    output.append(Y_part_scaled[i+step])\n",
        " \n",
        "input=np.array(input)\n",
        "output=np.array(output)"
      ],
      "execution_count": 59,
      "outputs": []
    },
    {
      "cell_type": "code",
      "metadata": {
        "id": "8CNhZvLur-b4",
        "outputId": "fcc15ca3-fac7-435d-c39f-ac95874c7833",
        "colab": {
          "base_uri": "https://localhost:8080/"
        }
      },
      "source": [
        "print(input.shape)\n",
        "print(output.shape)"
      ],
      "execution_count": 60,
      "outputs": [
        {
          "output_type": "stream",
          "text": [
            "(84, 30, 6)\n",
            "(84, 1)\n"
          ],
          "name": "stdout"
        }
      ]
    },
    {
      "cell_type": "code",
      "metadata": {
        "id": "BNBo2wtMsATG",
        "outputId": "3f8ebe75-9099-4b53-f8db-617abe1bca9b",
        "colab": {
          "base_uri": "https://localhost:8080/"
        }
      },
      "source": [
        "temp_rs=model1.predict(input)\n",
        "\n",
        "temp_rs=scaler2.inverse_transform(temp_rs)\n",
        "temp_rs"
      ],
      "execution_count": 61,
      "outputs": [
        {
          "output_type": "execute_result",
          "data": {
            "text/plain": [
              "array([[18.97319 ],\n",
              "       [20.171644],\n",
              "       [18.995571],\n",
              "       [19.215576],\n",
              "       [19.967194],\n",
              "       [19.790524],\n",
              "       [19.085464],\n",
              "       [19.174805],\n",
              "       [19.411327],\n",
              "       [18.943674],\n",
              "       [19.102009],\n",
              "       [18.970554],\n",
              "       [19.118546],\n",
              "       [19.366026],\n",
              "       [19.19077 ],\n",
              "       [19.409092],\n",
              "       [19.18638 ],\n",
              "       [19.197336],\n",
              "       [19.683582],\n",
              "       [20.73121 ],\n",
              "       [20.257313],\n",
              "       [21.35652 ],\n",
              "       [21.705265],\n",
              "       [21.317158],\n",
              "       [26.857388],\n",
              "       [26.873638],\n",
              "       [26.776585],\n",
              "       [21.087114],\n",
              "       [16.428858],\n",
              "       [16.69423 ],\n",
              "       [17.73611 ],\n",
              "       [18.156042],\n",
              "       [19.46356 ],\n",
              "       [17.244621],\n",
              "       [15.565108],\n",
              "       [15.02988 ],\n",
              "       [14.547262],\n",
              "       [15.047916],\n",
              "       [15.523956],\n",
              "       [15.695711],\n",
              "       [15.902888],\n",
              "       [16.079716],\n",
              "       [16.142323],\n",
              "       [16.086203],\n",
              "       [16.223791],\n",
              "       [16.198984],\n",
              "       [16.244404],\n",
              "       [17.58188 ],\n",
              "       [18.118587],\n",
              "       [21.057007],\n",
              "       [20.780657],\n",
              "       [19.238579],\n",
              "       [21.030262],\n",
              "       [19.567438],\n",
              "       [17.391798],\n",
              "       [16.775188],\n",
              "       [16.51593 ],\n",
              "       [16.599236],\n",
              "       [16.395216],\n",
              "       [16.099138],\n",
              "       [16.244802],\n",
              "       [16.544237],\n",
              "       [16.697884],\n",
              "       [16.571522],\n",
              "       [15.057604],\n",
              "       [14.688024],\n",
              "       [14.673925],\n",
              "       [14.050193],\n",
              "       [13.797829],\n",
              "       [13.530725],\n",
              "       [13.60012 ],\n",
              "       [13.868074],\n",
              "       [14.37711 ],\n",
              "       [14.723389],\n",
              "       [14.026738],\n",
              "       [14.220092],\n",
              "       [14.466391],\n",
              "       [15.507936],\n",
              "       [17.466774],\n",
              "       [18.927895],\n",
              "       [18.051834],\n",
              "       [15.965647],\n",
              "       [16.205805],\n",
              "       [15.154002]], dtype=float32)"
            ]
          },
          "metadata": {
            "tags": []
          },
          "execution_count": 61
        }
      ]
    },
    {
      "cell_type": "code",
      "metadata": {
        "id": "tX6JJ2xNsCnO",
        "outputId": "6f2342a6-129f-4609-b74c-060ade403958",
        "colab": {
          "base_uri": "https://localhost:8080/",
          "height": 402
        }
      },
      "source": [
        "test=pd.read_csv(\"DailyDelhiClimateTest.csv\")\n",
        "test"
      ],
      "execution_count": 62,
      "outputs": [
        {
          "output_type": "execute_result",
          "data": {
            "text/html": [
              "<div>\n",
              "<style scoped>\n",
              "    .dataframe tbody tr th:only-of-type {\n",
              "        vertical-align: middle;\n",
              "    }\n",
              "\n",
              "    .dataframe tbody tr th {\n",
              "        vertical-align: top;\n",
              "    }\n",
              "\n",
              "    .dataframe thead th {\n",
              "        text-align: right;\n",
              "    }\n",
              "</style>\n",
              "<table border=\"1\" class=\"dataframe\">\n",
              "  <thead>\n",
              "    <tr style=\"text-align: right;\">\n",
              "      <th></th>\n",
              "      <th>date</th>\n",
              "      <th>meantemp</th>\n",
              "      <th>humidity</th>\n",
              "      <th>wind_speed</th>\n",
              "      <th>meanpressure</th>\n",
              "    </tr>\n",
              "  </thead>\n",
              "  <tbody>\n",
              "    <tr>\n",
              "      <th>0</th>\n",
              "      <td>2017-01-01</td>\n",
              "      <td>15.913043</td>\n",
              "      <td>85.869565</td>\n",
              "      <td>2.743478</td>\n",
              "      <td>59.000000</td>\n",
              "    </tr>\n",
              "    <tr>\n",
              "      <th>1</th>\n",
              "      <td>2017-01-02</td>\n",
              "      <td>18.500000</td>\n",
              "      <td>77.222222</td>\n",
              "      <td>2.894444</td>\n",
              "      <td>1018.277778</td>\n",
              "    </tr>\n",
              "    <tr>\n",
              "      <th>2</th>\n",
              "      <td>2017-01-03</td>\n",
              "      <td>17.111111</td>\n",
              "      <td>81.888889</td>\n",
              "      <td>4.016667</td>\n",
              "      <td>1018.333333</td>\n",
              "    </tr>\n",
              "    <tr>\n",
              "      <th>3</th>\n",
              "      <td>2017-01-04</td>\n",
              "      <td>18.700000</td>\n",
              "      <td>70.050000</td>\n",
              "      <td>4.545000</td>\n",
              "      <td>1015.700000</td>\n",
              "    </tr>\n",
              "    <tr>\n",
              "      <th>4</th>\n",
              "      <td>2017-01-05</td>\n",
              "      <td>18.388889</td>\n",
              "      <td>74.944444</td>\n",
              "      <td>3.300000</td>\n",
              "      <td>1014.333333</td>\n",
              "    </tr>\n",
              "    <tr>\n",
              "      <th>...</th>\n",
              "      <td>...</td>\n",
              "      <td>...</td>\n",
              "      <td>...</td>\n",
              "      <td>...</td>\n",
              "      <td>...</td>\n",
              "    </tr>\n",
              "    <tr>\n",
              "      <th>109</th>\n",
              "      <td>2017-04-20</td>\n",
              "      <td>34.500000</td>\n",
              "      <td>27.500000</td>\n",
              "      <td>5.562500</td>\n",
              "      <td>998.625000</td>\n",
              "    </tr>\n",
              "    <tr>\n",
              "      <th>110</th>\n",
              "      <td>2017-04-21</td>\n",
              "      <td>34.250000</td>\n",
              "      <td>39.375000</td>\n",
              "      <td>6.962500</td>\n",
              "      <td>999.875000</td>\n",
              "    </tr>\n",
              "    <tr>\n",
              "      <th>111</th>\n",
              "      <td>2017-04-22</td>\n",
              "      <td>32.900000</td>\n",
              "      <td>40.900000</td>\n",
              "      <td>8.890000</td>\n",
              "      <td>1001.600000</td>\n",
              "    </tr>\n",
              "    <tr>\n",
              "      <th>112</th>\n",
              "      <td>2017-04-23</td>\n",
              "      <td>32.875000</td>\n",
              "      <td>27.500000</td>\n",
              "      <td>9.962500</td>\n",
              "      <td>1002.125000</td>\n",
              "    </tr>\n",
              "    <tr>\n",
              "      <th>113</th>\n",
              "      <td>2017-04-24</td>\n",
              "      <td>32.000000</td>\n",
              "      <td>27.142857</td>\n",
              "      <td>12.157143</td>\n",
              "      <td>1004.142857</td>\n",
              "    </tr>\n",
              "  </tbody>\n",
              "</table>\n",
              "<p>114 rows × 5 columns</p>\n",
              "</div>"
            ],
            "text/plain": [
              "           date   meantemp   humidity  wind_speed  meanpressure\n",
              "0    2017-01-01  15.913043  85.869565    2.743478     59.000000\n",
              "1    2017-01-02  18.500000  77.222222    2.894444   1018.277778\n",
              "2    2017-01-03  17.111111  81.888889    4.016667   1018.333333\n",
              "3    2017-01-04  18.700000  70.050000    4.545000   1015.700000\n",
              "4    2017-01-05  18.388889  74.944444    3.300000   1014.333333\n",
              "..          ...        ...        ...         ...           ...\n",
              "109  2017-04-20  34.500000  27.500000    5.562500    998.625000\n",
              "110  2017-04-21  34.250000  39.375000    6.962500    999.875000\n",
              "111  2017-04-22  32.900000  40.900000    8.890000   1001.600000\n",
              "112  2017-04-23  32.875000  27.500000    9.962500   1002.125000\n",
              "113  2017-04-24  32.000000  27.142857   12.157143   1004.142857\n",
              "\n",
              "[114 rows x 5 columns]"
            ]
          },
          "metadata": {
            "tags": []
          },
          "execution_count": 62
        }
      ]
    },
    {
      "cell_type": "code",
      "metadata": {
        "id": "4ftk6EtHsFwf",
        "outputId": "55ca9141-2c6a-454f-ae1c-e0dbc036fb94",
        "colab": {
          "base_uri": "https://localhost:8080/",
          "height": 402
        }
      },
      "source": [
        "timeseries_test=test.copy()\n",
        "timeseries_test[\"date\"].dtype\n",
        "timeseries_test[\"date\"]=pd.to_datetime(timeseries_test[\"date\"])\n",
        "timeseries_test.set_index(\"date\",inplace=True)\n",
        "timeseries_test\n",
        "\n",
        "test_data_temp=pd.DataFrame(list(timeseries_test[\"meantemp\"]),columns=[\"temp\"])\n",
        "test_data_temp"
      ],
      "execution_count": 63,
      "outputs": [
        {
          "output_type": "execute_result",
          "data": {
            "text/html": [
              "<div>\n",
              "<style scoped>\n",
              "    .dataframe tbody tr th:only-of-type {\n",
              "        vertical-align: middle;\n",
              "    }\n",
              "\n",
              "    .dataframe tbody tr th {\n",
              "        vertical-align: top;\n",
              "    }\n",
              "\n",
              "    .dataframe thead th {\n",
              "        text-align: right;\n",
              "    }\n",
              "</style>\n",
              "<table border=\"1\" class=\"dataframe\">\n",
              "  <thead>\n",
              "    <tr style=\"text-align: right;\">\n",
              "      <th></th>\n",
              "      <th>temp</th>\n",
              "    </tr>\n",
              "  </thead>\n",
              "  <tbody>\n",
              "    <tr>\n",
              "      <th>0</th>\n",
              "      <td>15.913043</td>\n",
              "    </tr>\n",
              "    <tr>\n",
              "      <th>1</th>\n",
              "      <td>18.500000</td>\n",
              "    </tr>\n",
              "    <tr>\n",
              "      <th>2</th>\n",
              "      <td>17.111111</td>\n",
              "    </tr>\n",
              "    <tr>\n",
              "      <th>3</th>\n",
              "      <td>18.700000</td>\n",
              "    </tr>\n",
              "    <tr>\n",
              "      <th>4</th>\n",
              "      <td>18.388889</td>\n",
              "    </tr>\n",
              "    <tr>\n",
              "      <th>...</th>\n",
              "      <td>...</td>\n",
              "    </tr>\n",
              "    <tr>\n",
              "      <th>109</th>\n",
              "      <td>34.500000</td>\n",
              "    </tr>\n",
              "    <tr>\n",
              "      <th>110</th>\n",
              "      <td>34.250000</td>\n",
              "    </tr>\n",
              "    <tr>\n",
              "      <th>111</th>\n",
              "      <td>32.900000</td>\n",
              "    </tr>\n",
              "    <tr>\n",
              "      <th>112</th>\n",
              "      <td>32.875000</td>\n",
              "    </tr>\n",
              "    <tr>\n",
              "      <th>113</th>\n",
              "      <td>32.000000</td>\n",
              "    </tr>\n",
              "  </tbody>\n",
              "</table>\n",
              "<p>114 rows × 1 columns</p>\n",
              "</div>"
            ],
            "text/plain": [
              "          temp\n",
              "0    15.913043\n",
              "1    18.500000\n",
              "2    17.111111\n",
              "3    18.700000\n",
              "4    18.388889\n",
              "..         ...\n",
              "109  34.500000\n",
              "110  34.250000\n",
              "111  32.900000\n",
              "112  32.875000\n",
              "113  32.000000\n",
              "\n",
              "[114 rows x 1 columns]"
            ]
          },
          "metadata": {
            "tags": []
          },
          "execution_count": 63
        }
      ]
    },
    {
      "cell_type": "code",
      "metadata": {
        "id": "zXp8PkqMsHYm"
      },
      "source": [
        "\n",
        "from sklearn.preprocessing import LabelEncoder, MinMaxScaler\n",
        "scaler=MinMaxScaler(feature_range=(-1,1))\n",
        "test_data_temp=scaler.fit_transform(test_data_temp)"
      ],
      "execution_count": 64,
      "outputs": []
    },
    {
      "cell_type": "code",
      "metadata": {
        "id": "Mo1dUlxZsI9W",
        "outputId": "57717d01-12fd-4295-e539-cb988f35a4e7",
        "colab": {
          "base_uri": "https://localhost:8080/"
        }
      },
      "source": [
        "steps=30\n",
        "X_test=[]\n",
        "Y_test=[]\n",
        "for i in range(len(test_data_temp)-steps):\n",
        "  X_test.append(test_data_temp[i:i+steps])\n",
        "  Y_test.append(test_data_temp[i+steps])\n",
        "X_test=np.array(X_test)\n",
        "Y_test=np.array(Y_test)\n",
        "\n",
        "print(X_test.shape)\n",
        "print(Y_test.shape)"
      ],
      "execution_count": 65,
      "outputs": [
        {
          "output_type": "stream",
          "text": [
            "(84, 30, 1)\n",
            "(84, 1)\n"
          ],
          "name": "stdout"
        }
      ]
    },
    {
      "cell_type": "code",
      "metadata": {
        "id": "kLex9PnCsKhv",
        "outputId": "6647e4ba-c717-4b06-be22-2ad8089c00b3",
        "colab": {
          "base_uri": "https://localhost:8080/"
        }
      },
      "source": [
        "X_test=np.array(X_test)\n",
        "Y_test=np.array(Y_test)\n",
        "\n",
        "print(X_test.shape)\n",
        "print(Y_test.shape)"
      ],
      "execution_count": 66,
      "outputs": [
        {
          "output_type": "stream",
          "text": [
            "(84, 30, 1)\n",
            "(84, 1)\n"
          ],
          "name": "stdout"
        }
      ]
    },
    {
      "cell_type": "code",
      "metadata": {
        "id": "qUhBXn6msMdM",
        "outputId": "d136c712-d5b3-4528-db86-fe66f549c82a",
        "colab": {
          "base_uri": "https://localhost:8080/"
        }
      },
      "source": [
        "model2=models.load_model(\"Models/model1_ts.h5\")\n",
        "\n",
        "temp_ts=model2.predict(X_test)\n",
        "temp_ts=scaler.inverse_transform(temp_ts)\n",
        "temp_ts"
      ],
      "execution_count": 67,
      "outputs": [
        {
          "output_type": "execute_result",
          "data": {
            "text/plain": [
              "array([[16.5468  ],\n",
              "       [17.149555],\n",
              "       [16.645927],\n",
              "       [17.436497],\n",
              "       [15.739906],\n",
              "       [16.204636],\n",
              "       [18.892931],\n",
              "       [16.577702],\n",
              "       [16.964073],\n",
              "       [15.891701],\n",
              "       [16.815353],\n",
              "       [16.3698  ],\n",
              "       [17.825586],\n",
              "       [17.033907],\n",
              "       [17.204517],\n",
              "       [17.824074],\n",
              "       [18.583744],\n",
              "       [18.207615],\n",
              "       [19.04844 ],\n",
              "       [19.917786],\n",
              "       [21.509396],\n",
              "       [21.611456],\n",
              "       [19.762861],\n",
              "       [18.384346],\n",
              "       [17.629728],\n",
              "       [19.527636],\n",
              "       [20.172989],\n",
              "       [19.60433 ],\n",
              "       [20.018713],\n",
              "       [20.525263],\n",
              "       [23.165108],\n",
              "       [23.193037],\n",
              "       [21.479528],\n",
              "       [20.636497],\n",
              "       [20.57512 ],\n",
              "       [21.603283],\n",
              "       [23.749954],\n",
              "       [22.472183],\n",
              "       [22.520998],\n",
              "       [21.12835 ],\n",
              "       [21.207203],\n",
              "       [18.112328],\n",
              "       [18.325731],\n",
              "       [19.821564],\n",
              "       [19.118061],\n",
              "       [19.73368 ],\n",
              "       [18.440342],\n",
              "       [21.828085],\n",
              "       [21.758833],\n",
              "       [22.017479],\n",
              "       [22.46705 ],\n",
              "       [24.7768  ],\n",
              "       [24.45926 ],\n",
              "       [26.611395],\n",
              "       [23.953032],\n",
              "       [26.961561],\n",
              "       [29.06233 ],\n",
              "       [28.691286],\n",
              "       [30.18179 ],\n",
              "       [27.807558],\n",
              "       [29.58415 ],\n",
              "       [30.487953],\n",
              "       [28.58114 ],\n",
              "       [27.056532],\n",
              "       [29.074797],\n",
              "       [26.53866 ],\n",
              "       [26.365839],\n",
              "       [26.428272],\n",
              "       [25.212404],\n",
              "       [28.256578],\n",
              "       [29.89067 ],\n",
              "       [30.287405],\n",
              "       [29.855028],\n",
              "       [31.428846],\n",
              "       [30.875776],\n",
              "       [29.462254],\n",
              "       [30.72907 ],\n",
              "       [32.831524],\n",
              "       [31.891634],\n",
              "       [32.670853],\n",
              "       [31.800283],\n",
              "       [33.056942],\n",
              "       [32.671486],\n",
              "       [31.657839]], dtype=float32)"
            ]
          },
          "metadata": {
            "tags": []
          },
          "execution_count": 67
        }
      ]
    },
    {
      "cell_type": "code",
      "metadata": {
        "id": "5CfMzZmJsOzi"
      },
      "source": [
        "temp_f=(temp_ts+temp_rs)/2\n",
        "temp_f\n",
        "\n",
        "Y_test_inv=scaler.inverse_transform(Y_test)\n"
      ],
      "execution_count": 68,
      "outputs": []
    },
    {
      "cell_type": "code",
      "metadata": {
        "id": "iPV94Df1sSD5",
        "outputId": "6f5bc864-cb18-454e-dc91-a1ad4e2cc931",
        "colab": {
          "base_uri": "https://localhost:8080/",
          "height": 560
        }
      },
      "source": [
        "import matplotlib.pyplot as plt\n",
        "plt.figure(figsize=(20,9))\n",
        "plt.plot(Y_test_inv , 'red', linewidth=5)\n",
        "plt.plot(temp_f,'blue' , linewidth=4)\n",
        "plt.xlabel(\"Time\", fontsize=20)\n",
        "plt.ylabel(\"Temperature (C)\", fontsize=20)\n",
        "plt.legend(('Test','Predicted'))\n",
        "plt.show()\n"
      ],
      "execution_count": 69,
      "outputs": [
        {
          "output_type": "display_data",
          "data": {
            "image/png": "[encoded data removed]",
            "text/plain": [
              "<Figure size 1440x648 with 1 Axes>"
            ]
          },
          "metadata": {
            "tags": [],
            "needs_background": "light"
          }
        }
      ]
    },
    {
      "cell_type": "code",
      "metadata": {
        "id": "X616A6g3sUdp"
      },
      "source": [
        "from sklearn.metrics import mean_squared_error, mean_absolute_error,accuracy_score\n",
        "from sklearn import metrics"
      ],
      "execution_count": 70,
      "outputs": []
    },
    {
      "cell_type": "code",
      "metadata": {
        "id": "DK5rQWAzsW_v",
        "outputId": "63e0c417-7b3b-447f-ec24-227022ce2f3d",
        "colab": {
          "base_uri": "https://localhost:8080/"
        }
      },
      "source": [
        "mse=mean_squared_error(Y_test_inv,temp_f,squared=False)\n",
        "mae=mean_absolute_error(Y_test_inv,temp_f)\n",
        "print(f'{mse} {mae} {metrics.r2_score(Y_test_inv,temp_f)}')"
      ],
      "execution_count": 71,
      "outputs": [
        {
          "output_type": "stream",
          "text": [
            "5.4755195812918664 4.534787757540751 0.13656428248553143\n"
          ],
          "name": "stdout"
        }
      ]
    },
    {
      "cell_type": "code",
      "metadata": {
        "id": "Il5Yia-dsZeK",
        "outputId": "bc5f82ba-29b2-48fb-ebac-bf87e7f897c3",
        "colab": {
          "base_uri": "https://localhost:8080/",
          "height": 560
        }
      },
      "source": [
        "import matplotlib.pyplot as plt\n",
        "plt.figure(figsize=(10,9))\n",
        "plt.plot(Y_test_inv , 'red', linewidth=5)\n",
        "plt.plot(temp_ts,'blue' , linewidth=4)\n",
        "# plt.plot(temp_rs , 'black', linewidth=5)\n",
        "plt.xlabel(\"Time\", fontsize=20)\n",
        "plt.ylabel(\"Temperature (C)\", fontsize=20)\n",
        "plt.legend(('Test','RNN','Regression'))\n",
        "plt.show()"
      ],
      "execution_count": 74,
      "outputs": [
        {
          "output_type": "display_data",
          "data": {
            "image/png": "[encoded data removed]",
            "text/plain": [
              "<Figure size 720x648 with 1 Axes>"
            ]
          },
          "metadata": {
            "tags": [],
            "needs_background": "light"
          }
        }
      ]
    },
    {
      "cell_type": "code",
      "metadata": {
        "id": "0QWAckpAsgPj"
      },
      "source": [
        ""
      ],
      "execution_count": null,
      "outputs": []
    }
  ]
}